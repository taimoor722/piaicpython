{
 "cells": [
  {
   "cell_type": "raw",
   "metadata": {},
   "source": [
    "#list #tuple #loop"
   ]
  },
  {
   "cell_type": "raw",
   "metadata": {},
   "source": [
    "#in list we can  add both hetrogeneous and homogeneous data types,mutable data \n",
    "#tuple data in it immutable data we can't update it \n",
    "#loop ony (for) and (while) loop\n",
    "#(else block)can also be use with (for) and (while)"
   ]
  },
  {
   "cell_type": "raw",
   "metadata": {},
   "source": [
    "list--------data base word is also came from list"
   ]
  },
  {
   "cell_type": "code",
   "execution_count": 1,
   "metadata": {},
   "outputs": [
    {
     "data": {
      "text/plain": [
       "['__add__',\n",
       " '__class__',\n",
       " '__contains__',\n",
       " '__delattr__',\n",
       " '__delitem__',\n",
       " '__dir__',\n",
       " '__doc__',\n",
       " '__eq__',\n",
       " '__format__',\n",
       " '__ge__',\n",
       " '__getattribute__',\n",
       " '__getitem__',\n",
       " '__gt__',\n",
       " '__hash__',\n",
       " '__iadd__',\n",
       " '__imul__',\n",
       " '__init__',\n",
       " '__init_subclass__',\n",
       " '__iter__',\n",
       " '__le__',\n",
       " '__len__',\n",
       " '__lt__',\n",
       " '__mul__',\n",
       " '__ne__',\n",
       " '__new__',\n",
       " '__reduce__',\n",
       " '__reduce_ex__',\n",
       " '__repr__',\n",
       " '__reversed__',\n",
       " '__rmul__',\n",
       " '__setattr__',\n",
       " '__setitem__',\n",
       " '__sizeof__',\n",
       " '__str__',\n",
       " '__subclasshook__',\n",
       " 'append',\n",
       " 'clear',\n",
       " 'copy',\n",
       " 'count',\n",
       " 'extend',\n",
       " 'index',\n",
       " 'insert',\n",
       " 'pop',\n",
       " 'remove',\n",
       " 'reverse',\n",
       " 'sort']"
      ]
     },
     "execution_count": 1,
     "metadata": {},
     "output_type": "execute_result"
    }
   ],
   "source": [
    "dir(list)"
   ]
  },
  {
   "cell_type": "code",
   "execution_count": 2,
   "metadata": {},
   "outputs": [
    {
     "data": {
      "text/plain": [
       "46"
      ]
     },
     "execution_count": 2,
     "metadata": {},
     "output_type": "execute_result"
    }
   ],
   "source": [
    "len(dir(list))"
   ]
  },
  {
   "cell_type": "markdown",
   "metadata": {},
   "source": [
    "# List Methods"
   ]
  },
  {
   "cell_type": "code",
   "execution_count": 3,
   "metadata": {},
   "outputs": [
    {
     "name": "stdout",
     "output_type": "stream",
     "text": [
      "['i', 'o', 'p']\n"
     ]
    }
   ],
   "source": [
    "name=['i','o','p']\n",
    "print(name)"
   ]
  },
  {
   "cell_type": "code",
   "execution_count": 4,
   "metadata": {},
   "outputs": [
    {
     "data": {
      "text/plain": [
       "'i'"
      ]
     },
     "execution_count": 4,
     "metadata": {},
     "output_type": "execute_result"
    }
   ],
   "source": [
    "name[0] #indexing"
   ]
  },
  {
   "cell_type": "code",
   "execution_count": 5,
   "metadata": {},
   "outputs": [
    {
     "data": {
      "text/plain": [
       "['i', 'o', 'p']"
      ]
     },
     "execution_count": 5,
     "metadata": {},
     "output_type": "execute_result"
    }
   ],
   "source": [
    "name[0:3:] #slicing"
   ]
  },
  {
   "cell_type": "code",
   "execution_count": 7,
   "metadata": {},
   "outputs": [
    {
     "data": {
      "text/plain": [
       "['p', [1, 2, 3]]"
      ]
     },
     "execution_count": 7,
     "metadata": {},
     "output_type": "execute_result"
    }
   ],
   "source": [
    "#append ---u can enter in last as one entry, if appending list of n length then it will only increase list by 1 lenth\n",
    "names =['p']\n",
    "names.append([1,2,3])\n",
    "names"
   ]
  },
  {
   "cell_type": "code",
   "execution_count": 9,
   "metadata": {},
   "outputs": [
    {
     "data": {
      "text/plain": [
       "['p', 1, 2, 3]"
      ]
     },
     "execution_count": 9,
     "metadata": {},
     "output_type": "execute_result"
    }
   ],
   "source": [
    "#extend--- it extend list but in this if extend contain list it will be extend in to n no of entries so length increase by n length\n",
    "names=['p']\n",
    "names.extend([1,2,3]) #this is in-memory operation\n",
    "names\n",
    "\n",
    "#names + [1,2,3] this is inline opration"
   ]
  },
  {
   "cell_type": "code",
   "execution_count": 10,
   "metadata": {},
   "outputs": [
    {
     "data": {
      "text/plain": [
       "[]"
      ]
     },
     "execution_count": 10,
     "metadata": {},
     "output_type": "execute_result"
    }
   ],
   "source": [
    "#clear--- it empty the list permenantly\n",
    "names.clear()\n",
    "names"
   ]
  },
  {
   "cell_type": "code",
   "execution_count": 12,
   "metadata": {},
   "outputs": [],
   "source": [
    "#shallow copy\n",
    "names=['a','b','c']\n",
    "names1=names #looks like two different varaible but any change in names will change names1 also \n",
    "#this means that names1 and names are two name of same list \n",
    "#any thing happen to names1 will happen to names also and vise versa\n",
    "#so it is shallow copy---due to which change in one will cause change in other \n",
    "\n",
    "\n"
   ]
  },
  {
   "cell_type": "code",
   "execution_count": 13,
   "metadata": {},
   "outputs": [],
   "source": [
    "# deep copy\n",
    "names=['a','b','c']\n",
    "names1=names.copy() #now this is deep copy\n",
    "#now any change in names1 will not effect other varailbe\n",
    "#now we have two different lists\n"
   ]
  },
  {
   "cell_type": "code",
   "execution_count": 14,
   "metadata": {},
   "outputs": [
    {
     "data": {
      "text/plain": [
       "3"
      ]
     },
     "execution_count": 14,
     "metadata": {},
     "output_type": "execute_result"
    }
   ],
   "source": [
    "#count()\n",
    "names = [1,2,3,'a','b','c','d','a','a']\n",
    "\n",
    "names.count('a')"
   ]
  },
  {
   "cell_type": "code",
   "execution_count": 16,
   "metadata": {},
   "outputs": [
    {
     "data": {
      "text/plain": [
       "0"
      ]
     },
     "execution_count": 16,
     "metadata": {},
     "output_type": "execute_result"
    }
   ],
   "source": [
    "#can we find data type length like how manyintegers are in list and how many  string are in list\n",
    "#names.count()  <----what to put in count()"
   ]
  },
  {
   "cell_type": "code",
   "execution_count": 18,
   "metadata": {},
   "outputs": [
    {
     "name": "stdout",
     "output_type": "stream",
     "text": [
      "None\n"
     ]
    }
   ],
   "source": [
    "#extend is non-retunr method\n",
    "l1=[1,2,3]\n",
    "l2=l1.extend([6,6,6,]) #so it is non return method  means it does not retun value due to which l2 has nothing to stroe because nothing is retunred\n",
    "print(l2)"
   ]
  },
  {
   "cell_type": "code",
   "execution_count": 20,
   "metadata": {},
   "outputs": [
    {
     "data": {
      "text/plain": [
       "1"
      ]
     },
     "execution_count": 20,
     "metadata": {},
     "output_type": "execute_result"
    }
   ],
   "source": [
    "#index----it will only retun 1st value\n",
    "names=['a','c','d','c']\n",
    "names.index('c')"
   ]
  },
  {
   "cell_type": "code",
   "execution_count": 24,
   "metadata": {},
   "outputs": [
    {
     "data": {
      "text/plain": [
       "3"
      ]
     },
     "execution_count": 24,
     "metadata": {},
     "output_type": "execute_result"
    }
   ],
   "source": [
    "#if we want to find second 'c'\n",
    "#we will find 2nd value index by using 1st vlaue index\n",
    "names.index('c',2)  #so it will start searching from 2 index  and we can also add third ,index as stop "
   ]
  },
  {
   "cell_type": "code",
   "execution_count": 36,
   "metadata": {},
   "outputs": [
    {
     "data": {
      "text/plain": [
       "[1, 1]"
      ]
     },
     "execution_count": 36,
     "metadata": {},
     "output_type": "execute_result"
    }
   ],
   "source": [
    "l1=[]\n",
    "l1.append(1)  #without bracket \n",
    "l1.extend([1]) #with brackets work only\n",
    "l1"
   ]
  },
  {
   "cell_type": "code",
   "execution_count": 39,
   "metadata": {},
   "outputs": [
    {
     "data": {
      "text/plain": [
       "['pakistan', 'pakistan', 'pakistan', 1, 1]"
      ]
     },
     "execution_count": 39,
     "metadata": {},
     "output_type": "execute_result"
    }
   ],
   "source": [
    "#insert----append does not enter on specific index so we use insert giving specific index\n",
    "l1.insert(0,'pakistan')\n",
    "l1"
   ]
  },
  {
   "cell_type": "code",
   "execution_count": 42,
   "metadata": {},
   "outputs": [
    {
     "data": {
      "text/plain": [
       "'c'"
      ]
     },
     "execution_count": 42,
     "metadata": {},
     "output_type": "execute_result"
    }
   ],
   "source": [
    "#pop-- it will remove last entry and we can even store it in some other varaible \n",
    "#pop-- so pop is retun method\n",
    "#pop remove and as well as retrun value \n",
    "l1=['a','b','c','d']\n",
    "l2=l1.pop() #pop() retunr value\n",
    "l2\n",
    "l1.pop(2) #we can use index inside pop(index) to remove this will remove value and we can store it in some other "
   ]
  },
  {
   "cell_type": "code",
   "execution_count": 44,
   "metadata": {},
   "outputs": [],
   "source": [
    "#delete-- it delete but does not return and you can delete any index value \n",
    "l1=[1,2,3,4,5]\n",
    "del l1[0] #we can't store it  like l2= del l1[0]"
   ]
  },
  {
   "cell_type": "code",
   "execution_count": 46,
   "metadata": {},
   "outputs": [
    {
     "data": {
      "text/plain": [
       "['a', 'c', 'b']"
      ]
     },
     "execution_count": 46,
     "metadata": {},
     "output_type": "execute_result"
    }
   ],
   "source": [
    "#what is we don't know index of value and we want to remove it\n",
    "#what if we want to remove without knowing index\n",
    "\n",
    "#remove(value) ---but it remove first value\n",
    "\n",
    "l1=['a','b','c','b']\n",
    "l1.remove('b')  #in-memory operation\n",
    "l1\n",
    "#benfit of remove(value) is that we don't need to know index\n",
    "#we can't pass in index init only value on index can be passed in\n"
   ]
  },
  {
   "cell_type": "code",
   "execution_count": 49,
   "metadata": {},
   "outputs": [
    {
     "data": {
      "text/plain": [
       "['c', 'b', 'a', 4, 3, 2, 1]"
      ]
     },
     "execution_count": 49,
     "metadata": {},
     "output_type": "execute_result"
    }
   ],
   "source": [
    "#revers\n",
    "l1=[1,2,3,4,'a','b','c']\n",
    "l1.reverse() #it will convert into left to right #it is in-memory\n",
    "l1"
   ]
  },
  {
   "cell_type": "code",
   "execution_count": 50,
   "metadata": {},
   "outputs": [
    {
     "data": {
      "text/plain": [
       "['a', 'b', 'c', 'd', 'x']"
      ]
     },
     "execution_count": 50,
     "metadata": {},
     "output_type": "execute_result"
    }
   ],
   "source": [
    "#sort\n",
    "l1=['a','c','x','b','d']\n",
    "l1.sort() #accending order \n",
    "l1"
   ]
  },
  {
   "cell_type": "code",
   "execution_count": 53,
   "metadata": {},
   "outputs": [
    {
     "data": {
      "text/plain": [
       "['x', 'd', 'c', 'b', 'a']"
      ]
     },
     "execution_count": 53,
     "metadata": {},
     "output_type": "execute_result"
    }
   ],
   "source": [
    "#decending order\n",
    "\n",
    "l1=['a','c','x','b','d']\n",
    "l1.sort()\n",
    "l1.reverse()\n",
    "l1"
   ]
  },
  {
   "cell_type": "code",
   "execution_count": 55,
   "metadata": {},
   "outputs": [
    {
     "data": {
      "text/plain": [
       "['x', 'd', 'c', 'b', 'a']"
      ]
     },
     "execution_count": 55,
     "metadata": {},
     "output_type": "execute_result"
    }
   ],
   "source": [
    "#sort benefit\n",
    "#we can give argument inside sort that make reverse=True so now we have sort in decending order\n",
    "l1=['a','c','x','b','d']\n",
    "l1.sort(reverse=True)\n",
    "l1"
   ]
  },
  {
   "cell_type": "code",
   "execution_count": 56,
   "metadata": {},
   "outputs": [
    {
     "data": {
      "text/plain": [
       "['a', 'c', 'x', 'b', 'd', 'D', 'E']"
      ]
     },
     "execution_count": 56,
     "metadata": {},
     "output_type": "execute_result"
    }
   ],
   "source": [
    "l1=['a','c','x','b','d']\n",
    "l1.__add__(['D','E']) #in-line operation"
   ]
  },
  {
   "cell_type": "code",
   "execution_count": 57,
   "metadata": {},
   "outputs": [
    {
     "data": {
      "text/plain": [
       "['a', 'c', 'x', 'b', 'd']"
      ]
     },
     "execution_count": 57,
     "metadata": {},
     "output_type": "execute_result"
    }
   ],
   "source": [
    "l1  #look l1 did not updated similarly l1+['D','E']  --- this is also in-line operation"
   ]
  },
  {
   "cell_type": "code",
   "execution_count": 58,
   "metadata": {},
   "outputs": [
    {
     "data": {
      "text/plain": [
       "list"
      ]
     },
     "execution_count": 58,
     "metadata": {},
     "output_type": "execute_result"
    }
   ],
   "source": [
    "#__class__\n",
    "l1=['a','b','c']\n",
    "l1.__class__"
   ]
  },
  {
   "cell_type": "code",
   "execution_count": 60,
   "metadata": {
    "scrolled": true
   },
   "outputs": [
    {
     "name": "stdout",
     "output_type": "stream",
     "text": [
      "True\n",
      "True\n"
     ]
    }
   ],
   "source": [
    "#__contains__\n",
    "\n",
    "print(l1.__contains__('a'))\n",
    "\n",
    "#other method -- we read in previous lectures\n",
    "\n",
    "print('a' in l1)"
   ]
  },
  {
   "cell_type": "code",
   "execution_count": 61,
   "metadata": {},
   "outputs": [],
   "source": [
    "#__doc__   shift+tab"
   ]
  },
  {
   "cell_type": "code",
   "execution_count": 62,
   "metadata": {},
   "outputs": [
    {
     "name": "stdout",
     "output_type": "stream",
     "text": [
      "True\n",
      "False\n"
     ]
    }
   ],
   "source": [
    "# listname.__eq__(listname)  #equal checking\n",
    "l1=['a','c','x','b','d']\n",
    "l2=['a','c','x','b','d']\n",
    "l3=['a','c']\n",
    "print(l1.__eq__(l2))\n",
    "print(l2.__eq__(l3))"
   ]
  },
  {
   "cell_type": "code",
   "execution_count": 73,
   "metadata": {},
   "outputs": [
    {
     "name": "stdout",
     "output_type": "stream",
     "text": [
      "False\n",
      "True\n"
     ]
    }
   ],
   "source": [
    "#list.__ge__(list) greater then or equal \n",
    "\n",
    "print([1,2,100,].__ge__([3,0,100000]))\n",
    "print([3,0,100000].__ge__([1,2,100]))  #"
   ]
  },
  {
   "cell_type": "markdown",
   "metadata": {},
   "source": [
    "# LOOP"
   ]
  },
  {
   "cell_type": "code",
   "execution_count": null,
   "metadata": {},
   "outputs": [],
   "source": [
    "#if want to do repetation then use loop\n",
    "#if want to stop use funtion"
   ]
  },
  {
   "cell_type": "code",
   "execution_count": 74,
   "metadata": {},
   "outputs": [
    {
     "data": {
      "text/plain": [
       "['pakistan',\n",
       " 'pakistan',\n",
       " 'pakistan',\n",
       " 'pakistan',\n",
       " 'pakistan',\n",
       " 'pakistan',\n",
       " 'pakistan',\n",
       " 'pakistan',\n",
       " 'pakistan',\n",
       " 'pakistan']"
      ]
     },
     "execution_count": 74,
     "metadata": {},
     "output_type": "execute_result"
    }
   ],
   "source": [
    "['pakistan']*10  "
   ]
  },
  {
   "cell_type": "raw",
   "metadata": {},
   "source": [
    "#counter \n",
    "#logic\n",
    "#Increment /Decrement\n",
    "1.while\n",
    "2.for"
   ]
  },
  {
   "cell_type": "code",
   "execution_count": 76,
   "metadata": {},
   "outputs": [
    {
     "name": "stdout",
     "output_type": "stream",
     "text": [
      "1 Pakistan\n",
      "2 Pakistan\n",
      "3 Pakistan\n",
      "4 Pakistan\n",
      "5 Pakistan\n",
      "6 Pakistan\n",
      "7 Pakistan\n",
      "8 Pakistan\n",
      "9 Pakistan\n",
      "10 Pakistan\n"
     ]
    }
   ],
   "source": [
    "counter = 1\n",
    "#while boolenexpressioncheck\n",
    "while counter <=10:  #in while loop  while loop check boolen exprecion and if True then run loop if false then stop \n",
    "    print(f'{counter} Pakistan')\n",
    "    counter+=1"
   ]
  },
  {
   "cell_type": "code",
   "execution_count": 77,
   "metadata": {},
   "outputs": [
    {
     "name": "stdout",
     "output_type": "stream",
     "text": [
      "1 Pakistan\n",
      "2 Pakistan\n",
      "3 Pakistan\n",
      "4 Pakistan\n",
      "5 Pakistan\n",
      "6 Pakistan\n",
      "7 Pakistan\n",
      "8 Pakistan\n",
      "9 Pakistan\n",
      "10 Pakistan\n"
     ]
    }
   ],
   "source": [
    "c  #for loop does not need logic it use funtion like range,list,tuple and pick values from them and for loop wil run as long as length of list,tuple,range\n",
    "    print(f\"{i} Pakistan\")"
   ]
  },
  {
   "cell_type": "markdown",
   "metadata": {},
   "source": [
    "# for i in range() #press shift+tab to see what to put inside brackets of range()"
   ]
  },
  {
   "cell_type": "code",
   "execution_count": 99,
   "metadata": {},
   "outputs": [
    {
     "ename": "SyntaxError",
     "evalue": "invalid syntax (<ipython-input-99-6e233001bd03>, line 1)",
     "output_type": "error",
     "traceback": [
      "\u001b[1;36m  File \u001b[1;32m\"<ipython-input-99-6e233001bd03>\"\u001b[1;36m, line \u001b[1;32m1\u001b[0m\n\u001b[1;33m    'pakistan'for i in range(1,11)\u001b[0m\n\u001b[1;37m                ^\u001b[0m\n\u001b[1;31mSyntaxError\u001b[0m\u001b[1;31m:\u001b[0m invalid syntax\n"
     ]
    }
   ],
   "source": [
    "'pakistan'for i in range(1,11)]"
   ]
  },
  {
   "cell_type": "markdown",
   "metadata": {},
   "source": [
    "# TUPLE"
   ]
  },
  {
   "cell_type": "code",
   "execution_count": null,
   "metadata": {},
   "outputs": [],
   "source": []
  },
  {
   "cell_type": "markdown",
   "metadata": {},
   "source": [
    "# application\n",
    "#name\n",
    "#father name\n",
    "#contact number\n",
    "#then ask do you want to add more values\n",
    "#if say no so program stop and print"
   ]
  },
  {
   "cell_type": "code",
   "execution_count": 113,
   "metadata": {},
   "outputs": [
    {
     "name": "stdout",
     "output_type": "stream",
     "text": [
      "please enter name of student : taimoor\n",
      "please enter father name:arif\n",
      "inter phone number:041\n",
      "press--> y to enter more or --> n to stop :y\n",
      "please enter name of student : taimoor\n",
      "please enter father name:ali\n",
      "inter phone number:222222222\n",
      "press--> y to enter more or --> n to stop :n\n",
      "[{'contactno': '041', 'father': 'arif', 'name': 'taimoor', 'register_no': 0},\n",
      " {'contactno': '222222222',\n",
      "  'father': 'ali',\n",
      "  'name': 'taimoor',\n",
      "  'register_no': 1}]\n"
     ]
    }
   ],
   "source": [
    "import pprint\n",
    "\n",
    "register=list()\n",
    "rn =0\n",
    "more='y'\n",
    "\n",
    "while more=='y':\n",
    "    name=input('please enter name of student : ')\n",
    "    father=input('please enter father name:')\n",
    "    contactno=(input('inter phone number:'))\n",
    "    register.append({'register_no':rn,'name':name,'father':father,'contactno':contactno,})\n",
    "    rn+=1\n",
    "    more=input('press--> y to enter more or --> n to stop :')\n",
    "pprint.pprint(register)\n",
    "\n",
    "\n",
    "\n",
    "\n"
   ]
  },
  {
   "cell_type": "markdown",
   "metadata": {},
   "source": [
    "# print 1000 to 990 with while and for loop"
   ]
  },
  {
   "cell_type": "code",
   "execution_count": 108,
   "metadata": {},
   "outputs": [
    {
     "name": "stdout",
     "output_type": "stream",
     "text": [
      "1000\n",
      "999\n",
      "998\n",
      "997\n",
      "996\n",
      "995\n",
      "994\n",
      "993\n",
      "992\n",
      "991\n",
      "990\n"
     ]
    }
   ],
   "source": [
    "x=1000\n",
    "while x!=989:\n",
    "    print(x)\n",
    "    x-=1"
   ]
  },
  {
   "cell_type": "code",
   "execution_count": 110,
   "metadata": {},
   "outputs": [
    {
     "name": "stdout",
     "output_type": "stream",
     "text": [
      "1000\n",
      "999\n",
      "998\n",
      "997\n",
      "996\n",
      "995\n",
      "994\n",
      "993\n",
      "992\n",
      "991\n",
      "990\n"
     ]
    }
   ],
   "source": [
    "x=1000\n",
    "for i in range(990,1001):\n",
    "    print(x)\n",
    "    x-=1"
   ]
  },
  {
   "cell_type": "raw",
   "metadata": {},
   "source": [
    "#task2\n",
    "65-90\n",
    "97-122\n",
    "48-75\n"
   ]
  },
  {
   "cell_type": "code",
   "execution_count": 125,
   "metadata": {},
   "outputs": [
    {
     "name": "stdout",
     "output_type": "stream",
     "text": [
      "L\n",
      "M\n",
      "N\n",
      "O\n",
      "P\n",
      "Q\n",
      "R\n",
      "S\n",
      "T\n",
      "U\n",
      "V\n",
      "W\n",
      "X\n",
      "Y\n",
      "a\n",
      "b\n",
      "c\n",
      "d\n",
      "e\n",
      "f\n",
      "g\n",
      "h\n",
      "i\n",
      "j\n",
      "k\n",
      "l\n",
      "m\n",
      "n\n",
      "o\n",
      "p\n",
      "q\n",
      "r\n",
      "s\n",
      "t\n",
      "u\n",
      "v\n",
      "w\n",
      "x\n",
      "y\n",
      "0\n",
      "1\n",
      "2\n",
      "3\n",
      "4\n",
      "5\n",
      "6\n",
      "7\n",
      "8\n",
      "9\n",
      ":\n",
      ";\n",
      "<\n",
      "=\n",
      ">\n",
      "?\n",
      "@\n",
      "A\n",
      "B\n",
      "C\n",
      "D\n",
      "E\n",
      "F\n",
      "G\n",
      "H\n",
      "I\n",
      "J\n"
     ]
    }
   ],
   "source": [
    "li=[(76,90),(97,122),(48,75)]\n",
    "for i in li:\n",
    "    for j in range(i[0],i[1]):\n",
    "        print(chr(j))\n",
    "    "
   ]
  },
  {
   "cell_type": "markdown",
   "metadata": {},
   "source": [
    "# take input from user\n",
    "if user enter 3\n",
    "\n",
    "then your output:\n",
    "1 x1= 2x1=  3x1="
   ]
  },
  {
   "cell_type": "code",
   "execution_count": null,
   "metadata": {},
   "outputs": [],
   "source": [
    "a=int(input('enter number:'))\n",
    "l1=[]\n",
    "length=1\n",
    "for i in range (1,a+1):\n",
    "  l1.append(i)\n",
    "for i in range(1,11):\n",
    "    for i in l1:\n",
    "        \n",
    "        print(f'{i} x {length}= {i*length}',end='   ||  ')\n",
    "    length+=1\n",
    "    print('')\n",
    "    "
   ]
  },
  {
   "cell_type": "markdown",
   "metadata": {},
   "source": [
    "# task 3"
   ]
  },
  {
   "cell_type": "code",
   "execution_count": 146,
   "metadata": {},
   "outputs": [
    {
     "name": "stdout",
     "output_type": "stream",
     "text": [
      "5 is divisibale by 5\n",
      "10 is divisibale by 5\n",
      "10 is divisibale by 10\n",
      "20 is divisibale by 5\n",
      "20 is divisibale by 10\n",
      "30 is divisibale by 5\n",
      "30 is divisibale by 10\n",
      "35 is divisibale by 5\n",
      "20 is divisibale by 5\n",
      "20 is divisibale by 10\n"
     ]
    }
   ],
   "source": [
    "#5\n",
    "#7\n",
    "#10\n",
    "l1=[[2,5,9],[8,9,10],[20,30,27],[35,9,20]]\n",
    "\n",
    "for i in l1:\n",
    "    for j in i:\n",
    "        if j%5==0:\n",
    "            print(f'{j} is divisibale by 5')\n",
    "            if j%10==0:\n",
    "                print(f'{j} is divisibale by 10')\n",
    "        elif j%7==0:\n",
    "            print(f'{j} is divisibale by 7')\n",
    "        \n",
    "            \n",
    "    "
   ]
  },
  {
   "cell_type": "code",
   "execution_count": 148,
   "metadata": {},
   "outputs": [
    {
     "name": "stdout",
     "output_type": "stream",
     "text": [
      "20 is divisibale by 5 its index is 0\n",
      "20 is divisibale by 5 its index is 1\n",
      "20 is divisibale by 5 its index is 2\n",
      "20 is divisibale by 5 its index is 3\n"
     ]
    }
   ],
   "source": [
    "# 5 divisible\n",
    "l1=[[2,5,9],[8,9,10],[20,30,27],[35,9,20]]\n",
    "\n",
    "for c,i in enumerate(l1):\n",
    "    if j%5==0:\n",
    "            print(f'{j} is divisibale by 5 its index is {c}')\n",
    "            \n",
    "        \n",
    "            "
   ]
  },
  {
   "cell_type": "code",
   "execution_count": null,
   "metadata": {},
   "outputs": [],
   "source": [
    "print('press 1 if you goto girl \\n press 2 is your friend goto her \\n press 3 if girl come to you \\n')\n",
    "x=int(input('now enter as per situation :'))\n",
    "\n",
    "if x==1:\n",
    "    print('***thats Direct Marketing***')\n",
    "    print('''select what you would say \\n--- now if you say marry me i am very rich and she slaps you press1 \\n---now if you say marry me but she introduce you to her husband press2\\n---now before you even say your wife come press 4''')\n",
    "    y=int(input('now press:'))\n",
    "    if y==1:\n",
    "        print('***thats customer feed back***')\n",
    "    if y==2:\n",
    "        print('***thats cdemand and supply***')\n",
    "    if y==3:\n",
    "        print('***that restriction from entering into new market***')\n",
    "if x==2:\n",
    "    print('thats Advertisment')\n",
    "    print('''select what you would say \\n--- now if you say marry me i am very rich and she slaps you press1 \\n---now if you say marry me but she introduce you to her husband press2\\n---now before you even say your wife come press 4''')\n",
    "\n",
    "    y=int(input('now press:'))\n",
    "    if y==1:\n",
    "        print('***thats customer feed back***')\n",
    "    if y==2:\n",
    "        print('***thats cdemand and supply***')\n",
    "    if y==3:\n",
    "        print('***that restriction from entering into new market***')\n",
    "if x==3:\n",
    "    print('****thats Brand recognition****')\n",
    "    print('''select what you would say \\n--- now if you say marry me i am very rich and she slaps you press1 \\n---now if you say marry me but she introduce you to her husband press2\\n---now before you even say your wife come press 4''')\n",
    "    y=int(input('now press:'))\n",
    "    if y==1:\n",
    "        print('***thats customer feed back***')\n",
    "    if y==2:\n",
    "        print('***thats cdemand and supply***')\n",
    "    if y==3:\n",
    "        print('***that restriction from entering into new market***')\n",
    "\n"
   ]
  },
  {
   "cell_type": "code",
   "execution_count": null,
   "metadata": {},
   "outputs": [],
   "source": []
  },
  {
   "cell_type": "code",
   "execution_count": null,
   "metadata": {},
   "outputs": [],
   "source": []
  }
 ],
 "metadata": {
  "kernelspec": {
   "display_name": "Python 3",
   "language": "python",
   "name": "python3"
  },
  "language_info": {
   "codemirror_mode": {
    "name": "ipython",
    "version": 3
   },
   "file_extension": ".py",
   "mimetype": "text/x-python",
   "name": "python",
   "nbconvert_exporter": "python",
   "pygments_lexer": "ipython3",
   "version": "3.7.3"
  }
 },
 "nbformat": 4,
 "nbformat_minor": 2
}
