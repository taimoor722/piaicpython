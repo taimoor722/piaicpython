{
 "cells": [
  {
   "cell_type": "code",
   "execution_count": 42,
   "metadata": {},
   "outputs": [],
   "source": [
    "x='0xA2G' #it has 0-9 A-F ------- base=16 for hex\n",
    "xx='0o027'  #it has 0-7 -------- base=8 for octa\n",
    "xxx='0b10110' #it has 0-1 ------ base=2 for binary\n",
    "\n",
    "#if base does not match with formate string it give value error"
   ]
  },
  {
   "cell_type": "code",
   "execution_count": 43,
   "metadata": {},
   "outputs": [
    {
     "data": {
      "text/plain": [
       "22"
      ]
     },
     "execution_count": 43,
     "metadata": {},
     "output_type": "execute_result"
    }
   ],
   "source": [
    "int(xxx,base=2) #convert any type formate oct,hex,binary into decimal but it has to be in quoted from means string\n",
    "#here i converted hex format straight into decimal"
   ]
  },
  {
   "cell_type": "code",
   "execution_count": 61,
   "metadata": {},
   "outputs": [
    {
     "name": "stdout",
     "output_type": "stream",
     "text": [
      "=>10110\n"
     ]
    }
   ],
   "source": [
    "binary=input('=>')"
   ]
  },
  {
   "cell_type": "markdown",
   "metadata": {},
   "source": [
    "#https://www.python.org/dev/peps/pep-0498/"
   ]
  },
  {
   "cell_type": "code",
   "execution_count": 109,
   "metadata": {},
   "outputs": [
    {
     "name": "stdout",
     "output_type": "stream",
     "text": [
      "**22**This is from for loop\n",
      "22   This is from int() function\n"
     ]
    }
   ],
   "source": [
    "import math\n",
    "decimal=int()\n",
    "for bite,zero_one in enumerate(list(binary[-1::-1])):\n",
    "    decimal+=int(zero_one)*math.pow(2,bite)\n",
    "print('{:*^6.0f}This is from for loop'.format(decimal))\n",
    "print('%-5.2dThis is from int() function'%(int(binary,base=2)))"
   ]
  },
  {
   "cell_type": "code",
   "execution_count": 115,
   "metadata": {},
   "outputs": [
    {
     "data": {
      "text/plain": [
       "1576"
      ]
     },
     "execution_count": 115,
     "metadata": {},
     "output_type": "execute_result"
    }
   ],
   "source": [
    "ord('ب')"
   ]
  },
  {
   "cell_type": "code",
   "execution_count": 122,
   "metadata": {},
   "outputs": [
    {
     "data": {
      "text/plain": [
       "'﷽'"
      ]
     },
     "execution_count": 122,
     "metadata": {},
     "output_type": "execute_result"
    }
   ],
   "source": [
    "chr(int('fdfd',base=16))"
   ]
  },
  {
   "cell_type": "code",
   "execution_count": 125,
   "metadata": {},
   "outputs": [
    {
     "data": {
      "text/plain": [
       "('♞', 9822)"
      ]
     },
     "execution_count": 125,
     "metadata": {},
     "output_type": "execute_result"
    }
   ],
   "source": [
    "chr(int('265e',base=16)),int('265e',base=16)"
   ]
  },
  {
   "cell_type": "code",
   "execution_count": 130,
   "metadata": {},
   "outputs": [
    {
     "data": {
      "text/plain": [
       "'a'"
      ]
     },
     "execution_count": 130,
     "metadata": {},
     "output_type": "execute_result"
    }
   ],
   "source": [
    "chr(int('0061',base=16))"
   ]
  },
  {
   "cell_type": "code",
   "execution_count": 260,
   "metadata": {},
   "outputs": [
    {
     "data": {
      "text/plain": [
       "('0b10', '0x2', '0o2')"
      ]
     },
     "execution_count": 260,
     "metadata": {},
     "output_type": "execute_result"
    }
   ],
   "source": [
    "bin(2),hex(2),oct(2)  #put directly decimal to convert to any "
   ]
  },
  {
   "cell_type": "code",
   "execution_count": 263,
   "metadata": {},
   "outputs": [
    {
     "data": {
      "text/plain": [
       "('0x2', '0o2')"
      ]
     },
     "execution_count": 263,
     "metadata": {},
     "output_type": "execute_result"
    }
   ],
   "source": [
    "hex(0b10),oct(0b10) #put directly any to conver into any"
   ]
  },
  {
   "cell_type": "code",
   "execution_count": 265,
   "metadata": {},
   "outputs": [
    {
     "data": {
      "text/plain": [
       "'0x2'"
      ]
     },
     "execution_count": 265,
     "metadata": {},
     "output_type": "execute_result"
    }
   ],
   "source": [
    "hex(0o2) #put oct code get hex directly"
   ]
  },
  {
   "cell_type": "raw",
   "metadata": {},
   "source": [
    "now we have \n",
    "bin(x)\n",
    "int(x,base=)\n",
    "oct(x)\n",
    "hex(x)\n",
    "x can be any format either binary,integer,oct,hex"
   ]
  },
  {
   "cell_type": "code",
   "execution_count": 295,
   "metadata": {},
   "outputs": [
    {
     "name": "stdout",
     "output_type": "stream",
     "text": [
      "-1\n"
     ]
    }
   ],
   "source": [
    "import math\n",
    "print('%:+^,d'%(math.fmod(-10,3)))\n"
   ]
  },
  {
   "cell_type": "raw",
   "metadata": {},
   "source": [
    "unicode are based=16 hex and \n",
    "\n",
    "represented as U+65FD  -->means 0x65fd\n",
    "\n",
    "so from hexa we can get its decimal code\n",
    "and then we can use that decimal code and python chr() to get that chr\n",
    "because chr() ony take ascii code/decimal based code\n",
    "using hex code takes up memory\n",
    "instead use\n",
    "UTF-8 \n",
    "UTF-8 is a way of encoding Unicode so that an ASCII text file encodes to itself.\n",
    "\n",
    "1.If the code point is < 128, it’s represented by the corresponding byte value.\n",
    "\n",
    "2.If the code point is >= 128, it’s turned into a sequence of two, three, or four bytes, where each byte of the sequence is between 128 and 255."
   ]
  },
  {
   "cell_type": "code",
   "execution_count": 141,
   "metadata": {},
   "outputs": [
    {
     "data": {
      "text/plain": [
       "True"
      ]
     },
     "execution_count": 141,
     "metadata": {},
     "output_type": "execute_result"
    }
   ],
   "source": [
    ".0012 == 1.2e-3 == 1.2 *(10)**(-3)"
   ]
  },
  {
   "cell_type": "code",
   "execution_count": 144,
   "metadata": {},
   "outputs": [
    {
     "data": {
      "text/plain": [
       "2000.0"
      ]
     },
     "execution_count": 144,
     "metadata": {},
     "output_type": "execute_result"
    }
   ],
   "source": [
    "+2e3 #e when ever use it give flost value"
   ]
  },
  {
   "cell_type": "code",
   "execution_count": 257,
   "metadata": {},
   "outputs": [
    {
     "name": "stdout",
     "output_type": "stream",
     "text": [
      "200         \n"
     ]
    }
   ],
   "source": [
    "print('%-12.1d' %(200))"
   ]
  },
  {
   "cell_type": "code",
   "execution_count": 255,
   "metadata": {},
   "outputs": [
    {
     "name": "stdout",
     "output_type": "stream",
     "text": [
      "+200,000----\n"
     ]
    }
   ],
   "source": [
    "print('{:-<+12,d}'.format(200000))"
   ]
  },
  {
   "cell_type": "code",
   "execution_count": 312,
   "metadata": {},
   "outputs": [
    {
     "name": "stdout",
     "output_type": "stream",
     "text": [
      " 200,000.00-\n"
     ]
    }
   ],
   "source": [
    "print('{:-< 12,.2f}'.format(200000))"
   ]
  },
  {
   "cell_type": "code",
   "execution_count": 313,
   "metadata": {},
   "outputs": [
    {
     "name": "stdout",
     "output_type": "stream",
     "text": [
      "+23.341\n"
     ]
    }
   ],
   "source": [
    "print('{:1<+7,.2f}'.format(23.34))"
   ]
  },
  {
   "cell_type": "code",
   "execution_count": 360,
   "metadata": {},
   "outputs": [
    {
     "name": "stdout",
     "output_type": "stream",
     "text": [
      "taimoor\n"
     ]
    }
   ],
   "source": [
    "print('% -7s' %('taimoor'))\n",
    "# in this % \n",
    "# %0 filling or %  one space filling comes with % only\n",
    "#-+  -sign to shift left +sign to start witg +sign and 7 spaces\n",
    "#7,  7 for total space blocks and each third with ,\n",
    "#.2f  .2 means two decimal points and f mean it is float type\n",
    "\n",
    "#-----\n",
    "#in string type s\n",
    "#, does not make logic to come with total spaces \n",
    "#.2s means strip string to only two places \n",
    "#so it over write total spaces and filling\n",
    "#and overwrite sign\n",
    "\n",
    "#so patter is \n",
    "\"\"\"\n",
    "%filling \n",
    "direction sign_start\n",
    "total_space ,\n",
    "precision type f/s\n",
    "\n",
    "link filling direction sign space , precison type\n",
    " :     *       </>/=         +    20  ,    .2     f\n",
    "    :*               <+/>+/=         20,       .2f\n",
    "                  \n",
    "                  :* <+ 12, .2f\n",
    "                  :# >+ 12, .2f\n",
    "                  :* =  12. .2f  (fill wit)\n",
    "            fill  direction+ space, precisonf\n",
    "                     we can replace < or > with = to place negative sign \n",
    "            \n",
    " \n",
    " %     0/      -       +    17   ,   .2     f\n",
    "                  %0 -+ 12, .2f\n",
    "            fill  direction+ space, precisonf\n",
    "\n",
    "\"\"\";"
   ]
  },
  {
   "cell_type": "code",
   "execution_count": 363,
   "metadata": {},
   "outputs": [
    {
     "name": "stdout",
     "output_type": "stream",
     "text": [
      "ta**********\n"
     ]
    }
   ],
   "source": [
    "print('{:*<12.2s}'.format('taimoor')) #but filling happen in format "
   ]
  },
  {
   "cell_type": "code",
   "execution_count": 411,
   "metadata": {},
   "outputs": [
    {
     "name": "stdout",
     "output_type": "stream",
     "text": [
      "12,343 or -***********4,655.00\n"
     ]
    }
   ],
   "source": [
    "a={'b':12343,'c':-4655}\n",
    "print('{b:<5,d} or {c:*=20,.2f}'.format(**a))"
   ]
  },
  {
   "cell_type": "raw",
   "metadata": {},
   "source": [
    "*< shift to left and fill with * any blank space\n",
    "+  but add + in start\n",
    "10 space total \n",
    ",  add , \n",
    ".0f no of decimal points to show and its floating type\n",
    ":-      fill if input end filling comes with : always\n",
    "<+      means shift the value to left and start with + sign we can put space\n",
    "12,     give 12 space blocks and each third will have ,\n",
    ".2f      means show two decimal points for f\n",
    "\n",
    "\n",
    "-\n",
    "\n",
    "\n",
    " %[flags][width][.precision]type  for % \n",
    "https://pyformat.info/#number_sign"
   ]
  },
  {
   "cell_type": "raw",
   "metadata": {},
   "source": [
    "how to remember\n",
    "if us see {:d} in between : d u put every thing"
   ]
  },
  {
   "cell_type": "markdown",
   "metadata": {},
   "source": [
    "### os"
   ]
  },
  {
   "cell_type": "code",
   "execution_count": 412,
   "metadata": {},
   "outputs": [],
   "source": [
    "import os\n"
   ]
  },
  {
   "cell_type": "code",
   "execution_count": 415,
   "metadata": {},
   "outputs": [],
   "source": [
    "os.getcwd()\n",
    "os.chdir('C:\\\\Users\\\\taimo\\\\Desktop')"
   ]
  },
  {
   "cell_type": "code",
   "execution_count": 416,
   "metadata": {},
   "outputs": [
    {
     "data": {
      "text/plain": [
       "'C:\\\\Users\\\\taimo\\\\Desktop'"
      ]
     },
     "execution_count": 416,
     "metadata": {},
     "output_type": "execute_result"
    }
   ],
   "source": [
    "os.getcwd()"
   ]
  },
  {
   "cell_type": "code",
   "execution_count": 417,
   "metadata": {},
   "outputs": [
    {
     "data": {
      "text/plain": [
       "['.idea',\n",
       " 'blender.lnk',\n",
       " 'datascience_upwork',\n",
       " 'desktop.ini',\n",
       " 'GitHub Desktop.lnk',\n",
       " 'Microsoft Edge.lnk',\n",
       " 'Piaicpython',\n",
       " 'predictive maintainance',\n",
       " 'py',\n",
       " 'statQuest-lecture-screenshoots']"
      ]
     },
     "execution_count": 417,
     "metadata": {},
     "output_type": "execute_result"
    }
   ],
   "source": [
    "os.listdir()"
   ]
  },
  {
   "cell_type": "code",
   "execution_count": 2,
   "metadata": {},
   "outputs": [
    {
     "data": {
      "text/plain": [
       "[1, 2, 3, 4, 1, 2, 3, 4, 1, 2, 3, 4]"
      ]
     },
     "execution_count": 2,
     "metadata": {},
     "output_type": "execute_result"
    }
   ],
   "source": [
    "l1=[1,2]\n",
    "l2=[3,4]\n",
    "l3=l1+l2\n",
    "l4=l3*3\n",
    "l4"
   ]
  },
  {
   "cell_type": "code",
   "execution_count": 3,
   "metadata": {},
   "outputs": [
    {
     "data": {
      "text/plain": [
       "False"
      ]
     },
     "execution_count": 3,
     "metadata": {},
     "output_type": "execute_result"
    }
   ],
   "source": [
    "[1,2,3] == ['a','b','c']"
   ]
  },
  {
   "cell_type": "code",
   "execution_count": 5,
   "metadata": {},
   "outputs": [
    {
     "data": {
      "text/plain": [
       "9.42477796076938"
      ]
     },
     "execution_count": 5,
     "metadata": {},
     "output_type": "execute_result"
    }
   ],
   "source": [
    "import math\n",
    "math.pi*3"
   ]
  },
  {
   "cell_type": "code",
   "execution_count": 16,
   "metadata": {},
   "outputs": [],
   "source": [
    "from random import randint,randrange"
   ]
  },
  {
   "cell_type": "code",
   "execution_count": 15,
   "metadata": {},
   "outputs": [
    {
     "data": {
      "text/plain": [
       "410"
      ]
     },
     "execution_count": 15,
     "metadata": {},
     "output_type": "execute_result"
    }
   ],
   "source": [
    "randint(5,100)"
   ]
  },
  {
   "cell_type": "code",
   "execution_count": 33,
   "metadata": {},
   "outputs": [
    {
     "name": "stdout",
     "output_type": "stream",
     "text": [
      "85\n",
      "80\n",
      "35\n",
      "70\n",
      "55\n",
      "75\n",
      "20\n",
      "70\n",
      "40\n",
      "65\n",
      "5\n",
      "20\n",
      "70\n",
      "20\n",
      "40\n",
      "5\n",
      "70\n",
      "55\n",
      "80\n",
      "85\n",
      "15\n",
      "15\n",
      "15\n",
      "25\n",
      "40\n",
      "65\n",
      "25\n",
      "40\n",
      "10\n",
      "90\n",
      "55\n",
      "40\n",
      "65\n",
      "40\n",
      "75\n",
      "30\n",
      "5\n",
      "55\n",
      "20\n",
      "55\n",
      "35\n",
      "70\n",
      "90\n",
      "90\n",
      "70\n",
      "30\n",
      "100\n",
      "95\n",
      "25\n",
      "10\n",
      "100\n",
      "50\n",
      "95\n",
      "90\n",
      "70\n",
      "65\n",
      "35\n",
      "10\n",
      "25\n",
      "70\n",
      "65\n",
      "40\n",
      "10\n",
      "15\n",
      "60\n",
      "55\n",
      "25\n",
      "90\n",
      "90\n",
      "25\n",
      "100\n",
      "15\n",
      "85\n",
      "15\n",
      "90\n",
      "95\n",
      "65\n",
      "50\n",
      "60\n",
      "70\n",
      "5\n",
      "60\n",
      "90\n",
      "5\n",
      "100\n",
      "70\n",
      "5\n",
      "75\n",
      "100\n",
      "35\n",
      "50\n",
      "90\n",
      "65\n",
      "45\n",
      "95\n",
      "70\n",
      "40\n",
      "50\n",
      "65\n",
      "55\n"
     ]
    }
   ],
   "source": [
    "for x in range(100) :\n",
    "    print(randrange(5,105, 5))"
   ]
  },
  {
   "cell_type": "code",
   "execution_count": 35,
   "metadata": {},
   "outputs": [
    {
     "name": "stdout",
     "output_type": "stream",
     "text": [
      "0.9432793845026192\n",
      "0.4663524788222373\n",
      "0.384723205069495\n",
      "0.49894164744973\n",
      "0.1873768197636465\n",
      "0.1445472954553212\n",
      "0.5275897544688024\n",
      "0.09356390091008582\n",
      "0.18336984846129445\n",
      "0.8258593781087976\n",
      "0.348469776649611\n",
      "0.411498180932107\n",
      "0.883000612233781\n",
      "0.478255950127636\n",
      "0.15298916810511376\n",
      "0.27885463960796175\n",
      "0.12950304109722\n",
      "0.997167598162139\n",
      "0.4490630615769188\n",
      "0.08120901480281417\n",
      "0.35492986429631934\n",
      "0.8841469889584727\n",
      "0.6668580799930102\n",
      "0.6280869370572478\n",
      "0.01966650925353186\n",
      "0.38351620232239614\n",
      "0.08760009293566628\n",
      "0.5119931004866083\n",
      "0.08694526897409716\n",
      "0.7762624977663173\n",
      "0.9149576328401737\n",
      "0.02113381776575174\n",
      "0.963812851585259\n",
      "0.506546284509452\n",
      "0.9463679048243865\n",
      "0.42230825342008593\n",
      "0.3979284432621979\n",
      "0.6817588026606047\n",
      "0.25199034017690425\n",
      "0.6475604883236142\n",
      "0.8716443518411435\n",
      "0.6537304490987617\n",
      "0.24786633629250976\n",
      "0.9956144250533037\n",
      "0.9191428670117943\n",
      "0.7560047139185478\n",
      "0.34314811161545544\n",
      "0.7187723355079898\n",
      "0.42200689817001424\n",
      "0.001945881934937499\n",
      "0.40993822272156233\n",
      "0.8490175009424882\n",
      "0.8720134946142688\n",
      "0.7335090054043927\n",
      "0.3475398688033282\n",
      "0.33825089720569723\n",
      "0.1377739948939135\n",
      "0.3616929453776213\n",
      "0.1497169899526859\n",
      "0.2818110033306296\n",
      "0.9623813905916705\n",
      "0.045755277659248916\n",
      "0.6118095523200191\n",
      "0.4678238788206529\n",
      "0.8990974385105048\n",
      "0.10081654421242026\n",
      "0.05024914865480401\n",
      "0.468705341667212\n",
      "0.9115201877479809\n",
      "0.009314115291247038\n",
      "0.029789476848684937\n",
      "0.14679380415774113\n",
      "0.3480747383335814\n",
      "0.5411174853466261\n",
      "0.2807050254858836\n",
      "0.44633270148805015\n",
      "0.9429282240310447\n",
      "0.7719447142802666\n",
      "0.3178297468592146\n",
      "0.7154379463868668\n",
      "0.6375284605404322\n",
      "0.2261176003608708\n",
      "0.34638336103529055\n",
      "0.4026434844580813\n",
      "0.8383979575103563\n",
      "0.3450665806600466\n",
      "0.001401294424728361\n",
      "0.8732262021588114\n",
      "0.8487756883473291\n",
      "0.2988615096911068\n",
      "0.41158803595057514\n",
      "0.511066046470197\n",
      "0.6530688346323766\n",
      "0.6882173260276061\n",
      "0.5504022893669756\n",
      "0.34608230426622\n",
      "0.03646748516534304\n",
      "0.38970815218304855\n",
      "0.47150702201530037\n",
      "0.3006606202595533\n"
     ]
    }
   ],
   "source": [
    "for x in range(100):\n",
    "    print(random.random())"
   ]
  },
  {
   "cell_type": "code",
   "execution_count": 38,
   "metadata": {},
   "outputs": [],
   "source": [
    "def n(score,bonus,name,point=1,):\n",
    "    print(score,bonus,point,name)"
   ]
  },
  {
   "cell_type": "code",
   "execution_count": 43,
   "metadata": {},
   "outputs": [
    {
     "data": {
      "text/plain": [
       "2"
      ]
     },
     "execution_count": 43,
     "metadata": {},
     "output_type": "execute_result"
    }
   ],
   "source": [
    "2%4"
   ]
  },
  {
   "cell_type": "code",
   "execution_count": 44,
   "metadata": {},
   "outputs": [
    {
     "data": {
      "text/plain": [
       "False"
      ]
     },
     "execution_count": 44,
     "metadata": {},
     "output_type": "execute_result"
    }
   ],
   "source": [
    "3/3 == 0"
   ]
  },
  {
   "cell_type": "code",
   "execution_count": 45,
   "metadata": {},
   "outputs": [
    {
     "data": {
      "text/plain": [
       "1.0"
      ]
     },
     "execution_count": 45,
     "metadata": {},
     "output_type": "execute_result"
    }
   ],
   "source": [
    "3/3"
   ]
  },
  {
   "cell_type": "code",
   "execution_count": 46,
   "metadata": {},
   "outputs": [
    {
     "data": {
      "text/plain": [
       "1.0"
      ]
     },
     "execution_count": 46,
     "metadata": {},
     "output_type": "execute_result"
    }
   ],
   "source": [
    "3/3"
   ]
  },
  {
   "cell_type": "code",
   "execution_count": 101,
   "metadata": {},
   "outputs": [
    {
     "name": "stdout",
     "output_type": "stream",
     "text": [
      "dataof birth likw that march-09-2020=> may-31-2020\n"
     ]
    }
   ],
   "source": [
    "birdth_date=input('dataof birth likw that march-09-2020=> ')\n",
    "import datetime\n",
    "\n"
   ]
  },
  {
   "cell_type": "code",
   "execution_count": 102,
   "metadata": {},
   "outputs": [],
   "source": [
    "converted=datetime.datetime.strptime(birdth_date,'%B-%d-%Y')"
   ]
  },
  {
   "cell_type": "code",
   "execution_count": 103,
   "metadata": {},
   "outputs": [
    {
     "data": {
      "text/plain": [
       "datetime.datetime(2020, 5, 31, 0, 0)"
      ]
     },
     "execution_count": 103,
     "metadata": {},
     "output_type": "execute_result"
    }
   ],
   "source": [
    "converted"
   ]
  },
  {
   "cell_type": "code",
   "execution_count": 108,
   "metadata": {},
   "outputs": [
    {
     "data": {
      "text/plain": [
       "'May-31-2020 Sunday 00:00:00 '"
      ]
     },
     "execution_count": 108,
     "metadata": {},
     "output_type": "execute_result"
    }
   ],
   "source": [
    "datetime.datetime.strftime(converted,'%B-%d-%Y %A %H:%M:%S ')"
   ]
  },
  {
   "cell_type": "code",
   "execution_count": 109,
   "metadata": {},
   "outputs": [
    {
     "name": "stdout",
     "output_type": "stream",
     "text": [
      "deadline march-23-2020=>may-31-2020\n"
     ]
    }
   ],
   "source": [
    "line=input('deadline march-23-2020=>')"
   ]
  },
  {
   "cell_type": "code",
   "execution_count": 128,
   "metadata": {},
   "outputs": [
    {
     "data": {
      "text/plain": [
       "datetime.timedelta(days=87)"
      ]
     },
     "execution_count": 128,
     "metadata": {},
     "output_type": "execute_result"
    }
   ],
   "source": [
    "diff=datetime.datetime.strptime(line,'%B-%d-%Y').date()-datetime.date.today()\n",
    "diff"
   ]
  },
  {
   "cell_type": "code",
   "execution_count": 173,
   "metadata": {},
   "outputs": [
    {
     "name": "stdout",
     "output_type": "stream",
     "text": [
      "2 Months  27 Day's\n",
      "2-Months  27-Day's\n"
     ]
    }
   ],
   "source": [
    "import math \n",
    "if diff.days > 30:\n",
    "    store=math.modf(diff.days/30)\n",
    "    print('%-2dMonths  %-3.0fDay\\'s'  %(store[1],store[0]*30 ) )\n",
    "    print('{:-<2.0f}Months  {:-<3.0f}Day\\'s'.format(store[1],store[0]*30))"
   ]
  },
  {
   "cell_type": "code",
   "execution_count": 159,
   "metadata": {},
   "outputs": [
    {
     "data": {
      "text/plain": [
       "(0.8999999999999999, 2.0)"
      ]
     },
     "execution_count": 159,
     "metadata": {},
     "output_type": "execute_result"
    }
   ],
   "source": [
    "store"
   ]
  },
  {
   "cell_type": "code",
   "execution_count": 183,
   "metadata": {},
   "outputs": [
    {
     "data": {
      "text/plain": [
       "1.0"
      ]
     },
     "execution_count": 183,
     "metadata": {},
     "output_type": "execute_result"
    }
   ],
   "source": [
    "math.sin(math.pi/2) #gives float"
   ]
  },
  {
   "cell_type": "code",
   "execution_count": 194,
   "metadata": {},
   "outputs": [
    {
     "data": {
      "text/plain": [
       "(10+9j)"
      ]
     },
     "execution_count": 194,
     "metadata": {},
     "output_type": "execute_result"
    }
   ],
   "source": [
    "x=10+9j\n",
    "x #complex"
   ]
  },
  {
   "cell_type": "code",
   "execution_count": 190,
   "metadata": {},
   "outputs": [
    {
     "data": {
      "text/plain": [
       "(10-9j)"
      ]
     },
     "execution_count": 190,
     "metadata": {},
     "output_type": "execute_result"
    }
   ],
   "source": [
    "x.conjugate() #type complex"
   ]
  },
  {
   "cell_type": "code",
   "execution_count": 193,
   "metadata": {},
   "outputs": [
    {
     "data": {
      "text/plain": [
       "(9.0, 10.0)"
      ]
     },
     "execution_count": 193,
     "metadata": {},
     "output_type": "execute_result"
    }
   ],
   "source": [
    "x.imag,x.real #both are float"
   ]
  },
  {
   "cell_type": "code",
   "execution_count": 199,
   "metadata": {},
   "outputs": [
    {
     "data": {
      "text/plain": [
       "(2+10j)"
      ]
     },
     "execution_count": 199,
     "metadata": {},
     "output_type": "execute_result"
    }
   ],
   "source": [
    "complex(real=2,imag=+10)"
   ]
  },
  {
   "cell_type": "code",
   "execution_count": 204,
   "metadata": {},
   "outputs": [
    {
     "data": {
      "text/plain": [
       "(0, 2)"
      ]
     },
     "execution_count": 204,
     "metadata": {},
     "output_type": "execute_result"
    }
   ],
   "source": [
    "divmod(2,3) #it give tuple(division,module) of two given number in divmod(x,y)\n",
    "#as name say div-mod\n",
    "#div is integer"
   ]
  },
  {
   "cell_type": "code",
   "execution_count": 205,
   "metadata": {},
   "outputs": [
    {
     "data": {
      "text/plain": [
       "8"
      ]
     },
     "execution_count": 205,
     "metadata": {},
     "output_type": "execute_result"
    }
   ],
   "source": [
    "pow(2,3)"
   ]
  },
  {
   "cell_type": "code",
   "execution_count": 208,
   "metadata": {},
   "outputs": [
    {
     "data": {
      "text/plain": [
       "-9"
      ]
     },
     "execution_count": 208,
     "metadata": {},
     "output_type": "execute_result"
    }
   ],
   "source": [
    "x=9\n",
    "-x #make it negative"
   ]
  },
  {
   "cell_type": "markdown",
   "metadata": {},
   "source": [
    "https://docs.python.org/3/library/stdtypes.html   table"
   ]
  },
  {
   "cell_type": "code",
   "execution_count": 168,
   "metadata": {},
   "outputs": [
    {
     "data": {
      "text/plain": [
       "111"
      ]
     },
     "execution_count": 168,
     "metadata": {},
     "output_type": "execute_result"
    }
   ],
   "source": [
    "\"this--> | consider left right as bites\"\n",
    "\n",
    "101 | 110   "
   ]
  },
  {
   "cell_type": "code",
   "execution_count": 169,
   "metadata": {},
   "outputs": [
    {
     "data": {
      "text/plain": [
       "100"
      ]
     },
     "execution_count": 169,
     "metadata": {},
     "output_type": "execute_result"
    }
   ],
   "source": [
    "101 & 110"
   ]
  },
  {
   "cell_type": "code",
   "execution_count": 172,
   "metadata": {},
   "outputs": [
    {
     "data": {
      "text/plain": [
       "11"
      ]
     },
     "execution_count": 172,
     "metadata": {},
     "output_type": "execute_result"
    }
   ],
   "source": [
    "101 ^ 110  #only unique no duplicate repetations xor"
   ]
  },
  {
   "cell_type": "code",
   "execution_count": 208,
   "metadata": {},
   "outputs": [
    {
     "name": "stdout",
     "output_type": "stream",
     "text": [
      "\n",
      "first &   given  priority to execute\n",
      "then  ^\n",
      "then  |\n",
      "\n"
     ]
    }
   ],
   "source": [
    "print(\"\"\"\n",
    "first &   given  priority to execute\n",
    "then  ^\n",
    "then  |\n",
    "\"\"\")"
   ]
  },
  {
   "cell_type": "markdown",
   "metadata": {},
   "source": [
    "https://www.tutorialspoint.com/python/operators_precedence_example.htm<br>\n",
    "()\tParentheses<br>\n",
    "**\tExponent<br>\n",
    "+x, -x, ~x\tUnary plus, Unary minus, Bitwise NOT<br>\n",
    "*, /, //, %\tMultiplication, Division, Floor division, Modulus<br>\n",
    "+, -\tAddition, Subtraction<br>\n",
    "<<, >>\tBitwise shift operators<br>\n",
    "&\tBitwise AND<br>\n",
    "^\tBitwise XOR<br>\n",
    "|\tBitwise OR<br>\n",
    "==, !=, >, >=, <, <=, is, is not, in, not in\tComparisions, Identity, Membership operators<br>\n",
    "not\tLogical NOT<br>\n",
    "and\tLogical AND<br>\n",
    "or<br>"
   ]
  },
  {
   "cell_type": "code",
   "execution_count": 195,
   "metadata": {},
   "outputs": [
    {
     "data": {
      "text/plain": [
       "-12"
      ]
     },
     "execution_count": 195,
     "metadata": {},
     "output_type": "execute_result"
    }
   ],
   "source": [
    "~0b1011 #gives integer\n"
   ]
  },
  {
   "cell_type": "markdown",
   "metadata": {},
   "source": [
    "https://python-reference.readthedocs.io/en/latest/docs/operators/bitwise_complement.html<br>\n",
    "\n",
    "so integer 23             <br>\n",
    "bitwise compliment integer can be directly found<br>\n",
    "23 + 1 => 24  => -24 <br>\n",
    "<br>\n",
    "23-24 = -1"
   ]
  },
  {
   "cell_type": "code",
   "execution_count": 207,
   "metadata": {},
   "outputs": [
    {
     "name": "stdout",
     "output_type": "stream",
     "text": [
      "9 , 36 , 2\n",
      "9 , 36 , 2\n"
     ]
    }
   ],
   "source": [
    "print(0b1001,',',0b1001<<2,',',0b1001>>2) #note :print convertd in to decimal\n",
    "print(0b1001,',',0b100100,',',0b0010) #for right shit remoe from right "
   ]
  },
  {
   "cell_type": "code",
   "execution_count": 159,
   "metadata": {},
   "outputs": [
    {
     "data": {
      "text/plain": [
       "9"
      ]
     },
     "execution_count": 159,
     "metadata": {},
     "output_type": "execute_result"
    }
   ],
   "source": [
    "0b1001 or 0b1010 #appling 'decimal operator '---- 'give decimal answer'"
   ]
  },
  {
   "cell_type": "code",
   "execution_count": 158,
   "metadata": {},
   "outputs": [
    {
     "data": {
      "text/plain": [
       "101"
      ]
     },
     "execution_count": 158,
     "metadata": {},
     "output_type": "execute_result"
    }
   ],
   "source": [
    "101 or 1010"
   ]
  },
  {
   "cell_type": "code",
   "execution_count": 242,
   "metadata": {},
   "outputs": [
    {
     "data": {
      "text/plain": [
       "10"
      ]
     },
     "execution_count": 242,
     "metadata": {},
     "output_type": "execute_result"
    }
   ],
   "source": [
    "10 or 9"
   ]
  },
  {
   "cell_type": "markdown",
   "metadata": {},
   "source": [
    "https://stackoverflow.com/questions/49658308/how-does-the-logical-and-operator-work-with-integers-in-python"
   ]
  },
  {
   "cell_type": "code",
   "execution_count": 85,
   "metadata": {},
   "outputs": [
    {
     "name": "stdout",
     "output_type": "stream",
     "text": [
      "lolz\n",
      "======\n",
      "lozl\n"
     ]
    },
    {
     "data": {
      "text/plain": [
       "2"
      ]
     },
     "execution_count": 85,
     "metadata": {},
     "output_type": "execute_result"
    }
   ],
   "source": [
    "print(0 or 'lolz' )\n",
    "print('======')\n",
    "#first it see left side if its false   then move to  right side and print right side\n",
    "#if left is True print only left\n",
    "#so left is zero means it is false  'or' make it to go to right side and just print right side\n",
    "#on right side no condition once reach to right side just print it\n",
    "f=0\n",
    "s='lozl'\n",
    "if not bool(f):\n",
    "    print(s)\n",
    "else:\n",
    "    print(f)\n",
    "    \n",
    "#trick for 'or' \n",
    "#think it lika a cricket match\n",
    "#if first fail ignore it and get next batsman on pitch and see it\n",
    "0 or '' or 2 \n",
    "#here first fail we ignore it\n",
    "# then second player fail we ignore it  \n",
    "#third score 2 so we see it \n",
    "\n",
    "#or are like football kicks if u goal we will print it \n",
    "None or 0 or 0.0 or 2   #4kicks we only print in which it scored last one "
   ]
  },
  {
   "cell_type": "code",
   "execution_count": 15,
   "metadata": {},
   "outputs": [
    {
     "data": {
      "text/plain": [
       "'lolz'"
      ]
     },
     "execution_count": 15,
     "metadata": {},
     "output_type": "execute_result"
    }
   ],
   "source": [
    "0 or 'lolz'\n",
    "#see it only check left side \n",
    "#if\n",
    "#left bool() give  true print left otherwise print right on right no need to perfrom bool()"
   ]
  },
  {
   "cell_type": "code",
   "execution_count": 89,
   "metadata": {},
   "outputs": [
    {
     "name": "stdout",
     "output_type": "stream",
     "text": [
      "0\n",
      "\n",
      "False\n",
      "0.0\n",
      "==========\n",
      "2\n",
      "2.2\n",
      "2.0002\n",
      "foofz\n",
      "0.0\n",
      "------\n",
      "0.0\n"
     ]
    },
    {
     "data": {
      "text/plain": [
       "''"
      ]
     },
     "execution_count": 89,
     "metadata": {},
     "output_type": "execute_result"
    }
   ],
   "source": [
    "#and\n",
    "print(0 and 1) #in case of 'and' if left fasle print it ,if left true print right\n",
    "print('' and 1)\n",
    "print(False and 1)\n",
    "print(0.0000 and 1)\n",
    "\n",
    "print('==========')\n",
    "print(1 and 2)\n",
    "print(' 'and 2.2)\n",
    "print(-0.0001 and 2.0002)\n",
    "print(True and 'foofz')\n",
    "print(True and 0.0)\n",
    "\n",
    "print('------')\n",
    "f=0.000\n",
    "s=1\n",
    "if not bool(f): #if 'bool(f)--> false' make it open by 'not'\n",
    "    print(f)   #trick for 'and' if he fails show me its face\n",
    "else:          #else go to next\n",
    "    print(s)\n",
    "#and is like workers in captain ship\n",
    "#if one worker does not work show it \n",
    "\n",
    "'' and 0.0 and'work'  "
   ]
  },
  {
   "cell_type": "markdown",
   "metadata": {},
   "source": [
    "https://www.programiz.com/python-programming/precedence-associativity"
   ]
  },
  {
   "cell_type": "code",
   "execution_count": 107,
   "metadata": {},
   "outputs": [
    {
     "data": {
      "text/plain": [
       "0.0"
      ]
     },
     "execution_count": 107,
     "metadata": {},
     "output_type": "execute_result"
    }
   ],
   "source": [
    "'' or 't' and 0.0\n",
    "#and executed before or ---precedencey rule  --truth come late in world\n",
    "\n",
    "#here 'and' finds false at 0.0 when applied bool() on 't' and '0.0'\n",
    "# so gave 0.0 \n",
    "# '' or 0.0\n",
    "# or look for truth if don't find give last one\n",
    "# so when bool('') or bool(0.0)\n",
    "#it end up at last without finding truth so gave 0.0\n"
   ]
  },
  {
   "cell_type": "code",
   "execution_count": 109,
   "metadata": {},
   "outputs": [
    {
     "data": {
      "text/plain": [
       "0.2"
      ]
     },
     "execution_count": 109,
     "metadata": {},
     "output_type": "execute_result"
    }
   ],
   "source": [
    "'' and 't' or 0.2\n",
    "\n",
    "#and applied first then or its precedence rule\n",
    "# so bool('') and bool('t') --> False and True\n",
    "#so we got False\n",
    "#next or turn\n",
    "#False or bool(0.2) ---> False or True\n",
    "#we got True \n",
    "#so result is 0.2"
   ]
  },
  {
   "cell_type": "code",
   "execution_count": 95,
   "metadata": {},
   "outputs": [
    {
     "data": {
      "text/plain": [
       "0"
      ]
     },
     "execution_count": 95,
     "metadata": {},
     "output_type": "execute_result"
    }
   ],
   "source": [
    "0.0 or 0.000 or 0  #or look for truth and if don't find print last one \n"
   ]
  },
  {
   "cell_type": "code",
   "execution_count": 96,
   "metadata": {},
   "outputs": [
    {
     "data": {
      "text/plain": [
       "222222"
      ]
     },
     "execution_count": 96,
     "metadata": {},
     "output_type": "execute_result"
    }
   ],
   "source": [
    "1 and 1.1 and 222222 #and look for false if does not find print last one"
   ]
  },
  {
   "cell_type": "code",
   "execution_count": 82,
   "metadata": {},
   "outputs": [
    {
     "data": {
      "text/plain": [
       "False"
      ]
     },
     "execution_count": 82,
     "metadata": {},
     "output_type": "execute_result"
    }
   ],
   "source": [
    "False and '' and 'p' #so "
   ]
  },
  {
   "cell_type": "markdown",
   "metadata": {},
   "source": [
    "**True** convert to **1**<br>\n",
    "**False** convert to **0**"
   ]
  },
  {
   "cell_type": "code",
   "execution_count": 105,
   "metadata": {},
   "outputs": [
    {
     "data": {
      "text/plain": [
       "(5.5, 3, 2, True)"
      ]
     },
     "execution_count": 105,
     "metadata": {},
     "output_type": "execute_result"
    }
   ],
   "source": [
    "True *5.5    ,False + 3, True + 1, False == 0.00000000000000000"
   ]
  },
  {
   "cell_type": "code",
   "execution_count": 112,
   "metadata": {},
   "outputs": [
    {
     "data": {
      "text/plain": [
       "(float, int, int, bool)"
      ]
     },
     "execution_count": 112,
     "metadata": {},
     "output_type": "execute_result"
    }
   ],
   "source": [
    "type(True *5.5)    ,type(False + 3), type(True + 1), type(False == 0.00000000000000000)"
   ]
  },
  {
   "cell_type": "code",
   "execution_count": 114,
   "metadata": {},
   "outputs": [
    {
     "data": {
      "text/plain": [
       "([], [0, 0])"
      ]
     },
     "execution_count": 114,
     "metadata": {},
     "output_type": "execute_result"
    }
   ],
   "source": [
    "[]*True , [0]*(True+True) #see true as 1"
   ]
  },
  {
   "cell_type": "code",
   "execution_count": 116,
   "metadata": {},
   "outputs": [
    {
     "data": {
      "text/plain": [
       "[[0], [0]]"
      ]
     },
     "execution_count": 116,
     "metadata": {},
     "output_type": "execute_result"
    }
   ],
   "source": [
    "[[0]]*(True+True)"
   ]
  },
  {
   "cell_type": "code",
   "execution_count": 123,
   "metadata": {},
   "outputs": [
    {
     "data": {
      "text/plain": [
       "[0, 0]"
      ]
     },
     "execution_count": 123,
     "metadata": {},
     "output_type": "execute_result"
    }
   ],
   "source": [
    "([0])*2 \n"
   ]
  },
  {
   "cell_type": "code",
   "execution_count": 125,
   "metadata": {},
   "outputs": [
    {
     "data": {
      "text/plain": [
       "([0], [0])"
      ]
     },
     "execution_count": 125,
     "metadata": {},
     "output_type": "execute_result"
    }
   ],
   "source": [
    "([0],)*2  #tuple elements must have , if its first one specially \n"
   ]
  },
  {
   "cell_type": "code",
   "execution_count": 129,
   "metadata": {},
   "outputs": [
    {
     "data": {
      "text/plain": [
       "0"
      ]
     },
     "execution_count": 129,
     "metadata": {},
     "output_type": "execute_result"
    }
   ],
   "source": [
    "(0)*2  #brackets have no speciality until we don't use common with values"
   ]
  },
  {
   "cell_type": "code",
   "execution_count": 61,
   "metadata": {},
   "outputs": [
    {
     "name": "stdout",
     "output_type": "stream",
     "text": [
      "(1+0j)\n",
      "1\n",
      "1.0\n",
      "False\n",
      "True\n",
      "======\n",
      "0j\n",
      "0\n",
      "0.0\n",
      "False\n",
      "True\n"
     ]
    }
   ],
   "source": [
    "print(complex(True))  \n",
    "print(int(True))\n",
    "print(float(True))\n",
    "print(True is 1)\n",
    "print(True == 1.0)\n",
    "print('======')\n",
    "print(complex(False))  \n",
    "print(int(False))\n",
    "print(float(False))\n",
    "print(False is 0)\n",
    "print(False == 0.000)\n",
    "\n",
    "#true--->1 negative sign also like -1 or -0.000000001  or [0] or [''] etc\n",
    "#false-->0  or '' or 0.000 or 0j or {} or [] or set() or () "
   ]
  },
  {
   "cell_type": "code",
   "execution_count": 67,
   "metadata": {},
   "outputs": [
    {
     "data": {
      "text/plain": [
       "1"
      ]
     },
     "execution_count": 67,
     "metadata": {},
     "output_type": "execute_result"
    }
   ],
   "source": []
  },
  {
   "cell_type": "code",
   "execution_count": 63,
   "metadata": {},
   "outputs": [
    {
     "data": {
      "text/plain": [
       "(6+0j)"
      ]
     },
     "execution_count": 63,
     "metadata": {},
     "output_type": "execute_result"
    }
   ],
   "source": [
    "complex(6)"
   ]
  },
  {
   "cell_type": "code",
   "execution_count": 39,
   "metadata": {},
   "outputs": [
    {
     "data": {
      "text/plain": [
       "(6-0j)"
      ]
     },
     "execution_count": 39,
     "metadata": {},
     "output_type": "execute_result"
    }
   ],
   "source": [
    "complex(6).conjugate()"
   ]
  },
  {
   "cell_type": "code",
   "execution_count": 40,
   "metadata": {},
   "outputs": [
    {
     "data": {
      "text/plain": [
       "6.0"
      ]
     },
     "execution_count": 40,
     "metadata": {},
     "output_type": "execute_result"
    }
   ],
   "source": [
    "complex(6).real"
   ]
  },
  {
   "cell_type": "code",
   "execution_count": 66,
   "metadata": {},
   "outputs": [
    {
     "data": {
      "text/plain": [
       "0j"
      ]
     },
     "execution_count": 66,
     "metadata": {},
     "output_type": "execute_result"
    }
   ],
   "source": [
    "complex(0)"
   ]
  },
  {
   "cell_type": "code",
   "execution_count": 106,
   "metadata": {},
   "outputs": [
    {
     "data": {
      "text/plain": [
       "1"
      ]
     },
     "execution_count": 106,
     "metadata": {},
     "output_type": "execute_result"
    }
   ],
   "source": [
    "1 or 2 and 9"
   ]
  },
  {
   "cell_type": "code",
   "execution_count": 132,
   "metadata": {},
   "outputs": [
    {
     "data": {
      "text/plain": [
       "['k', 'Q', 'J', 'A', 1, 2, 3, 4, 5, 6, 7, 8, 9, 10]"
      ]
     },
     "execution_count": 132,
     "metadata": {},
     "output_type": "execute_result"
    }
   ],
   "source": [
    "['k','Q','J','A']+ list(range(1,11))"
   ]
  },
  {
   "cell_type": "code",
   "execution_count": 133,
   "metadata": {},
   "outputs": [
    {
     "ename": "TypeError",
     "evalue": "unsupported operand type(s) for -: 'list' and 'list'",
     "output_type": "error",
     "traceback": [
      "\u001b[1;31m---------------------------------------------------------------------------\u001b[0m",
      "\u001b[1;31mTypeError\u001b[0m                                 Traceback (most recent call last)",
      "\u001b[1;32m<ipython-input-133-e896d8dc0cce>\u001b[0m in \u001b[0;36m<module>\u001b[1;34m\u001b[0m\n\u001b[1;32m----> 1\u001b[1;33m \u001b[1;33m[\u001b[0m\u001b[1;34m'k'\u001b[0m\u001b[1;33m,\u001b[0m\u001b[1;34m'Q'\u001b[0m\u001b[1;33m,\u001b[0m\u001b[1;34m'J'\u001b[0m\u001b[1;33m,\u001b[0m\u001b[1;34m'A'\u001b[0m\u001b[1;33m]\u001b[0m\u001b[1;33m-\u001b[0m\u001b[1;33m[\u001b[0m\u001b[1;34m'A'\u001b[0m\u001b[1;33m]\u001b[0m\u001b[1;33m\u001b[0m\u001b[1;33m\u001b[0m\u001b[0m\n\u001b[0m",
      "\u001b[1;31mTypeError\u001b[0m: unsupported operand type(s) for -: 'list' and 'list'"
     ]
    }
   ],
   "source": [
    "['k','Q','J','A']-['A'] #type error "
   ]
  },
  {
   "cell_type": "code",
   "execution_count": 134,
   "metadata": {},
   "outputs": [
    {
     "ename": "TypeError",
     "evalue": "unsupported operand type(s) for -: 'list' and 'list'",
     "output_type": "error",
     "traceback": [
      "\u001b[1;31m---------------------------------------------------------------------------\u001b[0m",
      "\u001b[1;31mTypeError\u001b[0m                                 Traceback (most recent call last)",
      "\u001b[1;32m<ipython-input-134-a659900c5e4b>\u001b[0m in \u001b[0;36m<module>\u001b[1;34m\u001b[0m\n\u001b[1;32m----> 1\u001b[1;33m \u001b[1;33m[\u001b[0m\u001b[1;36m1\u001b[0m\u001b[1;33m,\u001b[0m\u001b[1;36m2\u001b[0m\u001b[1;33m,\u001b[0m\u001b[1;36m3\u001b[0m\u001b[1;33m,\u001b[0m\u001b[1;36m4\u001b[0m\u001b[1;33m]\u001b[0m\u001b[1;33m-\u001b[0m\u001b[1;33m[\u001b[0m\u001b[1;36m4\u001b[0m\u001b[1;33m]\u001b[0m\u001b[1;33m\u001b[0m\u001b[1;33m\u001b[0m\u001b[0m\n\u001b[0m",
      "\u001b[1;31mTypeError\u001b[0m: unsupported operand type(s) for -: 'list' and 'list'"
     ]
    }
   ],
   "source": [
    "[1,2,3,4]-[4] #type error"
   ]
  },
  {
   "cell_type": "code",
   "execution_count": 135,
   "metadata": {},
   "outputs": [
    {
     "ename": "TypeError",
     "evalue": "unsupported operand type(s) for -: 'str' and 'str'",
     "output_type": "error",
     "traceback": [
      "\u001b[1;31m---------------------------------------------------------------------------\u001b[0m",
      "\u001b[1;31mTypeError\u001b[0m                                 Traceback (most recent call last)",
      "\u001b[1;32m<ipython-input-135-aaa069816138>\u001b[0m in \u001b[0;36m<module>\u001b[1;34m\u001b[0m\n\u001b[1;32m----> 1\u001b[1;33m \u001b[1;34m'abc'\u001b[0m\u001b[1;33m-\u001b[0m\u001b[1;34m'c'\u001b[0m\u001b[1;33m\u001b[0m\u001b[1;33m\u001b[0m\u001b[0m\n\u001b[0m",
      "\u001b[1;31mTypeError\u001b[0m: unsupported operand type(s) for -: 'str' and 'str'"
     ]
    }
   ],
   "source": [
    "'abc'-'c' type error"
   ]
  },
  {
   "cell_type": "code",
   "execution_count": 136,
   "metadata": {},
   "outputs": [
    {
     "data": {
      "text/plain": [
       "'abcd'"
      ]
     },
     "execution_count": 136,
     "metadata": {},
     "output_type": "execute_result"
    }
   ],
   "source": [
    "'abc'+'d'"
   ]
  },
  {
   "cell_type": "code",
   "execution_count": 137,
   "metadata": {},
   "outputs": [],
   "source": [
    "#both list and string support + operator\n",
    "#both list and string support * operator"
   ]
  },
  {
   "cell_type": "code",
   "execution_count": 139,
   "metadata": {},
   "outputs": [
    {
     "data": {
      "text/plain": [
       "' K G J A K G J A K G J A K G J A'"
      ]
     },
     "execution_count": 139,
     "metadata": {},
     "output_type": "execute_result"
    }
   ],
   "source": [
    "' K G J A' *(True*4)"
   ]
  },
  {
   "cell_type": "code",
   "execution_count": 142,
   "metadata": {},
   "outputs": [],
   "source": [
    "#tuple also supprt * and + opertor"
   ]
  },
  {
   "cell_type": "code",
   "execution_count": 140,
   "metadata": {},
   "outputs": [
    {
     "data": {
      "text/plain": [
       "('K',\n",
       " 'G',\n",
       " 'J',\n",
       " 'A',\n",
       " 'K',\n",
       " 'G',\n",
       " 'J',\n",
       " 'A',\n",
       " 'K',\n",
       " 'G',\n",
       " 'J',\n",
       " 'A',\n",
       " 'K',\n",
       " 'G',\n",
       " 'J',\n",
       " 'A')"
      ]
     },
     "execution_count": 140,
     "metadata": {},
     "output_type": "execute_result"
    }
   ],
   "source": [
    "('K', 'G' ,'J' ,'A') *(True*4)"
   ]
  },
  {
   "cell_type": "code",
   "execution_count": 150,
   "metadata": {},
   "outputs": [
    {
     "ename": "TypeError",
     "evalue": "unsupported operand type(s) for /: 'list' and 'int'",
     "output_type": "error",
     "traceback": [
      "\u001b[1;31m---------------------------------------------------------------------------\u001b[0m",
      "\u001b[1;31mTypeError\u001b[0m                                 Traceback (most recent call last)",
      "\u001b[1;32m<ipython-input-150-537357e45432>\u001b[0m in \u001b[0;36m<module>\u001b[1;34m\u001b[0m\n\u001b[1;32m----> 1\u001b[1;33m \u001b[1;33m[\u001b[0m\u001b[1;36m1\u001b[0m\u001b[1;33m,\u001b[0m\u001b[1;36m2\u001b[0m\u001b[1;33m,\u001b[0m\u001b[1;36m3\u001b[0m\u001b[1;33m]\u001b[0m\u001b[1;33m/\u001b[0m\u001b[1;36m1\u001b[0m \u001b[1;31m#type error type error\u001b[0m\u001b[1;33m\u001b[0m\u001b[1;33m\u001b[0m\u001b[0m\n\u001b[0m",
      "\u001b[1;31mTypeError\u001b[0m: unsupported operand type(s) for /: 'list' and 'int'"
     ]
    }
   ],
   "source": [
    "[1,2,3]/1 #type error type error"
   ]
  },
  {
   "cell_type": "code",
   "execution_count": 152,
   "metadata": {},
   "outputs": [
    {
     "ename": "TypeError",
     "evalue": "unsupported operand type(s) for *: 'dict' and 'int'",
     "output_type": "error",
     "traceback": [
      "\u001b[1;31m---------------------------------------------------------------------------\u001b[0m",
      "\u001b[1;31mTypeError\u001b[0m                                 Traceback (most recent call last)",
      "\u001b[1;32m<ipython-input-152-d774161d76f2>\u001b[0m in \u001b[0;36m<module>\u001b[1;34m\u001b[0m\n\u001b[1;32m----> 1\u001b[1;33m \u001b[1;33m{\u001b[0m\u001b[1;34m'a'\u001b[0m\u001b[1;33m:\u001b[0m\u001b[1;36m1\u001b[0m\u001b[1;33m}\u001b[0m\u001b[1;33m*\u001b[0m\u001b[1;36m2\u001b[0m \u001b[1;31m#dictionary does not support\u001b[0m\u001b[1;33m\u001b[0m\u001b[1;33m\u001b[0m\u001b[0m\n\u001b[0m",
      "\u001b[1;31mTypeError\u001b[0m: unsupported operand type(s) for *: 'dict' and 'int'"
     ]
    }
   ],
   "source": [
    "{'a':1}*2 #dictionary does not support"
   ]
  },
  {
   "cell_type": "code",
   "execution_count": 222,
   "metadata": {},
   "outputs": [
    {
     "ename": "TypeError",
     "evalue": "unsupported operand type(s) for +: 'dict' and 'dict'",
     "output_type": "error",
     "traceback": [
      "\u001b[1;31m---------------------------------------------------------------------------\u001b[0m",
      "\u001b[1;31mTypeError\u001b[0m                                 Traceback (most recent call last)",
      "\u001b[1;32m<ipython-input-222-dbd783baa54d>\u001b[0m in \u001b[0;36m<module>\u001b[1;34m\u001b[0m\n\u001b[1;32m----> 1\u001b[1;33m \u001b[1;33m{\u001b[0m\u001b[1;34m'a'\u001b[0m\u001b[1;33m:\u001b[0m\u001b[1;36m1\u001b[0m\u001b[1;33m}\u001b[0m\u001b[1;33m+\u001b[0m\u001b[1;33m{\u001b[0m\u001b[1;34m'b'\u001b[0m\u001b[1;33m:\u001b[0m\u001b[1;36m2\u001b[0m\u001b[1;33m}\u001b[0m \u001b[1;31m#type error\u001b[0m\u001b[1;33m\u001b[0m\u001b[1;33m\u001b[0m\u001b[0m\n\u001b[0m",
      "\u001b[1;31mTypeError\u001b[0m: unsupported operand type(s) for +: 'dict' and 'dict'"
     ]
    }
   ],
   "source": [
    "{'a':1}+{'b':2} #type error"
   ]
  },
  {
   "cell_type": "raw",
   "metadata": {},
   "source": [
    "A TypeError occurs when an 'operation or function' is applied to an object of inappropriate type.\n",
    "\n",
    "A ValueError occurs when a 'built-in operation or function' receives an argument that has the right type but an inappropriate value, and the situation is not described by a more precise exception such as IndexError "
   ]
  },
  {
   "cell_type": "markdown",
   "metadata": {},
   "source": [
    "The IndexError is one of the more basic and common exceptions found in Python, as it is raised whenever attempting to access an index that is outside the bounds of a list .<br>\n",
    "\n",
    "https://airbrake.io/blog/python-exception-handling/python-indexerror<br>\n",
    "https://www.programiz.com/python-programming/exceptions<br>"
   ]
  },
  {
   "cell_type": "code",
   "execution_count": 157,
   "metadata": {},
   "outputs": [
    {
     "data": {
      "text/plain": [
       "((4+6j), (4+3j), (2+5j))"
      ]
     },
     "execution_count": 157,
     "metadata": {},
     "output_type": "execute_result"
    }
   ],
   "source": [
    "complex(2,3)*2   , complex(2,3)+2   , complex(2,3)+0+2j   ,"
   ]
  },
  {
   "cell_type": "code",
   "execution_count": 237,
   "metadata": {},
   "outputs": [],
   "source": [
    "#list,string,+operator add another same type\n",
    "#string + string\n",
    "#tuple +tuple\n",
    "#list+list\n",
    "#---------------------------------------\n",
    "#list,string,tuple ,* operator only multiply with bool or integer \n",
    "#string*2\n",
    "#list*2\n",
    "#tuple*2\n",
    "\n",
    "#string*(True+True)\n"
   ]
  },
  {
   "cell_type": "code",
   "execution_count": 241,
   "metadata": {},
   "outputs": [
    {
     "data": {
      "text/plain": [
       "['aa', ['2']]"
      ]
     },
     "execution_count": 241,
     "metadata": {},
     "output_type": "execute_result"
    }
   ],
   "source": [
    "['aa']+[['2']]"
   ]
  },
  {
   "cell_type": "code",
   "execution_count": 263,
   "metadata": {},
   "outputs": [
    {
     "data": {
      "text/plain": [
       "(140734758949664, 1970032932808, 1970032932808)"
      ]
     },
     "execution_count": 263,
     "metadata": {},
     "output_type": "execute_result"
    }
   ],
   "source": [
    "id(0),id(0.0),id(0.000)"
   ]
  },
  {
   "cell_type": "code",
   "execution_count": 268,
   "metadata": {},
   "outputs": [
    {
     "data": {
      "text/plain": [
       "True"
      ]
     },
     "execution_count": 268,
     "metadata": {},
     "output_type": "execute_result"
    }
   ],
   "source": [
    "0.0 is 0.000000000"
   ]
  },
  {
   "cell_type": "code",
   "execution_count": 299,
   "metadata": {},
   "outputs": [
    {
     "data": {
      "text/plain": [
       "[1, 2, [1, 2]]"
      ]
     },
     "execution_count": 299,
     "metadata": {},
     "output_type": "execute_result"
    }
   ],
   "source": [
    "x=[1,2]\n",
    "x.append([1,2])  #take only one argument and keep it as one item in list\n",
    "x                #here list type preserved but t as 1element in list"
   ]
  },
  {
   "cell_type": "code",
   "execution_count": 300,
   "metadata": {},
   "outputs": [
    {
     "data": {
      "text/plain": [
       "[1, 2, [1, 2], 1, 2]"
      ]
     },
     "execution_count": 300,
     "metadata": {},
     "output_type": "execute_result"
    }
   ],
   "source": [
    "x.extend( [ 1,2 ]) #take one argument are praise it\n",
    "x                        #here list type not preserved\n",
    "                   #but all the list element got unique index\n",
    "#equal to x+[]"
   ]
  },
  {
   "cell_type": "code",
   "execution_count": 301,
   "metadata": {},
   "outputs": [
    {
     "data": {
      "text/plain": [
       "(False, [])"
      ]
     },
     "execution_count": 301,
     "metadata": {},
     "output_type": "execute_result"
    }
   ],
   "source": [
    "x.clear() \n",
    "bool(x),x"
   ]
  },
  {
   "cell_type": "code",
   "execution_count": 322,
   "metadata": {},
   "outputs": [
    {
     "data": {
      "text/plain": [
       "1"
      ]
     },
     "execution_count": 322,
     "metadata": {},
     "output_type": "execute_result"
    }
   ],
   "source": [
    "x=[1, 2, [1, 2], 1, 2]\n",
    "x.count([1,2])  #count very strong function to use in forloop"
   ]
  },
  {
   "cell_type": "code",
   "execution_count": 323,
   "metadata": {},
   "outputs": [
    {
     "data": {
      "text/plain": [
       "2"
      ]
     },
     "execution_count": 323,
     "metadata": {},
     "output_type": "execute_result"
    }
   ],
   "source": [
    "x.index([1,2]) #take direct value no need to put it in string"
   ]
  },
  {
   "cell_type": "code",
   "execution_count": 324,
   "metadata": {},
   "outputs": [
    {
     "ename": "ValueError",
     "evalue": "990 is not in list",
     "output_type": "error",
     "traceback": [
      "\u001b[1;31m---------------------------------------------------------------------------\u001b[0m",
      "\u001b[1;31mValueError\u001b[0m                                Traceback (most recent call last)",
      "\u001b[1;32m<ipython-input-324-024fa0cd5072>\u001b[0m in \u001b[0;36m<module>\u001b[1;34m\u001b[0m\n\u001b[1;32m----> 1\u001b[1;33m \u001b[0mx\u001b[0m\u001b[1;33m.\u001b[0m\u001b[0mindex\u001b[0m\u001b[1;33m(\u001b[0m\u001b[1;36m990\u001b[0m\u001b[1;33m)\u001b[0m \u001b[1;31m#give value error\u001b[0m\u001b[1;33m\u001b[0m\u001b[1;33m\u001b[0m\u001b[0m\n\u001b[0m",
      "\u001b[1;31mValueError\u001b[0m: 990 is not in list"
     ]
    }
   ],
   "source": [
    "x.index(990) #give value error"
   ]
  },
  {
   "cell_type": "code",
   "execution_count": 325,
   "metadata": {},
   "outputs": [
    {
     "data": {
      "text/plain": [
       "2"
      ]
     },
     "execution_count": 325,
     "metadata": {},
     "output_type": "execute_result"
    }
   ],
   "source": [
    "x.pop(1)  #it takes index default is -1"
   ]
  },
  {
   "cell_type": "code",
   "execution_count": 326,
   "metadata": {},
   "outputs": [
    {
     "data": {
      "text/plain": [
       "[1, [1, 2], 1, 2]"
      ]
     },
     "execution_count": 326,
     "metadata": {},
     "output_type": "execute_result"
    }
   ],
   "source": [
    "x"
   ]
  },
  {
   "cell_type": "code",
   "execution_count": 327,
   "metadata": {},
   "outputs": [
    {
     "data": {
      "text/plain": [
       "[1, [1, 2], 1, 'taimoor', 2]"
      ]
     },
     "execution_count": 327,
     "metadata": {},
     "output_type": "execute_result"
    }
   ],
   "source": [
    "x.insert(-1,'taimoor') # first get index hold then but value\n",
    "x         #insert word has 'in' first means index first then 'se' means string"
   ]
  },
  {
   "cell_type": "code",
   "execution_count": 336,
   "metadata": {},
   "outputs": [],
   "source": [
    "x.remove(1) #remove value as word remover has ==>v<=== init we can't catch it"
   ]
  },
  {
   "cell_type": "code",
   "execution_count": 337,
   "metadata": {},
   "outputs": [
    {
     "data": {
      "text/plain": [
       "[[1, 2], 1, 'taimoor', 2]"
      ]
     },
     "execution_count": 337,
     "metadata": {},
     "output_type": "execute_result"
    }
   ],
   "source": [
    "x"
   ]
  },
  {
   "cell_type": "code",
   "execution_count": 335,
   "metadata": {},
   "outputs": [
    {
     "data": {
      "text/plain": [
       "-1"
      ]
     },
     "execution_count": 335,
     "metadata": {},
     "output_type": "execute_result"
    }
   ],
   "source": [
    "'stinrg'.find('p') # not find give -1 index give value error "
   ]
  },
  {
   "cell_type": "code",
   "execution_count": 342,
   "metadata": {},
   "outputs": [
    {
     "data": {
      "text/plain": [
       "[2, 'taimoor', 1, [1, 2]]"
      ]
     },
     "execution_count": 342,
     "metadata": {},
     "output_type": "execute_result"
    }
   ],
   "source": [
    "x.reverse()\n",
    "x"
   ]
  },
  {
   "cell_type": "code",
   "execution_count": 345,
   "metadata": {},
   "outputs": [],
   "source": [
    "d=x.copy()"
   ]
  },
  {
   "cell_type": "code",
   "execution_count": 347,
   "metadata": {},
   "outputs": [
    {
     "data": {
      "text/plain": [
       "(True, False)"
      ]
     },
     "execution_count": 347,
     "metadata": {},
     "output_type": "execute_result"
    }
   ],
   "source": [
    "d == x, d is x"
   ]
  },
  {
   "cell_type": "code",
   "execution_count": 348,
   "metadata": {},
   "outputs": [
    {
     "data": {
      "text/plain": [
       "(1970035965128, 1970033208584)"
      ]
     },
     "execution_count": 348,
     "metadata": {},
     "output_type": "execute_result"
    }
   ],
   "source": [
    "id(d),id(x)"
   ]
  },
  {
   "cell_type": "code",
   "execution_count": 355,
   "metadata": {},
   "outputs": [
    {
     "data": {
      "text/plain": [
       "False"
      ]
     },
     "execution_count": 355,
     "metadata": {},
     "output_type": "execute_result"
    }
   ],
   "source": [
    "id([0])is id([0])"
   ]
  },
  {
   "cell_type": "code",
   "execution_count": 361,
   "metadata": {},
   "outputs": [
    {
     "data": {
      "text/plain": [
       "(True, False, False, False)"
      ]
     },
     "execution_count": 361,
     "metadata": {},
     "output_type": "execute_result"
    }
   ],
   "source": [
    "() is () ,[] is [], {} is {},set() is set()"
   ]
  },
  {
   "cell_type": "markdown",
   "metadata": {},
   "source": [
    "## tuple is True because it is immutable \n",
    "## while\n",
    "## list, dictionary,set all are mutable\n",
    "https://stackoverflow.com/questions/42553259/why-does-is-evaluate-to-false-in-python"
   ]
  },
  {
   "cell_type": "raw",
   "metadata": {},
   "source": [
    "You created two mutable objects, then used is to see if those are the same object. That should definitely return False, or something would be broken.\n",
    "\n",
    "You wouldn't ever want is to return true here. Imagine if you did this:\n",
    "\n",
    "foo = []\n",
    "bar = []\n",
    "foo.append(42)\n",
    "then you'd be very surprised if bar now contains 42. If is returned true, meaning that both [] invocations returned the exact same object, then appending to foo would be visible in the reference to bar.\n",
    "\n",
    "For immutable objects, it makes sense to cache objects, at which point is may return true, like with empty tuples:\n",
    "\n",
    ">>> () is ()  # are these two things the same object?\n",
    "True\n",
    "=======================================\n",
    "tuple are fixed if u transform them u actually creating new ones and deleting previouse one think of tuple as -string -fixed \n",
    "\n",
    "so empty tuple is same as anyother empty tuple \n",
    "\n",
    "where we have list and when we assigne list or create list\n",
    "its id remain same whether you append insert or pop anything form it or into it"
   ]
  },
  {
   "cell_type": "code",
   "execution_count": 363,
   "metadata": {},
   "outputs": [
    {
     "data": {
      "text/plain": [
       "1970033325064"
      ]
     },
     "execution_count": 363,
     "metadata": {},
     "output_type": "execute_result"
    }
   ],
   "source": [
    "x=[]\n",
    "id(x)"
   ]
  },
  {
   "cell_type": "code",
   "execution_count": 364,
   "metadata": {},
   "outputs": [
    {
     "data": {
      "text/plain": [
       "1970033325064"
      ]
     },
     "execution_count": 364,
     "metadata": {},
     "output_type": "execute_result"
    }
   ],
   "source": [
    "x.append(23)\n",
    "id(x)"
   ]
  },
  {
   "cell_type": "code",
   "execution_count": 365,
   "metadata": {},
   "outputs": [
    {
     "data": {
      "text/plain": [
       "1970035962696"
      ]
     },
     "execution_count": 365,
     "metadata": {},
     "output_type": "execute_result"
    }
   ],
   "source": [
    "y=[]\n",
    "id(y)"
   ]
  },
  {
   "cell_type": "code",
   "execution_count": 376,
   "metadata": {},
   "outputs": [
    {
     "data": {
      "text/plain": [
       "(1970027271688, 1970026315656, 1970033977864, 1970033977864)"
      ]
     },
     "execution_count": 376,
     "metadata": {},
     "output_type": "execute_result"
    }
   ],
   "source": [
    "xx=[]\n",
    "yy=[]\n",
    "id(xx) ,id(yy),id([1]) , id([1]) \n",
    "#id names when they are created in steps\n",
    "#id when the created in one line the both have same id but of no use \n",
    "#as the will only execute in line  and get lost\n",
    "#where those given name has different ids "
   ]
  },
  {
   "cell_type": "code",
   "execution_count": 378,
   "metadata": {},
   "outputs": [
    {
     "data": {
      "text/plain": [
       "(1969935417416, 1969935417416)"
      ]
     },
     "execution_count": 378,
     "metadata": {},
     "output_type": "execute_result"
    }
   ],
   "source": [
    "t=()\n",
    "d=()\n",
    "id(t),id(d)  \n",
    "#tuple are like string and numbers immutable so there id is same\n",
    "#if we try to chance them we want to recreate them\n",
    "#just like we recreat when we reuse id([1]),id([1])"
   ]
  },
  {
   "cell_type": "code",
   "execution_count": 379,
   "metadata": {},
   "outputs": [],
   "source": [
    "#any command that looses its value if we try to change it \n",
    "#has same id given that they are created with same context"
   ]
  },
  {
   "cell_type": "code",
   "execution_count": 389,
   "metadata": {},
   "outputs": [],
   "source": [
    "a=3\n",
    "a/=3+4"
   ]
  },
  {
   "cell_type": "code",
   "execution_count": 390,
   "metadata": {},
   "outputs": [
    {
     "data": {
      "text/plain": [
       "(0.42857142857142855, 0.42857142857142855)"
      ]
     },
     "execution_count": 390,
     "metadata": {},
     "output_type": "execute_result"
    }
   ],
   "source": [
    "3/(3+4),a"
   ]
  },
  {
   "cell_type": "code",
   "execution_count": 418,
   "metadata": {},
   "outputs": [
    {
     "data": {
      "text/plain": [
       "-3"
      ]
     },
     "execution_count": 418,
     "metadata": {},
     "output_type": "execute_result"
    }
   ],
   "source": [
    "x=-11\n",
    "x%=-4\n",
    "x                     #when sign same 4 multiple should not cross -11"
   ]
  },
  {
   "cell_type": "code",
   "execution_count": 419,
   "metadata": {},
   "outputs": [
    {
     "data": {
      "text/plain": [
       "1"
      ]
     },
     "execution_count": 419,
     "metadata": {},
     "output_type": "execute_result"
    }
   ],
   "source": [
    "x=-11\n",
    "x%=4\n",
    "x               #when oppposite sign table should across -11"
   ]
  },
  {
   "cell_type": "code",
   "execution_count": 443,
   "metadata": {},
   "outputs": [
    {
     "data": {
      "text/plain": [
       "-4"
      ]
     },
     "execution_count": 443,
     "metadata": {},
     "output_type": "execute_result"
    }
   ],
   "source": [
    "-22//7"
   ]
  },
  {
   "cell_type": "markdown",
   "metadata": {},
   "source": [
    "https://www.journaldev.com/26700/python-and-operator<br>\n",
    "& is a bitwise operator it work with only integers otherwise give type error<br>\n",
    "integer  converted into binary formate and then bitwise operation performed<br>"
   ]
  },
  {
   "cell_type": "code",
   "execution_count": 459,
   "metadata": {},
   "outputs": [
    {
     "data": {
      "text/plain": [
       "1"
      ]
     },
     "execution_count": 459,
     "metadata": {},
     "output_type": "execute_result"
    }
   ],
   "source": [
    "x=1\n",
    "x&=3\n",
    "x \n"
   ]
  },
  {
   "cell_type": "code",
   "execution_count": 472,
   "metadata": {},
   "outputs": [
    {
     "data": {
      "text/plain": [
       "('0b1', '0b11')"
      ]
     },
     "execution_count": 472,
     "metadata": {},
     "output_type": "execute_result"
    }
   ],
   "source": [
    "bin(1),bin(3)            #remeber it gives string and all hex() oct() also\n",
    "                         #but integer take string formate with base and give \n",
    "                         #integer"
   ]
  },
  {
   "cell_type": "code",
   "execution_count": 475,
   "metadata": {},
   "outputs": [
    {
     "data": {
      "text/plain": [
       "1"
      ]
     },
     "execution_count": 475,
     "metadata": {},
     "output_type": "execute_result"
    }
   ],
   "source": [
    "0b1 & 0b11    #so u can see first integer convert to bytes then and perform and\n",
    "              #but using bin() will give us string so don't use it "
   ]
  },
  {
   "cell_type": "code",
   "execution_count": 484,
   "metadata": {},
   "outputs": [
    {
     "data": {
      "text/plain": [
       "25"
      ]
     },
     "execution_count": 484,
     "metadata": {},
     "output_type": "execute_result"
    }
   ],
   "source": [
    "100>>2 #decrease "
   ]
  },
  {
   "cell_type": "code",
   "execution_count": 485,
   "metadata": {},
   "outputs": [
    {
     "data": {
      "text/plain": [
       "400"
      ]
     },
     "execution_count": 485,
     "metadata": {},
     "output_type": "execute_result"
    }
   ],
   "source": [
    "100<<2 #increase"
   ]
  },
  {
   "cell_type": "code",
   "execution_count": 489,
   "metadata": {},
   "outputs": [
    {
     "data": {
      "text/plain": [
       "5"
      ]
     },
     "execution_count": 489,
     "metadata": {},
     "output_type": "execute_result"
    }
   ],
   "source": [
    "int(5)"
   ]
  },
  {
   "cell_type": "code",
   "execution_count": 491,
   "metadata": {},
   "outputs": [
    {
     "data": {
      "text/plain": [
       "35"
      ]
     },
     "execution_count": 491,
     "metadata": {},
     "output_type": "execute_result"
    }
   ],
   "source": [
    "round(34.55)"
   ]
  },
  {
   "cell_type": "code",
   "execution_count": 492,
   "metadata": {},
   "outputs": [
    {
     "data": {
      "text/plain": [
       "5"
      ]
     },
     "execution_count": 492,
     "metadata": {},
     "output_type": "execute_result"
    }
   ],
   "source": [
    "----------5"
   ]
  },
  {
   "cell_type": "code",
   "execution_count": 493,
   "metadata": {},
   "outputs": [
    {
     "data": {
      "text/plain": [
       "5"
      ]
     },
     "execution_count": 493,
     "metadata": {},
     "output_type": "execute_result"
    }
   ],
   "source": [
    "--5"
   ]
  },
  {
   "cell_type": "code",
   "execution_count": 494,
   "metadata": {},
   "outputs": [
    {
     "data": {
      "text/plain": [
       "-5"
      ]
     },
     "execution_count": 494,
     "metadata": {},
     "output_type": "execute_result"
    }
   ],
   "source": [
    "---5"
   ]
  },
  {
   "cell_type": "code",
   "execution_count": 495,
   "metadata": {},
   "outputs": [
    {
     "data": {
      "text/plain": [
       "-5"
      ]
     },
     "execution_count": 495,
     "metadata": {},
     "output_type": "execute_result"
    }
   ],
   "source": [
    "--------- 5"
   ]
  },
  {
   "cell_type": "code",
   "execution_count": 499,
   "metadata": {},
   "outputs": [
    {
     "data": {
      "text/plain": [
       "0"
      ]
     },
     "execution_count": 499,
     "metadata": {},
     "output_type": "execute_result"
    }
   ],
   "source": [
    "round(0.5)-round(-0.5)"
   ]
  },
  {
   "cell_type": "code",
   "execution_count": 516,
   "metadata": {},
   "outputs": [
    {
     "data": {
      "text/plain": [
       "(0, 1, 2, 2, 4)"
      ]
     },
     "execution_count": 516,
     "metadata": {},
     "output_type": "execute_result"
    }
   ],
   "source": [
    "round(0.5),round(1.4),round(1.5),round(2.5),round(3.5)\n",
    "#for even number round do flooring at .5\n",
    "#for odd number round do ceiling  at .5"
   ]
  },
  {
   "cell_type": "code",
   "execution_count": 512,
   "metadata": {},
   "outputs": [
    {
     "data": {
      "text/plain": [
       "(5, 6, 6)"
      ]
     },
     "execution_count": 512,
     "metadata": {},
     "output_type": "execute_result"
    }
   ],
   "source": [
    "round(5.1),round(5.5),round(5.8) #odd so ceiling on.5"
   ]
  },
  {
   "cell_type": "code",
   "execution_count": 517,
   "metadata": {},
   "outputs": [
    {
     "data": {
      "text/plain": [
       "(10, 10, 11, 11)"
      ]
     },
     "execution_count": 517,
     "metadata": {},
     "output_type": "execute_result"
    }
   ],
   "source": [
    "round(10.1),round(10.5),round(10.6),round(10.9) #floor at .5 if even"
   ]
  },
  {
   "cell_type": "code",
   "execution_count": 518,
   "metadata": {},
   "outputs": [],
   "source": [
    "##### so at .5 we always going to get even number "
   ]
  },
  {
   "cell_type": "code",
   "execution_count": 520,
   "metadata": {},
   "outputs": [
    {
     "data": {
      "text/plain": [
       "0"
      ]
     },
     "execution_count": 520,
     "metadata": {},
     "output_type": "execute_result"
    }
   ],
   "source": [
    "round(-0.5)"
   ]
  },
  {
   "cell_type": "code",
   "execution_count": 521,
   "metadata": {},
   "outputs": [],
   "source": [
    "a,b,c = 1000, 2000, 3000"
   ]
  },
  {
   "cell_type": "code",
   "execution_count": 522,
   "metadata": {},
   "outputs": [
    {
     "data": {
      "text/plain": [
       "(1000, 2000, 3000)"
      ]
     },
     "execution_count": 522,
     "metadata": {},
     "output_type": "execute_result"
    }
   ],
   "source": [
    "a,b,c"
   ]
  },
  {
   "cell_type": "code",
   "execution_count": 523,
   "metadata": {},
   "outputs": [],
   "source": [
    "abc=1,00,000"
   ]
  },
  {
   "cell_type": "code",
   "execution_count": 524,
   "metadata": {},
   "outputs": [
    {
     "data": {
      "text/plain": [
       "(1, 0, 0)"
      ]
     },
     "execution_count": 524,
     "metadata": {},
     "output_type": "execute_result"
    }
   ],
   "source": [
    "abc"
   ]
  },
  {
   "cell_type": "code",
   "execution_count": 527,
   "metadata": {},
   "outputs": [
    {
     "ename": "ValueError",
     "evalue": "cannot switch from automatic field numbering to manual field specification",
     "output_type": "error",
     "traceback": [
      "\u001b[1;31m---------------------------------------------------------------------------\u001b[0m",
      "\u001b[1;31mValueError\u001b[0m                                Traceback (most recent call last)",
      "\u001b[1;32m<ipython-input-527-3e297f503346>\u001b[0m in \u001b[0;36m<module>\u001b[1;34m\u001b[0m\n\u001b[1;32m----> 1\u001b[1;33m \u001b[1;34m'The {} side {1} {2}'\u001b[0m\u001b[1;33m.\u001b[0m\u001b[0mformat\u001b[0m\u001b[1;33m(\u001b[0m\u001b[1;34m'bright'\u001b[0m\u001b[1;33m,\u001b[0m \u001b[1;34m'of'\u001b[0m\u001b[1;33m,\u001b[0m \u001b[1;34m'life'\u001b[0m\u001b[1;33m)\u001b[0m\u001b[1;33m\u001b[0m\u001b[1;33m\u001b[0m\u001b[0m\n\u001b[0m",
      "\u001b[1;31mValueError\u001b[0m: cannot switch from automatic field numbering to manual field specification"
     ]
    }
   ],
   "source": [
    "'The {} side {1} {2}'.format('bright', 'of', 'life')"
   ]
  },
  {
   "cell_type": "code",
   "execution_count": 528,
   "metadata": {},
   "outputs": [
    {
     "name": "stdout",
     "output_type": "stream",
     "text": [
      "56.24\n"
     ]
    }
   ],
   "source": [
    "x=56.236\n",
    "print(\"%.2f\"%x)\n"
   ]
  },
  {
   "cell_type": "code",
   "execution_count": 530,
   "metadata": {},
   "outputs": [
    {
     "name": "stdout",
     "output_type": "stream",
     "text": [
      "1\n"
     ]
    }
   ],
   "source": [
    "print(\"xyyzxyzxzxyy\".count('xyy', 2, 12))\n"
   ]
  },
  {
   "cell_type": "code",
   "execution_count": 531,
   "metadata": {},
   "outputs": [
    {
     "name": "stdout",
     "output_type": "stream",
     "text": [
      "{65: 49, 66: 50, 67: 51}\n"
     ]
    }
   ],
   "source": [
    "print('a'.maketrans('ABC', '123'))\n"
   ]
  },
  {
   "cell_type": "code",
   "execution_count": 533,
   "metadata": {},
   "outputs": [
    {
     "data": {
      "text/plain": [
       "'A'"
      ]
     },
     "execution_count": 533,
     "metadata": {},
     "output_type": "execute_result"
    }
   ],
   "source": [
    "chr(65)"
   ]
  },
  {
   "cell_type": "code",
   "execution_count": 534,
   "metadata": {},
   "outputs": [
    {
     "name": "stdout",
     "output_type": "stream",
     "text": [
      "12y12y1212x12\n"
     ]
    }
   ],
   "source": [
    "print('xyyxyyxyxyxxy'.replace('xy', '12', 100))\n"
   ]
  },
  {
   "cell_type": "code",
   "execution_count": 537,
   "metadata": {},
   "outputs": [
    {
     "data": {
      "text/plain": [
       "[1, 2, 3, [4]]"
      ]
     },
     "execution_count": 537,
     "metadata": {},
     "output_type": "execute_result"
    }
   ],
   "source": [
    "l1=[1, 2, 3, [4]]\n",
    "l2=list(l1)\n",
    "l2"
   ]
  },
  {
   "cell_type": "code",
   "execution_count": 538,
   "metadata": {},
   "outputs": [
    {
     "data": {
      "text/plain": [
       "(6.0, 16.0)"
      ]
     },
     "execution_count": 538,
     "metadata": {},
     "output_type": "execute_result"
    }
   ],
   "source": [
    "2+4.00, 2**4.0\n"
   ]
  },
  {
   "cell_type": "code",
   "execution_count": 539,
   "metadata": {},
   "outputs": [
    {
     "data": {
      "text/plain": [
       "44"
      ]
     },
     "execution_count": 539,
     "metadata": {},
     "output_type": "execute_result"
    }
   ],
   "source": [
    "int(43.55+2/2)\n"
   ]
  },
  {
   "cell_type": "code",
   "execution_count": 546,
   "metadata": {},
   "outputs": [
    {
     "name": "stdout",
     "output_type": "stream",
     "text": [
      "0\n",
      "0\n",
      "2\n",
      "3\n"
     ]
    }
   ],
   "source": [
    "a = [0, 1, 2, 3]\n",
    "for a[1] in a:\n",
    "    print(a[1])"
   ]
  },
  {
   "cell_type": "code",
   "execution_count": 549,
   "metadata": {},
   "outputs": [
    {
     "data": {
      "text/plain": [
       "0"
      ]
     },
     "execution_count": 549,
     "metadata": {},
     "output_type": "execute_result"
    }
   ],
   "source": [
    "a=[0,1]\n",
    "a[0]"
   ]
  },
  {
   "cell_type": "code",
   "execution_count": 551,
   "metadata": {},
   "outputs": [
    {
     "data": {
      "text/plain": [
       "(0.0, 2.2)"
      ]
     },
     "execution_count": 551,
     "metadata": {},
     "output_type": "execute_result"
    }
   ],
   "source": [
    "divmod(2.2,2.3)"
   ]
  },
  {
   "cell_type": "code",
   "execution_count": 3,
   "metadata": {},
   "outputs": [
    {
     "data": {
      "text/plain": [
       "False"
      ]
     },
     "execution_count": 3,
     "metadata": {},
     "output_type": "execute_result"
    }
   ],
   "source": [
    "import math\n",
    "math.isfinite(float('nan'))"
   ]
  },
  {
   "cell_type": "code",
   "execution_count": 8,
   "metadata": {},
   "outputs": [
    {
     "data": {
      "text/plain": [
       "False"
      ]
     },
     "execution_count": 8,
     "metadata": {},
     "output_type": "execute_result"
    }
   ],
   "source": [
    "math.isfinite(float('nan'))"
   ]
  },
  {
   "cell_type": "code",
   "execution_count": 6,
   "metadata": {},
   "outputs": [
    {
     "data": {
      "text/plain": [
       "float"
      ]
     },
     "execution_count": 6,
     "metadata": {},
     "output_type": "execute_result"
    }
   ],
   "source": [
    "type(float('nan'))"
   ]
  },
  {
   "cell_type": "code",
   "execution_count": 13,
   "metadata": {},
   "outputs": [
    {
     "data": {
      "text/plain": [
       "2.0"
      ]
     },
     "execution_count": 13,
     "metadata": {},
     "output_type": "execute_result"
    }
   ],
   "source": [
    "math.log(100,10)  #answer 100,base10  ---> power2"
   ]
  },
  {
   "cell_type": "code",
   "execution_count": 14,
   "metadata": {},
   "outputs": [
    {
     "data": {
      "text/plain": [
       "'taimo'"
      ]
     },
     "execution_count": 14,
     "metadata": {},
     "output_type": "execute_result"
    }
   ],
   "source": [
    "import os\n",
    "os.getlogin()"
   ]
  },
  {
   "cell_type": "code",
   "execution_count": 15,
   "metadata": {},
   "outputs": [
    {
     "data": {
      "text/plain": [
       "4"
      ]
     },
     "execution_count": 15,
     "metadata": {},
     "output_type": "execute_result"
    }
   ],
   "source": [
    "import pickle\n",
    "pickle.HIGHEST_PROTOCOL\n"
   ]
  },
  {
   "cell_type": "code",
   "execution_count": 16,
   "metadata": {},
   "outputs": [
    {
     "data": {
      "text/plain": [
       "'n'"
      ]
     },
     "execution_count": 16,
     "metadata": {},
     "output_type": "execute_result"
    }
   ],
   "source": [
    "import random\n",
    "random.choice('sun')\n"
   ]
  },
  {
   "cell_type": "code",
   "execution_count": 19,
   "metadata": {},
   "outputs": [
    {
     "ename": "SyntaxError",
     "evalue": "unexpected EOF while parsing (<string>, line 0)",
     "output_type": "error",
     "traceback": [
      "Traceback \u001b[1;36m(most recent call last)\u001b[0m:\n",
      "  File \u001b[0;32m\"C:\\Users\\taimo\\Anaconda3\\lib\\site-packages\\IPython\\core\\interactiveshell.py\"\u001b[0m, line \u001b[0;32m3319\u001b[0m, in \u001b[0;35mrun_code\u001b[0m\n    exec(code_obj, self.user_global_ns, self.user_ns)\n",
      "\u001b[1;36m  File \u001b[1;32m\"<ipython-input-19-a29cdc4ac1f7>\"\u001b[1;36m, line \u001b[1;32m2\u001b[1;36m, in \u001b[1;35m<module>\u001b[1;36m\u001b[0m\n\u001b[1;33m    eval(sys.stdin.readline())\u001b[0m\n",
      "\u001b[1;36m  File \u001b[1;32m\"<string>\"\u001b[1;36m, line \u001b[1;32munknown\u001b[0m\n\u001b[1;33m    \u001b[0m\n\u001b[1;37m    ^\u001b[0m\n\u001b[1;31mSyntaxError\u001b[0m\u001b[1;31m:\u001b[0m unexpected EOF while parsing\n"
     ]
    }
   ],
   "source": [
    "import sys\n",
    "eval(sys.stdin.readline())\n",
    "#\"pakistan\"\n",
    "# The function shown above evaluates the input into a string.\n",
    "# Hence if the input entered is enclosed in double quotes, the output will be enclosed in single quotes.\n",
    "# Therefore, the output of this code is ‘India’."
   ]
  },
  {
   "cell_type": "code",
   "execution_count": 20,
   "metadata": {},
   "outputs": [],
   "source": [
    "import turtle\n"
   ]
  },
  {
   "cell_type": "code",
   "execution_count": 1,
   "metadata": {},
   "outputs": [
    {
     "data": {
      "text/plain": [
       "1"
      ]
     },
     "execution_count": 1,
     "metadata": {},
     "output_type": "execute_result"
    }
   ],
   "source": [
    "1 ^ 0"
   ]
  },
  {
   "cell_type": "code",
   "execution_count": 2,
   "metadata": {},
   "outputs": [
    {
     "data": {
      "text/plain": [
       "1"
      ]
     },
     "execution_count": 2,
     "metadata": {},
     "output_type": "execute_result"
    }
   ],
   "source": [
    "0 ^ 1"
   ]
  },
  {
   "cell_type": "code",
   "execution_count": 9,
   "metadata": {},
   "outputs": [
    {
     "data": {
      "text/plain": [
       "1"
      ]
     },
     "execution_count": 9,
     "metadata": {},
     "output_type": "execute_result"
    }
   ],
   "source": [
    "0 ^ 0 ^ 1"
   ]
  },
  {
   "cell_type": "code",
   "execution_count": 13,
   "metadata": {},
   "outputs": [
    {
     "data": {
      "text/plain": [
       "[5, 6, 7, 8, 9, 5, 6, 7, 8, 9, 5, 6, 7, 8, 9]"
      ]
     },
     "execution_count": 13,
     "metadata": {},
     "output_type": "execute_result"
    }
   ],
   "source": []
  },
  {
   "cell_type": "code",
   "execution_count": 34,
   "metadata": {},
   "outputs": [
    {
     "name": "stdout",
     "output_type": "stream",
     "text": [
      "=>\"timmor\"\n"
     ]
    },
    {
     "data": {
      "text/plain": [
       "('timmor', str)"
      ]
     },
     "execution_count": 34,
     "metadata": {},
     "output_type": "execute_result"
    }
   ],
   "source": [
    "x=eval(input('=>'))\n",
    "x,type(x)"
   ]
  },
  {
   "cell_type": "code",
   "execution_count": 39,
   "metadata": {},
   "outputs": [],
   "source": [
    "#REMEMBER EVAL TAKE STRING ALWAYS AS \n",
    "#INOUT GIVE STRING TO EVAL\n",
    "\n",
    "#in eval if u put string without ' ' it will give you NAME ERROR\n",
    "# 'taimoor' --> 'taimoor'  , str\n",
    "# 12  --> 12,    ,   int\n",
    "#12.2 --> 12.2    ,  float\n",
    "# 1+2j --> (1+2j)   , complex\n",
    "# [1,2,3,4] -->  [1,2,3,4] , list\n",
    "#2,3,4,5  ---> (2,3,4,5) ,tuple\n",
    "# {2,3,4,5,5} --> {2,3,4,5} , set\n",
    "# {'a':0, 'd':'lop'} --->  {'a':0, 'd':'lop'}  ,dict"
   ]
  },
  {
   "cell_type": "code",
   "execution_count": 38,
   "metadata": {},
   "outputs": [
    {
     "data": {
      "text/plain": [
       "'2'"
      ]
     },
     "execution_count": 38,
     "metadata": {},
     "output_type": "execute_result"
    }
   ],
   "source": [
    "eval('\"2\"')"
   ]
  },
  {
   "cell_type": "code",
   "execution_count": 43,
   "metadata": {},
   "outputs": [
    {
     "ename": "NameError",
     "evalue": "name 'abc' is not defined",
     "output_type": "error",
     "traceback": [
      "\u001b[1;31m---------------------------------------------------------------------------\u001b[0m",
      "\u001b[1;31mNameError\u001b[0m                                 Traceback (most recent call last)",
      "\u001b[1;32m<ipython-input-43-cff0bcdb089c>\u001b[0m in \u001b[0;36m<module>\u001b[1;34m\u001b[0m\n\u001b[1;32m----> 1\u001b[1;33m \u001b[0meval\u001b[0m\u001b[1;33m(\u001b[0m\u001b[1;34m'abc'\u001b[0m\u001b[1;33m)\u001b[0m \u001b[1;31m#single quote does not work with eval it does not read it it ignore it and then see value\u001b[0m\u001b[1;33m\u001b[0m\u001b[1;33m\u001b[0m\u001b[0m\n\u001b[0m",
      "\u001b[1;32m<string>\u001b[0m in \u001b[0;36m<module>\u001b[1;34m\u001b[0m\n",
      "\u001b[1;31mNameError\u001b[0m: name 'abc' is not defined"
     ]
    }
   ],
   "source": [
    "eval('abc') #single quote does not work with eval it does not read it it ignore it and then see value"
   ]
  },
  {
   "cell_type": "code",
   "execution_count": 44,
   "metadata": {},
   "outputs": [
    {
     "data": {
      "text/plain": [
       "'taimoor'"
      ]
     },
     "execution_count": 44,
     "metadata": {},
     "output_type": "execute_result"
    }
   ],
   "source": [
    "eval(\"'taimoor'\")"
   ]
  },
  {
   "cell_type": "code",
   "execution_count": 45,
   "metadata": {},
   "outputs": [
    {
     "data": {
      "text/plain": [
       "'taimoor'"
      ]
     },
     "execution_count": 45,
     "metadata": {},
     "output_type": "execute_result"
    }
   ],
   "source": [
    "eval('\"\"\"taimoor\"\"\"')"
   ]
  },
  {
   "cell_type": "code",
   "execution_count": 46,
   "metadata": {},
   "outputs": [
    {
     "data": {
      "text/plain": [
       "[1, 2, 3, 4]"
      ]
     },
     "execution_count": 46,
     "metadata": {},
     "output_type": "execute_result"
    }
   ],
   "source": [
    "eval('[1,2,3,4]')"
   ]
  },
  {
   "cell_type": "code",
   "execution_count": 51,
   "metadata": {},
   "outputs": [
    {
     "data": {
      "text/plain": [
       "'taimmors gooal'"
      ]
     },
     "execution_count": 51,
     "metadata": {},
     "output_type": "execute_result"
    }
   ],
   "source": [
    "eval(\"'taimmors gooal'\") #back slach give error "
   ]
  },
  {
   "cell_type": "code",
   "execution_count": 55,
   "metadata": {},
   "outputs": [
    {
     "data": {
      "text/plain": [
       "2"
      ]
     },
     "execution_count": 55,
     "metadata": {},
     "output_type": "execute_result"
    }
   ],
   "source": [
    "eval(str('2'))"
   ]
  },
  {
   "cell_type": "code",
   "execution_count": 72,
   "metadata": {},
   "outputs": [
    {
     "ename": "TypeError",
     "evalue": "eval() arg 1 must be a string, bytes or code object",
     "output_type": "error",
     "traceback": [
      "\u001b[1;31m---------------------------------------------------------------------------\u001b[0m",
      "\u001b[1;31mTypeError\u001b[0m                                 Traceback (most recent call last)",
      "\u001b[1;32m<ipython-input-72-8c6537e71ac6>\u001b[0m in \u001b[0;36m<module>\u001b[1;34m\u001b[0m\n\u001b[1;32m----> 1\u001b[1;33m \u001b[0meval\u001b[0m\u001b[1;33m(\u001b[0m\u001b[0mfloat\u001b[0m\u001b[1;33m(\u001b[0m\u001b[1;34m'2.3'\u001b[0m\u001b[1;33m)\u001b[0m\u001b[1;33m)\u001b[0m\u001b[1;33m\u001b[0m\u001b[1;33m\u001b[0m\u001b[0m\n\u001b[0m",
      "\u001b[1;31mTypeError\u001b[0m: eval() arg 1 must be a string, bytes or code object"
     ]
    }
   ],
   "source": [
    "eval(float('2.3'))"
   ]
  },
  {
   "cell_type": "code",
   "execution_count": 73,
   "metadata": {},
   "outputs": [],
   "source": [
    "import random"
   ]
  },
  {
   "cell_type": "code",
   "execution_count": 74,
   "metadata": {},
   "outputs": [
    {
     "name": "stdout",
     "output_type": "stream",
     "text": [
      "0.8147389654975249\n",
      "0.29120992724288297\n",
      "0.947994768278619\n",
      "0.8773618248776069\n",
      "0.5746042704127493\n",
      "0.25380130663570943\n",
      "0.39443660135566416\n",
      "0.7223842660938535\n",
      "0.9853608346552054\n",
      "0.262777754162288\n",
      "0.25651251742600445\n",
      "0.4643918512364763\n"
     ]
    }
   ],
   "source": [
    "random.random()  #take no argument if argument given give TYPEERROR\n",
    "\n",
    "#value between 0-1\n",
    "for i in range(12):\n",
    "    print(random.random())"
   ]
  },
  {
   "cell_type": "code",
   "execution_count": 78,
   "metadata": {},
   "outputs": [
    {
     "name": "stdout",
     "output_type": "stream",
     "text": [
      "1\n",
      "4\n",
      "7\n"
     ]
    }
   ],
   "source": [
    "for i in list(range(1,10,3)):\n",
    "    print(i)"
   ]
  },
  {
   "cell_type": "code",
   "execution_count": 94,
   "metadata": {},
   "outputs": [
    {
     "data": {
      "text/plain": [
       "[0,\n",
       " 3,\n",
       " 6,\n",
       " 9,\n",
       " 12,\n",
       " 15,\n",
       " 18,\n",
       " 21,\n",
       " 24,\n",
       " 27,\n",
       " 30,\n",
       " 33,\n",
       " 36,\n",
       " 39,\n",
       " 42,\n",
       " 45,\n",
       " 48,\n",
       " 51,\n",
       " 54,\n",
       " 57,\n",
       " 60,\n",
       " 63,\n",
       " 66,\n",
       " 69,\n",
       " 72,\n",
       " 75,\n",
       " 78,\n",
       " 81,\n",
       " 84,\n",
       " 87,\n",
       " 90,\n",
       " 93,\n",
       " 96,\n",
       " 99]"
      ]
     },
     "execution_count": 94,
     "metadata": {},
     "output_type": "execute_result"
    }
   ],
   "source": [
    "list(range(0,100,3)) #that 3 is step means after 0 go and print 3irth one which is 3 and ater 3 print next third one which is 6"
   ]
  },
  {
   "cell_type": "code",
   "execution_count": 109,
   "metadata": {},
   "outputs": [
    {
     "name": "stdout",
     "output_type": "stream",
     "text": [
      "3 6 9 12 15 18 21 24 27 30 33 36 39 42 45 48 51 54 57 60 63 66 69 72 75 78 81 84 87 90 93 96 99 102 105 108 111 114 117 120 123 126 129 132 135 138 141 144 147 150 153 156 159 162 165 168 171 174 177 180 183 186 189 192 195 198 201 204 207 210 213 216 219 222 225 228 231 234 237 240 243 246 249 252 255 258 261 264 267 270 273 276 279 282 285 288 291 294 297 300 "
     ]
    },
    {
     "data": {
      "text/plain": [
       "100"
      ]
     },
     "execution_count": 109,
     "metadata": {},
     "output_type": "execute_result"
    }
   ],
   "source": [
    "#print 3table  till 100  values\n",
    "c=0\n",
    "for m in range(3,301,3):\n",
    "    print(m,end=' ')\n",
    "    c+=1\n",
    "c"
   ]
  },
  {
   "cell_type": "code",
   "execution_count": 113,
   "metadata": {},
   "outputs": [
    {
     "data": {
      "text/plain": [
       "3.0"
      ]
     },
     "execution_count": 113,
     "metadata": {},
     "output_type": "execute_result"
    }
   ],
   "source": [
    "# type of range(3,100,3)\n",
    "(301-3/3)/100 "
   ]
  },
  {
   "cell_type": "code",
   "execution_count": 124,
   "metadata": {},
   "outputs": [
    {
     "data": {
      "text/plain": [
       "201"
      ]
     },
     "execution_count": 124,
     "metadata": {},
     "output_type": "execute_result"
    }
   ],
   "source": [
    "table=4\n",
    "table_len=50\n",
    "table_sart_value=4\n",
    "table*table_len+1\n",
    "# table * table_length + 1 ==>gives u range end value"
   ]
  },
  {
   "cell_type": "code",
   "execution_count": 126,
   "metadata": {},
   "outputs": [
    {
     "name": "stdout",
     "output_type": "stream",
     "text": [
      "4 8 12 16 20 24 28 32 36 40 44 48 52 56 60 64 68 72 76 80 84 88 92 96 100 104 108 112 116 120 124 128 132 136 140 144 148 152 156 160 164 168 172 176 180 184 188 192 196 200 204 208 212 216 220 224 228 232 236 240 244 248 252 256 260 264 268 272 276 280 284 288 292 296 300 304 308 312 316 320 324 328 332 336 340 344 348 352 356 360 364 368 372 376 380 384 388 392 396 400 "
     ]
    },
    {
     "data": {
      "text/plain": [
       "100"
      ]
     },
     "execution_count": 126,
     "metadata": {},
     "output_type": "execute_result"
    }
   ],
   "source": [
    "c=0\n",
    "for m in range(4,401,4): #for 5 we have range(5,501,5)   for 6 range(6,601,5):          ---100---values--- \n",
    "    print(m,end=' ')\n",
    "    c+=1\n",
    "c"
   ]
  },
  {
   "cell_type": "code",
   "execution_count": 140,
   "metadata": {},
   "outputs": [
    {
     "name": "stdout",
     "output_type": "stream",
     "text": [
      "1  x  1\n",
      "1  x  2\n",
      "1  x  3\n",
      "1  x  4\n",
      "1  x  5\n",
      "1  x  6\n",
      "1  x  7\n",
      "1  x  8\n",
      "1  x  9\n",
      "1  x 10\n",
      "1  x 11\n",
      "1  x 12\n",
      "2  x  1\n",
      "2  x  2\n",
      "2  x  3\n",
      "2  x  4\n",
      "2  x  5\n",
      "2  x  6\n",
      "2  x  7\n",
      "2  x  8\n",
      "2  x  9\n",
      "2  x 10\n",
      "2  x 11\n",
      "2  x 12\n",
      "3  x  1\n",
      "3  x  2\n",
      "3  x  3\n",
      "3  x  4\n",
      "3  x  5\n",
      "3  x  6\n",
      "3  x  7\n",
      "3  x  8\n",
      "3  x  9\n",
      "3  x 10\n",
      "3  x 11\n",
      "3  x 12\n",
      "4  x  1\n",
      "4  x  2\n",
      "4  x  3\n",
      "4  x  4\n",
      "4  x  5\n",
      "4  x  6\n",
      "4  x  7\n",
      "4  x  8\n",
      "4  x  9\n",
      "4  x 10\n",
      "4  x 11\n",
      "4  x 12\n",
      "5  x  1\n",
      "5  x  2\n",
      "5  x  3\n",
      "5  x  4\n",
      "5  x  5\n",
      "5  x  6\n",
      "5  x  7\n",
      "5  x  8\n",
      "5  x  9\n",
      "5  x 10\n",
      "5  x 11\n",
      "5  x 12\n",
      "6  x  1\n",
      "6  x  2\n",
      "6  x  3\n",
      "6  x  4\n",
      "6  x  5\n",
      "6  x  6\n",
      "6  x  7\n",
      "6  x  8\n",
      "6  x  9\n",
      "6  x 10\n",
      "6  x 11\n",
      "6  x 12\n",
      "7  x  1\n",
      "7  x  2\n",
      "7  x  3\n",
      "7  x  4\n",
      "7  x  5\n",
      "7  x  6\n",
      "7  x  7\n",
      "7  x  8\n",
      "7  x  9\n",
      "7  x 10\n",
      "7  x 11\n",
      "7  x 12\n",
      "8  x  1\n",
      "8  x  2\n",
      "8  x  3\n",
      "8  x  4\n",
      "8  x  5\n",
      "8  x  6\n",
      "8  x  7\n",
      "8  x  8\n",
      "8  x  9\n",
      "8  x 10\n",
      "8  x 11\n",
      "8  x 12\n",
      "9  x  1\n",
      "9  x  2\n",
      "9  x  3\n",
      "9  x  4\n",
      "9  x  5\n",
      "9  x  6\n",
      "9  x  7\n",
      "9  x  8\n",
      "9  x  9\n",
      "9  x 10\n",
      "9  x 11\n",
      "9  x 12\n",
      "10 x  1\n",
      "10 x  2\n",
      "10 x  3\n",
      "10 x  4\n",
      "10 x  5\n",
      "10 x  6\n",
      "10 x  7\n",
      "10 x  8\n",
      "10 x  9\n",
      "10 x 10\n",
      "10 x 11\n",
      "10 x 12\n",
      "11 x  1\n",
      "11 x  2\n",
      "11 x  3\n",
      "11 x  4\n",
      "11 x  5\n",
      "11 x  6\n",
      "11 x  7\n",
      "11 x  8\n",
      "11 x  9\n",
      "11 x 10\n",
      "11 x 11\n",
      "11 x 12\n",
      "12 x  1\n",
      "12 x  2\n",
      "12 x  3\n",
      "12 x  4\n",
      "12 x  5\n",
      "12 x  6\n",
      "12 x  7\n",
      "12 x  8\n",
      "12 x  9\n",
      "12 x 10\n",
      "12 x 11\n",
      "12 x 12\n"
     ]
    }
   ],
   "source": [
    "#showing table 1-12 combinations\n",
    "\n",
    "for first in range(1,13):\n",
    "    for second in range(1,13):\n",
    "        print('{0:<3d}x{1:>3d}'.format(first,second))"
   ]
  },
  {
   "cell_type": "code",
   "execution_count": 156,
   "metadata": {},
   "outputs": [
    {
     "data": {
      "text/plain": [
       "range(1, 10, 3)"
      ]
     },
     "execution_count": 156,
     "metadata": {},
     "output_type": "execute_result"
    }
   ],
   "source": [
    "range(1,10,3)"
   ]
  },
  {
   "cell_type": "code",
   "execution_count": 162,
   "metadata": {},
   "outputs": [
    {
     "data": {
      "text/plain": [
       "[3, 6, 9, 12, 15, 18, 21, 24, 27, 30]"
      ]
     },
     "execution_count": 162,
     "metadata": {},
     "output_type": "execute_result"
    }
   ],
   "source": [
    "list(range(3,31,3)) #never to arithmat on ary kind of operation on range()"
   ]
  },
  {
   "cell_type": "code",
   "execution_count": 163,
   "metadata": {},
   "outputs": [],
   "source": [
    "import random"
   ]
  },
  {
   "cell_type": "code",
   "execution_count": 170,
   "metadata": {},
   "outputs": [
    {
     "data": {
      "text/plain": [
       "14"
      ]
     },
     "execution_count": 170,
     "metadata": {},
     "output_type": "execute_result"
    }
   ],
   "source": [
    "random.randint(1,10)*2 #it include both limit but only give one at a time so wrap it in for loop \n",
    "                       #u can perform arthematic as it give integer and it's type is interger\n",
    "                        # now it is giving you only one value from table of 2   from 1-10 "
   ]
  },
  {
   "cell_type": "code",
   "execution_count": 182,
   "metadata": {},
   "outputs": [
    {
     "name": "stdout",
     "output_type": "stream",
     "text": [
      "2  x 1  =    2\n",
      "2  x 2  =    4\n",
      "2  x 3  =    6\n",
      "2  x 4  =    8\n",
      "2  x 5  =   10\n",
      "2  x 6  =   12\n",
      "2  x 7  =   14\n",
      "2  x 8  =   16\n",
      "2  x 9  =   18\n",
      "2  x 10 =   20\n"
     ]
    }
   ],
   "source": [
    "for x in range(1,11):\n",
    "    print('{0:<3d}x{1:^4d}={2:>5d}'.format(2,x,2*x))"
   ]
  },
  {
   "cell_type": "code",
   "execution_count": 185,
   "metadata": {},
   "outputs": [
    {
     "data": {
      "text/plain": [
       "9"
      ]
     },
     "execution_count": 185,
     "metadata": {},
     "output_type": "execute_result"
    }
   ],
   "source": [
    "random.randint(1,10)*3  #any value from three table under 1-10 length of table including limits"
   ]
  },
  {
   "cell_type": "code",
   "execution_count": 217,
   "metadata": {},
   "outputs": [
    {
     "data": {
      "text/plain": [
       "(int, 8)"
      ]
     },
     "execution_count": 217,
     "metadata": {},
     "output_type": "execute_result"
    }
   ],
   "source": [
    "#randoms.randrange is not itertable it also gives u \n",
    "type( random.randrange(3,31,3)),random.randrange(1,10,1)  *1"
   ]
  },
  {
   "cell_type": "code",
   "execution_count": 223,
   "metadata": {},
   "outputs": [
    {
     "name": "stdout",
     "output_type": "stream",
     "text": [
      "6\n",
      "2\n",
      "2\n",
      "6\n",
      "2\n",
      "0\n",
      "2\n",
      "8\n",
      "2\n",
      "8\n",
      "2\n",
      "0\n",
      "0\n",
      "0\n",
      "6\n",
      "2\n",
      "8\n",
      "4\n",
      "8\n",
      "2\n",
      "6\n",
      "2\n",
      "2\n",
      "0\n",
      "0\n",
      "8\n",
      "6\n",
      "2\n",
      "8\n",
      "8\n",
      "0\n",
      "2\n",
      "8\n",
      "0\n",
      "2\n",
      "2\n",
      "2\n",
      "4\n",
      "4\n",
      "8\n",
      "4\n",
      "6\n",
      "8\n",
      "2\n",
      "2\n",
      "6\n",
      "8\n",
      "2\n",
      "4\n",
      "4\n",
      "4\n",
      "0\n",
      "4\n",
      "0\n",
      "0\n",
      "8\n",
      "2\n",
      "8\n",
      "4\n",
      "6\n",
      "0\n",
      "2\n",
      "0\n",
      "6\n",
      "8\n",
      "8\n",
      "4\n",
      "0\n",
      "8\n",
      "0\n",
      "6\n",
      "8\n",
      "0\n",
      "2\n",
      "0\n",
      "8\n",
      "6\n",
      "8\n",
      "8\n",
      "2\n",
      "4\n",
      "0\n",
      "0\n",
      "0\n",
      "0\n",
      "4\n",
      "4\n",
      "8\n",
      "0\n",
      "8\n",
      "6\n",
      "6\n",
      "2\n",
      "0\n",
      "8\n",
      "8\n",
      "4\n",
      "8\n",
      "8\n",
      "0\n"
     ]
    }
   ],
   "source": [
    "for i in range(0,100):\n",
    "    print(random.randrange(0,10,2)) #just like range() but now give value and random  \n",
    "                                    #random.randrange(0,10,2) gives one value from 0,2,4,6,8,"
   ]
  },
  {
   "cell_type": "code",
   "execution_count": 255,
   "metadata": {
    "scrolled": true
   },
   "outputs": [
    {
     "name": "stdout",
     "output_type": "stream",
     "text": [
      "['c', 'b', 'a', 'd', 'e']\n",
      "['c', 'b', 'a', 'd', 'e']\n",
      "======\n",
      "['c', 'b', 'd', 'e', 'a']\n",
      "['c', 'b', 'd', 'e', 'a']\n",
      "======\n",
      "['e', 'a', 'd', 'b', 'c']\n",
      "['e', 'a', 'd', 'b', 'c']\n",
      "======\n"
     ]
    },
    {
     "data": {
      "text/plain": [
       "{1: ['c', 'b', 'a', 'd', 'e'],\n",
       " 2: ['c', 'b', 'd', 'e', 'a'],\n",
       " 3: ['e', 'a', 'd', 'b', 'c']}"
      ]
     },
     "execution_count": 255,
     "metadata": {},
     "output_type": "execute_result"
    }
   ],
   "source": [
    "import random\n",
    "a=['a','b','c','d','e']\n",
    "dic=dict()\n",
    "for i in range(1,10):\n",
    "    random.shuffle(a,random=random.random)\n",
    "    print(a)\n",
    "    dic[i]=a[:]\n",
    "    print(dic[i],end='\\n======\\n')\n",
    "    if i == 3:\n",
    "        break\n",
    "    else:\n",
    "        pass\n",
    "dic"
   ]
  },
  {
   "cell_type": "code",
   "execution_count": 259,
   "metadata": {},
   "outputs": [
    {
     "name": "stdout",
     "output_type": "stream",
     "text": [
      "{'A': []}\n"
     ]
    }
   ],
   "source": [
    "root = {}\n",
    "root.setdefault('A', [])\n",
    "print(root)"
   ]
  },
  {
   "cell_type": "code",
   "execution_count": 261,
   "metadata": {},
   "outputs": [
    {
     "data": {
      "text/plain": [
       "{1: ['cd', 'f']}"
      ]
     },
     "execution_count": 261,
     "metadata": {},
     "output_type": "execute_result"
    }
   ],
   "source": [
    "a=['cd']\n",
    "d={}\n",
    "d[1]=a   #if u change a dictionray values at key 1 will also change\n",
    "a.append('f')\n",
    "d"
   ]
  },
  {
   "cell_type": "code",
   "execution_count": 276,
   "metadata": {},
   "outputs": [
    {
     "name": "stdout",
     "output_type": "stream",
     "text": [
      "range=> 1-10: 1-10\n",
      "1,1,2,1,4,2,8,5,2,10,6,8,5,5,8,9,6,5,7,4,5,1,4,4,3,5,3,4,7,6,10,8,10,9,5,5,8,3,10,3,3,1,4,1,6,9,10,5,3,6,2,5,6,3,10,8,8,7,4,1,10,5,3,3,6,2,5,6,9,2,1,5,6,10,7,8,10,6,8,5,2,8,7,8,3,1,5,4,3,5,8,1,2,2,2,9,1,9,2,2,6,6,6,2,8,7,9,7,6,7,5,5,9,1,8,10,8,6,1,10,9,3,1,9,7,6,8,5,4,8,4,1,6,7,8,5,7,4,8,1,8,10,1,2,2,10,5,1,4,2,2,2,4,4,5,8,10,2,10,8,10,6,7,2,8,5,6,9,9,7,8,8,3,10,4,9,2,9,1,9,3,8,10,8,2,4,1,8,1,5,------\n",
      "selected 5\n"
     ]
    }
   ],
   "source": [
    "import keyboard,time\n",
    "ls=input('range=> 1-10: ').split('-')\n",
    "while True:\n",
    "        a=random.randint(int(ls[0]),int(ls[1]))\n",
    "        print(a,end=',')\n",
    "        time.sleep(0.01)\n",
    "        if keyboard.is_pressed('s'):\n",
    "            print('------')\n",
    "            print('selected',a)\n",
    "            break"
   ]
  },
  {
   "cell_type": "code",
   "execution_count": 286,
   "metadata": {},
   "outputs": [
    {
     "data": {
      "text/plain": [
       "3"
      ]
     },
     "execution_count": 286,
     "metadata": {},
     "output_type": "execute_result"
    }
   ],
   "source": [
    "random.choice([1.1,222,3,4,5.3,5.3,6]) #onyl one"
   ]
  },
  {
   "cell_type": "code",
   "execution_count": 288,
   "metadata": {},
   "outputs": [
    {
     "data": {
      "text/plain": [
       "[5.3, 1.1, 3, 222, 222, 4, 4, 5.3, 5.3, 4]"
      ]
     },
     "execution_count": 288,
     "metadata": {},
     "output_type": "execute_result"
    }
   ],
   "source": [
    "random.choices([1.1,222,3,4,5.3,5.3,6],k=10)  #select 10 out of list and wiht replacement"
   ]
  },
  {
   "cell_type": "code",
   "execution_count": 291,
   "metadata": {},
   "outputs": [
    {
     "data": {
      "text/plain": [
       "[6, 2, 4, 4, 3, 5, 5, 6, 2, 4]"
      ]
     },
     "execution_count": 291,
     "metadata": {},
     "output_type": "execute_result"
    }
   ],
   "source": [
    "random.choices((2,3,4,4,5,5,6),k=10)  #select 10 out of list and wiht replacement\n",
    "                                        #it always give u list back\n",
    "                                        #give type error if dictionary use"
   ]
  },
  {
   "cell_type": "code",
   "execution_count": 296,
   "metadata": {},
   "outputs": [
    {
     "data": {
      "text/plain": [
       "['f', 'd', 'c', 'a', 'f', 'a', 'a', 'a', 'e', 'f']"
      ]
     },
     "execution_count": 296,
     "metadata": {},
     "output_type": "execute_result"
    }
   ],
   "source": [
    "random.choices('abcdef',k=10)  #work with string also  but give result in list at the ened"
   ]
  },
  {
   "cell_type": "code",
   "execution_count": 308,
   "metadata": {},
   "outputs": [
    {
     "data": {
      "text/plain": [
       "'d'"
      ]
     },
     "execution_count": 308,
     "metadata": {},
     "output_type": "execute_result"
    }
   ],
   "source": [
    "random.choice('abcd')"
   ]
  },
  {
   "cell_type": "code",
   "execution_count": 299,
   "metadata": {},
   "outputs": [],
   "source": [
    "student={'name':'taimoor','age':28}"
   ]
  },
  {
   "cell_type": "code",
   "execution_count": 300,
   "metadata": {},
   "outputs": [
    {
     "data": {
      "text/plain": [
       "'taimoor'"
      ]
     },
     "execution_count": 300,
     "metadata": {},
     "output_type": "execute_result"
    }
   ],
   "source": [
    "student.get('name','Ali')"
   ]
  },
  {
   "cell_type": "code",
   "execution_count": 301,
   "metadata": {},
   "outputs": [
    {
     "data": {
      "text/plain": [
       "'272-C Asghral Mall Scheme'"
      ]
     },
     "execution_count": 301,
     "metadata": {},
     "output_type": "execute_result"
    }
   ],
   "source": [
    "student.get('address','272-C Asghral Mall Scheme')"
   ]
  },
  {
   "cell_type": "code",
   "execution_count": 302,
   "metadata": {},
   "outputs": [
    {
     "data": {
      "text/plain": [
       "{'name': 'taimoor', 'age': 28}"
      ]
     },
     "execution_count": 302,
     "metadata": {},
     "output_type": "execute_result"
    }
   ],
   "source": [
    "student   #get does not stroed key:value paire in real get second string is just a message to user"
   ]
  },
  {
   "cell_type": "code",
   "execution_count": 303,
   "metadata": {},
   "outputs": [
    {
     "data": {
      "text/plain": [
       "'taimoor'"
      ]
     },
     "execution_count": 303,
     "metadata": {},
     "output_type": "execute_result"
    }
   ],
   "source": [
    "student.setdefault('name','Taimoor Arif')"
   ]
  },
  {
   "cell_type": "code",
   "execution_count": 304,
   "metadata": {},
   "outputs": [
    {
     "data": {
      "text/plain": [
       "{'name': 'taimoor', 'age': 28}"
      ]
     },
     "execution_count": 304,
     "metadata": {},
     "output_type": "execute_result"
    }
   ],
   "source": [
    "student"
   ]
  },
  {
   "cell_type": "code",
   "execution_count": 305,
   "metadata": {},
   "outputs": [
    {
     "data": {
      "text/plain": [
       "'272-c asghral mall scheme'"
      ]
     },
     "execution_count": 305,
     "metadata": {},
     "output_type": "execute_result"
    }
   ],
   "source": [
    "student.setdefault('address','272-c asghral mall scheme')"
   ]
  },
  {
   "cell_type": "code",
   "execution_count": 307,
   "metadata": {},
   "outputs": [
    {
     "data": {
      "text/plain": [
       "{'name': 'taimoor', 'age': 28, 'address': '272-c asghral mall scheme'}"
      ]
     },
     "execution_count": 307,
     "metadata": {},
     "output_type": "execute_result"
    }
   ],
   "source": [
    "student   #setdefault also store the key:value pair in side if not found  #its second string is a value and first is key "
   ]
  },
  {
   "cell_type": "code",
   "execution_count": 310,
   "metadata": {},
   "outputs": [
    {
     "data": {
      "text/plain": [
       "'defghij'"
      ]
     },
     "execution_count": 310,
     "metadata": {},
     "output_type": "execute_result"
    }
   ],
   "source": [
    "x='abcdefghijklmnop'\n",
    "x[3:10]"
   ]
  },
  {
   "cell_type": "code",
   "execution_count": 311,
   "metadata": {},
   "outputs": [
    {
     "data": {
      "text/plain": [
       "True"
      ]
     },
     "execution_count": 311,
     "metadata": {},
     "output_type": "execute_result"
    }
   ],
   "source": [
    "[2,3] == [2,3]"
   ]
  },
  {
   "cell_type": "markdown",
   "metadata": {},
   "source": [
    "https://www.programiz.com/python-programming/file-operation\n",
    "<br>file read write"
   ]
  },
  {
   "cell_type": "code",
   "execution_count": 313,
   "metadata": {},
   "outputs": [],
   "source": [
    "import datetime"
   ]
  },
  {
   "cell_type": "code",
   "execution_count": 343,
   "metadata": {},
   "outputs": [
    {
     "data": {
      "text/plain": [
       "(datetime.datetime(2020, 3, 8, 12, 2, 43, 895766), datetime.date(2020, 3, 8))"
      ]
     },
     "execution_count": 343,
     "metadata": {},
     "output_type": "execute_result"
    }
   ],
   "source": [
    "to_day=datetime.datetime.today()\n",
    "to_day,datetime.date.today()"
   ]
  },
  {
   "cell_type": "code",
   "execution_count": 335,
   "metadata": {},
   "outputs": [
    {
     "data": {
      "text/plain": [
       "'Sun is Sunday ,Mar is March, 2020-03-08, 11:59:52'"
      ]
     },
     "execution_count": 335,
     "metadata": {},
     "output_type": "execute_result"
    }
   ],
   "source": [
    "to_day.strftime('%a is %A ,%b is %B, %C%y-%m-%d, %H:%M:%S')"
   ]
  },
  {
   "cell_type": "code",
   "execution_count": 346,
   "metadata": {},
   "outputs": [],
   "source": [
    "date_agki=datetime.date.today()"
   ]
  },
  {
   "cell_type": "code",
   "execution_count": 362,
   "metadata": {},
   "outputs": [
    {
     "data": {
      "text/plain": [
       "2020"
      ]
     },
     "execution_count": 362,
     "metadata": {},
     "output_type": "execute_result"
    }
   ],
   "source": [
    "date_agki.year"
   ]
  },
  {
   "cell_type": "markdown",
   "metadata": {},
   "source": [
    "### how to give your desire date or time or both \n",
    "https://stackabuse.com/how-to-format-dates-in-python/"
   ]
  },
  {
   "cell_type": "code",
   "execution_count": 375,
   "metadata": {},
   "outputs": [
    {
     "data": {
      "text/plain": [
       "datetime.datetime(2020, 2, 2, 12, 10)"
      ]
     },
     "execution_count": 375,
     "metadata": {},
     "output_type": "execute_result"
    }
   ],
   "source": [
    "datetime.datetime(2020,2,2,12,10) #datetime"
   ]
  },
  {
   "cell_type": "code",
   "execution_count": 424,
   "metadata": {},
   "outputs": [
    {
     "data": {
      "text/plain": [
       "datetime.date(2020, 2, 2)"
      ]
     },
     "execution_count": 424,
     "metadata": {},
     "output_type": "execute_result"
    }
   ],
   "source": [
    "datetime.date(2020,2,2) #date only year,month,day\n",
    "#datetime.date(2020,2,2).strftime('%Y %m %d')  online time to string format"
   ]
  },
  {
   "cell_type": "code",
   "execution_count": 412,
   "metadata": {},
   "outputs": [
    {
     "data": {
      "text/plain": [
       "datetime.time(16, 3, 3)"
      ]
     },
     "execution_count": 412,
     "metadata": {},
     "output_type": "execute_result"
    }
   ],
   "source": [
    "datetime.time(16,3,3)  #time only hr0-23,minutes,seconds,milisecond\n",
    "\n",
    "# datetime.time(16,3,3).strftime('%H:%M:%S') oneline convert to string format"
   ]
  },
  {
   "cell_type": "code",
   "execution_count": 399,
   "metadata": {},
   "outputs": [
    {
     "data": {
      "text/plain": [
       "datetime.date(2020, 3, 8)"
      ]
     },
     "execution_count": 399,
     "metadata": {},
     "output_type": "execute_result"
    }
   ],
   "source": [
    "datetime.date.today()\n"
   ]
  },
  {
   "cell_type": "code",
   "execution_count": 431,
   "metadata": {},
   "outputs": [
    {
     "data": {
      "text/plain": [
       "'12:43:04'"
      ]
     },
     "execution_count": 431,
     "metadata": {},
     "output_type": "execute_result"
    }
   ],
   "source": [
    "datetime.datetime.now().time().strftime('%X')"
   ]
  },
  {
   "cell_type": "code",
   "execution_count": 440,
   "metadata": {},
   "outputs": [
    {
     "name": "stdout",
     "output_type": "stream",
     "text": [
      "     6\n"
     ]
    }
   ],
   "source": [
    "print('{:6d}'.format(6))"
   ]
  },
  {
   "cell_type": "code",
   "execution_count": 441,
   "metadata": {},
   "outputs": [
    {
     "data": {
      "text/plain": [
       "12"
      ]
     },
     "execution_count": 441,
     "metadata": {},
     "output_type": "execute_result"
    }
   ],
   "source": [
    "5+6\\\n",
    "+1"
   ]
  },
  {
   "cell_type": "markdown",
   "metadata": {},
   "source": [
    "### Precedence"
   ]
  },
  {
   "cell_type": "raw",
   "metadata": {},
   "source": [
    "Operators\tMeaning\n",
    "()                          Parentheses\n",
    "**                          Exponent\n",
    "+x, -x, ~x                  Unary plus, Unary minus, Bitwise NOT\n",
    "*, /, //, %                 Multiplication, Division, Floor division, Modulus\n",
    "+, -                        Addition, Subtraction\n",
    "<<, >>                      Bitwise shift operators\n",
    "&                           Bitwise AND\n",
    "^                           Bitwise XOR\n",
    "|                           Bitwise OR\n",
    "==, !=, >, >=, <, <=, , \tComparisions,\n",
    "is, is not                  Identity,\n",
    "in, not in                  Membership operators\n",
    "not\t                        Logical NOT\n",
    "and\t                        Logical AND\n",
    "or\t                        Logical OR"
   ]
  },
  {
   "cell_type": "raw",
   "metadata": {},
   "source": [
    "PEMDAS"
   ]
  },
  {
   "cell_type": "code",
   "execution_count": 447,
   "metadata": {},
   "outputs": [
    {
     "data": {
      "text/plain": [
       "(True, True)"
      ]
     },
     "execution_count": 447,
     "metadata": {},
     "output_type": "execute_result"
    }
   ],
   "source": [
    "x='go'\n",
    "y='go'\n",
    "x is y,x==y"
   ]
  },
  {
   "cell_type": "code",
   "execution_count": 455,
   "metadata": {},
   "outputs": [
    {
     "data": {
      "text/plain": [
       "(False, True)"
      ]
     },
     "execution_count": 455,
     "metadata": {},
     "output_type": "execute_result"
    }
   ],
   "source": [
    "2.0 is 2    ,   2 == 2.0"
   ]
  },
  {
   "cell_type": "code",
   "execution_count": 451,
   "metadata": {},
   "outputs": [
    {
     "data": {
      "text/plain": [
       "(140735259054944, 140735259054944, 2744455771216)"
      ]
     },
     "execution_count": 451,
     "metadata": {},
     "output_type": "execute_result"
    }
   ],
   "source": [
    "id(2),id(2),id(2.0)"
   ]
  },
  {
   "cell_type": "code",
   "execution_count": 452,
   "metadata": {},
   "outputs": [
    {
     "data": {
      "text/plain": [
       "2744455771240"
      ]
     },
     "execution_count": 452,
     "metadata": {},
     "output_type": "execute_result"
    }
   ],
   "source": [
    "id(2.0)"
   ]
  },
  {
   "cell_type": "code",
   "execution_count": 466,
   "metadata": {},
   "outputs": [
    {
     "data": {
      "text/plain": [
       "True"
      ]
     },
     "execution_count": 466,
     "metadata": {},
     "output_type": "execute_result"
    }
   ],
   "source": [
    "'Abbbbbbb'<'ab'"
   ]
  },
  {
   "cell_type": "code",
   "execution_count": 459,
   "metadata": {},
   "outputs": [
    {
     "data": {
      "text/plain": [
       "(65, 97)"
      ]
     },
     "execution_count": 459,
     "metadata": {},
     "output_type": "execute_result"
    }
   ],
   "source": [
    "ord('A'),ord('a')"
   ]
  },
  {
   "cell_type": "code",
   "execution_count": 472,
   "metadata": {},
   "outputs": [
    {
     "data": {
      "text/plain": [
       "('Z', 'z', '^')"
      ]
     },
     "execution_count": 472,
     "metadata": {},
     "output_type": "execute_result"
    }
   ],
   "source": [
    "chr(25+65),chr(97+25),chr(94)"
   ]
  },
  {
   "cell_type": "code",
   "execution_count": 463,
   "metadata": {},
   "outputs": [
    {
     "data": {
      "text/plain": [
       "(163, 9766)"
      ]
     },
     "execution_count": 463,
     "metadata": {},
     "output_type": "execute_result"
    }
   ],
   "source": [
    "65+98 ,9766"
   ]
  },
  {
   "cell_type": "raw",
   "metadata": {},
   "source": [
    "The comparison uses lexicographical ordering: first the first two items are compared, and if they differ this determines the outcome of the comparison; if they are equal, the next two items are compared, and so on, until either sequence is exhausted.\n",
    "\n",
    "Also:\n",
    "\n",
    "Lexicographical ordering for strings uses the Unicode code point number to order individual characters."
   ]
  },
  {
   "cell_type": "code",
   "execution_count": 469,
   "metadata": {},
   "outputs": [
    {
     "data": {
      "text/plain": [
       "False"
      ]
     },
     "execution_count": 469,
     "metadata": {},
     "output_type": "execute_result"
    }
   ],
   "source": [
    "'aAc'>'aAd'"
   ]
  },
  {
   "cell_type": "raw",
   "metadata": {},
   "source": [
    "65=='A' and 65+25=='Z'\n",
    "97=='a' and 97+25=='z"
   ]
  },
  {
   "cell_type": "code",
   "execution_count": 474,
   "metadata": {},
   "outputs": [
    {
     "data": {
      "text/plain": [
       "['[', '\\\\', ']', '^', '_', '`']"
      ]
     },
     "execution_count": 474,
     "metadata": {},
     "output_type": "execute_result"
    }
   ],
   "source": [
    "[chr(i) for i in range(91,97)]"
   ]
  },
  {
   "cell_type": "code",
   "execution_count": 481,
   "metadata": {},
   "outputs": [
    {
     "data": {
      "text/plain": [
       "25"
      ]
     },
     "execution_count": 481,
     "metadata": {},
     "output_type": "execute_result"
    }
   ],
   "source": [
    "import random\n",
    "\n",
    "random.randrange(5,105,5)"
   ]
  },
  {
   "cell_type": "code",
   "execution_count": 494,
   "metadata": {},
   "outputs": [
    {
     "data": {
      "text/plain": [
       "[10, 9.5, 9, 8, 7, 6, 5]"
      ]
     },
     "execution_count": 494,
     "metadata": {},
     "output_type": "execute_result"
    }
   ],
   "source": [
    "x=[0,1,2,3,4,5,6,7,8,9,9.5,10,11,12,13,14]\n",
    "x[11:4:-1]"
   ]
  },
  {
   "cell_type": "code",
   "execution_count": 495,
   "metadata": {},
   "outputs": [],
   "source": [
    "x[0]=11"
   ]
  },
  {
   "cell_type": "code",
   "execution_count": 496,
   "metadata": {},
   "outputs": [
    {
     "data": {
      "text/plain": [
       "[11, 1, 2, 3, 4, 5, 6, 7, 8, 9, 9.5, 10, 11, 12, 13, 14]"
      ]
     },
     "execution_count": 496,
     "metadata": {},
     "output_type": "execute_result"
    }
   ],
   "source": [
    "x"
   ]
  },
  {
   "cell_type": "code",
   "execution_count": 497,
   "metadata": {},
   "outputs": [],
   "source": [
    "x[2:7]=[1]"
   ]
  },
  {
   "cell_type": "code",
   "execution_count": 500,
   "metadata": {},
   "outputs": [],
   "source": [
    "x[2:100000]=[1]"
   ]
  },
  {
   "cell_type": "code",
   "execution_count": 502,
   "metadata": {},
   "outputs": [],
   "source": [
    "x[:]=[1]"
   ]
  },
  {
   "cell_type": "code",
   "execution_count": 503,
   "metadata": {},
   "outputs": [
    {
     "data": {
      "text/plain": [
       "[1]"
      ]
     },
     "execution_count": 503,
     "metadata": {},
     "output_type": "execute_result"
    }
   ],
   "source": [
    "x"
   ]
  },
  {
   "cell_type": "code",
   "execution_count": 504,
   "metadata": {},
   "outputs": [],
   "source": [
    "x=[11, 1, 2, 3, 4, 5, 6, 7, 8, 9, 9.5, 10, 11, 12, 13, 14]"
   ]
  },
  {
   "cell_type": "code",
   "execution_count": 505,
   "metadata": {},
   "outputs": [],
   "source": [
    "x[2:7]=(1,2,3)"
   ]
  },
  {
   "cell_type": "code",
   "execution_count": 506,
   "metadata": {},
   "outputs": [
    {
     "data": {
      "text/plain": [
       "[11, 1, 1, 2, 3, 7, 8, 9, 9.5, 10, 11, 12, 13, 14]"
      ]
     },
     "execution_count": 506,
     "metadata": {},
     "output_type": "execute_result"
    }
   ],
   "source": [
    "x"
   ]
  },
  {
   "cell_type": "code",
   "execution_count": 508,
   "metadata": {},
   "outputs": [],
   "source": [
    "x[7:2:-1]='abcd',1,2,3,4"
   ]
  },
  {
   "cell_type": "code",
   "execution_count": 510,
   "metadata": {},
   "outputs": [
    {
     "data": {
      "text/plain": [
       "[11, 1, 1, 4, 3, 2, 1, 'abcd', 9.5, 10, 11, 12, 13, 14]"
      ]
     },
     "execution_count": 510,
     "metadata": {},
     "output_type": "execute_result"
    }
   ],
   "source": [
    "x"
   ]
  },
  {
   "cell_type": "code",
   "execution_count": 511,
   "metadata": {},
   "outputs": [
    {
     "data": {
      "text/plain": [
       "0.40554022957713776"
      ]
     },
     "execution_count": 511,
     "metadata": {},
     "output_type": "execute_result"
    }
   ],
   "source": [
    "random.random()"
   ]
  },
  {
   "cell_type": "code",
   "execution_count": 525,
   "metadata": {},
   "outputs": [
    {
     "data": {
      "text/plain": [
       "18"
      ]
     },
     "execution_count": 525,
     "metadata": {},
     "output_type": "execute_result"
    }
   ],
   "source": [
    "random.randrange(1,10)*2"
   ]
  },
  {
   "cell_type": "code",
   "execution_count": 527,
   "metadata": {},
   "outputs": [
    {
     "data": {
      "text/plain": [
       "4"
      ]
     },
     "execution_count": 527,
     "metadata": {},
     "output_type": "execute_result"
    }
   ],
   "source": [
    "random.choice([1,2,3,4,5])"
   ]
  },
  {
   "cell_type": "code",
   "execution_count": 541,
   "metadata": {},
   "outputs": [
    {
     "data": {
      "text/plain": [
       "[1, 2, 4, 3, 5]"
      ]
     },
     "execution_count": 541,
     "metadata": {},
     "output_type": "execute_result"
    }
   ],
   "source": [
    "x=[1,2,3,4,5]\n",
    "random.shuffle(x)\n",
    "x"
   ]
  },
  {
   "cell_type": "code",
   "execution_count": 542,
   "metadata": {},
   "outputs": [
    {
     "data": {
      "text/plain": [
       "[4, 3, 5]"
      ]
     },
     "execution_count": 542,
     "metadata": {},
     "output_type": "execute_result"
    }
   ],
   "source": [
    "x[2:5]"
   ]
  },
  {
   "cell_type": "code",
   "execution_count": 551,
   "metadata": {},
   "outputs": [
    {
     "name": "stdout",
     "output_type": "stream",
     "text": [
      "3\n",
      "3\n"
     ]
    }
   ],
   "source": [
    "x=3\n",
    "def fun():\n",
    "    print(x)             #it will take x value from out side\n",
    "fun()\n",
    "print(x)"
   ]
  },
  {
   "cell_type": "code",
   "execution_count": 559,
   "metadata": {},
   "outputs": [
    {
     "name": "stdout",
     "output_type": "stream",
     "text": [
      "444\n",
      "444\n"
     ]
    }
   ],
   "source": [
    "x=3                 #these is no need to declear x as global outside always declear inside function\n",
    "def fun():\n",
    "    global x   #now anything happen to x willnot be isolated to just this function\n",
    "    x=444\n",
    "    print(x)  #so x become 444\n",
    "fun()\n",
    "print(x)    #out side it is also same"
   ]
  },
  {
   "cell_type": "code",
   "execution_count": 585,
   "metadata": {},
   "outputs": [
    {
     "name": "stdout",
     "output_type": "stream",
     "text": [
      "444\n",
      "3\n"
     ]
    }
   ],
   "source": [
    "x=3\n",
    "def fun():\n",
    "    \"\"\"here we did decleared x as global and if we \n",
    "    do after we get SYNTAX ERROR\"\"\"\n",
    "    \n",
    "    x=444\n",
    "    print(x)\n",
    "    \n",
    "fun()\n",
    "print(x)"
   ]
  },
  {
   "cell_type": "raw",
   "metadata": {},
   "source": [
    "By using the \"global\" keyword, you prevent n assignment\n",
    "inside a function from\n",
    "making it local."
   ]
  },
  {
   "cell_type": "code",
   "execution_count": 586,
   "metadata": {},
   "outputs": [
    {
     "name": "stdout",
     "output_type": "stream",
     "text": [
      "Help on function fun in module __main__:\n",
      "\n",
      "fun()\n",
      "    here we did decleared x as global and if we \n",
      "    do after we get SYNTAX ERROR\n",
      "\n"
     ]
    }
   ],
   "source": [
    "help(fun)"
   ]
  },
  {
   "cell_type": "code",
   "execution_count": 590,
   "metadata": {},
   "outputs": [
    {
     "name": "stdout",
     "output_type": "stream",
     "text": [
      "2\n",
      "3\n",
      "5\n",
      "7\n",
      "11\n",
      "13\n",
      "17\n",
      "19\n",
      "23\n",
      "29\n",
      "31\n",
      "37\n",
      "41\n",
      "43\n",
      "47\n",
      "53\n",
      "59\n",
      "61\n",
      "67\n",
      "71\n",
      "73\n",
      "79\n",
      "83\n",
      "89\n",
      "97\n"
     ]
    }
   ],
   "source": [
    "p=2\n",
    "while p<=100:\n",
    "    prim=True\n",
    "    for i in range(2,p):\n",
    "        if p%i == 0:\n",
    "            prim=False\n",
    "            break\n",
    "    if prim ==True:\n",
    "        print(p)\n",
    "    p+=1"
   ]
  },
  {
   "cell_type": "code",
   "execution_count": null,
   "metadata": {},
   "outputs": [],
   "source": []
  },
  {
   "cell_type": "code",
   "execution_count": 591,
   "metadata": {},
   "outputs": [
    {
     "data": {
      "text/plain": [
       "1.3333333333333333"
      ]
     },
     "execution_count": 591,
     "metadata": {},
     "output_type": "execute_result"
    }
   ],
   "source": [
    "4/3"
   ]
  },
  {
   "cell_type": "code",
   "execution_count": 592,
   "metadata": {},
   "outputs": [],
   "source": [
    "reverse='taimoor'\n",
    "reverse=reverse[::-1]"
   ]
  },
  {
   "cell_type": "code",
   "execution_count": 595,
   "metadata": {},
   "outputs": [],
   "source": [
    "straight=str()\n",
    "for i in range(len(reverse)-1,-1,-1):\n",
    "    \n",
    "    straight+=reverse[i]\n",
    "    "
   ]
  },
  {
   "cell_type": "code",
   "execution_count": 596,
   "metadata": {},
   "outputs": [
    {
     "data": {
      "text/plain": [
       "'taimoor'"
      ]
     },
     "execution_count": 596,
     "metadata": {},
     "output_type": "execute_result"
    }
   ],
   "source": [
    "straight"
   ]
  },
  {
   "cell_type": "code",
   "execution_count": 600,
   "metadata": {},
   "outputs": [
    {
     "ename": "FileNotFoundError",
     "evalue": "[Errno 2] No such file or directory: 'fillllll/txt'",
     "output_type": "error",
     "traceback": [
      "\u001b[1;31m---------------------------------------------------------------------------\u001b[0m",
      "\u001b[1;31mFileNotFoundError\u001b[0m                         Traceback (most recent call last)",
      "\u001b[1;32m<ipython-input-600-040326c70537>\u001b[0m in \u001b[0;36m<module>\u001b[1;34m\u001b[0m\n\u001b[1;32m----> 1\u001b[1;33m \u001b[1;32mwith\u001b[0m \u001b[0mopen\u001b[0m\u001b[1;33m(\u001b[0m\u001b[1;34m'fillllll/txt'\u001b[0m\u001b[1;33m)\u001b[0m \u001b[1;32mas\u001b[0m \u001b[0mf\u001b[0m\u001b[1;33m:\u001b[0m\u001b[1;33m\u001b[0m\u001b[1;33m\u001b[0m\u001b[0m\n\u001b[0m\u001b[0;32m      2\u001b[0m     \u001b[1;32mpass\u001b[0m\u001b[1;33m\u001b[0m\u001b[1;33m\u001b[0m\u001b[0m\n",
      "\u001b[1;31mFileNotFoundError\u001b[0m: [Errno 2] No such file or directory: 'fillllll/txt'"
     ]
    }
   ],
   "source": [
    "with open('fillllll/txt') as f:\n",
    "    pass\n"
   ]
  },
  {
   "cell_type": "code",
   "execution_count": 603,
   "metadata": {},
   "outputs": [],
   "source": [
    "obj=Exception()"
   ]
  },
  {
   "cell_type": "code",
   "execution_count": 637,
   "metadata": {},
   "outputs": [
    {
     "data": {
      "text/plain": [
       "[]"
      ]
     },
     "execution_count": 637,
     "metadata": {},
     "output_type": "execute_result"
    }
   ],
   "source": [
    "Exception.__subclasses__()[13].__subclasses__()[0].__subclasses__()"
   ]
  },
  {
   "cell_type": "code",
   "execution_count": 645,
   "metadata": {},
   "outputs": [
    {
     "name": "stdout",
     "output_type": "stream",
     "text": [
      "<class 'TypeError'>\n",
      "-- <class 'email.errors.MultipartConversionError'>\n",
      "-- <class 'decimal.FloatOperation'>\n",
      "<class 'StopAsyncIteration'>\n",
      "<class 'StopIteration'>\n",
      "<class 'ImportError'>\n",
      "-- <class 'ModuleNotFoundError'>\n",
      "-- <class 'zipimport.ZipImportError'>\n",
      "<class 'OSError'>\n",
      "-- <class 'ConnectionError'>\n",
      "---- <class 'BrokenPipeError'>\n",
      "---- <class 'ConnectionAbortedError'>\n",
      "---- <class 'ConnectionRefusedError'>\n",
      "---- <class 'ConnectionResetError'>\n",
      "------- <class 'http.client.RemoteDisconnected'>\n",
      "-- <class 'BlockingIOError'>\n",
      "-- <class 'ChildProcessError'>\n",
      "-- <class 'FileExistsError'>\n",
      "-- <class 'FileNotFoundError'>\n",
      "-- <class 'IsADirectoryError'>\n",
      "-- <class 'NotADirectoryError'>\n",
      "-- <class 'InterruptedError'>\n",
      "---- <class 'zmq.error.InterruptedSystemCall'>\n",
      "-- <class 'PermissionError'>\n",
      "-- <class 'ProcessLookupError'>\n",
      "-- <class 'TimeoutError'>\n",
      "-- <class 'io.UnsupportedOperation'>\n",
      "-- <class 'shutil.Error'>\n",
      "---- <class 'shutil.SameFileError'>\n",
      "-- <class 'shutil.SpecialFileError'>\n",
      "-- <class 'shutil.ExecError'>\n",
      "-- <class 'shutil.ReadError'>\n",
      "-- <class 'socket.herror'>\n",
      "-- <class 'socket.gaierror'>\n",
      "-- <class 'socket.timeout'>\n",
      "-- <class 'ssl.SSLError'>\n",
      "---- <class 'ssl.SSLCertVerificationError'>\n",
      "---- <class 'ssl.SSLZeroReturnError'>\n",
      "---- <class 'ssl.SSLWantReadError'>\n",
      "---- <class 'ssl.SSLWantWriteError'>\n",
      "---- <class 'ssl.SSLSyscallError'>\n",
      "---- <class 'ssl.SSLEOFError'>\n",
      "-- <class 'urllib.error.URLError'>\n",
      "---- <class 'urllib.error.HTTPError'>\n",
      "---- <class 'urllib.error.ContentTooShortError'>\n",
      "<class 'EOFError'>\n",
      "-- <class 'asyncio.streams.IncompleteReadError'>\n",
      "<class 'RuntimeError'>\n",
      "-- <class 'RecursionError'>\n",
      "-- <class 'NotImplementedError'>\n",
      "---- <class 'IPython.core.error.StdinNotImplementedError'>\n",
      "---- <class 'zmq.error.ZMQVersionError'>\n",
      "-- <class '_frozen_importlib._DeadlockError'>\n",
      "-- <class 'threading.BrokenBarrierError'>\n",
      "-- <class 'concurrent.futures._base.BrokenExecutor'>\n",
      "-- <class 'asyncio.events.SendfileNotAvailableError'>\n",
      "<class 'NameError'>\n",
      "-- <class 'UnboundLocalError'>\n",
      "<class 'AttributeError'>\n",
      "<class 'SyntaxError'>\n",
      "-- <class 'IndentationError'>\n",
      "---- <class 'TabError'>\n",
      "<class 'LookupError'>\n",
      "-- <class 'IndexError'>\n",
      "-- <class 'KeyError'>\n",
      "---- <class 'IPython.terminal.pt_inputhooks.UnknownBackend'>\n",
      "---- <class 'jupyter_client.kernelspec.NoSuchKernel'>\n",
      "-- <class 'encodings.CodecRegistryError'>\n",
      "<class 'ValueError'>\n",
      "-- <class 'UnicodeError'>\n",
      "---- <class 'UnicodeEncodeError'>\n",
      "---- <class 'UnicodeDecodeError'>\n",
      "---- <class 'UnicodeTranslateError'>\n",
      "-- <class 'io.UnsupportedOperation'>\n",
      "-- <class 'json.decoder.JSONDecodeError'>\n",
      "-- <class 'pygments.util.ClassNotFound'>\n",
      "-- <class 'binascii.Error'>\n",
      "-- <class 'ssl.SSLCertVerificationError'>\n",
      "-- <class 'IPython.lib.clipboard.ClipboardEmpty'>\n",
      "-- <class 'email.errors.MessageDefect'>\n",
      "---- <class 'email.errors.NoBoundaryInMultipartDefect'>\n",
      "---- <class 'email.errors.StartBoundaryNotFoundDefect'>\n",
      "---- <class 'email.errors.CloseBoundaryNotFoundDefect'>\n",
      "---- <class 'email.errors.FirstHeaderLineIsContinuationDefect'>\n",
      "---- <class 'email.errors.MisplacedEnvelopeHeaderDefect'>\n",
      "---- <class 'email.errors.MissingHeaderBodySeparatorDefect'>\n",
      "---- <class 'email.errors.MultipartInvariantViolationDefect'>\n",
      "---- <class 'email.errors.InvalidMultipartContentTransferEncodingDefect'>\n",
      "---- <class 'email.errors.UndecodableBytesDefect'>\n",
      "---- <class 'email.errors.InvalidBase64PaddingDefect'>\n",
      "---- <class 'email.errors.InvalidBase64CharactersDefect'>\n",
      "---- <class 'email.errors.InvalidBase64LengthDefect'>\n",
      "---- <class 'email.errors.HeaderDefect'>\n",
      "------- <class 'email.errors.InvalidHeaderDefect'>\n",
      "------- <class 'email.errors.HeaderMissingRequiredValue'>\n",
      "------- <class 'email.errors.NonPrintableDefect'>\n",
      "------- <class 'email.errors.ObsoleteHeaderDefect'>\n",
      "------- <class 'email.errors.NonASCIILocalPartDefect'>\n",
      "-- <class 'calendar.IllegalMonthError'>\n",
      "-- <class 'calendar.IllegalWeekdayError'>\n",
      "-- <class 'IPython.core.magics.code.MacroToEdit'>\n",
      "-- <class 'dateutil.parser._parser.ParserError'>\n",
      "<class 'AssertionError'>\n",
      "<class 'ArithmeticError'>\n",
      "-- <class 'FloatingPointError'>\n",
      "-- <class 'OverflowError'>\n",
      "-- <class 'ZeroDivisionError'>\n",
      "---- <class 'decimal.DivisionByZero'>\n",
      "---- <class 'decimal.DivisionUndefined'>\n",
      "-- <class 'decimal.DecimalException'>\n",
      "---- <class 'decimal.Clamped'>\n",
      "---- <class 'decimal.Rounded'>\n",
      "------- <class 'decimal.Underflow'>\n",
      "------- <class 'decimal.Overflow'>\n",
      "---- <class 'decimal.Inexact'>\n",
      "------- <class 'decimal.Underflow'>\n",
      "------- <class 'decimal.Overflow'>\n",
      "---- <class 'decimal.Subnormal'>\n",
      "------- <class 'decimal.Underflow'>\n",
      "---- <class 'decimal.DivisionByZero'>\n",
      "---- <class 'decimal.FloatOperation'>\n",
      "---- <class 'decimal.InvalidOperation'>\n",
      "------- <class 'decimal.ConversionSyntax'>\n",
      "------- <class 'decimal.DivisionImpossible'>\n",
      "------- <class 'decimal.DivisionUndefined'>\n",
      "------- <class 'decimal.InvalidContext'>\n",
      "<class 'SystemError'>\n",
      "-- <class 'encodings.CodecRegistryError'>\n",
      "<class 'ReferenceError'>\n",
      "<class 'MemoryError'>\n",
      "<class 'BufferError'>\n",
      "<class 'Warning'>\n",
      "-- <class 'UserWarning'>\n",
      "---- <class 'getpass.GetPassWarning'>\n",
      "---- <class 'IPython.core.formatters.FormatterWarning'>\n",
      "-- <class 'DeprecationWarning'>\n",
      "---- <class 'IPython.core.interactiveshell.ProvisionalWarning'>\n",
      "-- <class 'PendingDeprecationWarning'>\n",
      "-- <class 'SyntaxWarning'>\n",
      "-- <class 'RuntimeWarning'>\n",
      "---- <class 'dateutil.parser._parser.UnknownTimezoneWarning'>\n",
      "-- <class 'FutureWarning'>\n",
      "---- <class 'IPython.core.completer.ProvisionalCompleterWarning'>\n",
      "-- <class 'ImportWarning'>\n",
      "-- <class 'UnicodeWarning'>\n",
      "-- <class 'BytesWarning'>\n",
      "-- <class 'ResourceWarning'>\n",
      "-- <class 'dateutil.tz.DeprecatedTzFormatWarning'>\n",
      "<class 'locale.Error'>\n",
      "<class 'warnings._OptionError'>\n",
      "<class 'runpy._Error'>\n",
      "<class 're.error'>\n",
      "<class 'sre_parse.Verbose'>\n",
      "<class 'subprocess.SubprocessError'>\n",
      "-- <class 'subprocess.CalledProcessError'>\n",
      "-- <class 'subprocess.TimeoutExpired'>\n",
      "<class 'tokenize.TokenError'>\n",
      "<class 'tokenize.StopTokenizing'>\n",
      "<class 'copy.Error'>\n",
      "<class 'zlib.error'>\n",
      "<class '_lzma.LZMAError'>\n",
      "<class 'shutil.RegistryError'>\n",
      "<class 'inspect.EndOfBlock'>\n",
      "<class 'struct.error'>\n",
      "<class 'traitlets.traitlets.TraitError'>\n",
      "<class 'argparse.ArgumentError'>\n",
      "<class 'argparse.ArgumentTypeError'>\n",
      "<class 'traitlets.config.loader.ConfigError'>\n",
      "-- <class 'traitlets.config.loader.ConfigLoaderError'>\n",
      "---- <class 'traitlets.config.loader.ArgumentError'>\n",
      "-- <class 'traitlets.config.loader.ConfigFileNotFound'>\n",
      "<class 'traitlets.config.configurable.ConfigurableError'>\n",
      "-- <class 'traitlets.config.configurable.MultipleInstanceError'>\n",
      "<class 'traitlets.config.application.ApplicationError'>\n",
      "<class 'pydoc.ErrorDuringImport'>\n",
      "<class 'bdb.BdbQuit'>\n",
      "<class 'pygments.util.OptionError'>\n",
      "<class 'pdb.Restart'>\n",
      "<class '_ctypes.COMError'>\n",
      "<class 'ctypes.ArgumentError'>\n",
      "<class 'IPython.utils.process.FindCmdError'>\n",
      "<class 'IPython.utils.path.HomeDirError'>\n",
      "<class 'IPython.core.profiledir.ProfileDirError'>\n",
      "<class 'IPython.core.error.IPythonCoreError'>\n",
      "-- <class 'IPython.core.error.TryNext'>\n",
      "-- <class 'IPython.core.error.UsageError'>\n",
      "-- <class 'IPython.core.error.StdinNotImplementedError'>\n",
      "<class 'IPython.core.error.InputRejected'>\n",
      "<class 'getopt.GetoptError'>\n",
      "<class 'binascii.Incomplete'>\n",
      "<class 'pygments.filters.ErrorToken'>\n",
      "<class 'pickle._Stop'>\n",
      "<class '_pickle.PickleError'>\n",
      "-- <class '_pickle.PicklingError'>\n",
      "-- <class '_pickle.UnpicklingError'>\n",
      "<class 'IPython.core.prefilter.PrefilterError'>\n",
      "<class 'IPython.core.alias.AliasError'>\n",
      "-- <class 'IPython.core.alias.InvalidAliasError'>\n",
      "<class 'sqlite3.Error'>\n",
      "-- <class 'sqlite3.InterfaceError'>\n",
      "-- <class 'sqlite3.DatabaseError'>\n",
      "---- <class 'sqlite3.InternalError'>\n",
      "---- <class 'sqlite3.OperationalError'>\n",
      "---- <class 'sqlite3.ProgrammingError'>\n",
      "---- <class 'sqlite3.IntegrityError'>\n",
      "---- <class 'sqlite3.DataError'>\n",
      "---- <class 'sqlite3.NotSupportedError'>\n",
      "<class 'sqlite3.Warning'>\n",
      "<class 'IPython.core.interactiveshell.SpaceInInput'>\n",
      "<class 'concurrent.futures._base.Error'>\n",
      "-- <class 'concurrent.futures._base.CancelledError'>\n",
      "-- <class 'concurrent.futures._base.TimeoutError'>\n",
      "-- <class 'asyncio.base_futures.InvalidStateError'>\n",
      "<class 'socket._GiveupOnSendfile'>\n",
      "<class 'asyncio.queues.QueueEmpty'>\n",
      "<class 'asyncio.queues.QueueFull'>\n",
      "<class 'asyncio.streams.LimitOverrunError'>\n",
      "<class '_queue.Empty'>\n",
      "<class 'queue.Full'>\n",
      "<class 'prompt_toolkit.eventloop.context.TaskLocalNotSetError'>\n",
      "<class 'prompt_toolkit.eventloop.future.InvalidStateError'>\n",
      "<class 'prompt_toolkit.eventloop.coroutine.Return'>\n",
      "<class 'prompt_toolkit.application.current.NoRunningApplicationError'>\n",
      "<class 'prompt_toolkit.validation.ValidationError'>\n",
      "<class 'prompt_toolkit.buffer.EditReadOnlyBuffer'>\n",
      "<class 'prompt_toolkit.buffer._Retry'>\n",
      "<class 'xml.dom.DOMException'>\n",
      "-- <class 'xml.dom.IndexSizeErr'>\n",
      "-- <class 'xml.dom.DomstringSizeErr'>\n",
      "-- <class 'xml.dom.HierarchyRequestErr'>\n",
      "-- <class 'xml.dom.WrongDocumentErr'>\n",
      "-- <class 'xml.dom.InvalidCharacterErr'>\n",
      "-- <class 'xml.dom.NoDataAllowedErr'>\n",
      "-- <class 'xml.dom.NoModificationAllowedErr'>\n",
      "-- <class 'xml.dom.NotFoundErr'>\n",
      "-- <class 'xml.dom.NotSupportedErr'>\n",
      "-- <class 'xml.dom.InuseAttributeErr'>\n",
      "-- <class 'xml.dom.InvalidStateErr'>\n",
      "-- <class 'xml.dom.SyntaxErr'>\n",
      "-- <class 'xml.dom.InvalidModificationErr'>\n",
      "-- <class 'xml.dom.NamespaceErr'>\n",
      "-- <class 'xml.dom.InvalidAccessErr'>\n",
      "-- <class 'xml.dom.ValidationErr'>\n",
      "<class 'prompt_toolkit.layout.layout.InvalidLayoutError'>\n",
      "<class 'prompt_toolkit.renderer.HeightIsUnknownError'>\n",
      "<class 'parso.parser.ParserSyntaxError'>\n",
      "<class 'parso.parser.InternalParseError'>\n",
      "<class 'parso.python.diff._PositionUpdatingFinished'>\n",
      "<class 'jedi.evaluate.utils.UncaughtAttributeError'>\n",
      "<class 'jedi.evaluate.helpers.SimpleGetItemNotFound'>\n",
      "<class 'jedi.evaluate.arguments.ParamIssue'>\n",
      "<class 'jedi.api.helpers.OnErrorLeaf'>\n",
      "<class 'jedi.api.exceptions._JediError'>\n",
      "-- <class 'jedi.api.exceptions.InternalError'>\n",
      "-- <class 'jedi.api.exceptions.WrongVersion'>\n",
      "<class 'jedi.api.environment.InvalidPythonEnvironment'>\n",
      "<class 'email.errors.MessageError'>\n",
      "-- <class 'email.errors.MessageParseError'>\n",
      "---- <class 'email.errors.HeaderParseError'>\n",
      "---- <class 'email.errors.BoundaryError'>\n",
      "-- <class 'email.errors.MultipartConversionError'>\n",
      "-- <class 'email.errors.CharsetError'>\n",
      "<class 'uu.Error'>\n",
      "<class 'http.client.HTTPException'>\n",
      "-- <class 'http.client.NotConnected'>\n",
      "-- <class 'http.client.InvalidURL'>\n",
      "-- <class 'http.client.UnknownProtocol'>\n",
      "-- <class 'http.client.UnknownTransferEncoding'>\n",
      "-- <class 'http.client.UnimplementedFileMode'>\n",
      "-- <class 'http.client.IncompleteRead'>\n",
      "-- <class 'http.client.ImproperConnectionState'>\n",
      "---- <class 'http.client.CannotSendRequest'>\n",
      "---- <class 'http.client.CannotSendHeader'>\n",
      "---- <class 'http.client.ResponseNotReady'>\n",
      "-- <class 'http.client.BadStatusLine'>\n",
      "---- <class 'http.client.RemoteDisconnected'>\n",
      "-- <class 'http.client.LineTooLong'>\n",
      "<class 'IPython.core.magics.code.InteractivelyDefined'>\n",
      "<class 'IPython.terminal.embed.KillEmbedded'>\n",
      "<class 'zmq.error.ZMQBaseError'>\n",
      "-- <class 'zmq.error.ZMQError'>\n",
      "---- <class 'zmq.error.ContextTerminated'>\n",
      "---- <class 'zmq.error.Again'>\n",
      "---- <class 'zmq.error.InterruptedSystemCall'>\n",
      "-- <class 'zmq.error.ZMQBindError'>\n",
      "-- <class 'zmq.error.NotDone'>\n",
      "<class 'jupyter_client.localinterfaces.NoIPAddresses'>\n",
      "<class 'jupyter_client.channels.InvalidPortNumber'>\n",
      "<class 'jupyter_client.multikernelmanager.DuplicateKernelError'>\n",
      "<class 'tornado.util.TimeoutError'>\n",
      "<class 'tornado.concurrent.ReturnValueIgnoredError'>\n",
      "<class 'tornado.gen.KeyReuseError'>\n",
      "<class 'tornado.gen.UnknownKeyError'>\n",
      "<class 'tornado.gen.LeakedCallbackError'>\n",
      "<class 'tornado.gen.BadYieldError'>\n",
      "<class 'tornado.gen.ReturnValueIgnoredError'>\n",
      "<class 'tornado.gen.Return'>\n",
      "<class 'tornado.queues.QueueEmpty'>\n",
      "<class 'tornado.queues.QueueFull'>\n",
      "<class 'pywintypes.error'>\n",
      "<class 'pywintypes.com_error'>\n",
      "<class 'numpydoc.docscrape.ParseError'>\n"
     ]
    }
   ],
   "source": [
    "\n",
    "for i in Exception.__subclasses__():\n",
    "    print(i)\n",
    "    if i !=[]:\n",
    "        for j in i.__subclasses__():\n",
    "            print('--',j)\n",
    "            if j !=[]:\n",
    "                for k in j.__subclasses__():\n",
    "                    print('----',k)\n",
    "                    for l in k.__subclasses__():\n",
    "                        print('-------',l)\n",
    "        "
   ]
  },
  {
   "cell_type": "code",
   "execution_count": 646,
   "metadata": {},
   "outputs": [],
   "source": [
    "import os"
   ]
  },
  {
   "cell_type": "code",
   "execution_count": 647,
   "metadata": {},
   "outputs": [
    {
     "data": {
      "text/plain": [
       "False"
      ]
     },
     "execution_count": 647,
     "metadata": {},
     "output_type": "execute_result"
    }
   ],
   "source": [
    "os.path.exists('lololo')"
   ]
  },
  {
   "cell_type": "code",
   "execution_count": 650,
   "metadata": {},
   "outputs": [
    {
     "name": "stdout",
     "output_type": "stream",
     "text": [
      "a\n",
      "b\n",
      "c\n",
      "d\n",
      "e\n"
     ]
    }
   ],
   "source": [
    "a=['a','b','c','d','e']\n",
    "\n",
    "for index in range(len(a)):\n",
    "    print(a[index])"
   ]
  },
  {
   "cell_type": "code",
   "execution_count": 2,
   "metadata": {},
   "outputs": [
    {
     "name": "stdout",
     "output_type": "stream",
     "text": [
      "=>:1\n",
      "no\n"
     ]
    }
   ],
   "source": [
    "rooms={1:'my',2:'your'}\n",
    "get = input('=>:')\n",
    "if not get in rooms:\n",
    "    print('no')\n",
    "else:\n",
    "    print(rooms[get])"
   ]
  },
  {
   "cell_type": "code",
   "execution_count": 3,
   "metadata": {},
   "outputs": [
    {
     "data": {
      "text/plain": [
       "False"
      ]
     },
     "execution_count": 3,
     "metadata": {},
     "output_type": "execute_result"
    }
   ],
   "source": [
    "'1' in [1,2]"
   ]
  },
  {
   "cell_type": "code",
   "execution_count": 4,
   "metadata": {},
   "outputs": [
    {
     "data": {
      "text/plain": [
       "'2020'"
      ]
     },
     "execution_count": 4,
     "metadata": {},
     "output_type": "execute_result"
    }
   ],
   "source": [
    "'20'*2"
   ]
  },
  {
   "cell_type": "code",
   "execution_count": 5,
   "metadata": {},
   "outputs": [
    {
     "data": {
      "text/plain": [
       "'2020'"
      ]
     },
     "execution_count": 5,
     "metadata": {},
     "output_type": "execute_result"
    }
   ],
   "source": [
    "2*'20'"
   ]
  },
  {
   "cell_type": "code",
   "execution_count": 7,
   "metadata": {},
   "outputs": [
    {
     "data": {
      "text/plain": [
       "True"
      ]
     },
     "execution_count": 7,
     "metadata": {},
     "output_type": "execute_result"
    }
   ],
   "source": [
    "'e' in'erum'"
   ]
  },
  {
   "cell_type": "code",
   "execution_count": 10,
   "metadata": {},
   "outputs": [
    {
     "data": {
      "text/plain": [
       "True"
      ]
     },
     "execution_count": 10,
     "metadata": {},
     "output_type": "execute_result"
    }
   ],
   "source": [
    "'sunday'>'Sunday'"
   ]
  },
  {
   "cell_type": "code",
   "execution_count": 11,
   "metadata": {},
   "outputs": [
    {
     "data": {
      "text/plain": [
       "False"
      ]
     },
     "execution_count": 11,
     "metadata": {},
     "output_type": "execute_result"
    }
   ],
   "source": [
    "[1,2] is [1,2]"
   ]
  },
  {
   "cell_type": "code",
   "execution_count": 12,
   "metadata": {},
   "outputs": [
    {
     "data": {
      "text/plain": [
       "False"
      ]
     },
     "execution_count": 12,
     "metadata": {},
     "output_type": "execute_result"
    }
   ],
   "source": [
    "[1] is [1]"
   ]
  },
  {
   "cell_type": "code",
   "execution_count": 13,
   "metadata": {},
   "outputs": [
    {
     "data": {
      "text/plain": [
       "True"
      ]
     },
     "execution_count": 13,
     "metadata": {},
     "output_type": "execute_result"
    }
   ],
   "source": [
    "x=[1]\n",
    "y=x\n",
    "y is x"
   ]
  },
  {
   "cell_type": "code",
   "execution_count": 17,
   "metadata": {},
   "outputs": [
    {
     "data": {
      "text/plain": [
       "-8"
      ]
     },
     "execution_count": 17,
     "metadata": {},
     "output_type": "execute_result"
    }
   ],
   "source": [
    "x=3\n",
    "-x*3"
   ]
  },
  {
   "cell_type": "code",
   "execution_count": 18,
   "metadata": {},
   "outputs": [
    {
     "data": {
      "text/plain": [
       "15"
      ]
     },
     "execution_count": 18,
     "metadata": {},
     "output_type": "execute_result"
    }
   ],
   "source": [
    "(3*(1+2)**2-(2**2)*3)"
   ]
  },
  {
   "cell_type": "code",
   "execution_count": 19,
   "metadata": {},
   "outputs": [],
   "source": [
    "import random"
   ]
  },
  {
   "cell_type": "code",
   "execution_count": 24,
   "metadata": {},
   "outputs": [
    {
     "name": "stdout",
     "output_type": "stream",
     "text": [
      "11\n",
      "11\n",
      "10\n",
      "6\n",
      "6\n",
      "11\n",
      "5\n",
      "5\n",
      "11\n",
      "10\n"
     ]
    }
   ],
   "source": [
    "for i in range(10):\n",
    "    print(random.randrange(5,12,1))"
   ]
  },
  {
   "cell_type": "code",
   "execution_count": 25,
   "metadata": {},
   "outputs": [
    {
     "name": "stdout",
     "output_type": "stream",
     "text": [
      "=>1\n"
     ]
    }
   ],
   "source": [
    "x=float(input('=>'))"
   ]
  },
  {
   "cell_type": "code",
   "execution_count": 26,
   "metadata": {},
   "outputs": [
    {
     "data": {
      "text/plain": [
       "float"
      ]
     },
     "execution_count": 26,
     "metadata": {},
     "output_type": "execute_result"
    }
   ],
   "source": [
    "type(x)"
   ]
  },
  {
   "cell_type": "code",
   "execution_count": 27,
   "metadata": {},
   "outputs": [
    {
     "data": {
      "text/plain": [
       "1.0"
      ]
     },
     "execution_count": 27,
     "metadata": {},
     "output_type": "execute_result"
    }
   ],
   "source": [
    "x"
   ]
  },
  {
   "cell_type": "code",
   "execution_count": 33,
   "metadata": {},
   "outputs": [
    {
     "name": "stdout",
     "output_type": "stream",
     "text": [
      "0.5\n",
      "done\n"
     ]
    }
   ],
   "source": [
    "try:\n",
    "    print(1/2)\n",
    "finally:\n",
    "    print('done')\n"
   ]
  },
  {
   "cell_type": "code",
   "execution_count": null,
   "metadata": {},
   "outputs": [],
   "source": []
  }
 ],
 "metadata": {
  "kernelspec": {
   "display_name": "Python 3",
   "language": "python",
   "name": "python3"
  },
  "language_info": {
   "codemirror_mode": {
    "name": "ipython",
    "version": 3
   },
   "file_extension": ".py",
   "mimetype": "text/x-python",
   "name": "python",
   "nbconvert_exporter": "python",
   "pygments_lexer": "ipython3",
   "version": "3.7.3"
  }
 },
 "nbformat": 4,
 "nbformat_minor": 2
}
