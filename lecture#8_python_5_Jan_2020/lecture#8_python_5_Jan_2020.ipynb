{
 "cells": [
  {
   "cell_type": "markdown",
   "metadata": {},
   "source": [
    "## OOP"
   ]
  },
  {
   "cell_type": "markdown",
   "metadata": {},
   "source": [
    "## TOPIC"
   ]
  },
  {
   "cell_type": "raw",
   "metadata": {},
   "source": [
    "-Class\n",
    "-instance\n",
    "-Method\n",
    "-attributes/properties\n"
   ]
  },
  {
   "cell_type": "raw",
   "metadata": {},
   "source": [
    "object orianted Programming: \n",
    "                \n",
    "                from line programming \n",
    "                    to \n",
    "                block programming/Structure Programming /functional Programming\n",
    "                    to \n",
    "                Object oriented Programming- (we use OOP to manage program in better way)\n",
    "                                             everything in world is object who has name \n",
    "                                             living or non-living \n",
    "                                             so in every object we have two things Methods and Attributes/properties/fields\n",
    "                                             \n",
    "                                             -all actions an object can perfrom is called METHOD/action/function\n",
    "                                                         think of human what human can do is his/her METHODS\n",
    "                                                         mobiles- call,message,audio,video\n",
    "                                                         just like facebook login is a action\n",
    "                                             -ATTRIBUTES/(khasiyat)\n",
    "                                                     think of human weight,height,colors\n",
    "                                                     NOTE(hair,leg,arm are objects )\n",
    "              CLASS:\n",
    "                      -all such objects that has same mathod and attributes we but them in one specific class\n",
    "                      so if we call a specific class we  know what every object it will have will has such and such METHOD and\n",
    "                      Attributes\n",
    "                      -for example class of Dog,class of Cat, class of Man ,Class of Female\n",
    "                      (NOTE:attributes and METHOD are same but but there values will vary will be different\n",
    "                      for example male height will be different iwht respect to each other male\n",
    "                      but overall males usually have high height then female class)\n",
    "                                                         \n",
    "                "
   ]
  },
  {
   "cell_type": "raw",
   "metadata": {},
   "source": [
    "reason of having classes is that for example if we have school students and we want to add a method that they can perfrom quiz\n",
    "so we have to code all students with method that they can do quiz\n",
    "\n",
    "now class help us we assign one time in this class that what methods and attributes a online-student can have on our website\n",
    "so one new student join our website we assign him/her that class\n",
    "\n",
    "now if we have million of online-students and new students come every year we just assign class that give those all students \n",
    "attributes and methods on our educational website portal"
   ]
  },
  {
   "cell_type": "raw",
   "metadata": {},
   "source": [
    "OPP has 4 pillers\n",
    "    -abstraction(its mean incomplete class --- so incomplee class we cannot make object)\n",
    "    -polymorphesizm (can perfrom more than one action)\n",
    "    -incapsulation (to secure)\n",
    "    -inheretace ()"
   ]
  },
  {
   "cell_type": "raw",
   "metadata": {},
   "source": [
    "-INHERETANCE\n",
    "    things we got from our insectors\n",
    "    as a human we get human body parts\n",
    "    as a cat cat get its own body parts types\n",
    "    (121,\n",
    "    12many,\n",
    "    these are some  types of inheretnace)\n",
    "    like we get eyes look alike from mother and speaking tone like father then it is multiply inheretance\n",
    "    "
   ]
  },
  {
   "cell_type": "raw",
   "metadata": {},
   "source": [
    "-POLY MORPHESIZM\n",
    "    actions ability more than one called poly-morphesim\n",
    "        example:: + operater in work with string for concatination and also for sum so + operator is example of ploy morpheszim\n",
    "        and \n",
    "        it is overloading\n",
    "    \n",
    "    OVERLOADING: \n",
    "        for examle a parent class have two sum function but one only give sum of two numbers (thus two parameter)\n",
    "        and second sum function that take two parematers and sum it  \n",
    "        differen parament quantity and data type but same functions\n",
    "        \n",
    "    OVERRIDING:\n",
    "        we made child and parent class \n",
    "        like you and your parents have function of speaking\n",
    "        but your frequency is different than your parents\n",
    "        or you also speak english --so it is over riding\n",
    "        \n",
    "        any function you inherated from parent but now this function get update or additon of something then it is\n",
    "        called overriding\n",
    "        \n",
    "    "
   ]
  },
  {
   "cell_type": "raw",
   "metadata": {},
   "source": [
    "-INCAPSULATION:\n",
    "    doctor give us capsul and we don't know what is inside and we can change it (we cant change capsul formula)\n",
    "    we make a function and make it private and we can't call this function outside\n",
    "    but if it was public function anyone could goto PIAIC web and delet data\n",
    "    \n",
    "    so we make class and make some method and attributes private \n",
    "    so no one can excess it  from outside\n",
    "make a class and make some mathods and attributs private \n",
    "and then make functions\n",
    "getter: to display private methods and attributes or values\n",
    "setter: to update  private mathods and attributes or values\n",
    "    \n",
    "    "
   ]
  },
  {
   "cell_type": "raw",
   "metadata": {},
   "source": [
    "-ABSTRACT\n",
    "    living being is a class and no one can become its direct object\n",
    "    similarly we dont see any direct object of animal class\n",
    "    ---so all above are abstract class incomplete class\n",
    "    but male,female,cat,dog are complete class\n",
    "    -------------------------------------------------------\n",
    "    attributes have general propeties like livnig being inhale oxygen  \n",
    "    -------------------------------------------------------\n",
    "    any class whose direct object is not possibles is called abstract\n",
    "   -------------------------------\n",
    "    for example we nee abstract class of employee \n",
    "    and in that employee we define general methods and attributes of your compnies employees \n",
    "    but in that we can make specifice child class for worker,engineer,manager,ceo\n",
    "    \n",
    "    like abstract class will have same working hours and medical facility for all employees and dress code \n",
    "    but for ceo we have additionl methods and attributes "
   ]
  },
  {
   "cell_type": "markdown",
   "metadata": {},
   "source": [
    "make class"
   ]
  },
  {
   "cell_type": "code",
   "execution_count": 3,
   "metadata": {},
   "outputs": [],
   "source": [
    "# this is class of name Students\n",
    "class Students():\n",
    "    pass  # nothing will happen when we use pass no error will be generated\n",
    "\n",
    "sl= Students()  "
   ]
  },
  {
   "cell_type": "code",
   "execution_count": 48,
   "metadata": {},
   "outputs": [],
   "source": [
    "#now we make attributes and methods\n",
    "class Students():\n",
    "    counter = 0    #class variable  #out side __init__ constructor we make class variable\n",
    "    \n",
    "    #when we make method and attributes in class we \n",
    "    #before we  define a  function init called constructor and an other function called distructor \n",
    "    \n",
    "    def __init__(self, sid): #constructor  in constructor 1 arugment is necessary to give\n",
    "        self.sid=sid  #self is use to make id usable for differen objects we instant like \n",
    "                      #sl , s2  , s3 <---self refere to these objects whome we assign class Students()\n",
    "        self.name= \"\"       #attributes\n",
    "        self.fname=\"\"\n",
    "        self.course=\"\"       #all these are attributes\n",
    "        self.fee= 0          #all these are attributes\n",
    "        # all attributes are define inside constructor whoch is __init__ function\n",
    "        #BUT class variable are define out side __init__ constructor\n",
    "        \n",
    "        # to excess and update class varibale we first need to call class name which is Students\n",
    "        Students.counter += 1  #if we write simple counter +=1 we get errro\n",
    "                                #counter+=1 will give error u can try it \n",
    "        \n",
    "        #now we make function\n",
    "    def login(self,user,password):#what ever fucntion we make we have to first pass self\n",
    "        self.user = user          #self mean that object whome we assign class Student\n",
    "        print(\"welcome\",self.user)  #now we are printing again self.user self mean that object name whome we assign this class\n",
    "    def logout(self): \n",
    "        pass\n",
    "    def quiz_attemt(self):\n",
    "        pass\n",
    "    def attendence(self):\n",
    "        pass\n",
    "    \n"
   ]
  },
  {
   "cell_type": "code",
   "execution_count": 49,
   "metadata": {},
   "outputs": [],
   "source": [
    "sl = Students(1)  #1 is sid\n",
    "s2 = Students(2)  # 2 is sid -student id\n",
    "s3 = Students(3)  # 3 is side "
   ]
  },
  {
   "cell_type": "code",
   "execution_count": 50,
   "metadata": {},
   "outputs": [
    {
     "data": {
      "text/plain": [
       "1"
      ]
     },
     "execution_count": 50,
     "metadata": {},
     "output_type": "execute_result"
    }
   ],
   "source": [
    "sl.sid"
   ]
  },
  {
   "cell_type": "code",
   "execution_count": 51,
   "metadata": {},
   "outputs": [
    {
     "data": {
      "text/plain": [
       "2"
      ]
     },
     "execution_count": 51,
     "metadata": {},
     "output_type": "execute_result"
    }
   ],
   "source": [
    "s2.sid"
   ]
  },
  {
   "cell_type": "code",
   "execution_count": 52,
   "metadata": {},
   "outputs": [
    {
     "data": {
      "text/plain": [
       "3"
      ]
     },
     "execution_count": 52,
     "metadata": {},
     "output_type": "execute_result"
    }
   ],
   "source": [
    "s3.sid"
   ]
  },
  {
   "cell_type": "code",
   "execution_count": 53,
   "metadata": {},
   "outputs": [],
   "source": [
    "sl.name ='ali'\n",
    "s2.name = 'taimoor'\n",
    "s3.name = 'zain'"
   ]
  },
  {
   "cell_type": "code",
   "execution_count": 54,
   "metadata": {},
   "outputs": [],
   "source": [
    "#now add new funcion attendence mark in class \n",
    "# it will be available to all students"
   ]
  },
  {
   "cell_type": "code",
   "execution_count": 55,
   "metadata": {},
   "outputs": [
    {
     "data": {
      "text/plain": [
       "3"
      ]
     },
     "execution_count": 55,
     "metadata": {},
     "output_type": "execute_result"
    }
   ],
   "source": [
    "#class variable how to excess\n",
    "\n",
    "Students.counter   #so we got 0 we got counter value this mean we can excess class variable "
   ]
  },
  {
   "cell_type": "code",
   "execution_count": 56,
   "metadata": {},
   "outputs": [
    {
     "data": {
      "text/plain": [
       "3"
      ]
     },
     "execution_count": 56,
     "metadata": {},
     "output_type": "execute_result"
    }
   ],
   "source": [
    "Students.counter  #three came because we created three objects sl,s2,s3 \n",
    "                #so three times __init__was called so counter got update to value 3"
   ]
  },
  {
   "cell_type": "code",
   "execution_count": 57,
   "metadata": {},
   "outputs": [
    {
     "name": "stdout",
     "output_type": "stream",
     "text": [
      "welcome taim\n"
     ]
    }
   ],
   "source": [
    "sl.login('taim','123')"
   ]
  },
  {
   "cell_type": "code",
   "execution_count": 58,
   "metadata": {},
   "outputs": [],
   "source": [
    "#there are two ways to add attirbuts \n",
    "#--one is when we are making class\n",
    "#---second see below"
   ]
  },
  {
   "cell_type": "code",
   "execution_count": 59,
   "metadata": {},
   "outputs": [],
   "source": [
    "sl.date_of_birth = \"1992\"  #but this date_of_birth  attribute is only created for sl"
   ]
  },
  {
   "cell_type": "code",
   "execution_count": 60,
   "metadata": {},
   "outputs": [
    {
     "name": "stdout",
     "output_type": "stream",
     "text": [
      "1992\n"
     ]
    }
   ],
   "source": [
    "print(sl.date_of_birth)"
   ]
  },
  {
   "cell_type": "code",
   "execution_count": 61,
   "metadata": {},
   "outputs": [],
   "source": [
    "#to delet\n",
    "del sl.date_of_birth"
   ]
  },
  {
   "cell_type": "code",
   "execution_count": 66,
   "metadata": {},
   "outputs": [
    {
     "data": {
      "text/plain": [
       "'ali'"
      ]
     },
     "execution_count": 66,
     "metadata": {},
     "output_type": "execute_result"
    }
   ],
   "source": [
    "sl.name"
   ]
  },
  {
   "cell_type": "code",
   "execution_count": 82,
   "metadata": {},
   "outputs": [
    {
     "data": {
      "text/plain": [
       "''"
      ]
     },
     "execution_count": 82,
     "metadata": {},
     "output_type": "execute_result"
    }
   ],
   "source": [
    "sl.__getattribute__('fname')"
   ]
  },
  {
   "cell_type": "markdown",
   "metadata": {},
   "source": [
    "## inheritance\n",
    "<a>  https://overiq.com/python-101/inheritance-and-polymorphism-in-python/ </a>\n"
   ]
  },
  {
   "cell_type": "code",
   "execution_count": 1,
   "metadata": {},
   "outputs": [],
   "source": [
    "class Parent():\n",
    "    \n",
    "    def __init__(self):\n",
    "        self.name= \"\"\n",
    "        self.fname = \"\"\n",
    "        \n",
    "    def speak (self, words = \"\"):\n",
    "        print(words,\"...\")\n",
    "    def ea(self, food = \"roti\"):\n",
    "        print(food)\n",
    "\n",
    "class Child(Parent):\n",
    "    pass"
   ]
  },
  {
   "cell_type": "code",
   "execution_count": 5,
   "metadata": {},
   "outputs": [
    {
     "name": "stdout",
     "output_type": "stream",
     "text": [
      "abu\n"
     ]
    }
   ],
   "source": [
    "p1 = Parent()\n",
    "p1.name = \"abu\"\n",
    "print(p1.name)"
   ]
  },
  {
   "cell_type": "code",
   "execution_count": 6,
   "metadata": {},
   "outputs": [],
   "source": [
    "c1 = Child()"
   ]
  },
  {
   "cell_type": "code",
   "execution_count": 7,
   "metadata": {},
   "outputs": [
    {
     "name": "stdout",
     "output_type": "stream",
     "text": [
      "Pakistan zinda bad ...\n"
     ]
    }
   ],
   "source": [
    "c1.speak(\"Pakistan zinda bad\")  #child did not had  speak method but it inherited it from  Parent  object"
   ]
  },
  {
   "cell_type": "markdown",
   "metadata": {},
   "source": [
    "## task\n"
   ]
  },
  {
   "cell_type": "code",
   "execution_count": 109,
   "metadata": {},
   "outputs": [],
   "source": [
    "class Father():\n",
    "    \n",
    "    def __init__(self):\n",
    "        self.name= \"abu\"\n",
    "    def edi(self):\n",
    "        print(3000)\n",
    "        \n",
    "class Mom():\n",
    "    \n",
    "    def __init__(self):\n",
    "        self.name= \"ami\"\n",
    "    def edi(self):\n",
    "        print(5000)\n",
    "        \n",
    "class Child(Mom,Father):\n",
    "    pass"
   ]
  },
  {
   "cell_type": "code",
   "execution_count": 107,
   "metadata": {},
   "outputs": [],
   "source": [
    "c1=Child()"
   ]
  },
  {
   "cell_type": "code",
   "execution_count": 111,
   "metadata": {},
   "outputs": [
    {
     "name": "stdout",
     "output_type": "stream",
     "text": [
      "5000\n"
     ]
    }
   ],
   "source": [
    "c1.edi()   #as we assigne Mom class to child first we got edi form Mom class"
   ]
  },
  {
   "cell_type": "code",
   "execution_count": 112,
   "metadata": {},
   "outputs": [
    {
     "data": {
      "text/plain": [
       "'ami'"
      ]
     },
     "execution_count": 112,
     "metadata": {},
     "output_type": "execute_result"
    }
   ],
   "source": [
    "c1.name  #as we assigne Mom class first so we got name from Mom class"
   ]
  },
  {
   "cell_type": "markdown",
   "metadata": {},
   "source": [
    "## Polymorphism"
   ]
  },
  {
   "cell_type": "markdown",
   "metadata": {},
   "source": [
    "### overloading"
   ]
  },
  {
   "cell_type": "code",
   "execution_count": 123,
   "metadata": {},
   "outputs": [],
   "source": [
    "class A():\n",
    "    def abc(self,a):\n",
    "        print(a)\n",
    "    def abc(self,a,b):\n",
    "        print(a+b)\n"
   ]
  },
  {
   "cell_type": "code",
   "execution_count": 126,
   "metadata": {},
   "outputs": [
    {
     "name": "stdout",
     "output_type": "stream",
     "text": [
      "5\n"
     ]
    }
   ],
   "source": [
    "o1 = A()\n",
    "o1.abc(2,3)  #this abc is last function abc(a,b)  because it over ride first function inside class A\n",
    "             #it worked with two arguments "
   ]
  },
  {
   "cell_type": "code",
   "execution_count": 127,
   "metadata": {},
   "outputs": [],
   "source": [
    "#what if we wan to have flexibility of both of any number of sum"
   ]
  },
  {
   "cell_type": "code",
   "execution_count": 136,
   "metadata": {},
   "outputs": [],
   "source": [
    "class A():\n",
    "    def abc(self,*n):\n",
    "        print(sum(n))\n",
    "    "
   ]
  },
  {
   "cell_type": "code",
   "execution_count": 137,
   "metadata": {},
   "outputs": [
    {
     "name": "stdout",
     "output_type": "stream",
     "text": [
      "3\n"
     ]
    }
   ],
   "source": [
    "o=A()\n",
    "o.abc(1,2)"
   ]
  },
  {
   "cell_type": "code",
   "execution_count": 138,
   "metadata": {},
   "outputs": [
    {
     "name": "stdout",
     "output_type": "stream",
     "text": [
      "33\n"
     ]
    }
   ],
   "source": [
    "o.abc(3,4,5,6,7,8)"
   ]
  },
  {
   "cell_type": "markdown",
   "metadata": {},
   "source": [
    "### over riding"
   ]
  },
  {
   "cell_type": "code",
   "execution_count": 139,
   "metadata": {},
   "outputs": [],
   "source": [
    "class A():\n",
    "    def abc(self,a='i am a'):\n",
    "        print(a)\n",
    "class B(A):\n",
    "    def abc(self,b='i am b'):\n",
    "        print(b)\n",
    "\n",
    "        \n"
   ]
  },
  {
   "cell_type": "code",
   "execution_count": 143,
   "metadata": {},
   "outputs": [
    {
     "name": "stdout",
     "output_type": "stream",
     "text": [
      "i am b\n"
     ]
    }
   ],
   "source": [
    "o=B()\n",
    "o.abc()\n",
    "# both A and B class had same function name \n",
    "# so B was child of A\n",
    "# B function name over ride A function\n",
    "#so when we assign B child class to o\n",
    "# o  when call abc \n",
    "# it will get abc function  from child not from A parent\n",
    "#becuase in paython it has been over ride"
   ]
  },
  {
   "cell_type": "markdown",
   "metadata": {},
   "source": [
    "## Encapulation"
   ]
  },
  {
   "cell_type": "code",
   "execution_count": 2,
   "metadata": {},
   "outputs": [],
   "source": [
    "class A():\n",
    "    def __init__(self,name,age):\n",
    "        self.__sname = name  #to make any method or attribute private we use double underscore __\n",
    "        self.__sage = age # now __sname and __sage are private \n",
    "                            #now they cannot be axcess so if cannnot axcess we cannot update or change\n",
    "obj1 = A(\"Ali\", 25)"
   ]
  },
  {
   "cell_type": "code",
   "execution_count": 3,
   "metadata": {},
   "outputs": [
    {
     "ename": "AttributeError",
     "evalue": "'A' object has no attribute 'sname'",
     "output_type": "error",
     "traceback": [
      "\u001b[1;31m---------------------------------------------------------------------------\u001b[0m",
      "\u001b[1;31mAttributeError\u001b[0m                            Traceback (most recent call last)",
      "\u001b[1;32m<ipython-input-3-63bb28389f86>\u001b[0m in \u001b[0;36m<module>\u001b[1;34m\u001b[0m\n\u001b[1;32m----> 1\u001b[1;33m \u001b[0mobj1\u001b[0m\u001b[1;33m.\u001b[0m\u001b[0msname\u001b[0m\u001b[1;33m\u001b[0m\u001b[1;33m\u001b[0m\u001b[0m\n\u001b[0m",
      "\u001b[1;31mAttributeError\u001b[0m: 'A' object has no attribute 'sname'"
     ]
    }
   ],
   "source": [
    "obj1.sname  #it will show  error as no sname exist be"
   ]
  },
  {
   "cell_type": "code",
   "execution_count": 5,
   "metadata": {},
   "outputs": [
    {
     "data": {
      "text/plain": [
       "'Ali'"
      ]
     },
     "execution_count": 5,
     "metadata": {},
     "output_type": "execute_result"
    }
   ],
   "source": [
    "obj1._A__sname  #but with class refrence we axcess private parameters and its attributes"
   ]
  },
  {
   "cell_type": "code",
   "execution_count": 6,
   "metadata": {},
   "outputs": [],
   "source": [
    "#we need to creat methods to update our private parameters values"
   ]
  },
  {
   "cell_type": "code",
   "execution_count": 8,
   "metadata": {},
   "outputs": [],
   "source": [
    "class A():\n",
    "    def __init__(self,name,age):\n",
    "        self.__sname = name  #to make any method or attribute private we use double underscore __\n",
    "        self.__sage = age # now __sname and __sage are private \n",
    "                            #now they cannot be axcess so if cannnot axcess we cannot update or change\n",
    "    def display(self):\n",
    "        print(\"name: \",self.__sname)\n",
    "        print(\"Age: \",self.__sage)\n",
    "        \n",
    "    def change(self, a, b):\n",
    "        self.__sname = a  #a is local variable\n",
    "        self.__sage = b    #b is local variable\n",
    "        \n",
    "    # note we can alos create METHODS that are private for that we need to use double underscore before METHOD name\n",
    "    # e.g def __login(self):\n",
    "    def __info(self):   #this is private method\n",
    "        print('Hellow')\n",
    "    def abc(self):\n",
    "        self.__info()\n",
    "    \n",
    "obj1 = A(\"Ali\",25) "
   ]
  },
  {
   "cell_type": "code",
   "execution_count": 9,
   "metadata": {},
   "outputs": [
    {
     "name": "stdout",
     "output_type": "stream",
     "text": [
      "name:  Ali\n",
      "Age:  25\n"
     ]
    }
   ],
   "source": [
    "obj1.display()"
   ]
  },
  {
   "cell_type": "code",
   "execution_count": 10,
   "metadata": {},
   "outputs": [
    {
     "name": "stdout",
     "output_type": "stream",
     "text": [
      "Hellow\n"
     ]
    }
   ],
   "source": [
    "obj1.abc()"
   ]
  },
  {
   "cell_type": "code",
   "execution_count": 12,
   "metadata": {},
   "outputs": [],
   "source": [
    "obj1.change('taimoor',28)"
   ]
  },
  {
   "cell_type": "code",
   "execution_count": 13,
   "metadata": {},
   "outputs": [
    {
     "name": "stdout",
     "output_type": "stream",
     "text": [
      "name:  taimoor\n",
      "Age:  28\n"
     ]
    }
   ],
   "source": [
    "obj1.display()"
   ]
  },
  {
   "cell_type": "code",
   "execution_count": 14,
   "metadata": {},
   "outputs": [
    {
     "ename": "AttributeError",
     "evalue": "'A' object has no attribute '__sname'",
     "output_type": "error",
     "traceback": [
      "\u001b[1;31m---------------------------------------------------------------------------\u001b[0m",
      "\u001b[1;31mAttributeError\u001b[0m                            Traceback (most recent call last)",
      "\u001b[1;32m<ipython-input-14-fa8f2de7df4a>\u001b[0m in \u001b[0;36m<module>\u001b[1;34m\u001b[0m\n\u001b[1;32m----> 1\u001b[1;33m \u001b[0mobj1\u001b[0m\u001b[1;33m.\u001b[0m\u001b[0m__sname\u001b[0m\u001b[1;33m\u001b[0m\u001b[1;33m\u001b[0m\u001b[0m\n\u001b[0m",
      "\u001b[1;31mAttributeError\u001b[0m: 'A' object has no attribute '__sname'"
     ]
    }
   ],
   "source": [
    "obj1.__sname"
   ]
  },
  {
   "cell_type": "code",
   "execution_count": 15,
   "metadata": {},
   "outputs": [
    {
     "data": {
      "text/plain": [
       "'taimoor'"
      ]
     },
     "execution_count": 15,
     "metadata": {},
     "output_type": "execute_result"
    }
   ],
   "source": [
    "obj1._A__sname"
   ]
  },
  {
   "cell_type": "markdown",
   "metadata": {},
   "source": [
    "# Abstraction Class"
   ]
  },
  {
   "cell_type": "markdown",
   "metadata": {},
   "source": [
    "### although python has no concept of abstraction\n",
    "in python we dont have concept of abtract class\n",
    "abstract class are those classes that are not complete \n",
    "so any uncomplete class cannot be assign directly to vriable thus mean we cannot make it a object\n",
    "when we assign a class to variable that varibale become object \n",
    "\n",
    "to make a abstract class we have to use ABC class from abc package and assign into class whome you want to make abstract\n",
    "\n",
    "directly in python you cannot make abstract class"
   ]
  },
  {
   "cell_type": "code",
   "execution_count": 16,
   "metadata": {},
   "outputs": [],
   "source": [
    "#python 2\n",
    "class A:  #we did not put () so this is abstract but python still give arguments to parameter\n",
    "          #absratch class cannot becoe object directly \n",
    "    def __init__(self,a, b):\n",
    "        self.a = b\n",
    "        self.b = b\n",
    "        \n",
    "class B(A):\n",
    "    pass\n",
    "\n",
    "    "
   ]
  },
  {
   "cell_type": "code",
   "execution_count": 17,
   "metadata": {},
   "outputs": [],
   "source": [
    "obj1 = A(2,5)  #but it did become directly so how to make abstractors???"
   ]
  },
  {
   "cell_type": "code",
   "execution_count": 19,
   "metadata": {},
   "outputs": [],
   "source": [
    "from abc import ABC, abstractclassmethod  \n",
    "#ABC is class and abstractclassmethid is a function  (because class start with capital)\n",
    "\n",
    "class A(ABC):\n",
    "    @abstractclassmethod\n",
    "    def __init__(self, a, b):\n",
    "        self.a = a \n",
    "        self.b = b\n",
    "        \n",
    "class B(A):\n",
    "    pass\n",
    "#now class A() is abstract class and incomplete class so we cannot create it s aboject directly\n"
   ]
  },
  {
   "cell_type": "code",
   "execution_count": 20,
   "metadata": {},
   "outputs": [
    {
     "ename": "TypeError",
     "evalue": "Can't instantiate abstract class A with abstract methods __init__",
     "output_type": "error",
     "traceback": [
      "\u001b[1;31m---------------------------------------------------------------------------\u001b[0m",
      "\u001b[1;31mTypeError\u001b[0m                                 Traceback (most recent call last)",
      "\u001b[1;32m<ipython-input-20-23107a5702a5>\u001b[0m in \u001b[0;36m<module>\u001b[1;34m\u001b[0m\n\u001b[1;32m----> 1\u001b[1;33m \u001b[0mobj2\u001b[0m \u001b[1;33m=\u001b[0m \u001b[0mA\u001b[0m\u001b[1;33m(\u001b[0m\u001b[1;36m1\u001b[0m\u001b[1;33m,\u001b[0m\u001b[1;36m3\u001b[0m\u001b[1;33m)\u001b[0m   \u001b[1;31m#see it show error can't instntiate abstrat class\u001b[0m\u001b[1;33m\u001b[0m\u001b[1;33m\u001b[0m\u001b[0m\n\u001b[0m\u001b[0;32m      2\u001b[0m \u001b[1;31m#so we created a class A() which is abstract using ABC class\u001b[0m\u001b[1;33m\u001b[0m\u001b[1;33m\u001b[0m\u001b[1;33m\u001b[0m\u001b[0m\n",
      "\u001b[1;31mTypeError\u001b[0m: Can't instantiate abstract class A with abstract methods __init__"
     ]
    }
   ],
   "source": [
    "obj2 = A(1,3)   #see it show error can't instntiate abstrat class\n",
    "#so we created a class A() which is abstract using ABC class"
   ]
  },
  {
   "cell_type": "code",
   "execution_count": 21,
   "metadata": {},
   "outputs": [
    {
     "ename": "TypeError",
     "evalue": "Can't instantiate abstract class Human with abstract methods __init__",
     "output_type": "error",
     "traceback": [
      "\u001b[1;31m---------------------------------------------------------------------------\u001b[0m",
      "\u001b[1;31mTypeError\u001b[0m                                 Traceback (most recent call last)",
      "\u001b[1;32m<ipython-input-21-2e509fe1e2af>\u001b[0m in \u001b[0;36m<module>\u001b[1;34m\u001b[0m\n\u001b[0;32m     10\u001b[0m \u001b[1;31m#this humand class is abstract class\u001b[0m\u001b[1;33m\u001b[0m\u001b[1;33m\u001b[0m\u001b[1;33m\u001b[0m\u001b[0m\n\u001b[0;32m     11\u001b[0m \u001b[1;31m#we cannot use it diretly as object\u001b[0m\u001b[1;33m\u001b[0m\u001b[1;33m\u001b[0m\u001b[1;33m\u001b[0m\u001b[0m\n\u001b[1;32m---> 12\u001b[1;33m \u001b[0mp1\u001b[0m\u001b[1;33m=\u001b[0m\u001b[0mHuman\u001b[0m\u001b[1;33m(\u001b[0m\u001b[1;33m)\u001b[0m  \u001b[1;31m#see it generated error because it is abstract class\u001b[0m\u001b[1;33m\u001b[0m\u001b[1;33m\u001b[0m\u001b[0m\n\u001b[0m",
      "\u001b[1;31mTypeError\u001b[0m: Can't instantiate abstract class Human with abstract methods __init__"
     ]
    }
   ],
   "source": [
    "class Human(ABC):\n",
    "    @abstractclassmethod\n",
    "    def __init__(self):\n",
    "        self.name = None\n",
    "        self.age = None\n",
    "    def display(self, name, age):\n",
    "        self.name= name\n",
    "        self.age = age\n",
    "        return 'object name is {} {} std'.format(self.name,self.age)\n",
    "#this humand class is abstract class\n",
    "#we cannot use it diretly as object\n",
    "p1=Human()  #see it generated error because it is abstract class"
   ]
  },
  {
   "cell_type": "code",
   "execution_count": 22,
   "metadata": {},
   "outputs": [],
   "source": [
    "class Male(Human):  #but we can use Human by assigning it asparent class to Male class\n",
    "    def __init__(self):\n",
    "        self.name= 'ali'\n",
    "        self.age = 22\n",
    "        "
   ]
  },
  {
   "cell_type": "code",
   "execution_count": 29,
   "metadata": {},
   "outputs": [
    {
     "data": {
      "text/plain": [
       "'ali'"
      ]
     },
     "execution_count": 29,
     "metadata": {},
     "output_type": "execute_result"
    }
   ],
   "source": [
    "m=Male()\n",
    "m.name  #it is return  means ww can store it into someother varialbe"
   ]
  },
  {
   "cell_type": "markdown",
   "metadata": {},
   "source": [
    "## TASK"
   ]
  },
  {
   "cell_type": "markdown",
   "metadata": {},
   "source": [
    "### abstraction"
   ]
  },
  {
   "cell_type": "code",
   "execution_count": 94,
   "metadata": {},
   "outputs": [],
   "source": [
    "from abc import ABC, abstractclassmethod\n",
    "\n",
    "class Car(ABC):\n",
    "    @abstractclassmethod\n",
    "    def __init__(self):\n",
    "        self.brand =None\n",
    "        self.color = None\n",
    "    "
   ]
  },
  {
   "cell_type": "code",
   "execution_count": 95,
   "metadata": {},
   "outputs": [
    {
     "ename": "TypeError",
     "evalue": "Can't instantiate abstract class Car with abstract methods __init__",
     "output_type": "error",
     "traceback": [
      "\u001b[1;31m---------------------------------------------------------------------------\u001b[0m",
      "\u001b[1;31mTypeError\u001b[0m                                 Traceback (most recent call last)",
      "\u001b[1;32m<ipython-input-95-c7d32a28a7b5>\u001b[0m in \u001b[0;36m<module>\u001b[1;34m\u001b[0m\n\u001b[1;32m----> 1\u001b[1;33m \u001b[0mhonda\u001b[0m \u001b[1;33m=\u001b[0m \u001b[0mCar\u001b[0m\u001b[1;33m(\u001b[0m\u001b[1;33m)\u001b[0m\u001b[1;33m\u001b[0m\u001b[1;33m\u001b[0m\u001b[0m\n\u001b[0m",
      "\u001b[1;31mTypeError\u001b[0m: Can't instantiate abstract class Car with abstract methods __init__"
     ]
    }
   ],
   "source": [
    "honda = Car()"
   ]
  },
  {
   "cell_type": "code",
   "execution_count": 109,
   "metadata": {},
   "outputs": [
    {
     "data": {
      "text/plain": [
       "('honda', 'red', 'pakistan')"
      ]
     },
     "execution_count": 109,
     "metadata": {},
     "output_type": "execute_result"
    }
   ],
   "source": [
    "class Honda(Car):\n",
    "    def __init__(self,coun):\n",
    "        self.brand = 'honda'\n",
    "        self.color = 'red'\n",
    "        self.country = coun\n",
    "    def display(self):\n",
    "        return self.brand,self.color,self.country\n",
    "       \n",
    "a=Honda('pakistan')\n",
    "a.display()\n",
    "    "
   ]
  },
  {
   "cell_type": "markdown",
   "metadata": {},
   "source": [
    "## incapusulation example\n"
   ]
  },
  {
   "cell_type": "code",
   "execution_count": 30,
   "metadata": {},
   "outputs": [
    {
     "data": {
      "text/plain": [
       "('guri', 'dehli')"
      ]
     },
     "execution_count": 30,
     "metadata": {},
     "output_type": "execute_result"
    }
   ],
   "source": [
    "class atomicbomb():\n",
    "    def __init__(self,name,location):\n",
    "        self.__bomb=  name\n",
    "        self.__hittarget=location\n",
    "    def __callPM(self,x):\n",
    "        self.PM = x\n",
    "        return \"don't use atomic bomb\"\n",
    "        \n",
    "war=atomicbomb('guri','dehli')\n",
    "\n",
    "war._atomicbomb__bomb,war._atomicbomb__hittarget\n",
    "  "
   ]
  },
  {
   "cell_type": "code",
   "execution_count": 31,
   "metadata": {},
   "outputs": [
    {
     "data": {
      "text/plain": [
       "\"don't use atomic bomb\""
      ]
     },
     "execution_count": 31,
     "metadata": {},
     "output_type": "execute_result"
    }
   ],
   "source": [
    "war._atomicbomb__callPM('what to  do')"
   ]
  },
  {
   "cell_type": "code",
   "execution_count": 32,
   "metadata": {},
   "outputs": [
    {
     "data": {
      "text/plain": [
       "'what to  do'"
      ]
     },
     "execution_count": 32,
     "metadata": {},
     "output_type": "execute_result"
    }
   ],
   "source": [
    "war.PM"
   ]
  },
  {
   "cell_type": "markdown",
   "metadata": {},
   "source": [
    "## Polymorphism"
   ]
  },
  {
   "cell_type": "markdown",
   "metadata": {},
   "source": [
    "### overloading"
   ]
  },
  {
   "cell_type": "code",
   "execution_count": 127,
   "metadata": {},
   "outputs": [],
   "source": [
    "class location():\n",
    "    def __init__(self,location):\n",
    "        self.myplace=location\n",
    "    def place(self):\n",
    "        return 'so you live : {}'.format(self.myplace)"
   ]
  },
  {
   "cell_type": "code",
   "execution_count": 128,
   "metadata": {},
   "outputs": [
    {
     "data": {
      "text/plain": [
       "'so you live : pakistan'"
      ]
     },
     "execution_count": 128,
     "metadata": {},
     "output_type": "execute_result"
    }
   ],
   "source": [
    "std = location('pakistan')\n",
    "\n",
    "std.place()"
   ]
  },
  {
   "cell_type": "markdown",
   "metadata": {},
   "source": [
    "### overriding"
   ]
  },
  {
   "cell_type": "code",
   "execution_count": null,
   "metadata": {},
   "outputs": [],
   "source": []
  },
  {
   "cell_type": "markdown",
   "metadata": {},
   "source": [
    "# EXCEPTION"
   ]
  },
  {
   "cell_type": "raw",
   "metadata": {},
   "source": [
    "try :\n",
    "    your code\n",
    "except (err1Class,er2Class,...):\n",
    "    message show against your errClass\n",
    "else:\n",
    "    message show if exception did't raised\n",
    "finally:\n",
    "    always run this block"
   ]
  },
  {
   "cell_type": "markdown",
   "metadata": {},
   "source": [
    "in try block we write about code we have doubt that it migh riase error \n",
    "\n",
    "in excet block we name those errors which might get riased (error name1,error name2, erro namn......)\n",
    "\n",
    "in else we write what to do if those above error get generated we can either show one signle message or run code for all n errors raise which we defined in except\n",
    "\n",
    "finally this belock always run whether exception raise or not"
   ]
  },
  {
   "cell_type": "raw",
   "metadata": {},
   "source": [
    "-- IndexError\n",
    "--ZeroDivisionError\n",
    "--FileNotFoundError"
   ]
  },
  {
   "cell_type": "code",
   "execution_count": 134,
   "metadata": {},
   "outputs": [
    {
     "name": "stdout",
     "output_type": "stream",
     "text": [
      "------start divison\n",
      "\n",
      "jao phelay math seekho\n",
      "\n",
      "----division done good by progrma reached end\n"
     ]
    }
   ],
   "source": [
    "print('------start divison\\n')\n",
    "try:\n",
    "    print(6 / 0)\n",
    "except ZeroDivisionError:\n",
    "    print(\"jao phelay math seekho\")\n",
    "\n",
    "\n",
    "print('\\n----division done good by progrma reached end')\n",
    "#benefit of this is that our program did not crashed it handel error and move one \n"
   ]
  },
  {
   "cell_type": "raw",
   "metadata": {},
   "source": [
    "-- remeber in try block if error raise on line 2 then rest of try lines will not be executed instead it will jump to except block\n",
    "-- to run all try line u need to use mulitply tries blocks"
   ]
  },
  {
   "cell_type": "code",
   "execution_count": 139,
   "metadata": {},
   "outputs": [
    {
     "name": "stdout",
     "output_type": "stream",
     "text": [
      "-start divison-\n",
      "\n",
      "jao phelay math seekho\n",
      "\n",
      "first download\n",
      "\n",
      "hahaha ooops \n",
      "\n",
      "-division done good by progrma reached end-\n"
     ]
    }
   ],
   "source": [
    "print('-start divison-\\n')\n",
    "try:\n",
    "    print(6 / 0)\n",
    "except ZeroDivisionError:\n",
    "    print(\"jao phelay math seekho\\n\")\n",
    "try:\n",
    "    open('abc.txt','rt')\n",
    "except FileNotFoundError:\n",
    "    print(\"first download\\n\")\n",
    "try:\n",
    "    bomb = ['guri','shaheen\\n']\n",
    "    bomb[3]\n",
    "except IndexError:\n",
    "    print(\"hahaha ooops \")\n",
    "\n",
    "\n",
    "print('\\n-division done good by progrma reached end-')\n",
    "#benefit of this is that our program did not crashed it handel error and move one "
   ]
  },
  {
   "cell_type": "code",
   "execution_count": 140,
   "metadata": {},
   "outputs": [
    {
     "name": "stdout",
     "output_type": "stream",
     "text": [
      "-start divison-\n",
      "\n",
      "program is waja sa ruka ha ---> ya error ha -->  division by zero\n",
      "\n",
      "\n",
      "-division done good by progrma reached end-\n"
     ]
    }
   ],
   "source": [
    "print('-start divison-\\n')\n",
    "try:\n",
    "    print(6 / 0)\n",
    "    bomb = ['guri','shaheen\\n']\n",
    "    bomb[3]\n",
    "    open('hbdkba.txt')\n",
    "except Exception as e:\n",
    "    print(f\"program is waja sa ruka ha ---> ya error ha -->  {e}\\n\")\n",
    "\n",
    "\n",
    "\n",
    "print('\\n-division done good by progrma reached end-')\n",
    "#benefit of this is that our program did not crashed it handel error and move one \n",
    "# now we can display what type or eror is generated in program and we can display that error without crashing program \n",
    "#now we display error and also finished the program\n",
    "#now we have dynamical error showing  not our static message "
   ]
  },
  {
   "cell_type": "code",
   "execution_count": 143,
   "metadata": {},
   "outputs": [
    {
     "name": "stdout",
     "output_type": "stream",
     "text": [
      "division by zero\n"
     ]
    }
   ],
   "source": [
    "try :\n",
    "    print(7/0)\n",
    "except Exception as e : #Exception hold Error Name generated in  try block then  we change holder name to as --> e\n",
    "    print(e)"
   ]
  },
  {
   "cell_type": "code",
   "execution_count": 146,
   "metadata": {},
   "outputs": [
    {
     "name": "stdout",
     "output_type": "stream",
     "text": [
      "division by zero\n",
      "so now it's end of class\n"
     ]
    }
   ],
   "source": [
    "try :\n",
    "    print(7/0)\n",
    "except Exception as e : #Exception hold Error Name generated in  try block then  we change holder name to as --> e\n",
    "    print(e)\n",
    "else:\n",
    "    print('your code is running without error')\n",
    "finally :\n",
    "    print(\"so now it's end of class\")\n",
    "# from try error generated it went to except from except it went to finally "
   ]
  },
  {
   "cell_type": "code",
   "execution_count": 148,
   "metadata": {},
   "outputs": [
    {
     "name": "stdout",
     "output_type": "stream",
     "text": [
      "2.3333333333333335\n",
      "your code is running without error\n",
      "so now it's end of class\n"
     ]
    }
   ],
   "source": [
    "try :\n",
    "    print(7/3)\n",
    "except Exception as e : #Exception hold Error Name generated in  try block then  we change holder name to as --> e\n",
    "    print(e)\n",
    "else:\n",
    "    print('your code is running without error')\n",
    "finally :\n",
    "    print(\"so now it's end of class\")\n",
    "# from try every thing went ok no error generated so  it went to else from else it went to finally "
   ]
  },
  {
   "cell_type": "markdown",
   "metadata": {},
   "source": [
    "### NOTE except and else  never come together  \n",
    "only either except block will run or\n",
    "\n",
    "only wither else block will run \n",
    "\n",
    "depend upon try block whether it raise error or not\n",
    "\n",
    "hint: both e's keyword cannot executed in one situtation"
   ]
  },
  {
   "cell_type": "markdown",
   "metadata": {},
   "source": [
    "# RAISE"
   ]
  },
  {
   "cell_type": "code",
   "execution_count": 67,
   "metadata": {},
   "outputs": [
    {
     "ename": "Exception",
     "evalue": "Age Range 18 to 80",
     "output_type": "error",
     "traceback": [
      "\u001b[1;31m---------------------------------------------------------------------------\u001b[0m",
      "\u001b[1;31mException\u001b[0m                                 Traceback (most recent call last)",
      "\u001b[1;32m<ipython-input-67-348842820f62>\u001b[0m in \u001b[0;36m<module>\u001b[1;34m\u001b[0m\n\u001b[0;32m      5\u001b[0m             \u001b[1;32mraise\u001b[0m \u001b[0mException\u001b[0m\u001b[1;33m(\u001b[0m\u001b[1;34m\"Age Range 18 to 80\"\u001b[0m\u001b[1;33m)\u001b[0m\u001b[1;33m\u001b[0m\u001b[1;33m\u001b[0m\u001b[0m\n\u001b[0;32m      6\u001b[0m \u001b[1;33m\u001b[0m\u001b[0m\n\u001b[1;32m----> 7\u001b[1;33m \u001b[0mobj1\u001b[0m \u001b[1;33m=\u001b[0m \u001b[0mstudent\u001b[0m\u001b[1;33m(\u001b[0m\u001b[1;36m9\u001b[0m\u001b[1;33m)\u001b[0m\u001b[1;33m\u001b[0m\u001b[1;33m\u001b[0m\u001b[0m\n\u001b[0m\u001b[0;32m      8\u001b[0m \u001b[1;33m\u001b[0m\u001b[0m\n\u001b[0;32m      9\u001b[0m \u001b[1;33m\u001b[0m\u001b[0m\n",
      "\u001b[1;32m<ipython-input-67-348842820f62>\u001b[0m in \u001b[0;36m__init__\u001b[1;34m(self, age)\u001b[0m\n\u001b[0;32m      3\u001b[0m         \u001b[0mself\u001b[0m\u001b[1;33m.\u001b[0m\u001b[0mage\u001b[0m\u001b[1;33m=\u001b[0m \u001b[0mage\u001b[0m\u001b[1;33m\u001b[0m\u001b[1;33m\u001b[0m\u001b[0m\n\u001b[0;32m      4\u001b[0m         \u001b[1;32mif\u001b[0m \u001b[1;33m(\u001b[0m\u001b[0mage\u001b[0m\u001b[1;33m<\u001b[0m \u001b[1;36m18\u001b[0m \u001b[1;32mor\u001b[0m \u001b[0mage\u001b[0m \u001b[1;33m>\u001b[0m\u001b[1;36m80\u001b[0m\u001b[1;33m)\u001b[0m\u001b[1;33m:\u001b[0m\u001b[1;33m\u001b[0m\u001b[1;33m\u001b[0m\u001b[0m\n\u001b[1;32m----> 5\u001b[1;33m             \u001b[1;32mraise\u001b[0m \u001b[0mException\u001b[0m\u001b[1;33m(\u001b[0m\u001b[1;34m\"Age Range 18 to 80\"\u001b[0m\u001b[1;33m)\u001b[0m\u001b[1;33m\u001b[0m\u001b[1;33m\u001b[0m\u001b[0m\n\u001b[0m\u001b[0;32m      6\u001b[0m \u001b[1;33m\u001b[0m\u001b[0m\n\u001b[0;32m      7\u001b[0m \u001b[0mobj1\u001b[0m \u001b[1;33m=\u001b[0m \u001b[0mstudent\u001b[0m\u001b[1;33m(\u001b[0m\u001b[1;36m9\u001b[0m\u001b[1;33m)\u001b[0m\u001b[1;33m\u001b[0m\u001b[1;33m\u001b[0m\u001b[0m\n",
      "\u001b[1;31mException\u001b[0m: Age Range 18 to 80"
     ]
    }
   ],
   "source": [
    "class student():\n",
    "    def __init__(self,age):\n",
    "        self.age= age\n",
    "        if (age< 18 or age >80):\n",
    "            raise Exception(\"Age Range 18 to 80\")\n",
    "            \n",
    "obj1 = student(9)\n",
    "\n",
    "\n",
    "# raise ZeroDivisionError (\"aa\")#using -raise- keyword and any exception word from Exception class u can raise Exception + message\n",
    "\n",
    "#to raisw exception first condition of if block must get true so\n",
    "#so this mean that we need to put negative conditon to get true and when negative condition get trun raise exception "
   ]
  },
  {
   "cell_type": "markdown",
   "metadata": {},
   "source": [
    "# ASSERT\n",
    "\n",
    "<h4>\"assert condition\" ,----if condiction false run this block</h4>\n",
    "\n",
    "<h4>if condition true run this block</h4>"
   ]
  },
  {
   "cell_type": "code",
   "execution_count": 52,
   "metadata": {},
   "outputs": [
    {
     "name": "stdout",
     "output_type": "stream",
     "text": [
      "welcome u landed right planet\n"
     ]
    }
   ],
   "source": [
    "life = 'is on earth'\n",
    "try:\n",
    "    assert life == 'is on earth' \n",
    "except Exception as e:\n",
    "    print('no')\n",
    "else:\n",
    "    print('welcome u landed right planet')"
   ]
  },
  {
   "cell_type": "code",
   "execution_count": 54,
   "metadata": {},
   "outputs": [
    {
     "name": "stdout",
     "output_type": "stream",
     "text": [
      "yes\n"
     ]
    }
   ],
   "source": [
    "assert 1==1, print('no')\n",
    "print('yes')"
   ]
  },
  {
   "cell_type": "code",
   "execution_count": 55,
   "metadata": {
    "scrolled": true
   },
   "outputs": [
    {
     "name": "stdout",
     "output_type": "stream",
     "text": [
      "what ever u did u did it wrong\n"
     ]
    },
    {
     "ename": "AssertionError",
     "evalue": "None",
     "output_type": "error",
     "traceback": [
      "\u001b[1;31m---------------------------------------------------------------------------\u001b[0m",
      "\u001b[1;31mAssertionError\u001b[0m                            Traceback (most recent call last)",
      "\u001b[1;32m<ipython-input-55-41e581723ff2>\u001b[0m in \u001b[0;36m<module>\u001b[1;34m\u001b[0m\n\u001b[1;32m----> 1\u001b[1;33m \u001b[1;32massert\u001b[0m \u001b[1;34m'A'\u001b[0m\u001b[1;33m==\u001b[0m\u001b[1;34m'a'\u001b[0m\u001b[1;33m,\u001b[0m \u001b[0mprint\u001b[0m\u001b[1;33m(\u001b[0m\u001b[1;34m'what ever u did u did it wrong'\u001b[0m\u001b[1;33m)\u001b[0m\u001b[1;33m\u001b[0m\u001b[1;33m\u001b[0m\u001b[0m\n\u001b[0m\u001b[0;32m      2\u001b[0m \u001b[1;33m\u001b[0m\u001b[0m\n\u001b[0;32m      3\u001b[0m \u001b[0mprint\u001b[0m\u001b[1;33m(\u001b[0m\u001b[1;34m'what ever you did u did it right'\u001b[0m\u001b[1;33m)\u001b[0m\u001b[1;33m\u001b[0m\u001b[1;33m\u001b[0m\u001b[0m\n",
      "\u001b[1;31mAssertionError\u001b[0m: None"
     ]
    }
   ],
   "source": [
    "assert 'A'=='a', print('what ever u did u did it wrong')\n",
    "\n",
    "print('what ever you did u did it right')"
   ]
  },
  {
   "cell_type": "code",
   "execution_count": 235,
   "metadata": {},
   "outputs": [
    {
     "name": "stdout",
     "output_type": "stream",
     "text": [
      "['u did some thing wrong ']\n"
     ]
    }
   ],
   "source": [
    "try:\n",
    "    assert 1=='a', ['u did some thing wrong '] #u can even use list  if assertion fails\n",
    "    print('fine...no problem')\n",
    "except Exception as e: # as exception raised AssertionError so except catched it\n",
    "    print(e)"
   ]
  },
  {
   "cell_type": "markdown",
   "metadata": {},
   "source": [
    "### Raise ,Except, practice"
   ]
  },
  {
   "cell_type": "code",
   "execution_count": 236,
   "metadata": {},
   "outputs": [
    {
     "ename": "ZeroDivisionError",
     "evalue": "u said to raise exception so i rasied",
     "output_type": "error",
     "traceback": [
      "\u001b[1;31m---------------------------------------------------------------------------\u001b[0m",
      "\u001b[1;31mZeroDivisionError\u001b[0m                         Traceback (most recent call last)",
      "\u001b[1;32m<ipython-input-236-9bcbc267ef61>\u001b[0m in \u001b[0;36m<module>\u001b[1;34m\u001b[0m\n\u001b[1;32m----> 1\u001b[1;33m \u001b[1;32mraise\u001b[0m \u001b[0mZeroDivisionError\u001b[0m\u001b[1;33m(\u001b[0m\u001b[1;34m'u said to raise exception so i rasied'\u001b[0m\u001b[1;33m)\u001b[0m\u001b[1;33m\u001b[0m\u001b[1;33m\u001b[0m\u001b[0m\n\u001b[0m\u001b[0;32m      2\u001b[0m \u001b[1;31m# when u raise exception u can also show up message of ur choice\u001b[0m\u001b[1;33m\u001b[0m\u001b[1;33m\u001b[0m\u001b[1;33m\u001b[0m\u001b[0m\n\u001b[0;32m      3\u001b[0m \u001b[1;31m#raise show full discription of error like normal automatic error raised\u001b[0m\u001b[1;33m\u001b[0m\u001b[1;33m\u001b[0m\u001b[1;33m\u001b[0m\u001b[0m\n",
      "\u001b[1;31mZeroDivisionError\u001b[0m: u said to raise exception so i rasied"
     ]
    }
   ],
   "source": [
    "raise ZeroDivisionError('u said to raise exception so i rasied') \n",
    "# when u raise exception u can also show up message of ur choice \n",
    "#raise show full discription of error like normal automatic error raised"
   ]
  },
  {
   "cell_type": "code",
   "execution_count": 237,
   "metadata": {},
   "outputs": [
    {
     "name": "stdout",
     "output_type": "stream",
     "text": [
      "division by zero\n"
     ]
    }
   ],
   "source": [
    "try:\n",
    "    7/0\n",
    "except Exception as e:#when u allow except to catch exception it print exception reason as simple 1 line message, no more detail\n",
    "    print(e)"
   ]
  },
  {
   "cell_type": "code",
   "execution_count": 96,
   "metadata": {},
   "outputs": [
    {
     "name": "stdout",
     "output_type": "stream",
     "text": [
      "u are moron\n"
     ]
    }
   ],
   "source": [
    "try:\n",
    "    x=2\n",
    "    7/2\n",
    "    raise Exception(\"u are moron\")#it will raise exception without the need of any condiction #any where any time #any place\n",
    "except Exception as e:              #except main task is to catch Exceptions and then run its inner code\n",
    "    print(e)                      "
   ]
  },
  {
   "cell_type": "code",
   "execution_count": 102,
   "metadata": {},
   "outputs": [
    {
     "name": "stdout",
     "output_type": "stream",
     "text": [
      "sir please don't do that\n"
     ]
    }
   ],
   "source": [
    "try:\n",
    "    raise ZeroDivisionError(\"sir please don't do that\") #our message  with error  #our message is return\n",
    "except Exception as a :  #but exception instant 'a' will only taken message\n",
    "    print(a)             #so it show only message"
   ]
  },
  {
   "cell_type": "code",
   "execution_count": 239,
   "metadata": {},
   "outputs": [
    {
     "ename": "BaseException",
     "evalue": "sir please don't do that",
     "output_type": "error",
     "traceback": [
      "\u001b[1;31m---------------------------------------------------------------------------\u001b[0m",
      "\u001b[1;31mBaseException\u001b[0m                             Traceback (most recent call last)",
      "\u001b[1;32m<ipython-input-239-837716eed447>\u001b[0m in \u001b[0;36m<module>\u001b[1;34m\u001b[0m\n\u001b[0;32m      1\u001b[0m \u001b[1;32mtry\u001b[0m\u001b[1;33m:\u001b[0m\u001b[1;33m\u001b[0m\u001b[1;33m\u001b[0m\u001b[0m\n\u001b[1;32m----> 2\u001b[1;33m     \u001b[1;32mraise\u001b[0m \u001b[0mBaseException\u001b[0m\u001b[1;33m(\u001b[0m\u001b[1;34m\"sir please don't do that\"\u001b[0m\u001b[1;33m)\u001b[0m \u001b[1;31m#once exception executed program does not move further\u001b[0m\u001b[1;33m\u001b[0m\u001b[1;33m\u001b[0m\u001b[0m\n\u001b[0m\u001b[0;32m      3\u001b[0m \u001b[1;32mexcept\u001b[0m \u001b[0mException\u001b[0m \u001b[1;32mas\u001b[0m \u001b[0ma\u001b[0m \u001b[1;33m:\u001b[0m  \u001b[1;31m#Baseexception does not come under Exception so except did not catched Baseexception\u001b[0m\u001b[1;33m\u001b[0m\u001b[1;33m\u001b[0m\u001b[0m\n\u001b[0;32m      4\u001b[0m     \u001b[0mprint\u001b[0m\u001b[1;33m(\u001b[0m\u001b[0ma\u001b[0m\u001b[1;33m)\u001b[0m\u001b[1;33m\u001b[0m\u001b[1;33m\u001b[0m\u001b[0m\n\u001b[0;32m      5\u001b[0m \u001b[1;32melse\u001b[0m\u001b[1;33m:\u001b[0m\u001b[1;33m\u001b[0m\u001b[1;33m\u001b[0m\u001b[0m\n",
      "\u001b[1;31mBaseException\u001b[0m: sir please don't do that"
     ]
    }
   ],
   "source": [
    "try:\n",
    "    raise BaseException(\"sir please don't do that\") #once exception executed program does not move further\n",
    "except Exception as a :  #Baseexception does not come under Exception so except did not catched Baseexception\n",
    "    print(a)\n",
    "else:\n",
    "    print('except did not executed')  #this is also not executed"
   ]
  },
  {
   "cell_type": "code",
   "execution_count": 240,
   "metadata": {},
   "outputs": [
    {
     "name": "stdout",
     "output_type": "stream",
     "text": [
      "sir please don't do that\n"
     ]
    }
   ],
   "source": [
    "try:\n",
    "    raise BaseException(\"sir please don't do that\") #once exception executed program does not move further untill we handle it\n",
    "except BaseException as a : #except now handle same exception which is raised in try  block\n",
    "    print(a)\n",
    "else:\n",
    "    print('except did not executed')"
   ]
  },
  {
   "cell_type": "code",
   "execution_count": 241,
   "metadata": {},
   "outputs": [
    {
     "ename": "Exception",
     "evalue": "",
     "output_type": "error",
     "traceback": [
      "\u001b[1;31m---------------------------------------------------------------------------\u001b[0m",
      "\u001b[1;31mException\u001b[0m                                 Traceback (most recent call last)",
      "\u001b[1;32m<ipython-input-241-decc548fec3d>\u001b[0m in \u001b[0;36m<module>\u001b[1;34m\u001b[0m\n\u001b[1;32m----> 1\u001b[1;33m \u001b[1;32mraise\u001b[0m \u001b[0mw\u001b[0m  \u001b[1;31m# w is not defined\u001b[0m\u001b[1;33m\u001b[0m\u001b[1;33m\u001b[0m\u001b[0m\n\u001b[0m",
      "\u001b[1;31mException\u001b[0m: "
     ]
    }
   ],
   "source": [
    "raise w  # w is not defined "
   ]
  },
  {
   "cell_type": "code",
   "execution_count": 242,
   "metadata": {},
   "outputs": [
    {
     "ename": "TypeError",
     "evalue": "exceptions must derive from BaseException",
     "output_type": "error",
     "traceback": [
      "\u001b[1;31m---------------------------------------------------------------------------\u001b[0m",
      "\u001b[1;31mTypeError\u001b[0m                                 Traceback (most recent call last)",
      "\u001b[1;32m<ipython-input-242-710e1649d5f3>\u001b[0m in \u001b[0;36m<module>\u001b[1;34m\u001b[0m\n\u001b[0;32m      1\u001b[0m \u001b[0mw\u001b[0m\u001b[1;33m=\u001b[0m\u001b[1;36m45\u001b[0m\u001b[1;33m\u001b[0m\u001b[1;33m\u001b[0m\u001b[0m\n\u001b[1;32m----> 2\u001b[1;33m \u001b[1;32mraise\u001b[0m \u001b[0mw\u001b[0m  \u001b[1;31m#now w is defined but it showed use that w must be exception taken from  BaseException types\u001b[0m\u001b[1;33m\u001b[0m\u001b[1;33m\u001b[0m\u001b[0m\n\u001b[0m",
      "\u001b[1;31mTypeError\u001b[0m: exceptions must derive from BaseException"
     ]
    }
   ],
   "source": [
    "w=45\n",
    "raise w  #now w is defined but it showed use that w must be exception taken from  BaseException types"
   ]
  },
  {
   "cell_type": "code",
   "execution_count": 243,
   "metadata": {},
   "outputs": [
    {
     "ename": "ZeroDivisionError",
     "evalue": "",
     "output_type": "error",
     "traceback": [
      "\u001b[1;31m---------------------------------------------------------------------------\u001b[0m",
      "\u001b[1;31mZeroDivisionError\u001b[0m                         Traceback (most recent call last)",
      "\u001b[1;32m<ipython-input-243-a4a44a25ecff>\u001b[0m in \u001b[0;36m<module>\u001b[1;34m\u001b[0m\n\u001b[0;32m      1\u001b[0m \u001b[0mw\u001b[0m\u001b[1;33m=\u001b[0m\u001b[0mZeroDivisionError\u001b[0m\u001b[1;33m\u001b[0m\u001b[1;33m\u001b[0m\u001b[0m\n\u001b[0;32m      2\u001b[0m \u001b[1;33m\u001b[0m\u001b[0m\n\u001b[1;32m----> 3\u001b[1;33m \u001b[1;32mraise\u001b[0m \u001b[0mw\u001b[0m \u001b[1;31m#it did rasied ZeroDisionError because ZeroDivisonError comes under  BaseException types\u001b[0m\u001b[1;33m\u001b[0m\u001b[1;33m\u001b[0m\u001b[0m\n\u001b[0m",
      "\u001b[1;31mZeroDivisionError\u001b[0m: "
     ]
    }
   ],
   "source": [
    "w=ZeroDivisionError\n",
    "\n",
    "raise w #it did rasied ZeroDisionError because ZeroDivisonError comes under  BaseException types"
   ]
  },
  {
   "cell_type": "code",
   "execution_count": 244,
   "metadata": {},
   "outputs": [
    {
     "ename": "Exception",
     "evalue": "",
     "output_type": "error",
     "traceback": [
      "\u001b[1;31m---------------------------------------------------------------------------\u001b[0m",
      "\u001b[1;31mException\u001b[0m                                 Traceback (most recent call last)",
      "\u001b[1;32m<ipython-input-244-4ba3453f797a>\u001b[0m in \u001b[0;36m<module>\u001b[1;34m\u001b[0m\n\u001b[0;32m      1\u001b[0m \u001b[0mw\u001b[0m\u001b[1;33m=\u001b[0m\u001b[0mException\u001b[0m\u001b[1;33m\u001b[0m\u001b[1;33m\u001b[0m\u001b[0m\n\u001b[0;32m      2\u001b[0m \u001b[1;33m\u001b[0m\u001b[0m\n\u001b[1;32m----> 3\u001b[1;33m \u001b[1;32mraise\u001b[0m \u001b[0mw\u001b[0m   \u001b[1;31m#raised Exception which is also type of BaseException\u001b[0m\u001b[1;33m\u001b[0m\u001b[1;33m\u001b[0m\u001b[0m\n\u001b[0m",
      "\u001b[1;31mException\u001b[0m: "
     ]
    }
   ],
   "source": [
    "w=Exception\n",
    "\n",
    "raise w   #raised Exception which is also type of BaseException"
   ]
  },
  {
   "cell_type": "code",
   "execution_count": 245,
   "metadata": {},
   "outputs": [
    {
     "ename": "Exception",
     "evalue": "This is raised my me ",
     "output_type": "error",
     "traceback": [
      "\u001b[1;31m---------------------------------------------------------------------------\u001b[0m",
      "\u001b[1;31mException\u001b[0m                                 Traceback (most recent call last)",
      "\u001b[1;32m<ipython-input-245-cfb970d50c8f>\u001b[0m in \u001b[0;36m<module>\u001b[1;34m\u001b[0m\n\u001b[0;32m      1\u001b[0m \u001b[1;31m#we can print your desired  output message  along with exception we raise\u001b[0m\u001b[1;33m\u001b[0m\u001b[1;33m\u001b[0m\u001b[1;33m\u001b[0m\u001b[0m\n\u001b[0;32m      2\u001b[0m \u001b[0mw\u001b[0m\u001b[1;33m=\u001b[0m\u001b[0mException\u001b[0m\u001b[1;33m\u001b[0m\u001b[1;33m\u001b[0m\u001b[0m\n\u001b[1;32m----> 3\u001b[1;33m \u001b[1;32mraise\u001b[0m \u001b[0mw\u001b[0m\u001b[1;33m(\u001b[0m\u001b[1;34m'This is raised my me '\u001b[0m\u001b[1;33m)\u001b[0m\u001b[1;33m\u001b[0m\u001b[1;33m\u001b[0m\u001b[0m\n\u001b[0m",
      "\u001b[1;31mException\u001b[0m: This is raised my me "
     ]
    }
   ],
   "source": [
    "#we can print your desired  output message  along with exception we raise\n",
    "w=Exception\n",
    "raise w('This is raised my me ')"
   ]
  },
  {
   "cell_type": "code",
   "execution_count": 246,
   "metadata": {},
   "outputs": [
    {
     "ename": "ZeroDivisionError",
     "evalue": "('\\nnot allowed---- any number/0 ---not allowed ', 4)",
     "output_type": "error",
     "traceback": [
      "\u001b[1;31m---------------------------------------------------------------------------\u001b[0m",
      "\u001b[1;31mZeroDivisionError\u001b[0m                         Traceback (most recent call last)",
      "\u001b[1;32m<ipython-input-246-fd2324911dea>\u001b[0m in \u001b[0;36m<module>\u001b[1;34m\u001b[0m\n\u001b[1;32m----> 1\u001b[1;33m \u001b[1;32mraise\u001b[0m \u001b[0mZeroDivisionError\u001b[0m\u001b[1;33m(\u001b[0m\u001b[1;34m'\\nnot allowed---- any number/0 ---not allowed '\u001b[0m\u001b[1;33m,\u001b[0m\u001b[1;36m2\u001b[0m\u001b[1;33m+\u001b[0m\u001b[1;36m2\u001b[0m\u001b[1;33m)\u001b[0m\u001b[1;33m\u001b[0m\u001b[1;33m\u001b[0m\u001b[0m\n\u001b[0m",
      "\u001b[1;31mZeroDivisionError\u001b[0m: ('\\nnot allowed---- any number/0 ---not allowed ', 4)"
     ]
    }
   ],
   "source": [
    "raise ZeroDivisionError('\\nnot allowed---- any number/0 ---not allowed ',2+2)"
   ]
  },
  {
   "cell_type": "code",
   "execution_count": 247,
   "metadata": {},
   "outputs": [
    {
     "name": "stdout",
     "output_type": "stream",
     "text": [
      "division by zero <class 'ZeroDivisionError'>\n"
     ]
    }
   ],
   "source": [
    "try:\n",
    "    x=0\n",
    "    y=7\n",
    "    print(y/x)\n",
    "except ZeroDivisionError as e: \n",
    "    print(e,ZeroDivisionError)#if we try to print ZeroDivisionError it will only print message associated with zeroDivisonError\n",
    "                #ZeroDivisionError itself is a class"
   ]
  },
  {
   "cell_type": "code",
   "execution_count": 248,
   "metadata": {},
   "outputs": [
    {
     "ename": "ZeroDivisionError",
     "evalue": "division by zero",
     "output_type": "error",
     "traceback": [
      "\u001b[1;31m---------------------------------------------------------------------------\u001b[0m",
      "\u001b[1;31mZeroDivisionError\u001b[0m                         Traceback (most recent call last)",
      "\u001b[1;32m<ipython-input-248-85bf5ccf8d9f>\u001b[0m in \u001b[0;36m<module>\u001b[1;34m\u001b[0m\n\u001b[0;32m      3\u001b[0m \u001b[0mx\u001b[0m\u001b[1;33m=\u001b[0m\u001b[1;36m0\u001b[0m\u001b[1;33m\u001b[0m\u001b[1;33m\u001b[0m\u001b[0m\n\u001b[0;32m      4\u001b[0m \u001b[0my\u001b[0m\u001b[1;33m=\u001b[0m\u001b[1;36m7\u001b[0m\u001b[1;33m\u001b[0m\u001b[1;33m\u001b[0m\u001b[0m\n\u001b[1;32m----> 5\u001b[1;33m \u001b[0mprint\u001b[0m\u001b[1;33m(\u001b[0m\u001b[0my\u001b[0m\u001b[1;33m/\u001b[0m\u001b[0mx\u001b[0m\u001b[1;33m)\u001b[0m\u001b[1;33m\u001b[0m\u001b[1;33m\u001b[0m\u001b[0m\n\u001b[0m",
      "\u001b[1;31mZeroDivisionError\u001b[0m: division by zero"
     ]
    }
   ],
   "source": [
    "# here u can see message of ZeroDivisonError is  aftere -->:  \n",
    "#and above only message was prented when except catched exception\n",
    "x=0\n",
    "y=7\n",
    "print(y/x)   "
   ]
  },
  {
   "cell_type": "code",
   "execution_count": 250,
   "metadata": {},
   "outputs": [
    {
     "ename": "TypeError",
     "evalue": "exceptions must derive from BaseException",
     "output_type": "error",
     "traceback": [
      "\u001b[1;31m---------------------------------------------------------------------------\u001b[0m",
      "\u001b[1;31mTypeError\u001b[0m                                 Traceback (most recent call last)",
      "\u001b[1;32m<ipython-input-250-fbf041a2f7ac>\u001b[0m in \u001b[0;36m<module>\u001b[1;34m\u001b[0m\n\u001b[0;32m      1\u001b[0m \u001b[0mTrumpError\u001b[0m\u001b[1;33m=\u001b[0m\u001b[1;34m'speaker'\u001b[0m\u001b[1;33m\u001b[0m\u001b[1;33m\u001b[0m\u001b[0m\n\u001b[1;32m----> 2\u001b[1;33m \u001b[1;32mraise\u001b[0m \u001b[0mTrumpError\u001b[0m             \u001b[1;31m#write now we don't have TrumpError in BaseException Types\u001b[0m\u001b[1;33m\u001b[0m\u001b[1;33m\u001b[0m\u001b[0m\n\u001b[0m",
      "\u001b[1;31mTypeError\u001b[0m: exceptions must derive from BaseException"
     ]
    }
   ],
   "source": [
    "TrumpError='speaker'\n",
    "raise TrumpError             #write now we don't have TrumpError in BaseException Types"
   ]
  },
  {
   "cell_type": "markdown",
   "metadata": {},
   "source": [
    "-----------------------------------------------\n",
    "#### link to visite\n",
    "\n",
    "https://www.youtube.com/watch?v=2tWDA7SclXk\n",
    "-----------------------------------------------\n",
    "\n",
    "----------------------------------------------\n"
   ]
  },
  {
   "cell_type": "code",
   "execution_count": 252,
   "metadata": {},
   "outputs": [],
   "source": [
    "class TrumpError(Exception):\n",
    "    message = str()\n",
    "            \n",
    "#this is how u can creat ur own exception type\n",
    "#inheratance"
   ]
  },
  {
   "cell_type": "code",
   "execution_count": 253,
   "metadata": {},
   "outputs": [
    {
     "ename": "TrumpError",
     "evalue": "hhh",
     "output_type": "error",
     "traceback": [
      "\u001b[1;31m---------------------------------------------------------------------------\u001b[0m",
      "\u001b[1;31mTrumpError\u001b[0m                                Traceback (most recent call last)",
      "\u001b[1;32m<ipython-input-253-8c8fbd058b5d>\u001b[0m in \u001b[0;36m<module>\u001b[1;34m\u001b[0m\n\u001b[1;32m----> 1\u001b[1;33m \u001b[1;32mraise\u001b[0m \u001b[0mTrumpError\u001b[0m\u001b[1;33m(\u001b[0m\u001b[1;34m'hhh'\u001b[0m\u001b[1;33m)\u001b[0m\u001b[1;33m\u001b[0m\u001b[1;33m\u001b[0m\u001b[0m\n\u001b[0m",
      "\u001b[1;31mTrumpError\u001b[0m: hhh"
     ]
    }
   ],
   "source": [
    "raise TrumpError('hhh')"
   ]
  },
  {
   "cell_type": "code",
   "execution_count": 254,
   "metadata": {},
   "outputs": [
    {
     "ename": "ZeroDivisionError",
     "evalue": "hhh",
     "output_type": "error",
     "traceback": [
      "\u001b[1;31m---------------------------------------------------------------------------\u001b[0m",
      "\u001b[1;31mZeroDivisionError\u001b[0m                         Traceback (most recent call last)",
      "\u001b[1;32m<ipython-input-254-39cf0ee23353>\u001b[0m in \u001b[0;36m<module>\u001b[1;34m\u001b[0m\n\u001b[0;32m      1\u001b[0m \u001b[1;31m#comparing our with build in\u001b[0m\u001b[1;33m\u001b[0m\u001b[1;33m\u001b[0m\u001b[1;33m\u001b[0m\u001b[0m\n\u001b[1;32m----> 2\u001b[1;33m \u001b[1;32mraise\u001b[0m \u001b[0mZeroDivisionError\u001b[0m\u001b[1;33m(\u001b[0m\u001b[1;34m'hhh'\u001b[0m\u001b[1;33m)\u001b[0m\u001b[1;33m\u001b[0m\u001b[1;33m\u001b[0m\u001b[0m\n\u001b[0m",
      "\u001b[1;31mZeroDivisionError\u001b[0m: hhh"
     ]
    }
   ],
   "source": [
    "#comparing our with build in \n",
    "raise ZeroDivisionError('hhh')"
   ]
  },
  {
   "cell_type": "code",
   "execution_count": 255,
   "metadata": {},
   "outputs": [],
   "source": [
    "Exception??"
   ]
  },
  {
   "cell_type": "code",
   "execution_count": 256,
   "metadata": {},
   "outputs": [
    {
     "name": "stdout",
     "output_type": "stream",
     "text": [
      "hh\n"
     ]
    }
   ],
   "source": [
    "#here we want to raise our excpetion\n",
    "#and also build our message \n",
    "try:\n",
    "    speaker ='Trump'\n",
    "    if speaker == 'Trump':\n",
    "        raise TrumpError('hh')\n",
    "except TrumpError as e:\n",
    "    print(e)"
   ]
  },
  {
   "cell_type": "code",
   "execution_count": 258,
   "metadata": {},
   "outputs": [
    {
     "name": "stdout",
     "output_type": "stream",
     "text": [
      "division by zero\n"
     ]
    }
   ],
   "source": [
    "#here python automatical raise exception because it is build in\n",
    "#here we have build-in message that 'division by zero'\n",
    "try:\n",
    "    x=0\n",
    "    7/x\n",
    "except ZeroDivisionError as e :\n",
    "    print(e)"
   ]
  },
  {
   "cell_type": "code",
   "execution_count": 274,
   "metadata": {},
   "outputs": [],
   "source": [
    "class TrumpError(Exception):  #this class also ask for attribute when insitating \n",
    "    def __init__(self,message):\n",
    "        self.message = message\n",
    "        self.my='what'\n",
    "        \n",
    "        "
   ]
  },
  {
   "cell_type": "code",
   "execution_count": 275,
   "metadata": {},
   "outputs": [
    {
     "ename": "TrumpError",
     "evalue": "Trump speak",
     "output_type": "error",
     "traceback": [
      "\u001b[1;31m---------------------------------------------------------------------------\u001b[0m",
      "\u001b[1;31mTrumpError\u001b[0m                                Traceback (most recent call last)",
      "\u001b[1;32m<ipython-input-275-5c548ff803f5>\u001b[0m in \u001b[0;36m<module>\u001b[1;34m\u001b[0m\n\u001b[1;32m----> 1\u001b[1;33m \u001b[1;32mraise\u001b[0m \u001b[0mTrumpError\u001b[0m\u001b[1;33m(\u001b[0m\u001b[1;34m'Trump speak'\u001b[0m\u001b[1;33m)\u001b[0m\u001b[1;33m\u001b[0m\u001b[1;33m\u001b[0m\u001b[0m\n\u001b[0m",
      "\u001b[1;31mTrumpError\u001b[0m: Trump speak"
     ]
    }
   ],
   "source": [
    "raise TrumpError('Trump speak')\n"
   ]
  },
  {
   "cell_type": "code",
   "execution_count": 276,
   "metadata": {},
   "outputs": [
    {
     "ename": "TypeError",
     "evalue": "__init__() missing 1 required positional argument: 'message'",
     "output_type": "error",
     "traceback": [
      "\u001b[1;31m---------------------------------------------------------------------------\u001b[0m",
      "\u001b[1;31mTypeError\u001b[0m                                 Traceback (most recent call last)",
      "\u001b[1;32m<ipython-input-276-aa9598a4961b>\u001b[0m in \u001b[0;36m<module>\u001b[1;34m\u001b[0m\n\u001b[1;32m----> 1\u001b[1;33m \u001b[1;32mraise\u001b[0m \u001b[0mTrumpError\u001b[0m\u001b[1;33m\u001b[0m\u001b[1;33m\u001b[0m\u001b[0m\n\u001b[0m",
      "\u001b[1;31mTypeError\u001b[0m: __init__() missing 1 required positional argument: 'message'"
     ]
    }
   ],
   "source": [
    "raise TrumpError"
   ]
  },
  {
   "cell_type": "code",
   "execution_count": 277,
   "metadata": {},
   "outputs": [
    {
     "ename": "ZeroDivisionError",
     "evalue": "",
     "output_type": "error",
     "traceback": [
      "\u001b[1;31m---------------------------------------------------------------------------\u001b[0m",
      "\u001b[1;31mZeroDivisionError\u001b[0m                         Traceback (most recent call last)",
      "\u001b[1;32m<ipython-input-277-c62fc6984c64>\u001b[0m in \u001b[0;36m<module>\u001b[1;34m\u001b[0m\n\u001b[1;32m----> 1\u001b[1;33m \u001b[1;32mraise\u001b[0m \u001b[0mZeroDivisionError\u001b[0m\u001b[1;33m\u001b[0m\u001b[1;33m\u001b[0m\u001b[0m\n\u001b[0m",
      "\u001b[1;31mZeroDivisionError\u001b[0m: "
     ]
    }
   ],
   "source": [
    "raise ZeroDivisionError"
   ]
  },
  {
   "cell_type": "code",
   "execution_count": 278,
   "metadata": {
    "scrolled": true
   },
   "outputs": [
    {
     "name": "stdout",
     "output_type": "stream",
     "text": [
      "Trump Speak\n"
     ]
    },
    {
     "ename": "TrumpError",
     "evalue": "Trump Speak",
     "output_type": "error",
     "traceback": [
      "\u001b[1;31m---------------------------------------------------------------------------\u001b[0m",
      "\u001b[1;31mTrumpError\u001b[0m                                Traceback (most recent call last)",
      "\u001b[1;32m<ipython-input-278-1bc1ff9237dd>\u001b[0m in \u001b[0;36m<module>\u001b[1;34m\u001b[0m\n\u001b[0;32m      1\u001b[0m \u001b[1;32mtry\u001b[0m\u001b[1;33m:\u001b[0m\u001b[1;33m\u001b[0m\u001b[1;33m\u001b[0m\u001b[0m\n\u001b[0;32m      2\u001b[0m     \u001b[1;32mif\u001b[0m \u001b[0mspeaker\u001b[0m \u001b[1;33m==\u001b[0m\u001b[1;34m'Trump'\u001b[0m\u001b[1;33m:\u001b[0m\u001b[1;33m\u001b[0m\u001b[1;33m\u001b[0m\u001b[0m\n\u001b[1;32m----> 3\u001b[1;33m         \u001b[1;32mraise\u001b[0m \u001b[0mTrumpError\u001b[0m\u001b[1;33m(\u001b[0m\u001b[1;34m'Trump Speak'\u001b[0m\u001b[1;33m)\u001b[0m\u001b[1;33m\u001b[0m\u001b[1;33m\u001b[0m\u001b[0m\n\u001b[0m\u001b[0;32m      4\u001b[0m \u001b[1;32mexcept\u001b[0m \u001b[0mException\u001b[0m \u001b[1;32mas\u001b[0m \u001b[0me\u001b[0m\u001b[1;33m:\u001b[0m\u001b[1;33m\u001b[0m\u001b[1;33m\u001b[0m\u001b[0m\n\u001b[0;32m      5\u001b[0m     \u001b[0mprint\u001b[0m\u001b[1;33m(\u001b[0m\u001b[0me\u001b[0m\u001b[1;33m)\u001b[0m\u001b[1;33m\u001b[0m\u001b[1;33m\u001b[0m\u001b[0m\n",
      "\u001b[1;31mTrumpError\u001b[0m: Trump Speak"
     ]
    }
   ],
   "source": [
    "try:\n",
    "    if speaker =='Trump':\n",
    "        raise TrumpError('Trump Speak')\n",
    "except Exception as e:\n",
    "    print(e)\n",
    "    raise    #just using raise with re-raise previous exception\n",
    "    "
   ]
  },
  {
   "cell_type": "code",
   "execution_count": 293,
   "metadata": {},
   "outputs": [
    {
     "name": "stdout",
     "output_type": "stream",
     "text": [
      "Trump Speak\n",
      "what\n",
      "Trump Speak\n",
      "-----------------------\n",
      "<class 'str'>\n",
      "<class 'str'>\n",
      "<class '__main__.TrumpError'>\n"
     ]
    }
   ],
   "source": [
    "try:\n",
    "    if speaker =='Trump':\n",
    "        raise TrumpError('Trump Speak')  #here argment was given \n",
    "except TrumpError as e:  #here we created TrumpError instance\n",
    "    \n",
    "    print(   e.message,           e.my,              e,               sep='\\n',end='\\n-----------------------\\n')    \n",
    "    \n",
    "    #we can also simple use e or e.message\n",
    "    \n",
    "    print(  type(e.message),    type(e.my),       type(e),              sep='\\n')"
   ]
  },
  {
   "cell_type": "code",
   "execution_count": 294,
   "metadata": {},
   "outputs": [
    {
     "ename": "TrumpError",
     "evalue": "Trump as speaker not allowed ",
     "output_type": "error",
     "traceback": [
      "\u001b[1;31m---------------------------------------------------------------------------\u001b[0m",
      "\u001b[1;31mTrumpError\u001b[0m                                Traceback (most recent call last)",
      "\u001b[1;32m<ipython-input-294-552e11626070>\u001b[0m in \u001b[0;36m<module>\u001b[1;34m\u001b[0m\n\u001b[1;32m----> 1\u001b[1;33m \u001b[1;32mraise\u001b[0m \u001b[0mTrumpError\u001b[0m\u001b[1;33m(\u001b[0m\u001b[1;34m'Trump as speaker not allowed '\u001b[0m\u001b[1;33m)\u001b[0m\u001b[1;33m\u001b[0m\u001b[1;33m\u001b[0m\u001b[0m\n\u001b[0m\u001b[0;32m      2\u001b[0m \u001b[1;33m\u001b[0m\u001b[0m\n",
      "\u001b[1;31mTrumpError\u001b[0m: Trump as speaker not allowed "
     ]
    }
   ],
   "source": [
    "raise TrumpError('Trump as speaker not allowed ')  \n",
    "\n"
   ]
  },
  {
   "cell_type": "code",
   "execution_count": 298,
   "metadata": {},
   "outputs": [
    {
     "ename": "TrumpError",
     "evalue": "",
     "output_type": "error",
     "traceback": [
      "\u001b[1;31m---------------------------------------------------------------------------\u001b[0m",
      "\u001b[1;31mBaseException\u001b[0m                             Traceback (most recent call last)",
      "\u001b[1;31mBaseException\u001b[0m: ",
      "\nThe above exception was the direct cause of the following exception:\n",
      "\u001b[1;31mTrumpError\u001b[0m                                Traceback (most recent call last)",
      "\u001b[1;32m<ipython-input-298-a66893d91889>\u001b[0m in \u001b[0;36m<module>\u001b[1;34m\u001b[0m\n\u001b[0;32m      1\u001b[0m \u001b[1;31m#we can also raise exception like this\u001b[0m\u001b[1;33m\u001b[0m\u001b[1;33m\u001b[0m\u001b[1;33m\u001b[0m\u001b[0m\n\u001b[1;32m----> 2\u001b[1;33m \u001b[1;32mraise\u001b[0m \u001b[0mTrumpError\u001b[0m\u001b[1;33m(\u001b[0m\u001b[1;34m''\u001b[0m\u001b[1;33m)\u001b[0m \u001b[1;32mfrom\u001b[0m \u001b[0mBaseException\u001b[0m\u001b[1;33m\u001b[0m\u001b[1;33m\u001b[0m\u001b[0m\n\u001b[0m",
      "\u001b[1;31mTrumpError\u001b[0m: "
     ]
    }
   ],
   "source": [
    "#we can also raise exception like this\n",
    "raise TrumpError('') from BaseException"
   ]
  },
  {
   "cell_type": "raw",
   "metadata": {},
   "source": [
    "__name__ is a built-in variable \n",
    "which evaluates to the name of the current module. \n",
    "Thus it can be used to check whether the current script is being run on its own or being imported somewhere else by combining\n",
    "it with if statement, as shown below."
   ]
  },
  {
   "cell_type": "code",
   "execution_count": 563,
   "metadata": {},
   "outputs": [
    {
     "name": "stdout",
     "output_type": "stream",
     "text": [
      "<method-wrapper '__str__' of ValueError object at 0x000001DB18313EB8>\n"
     ]
    }
   ],
   "source": [
    "#  e.__str__  it contain brief  message describing the reason\n",
    "try:\n",
    "    i=int('hello')\n",
    "except Exception as e:\n",
    "    print(e.__str__)"
   ]
  },
  {
   "cell_type": "code",
   "execution_count": 299,
   "metadata": {},
   "outputs": [
    {
     "data": {
      "text/plain": [
       "'__main__'"
      ]
     },
     "execution_count": 299,
     "metadata": {},
     "output_type": "execute_result"
    }
   ],
   "source": [
    "__name__"
   ]
  },
  {
   "cell_type": "markdown",
   "metadata": {},
   "source": [
    "### Class inherantance and super function pratice "
   ]
  },
  {
   "cell_type": "code",
   "execution_count": 13,
   "metadata": {},
   "outputs": [],
   "source": [
    "class Stack():\n",
    "    def __init__(self):\n",
    "        self.__stack = []\n",
    "        print('hi')\n",
    "    def push(self, x):\n",
    "        self.__stack.append(x)\n",
    "    def pop(self):\n",
    "        x = self.__stack[-1]\n",
    "        del self.__stack[-1]\n",
    "        return x\n",
    "        "
   ]
  },
  {
   "cell_type": "code",
   "execution_count": 14,
   "metadata": {},
   "outputs": [
    {
     "name": "stdout",
     "output_type": "stream",
     "text": [
      "hi\n"
     ]
    }
   ],
   "source": [
    "stack = Stack()"
   ]
  },
  {
   "cell_type": "code",
   "execution_count": 15,
   "metadata": {},
   "outputs": [],
   "source": [
    "stack.push(1)\n",
    "stack.push(2)\n",
    "stack.push(4)\n",
    "stack.push(10)\n",
    "stack.push(12)"
   ]
  },
  {
   "cell_type": "code",
   "execution_count": 16,
   "metadata": {},
   "outputs": [
    {
     "data": {
      "text/plain": [
       "12"
      ]
     },
     "execution_count": 16,
     "metadata": {},
     "output_type": "execute_result"
    }
   ],
   "source": [
    "stack.pop()"
   ]
  },
  {
   "cell_type": "code",
   "execution_count": 17,
   "metadata": {},
   "outputs": [
    {
     "data": {
      "text/plain": [
       "10"
      ]
     },
     "execution_count": 17,
     "metadata": {},
     "output_type": "execute_result"
    }
   ],
   "source": [
    "stack.pop()"
   ]
  },
  {
   "cell_type": "code",
   "execution_count": 18,
   "metadata": {},
   "outputs": [
    {
     "data": {
      "text/plain": [
       "4"
      ]
     },
     "execution_count": 18,
     "metadata": {},
     "output_type": "execute_result"
    }
   ],
   "source": [
    "stack.pop()"
   ]
  },
  {
   "cell_type": "markdown",
   "metadata": {},
   "source": [
    "#### inherantance"
   ]
  },
  {
   "cell_type": "code",
   "execution_count": 38,
   "metadata": {},
   "outputs": [],
   "source": [
    "class AddingStack(Stack):\n",
    "    def __init__(self):\n",
    "        Stack.__init__(self)\n",
    "        self.__sum = 0\n",
    "    def push(self, val):\n",
    "        Stack.push(self, val)\n",
    "        self.__sum += val\n",
    "    def pop(self):\n",
    "        val= Stack.pop(self)\n",
    "        self.__sum -= val\n",
    "        return val\n",
    "    def getsum(self):\n",
    "        return self.__sum"
   ]
  },
  {
   "cell_type": "code",
   "execution_count": 39,
   "metadata": {},
   "outputs": [
    {
     "name": "stdout",
     "output_type": "stream",
     "text": [
      "hi\n"
     ]
    }
   ],
   "source": [
    "stack = AddingStack()"
   ]
  },
  {
   "cell_type": "code",
   "execution_count": 40,
   "metadata": {},
   "outputs": [],
   "source": [
    "for i in range(1,11,3):\n",
    "    stack.push(i)"
   ]
  },
  {
   "cell_type": "code",
   "execution_count": 41,
   "metadata": {},
   "outputs": [
    {
     "data": {
      "text/plain": [
       "22"
      ]
     },
     "execution_count": 41,
     "metadata": {},
     "output_type": "execute_result"
    }
   ],
   "source": [
    "stack.getsum()"
   ]
  },
  {
   "cell_type": "code",
   "execution_count": 42,
   "metadata": {},
   "outputs": [
    {
     "data": {
      "text/plain": [
       "10"
      ]
     },
     "execution_count": 42,
     "metadata": {},
     "output_type": "execute_result"
    }
   ],
   "source": [
    "stack.pop()"
   ]
  },
  {
   "cell_type": "code",
   "execution_count": 43,
   "metadata": {},
   "outputs": [
    {
     "data": {
      "text/plain": [
       "<bound method AddingStack.getsum of <__main__.AddingStack object at 0x000001DB1790C240>>"
      ]
     },
     "execution_count": 43,
     "metadata": {},
     "output_type": "execute_result"
    }
   ],
   "source": [
    "stack.getsum"
   ]
  },
  {
   "cell_type": "code",
   "execution_count": 44,
   "metadata": {},
   "outputs": [
    {
     "data": {
      "text/plain": [
       "12"
      ]
     },
     "execution_count": 44,
     "metadata": {},
     "output_type": "execute_result"
    }
   ],
   "source": [
    "stack.getsum()"
   ]
  },
  {
   "cell_type": "code",
   "execution_count": 45,
   "metadata": {},
   "outputs": [
    {
     "data": {
      "text/plain": [
       "7"
      ]
     },
     "execution_count": 45,
     "metadata": {},
     "output_type": "execute_result"
    }
   ],
   "source": [
    "stack.pop()"
   ]
  },
  {
   "cell_type": "code",
   "execution_count": 46,
   "metadata": {},
   "outputs": [
    {
     "data": {
      "text/plain": [
       "5"
      ]
     },
     "execution_count": 46,
     "metadata": {},
     "output_type": "execute_result"
    }
   ],
   "source": [
    "stack.getsum()"
   ]
  },
  {
   "cell_type": "code",
   "execution_count": 47,
   "metadata": {},
   "outputs": [
    {
     "data": {
      "text/plain": [
       "4"
      ]
     },
     "execution_count": 47,
     "metadata": {},
     "output_type": "execute_result"
    }
   ],
   "source": [
    "stack.pop()"
   ]
  },
  {
   "cell_type": "code",
   "execution_count": 48,
   "metadata": {},
   "outputs": [
    {
     "data": {
      "text/plain": [
       "1"
      ]
     },
     "execution_count": 48,
     "metadata": {},
     "output_type": "execute_result"
    }
   ],
   "source": [
    "stack.pop()"
   ]
  },
  {
   "cell_type": "code",
   "execution_count": 49,
   "metadata": {},
   "outputs": [
    {
     "data": {
      "text/plain": [
       "0"
      ]
     },
     "execution_count": 49,
     "metadata": {},
     "output_type": "execute_result"
    }
   ],
   "source": [
    "stack.getsum()"
   ]
  },
  {
   "cell_type": "code",
   "execution_count": 50,
   "metadata": {},
   "outputs": [
    {
     "data": {
      "text/plain": [
       "{'_Stack__stack': [], '_AddingStack__sum': 0}"
      ]
     },
     "execution_count": 50,
     "metadata": {},
     "output_type": "execute_result"
    }
   ],
   "source": [
    "stack.__dict__"
   ]
  },
  {
   "cell_type": "code",
   "execution_count": 53,
   "metadata": {},
   "outputs": [],
   "source": [
    "class C:\n",
    "    def __init__(self,val=1):\n",
    "        self.First = val\n",
    "    def setSecond(self,val):\n",
    "        self.Second = val"
   ]
  },
  {
   "cell_type": "code",
   "execution_count": 55,
   "metadata": {},
   "outputs": [],
   "source": [
    "object1=C()\n",
    "object2=C(2)"
   ]
  },
  {
   "cell_type": "code",
   "execution_count": 56,
   "metadata": {},
   "outputs": [],
   "source": [
    "object2.setSecond(3)"
   ]
  },
  {
   "cell_type": "code",
   "execution_count": 59,
   "metadata": {},
   "outputs": [],
   "source": [
    "object3=C(4)"
   ]
  },
  {
   "cell_type": "code",
   "execution_count": 60,
   "metadata": {},
   "outputs": [],
   "source": [
    "object3.Third = 5"
   ]
  },
  {
   "cell_type": "code",
   "execution_count": 61,
   "metadata": {},
   "outputs": [
    {
     "name": "stdout",
     "output_type": "stream",
     "text": [
      "{'First': 1}\n"
     ]
    }
   ],
   "source": [
    "print(object1.__dict__)"
   ]
  },
  {
   "cell_type": "code",
   "execution_count": 62,
   "metadata": {},
   "outputs": [
    {
     "name": "stdout",
     "output_type": "stream",
     "text": [
      "{'First': 2, 'Second': 3}\n"
     ]
    }
   ],
   "source": [
    "print(object2.__dict__)"
   ]
  },
  {
   "cell_type": "code",
   "execution_count": 63,
   "metadata": {},
   "outputs": [
    {
     "name": "stdout",
     "output_type": "stream",
     "text": [
      "{'First': 4, 'Third': 5}\n"
     ]
    }
   ],
   "source": [
    "print(object3.__dict__)"
   ]
  },
  {
   "cell_type": "markdown",
   "metadata": {},
   "source": [
    "####  creating class variable\n",
    "\n",
    "class variable are created without self.<br>\n",
    "class variable can be access just by like attribute <br>\n",
    "class variable are not part of instance we create. so they don't show up  when we do <a>print(instance.__ dict __)</a><br>\n",
    "all class variable present same value to all instance we created\n",
    "using class variable inside  __ init __ (self, val) requried mentioning of classname.classvariable"
   ]
  },
  {
   "cell_type": "code",
   "execution_count": 266,
   "metadata": {},
   "outputs": [],
   "source": [
    "class D:\n",
    "    count = 0\n",
    "    def __init__(self,val):\n",
    "        self.x = val\n",
    "        D.count += 1\n",
    "        words = \"bogiwogi\"\n",
    "        "
   ]
  },
  {
   "cell_type": "code",
   "execution_count": 267,
   "metadata": {},
   "outputs": [],
   "source": [
    "object4 = D(125)"
   ]
  },
  {
   "cell_type": "code",
   "execution_count": 268,
   "metadata": {},
   "outputs": [
    {
     "data": {
      "text/plain": [
       "{'x': 125}"
      ]
     },
     "execution_count": 268,
     "metadata": {},
     "output_type": "execute_result"
    }
   ],
   "source": [
    "object4.__dict__  \n",
    "# type(object4.__dict__)"
   ]
  },
  {
   "cell_type": "code",
   "execution_count": 269,
   "metadata": {},
   "outputs": [
    {
     "data": {
      "text/plain": [
       "1"
      ]
     },
     "execution_count": 269,
     "metadata": {},
     "output_type": "execute_result"
    }
   ],
   "source": [
    "object4.count"
   ]
  },
  {
   "cell_type": "code",
   "execution_count": 270,
   "metadata": {},
   "outputs": [
    {
     "name": "stdout",
     "output_type": "stream",
     "text": [
      "{'__module__': '__main__', 'count': 1, '__init__': <function D.__init__ at 0x000001DB1758A400>, '__dict__': <attribute '__dict__' of 'D' objects>, '__weakref__': <attribute '__weakref__' of 'D' objects>, '__doc__': None}\n"
     ]
    }
   ],
   "source": [
    "print(D.__dict__)  #directly using class and seeing its dictionary\n",
    "                   #now we canse 'class varibales' and values and every thing  "
   ]
  },
  {
   "cell_type": "code",
   "execution_count": 274,
   "metadata": {},
   "outputs": [
    {
     "ename": "AttributeError",
     "evalue": "'D' object has no attribute 'words'",
     "output_type": "error",
     "traceback": [
      "\u001b[1;31m---------------------------------------------------------------------------\u001b[0m",
      "\u001b[1;31mAttributeError\u001b[0m                            Traceback (most recent call last)",
      "\u001b[1;32m<ipython-input-274-d0435d1f7b36>\u001b[0m in \u001b[0;36m<module>\u001b[1;34m\u001b[0m\n\u001b[1;32m----> 1\u001b[1;33m \u001b[0mobject4\u001b[0m\u001b[1;33m.\u001b[0m\u001b[0mwords\u001b[0m  \u001b[1;31m# u can see we can't assess words variable\u001b[0m\u001b[1;33m\u001b[0m\u001b[1;33m\u001b[0m\u001b[0m\n\u001b[0m",
      "\u001b[1;31mAttributeError\u001b[0m: 'D' object has no attribute 'words'"
     ]
    }
   ],
   "source": [
    "object4.words  # u can see we can't assess words variable"
   ]
  },
  {
   "cell_type": "code",
   "execution_count": 275,
   "metadata": {},
   "outputs": [
    {
     "name": "stdout",
     "output_type": "stream",
     "text": [
      "{}\n",
      "{'__module__': '__main__', 'classvariable': 2, '__init__': <function A.__init__ at 0x000001DB18122D90>, '__dict__': <attribute '__dict__' of 'A' objects>, '__weakref__': <attribute '__weakref__' of 'A' objects>, '__doc__': None}\n"
     ]
    }
   ],
   "source": [
    "class A():\n",
    "    classvariable =1\n",
    "    def __init__(Self,val):\n",
    "        A.classvariable = val\n",
    "obj=A(2)\n",
    "print(obj.__dict__ )   # we gave argument (2) but we assign this value to class variable\n",
    "                #obj has no attribute with self. attach so dictionary is empty\n",
    "                #because instant.__dic__ only show attributes and methods not class variable\n",
    "                # for class variable we direclty use  A.__dict__\n",
    "print(A.__dict__)"
   ]
  },
  {
   "cell_type": "code",
   "execution_count": 276,
   "metadata": {},
   "outputs": [
    {
     "name": "stdout",
     "output_type": "stream",
     "text": [
      "'B' object has no attribute 'even'\n"
     ]
    }
   ],
   "source": [
    "#checking attribut existience\n",
    "\n",
    "class B():\n",
    "    def __init__(self,val):\n",
    "        if val %2 != 0:\n",
    "            self.odd = 1\n",
    "        else:\n",
    "            self.even = 1\n",
    "obj=B(1)\n",
    "\n",
    "#now check \n",
    "try :\n",
    "    obj.even\n",
    "except AttributeError as e:\n",
    "    print(e)"
   ]
  },
  {
   "cell_type": "code",
   "execution_count": 293,
   "metadata": {},
   "outputs": [
    {
     "data": {
      "text/plain": [
       "(True, True, True, False)"
      ]
     },
     "execution_count": 293,
     "metadata": {},
     "output_type": "execute_result"
    }
   ],
   "source": [
    "#checking attribut of class \n",
    "class CC():\n",
    "    var=1\n",
    "    def __init__(self):\n",
    "        self.v=2\n",
    "hasattr(CC,'var'),hasattr(CC(),'v'),hasattr(CC(),'var'),hasattr(CC,'v')  \n",
    "\n",
    "#it can check attribut both of  class and instant\n",
    "#as instant attribute exist inside __init__ in order to check u need to trigger class -->CC()"
   ]
  },
  {
   "cell_type": "code",
   "execution_count": 277,
   "metadata": {},
   "outputs": [],
   "source": [
    "class D:\n",
    "    count = 0\n",
    "    def __init__(self,val):\n",
    "        self.x = val\n",
    "        D.count += 1\n",
    "        D.words = \"bogiwogi\""
   ]
  },
  {
   "cell_type": "code",
   "execution_count": 97,
   "metadata": {},
   "outputs": [],
   "source": [
    "object5=D(126)"
   ]
  },
  {
   "cell_type": "code",
   "execution_count": 98,
   "metadata": {},
   "outputs": [
    {
     "data": {
      "text/plain": [
       "(1, 'bogiwogi')"
      ]
     },
     "execution_count": 98,
     "metadata": {},
     "output_type": "execute_result"
    }
   ],
   "source": [
    "object5.count  , object5.words     #now we can access words as it is now class variable and inside function constructor"
   ]
  },
  {
   "cell_type": "code",
   "execution_count": 99,
   "metadata": {},
   "outputs": [
    {
     "data": {
      "text/plain": [
       "'bogiwogi'"
      ]
     },
     "execution_count": 99,
     "metadata": {},
     "output_type": "execute_result"
    }
   ],
   "source": [
    "D.words   #we can access class variable without initializing class "
   ]
  },
  {
   "cell_type": "code",
   "execution_count": 103,
   "metadata": {},
   "outputs": [
    {
     "data": {
      "text/plain": [
       "111"
      ]
     },
     "execution_count": 103,
     "metadata": {},
     "output_type": "execute_result"
    }
   ],
   "source": [
    "D(111).x  #we need to trigger class inorder to get access to variables that are inside __ init __"
   ]
  },
  {
   "cell_type": "code",
   "execution_count": 130,
   "metadata": {},
   "outputs": [],
   "source": [
    "class D:\n",
    "    count = 0\n",
    "    def __init__(self,val):\n",
    "        self.x = val\n",
    "        D.count += 1        #count is global as it start with class name #if we put D.words it will become class varibale also\n",
    "        words = \"bogiwogi\"  #here words is local variable of function  __init__\n",
    "                            #but it is not accessable to instant because we did not put self.words\n",
    "                            "
   ]
  },
  {
   "cell_type": "markdown",
   "metadata": {},
   "source": [
    "Variable set outside __ init __ belong to the class. They're shared by all instances.\n",
    "<br>\n",
    "<br>\n",
    "Variables created inside __ init __ (and all other method functions) and prefaced with self. belong to the object instance"
   ]
  },
  {
   "cell_type": "code",
   "execution_count": 131,
   "metadata": {},
   "outputs": [],
   "source": [
    "object6=D(122)"
   ]
  },
  {
   "cell_type": "code",
   "execution_count": 132,
   "metadata": {},
   "outputs": [
    {
     "data": {
      "text/plain": [
       "1"
      ]
     },
     "execution_count": 132,
     "metadata": {},
     "output_type": "execute_result"
    }
   ],
   "source": [
    "object6.count"
   ]
  },
  {
   "cell_type": "code",
   "execution_count": 133,
   "metadata": {},
   "outputs": [
    {
     "data": {
      "text/plain": [
       "1"
      ]
     },
     "execution_count": 133,
     "metadata": {},
     "output_type": "execute_result"
    }
   ],
   "source": [
    "D.count"
   ]
  },
  {
   "cell_type": "code",
   "execution_count": 134,
   "metadata": {},
   "outputs": [
    {
     "data": {
      "text/plain": [
       "(2, 2)"
      ]
     },
     "execution_count": 134,
     "metadata": {},
     "output_type": "execute_result"
    }
   ],
   "source": [
    "D(12).count ,D.count"
   ]
  },
  {
   "cell_type": "code",
   "execution_count": 135,
   "metadata": {},
   "outputs": [
    {
     "data": {
      "text/plain": [
       "2"
      ]
     },
     "execution_count": 135,
     "metadata": {},
     "output_type": "execute_result"
    }
   ],
   "source": [
    "D.count    #count is not 0 because its value has been changed "
   ]
  },
  {
   "cell_type": "markdown",
   "metadata": {},
   "source": [
    "#### access inner variable like that "
   ]
  },
  {
   "cell_type": "raw",
   "metadata": {},
   "source": [
    "using functionname.localvariable = values\n",
    "basically u created attribute"
   ]
  },
  {
   "cell_type": "raw",
   "metadata": {},
   "source": [
    "In python, functions too are objects.\n",
    "So they have attributes like other objects.\n",
    "All functions have a built-in attribute __doc__, \n",
    "which returns the doc string defined in the function source code.\n",
    "We can also assign new attributes to them, as well as retrieve the values of those attributes"
   ]
  },
  {
   "cell_type": "markdown",
   "metadata": {},
   "source": [
    "https://www.tutorialspoint.com/What-are-Python-function-attributes\n",
    "------------------------------------------------------------------------------------------------"
   ]
  },
  {
   "cell_type": "code",
   "execution_count": 155,
   "metadata": {},
   "outputs": [],
   "source": [
    "def fun():\n",
    "    fun.xox = \"boogiwogi\" "
   ]
  },
  {
   "cell_type": "code",
   "execution_count": 156,
   "metadata": {},
   "outputs": [
    {
     "ename": "AttributeError",
     "evalue": "'function' object has no attribute 'xox'",
     "output_type": "error",
     "traceback": [
      "\u001b[1;31m---------------------------------------------------------------------------\u001b[0m",
      "\u001b[1;31mAttributeError\u001b[0m                            Traceback (most recent call last)",
      "\u001b[1;32m<ipython-input-156-541492c8d02d>\u001b[0m in \u001b[0;36m<module>\u001b[1;34m\u001b[0m\n\u001b[1;32m----> 1\u001b[1;33m \u001b[0mfun\u001b[0m\u001b[1;33m.\u001b[0m\u001b[0mxox\u001b[0m  \u001b[1;31m#first execute fun() then access its attribute  #see below\u001b[0m\u001b[1;33m\u001b[0m\u001b[1;33m\u001b[0m\u001b[0m\n\u001b[0m",
      "\u001b[1;31mAttributeError\u001b[0m: 'function' object has no attribute 'xox'"
     ]
    }
   ],
   "source": [
    "fun.xox  #first execute fun() then access its attribute  #see below"
   ]
  },
  {
   "cell_type": "code",
   "execution_count": 157,
   "metadata": {},
   "outputs": [
    {
     "data": {
      "text/plain": [
       "'boogiwogi'"
      ]
     },
     "execution_count": 157,
     "metadata": {},
     "output_type": "execute_result"
    }
   ],
   "source": [
    "fun()\n",
    "fun.xox"
   ]
  },
  {
   "cell_type": "code",
   "execution_count": 172,
   "metadata": {},
   "outputs": [
    {
     "name": "stdout",
     "output_type": "stream",
     "text": [
      "42\n"
     ]
    }
   ],
   "source": [
    "def hi():\n",
    "    # other code...\n",
    "    hi.bye = 42  # Create function attribute.\n",
    "    sigh = 10\n",
    "\n",
    "hi()\n",
    "print(hi.bye)  # -> 42"
   ]
  },
  {
   "cell_type": "code",
   "execution_count": 159,
   "metadata": {},
   "outputs": [
    {
     "name": "stdout",
     "output_type": "stream",
     "text": [
      "23\n",
      "male\n",
      "John Doe\n",
      "23\n"
     ]
    }
   ],
   "source": [
    "def foo():\n",
    "    pass\n",
    "setattr(foo, 'age', 23 )\n",
    "setattr(foo, 'name', 'John Doe' )\n",
    "print(getattr(foo, 'age'))\n",
    "foo.gender ='male'\n",
    "print(foo.gender)\n",
    "print(foo.name)\n",
    "print(foo.age)"
   ]
  },
  {
   "cell_type": "code",
   "execution_count": 167,
   "metadata": {},
   "outputs": [
    {
     "data": {
      "text/plain": [
       "17"
      ]
     },
     "execution_count": 167,
     "metadata": {},
     "output_type": "execute_result"
    }
   ],
   "source": [
    "def www():\n",
    "    pass\n",
    "setattr(www,'age',17)\n",
    "www.age"
   ]
  },
  {
   "cell_type": "raw",
   "metadata": {},
   "source": [
    "Functions are objects in Python and can have arbitrary attributes assigned to them.\n",
    "\n",
    "If you're going to be doing this kind of thing often, you could implement something more generic by creating a function decorator that adds a this argument to each call to the decorated function.\n",
    "\n",
    "This additional argument will give functions a way to reference themselves without needing to explicitly embed (hardcode) it into their definition and is similar to the instance argument that class methods automatically receive as their first argument which is usually named self — I picked something different to avoid confusion, but like the self argument, it can be named whatever you wish.\n",
    "\n",
    "Here's an example of that approach:"
   ]
  },
  {
   "cell_type": "markdown",
   "metadata": {},
   "source": [
    "https://stackoverflow.com/questions/19326004/access-a-function-variable-outside-the-function-without-using-global\n",
    "---------"
   ]
  },
  {
   "cell_type": "code",
   "execution_count": 169,
   "metadata": {},
   "outputs": [
    {
     "name": "stdout",
     "output_type": "stream",
     "text": [
      "42\n"
     ]
    }
   ],
   "source": [
    "def add_this_arg(func):\n",
    "    def wrapped(*args, **kwargs):\n",
    "        return func(wrapped, *args, **kwargs)\n",
    "    return wrapped\n",
    "\n",
    "@add_this_arg\n",
    "def hi(this, that):\n",
    "    # other code...\n",
    "    this.bye = 2 * that  # Create function attribute.\n",
    "    sigh = 10\n",
    "\n",
    "hi(21)\n",
    "print(hi.bye)  # -> 42"
   ]
  },
  {
   "cell_type": "code",
   "execution_count": 238,
   "metadata": {},
   "outputs": [
    {
     "name": "stdout",
     "output_type": "stream",
     "text": [
      "100 30 0\n"
     ]
    }
   ],
   "source": [
    "#_single vs __double under score and               using self. with class variable         inside  __init__\n",
    "#single under score can me access directly\n",
    "class D:\n",
    "    _count = 0          #this class variable can be access directly _count\n",
    "    __ccount=100        #this can only me access by  using ._D__ccount\n",
    "    r=30                 #here 'r' is class variable\n",
    "    def __init__(self,val):\n",
    "        self.x = val\n",
    "        D._count += 1 \n",
    "        D.__ccount +=1\n",
    "        self.r += 2     #here we use 'self.r' so we can also use self. to 'access class varaibles'\n",
    "        self.w = int() #in order to create attribute u must first declear it\n",
    "        self.w +=3.3  #this will give error because it has not decleared before operation giving Attribute error\n",
    "        self.__ooo = 'ssssssshi'\n",
    "        self._tttt='toti'\n",
    "        words = \"bogiwogi\"\n",
    "    print(__ccount,r,_count)"
   ]
  },
  {
   "cell_type": "code",
   "execution_count": 239,
   "metadata": {},
   "outputs": [],
   "source": [
    "customer12= D(12)"
   ]
  },
  {
   "cell_type": "code",
   "execution_count": 240,
   "metadata": {},
   "outputs": [
    {
     "data": {
      "text/plain": [
       "1"
      ]
     },
     "execution_count": 240,
     "metadata": {},
     "output_type": "execute_result"
    }
   ],
   "source": [
    "customer12._count"
   ]
  },
  {
   "cell_type": "code",
   "execution_count": 241,
   "metadata": {},
   "outputs": [
    {
     "data": {
      "text/plain": [
       "101"
      ]
     },
     "execution_count": 241,
     "metadata": {},
     "output_type": "execute_result"
    }
   ],
   "source": [
    "customer12._D__ccount"
   ]
  },
  {
   "cell_type": "code",
   "execution_count": 242,
   "metadata": {},
   "outputs": [
    {
     "data": {
      "text/plain": [
       "32"
      ]
     },
     "execution_count": 242,
     "metadata": {},
     "output_type": "execute_result"
    }
   ],
   "source": [
    "customer12.r"
   ]
  },
  {
   "cell_type": "code",
   "execution_count": 243,
   "metadata": {},
   "outputs": [
    {
     "data": {
      "text/plain": [
       "3.3"
      ]
     },
     "execution_count": 243,
     "metadata": {},
     "output_type": "execute_result"
    }
   ],
   "source": [
    "customer12.w"
   ]
  },
  {
   "cell_type": "code",
   "execution_count": 237,
   "metadata": {},
   "outputs": [
    {
     "data": {
      "text/plain": [
       "'ssssssshi'"
      ]
     },
     "execution_count": 237,
     "metadata": {},
     "output_type": "execute_result"
    }
   ],
   "source": [
    "customer12._D__ooo  #any attribute or class variabel with double underscore cannot me access directly"
   ]
  },
  {
   "cell_type": "code",
   "execution_count": 244,
   "metadata": {},
   "outputs": [
    {
     "data": {
      "text/plain": [
       "'toti'"
      ]
     },
     "execution_count": 244,
     "metadata": {},
     "output_type": "execute_result"
    }
   ],
   "source": [
    "customer12._tttt # but _single underscore whether it is class vraible or attribute can access directly"
   ]
  },
  {
   "cell_type": "raw",
   "metadata": {},
   "source": [
    "Conclusion\n",
    "there are two ways to access class variable inside __init__\n",
    "--> use classname.classvariable\n",
    "-->          self.classvariable  (we use self.  to access class variable inside MEthod or constructor )\n",
    "\n",
    "class variable can me call same way like attributes \n",
    "and in all three  cases class variabel or attribute or method\n",
    "if they have __double underscore then they are private\n",
    "so to private mean access doubel underscore  u use  ._classname__variable/arrtibute/method"
   ]
  },
  {
   "cell_type": "markdown",
   "metadata": {},
   "source": [
    "### METHOD DETAIL"
   ]
  },
  {
   "cell_type": "code",
   "execution_count": 319,
   "metadata": {},
   "outputs": [],
   "source": [
    "class K():\n",
    "    var=123\n",
    "    abc=90\n",
    "    def fun(self):\n",
    "        self.var+=1\n",
    "        self.abc+=1\n"
   ]
  },
  {
   "cell_type": "code",
   "execution_count": 321,
   "metadata": {},
   "outputs": [
    {
     "data": {
      "text/plain": [
       "{}"
      ]
     },
     "execution_count": 321,
     "metadata": {},
     "output_type": "execute_result"
    }
   ],
   "source": [
    "K().__dict__  #as k has no attribute so it did not showed any"
   ]
  },
  {
   "cell_type": "markdown",
   "metadata": {},
   "source": [
    "### self.  use"
   ]
  },
  {
   "cell_type": "code",
   "execution_count": 330,
   "metadata": {},
   "outputs": [],
   "source": [
    "#the self parameter is use to get ascces to class variable and object's intance\n",
    "class WE():\n",
    "    taimoorclassvariable=123\n",
    "    abc=90\n",
    "    def fun(self):\n",
    "        print(self.taimoorattribute) #object intanc acces grand by usinf self. #we printed without defining\n",
    "        print(self.abc)              #abc class variable using inside function grant my using self.\n"
   ]
  },
  {
   "cell_type": "code",
   "execution_count": 331,
   "metadata": {},
   "outputs": [],
   "source": [
    "obj=WE()"
   ]
  },
  {
   "cell_type": "code",
   "execution_count": 336,
   "metadata": {},
   "outputs": [],
   "source": [
    "obj.taimoorattribute='tttt' #we out side give  value to our object intance #outside we defined before calling fun()"
   ]
  },
  {
   "cell_type": "code",
   "execution_count": 335,
   "metadata": {},
   "outputs": [
    {
     "name": "stdout",
     "output_type": "stream",
     "text": [
      "tttt\n",
      "90\n"
     ]
    }
   ],
   "source": [
    "obj.fun()"
   ]
  },
  {
   "cell_type": "code",
   "execution_count": 337,
   "metadata": {},
   "outputs": [],
   "source": [
    "#self is aslo use to invoke other methods ,other class/object   from inside the class"
   ]
  },
  {
   "cell_type": "code",
   "execution_count": 348,
   "metadata": {},
   "outputs": [],
   "source": [
    "class meo():\n",
    "    def first(self):\n",
    "        return 'gold'\n",
    "    def winnerget(self):\n",
    "        print(self.first())    #using self. to invoke outer method inside other method  from within class "
   ]
  },
  {
   "cell_type": "code",
   "execution_count": 349,
   "metadata": {},
   "outputs": [],
   "source": [
    "football=meo()"
   ]
  },
  {
   "cell_type": "code",
   "execution_count": 350,
   "metadata": {},
   "outputs": [
    {
     "name": "stdout",
     "output_type": "stream",
     "text": [
      "gold\n"
     ]
    }
   ],
   "source": [
    "football.winnerget()"
   ]
  },
  {
   "cell_type": "markdown",
   "metadata": {},
   "source": [
    "###  if u use __ init __ method then it would not be a regular method it would be a unique method\n",
    "--------\n",
    "1. when u have **__ init __ ()** method it invoke automatically and implecitly when the object of class instantiated\n",
    "\n",
    "\n",
    "2. using **_signle** and **__ double**  underscore has same effect on methods as on attributes  \n",
    "\n",
    "\n",
    "3. each class  class and its object is equiped with some **PRE-DEFINED** use full **ATTRIBUTES**"
   ]
  },
  {
   "cell_type": "code",
   "execution_count": 384,
   "metadata": {},
   "outputs": [],
   "source": [
    "#2\n",
    "class pd():\n",
    "    def _S(self):   #if we dont but self inside () it give type error when we try to call _S()\n",
    "        print('Series')\n",
    "    def __df(self):\n",
    "        print('DataFrame')"
   ]
  },
  {
   "cell_type": "code",
   "execution_count": 385,
   "metadata": {},
   "outputs": [],
   "source": [
    "data=pd()"
   ]
  },
  {
   "cell_type": "code",
   "execution_count": 386,
   "metadata": {},
   "outputs": [
    {
     "name": "stdout",
     "output_type": "stream",
     "text": [
      "Series\n"
     ]
    }
   ],
   "source": [
    "data._S()"
   ]
  },
  {
   "cell_type": "code",
   "execution_count": 387,
   "metadata": {},
   "outputs": [
    {
     "name": "stdout",
     "output_type": "stream",
     "text": [
      "DataFrame\n"
     ]
    }
   ],
   "source": [
    "data._pd__df() #failing to put _pd will raise exception --Attribute error --because only attribute can be directly access"
   ]
  },
  {
   "cell_type": "raw",
   "metadata": {},
   "source": [
    "\n",
    "#3 \n",
    "DICTIONARY\n",
    "\n",
    "object.__dict__\n",
    "class.__dict__\n",
    "\n",
    "-------------------\n",
    "NAME OF THE CLASS\n",
    "\n",
    "class.__name__\n",
    "type(object).__name__   \n",
    "\n",
    "don't use \n",
    "object.__name__ \n",
    "it will cause error instead use --> type(object)\n",
    "\n",
    "----------------\n",
    "MODULE __module__ is a string too,-it store the name of module which contain the defination of class\n",
    "\n",
    "class.__module__\n",
    "object.__module__\n",
    "\n",
    "output __main__\n",
    "\n",
    "---------------\n",
    "BASES __bases__ -it is a tuple -it contain classes name which are its superclasses -only classes have this attrib object don't\n",
    "\n",
    "superclass1.__bases__                 -->(object)\n",
    "subclass.__bases__              -->(superclass1,superclass2)"
   ]
  },
  {
   "cell_type": "markdown",
   "metadata": {},
   "source": [
    "###  Introspection\n",
    "the ability of program to exaimne the type or property of an object at runtime\n",
    "### reflection\n",
    "the ability of a program to manipulate the value,properties, and/or functions of an object at runtime"
   ]
  },
  {
   "attachments": {
    "image.png": {
     "image/png": "[encoded data removed]"
    }
   },
   "cell_type": "markdown",
   "metadata": {},
   "source": [
    "![image.png](attachment:image.png)"
   ]
  },
  {
   "attachments": {
    "image.png": {
     "image/png": "[encoded data removed]"
    }
   },
   "cell_type": "markdown",
   "metadata": {},
   "source": [
    "![image.png](attachment:image.png)"
   ]
  },
  {
   "cell_type": "markdown",
   "metadata": {},
   "source": [
    "### introducing <span style= 'color:red'>CLASS</span> itself in nice way"
   ]
  },
  {
   "cell_type": "code",
   "execution_count": 408,
   "metadata": {},
   "outputs": [],
   "source": [
    "class C():\n",
    "    def __init__(self,cls,result):\n",
    "        self.cls=cls\n",
    "        self.result=result\n",
    "    def __str__(self):\n",
    "        return f'this is a class :{self.cls} \\n and its result in 80 percentile is :{self.result} \\n this means only 20% top secure markes above :{self.result}'"
   ]
  },
  {
   "cell_type": "code",
   "execution_count": 409,
   "metadata": {},
   "outputs": [],
   "source": [
    "ideal_school=C('9th',60)"
   ]
  },
  {
   "cell_type": "code",
   "execution_count": 405,
   "metadata": {},
   "outputs": [
    {
     "name": "stdout",
     "output_type": "stream",
     "text": [
      "this is a class :9th \n",
      " and its result in 80 percentile is :60 \n",
      " this means only 20% top secure markes above :60\n"
     ]
    }
   ],
   "source": [
    "print(ideal_school)   "
   ]
  },
  {
   "cell_type": "markdown",
   "metadata": {},
   "source": [
    "### how python deals with <span style='color:red'> inherantance methods</span>"
   ]
  },
  {
   "cell_type": "code",
   "execution_count": 422,
   "metadata": {},
   "outputs": [],
   "source": [
    "class sub(C):\n",
    "    def __init__(self,cls,result):\n",
    "        C.__init__(self,cls,result)  #calling superclass constructor in side subclass constructor to access super Methods and attributes"
   ]
  },
  {
   "cell_type": "code",
   "execution_count": 426,
   "metadata": {},
   "outputs": [],
   "source": [
    "Asif_School=sub('10th',70)"
   ]
  },
  {
   "cell_type": "code",
   "execution_count": 428,
   "metadata": {},
   "outputs": [
    {
     "name": "stdout",
     "output_type": "stream",
     "text": [
      "this is a class :10th \n",
      " and its result in 80 percentile is :70 \n",
      " this means only 20% top secure markes above :70\n"
     ]
    }
   ],
   "source": [
    "print(Asif_School)  #result structure show that this is __str__(self) method and it has been inherated from parent class \n",
    "                    #because we did not defined any __str__(self) in sub class so it is inherated from parent class"
   ]
  },
  {
   "cell_type": "code",
   "execution_count": 431,
   "metadata": {},
   "outputs": [],
   "source": [
    "#inherantance using function --> 'super()' now we dont want to know name of parent class like 'C.' \n",
    "class sub(C):\n",
    "    def __init__(self,cls,result):\n",
    "        super().__init__(cls,result) #no need to use self also\n",
    "    \n",
    "    #we can use this method not only for invoing constructor of superclass but\n",
    "    #we can use it to get access to any of the resources available inside super/parent class"
   ]
  },
  {
   "cell_type": "code",
   "execution_count": 430,
   "metadata": {},
   "outputs": [
    {
     "name": "stdout",
     "output_type": "stream",
     "text": [
      "this is a class :10th \n",
      " and its result in 80 percentile is :70 \n",
      " this means only 20% top secure markes above :70\n"
     ]
    }
   ],
   "source": [
    "Asif_School=sub('10th',70)\n",
    "print(Asif_School) "
   ]
  },
  {
   "cell_type": "markdown",
   "metadata": {},
   "source": [
    "### inherantance of <span style='color:red'> class variable</span> and <span style='color:red'>instance attributes/variable</span>"
   ]
  },
  {
   "cell_type": "code",
   "execution_count": 490,
   "metadata": {},
   "outputs": [],
   "source": [
    "class parent():\n",
    "    p='parent'\n",
    "    def __init__(self,n):\n",
    "        self.no=n"
   ]
  },
  {
   "cell_type": "code",
   "execution_count": 491,
   "metadata": {},
   "outputs": [
    {
     "name": "stdout",
     "output_type": "stream",
     "text": [
      "parent\n"
     ]
    }
   ],
   "source": [
    "class child(parent):\n",
    "    ch='child'\n",
    "    print(parent.p) #this is how u access superclass variable inside but object can directly access all parent class variable\n",
    "    def __init__(self,c,n):\n",
    "        super().__init__(n)\n",
    "        self.c=c                   \n",
    "                                #for constructer defined varaibles u have to invoke superclass constructor \n",
    "                                "
   ]
  },
  {
   "cell_type": "code",
   "execution_count": 492,
   "metadata": {},
   "outputs": [],
   "source": [
    "family=child('sisi','two')"
   ]
  },
  {
   "cell_type": "code",
   "execution_count": 495,
   "metadata": {},
   "outputs": [
    {
     "data": {
      "text/plain": [
       "('parent',\n",
       " 'child',\n",
       " 'object can directly access all parents class variables just like its own class variables ')"
      ]
     },
     "execution_count": 495,
     "metadata": {},
     "output_type": "execute_result"
    }
   ],
   "source": [
    "family.p , family.ch, 'object can directly access all parents class variables just like its own class variables '"
   ]
  },
  {
   "cell_type": "code",
   "execution_count": 498,
   "metadata": {},
   "outputs": [
    {
     "data": {
      "text/plain": [
       "('two', 'sisi')"
      ]
     },
     "execution_count": 498,
     "metadata": {},
     "output_type": "execute_result"
    }
   ],
   "source": [
    "family.no, family.c "
   ]
  },
  {
   "cell_type": "raw",
   "metadata": {},
   "source": [
    "-object can directly access parent Methods and class variables \n",
    "-object need hard coded call of super().__init__() to get super class attributes access"
   ]
  },
  {
   "cell_type": "raw",
   "metadata": {},
   "source": [
    "MULIPLE INHERANTANCE"
   ]
  },
  {
   "cell_type": "raw",
   "metadata": {},
   "source": [
    "OVERRIDING"
   ]
  },
  {
   "attachments": {
    "image.png": {
     "image/png": "[encoded data removed]"
    }
   },
   "cell_type": "markdown",
   "metadata": {},
   "source": [
    "![image.png](attachment:image.png)"
   ]
  },
  {
   "cell_type": "markdown",
   "metadata": {},
   "source": [
    "###  how to build <span style='color:red'>  <>  herarchy of class </span>"
   ]
  },
  {
   "cell_type": "code",
   "execution_count": 502,
   "metadata": {},
   "outputs": [],
   "source": [
    "class father():\n",
    "    def wallet(self):\n",
    "        print('father wallet is black')\n",
    "    def cupboard(self):\n",
    "        self.wallet()\n",
    "class son(father):\n",
    "    def wallet(self):\n",
    "        print('son wallet is blue with pikachu logo')\n",
    "        "
   ]
  },
  {
   "cell_type": "code",
   "execution_count": 508,
   "metadata": {},
   "outputs": [],
   "source": [
    "where_wallet=son()"
   ]
  },
  {
   "cell_type": "code",
   "execution_count": 512,
   "metadata": {},
   "outputs": [
    {
     "name": "stdout",
     "output_type": "stream",
     "text": [
      "father wallet is black\n"
     ]
    }
   ],
   "source": [
    "where_wallet.cupboard()  #this is poly morphysism or means many more "
   ]
  },
  {
   "cell_type": "code",
   "execution_count": 510,
   "metadata": {},
   "outputs": [],
   "source": [
    "where_wallet=father()"
   ]
  },
  {
   "cell_type": "code",
   "execution_count": 511,
   "metadata": {},
   "outputs": [
    {
     "name": "stdout",
     "output_type": "stream",
     "text": [
      "father wallet is black\n"
     ]
    }
   ],
   "source": [
    "where_wallet.cupboard()"
   ]
  },
  {
   "cell_type": "markdown",
   "metadata": {},
   "source": [
    "### inherantance <span style='color:red'> vs </span> composition\n",
    "\n",
    "the adaptability of class can also be constructed using **composition**\n",
    "\n",
    "**COMPOSITION**\n",
    "it uses collection of desired classes and at the time og object creating combine them together by placing one class as argument of ther class to get desire compotions of properties"
   ]
  },
  {
   "cell_type": "code",
   "execution_count": 556,
   "metadata": {},
   "outputs": [],
   "source": [
    "class T1():\n",
    "    def call(self):\n",
    "        print('call')\n",
    "    \n",
    "class T2():\n",
    "    def pic(self):\n",
    "        print('take pic')\n",
    "class T3():\n",
    "    def radio(self):\n",
    "        print('listen radio')\n",
    "class T4():\n",
    "    def touch(self):\n",
    "        print('touch')\n",
    "\n",
    "class T5():\n",
    "    def G5(self):\n",
    "        print('5G')\n",
    "        \n",
    "class phone():\n",
    "    def __init__(self,*args):\n",
    "        self.t=args\n",
    "        print('-->',self.t)\n",
    "        "
   ]
  },
  {
   "cell_type": "code",
   "execution_count": 560,
   "metadata": {},
   "outputs": [
    {
     "name": "stdout",
     "output_type": "stream",
     "text": [
      "--> (<__main__.T1 object at 0x000001DB17686748>, <__main__.T3 object at 0x000001DB176866D8>)\n"
     ]
    }
   ],
   "source": [
    "nokia=phone(T1(),T3())"
   ]
  },
  {
   "cell_type": "code",
   "execution_count": 561,
   "metadata": {},
   "outputs": [
    {
     "name": "stdout",
     "output_type": "stream",
     "text": [
      "call\n",
      "listen radio\n"
     ]
    },
    {
     "data": {
      "text/plain": [
       "(None, None)"
      ]
     },
     "execution_count": 561,
     "metadata": {},
     "output_type": "execute_result"
    }
   ],
   "source": [
    "nokia.t[0].call(),nokia.t[1].radio()"
   ]
  },
  {
   "cell_type": "code",
   "execution_count": 11,
   "metadata": {},
   "outputs": [],
   "source": [
    "#continue \n",
    "def fun(n):\n",
    "    for i in range(n):\n",
    "        continue\n",
    "        print(i)  #it will never come here\n",
    "        print('hi') #or here\n",
    "fun(4)"
   ]
  },
  {
   "cell_type": "code",
   "execution_count": 16,
   "metadata": {},
   "outputs": [],
   "source": [
    "#generator\n",
    "def fun(n):\n",
    "    for i in range(n):\n",
    "        yield i              #yield hold the state of function and look for next call again to generate next possible result"
   ]
  },
  {
   "cell_type": "code",
   "execution_count": 20,
   "metadata": {},
   "outputs": [
    {
     "data": {
      "text/plain": [
       "<generator object fun at 0x000002787957F138>"
      ]
     },
     "execution_count": 20,
     "metadata": {},
     "output_type": "execute_result"
    }
   ],
   "source": [
    "fun(5)   #right now its a generator object "
   ]
  },
  {
   "cell_type": "code",
   "execution_count": 21,
   "metadata": {},
   "outputs": [
    {
     "data": {
      "text/plain": [
       "0"
      ]
     },
     "execution_count": 21,
     "metadata": {},
     "output_type": "execute_result"
    }
   ],
   "source": [
    "next(fun(5))  #wrape it in next() function to get value not a object"
   ]
  },
  {
   "cell_type": "code",
   "execution_count": 31,
   "metadata": {},
   "outputs": [],
   "source": [
    "obj=fun(5) #easy way is to assign it to object"
   ]
  },
  {
   "cell_type": "code",
   "execution_count": 32,
   "metadata": {},
   "outputs": [
    {
     "data": {
      "text/plain": [
       "(0, 1)"
      ]
     },
     "execution_count": 32,
     "metadata": {},
     "output_type": "execute_result"
    }
   ],
   "source": [
    "next(obj),next(obj) #then object will b call again and again "
   ]
  },
  {
   "cell_type": "code",
   "execution_count": 33,
   "metadata": {},
   "outputs": [
    {
     "data": {
      "text/plain": [
       "(2, 3, 4)"
      ]
     },
     "execution_count": 33,
     "metadata": {},
     "output_type": "execute_result"
    }
   ],
   "source": [
    "next(obj),next(obj),next(obj) #that's it if u call more time it would not work infact it will throw error"
   ]
  },
  {
   "cell_type": "code",
   "execution_count": 34,
   "metadata": {},
   "outputs": [
    {
     "data": {
      "text/plain": [
       "[0, 1, 2, 3, 4]"
      ]
     },
     "execution_count": 34,
     "metadata": {},
     "output_type": "execute_result"
    }
   ],
   "source": [
    "list(fun(5)) #now we can see list() execute fun(5) in iteration mode and extracted all result into list "
   ]
  },
  {
   "cell_type": "code",
   "execution_count": 35,
   "metadata": {},
   "outputs": [
    {
     "data": {
      "text/plain": [
       "(0, 1, 2, 3, 4)"
      ]
     },
     "execution_count": 35,
     "metadata": {},
     "output_type": "execute_result"
    }
   ],
   "source": [
    "tuple(fun(5)) #same with tuple"
   ]
  },
  {
   "cell_type": "code",
   "execution_count": 36,
   "metadata": {},
   "outputs": [
    {
     "ename": "TypeError",
     "evalue": "cannot convert dictionary update sequence element #0 to a sequence",
     "output_type": "error",
     "traceback": [
      "\u001b[1;31m---------------------------------------------------------------------------\u001b[0m",
      "\u001b[1;31mTypeError\u001b[0m                                 Traceback (most recent call last)",
      "\u001b[1;32m<ipython-input-36-bf3452b81fc7>\u001b[0m in \u001b[0;36m<module>\u001b[1;34m\u001b[0m\n\u001b[1;32m----> 1\u001b[1;33m \u001b[0mdict\u001b[0m\u001b[1;33m(\u001b[0m\u001b[0mfun\u001b[0m\u001b[1;33m(\u001b[0m\u001b[1;36m5\u001b[0m\u001b[1;33m)\u001b[0m\u001b[1;33m)\u001b[0m\u001b[1;33m\u001b[0m\u001b[1;33m\u001b[0m\u001b[0m\n\u001b[0m",
      "\u001b[1;31mTypeError\u001b[0m: cannot convert dictionary update sequence element #0 to a sequence"
     ]
    }
   ],
   "source": [
    "dict(fun(5)) #not with dict"
   ]
  },
  {
   "cell_type": "code",
   "execution_count": 37,
   "metadata": {},
   "outputs": [
    {
     "data": {
      "text/plain": [
       "{0, 1, 2, 3, 4}"
      ]
     },
     "execution_count": 37,
     "metadata": {},
     "output_type": "execute_result"
    }
   ],
   "source": [
    "set(fun(5))#sets"
   ]
  },
  {
   "cell_type": "code",
   "execution_count": 52,
   "metadata": {},
   "outputs": [],
   "source": [
    "#controlled by generater and trasnformed iteration poer of 2\n",
    "\n",
    "def pow_2_lsize(n):\n",
    "    pow=1\n",
    "    for i in range(n):\n",
    "        yield pow\n",
    "        pow*=2"
   ]
  },
  {
   "cell_type": "code",
   "execution_count": 53,
   "metadata": {},
   "outputs": [
    {
     "data": {
      "text/plain": [
       "[1, 2, 4, 8, 16]"
      ]
     },
     "execution_count": 53,
     "metadata": {},
     "output_type": "execute_result"
    }
   ],
   "source": [
    "list(pow_2_lsize(5))"
   ]
  },
  {
   "cell_type": "code",
   "execution_count": 128,
   "metadata": {},
   "outputs": [],
   "source": [
    "#Fabinacci series\n",
    "\n",
    "def Fabinacci_lsize(howmanyitems):\n",
    "    l=1 #last\n",
    "    sl=1 #secondlast\n",
    "    for index in range(0,howmanyitems):\n",
    "        if index in [0,1]:\n",
    "            yield 1\n",
    "        else:\n",
    "            c=l+sl # 'c' current\n",
    "            yield c\n",
    "            l,sl=c,l  #the real trick part is to change 'c' to 'l' and 'l' to 'sl' both at same time\n",
    "            \n",
    "            \n",
    "            \n",
    "            \n",
    "        "
   ]
  },
  {
   "cell_type": "code",
   "execution_count": 130,
   "metadata": {},
   "outputs": [
    {
     "data": {
      "text/plain": [
       "[1, 1, 2, 3, 5, 8, 13, 21, 34, 55]"
      ]
     },
     "execution_count": 130,
     "metadata": {},
     "output_type": "execute_result"
    }
   ],
   "source": [
    "list(Fabinacci_lsize(10))"
   ]
  },
  {
   "cell_type": "code",
   "execution_count": 131,
   "metadata": {},
   "outputs": [],
   "source": [
    "def tentimes(howmanyitems,startno):\n",
    "    for index in range(howmanyitems):\n",
    "        yield startno\n",
    "        startno*=10\n",
    "        \n",
    "        \n",
    "        "
   ]
  },
  {
   "cell_type": "code",
   "execution_count": 132,
   "metadata": {},
   "outputs": [
    {
     "data": {
      "text/plain": [
       "[1, 10, 100, 1000, 10000, 100000, 1000000, 10000000, 100000000, 1000000000]"
      ]
     },
     "execution_count": 132,
     "metadata": {},
     "output_type": "execute_result"
    }
   ],
   "source": [
    "list(tentimes(10,1))"
   ]
  },
  {
   "cell_type": "code",
   "execution_count": 133,
   "metadata": {},
   "outputs": [
    {
     "data": {
      "text/plain": [
       "[2, 20, 200, 2000, 20000, 200000, 2000000, 20000000, 200000000, 2000000000]"
      ]
     },
     "execution_count": 133,
     "metadata": {},
     "output_type": "execute_result"
    }
   ],
   "source": [
    "list(tentimes(10,2))"
   ]
  },
  {
   "cell_type": "markdown",
   "metadata": {},
   "source": [
    "###  list comprehension"
   ]
  },
  {
   "cell_type": "code",
   "execution_count": 149,
   "metadata": {},
   "outputs": [
    {
     "data": {
      "text/plain": [
       "['even', 'odd', 'even', 'odd', 'even']"
      ]
     },
     "execution_count": 149,
     "metadata": {},
     "output_type": "execute_result"
    }
   ],
   "source": [
    "#   if'         'else'      'for'    #*********if-else-for\n",
    "\n",
    "\n",
    "['even' if i%2 == 0 else 'odd'  for i in range(5)]  #the right side of 'for' loop executed \n",
    "                                                    #after that right side of 'if'\n",
    "                                                            #or left side of 'else'\n",
    "                                                            #is choosen\n",
    "                                                    #left<---right"
   ]
  },
  {
   "cell_type": "code",
   "execution_count": 151,
   "metadata": {},
   "outputs": [
    {
     "data": {
      "text/plain": [
       "['even', 'even', 'even']"
      ]
     },
     "execution_count": 151,
     "metadata": {},
     "output_type": "execute_result"
    }
   ],
   "source": [
    "#      'for'             'if'                   #************no use of else \n",
    "\n",
    "\n",
    "['even'  for i in range(5) if i%2==0 ]  #first 'for' loop is executed it give its result to 'if'\n",
    "                                        #'if' give its result at extrem left\n",
    "                                        #no use of else \n",
    "                                        #left ---> right \n",
    "                                 #extrem left <---right "
   ]
  },
  {
   "cell_type": "code",
   "execution_count": 158,
   "metadata": {},
   "outputs": [
    {
     "data": {
      "text/plain": [
       "<generator object <genexpr> at 0x000002787B03AB10>"
      ]
     },
     "execution_count": 158,
     "metadata": {},
     "output_type": "execute_result"
    }
   ],
   "source": [
    "#***********just by using () we convert list comprehention into generator \n",
    "('even'for i in range(5) if i%2==0)  "
   ]
  },
  {
   "cell_type": "code",
   "execution_count": 166,
   "metadata": {},
   "outputs": [
    {
     "name": "stdout",
     "output_type": "stream",
     "text": [
      "generator\n"
     ]
    },
    {
     "data": {
      "text/plain": [
       "('even', 'even', 'even')"
      ]
     },
     "execution_count": 166,
     "metadata": {},
     "output_type": "execute_result"
    }
   ],
   "source": [
    "gen=('even'for i in range(5) if i%2==0) \n",
    "print(type(gen).__name__)\n",
    "\n",
    "next(gen),next(gen),next(gen)\n"
   ]
  },
  {
   "cell_type": "code",
   "execution_count": 175,
   "metadata": {},
   "outputs": [
    {
     "data": {
      "text/plain": [
       "[0, 1, 2, 3, 4, 5, 6, 7, 8, 9]"
      ]
     },
     "execution_count": 175,
     "metadata": {},
     "output_type": "execute_result"
    }
   ],
   "source": [
    "n=lambda x: [i for i in range(x)]\n",
    "n(10)"
   ]
  },
  {
   "cell_type": "code",
   "execution_count": 178,
   "metadata": {},
   "outputs": [
    {
     "data": {
      "text/plain": [
       "<generator object <lambda>.<locals>.<genexpr> at 0x000002787A2F34F8>"
      ]
     },
     "execution_count": 178,
     "metadata": {},
     "output_type": "execute_result"
    }
   ],
   "source": [
    "#using this bracket ()  with list comprehension made lambda generator\n",
    "n=lambda x: (i for i in range(x))\n",
    "n(10)\n"
   ]
  },
  {
   "cell_type": "code",
   "execution_count": 185,
   "metadata": {},
   "outputs": [
    {
     "data": {
      "text/plain": [
       "2"
      ]
     },
     "execution_count": 185,
     "metadata": {},
     "output_type": "execute_result"
    }
   ],
   "source": [
    "what=lambda : 2  #some time u dont need variables all u need is retunr consant value\n",
    "what()"
   ]
  },
  {
   "cell_type": "code",
   "execution_count": 190,
   "metadata": {},
   "outputs": [
    {
     "ename": "SyntaxError",
     "evalue": "can't assign to lambda (<ipython-input-190-57e1eff341a4>, line 1)",
     "output_type": "error",
     "traceback": [
      "\u001b[1;36m  File \u001b[1;32m\"<ipython-input-190-57e1eff341a4>\"\u001b[1;36m, line \u001b[1;32m1\u001b[0m\n\u001b[1;33m    n=lambda : x=2  #*******************can't assing in lambda cannot use  = inside lambda\u001b[0m\n\u001b[1;37m     ^\u001b[0m\n\u001b[1;31mSyntaxError\u001b[0m\u001b[1;31m:\u001b[0m can't assign to lambda\n"
     ]
    }
   ],
   "source": [
    "n=lambda : x=2  #*******************can't assing in lambda cannot use  = inside lambda\n",
    "n()"
   ]
  },
  {
   "cell_type": "raw",
   "metadata": {},
   "source": [
    "WE can use --list comprehension-- as 'argument' inside fun(alist)\n",
    "\n",
    "fun([for x in range(5)])"
   ]
  },
  {
   "cell_type": "code",
   "execution_count": 203,
   "metadata": {},
   "outputs": [],
   "source": [
    "def  printfunction(ls,fun):\n",
    "    for x in ls:\n",
    "        print(f\"f({x})=\", fun(x))\n",
    "def poly(x):\n",
    "    return 2*x**2 -4*x +2"
   ]
  },
  {
   "cell_type": "code",
   "execution_count": 205,
   "metadata": {},
   "outputs": [
    {
     "name": "stdout",
     "output_type": "stream",
     "text": [
      "f(-2)= 18\n",
      "f(-1)= 8\n",
      "f(0)= 2\n",
      "f(1)= 0\n",
      "f(2)= 2\n"
     ]
    }
   ],
   "source": [
    "printfunction([i for i in range(-2,3)],poly)"
   ]
  },
  {
   "cell_type": "code",
   "execution_count": 207,
   "metadata": {},
   "outputs": [
    {
     "name": "stdout",
     "output_type": "stream",
     "text": [
      "f(-2)= 18\n",
      "f(-1)= 8\n",
      "f(0)= 2\n",
      "f(1)= 0\n",
      "f(2)= 2\n"
     ]
    }
   ],
   "source": [
    "#'list comprehension'             and 'lambda'                  as argument  to function\n",
    "\n",
    "\n",
    "printfunction([i for i in range(-2,3)],lambda x:2*x**2 -4*x +2 )"
   ]
  },
  {
   "cell_type": "code",
   "execution_count": 211,
   "metadata": {},
   "outputs": [
    {
     "name": "stdout",
     "output_type": "stream",
     "text": [
      "<map object at 0x000002787AD4EF98>\n"
     ]
    }
   ],
   "source": [
    "#map(function,list)\n",
    "map(lambda x:print(f'f({2*x**2 -4*x +2})=',2*x**2 -4*x +2) ,  [i for i in range(-2,3)]) #map object is given"
   ]
  },
  {
   "cell_type": "code",
   "execution_count": 212,
   "metadata": {},
   "outputs": [],
   "source": [
    "var=map(lambda x:print(f'f({2*x**2 -4*x +2})=',2*x**2 -4*x +2) ,  [i for i in range(-2,3)])"
   ]
  },
  {
   "cell_type": "code",
   "execution_count": 215,
   "metadata": {},
   "outputs": [
    {
     "data": {
      "text/plain": [
       "map"
      ]
     },
     "execution_count": 215,
     "metadata": {},
     "output_type": "execute_result"
    }
   ],
   "source": [
    "type(var)  #it is like generator "
   ]
  },
  {
   "cell_type": "code",
   "execution_count": 214,
   "metadata": {},
   "outputs": [
    {
     "name": "stdout",
     "output_type": "stream",
     "text": [
      "f(18)= 18\n"
     ]
    }
   ],
   "source": [
    "next(var)"
   ]
  },
  {
   "cell_type": "code",
   "execution_count": 216,
   "metadata": {},
   "outputs": [
    {
     "name": "stdout",
     "output_type": "stream",
     "text": [
      "f(8)= 8\n"
     ]
    }
   ],
   "source": [
    "next(var)"
   ]
  },
  {
   "cell_type": "code",
   "execution_count": 221,
   "metadata": {},
   "outputs": [
    {
     "name": "stdout",
     "output_type": "stream",
     "text": [
      "f(18)= 18\n",
      "f(8)= 8\n",
      "f(2)= 2\n",
      "f(0)= 0\n",
      "f(2)= 2\n"
     ]
    },
    {
     "data": {
      "text/plain": [
       "[None, None, None, None, None]"
      ]
     },
     "execution_count": 221,
     "metadata": {},
     "output_type": "execute_result"
    }
   ],
   "source": [
    "#map convert to list\n",
    "list(map(lambda x:print(f'f({2*x**2 -4*x +2})=',2*x**2 -4*x +2) ,  [i for i in range(-2,3)]))"
   ]
  },
  {
   "cell_type": "code",
   "execution_count": 224,
   "metadata": {},
   "outputs": [
    {
     "name": "stdout",
     "output_type": "stream",
     "text": [
      "f(18)= 18\n",
      "f(8)= 8\n",
      "f(2)= 2\n",
      "f(0)= 0\n",
      "f(2)= 2\n"
     ]
    }
   ],
   "source": [
    "#of use 'for' loop to convert get each item\n",
    "for x in map(lambda x:print(f'f({2*x**2 -4*x +2})=',2*x**2 -4*x +2) ,  [i for i in range(-2,3)]):\n",
    "    x"
   ]
  },
  {
   "cell_type": "code",
   "execution_count": 225,
   "metadata": {},
   "outputs": [],
   "source": [
    "#filer function filer(fun,list)  #it is also genertor\n",
    "\n",
    "#it give results that comes out of fun"
   ]
  },
  {
   "cell_type": "code",
   "execution_count": 352,
   "metadata": {},
   "outputs": [
    {
     "data": {
      "text/plain": [
       "<filter at 0x2787aa692e8>"
      ]
     },
     "execution_count": 352,
     "metadata": {},
     "output_type": "execute_result"
    }
   ],
   "source": [
    "def fun(n):\n",
    "    if n%2==0:\n",
    "        return True\n",
    "        \n",
    "filter(fun, [i for i in range(10)])  \n"
   ]
  },
  {
   "cell_type": "code",
   "execution_count": 353,
   "metadata": {},
   "outputs": [
    {
     "name": "stdout",
     "output_type": "stream",
     "text": [
      "1\n",
      "3\n",
      "5\n",
      "7\n",
      "9\n"
     ]
    }
   ],
   "source": [
    "# the element which return True Pass the filter other are rejected\n",
    "filltered=filter(fun, [i for i in range(10)])\n",
    "for x in filltered:\n",
    "    print(x)"
   ]
  },
  {
   "cell_type": "code",
   "execution_count": 342,
   "metadata": {},
   "outputs": [
    {
     "data": {
      "text/plain": [
       "[0, 2, 4, 6, 8]"
      ]
     },
     "execution_count": 342,
     "metadata": {},
     "output_type": "execute_result"
    }
   ],
   "source": [
    "list(filter(fun, [i for i in range(10)]))"
   ]
  },
  {
   "cell_type": "markdown",
   "metadata": {},
   "source": [
    "Filter function take list and apply function on it 1time<br>\n",
    "it do not keep that change to be reused in inplace of list"
   ]
  },
  {
   "cell_type": "code",
   "execution_count": 362,
   "metadata": {},
   "outputs": [
    {
     "data": {
      "text/plain": [
       "[0, 1, 2, 3, 4, 5, 6, 7, 8, 9]"
      ]
     },
     "execution_count": 362,
     "metadata": {},
     "output_type": "execute_result"
    }
   ],
   "source": [
    "def fun(n):\n",
    "        if n%2 == 0:\n",
    "            yield False\n",
    "filltered=filter(fun, [i for i in range(10)])\n",
    "# for x in filltered:\n",
    "#     print(f'-->{x}')\n",
    "    \n",
    "#using yield return same list as it has no effect\n",
    "list(filter(fun, [i for i in range(10)]))"
   ]
  },
  {
   "cell_type": "code",
   "execution_count": 351,
   "metadata": {},
   "outputs": [
    {
     "data": {
      "text/plain": [
       "[0, 1, 2, 3, 4, 5, 6, 7, 8, 9]"
      ]
     },
     "execution_count": 351,
     "metadata": {},
     "output_type": "execute_result"
    }
   ],
   "source": [
    "list(filter(fun, [i for i in range(10)]))"
   ]
  },
  {
   "cell_type": "code",
   "execution_count": 346,
   "metadata": {},
   "outputs": [
    {
     "data": {
      "text/plain": [
       "[True, True, True, True, True]"
      ]
     },
     "execution_count": 346,
     "metadata": {},
     "output_type": "execute_result"
    }
   ],
   "source": [
    "def fun(n):\n",
    "    for n in n:\n",
    "        if n%2==0:\n",
    "            yield n \n",
    "\n",
    "list(fun([i for i in range(10)]))\n"
   ]
  },
  {
   "cell_type": "code",
   "execution_count": 358,
   "metadata": {},
   "outputs": [
    {
     "data": {
      "text/plain": [
       "[1, 3, 5, 7, 9]"
      ]
     },
     "execution_count": 358,
     "metadata": {},
     "output_type": "execute_result"
    }
   ],
   "source": [
    "def fun(n):\n",
    "        if n%2==0:\n",
    "            return False\n",
    "        else:\n",
    "            return True\n",
    "list(filter(fun,[i for i in range(10)]))"
   ]
  },
  {
   "cell_type": "markdown",
   "metadata": {},
   "source": [
    "### outer inner function closuer\n",
    "inner function can only be executed by outer function<br>\n",
    "no other function has access"
   ]
  },
  {
   "cell_type": "code",
   "execution_count": 367,
   "metadata": {},
   "outputs": [],
   "source": [
    "def me():\n",
    "    def speak():\n",
    "        print('yes i like choclate')\n",
    "\n",
    "\n",
    "#in this me() function i did defined speak function but not allowed it to execute  "
   ]
  },
  {
   "cell_type": "code",
   "execution_count": 368,
   "metadata": {},
   "outputs": [],
   "source": [
    "me() \n",
    "\n",
    "# no one from out side can make me to  speak()  \n",
    "# untill unless i don't do it inside my self"
   ]
  },
  {
   "cell_type": "code",
   "execution_count": 370,
   "metadata": {},
   "outputs": [
    {
     "name": "stdout",
     "output_type": "stream",
     "text": [
      "yes i like choclate \n"
     ]
    }
   ],
   "source": [
    "def me():\n",
    "    def speak():\n",
    "        print('yes i like choclate ')\n",
    "    speak()  \n",
    "    #now i allowed \n",
    "    \n",
    "    \n",
    "me()  #see speak() executed    "
   ]
  },
  {
   "cell_type": "code",
   "execution_count": 371,
   "metadata": {},
   "outputs": [],
   "source": [
    "#how can i make outsider to make me speak when the want\n",
    "#this way giving them my outh in return\n",
    "\n",
    "def me():\n",
    "    def speak():\n",
    "        print('yes i like choclate')\n",
    "    return speak\n",
    "mother=me()  #so i gave my speaking function to mother \n",
    "\n",
    "\n",
    "\n",
    "\n",
    "\n",
    "\n",
    "\n",
    "#the function 'return' during outer invocation 'is a CLOUSER'\n",
    "#the function 'speak' during  me    invocation 'is A CLOUSER'"
   ]
  },
  {
   "cell_type": "code",
   "execution_count": 372,
   "metadata": {},
   "outputs": [
    {
     "data": {
      "text/plain": [
       "<function __main__.me.<locals>.speak()>"
      ]
     },
     "execution_count": 372,
     "metadata": {},
     "output_type": "execute_result"
    }
   ],
   "source": [
    "mother #here mother hold a function of speak "
   ]
  },
  {
   "cell_type": "code",
   "execution_count": 373,
   "metadata": {},
   "outputs": [
    {
     "name": "stdout",
     "output_type": "stream",
     "text": [
      "yes i like choclate\n"
     ]
    }
   ],
   "source": [
    "mother()  #and thats how u trigger function"
   ]
  },
  {
   "cell_type": "code",
   "execution_count": null,
   "metadata": {},
   "outputs": [],
   "source": []
  }
 ],
 "metadata": {
  "kernelspec": {
   "display_name": "Python 3",
   "language": "python",
   "name": "python3"
  },
  "language_info": {
   "codemirror_mode": {
    "name": "ipython",
    "version": 3
   },
   "file_extension": ".py",
   "mimetype": "text/x-python",
   "name": "python",
   "nbconvert_exporter": "python",
   "pygments_lexer": "ipython3",
   "version": "3.7.3"
  }
 },
 "nbformat": 4,
 "nbformat_minor": 2
}
