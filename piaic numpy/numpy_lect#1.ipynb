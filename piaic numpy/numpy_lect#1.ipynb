{
 "cells": [
  {
   "cell_type": "raw",
   "metadata": {},
   "source": [
    "u have to convert  data into number \n",
    "numpy is the fastes library for ndarry\n",
    "nd is multidimenstion arry providing fast arry-oriented arithmetric operation and flexible broadcasting capability\n",
    "\n",
    "ndarray :u don't need to uses loop function and perform loop operation\n",
    "numpy is C written and connected to python via API\n",
    "numpy is 90% efficent from python or normal libraries\n",
    "all multipdimension operation can we perfrom using numpy \n",
    "numpy is faster then normal pythonlanguage"
   ]
  },
  {
   "cell_type": "raw",
   "metadata": {},
   "source": [
    "import numpy as np #we do this to keep numpy fuunction not to get over write by python as function names get mix up\n",
    "#like sum count average  both have same formulas\n",
    "so what will happen is that \n",
    "def abc():\n",
    "    print('abc')\n",
    "def abc():\n",
    "    print('pakistan')\n",
    "so last one will be use \n",
    "so we do np.sum() for numpy and sum()  u can see differens and so do python interpretor \n",
    "thats why we d 'as np'\n",
    "\n",
    "use ?? or help to see backend code of method \n"
   ]
  },
  {
   "cell_type": "code",
   "execution_count": 1,
   "metadata": {},
   "outputs": [],
   "source": [
    "import numpy as np"
   ]
  },
  {
   "cell_type": "code",
   "execution_count": 2,
   "metadata": {},
   "outputs": [
    {
     "data": {
      "text/plain": [
       "'1.18.1'"
      ]
     },
     "execution_count": 2,
     "metadata": {},
     "output_type": "execute_result"
    }
   ],
   "source": [
    " np.__version__\n"
   ]
  },
  {
   "cell_type": "raw",
   "metadata": {},
   "source": [
    "!   use exclamination marks ! in cell then it will be consider as shell command not jupyter notebook \n",
    "!pip install --upgrade numpy <---to upgrade to new version\n",
    "\n",
    "MAJIC FUNCTIONS:\n",
    "start with %\n",
    "%history <--give history of all my work \n",
    "%run abc.py <-----run to run code of that file directly --  here u will not shown any program\n",
    "%load abc.py <----load means to bring all that code from file and u can edite and then u can run\n",
    "%time ----it tells u timeof code run  ---> %time list(range(2000000))  use it at the bottom of cell "
   ]
  },
  {
   "cell_type": "code",
   "execution_count": 3,
   "metadata": {},
   "outputs": [],
   "source": [
    "from tabula import read_pdf"
   ]
  },
  {
   "cell_type": "code",
   "execution_count": 4,
   "metadata": {},
   "outputs": [],
   "source": [
    "read_pdf??"
   ]
  },
  {
   "cell_type": "code",
   "execution_count": 5,
   "metadata": {},
   "outputs": [
    {
     "name": "stdout",
     "output_type": "stream",
     "text": [
      "Wall time: 73.9 ms\n"
     ]
    },
    {
     "data": {
      "text/plain": [
       "array([       0,        1,        2, ..., 19999997, 19999998, 19999999])"
      ]
     },
     "execution_count": 5,
     "metadata": {},
     "output_type": "execute_result"
    }
   ],
   "source": [
    "%time np.arange(20000000)"
   ]
  },
  {
   "cell_type": "code",
   "execution_count": 6,
   "metadata": {},
   "outputs": [
    {
     "name": "stdout",
     "output_type": "stream",
     "text": [
      "Wall time: 202 ms\n"
     ]
    },
    {
     "data": {
      "text/plain": [
       "[6, 7, 8, 9, 10, 11, 12, 13, 14, 15, 16, 17, 18, 19, 20, 21, 22, 23, 24, 25]"
      ]
     },
     "execution_count": 6,
     "metadata": {},
     "output_type": "execute_result"
    }
   ],
   "source": [
    "#add 5 in each number of range\n",
    "%time [x+5 for x in range(1,1000000)][:20]"
   ]
  },
  {
   "cell_type": "code",
   "execution_count": 7,
   "metadata": {},
   "outputs": [
    {
     "name": "stdout",
     "output_type": "stream",
     "text": [
      "Wall time: 11 ms\n"
     ]
    },
    {
     "data": {
      "text/plain": [
       "<enumerate at 0x2bbccc492d0>"
      ]
     },
     "execution_count": 7,
     "metadata": {},
     "output_type": "execute_result"
    }
   ],
   "source": [
    "%time enumerate(np.arange(1,1000000)+5) #see difference of timing and it is so easy to do with --->np"
   ]
  },
  {
   "cell_type": "code",
   "execution_count": 8,
   "metadata": {},
   "outputs": [
    {
     "data": {
      "text/plain": [
       "1"
      ]
     },
     "execution_count": 8,
     "metadata": {},
     "output_type": "execute_result"
    }
   ],
   "source": [
    "#how to see dimenstions of a array\n",
    "l=np.arange(1,100000)\n",
    "l.shape\n",
    "#or\n",
    "l.ndim"
   ]
  },
  {
   "cell_type": "markdown",
   "metadata": {},
   "source": [
    "### Dimension"
   ]
  },
  {
   "cell_type": "code",
   "execution_count": 9,
   "metadata": {},
   "outputs": [
    {
     "name": "stdout",
     "output_type": "stream",
     "text": [
      "[1]\n",
      "1\n",
      "(1,)\n",
      "int32\n"
     ]
    }
   ],
   "source": [
    "a= np.array([1])\n",
    "print(a)\n",
    "print(a.ndim) #no of axis\n",
    "print(a.shape)\n",
    "print(a.dtype)"
   ]
  },
  {
   "cell_type": "code",
   "execution_count": 10,
   "metadata": {},
   "outputs": [
    {
     "name": "stdout",
     "output_type": "stream",
     "text": [
      "[1 2 4 5]\n",
      "1\n",
      "(4,)\n",
      "int32\n"
     ]
    }
   ],
   "source": [
    "a= np.array([1,2,4,5]) #one dimension with 4elements\n",
    "print(a)\n",
    "print(a.ndim) #no of axis #no of dimension\n",
    "print(a.shape) #to see elements of dimension\n",
    "print(a.dtype) #data type"
   ]
  },
  {
   "cell_type": "code",
   "execution_count": 11,
   "metadata": {},
   "outputs": [
    {
     "name": "stdout",
     "output_type": "stream",
     "text": [
      "[[1 2 3]\n",
      " [4 5 6]\n",
      " [7 8 9]]\n",
      "2\n",
      "(3, 3)\n",
      "int32\n"
     ]
    }
   ],
   "source": [
    "#counting i=openinig brackets [ [ to see total dimentsion\n",
    "a= np.array([[1,2,3],\n",
    "           [4,5,6],\n",
    "           [7,8,9]])\n",
    "print(a)\n",
    "print(a.ndim) #no of axis\n",
    "print(a.shape)\n",
    "print(a.dtype)"
   ]
  },
  {
   "cell_type": "code",
   "execution_count": 12,
   "metadata": {},
   "outputs": [
    {
     "name": "stdout",
     "output_type": "stream",
     "text": [
      "Before Adding 5\n",
      "[[1 2 3]\n",
      " [4 5 6]\n",
      " [7 8 9]]\n",
      "After adding 5\n",
      "[[ 6  7  8]\n",
      " [ 9 10 11]\n",
      " [12 13 14]]\n"
     ]
    }
   ],
   "source": [
    "print(\"Before Adding 5\")\n",
    "print(a)\n",
    "for  r,rd in enumerate(a):\n",
    "    for c,cd in enumerate(rd):\n",
    "        a[r][c]=a[r][c]+5\n",
    "print(\"After adding 5\")\n",
    "print(a)"
   ]
  },
  {
   "cell_type": "code",
   "execution_count": 13,
   "metadata": {},
   "outputs": [
    {
     "data": {
      "text/plain": [
       "array([[ 6,  7,  8],\n",
       "       [ 9, 10, 11],\n",
       "       [12, 13, 14]])"
      ]
     },
     "execution_count": 13,
     "metadata": {},
     "output_type": "execute_result"
    }
   ],
   "source": [
    "#where u see arange function keep in mind that end value of range not included in range\n",
    "a=np.arange(1,10).reshape((3,3))\n",
    "a=a+5\n",
    "a"
   ]
  },
  {
   "cell_type": "code",
   "execution_count": 14,
   "metadata": {},
   "outputs": [
    {
     "data": {
      "text/plain": [
       "array([[21, 22],\n",
       "       [23, 24],\n",
       "       [25, 26],\n",
       "       [27, 28],\n",
       "       [29, 30]])"
      ]
     },
     "execution_count": 14,
     "metadata": {},
     "output_type": "execute_result"
    }
   ],
   "source": [
    "a=np.arange(1,31).reshape((3,5,2)) #page (index) #no of rows #columns\n",
    "a[2]"
   ]
  },
  {
   "cell_type": "code",
   "execution_count": 15,
   "metadata": {},
   "outputs": [
    {
     "data": {
      "text/plain": [
       "array([21, 22])"
      ]
     },
     "execution_count": 15,
     "metadata": {},
     "output_type": "execute_result"
    }
   ],
   "source": [
    "a[2,0] #2nd page 1st row"
   ]
  },
  {
   "cell_type": "code",
   "execution_count": 16,
   "metadata": {},
   "outputs": [
    {
     "data": {
      "text/plain": [
       "22"
      ]
     },
     "execution_count": 16,
     "metadata": {},
     "output_type": "execute_result"
    }
   ],
   "source": [
    "a[2,0,1] #2nd page ,1st row ,2nd epelemnt\n",
    "#a[i,j,k]"
   ]
  },
  {
   "cell_type": "markdown",
   "metadata": {},
   "source": [
    "<img src=\"https://www.google.com/search?q=numpy+3d+array+image&sxsrf=ALeKk02ggHT0RdBLUTsIaztwEko2S61QEA:1586669620452&source=lnms&tbm=isch&sa=X&ved=2ahUKEwiH_-j4lOLoAhUAAGMBHThODPQQ_AUoAXoECAwQAw&biw=1536&bih=722#imgrc=6uk4mh4Alj1bTM\">"
   ]
  },
  {
   "cell_type": "code",
   "execution_count": 17,
   "metadata": {},
   "outputs": [
    {
     "data": {
      "text/plain": [
       "array([[[1, 0, 1],\n",
       "        [0, 1, 0],\n",
       "        [1, 0, 1]],\n",
       "\n",
       "       [[0, 1, 0],\n",
       "        [1, 0, 1],\n",
       "        [0, 1, 0]],\n",
       "\n",
       "       [[1, 0, 1],\n",
       "        [0, 1, 0],\n",
       "        [1, 0, 1]]], dtype=int32)"
      ]
     },
     "execution_count": 17,
     "metadata": {},
     "output_type": "execute_result"
    }
   ],
   "source": [
    "a = np.arange(1,28).reshape((3,3,3))\n",
    "a=a%2\n",
    "a"
   ]
  },
  {
   "cell_type": "code",
   "execution_count": 18,
   "metadata": {},
   "outputs": [
    {
     "data": {
      "text/plain": [
       "array([[0.68158572, 0.36415256, 0.46749798],\n",
       "       [0.52071545, 0.8899189 , 0.34005435]])"
      ]
     },
     "execution_count": 18,
     "metadata": {},
     "output_type": "execute_result"
    }
   ],
   "source": [
    "a=np.random.rand(2,3)\n",
    "a"
   ]
  },
  {
   "cell_type": "code",
   "execution_count": 19,
   "metadata": {},
   "outputs": [
    {
     "name": "stdout",
     "output_type": "stream",
     "text": [
      "[[[[[ 8.64753973e-01 -6.48943410e-01 -1.44304875e+00  1.66518032e+00\n",
      "      1.75428491e-01]\n",
      "    [ 1.88103521e+00 -7.26364582e-01  5.86529568e-01 -7.33201553e-01\n",
      "     -1.34794830e+00]\n",
      "    [-1.99284709e+00 -6.69076273e-01  1.07525913e+00  8.42856084e-01\n",
      "      6.05479803e-01]\n",
      "    [-7.78671423e-01 -1.03331988e+00 -1.84171117e-02 -8.59832237e-01\n",
      "      1.34876696e-01]\n",
      "    [-7.93418927e-01  1.72003058e-01 -1.30308068e+00  6.04697317e-01\n",
      "      9.51953046e-01]]\n",
      "\n",
      "   [[ 1.18025882e+00  2.64309959e-01  8.30872064e-02 -1.12665618e+00\n",
      "      7.58066304e-02]\n",
      "    [ 1.88151446e+00 -3.53495222e-01  8.42119437e-01  1.18468246e+00\n",
      "      2.53662238e-01]\n",
      "    [ 6.21945006e-01  2.18117906e-01 -1.56745445e-01 -4.53717964e-01\n",
      "      1.26554003e-02]\n",
      "    [ 1.89602491e+00 -1.45146998e+00 -6.15089574e-01  5.30923997e-01\n",
      "     -4.66023495e-01]\n",
      "    [ 1.84078231e+00 -1.42981972e+00 -1.79121104e+00  8.30547043e-01\n",
      "      1.14450123e-04]]\n",
      "\n",
      "   [[ 1.37801206e+00  2.05952326e-02  8.21821862e-01 -2.01471408e-01\n",
      "      1.42831617e+00]\n",
      "    [-5.22592812e-01 -1.06209028e+00  6.94709419e-01 -1.03948320e+00\n",
      "      2.82970902e-01]\n",
      "    [-7.76661569e-01  4.29980568e-01  9.37788377e-01  1.51835961e+00\n",
      "     -1.05125768e+00]\n",
      "    [-1.11280642e+00 -2.10348599e+00  8.71217203e-01 -4.41332020e-01\n",
      "     -1.29676589e+00]\n",
      "    [ 1.13725662e+00 -1.43648316e+00 -8.88042627e-01 -3.77096312e-01\n",
      "     -5.42749156e-01]]\n",
      "\n",
      "   [[ 8.39104068e-02 -2.05050660e-01  6.39698587e-01  5.00883147e-02\n",
      "      6.84361706e-01]\n",
      "    [-1.23285338e+00  6.25130510e-01 -1.08901757e+00 -4.05037057e-01\n",
      "     -1.11006784e+00]\n",
      "    [-5.02600971e-01  6.71259350e-01  2.21306068e+00  3.08474069e-02\n",
      "     -1.18564684e-01]\n",
      "    [-8.73374561e-01  2.89123027e-01 -1.17802501e+00  3.88992656e-01\n",
      "      1.04013370e+00]\n",
      "    [-8.26414067e-01 -8.17674900e-01  3.91219983e-01 -1.51064051e-01\n",
      "      2.88188549e-01]]]\n",
      "\n",
      "\n",
      "  [[[-9.59702447e-02 -1.22493565e+00  2.12606890e+00 -1.19394246e+00\n",
      "      1.67991644e+00]\n",
      "    [ 3.12565062e-01  1.56223015e+00 -4.05038094e-01 -4.92817441e-01\n",
      "     -6.06791031e-01]\n",
      "    [-1.45779545e+00 -1.17852760e+00 -7.16587263e-02  7.05566358e-01\n",
      "      3.55611466e-01]\n",
      "    [ 1.36335847e+00  3.02435820e-01  6.69409893e-01  7.72748435e-01\n",
      "     -5.62151171e-01]\n",
      "    [ 1.36641172e+00  2.29294660e+00  4.05122502e-01  1.81317454e+00\n",
      "     -2.81455624e-01]]\n",
      "\n",
      "   [[ 1.07088675e+00  5.58854724e-01  1.07908893e+00 -7.25307714e-01\n",
      "      3.42234168e-01]\n",
      "    [-6.23775134e-01 -2.43657995e-01 -6.42172462e-01 -7.41366863e-01\n",
      "     -1.01224786e+00]\n",
      "    [-3.34004808e-01  6.26192334e-01 -3.64792337e-01 -1.72799825e+00\n",
      "      4.45078336e-01]\n",
      "    [ 4.99137575e-01 -2.04938624e+00 -5.53240922e-01  9.59888044e-01\n",
      "      4.64172783e-01]\n",
      "    [ 1.04768672e-02 -4.08532327e-01 -5.89990285e-01  1.03577189e+00\n",
      "     -5.01750111e-01]]\n",
      "\n",
      "   [[ 3.43478433e-01  1.09072114e+00  9.01490166e-01 -5.60095709e-01\n",
      "      5.30128637e-01]\n",
      "    [-4.83404124e-01  6.22361423e-01 -9.59062028e-01  1.23046230e+00\n",
      "      1.24377560e+00]\n",
      "    [ 1.82805085e+00 -1.30256291e-01 -1.29193209e+00  6.45476322e-01\n",
      "      1.57351408e-01]\n",
      "    [ 1.79432700e-01  2.62824724e-01 -8.12120141e-01 -1.46155777e+00\n",
      "     -5.46497672e-01]\n",
      "    [ 2.09807232e-01 -1.15362085e+00 -1.07093944e-01  4.65049074e-01\n",
      "     -7.54927631e-01]]\n",
      "\n",
      "   [[-3.46917453e-01  7.03427687e-01 -5.41594184e-01 -2.18226111e-01\n",
      "      8.49946438e-01]\n",
      "    [ 5.58217299e-01 -3.55876687e-01 -4.69972312e-01  5.83342834e-01\n",
      "     -4.67631340e-01]\n",
      "    [ 1.45974482e+00 -1.53757208e-02 -1.35037858e+00 -4.20101265e-01\n",
      "     -6.80437268e-01]\n",
      "    [-7.89648025e-01 -4.64421283e-02 -4.98339366e-01 -2.93993252e-01\n",
      "      4.13337847e-01]\n",
      "    [-9.08459882e-01 -3.74096411e-01  8.73074379e-01  5.36482559e-01\n",
      "      2.25737302e-01]]]\n",
      "\n",
      "\n",
      "  [[[-7.35398118e-01 -6.51239620e-01 -4.25208551e-01  3.18415841e-01\n",
      "      2.87360467e-01]\n",
      "    [ 9.84907516e-01  5.82953740e-01 -5.20294829e-01 -3.56623345e-01\n",
      "     -1.99886405e-01]\n",
      "    [-5.23854288e-01  1.61267643e+00 -2.55681180e-01 -2.76875300e+00\n",
      "      3.79037142e-02]\n",
      "    [-2.48965355e-01 -1.20105597e+00  3.20483153e-01 -1.29192220e-02\n",
      "     -8.44672519e-01]\n",
      "    [-4.81046390e-01  1.69014567e-01  9.99697174e-01  9.43250539e-01\n",
      "     -1.35753872e+00]]\n",
      "\n",
      "   [[-1.02291597e+00  5.54913625e-01  1.11992996e+00  1.32707802e+00\n",
      "      8.62205575e-02]\n",
      "    [ 1.73572430e+00 -4.05912853e-01 -1.13315739e+00 -6.83611766e-01\n",
      "      6.31537524e-01]\n",
      "    [-1.04661966e+00 -6.37095357e-02  4.53489621e-01 -6.36571984e-01\n",
      "      7.61318435e-01]\n",
      "    [-6.58425531e-01  1.02727606e+00 -2.14368878e-01  1.64414859e+00\n",
      "      7.11151548e-02]\n",
      "    [ 4.21295928e-01  3.00618512e-01 -1.78836495e+00  1.54895391e+00\n",
      "     -6.06210876e-01]]\n",
      "\n",
      "   [[-5.12879554e-01  1.26313312e-01  1.89726201e+00  1.05477326e+00\n",
      "     -1.87976111e+00]\n",
      "    [-1.23333740e+00 -1.77976565e+00 -8.56561976e-01  6.10914535e-01\n",
      "     -1.69138453e+00]\n",
      "    [-6.11207722e-01 -4.56922351e-01 -2.47324949e+00 -1.76713059e+00\n",
      "      1.28892140e-01]\n",
      "    [ 2.27524859e-01  1.23279439e+00 -1.55365920e+00 -1.91707273e+00\n",
      "      2.13354089e-01]\n",
      "    [ 3.35313744e+00 -7.62159852e-01 -6.12518538e-01 -5.67171825e-01\n",
      "      5.31325424e-01]]\n",
      "\n",
      "   [[-9.33228548e-03 -1.41882042e+00  2.02240961e-02 -4.47879248e-01\n",
      "     -5.17574114e-01]\n",
      "    [-6.48265432e-01 -1.50812902e+00  8.82515689e-01 -8.03805497e-01\n",
      "     -8.77705479e-01]\n",
      "    [-7.03593967e-01 -6.42134601e-01  2.58593043e-01 -9.93667991e-01\n",
      "      1.16255008e-01]\n",
      "    [-9.76490097e-02  9.38276843e-01  4.10615686e-02  1.68834000e+00\n",
      "      1.42233873e-01]\n",
      "    [-2.03037225e+00 -1.17598782e+00  1.25028243e+00  1.25813883e-01\n",
      "     -2.23700053e+00]]]]\n",
      "\n",
      "\n",
      "\n",
      " [[[[-1.94260016e+00 -7.46172755e-01 -4.88541540e-02 -7.54297811e-02\n",
      "      1.76477196e-01]\n",
      "    [ 3.77283148e-01  2.22678934e+00 -6.52877062e-01  3.87098218e-01\n",
      "      2.76223743e-01]\n",
      "    [ 5.72411912e-02  7.56422930e-01 -1.96990537e+00 -7.03478180e-01\n",
      "      1.20619837e+00]\n",
      "    [-1.43668022e+00 -5.46626592e-02  2.59668113e-01  3.08943571e-01\n",
      "     -9.77752891e-01]\n",
      "    [ 1.55194325e+00  1.08867955e+00 -3.57890265e-01  6.41356293e-02\n",
      "     -1.32247575e-01]]\n",
      "\n",
      "   [[-9.29031792e-01  7.89016528e-01  3.91621487e-01 -1.23174793e-01\n",
      "      8.34768957e-01]\n",
      "    [ 1.76699027e-01 -6.58664064e-02  2.29231056e-01  3.48678381e-01\n",
      "      5.47888929e-01]\n",
      "    [-1.51186163e+00 -1.78607922e-01 -4.39724781e-01 -6.89347080e-01\n",
      "     -6.56884498e-01]\n",
      "    [ 1.27074997e+00  6.69059157e-01  2.56628460e-01 -6.84834256e-02\n",
      "      2.23709317e+00]\n",
      "    [ 1.02743483e+00  6.43566790e-01 -5.34720315e-01 -1.70455014e+00\n",
      "     -1.76393506e-01]]\n",
      "\n",
      "   [[ 3.63648851e-01  1.85812346e-01  7.10098320e-02  9.34776512e-01\n",
      "     -9.77009954e-02]\n",
      "    [ 7.95736939e-01  1.13607190e+00  2.06127325e+00  4.23556188e-01\n",
      "      2.15446834e+00]\n",
      "    [-2.14307693e+00 -6.14696008e-01  1.03257744e+00  1.41473621e+00\n",
      "      1.36183939e+00]\n",
      "    [-1.34647908e+00  1.14734062e+00  1.22242428e+00 -1.33746785e+00\n",
      "      1.32915540e+00]\n",
      "    [-7.54491211e-01  2.53442852e-02  1.89092716e+00 -5.13599314e-01\n",
      "     -9.74805434e-01]]\n",
      "\n",
      "   [[-8.77964223e-01 -1.09914032e+00  1.47335252e+00  2.40745233e-03\n",
      "      1.51909167e+00]\n",
      "    [-7.49495109e-01 -5.17891784e-01 -7.63057470e-01 -8.90663570e-01\n",
      "      8.48349523e-02]\n",
      "    [-1.96751407e+00  1.36689661e+00  9.79143056e-01  1.99981704e+00\n",
      "     -9.35056813e-01]\n",
      "    [-4.92097007e-01  2.47774758e-01 -1.23097081e+00  2.71752667e-01\n",
      "     -1.07695758e+00]\n",
      "    [ 1.78533405e-01 -8.61231692e-01 -1.43144602e+00 -3.87180468e-02\n",
      "     -2.16265292e+00]]]\n",
      "\n",
      "\n",
      "  [[[ 1.17078867e+00  1.85662463e+00 -1.35082636e+00  3.55400238e-01\n",
      "     -1.65836983e+00]\n",
      "    [ 7.66798935e-01  6.55198299e-01 -6.56079444e-01  3.91662576e-01\n",
      "     -7.56609514e-01]\n",
      "    [-1.43389538e+00 -3.83488117e-01 -9.22272136e-02  6.11098252e-01\n",
      "     -3.00151637e-01]\n",
      "    [-9.83894279e-01 -2.04251677e-02 -5.78499617e-01  2.20358118e-01\n",
      "     -1.08530810e-01]\n",
      "    [ 1.02704954e+00 -7.42699378e-02  3.85890624e-01  8.83145899e-01\n",
      "     -1.22141124e+00]]\n",
      "\n",
      "   [[ 6.70467713e-02 -5.59045062e-01  1.02672241e-01  2.11243292e+00\n",
      "      8.10906811e-01]\n",
      "    [ 9.50846173e-01  1.05199226e+00 -9.06880023e-01 -1.21995224e+00\n",
      "      3.40592266e-01]\n",
      "    [-5.38088979e-01  3.84023210e-01  3.87276149e-01  1.09148962e+00\n",
      "     -8.47133632e-01]\n",
      "    [-1.00279642e+00 -1.06071698e+00 -7.46388016e-01 -1.19763331e+00\n",
      "      3.04035716e-01]\n",
      "    [-1.50744487e+00 -1.51033701e-01  4.77692525e-01 -4.47186090e-01\n",
      "      3.64704597e-01]]\n",
      "\n",
      "   [[ 1.09839339e+00  3.21359994e-01 -3.05327723e-01 -1.44684368e+00\n",
      "      6.43311089e-01]\n",
      "    [ 9.97724999e-01  1.65777774e+00 -5.54427956e-01 -5.83992698e-01\n",
      "     -1.20509719e-01]\n",
      "    [-6.30861643e-01  2.67655626e-01 -8.51559980e-01  7.54216385e-01\n",
      "     -4.23013860e-01]\n",
      "    [ 5.21338163e-02 -1.18687567e+00  5.96177581e-01  4.82965629e-01\n",
      "      7.56152992e-01]\n",
      "    [-1.14980314e+00 -1.09182990e+00  2.41585083e+00  2.45967794e+00\n",
      "      1.31810752e-01]]\n",
      "\n",
      "   [[-1.06729418e+00 -3.46708197e-01  1.60803566e+00  7.21698825e-01\n",
      "      8.01885704e-01]\n",
      "    [-9.20570497e-01 -9.61977154e-01 -2.32800932e-01 -4.68001031e-01\n",
      "     -2.08670916e+00]\n",
      "    [-2.26165996e-01  1.82129860e+00 -2.55229241e-01 -1.04063435e+00\n",
      "      1.29224840e+00]\n",
      "    [-7.59226164e-01 -8.09277774e-01 -3.62302115e-01 -1.41298468e+00\n",
      "     -9.02069322e-01]\n",
      "    [ 2.09111497e+00 -8.91212202e-01  1.62861993e-01  2.97852900e-01\n",
      "      4.10808275e-01]]]\n",
      "\n",
      "\n",
      "  [[[ 3.04579863e+00  3.58633712e-01  1.95628485e-01 -7.75591577e-02\n",
      "     -3.85343336e-01]\n",
      "    [-8.29394029e-01  1.24231745e+00 -1.06135674e-01  2.36160865e+00\n",
      "      5.08598770e-01]\n",
      "    [-1.14030988e+00  3.23535539e-02 -1.21147400e-01  4.21927785e-01\n",
      "      1.18005200e+00]\n",
      "    [ 9.79271522e-02 -7.68009339e-01  1.39594660e-01 -1.19348148e+00\n",
      "      6.55684586e-01]\n",
      "    [ 2.38555601e-01  6.18604178e-01  3.98756882e-01  1.28889934e+00\n",
      "      6.50033468e-01]]\n",
      "\n",
      "   [[ 6.65461672e-02 -4.20489923e-01  8.82645663e-01 -8.25214474e-01\n",
      "      7.64365201e-02]\n",
      "    [ 1.08643538e+00  3.19979362e-01 -2.99025534e-01 -4.23536754e-01\n",
      "     -8.75815842e-01]\n",
      "    [-1.36000036e-01 -7.08612171e-01  7.43285152e-01 -4.75960983e-01\n",
      "     -8.58053161e-01]\n",
      "    [ 4.29034679e-01 -9.91101720e-01 -9.97366401e-01 -3.65714014e-01\n",
      "      7.38934872e-01]\n",
      "    [ 1.52681925e+00 -3.35815031e-02  1.08595584e+00  7.37201635e-01\n",
      "      6.83090726e-01]]\n",
      "\n",
      "   [[ 1.13520508e+00 -3.07627399e-01 -3.09284482e-01  2.19092728e-02\n",
      "     -9.36471650e-01]\n",
      "    [-2.11511582e-01 -7.35939378e-01 -2.07673063e-01 -3.56725107e-01\n",
      "     -1.50384256e+00]\n",
      "    [ 8.14641270e-01  8.86142692e-01 -1.29829287e+00  1.00639959e+00\n",
      "      1.43069162e+00]\n",
      "    [-1.55300409e+00  2.25649797e-01  2.54901396e-01 -4.64864210e-01\n",
      "     -2.01951903e-01]\n",
      "    [-2.87801183e-01  8.11562258e-01 -3.80682084e-01 -1.72680678e+00\n",
      "     -1.72349365e+00]]\n",
      "\n",
      "   [[-1.91471973e+00 -4.38312496e-03  4.11503179e-01  8.80209421e-01\n",
      "     -2.62772988e-01]\n",
      "    [ 7.59827387e-01  3.85211834e-01 -1.34433011e+00 -8.55830746e-01\n",
      "     -3.06834335e-01]\n",
      "    [-3.78606960e-01 -7.59383518e-03  1.36216703e-01  8.86132053e-01\n",
      "     -7.32071315e-01]\n",
      "    [-1.66413450e+00 -1.56496034e+00 -1.09841652e-01  4.23535416e-01\n",
      "     -1.79914086e+00]\n",
      "    [-2.35236961e-01  4.83862560e-02  6.38846014e-01 -1.03747345e+00\n",
      "     -1.60674414e+00]]]]]\n",
      "5\n",
      "(2, 3, 4, 5, 5)\n"
     ]
    }
   ],
   "source": [
    "#5 dimension array \n",
    "a=np.random.randn(2,3,4,5,5)\n",
    "                #row,#columns\n",
    "print(a)\n",
    "print(a.ndim)\n",
    "print(a.shape)"
   ]
  },
  {
   "cell_type": "code",
   "execution_count": 20,
   "metadata": {},
   "outputs": [
    {
     "name": "stdout",
     "output_type": "stream",
     "text": [
      "[[7 3 6 1 2 8]\n",
      " [2 4 3 1 5 6]]\n",
      " \n",
      "[[49  9 36  1  4 64]\n",
      " [ 4 16  9  1 25 36]]\n"
     ]
    }
   ],
   "source": [
    "a=np.random.randint(1,10,size=(2,6)) #row,#column\n",
    "print(a)\n",
    "print(' ')\n",
    "print(a * a)"
   ]
  },
  {
   "cell_type": "code",
   "execution_count": 21,
   "metadata": {},
   "outputs": [
    {
     "data": {
      "text/plain": [
       "(2, 6)"
      ]
     },
     "execution_count": 21,
     "metadata": {},
     "output_type": "execute_result"
    }
   ],
   "source": [
    "a.shape"
   ]
  },
  {
   "cell_type": "markdown",
   "metadata": {},
   "source": [
    "## Creating ndarrys\n",
    "how many ways to creat array<br>\n",
    "\n",
    "\n"
   ]
  },
  {
   "cell_type": "code",
   "execution_count": 22,
   "metadata": {},
   "outputs": [
    {
     "name": "stdout",
     "output_type": "stream",
     "text": [
      "int32\n",
      "<class 'numpy.ndarray'>\n"
     ]
    },
    {
     "data": {
      "text/plain": [
       "dtype('int32')"
      ]
     },
     "execution_count": 22,
     "metadata": {},
     "output_type": "execute_result"
    }
   ],
   "source": [
    "#in list we can add different data type in same list 'hetroganses data'\n",
    "#in array [advantages and disadvantages] we have 'homogeneus data'\n",
    "#in array once you define size it will remian same u cannot increase no of rows and columns\n",
    "#the backend memeory is locked when array is created\n",
    "a=[1,2,3]\n",
    "a=np.array(a)\n",
    "print(a.dtype)\n",
    "print(type(a))\n",
    "a.dtype"
   ]
  },
  {
   "cell_type": "code",
   "execution_count": 23,
   "metadata": {},
   "outputs": [
    {
     "name": "stdout",
     "output_type": "stream",
     "text": [
      "int32\n",
      "<class 'numpy.ndarray'>\n"
     ]
    },
    {
     "data": {
      "text/plain": [
       "dtype('int32')"
      ]
     },
     "execution_count": 23,
     "metadata": {},
     "output_type": "execute_result"
    }
   ],
   "source": [
    "a=(1,2,3) \n",
    "a=np.array(a)\n",
    "print(a.dtype)\n",
    "print(type(a))\n",
    "a.dtype"
   ]
  },
  {
   "cell_type": "code",
   "execution_count": 24,
   "metadata": {},
   "outputs": [
    {
     "name": "stdout",
     "output_type": "stream",
     "text": [
      "object\n",
      "<class 'numpy.ndarray'>\n"
     ]
    },
    {
     "data": {
      "text/plain": [
       "dtype('O')"
      ]
     },
     "execution_count": 24,
     "metadata": {},
     "output_type": "execute_result"
    }
   ],
   "source": [
    "a={1,2,3}\n",
    "a=np.array(a)\n",
    "print(a.dtype)\n",
    "print(type(a))\n",
    "a.dtype"
   ]
  },
  {
   "cell_type": "markdown",
   "metadata": {},
   "source": [
    "# np.array\n",
    "it always copy"
   ]
  },
  {
   "cell_type": "code",
   "execution_count": 25,
   "metadata": {},
   "outputs": [
    {
     "data": {
      "text/plain": [
       "False"
      ]
     },
     "execution_count": 25,
     "metadata": {},
     "output_type": "execute_result"
    }
   ],
   "source": [
    "l=[1,2,3]\n",
    "a=np.array(l)\n",
    "a is l  #this mea there backend memeory is different"
   ]
  },
  {
   "cell_type": "code",
   "execution_count": 26,
   "metadata": {},
   "outputs": [
    {
     "data": {
      "text/plain": [
       "False"
      ]
     },
     "execution_count": 26,
     "metadata": {},
     "output_type": "execute_result"
    }
   ],
   "source": [
    "l=[1,2,3]\n",
    "a=np.array(l)\n",
    "b=np.array(a)  # array() did deep copy have different id\n",
    "\n",
    "a is b  "
   ]
  },
  {
   "cell_type": "code",
   "execution_count": 27,
   "metadata": {},
   "outputs": [
    {
     "data": {
      "text/plain": [
       "True"
      ]
     },
     "execution_count": 27,
     "metadata": {},
     "output_type": "execute_result"
    }
   ],
   "source": [
    "l=[1,2,3]\n",
    "a=np.asarray(l)\n",
    "b=np.asarray(a)  #did shallow copy asarray()\n",
    "\n",
    "a is b"
   ]
  },
  {
   "cell_type": "markdown",
   "metadata": {},
   "source": [
    "# task ::>Complete chapter 4"
   ]
  },
  {
   "cell_type": "code",
   "execution_count": 28,
   "metadata": {},
   "outputs": [],
   "source": [
    "#do chapter 4 and practice and publish on git\n",
    "#numpy.org  >numpy tutorial read from here \n",
    "#complete chapter"
   ]
  },
  {
   "cell_type": "raw",
   "metadata": {},
   "source": [
    "toyota=1\n",
    "honda=2\n",
    "suzuki=3\n",
    "------------------------\n",
    "toyota : [landcruser,corola,vitz,mazda]   4,5,6,7,8\n",
    "honda  : [civic,city,Acura,Fit]     9,10,11,12\n",
    "suzuki : [piickup,box,mehran,swift] 13,14,15,16\n",
    "\n",
    "landcruser,corola,vitz ---each -->has ---blue,white,black,gray,red \n",
    "civic,city,Acura,Fit ---each -->has ---blue,white,black,gray,red  (17,18,19,29,21)  (22,23,24,25,26)(26,27,28,29)\n",
    "piickup,box,mehran,swift ---each -->has --blue,white,black,gray,red "
   ]
  },
  {
   "cell_type": "code",
   "execution_count": 29,
   "metadata": {},
   "outputs": [],
   "source": [
    "import numpy as np"
   ]
  },
  {
   "cell_type": "code",
   "execution_count": 30,
   "metadata": {},
   "outputs": [
    {
     "data": {
      "text/plain": [
       "array([[[ 1,  2,  3,  4,  5],\n",
       "        [ 6,  7,  8,  9, 10],\n",
       "        [11, 12, 13, 14, 15],\n",
       "        [16, 17, 18, 19, 20]],\n",
       "\n",
       "       [[21, 22, 23, 24, 25],\n",
       "        [26, 27, 28, 29, 30],\n",
       "        [31, 32, 33, 34, 35],\n",
       "        [36, 37, 38, 39, 40]],\n",
       "\n",
       "       [[41, 42, 43, 44, 45],\n",
       "        [46, 47, 48, 49, 50],\n",
       "        [51, 52, 53, 54, 55],\n",
       "        [56, 57, 58, 59, 60]]])"
      ]
     },
     "execution_count": 30,
     "metadata": {},
     "output_type": "execute_result"
    }
   ],
   "source": [
    "np.arange(1,61).reshape(3,4,5) #check out reshap \n",
    "\n",
    "#levelfirst has 3 companies\n",
    "#level2nd has 4 car types for each companie\n",
    "#leve rd has c5 colors for each car type"
   ]
  },
  {
   "cell_type": "raw",
   "metadata": {},
   "source": [
    " [                                                                                                                     ]  \n",
    "              [                    ]   ,  [                             ],        [                           ]   \n",
    "              \n",
    "                  [],[],[],[]                        [],[],[],[]                          [],[],[],[]\n",
    "                   | |   |  |\n",
    "                   | |   |  |\n",
    "                   | |   |  |\n",
    "[],[],[],[],[]-----| |   |  |\n",
    "[],[],[],[],[]-------|   |  |\n",
    "[],[],[],[],[]-----------|  |\n",
    "[],[],[],[],[]--------------|\n",
    "\n",
    "                                           [],[],[],[],[]                                             [],[],[],[],[]\n",
    "                                               [],[],[],[],[]                                      [],[],[],[],[]\n",
    "                                           [],[],[],[],[]                                       [],[],[],[],[]\n",
    "                                               [],[],[],[],[]                                [],[],[],[],[]\n",
    "                                           [],[],[],[],[]                                 [],[],[],[],[]"
   ]
  },
  {
   "cell_type": "code",
   "execution_count": 31,
   "metadata": {},
   "outputs": [
    {
     "data": {
      "text/plain": [
       "array([[[[ 1,  2],\n",
       "         [ 3,  4],\n",
       "         [ 5,  6],\n",
       "         [ 7,  8]],\n",
       "\n",
       "        [[ 9, 10],\n",
       "         [11, 12],\n",
       "         [13, 14],\n",
       "         [15, 16]],\n",
       "\n",
       "        [[17, 18],\n",
       "         [19, 20],\n",
       "         [21, 22],\n",
       "         [23, 24]]],\n",
       "\n",
       "\n",
       "       [[[25, 26],\n",
       "         [27, 28],\n",
       "         [29, 30],\n",
       "         [31, 32]],\n",
       "\n",
       "        [[33, 34],\n",
       "         [35, 36],\n",
       "         [37, 38],\n",
       "         [39, 40]],\n",
       "\n",
       "        [[41, 42],\n",
       "         [43, 44],\n",
       "         [45, 46],\n",
       "         [47, 48]]]])"
      ]
     },
     "execution_count": 31,
     "metadata": {},
     "output_type": "execute_result"
    }
   ],
   "source": [
    "np.arange(1,49).reshape(2,3,4,2)"
   ]
  },
  {
   "cell_type": "code",
   "execution_count": 32,
   "metadata": {},
   "outputs": [
    {
     "data": {
      "text/plain": [
       "(3, 2, 3, 1, 1)"
      ]
     },
     "execution_count": 32,
     "metadata": {},
     "output_type": "execute_result"
    }
   ],
   "source": [
    "l1=3   #brother\n",
    "l2=2   #sons\n",
    "l3=3   #wifes\n",
    "l4=1  #children\n",
    "l5=1 #laptop\n",
    "total=l1*l2*l3*l4*l5\n",
    "np.arange(1,total+1).reshape(l1,l2,l3,l4,l5).shape"
   ]
  },
  {
   "cell_type": "code",
   "execution_count": 33,
   "metadata": {},
   "outputs": [
    {
     "data": {
      "text/plain": [
       "array([[['ali'],\n",
       "        ['arif'],\n",
       "        ['asif']],\n",
       "\n",
       "       [['abid'],\n",
       "        ['sohail'],\n",
       "        ['danial']],\n",
       "\n",
       "       [['jalaludin'],\n",
       "        ['sarfaraz'],\n",
       "        ['chudri']]], dtype='<U9')"
      ]
     },
     "execution_count": 33,
     "metadata": {},
     "output_type": "execute_result"
    }
   ],
   "source": [
    "np.array(['ali','arif','asif','abid','sohail','danial','jalaludin','sarfaraz','chudri']).reshape(3,3,1)"
   ]
  },
  {
   "cell_type": "code",
   "execution_count": 34,
   "metadata": {},
   "outputs": [
    {
     "data": {
      "text/plain": [
       "array([[[1., 1., 1.],\n",
       "        [1., 1., 1.],\n",
       "        [1., 1., 1.]],\n",
       "\n",
       "       [[1., 1., 1.],\n",
       "        [1., 1., 1.],\n",
       "        [1., 1., 1.]],\n",
       "\n",
       "       [[1., 1., 1.],\n",
       "        [1., 1., 1.],\n",
       "        [1., 1., 1.]]])"
      ]
     },
     "execution_count": 34,
     "metadata": {},
     "output_type": "execute_result"
    }
   ],
   "source": [
    "np.ones((3,3,3))"
   ]
  },
  {
   "cell_type": "code",
   "execution_count": 35,
   "metadata": {},
   "outputs": [
    {
     "data": {
      "text/plain": [
       "array([[[0., 0., 0.],\n",
       "        [0., 0., 0.]],\n",
       "\n",
       "       [[0., 0., 0.],\n",
       "        [0., 0., 0.]],\n",
       "\n",
       "       [[0., 0., 0.],\n",
       "        [0., 0., 0.]],\n",
       "\n",
       "       [[0., 0., 0.],\n",
       "        [0., 0., 0.]]])"
      ]
     },
     "execution_count": 35,
     "metadata": {},
     "output_type": "execute_result"
    }
   ],
   "source": [
    "np.zeros((4,2,3))"
   ]
  },
  {
   "cell_type": "code",
   "execution_count": 36,
   "metadata": {},
   "outputs": [
    {
     "data": {
      "text/plain": [
       "array([[ 543716457,  544437353, 1668506980],\n",
       "       [1953524082, 1936617321, 2064255546],\n",
       "       [1937010799, 1936024671, 1628077411],\n",
       "       [       673, 1936024586, 1651077731],\n",
       "       [1886347109, 1852795252, 1952542760],\n",
       "       [1885282348, 1953393010, 1936024671],\n",
       "       [1631993187,  694514540, 1917848074]])"
      ]
     },
     "execution_count": 36,
     "metadata": {},
     "output_type": "execute_result"
    }
   ],
   "source": [
    "np.empty((7,3),dtype=int)"
   ]
  },
  {
   "cell_type": "code",
   "execution_count": 37,
   "metadata": {},
   "outputs": [
    {
     "data": {
      "text/plain": [
       "array([[0., 0., 1.],\n",
       "       [0., 0., 0.],\n",
       "       [0., 0., 0.],\n",
       "       [0., 0., 0.],\n",
       "       [0., 0., 0.],\n",
       "       [0., 0., 0.],\n",
       "       [0., 0., 0.],\n",
       "       [0., 0., 0.],\n",
       "       [0., 0., 0.],\n",
       "       [0., 0., 0.]])"
      ]
     },
     "execution_count": 37,
     "metadata": {},
     "output_type": "execute_result"
    }
   ],
   "source": [
    "np.eye(10,3,2)  #10 list \n",
    "                #each list has 3 values\n",
    "                #start diagonal values (1) from 2nd index\n",
    "                #rest values other then diagnoal path are 0zeros"
   ]
  },
  {
   "cell_type": "code",
   "execution_count": 38,
   "metadata": {},
   "outputs": [
    {
     "data": {
      "text/plain": [
       "array([[1., 0., 0., 0., 0., 0., 0., 0., 0., 0.],\n",
       "       [0., 1., 0., 0., 0., 0., 0., 0., 0., 0.],\n",
       "       [0., 0., 1., 0., 0., 0., 0., 0., 0., 0.],\n",
       "       [0., 0., 0., 1., 0., 0., 0., 0., 0., 0.],\n",
       "       [0., 0., 0., 0., 1., 0., 0., 0., 0., 0.],\n",
       "       [0., 0., 0., 0., 0., 1., 0., 0., 0., 0.],\n",
       "       [0., 0., 0., 0., 0., 0., 1., 0., 0., 0.],\n",
       "       [0., 0., 0., 0., 0., 0., 0., 1., 0., 0.],\n",
       "       [0., 0., 0., 0., 0., 0., 0., 0., 1., 0.],\n",
       "       [0., 0., 0., 0., 0., 0., 0., 0., 0., 1.]])"
      ]
     },
     "execution_count": 38,
     "metadata": {},
     "output_type": "execute_result"
    }
   ],
   "source": [
    "np.eye(10) #just giving single value gives square matrix with 10 list and each has 10 values and diagnoal start from index 0"
   ]
  },
  {
   "cell_type": "code",
   "execution_count": 39,
   "metadata": {},
   "outputs": [
    {
     "data": {
      "text/plain": [
       "array([[1., 0., 0., 0., 0.],\n",
       "       [0., 1., 0., 0., 0.],\n",
       "       [0., 0., 1., 0., 0.],\n",
       "       [0., 0., 0., 1., 0.],\n",
       "       [0., 0., 0., 0., 1.],\n",
       "       [0., 0., 0., 0., 0.],\n",
       "       [0., 0., 0., 0., 0.],\n",
       "       [0., 0., 0., 0., 0.],\n",
       "       [0., 0., 0., 0., 0.],\n",
       "       [0., 0., 0., 0., 0.]])"
      ]
     },
     "execution_count": 39,
     "metadata": {},
     "output_type": "execute_result"
    }
   ],
   "source": [
    "np.eye(10,5) #this is 10 lists with 5 values in each and diagnoal start from 0 index  and then incremeat as move to next list"
   ]
  },
  {
   "cell_type": "code",
   "execution_count": 40,
   "metadata": {},
   "outputs": [
    {
     "data": {
      "text/plain": [
       "array([[0., 0., 1., 0., 0.],\n",
       "       [0., 0., 0., 1., 0.],\n",
       "       [0., 0., 0., 0., 1.],\n",
       "       [0., 0., 0., 0., 0.],\n",
       "       [0., 0., 0., 0., 0.],\n",
       "       [0., 0., 0., 0., 0.],\n",
       "       [0., 0., 0., 0., 0.],\n",
       "       [0., 0., 0., 0., 0.],\n",
       "       [0., 0., 0., 0., 0.],\n",
       "       [0., 0., 0., 0., 0.]])"
      ]
     },
     "execution_count": 40,
     "metadata": {},
     "output_type": "execute_result"
    }
   ],
   "source": [
    "np.eye(10,5,2) #10 lists each has 5 values and diagnol start from 2index and increment in nextlist"
   ]
  },
  {
   "cell_type": "code",
   "execution_count": 41,
   "metadata": {},
   "outputs": [
    {
     "data": {
      "text/plain": [
       "array([[0., 0., 0., 0., 0.],\n",
       "       [0., 0., 0., 0., 0.],\n",
       "       [0., 0., 0., 0., 0.],\n",
       "       [1., 0., 0., 0., 0.],\n",
       "       [0., 1., 0., 0., 0.],\n",
       "       [0., 0., 1., 0., 0.],\n",
       "       [0., 0., 0., 1., 0.],\n",
       "       [0., 0., 0., 0., 1.],\n",
       "       [0., 0., 0., 0., 0.],\n",
       "       [0., 0., 0., 0., 0.]])"
      ]
     },
     "execution_count": 41,
     "metadata": {},
     "output_type": "execute_result"
    }
   ],
   "source": [
    "np.eye(10,5,-3) #10 lists but indexing starts from 0 ends at 9\n",
    "                #5  elements in each list but indexing start from 0 ends at 4\n",
    "                #3rd argument is from where to start diagnoal entries\n",
    "                # -3 tells to start from 3rd index list (0index list is 1st one)\n",
    "                #if 3rd index is + it means postion with in 0 index list only\n",
    "                #np.eye(10,7,2) 10 means 0-9 index for lists ---no.of rows\n",
    "                #            7  means 0-6 index for elements --- no.of columns\n",
    "                #      k=7  +2 means  0th list 2 index element is going to be diagnoal and next would b incremented\n",
    "                # diagnoal values will be (1) rest will be zeros(0)"
   ]
  },
  {
   "cell_type": "code",
   "execution_count": 42,
   "metadata": {},
   "outputs": [
    {
     "data": {
      "text/plain": [
       "array([[0., 0., 1., 0., 0., 0., 0., 0., 0., 0.],\n",
       "       [0., 0., 0., 1., 0., 0., 0., 0., 0., 0.],\n",
       "       [0., 0., 0., 0., 1., 0., 0., 0., 0., 0.],\n",
       "       [0., 0., 0., 0., 0., 1., 0., 0., 0., 0.],\n",
       "       [0., 0., 0., 0., 0., 0., 1., 0., 0., 0.],\n",
       "       [0., 0., 0., 0., 0., 0., 0., 1., 0., 0.],\n",
       "       [0., 0., 0., 0., 0., 0., 0., 0., 1., 0.],\n",
       "       [0., 0., 0., 0., 0., 0., 0., 0., 0., 1.],\n",
       "       [0., 0., 0., 0., 0., 0., 0., 0., 0., 0.],\n",
       "       [0., 0., 0., 0., 0., 0., 0., 0., 0., 0.]])"
      ]
     },
     "execution_count": 42,
     "metadata": {},
     "output_type": "execute_result"
    }
   ],
   "source": [
    "np.eye(10,10,2,order='C') #10row len,10 col len  ,2 has two things + and 2\n",
    "                                                # + means move in columns right size\n",
    "                                                # start from 2nd index colum -diagnoal values\n",
    "                                                #row  index will always be zero"
   ]
  },
  {
   "cell_type": "code",
   "execution_count": 43,
   "metadata": {},
   "outputs": [
    {
     "data": {
      "text/plain": [
       "array([[0., 0., 0., 0., 0., 0., 0., 0., 0., 0.],\n",
       "       [0., 0., 0., 0., 0., 0., 0., 0., 0., 0.],\n",
       "       [1., 0., 0., 0., 0., 0., 0., 0., 0., 0.],\n",
       "       [0., 1., 0., 0., 0., 0., 0., 0., 0., 0.],\n",
       "       [0., 0., 1., 0., 0., 0., 0., 0., 0., 0.],\n",
       "       [0., 0., 0., 1., 0., 0., 0., 0., 0., 0.],\n",
       "       [0., 0., 0., 0., 1., 0., 0., 0., 0., 0.],\n",
       "       [0., 0., 0., 0., 0., 1., 0., 0., 0., 0.],\n",
       "       [0., 0., 0., 0., 0., 0., 1., 0., 0., 0.],\n",
       "       [0., 0., 0., 0., 0., 0., 0., 1., 0., 0.]])"
      ]
     },
     "execution_count": 43,
     "metadata": {},
     "output_type": "execute_result"
    }
   ],
   "source": [
    "np.eye(10,10,-2,order='C')  #10 rows length ,10 col lengths, -2 has two things  - and 2\n",
    "                                                            # - means move down in \"\"\"rows\"\"\" \n",
    "                                                            # 2 means start diagnoal from  2nd index row\n",
    "                                                            # colum index will always be zero"
   ]
  },
  {
   "attachments": {
    "image.png": {
     "image/png": "[encoded data removed]"
    }
   },
   "cell_type": "markdown",
   "metadata": {},
   "source": [
    "![image.png](attachment:image.png)<br>\n"
   ]
  },
  {
   "attachments": {
    "image.png": {
     "image/png": "[encoded data removed]"
    }
   },
   "cell_type": "markdown",
   "metadata": {},
   "source": [
    "![image.png](attachment:image.png)"
   ]
  },
  {
   "cell_type": "code",
   "execution_count": 44,
   "metadata": {},
   "outputs": [
    {
     "data": {
      "text/plain": [
       "dtype('int32')"
      ]
     },
     "execution_count": 44,
     "metadata": {},
     "output_type": "execute_result"
    }
   ],
   "source": [
    "a=np.array([1,2,3,4,5,6])\n",
    "a.dtype #attribut no brackets"
   ]
  },
  {
   "cell_type": "code",
   "execution_count": 45,
   "metadata": {},
   "outputs": [
    {
     "data": {
      "text/plain": [
       "(array([1, 2, 3, 4, 5, 6], dtype=int8),\n",
       " array([1., 2., 3., 4., 5., 6.], dtype=float32))"
      ]
     },
     "execution_count": 45,
     "metadata": {},
     "output_type": "execute_result"
    }
   ],
   "source": [
    "a.astype('i1'),a.astype('float32'),"
   ]
  },
  {
   "cell_type": "code",
   "execution_count": 46,
   "metadata": {},
   "outputs": [
    {
     "data": {
      "text/plain": [
       "(array([1.+0.j, 2.+0.j, 3.+0.j, 4.+0.j, 5.+0.j, 6.+0.j], dtype=complex64),\n",
       " array([ True,  True,  True,  True,  True,  True]))"
      ]
     },
     "execution_count": 46,
     "metadata": {},
     "output_type": "execute_result"
    }
   ],
   "source": [
    "a.astype('c8'),a.astype('?')"
   ]
  },
  {
   "cell_type": "code",
   "execution_count": 47,
   "metadata": {},
   "outputs": [
    {
     "data": {
      "text/plain": [
       "(array([b'1', b'2', b'3', b'4', b'5', b'6'], dtype='|S11'),\n",
       " array([1, 2, 3, 4, 5, 6], dtype=object))"
      ]
     },
     "execution_count": 47,
     "metadata": {},
     "output_type": "execute_result"
    }
   ],
   "source": [
    "a.astype('S'),a.astype('O')"
   ]
  },
  {
   "cell_type": "code",
   "execution_count": 48,
   "metadata": {},
   "outputs": [
    {
     "data": {
      "text/plain": [
       "array(['1', '2', '3', '4', '5', '6'], dtype='<U11')"
      ]
     },
     "execution_count": 48,
     "metadata": {},
     "output_type": "execute_result"
    }
   ],
   "source": [
    "a.astype('U')"
   ]
  },
  {
   "cell_type": "code",
   "execution_count": 49,
   "metadata": {},
   "outputs": [
    {
     "data": {
      "text/plain": [
       "array([b'1.25', b'-9.6', b'42'], dtype='|S4')"
      ]
     },
     "execution_count": 49,
     "metadata": {},
     "output_type": "execute_result"
    }
   ],
   "source": [
    "np.array([1.25, -9.6, 42], dtype=np.string_)"
   ]
  },
  {
   "cell_type": "code",
   "execution_count": 50,
   "metadata": {},
   "outputs": [
    {
     "data": {
      "text/plain": [
       "array([b'1', b'-', b'4'], dtype='|S1')"
      ]
     },
     "execution_count": 50,
     "metadata": {},
     "output_type": "execute_result"
    }
   ],
   "source": [
    "np.array([1.25, -9.6, 42], dtype='S1')   #here i give 'S1' so it took only 1st of ech string"
   ]
  },
  {
   "cell_type": "code",
   "execution_count": 51,
   "metadata": {},
   "outputs": [
    {
     "data": {
      "text/plain": [
       "array([b'1.', b'-9', b'42'], dtype='|S2')"
      ]
     },
     "execution_count": 51,
     "metadata": {},
     "output_type": "execute_result"
    }
   ],
   "source": [
    "np.array([1.25, -9.6, 42], dtype='S2') #here two length string each"
   ]
  },
  {
   "cell_type": "code",
   "execution_count": 52,
   "metadata": {},
   "outputs": [
    {
     "data": {
      "text/plain": [
       "array([b'1.2', b'-9.', b'42'], dtype='|S3')"
      ]
     },
     "execution_count": 52,
     "metadata": {},
     "output_type": "execute_result"
    }
   ],
   "source": [
    "np.array([1.25, -9.6, 42], dtype='S3') #here 3length string each"
   ]
  },
  {
   "cell_type": "code",
   "execution_count": 53,
   "metadata": {},
   "outputs": [
    {
     "data": {
      "text/plain": [
       "array([b'1.25', b'-9.6', b'42'], dtype='|S4')"
      ]
     },
     "execution_count": 53,
     "metadata": {},
     "output_type": "execute_result"
    }
   ],
   "source": [
    "np.array([1.25, -9.6, 42], dtype='S4') #no we have all because -9.6 is 4length string"
   ]
  },
  {
   "cell_type": "code",
   "execution_count": 54,
   "metadata": {},
   "outputs": [
    {
     "data": {
      "text/plain": [
       "array([ 1.25, -9.6 , 42.  ], dtype=float32)"
      ]
     },
     "execution_count": 54,
     "metadata": {},
     "output_type": "execute_result"
    }
   ],
   "source": [
    "np.array([1.25, -9.6, 42], dtype=np.float32) #u can use np.floatxx as well"
   ]
  },
  {
   "cell_type": "markdown",
   "metadata": {},
   "source": [
    "# indexcing and Sclicing"
   ]
  },
  {
   "cell_type": "code",
   "execution_count": 55,
   "metadata": {},
   "outputs": [
    {
     "data": {
      "text/plain": [
       "array([b'school', b'food', b'hospital', b'factory', b'factory1',\n",
       "       b'factory3', b'entertainment', b'electronic'], dtype='|S13')"
      ]
     },
     "execution_count": 55,
     "metadata": {},
     "output_type": "execute_result"
    }
   ],
   "source": [
    "big=np.array(['school','food','hospital','factory','factory1','factory3','entertainment','electronic'],dtype=np.string_)\n",
    "big"
   ]
  },
  {
   "cell_type": "code",
   "execution_count": 56,
   "metadata": {},
   "outputs": [
    {
     "data": {
      "text/plain": [
       "dtype('S13')"
      ]
     },
     "execution_count": 56,
     "metadata": {},
     "output_type": "execute_result"
    }
   ],
   "source": [
    "big.dtype"
   ]
  },
  {
   "cell_type": "code",
   "execution_count": 57,
   "metadata": {},
   "outputs": [],
   "source": [
    "focus=big[3:6]"
   ]
  },
  {
   "cell_type": "code",
   "execution_count": 58,
   "metadata": {},
   "outputs": [],
   "source": [
    "focus[0]='FACTORY' #updation in our focuse array"
   ]
  },
  {
   "cell_type": "code",
   "execution_count": 59,
   "metadata": {},
   "outputs": [
    {
     "data": {
      "text/plain": [
       "array([b'FACTORY', b'factory1', b'factory3'], dtype='|S13')"
      ]
     },
     "execution_count": 59,
     "metadata": {},
     "output_type": "execute_result"
    }
   ],
   "source": [
    "focus     #see updation happen at 0 index factory"
   ]
  },
  {
   "cell_type": "code",
   "execution_count": 60,
   "metadata": {},
   "outputs": [
    {
     "data": {
      "text/plain": [
       "array([b'school', b'food', b'hospital', b'FACTORY', b'factory1',\n",
       "       b'factory3', b'entertainment', b'electronic'], dtype='|S13')"
      ]
     },
     "execution_count": 60,
     "metadata": {},
     "output_type": "execute_result"
    }
   ],
   "source": [
    "big  #same updation can me seen in big array"
   ]
  },
  {
   "cell_type": "code",
   "execution_count": 61,
   "metadata": {},
   "outputs": [],
   "source": [
    "#we just gave name 'focus' to fix portion  of big array  and did tuninig of it \n",
    "#just like your body  have heart lungs ,eyes \n",
    "#so when u goto doctor of eyes it only focuse on eyes \n",
    "#and do changes withour eyes \n",
    "#but this effect can also become part of your whole body\n",
    "#-------------------------------------------------------------\n",
    "#focus=big[3:6].copy()  do this if u want not to effect original now focus is new array"
   ]
  },
  {
   "cell_type": "code",
   "execution_count": 62,
   "metadata": {},
   "outputs": [
    {
     "data": {
      "text/plain": [
       "array([[0., 0., 1., 0., 0., 0., 0., 0., 0., 0.],\n",
       "       [0., 0., 0., 1., 0., 0., 0., 0., 0., 0.],\n",
       "       [0., 0., 0., 0., 1., 0., 0., 0., 0., 0.],\n",
       "       [0., 0., 0., 0., 0., 1., 0., 0., 0., 0.],\n",
       "       [0., 0., 0., 0., 0., 0., 1., 0., 0., 0.],\n",
       "       [0., 0., 0., 0., 0., 0., 0., 1., 0., 0.],\n",
       "       [0., 0., 0., 0., 0., 0., 0., 0., 1., 0.],\n",
       "       [0., 0., 0., 0., 0., 0., 0., 0., 0., 1.],\n",
       "       [0., 0., 0., 0., 0., 0., 0., 0., 0., 0.],\n",
       "       [0., 0., 0., 0., 0., 0., 0., 0., 0., 0.]])"
      ]
     },
     "execution_count": 62,
     "metadata": {},
     "output_type": "execute_result"
    }
   ],
   "source": [
    "d=np.eye(10,10,2,order='C')  #excessing using index\n",
    "d                             "
   ]
  },
  {
   "cell_type": "code",
   "execution_count": 63,
   "metadata": {},
   "outputs": [
    {
     "data": {
      "text/plain": [
       "1.0"
      ]
     },
     "execution_count": 63,
     "metadata": {},
     "output_type": "execute_result"
    }
   ],
   "source": [
    "d[0][2] #0 row #2 index colum  #we got "
   ]
  },
  {
   "cell_type": "code",
   "execution_count": 64,
   "metadata": {},
   "outputs": [
    {
     "data": {
      "text/plain": [
       "array([[['ali'],\n",
       "        ['arif'],\n",
       "        ['asif']],\n",
       "\n",
       "       [['abid'],\n",
       "        ['sohail'],\n",
       "        ['danial']],\n",
       "\n",
       "       [['jalaludin'],\n",
       "        ['sarfaraz'],\n",
       "        ['chudri']]], dtype='<U9')"
      ]
     },
     "execution_count": 64,
     "metadata": {},
     "output_type": "execute_result"
    }
   ],
   "source": [
    "names=np.array(['ali','arif','asif','abid','sohail','danial','jalaludin','sarfaraz','chudri']).reshape(3,3,1)\n",
    "names"
   ]
  },
  {
   "cell_type": "code",
   "execution_count": 65,
   "metadata": {},
   "outputs": [
    {
     "name": "stdout",
     "output_type": "stream",
     "text": [
      "\n",
      "2 index\n",
      "\n",
      "[['jalaludin']\n",
      " ['sarfaraz']\n",
      " ['chudri']]\n",
      "-------\n",
      "0 index\n",
      "\n",
      "['jalaludin']\n",
      "-------\n",
      "0 index\n",
      "\n",
      "jalaludin\n"
     ]
    }
   ],
   "source": [
    "#how to reach ---jalaludin--\n",
    "print('\\n2 index\\n')\n",
    "print(names[2]) #2nd index brothe\n",
    "print('-------\\n0 index\\n')\n",
    "print(names[2][0]) #0 index friend\n",
    "print('-------\\n0 index\\n')\n",
    "print(names[2][0][0]) #[0] index name"
   ]
  },
  {
   "cell_type": "code",
   "execution_count": 66,
   "metadata": {},
   "outputs": [
    {
     "data": {
      "text/plain": [
       "array([[['ali'],\n",
       "        ['arif'],\n",
       "        ['asif']],\n",
       "\n",
       "       [['abid'],\n",
       "        ['sohail'],\n",
       "        ['danial']],\n",
       "\n",
       "       [['jalaludin'],\n",
       "        ['sarfaraz'],\n",
       "        ['chudri']]], dtype='<U9')"
      ]
     },
     "execution_count": 66,
     "metadata": {},
     "output_type": "execute_result"
    }
   ],
   "source": [
    "names[2,0,0] #direct 2index list its 0 index lists its 0index value\n",
    "names"
   ]
  },
  {
   "cell_type": "code",
   "execution_count": 67,
   "metadata": {},
   "outputs": [
    {
     "data": {
      "text/plain": [
       "array([['asif'],\n",
       "       ['danial']], dtype='<U9')"
      ]
     },
     "execution_count": 67,
     "metadata": {},
     "output_type": "execute_result"
    }
   ],
   "source": [
    "names[:2,2] \n",
    "    #slice bigger lists from index 0 to 1   , #2nd index from each"
   ]
  },
  {
   "cell_type": "code",
   "execution_count": 68,
   "metadata": {},
   "outputs": [
    {
     "data": {
      "text/plain": [
       "array([[['ali'],\n",
       "        ['arif'],\n",
       "        ['asif']],\n",
       "\n",
       "       [['abid'],\n",
       "        ['sohail'],\n",
       "        ['danial']]], dtype='<U9')"
      ]
     },
     "execution_count": 68,
     "metadata": {},
     "output_type": "execute_result"
    }
   ],
   "source": [
    "# names[:2][2]  --- this give index error because last [2] means take 2index postion out of 0,1 so it does not have 2nd index\n",
    "names[:2]  #---seee it only have 2 0index and 1index"
   ]
  },
  {
   "cell_type": "code",
   "execution_count": 69,
   "metadata": {},
   "outputs": [
    {
     "data": {
      "text/plain": [
       "array([['asif'],\n",
       "       ['danial']], dtype='<U9')"
      ]
     },
     "execution_count": 69,
     "metadata": {},
     "output_type": "execute_result"
    }
   ],
   "source": [
    "#but\n",
    "names[:2,2] #means that pick 0,1 index list  and from each 0 as we as 1 pick 2index inner list"
   ]
  },
  {
   "cell_type": "code",
   "execution_count": 70,
   "metadata": {},
   "outputs": [],
   "source": [
    "#asif is 2index friend of 0index guy\n",
    "#danial is 2index friend of 1 index guy"
   ]
  },
  {
   "cell_type": "code",
   "execution_count": 71,
   "metadata": {},
   "outputs": [],
   "source": [
    "#names[:2,2]  is different then names[:2][2]"
   ]
  },
  {
   "cell_type": "code",
   "execution_count": 72,
   "metadata": {},
   "outputs": [
    {
     "data": {
      "text/plain": [
       "array([[   1,    2,    3, ...,  498,  499,  500],\n",
       "       [ 501,  502,  503, ...,  998,  999, 1000],\n",
       "       [1001, 1002, 1003, ..., 1498, 1499, 1500]])"
      ]
     },
     "execution_count": 72,
     "metadata": {},
     "output_type": "execute_result"
    }
   ],
   "source": [
    "#we have 500 students in each class and total we have 3 classes\n",
    "\n",
    "np.arange(1,1501).reshape(3,500)"
   ]
  },
  {
   "cell_type": "code",
   "execution_count": 73,
   "metadata": {},
   "outputs": [
    {
     "data": {
      "text/plain": [
       "array([[   1,    2,    3,    4,    5,    6,    7,    8,    9,   10],\n",
       "       [ 501,  502,  503,  504,  505,  506,  507,  508,  509,  510],\n",
       "       [1001, 1002, 1003, 1004, 1005, 1006, 1007, 1008, 1009, 1010]])"
      ]
     },
     "execution_count": 73,
     "metadata": {},
     "output_type": "execute_result"
    }
   ],
   "source": [
    "#now pic top 10 students from each class\n",
    "batch3AI=np.arange(1,1501).reshape(3,500)\n",
    "batch3AI[:,:10]"
   ]
  },
  {
   "cell_type": "code",
   "execution_count": 74,
   "metadata": {},
   "outputs": [],
   "source": [
    "days_of_year=np.arange(1,361).reshape(12,30)"
   ]
  },
  {
   "cell_type": "code",
   "execution_count": 75,
   "metadata": {},
   "outputs": [
    {
     "data": {
      "text/plain": [
       "array([[ 11,  12,  13,  14,  15,  16,  17,  18,  19,  20,  21],\n",
       "       [ 41,  42,  43,  44,  45,  46,  47,  48,  49,  50,  51],\n",
       "       [ 71,  72,  73,  74,  75,  76,  77,  78,  79,  80,  81],\n",
       "       [101, 102, 103, 104, 105, 106, 107, 108, 109, 110, 111],\n",
       "       [131, 132, 133, 134, 135, 136, 137, 138, 139, 140, 141],\n",
       "       [161, 162, 163, 164, 165, 166, 167, 168, 169, 170, 171],\n",
       "       [191, 192, 193, 194, 195, 196, 197, 198, 199, 200, 201],\n",
       "       [221, 222, 223, 224, 225, 226, 227, 228, 229, 230, 231],\n",
       "       [251, 252, 253, 254, 255, 256, 257, 258, 259, 260, 261],\n",
       "       [281, 282, 283, 284, 285, 286, 287, 288, 289, 290, 291],\n",
       "       [311, 312, 313, 314, 315, 316, 317, 318, 319, 320, 321],\n",
       "       [341, 342, 343, 344, 345, 346, 347, 348, 349, 350, 351]])"
      ]
     },
     "execution_count": 75,
     "metadata": {},
     "output_type": "execute_result"
    }
   ],
   "source": [
    "days_of_year[:     ,   10:21] #from all months ,       pick middle days  \n",
    "                             #so we gave :  for all,  #for middle we gave 10:21 "
   ]
  },
  {
   "cell_type": "code",
   "execution_count": 76,
   "metadata": {},
   "outputs": [
    {
     "ename": "IndexError",
     "evalue": "too many indices for array",
     "output_type": "error",
     "traceback": [
      "\u001b[1;31m---------------------------------------------------------------------------\u001b[0m",
      "\u001b[1;31mIndexError\u001b[0m                                Traceback (most recent call last)",
      "\u001b[1;32m<ipython-input-76-8a3088b90012>\u001b[0m in \u001b[0;36m<module>\u001b[1;34m\u001b[0m\n\u001b[0;32m      1\u001b[0m \u001b[1;31m#now to only get odd days only we can use another ,comma and do ::2\u001b[0m\u001b[1;33m\u001b[0m\u001b[1;33m\u001b[0m\u001b[1;33m\u001b[0m\u001b[0m\n\u001b[0;32m      2\u001b[0m \u001b[1;31m#but this give error as too much indexes\u001b[0m\u001b[1;33m\u001b[0m\u001b[1;33m\u001b[0m\u001b[1;33m\u001b[0m\u001b[0m\n\u001b[1;32m----> 3\u001b[1;33m \u001b[0mdays_of_year\u001b[0m\u001b[1;33m[\u001b[0m\u001b[1;33m:\u001b[0m     \u001b[1;33m,\u001b[0m   \u001b[1;36m10\u001b[0m\u001b[1;33m:\u001b[0m\u001b[1;36m21\u001b[0m\u001b[1;33m,\u001b[0m\u001b[1;33m:\u001b[0m\u001b[1;33m:\u001b[0m\u001b[1;36m2\u001b[0m\u001b[1;33m]\u001b[0m\u001b[1;33m\u001b[0m\u001b[1;33m\u001b[0m\u001b[0m\n\u001b[0m\u001b[0;32m      4\u001b[0m \u001b[1;31m#error too much indexes but this logic is ok ::2 means pick all but each 2nd element one ather the other\u001b[0m\u001b[1;33m\u001b[0m\u001b[1;33m\u001b[0m\u001b[1;33m\u001b[0m\u001b[0m\n\u001b[0;32m      5\u001b[0m \u001b[1;33m\u001b[0m\u001b[0m\n",
      "\u001b[1;31mIndexError\u001b[0m: too many indices for array"
     ]
    }
   ],
   "source": [
    "#now to only get odd days only we can use another ,comma and do ::2\n",
    "#but this give error as too much indexes \n",
    "days_of_year[:     ,   10:21,::2] \n",
    "#error too much indexes but this logic is ok ::2 means pick all but each 2nd element one ather the other\n",
    "\n",
    "\n"
   ]
  },
  {
   "cell_type": "code",
   "execution_count": null,
   "metadata": {},
   "outputs": [],
   "source": [
    "days_of_year[:     ,   10:21][:,::2]\n",
    "#but overhere we use outside slicing [:,::2] this out side pick the same arry using [:]\n",
    "#and use ,common to tell to pick from each \n",
    "#and what to pick from eah is ::2\n",
    "#pick all but 2nd one after the other\n"
   ]
  },
  {
   "cell_type": "code",
   "execution_count": null,
   "metadata": {},
   "outputs": [],
   "source": [
    "#u can also reshape it\n",
    "days_of_year[:     ,   10:21][:,::2]\n",
    "#now u can thinnk it as row and columns\n",
    "# [:,::2]\n",
    "#pick all rows :\n",
    "#, \n",
    "#: :2  pick all columns with 2nd next"
   ]
  },
  {
   "attachments": {
    "image.png": {
     "image/png": "[encoded data removed]"
    }
   },
   "cell_type": "markdown",
   "metadata": {},
   "source": [
    "![image.png](attachment:image.png)"
   ]
  },
  {
   "cell_type": "code",
   "execution_count": null,
   "metadata": {},
   "outputs": [],
   "source": [
    "# arr[:2,1:] -------------means pick rows 0,1,2      then from those row  only pic columns 1: all   skip 0th index one\n",
    "\n",
    "#https://www.geeksforgeeks.org/working-with-pdf-files-in-python/"
   ]
  },
  {
   "cell_type": "markdown",
   "metadata": {},
   "source": [
    "# Making Use of boolean Indexing on other array"
   ]
  },
  {
   "cell_type": "code",
   "execution_count": null,
   "metadata": {},
   "outputs": [],
   "source": []
  },
  {
   "cell_type": "markdown",
   "metadata": {},
   "source": [
    "#### first"
   ]
  },
  {
   "cell_type": "code",
   "execution_count": null,
   "metadata": {},
   "outputs": [],
   "source": [
    "required=np.array([False,False,True,True,True,False,False])"
   ]
  },
  {
   "cell_type": "code",
   "execution_count": null,
   "metadata": {},
   "outputs": [],
   "source": [
    "required"
   ]
  },
  {
   "cell_type": "code",
   "execution_count": null,
   "metadata": {},
   "outputs": [],
   "source": [
    "other=np.arange(1,29).reshape(7,4)"
   ]
  },
  {
   "cell_type": "code",
   "execution_count": null,
   "metadata": {},
   "outputs": [],
   "source": [
    "other[required] #the length of required array must be same of other\n",
    "                #if not then reduce the length of other or apply on only \n",
    "                #certain portion of \n",
    "                #other"
   ]
  },
  {
   "cell_type": "code",
   "execution_count": null,
   "metadata": {},
   "outputs": [],
   "source": [
    "other[required,:2] #after applying boolean what ever lists we left with\n",
    "                    #from each lefted list we took 0,1 indexed values only\n",
    "                    #u can see and compare it with above complete list\n",
    "                    #but here we only keep first two values from each \n",
    "                    #filtered survived listes"
   ]
  },
  {
   "cell_type": "markdown",
   "metadata": {},
   "source": [
    "#### second"
   ]
  },
  {
   "cell_type": "code",
   "execution_count": null,
   "metadata": {},
   "outputs": [],
   "source": [
    "required=np.array([False,False,True,True,False]) #here length is 5\n",
    "other #length is 7\n",
    "#so apply required on slice/portion of other with only 5 \n",
    "#first take slice \n",
    "#then on slice apply boolan\n",
    "# datasetfiltered[boolen apply]\n",
    "other[2:][required]"
   ]
  },
  {
   "cell_type": "code",
   "execution_count": null,
   "metadata": {},
   "outputs": [],
   "source": [
    "#now we can go deep and keep only last two from each\n",
    "other[2:][required,-2:]  #see \n",
    "                        #the required function performed its\n",
    "                        #filteration\n",
    "                        #those lists who servived filteration\n",
    "                        #we only kept last two using ,-2:\n",
    "                        #in this we did one extra step and that was\n",
    "                        #other[2:] because we wanted only that data that have\n",
    "                        # same length as of our bool length"
   ]
  },
  {
   "cell_type": "markdown",
   "metadata": {},
   "source": [
    "## Fencing indexing"
   ]
  },
  {
   "cell_type": "markdown",
   "metadata": {},
   "source": [
    "### for first without boolan"
   ]
  },
  {
   "cell_type": "code",
   "execution_count": null,
   "metadata": {},
   "outputs": [],
   "source": [
    "#doing without boolen if we know which one is True and which one is false\n",
    "#2 and 3  and 4 index is only true so lets pick only those\n",
    "required=np.array([False,False,True,True,True,False,False])\n",
    "other[[2,3, 4],:2]"
   ]
  },
  {
   "cell_type": "markdown",
   "metadata": {},
   "source": [
    "### for second without boolan\n"
   ]
  },
  {
   "cell_type": "code",
   "execution_count": null,
   "metadata": {},
   "outputs": [],
   "source": [
    "#we have to pick 4,5 index and then last 2two from each\n",
    "other[[4,5],-2:]"
   ]
  },
  {
   "cell_type": "markdown",
   "metadata": {},
   "source": [
    "### but with boolan we have advantage to use 'not'\n",
    "and get those which are not True"
   ]
  },
  {
   "cell_type": "code",
   "execution_count": null,
   "metadata": {},
   "outputs": [],
   "source": [
    "other \n",
    "#original"
   ]
  },
  {
   "cell_type": "code",
   "execution_count": null,
   "metadata": {},
   "outputs": [],
   "source": [
    "required=np.array([False,False,True,True,True,False,False])\n",
    "other[~required]\n",
    "#we use   ~ for not\n",
    "#so now we use ~ we get top two and bottom two\n",
    "#required is a boolan array thats why it worked"
   ]
  },
  {
   "cell_type": "code",
   "execution_count": null,
   "metadata": {},
   "outputs": [],
   "source": [
    "other[required]"
   ]
  },
  {
   "cell_type": "markdown",
   "metadata": {},
   "source": [
    "#### now using names array and then adding boolan condition to it and then using \n",
    "that boolan"
   ]
  },
  {
   "cell_type": "code",
   "execution_count": null,
   "metadata": {},
   "outputs": [],
   "source": [
    "\n",
    "names=np.array(['Bob', 'Joe', 'Will', 'Bob', 'Will', 'Joe', 'Joe'])"
   ]
  },
  {
   "cell_type": "code",
   "execution_count": null,
   "metadata": {},
   "outputs": [],
   "source": [
    "other[names=='Bob'] #we got first and middle"
   ]
  },
  {
   "cell_type": "code",
   "execution_count": null,
   "metadata": {},
   "outputs": [],
   "source": [
    "other[names=='Bob',0:2]"
   ]
  },
  {
   "cell_type": "markdown",
   "metadata": {},
   "source": [
    "#### strange behaviour it give \n",
    "0 from first list<br>\n",
    "-1 from second list<br>\n",
    "but we wanted 0,-1 from each survived list<br>"
   ]
  },
  {
   "cell_type": "code",
   "execution_count": null,
   "metadata": {},
   "outputs": [],
   "source": [
    "other[names=='Bob',[0,-1]] \n",
    "#this mean get me 0 from 1st list and -1 from 2nd list"
   ]
  },
  {
   "cell_type": "code",
   "execution_count": null,
   "metadata": {},
   "outputs": [],
   "source": [
    "other[names=='Bob',[0,0]] \n",
    "#now get me zero index from both"
   ]
  },
  {
   "cell_type": "code",
   "execution_count": null,
   "metadata": {},
   "outputs": [],
   "source": [
    "other[names==\"Bob\",   [     [0,0]  ,  [-1,-1]     ]   ]\n",
    "\n",
    "#basically when you use  [] after 'Bob',\n",
    "#you are recreating array \n",
    "#so if i directly pick index in side [] --> like [0,0]\n",
    "#first element of this array will be from 1st list\n",
    "#send element of this array will be from 2nd list\n",
    "#and in our case we pick 0th index from 1st list\n",
    "#and again we pick 0th index from 2nd list\n",
    "#and thats how it completed \n",
    "\n",
    "#we can create more sublists\n",
    "#by not directly  picking values\n",
    "#[\n",
    "#    [0,0],\n",
    "#    [-1,-1]\n",
    "#]\n",
    "\n",
    "#this will create a array with two lists similarly to what u made inside\n",
    "#but its first list have   0indexfrom 1st list ,   0index from 2nd list\n",
    "#its second list have     -1index from 1st list,   -1index from 2nd list\n",
    "#here disadvantage is that same list strucutre was not kept \n",
    "\n",
    "#below result does not mean 1 and 13 belong to first list\n",
    "#and 4,16 belong to second list\n",
    "\n",
    "#but 1 and 4 belong to 1st list and are 0th and -1 index respectivly\n",
    "#   13 qnd 16 belong to 2nd list and are 0th and -1 index respectively\n"
   ]
  },
  {
   "cell_type": "markdown",
   "metadata": {},
   "source": [
    "### solution is to do it in two steps\n",
    "## this way u can keep the structure "
   ]
  },
  {
   "cell_type": "code",
   "execution_count": null,
   "metadata": {},
   "outputs": [],
   "source": [
    "other[names=='Bob'][:,[0,-1]] #solution is to do it out side two steps\n",
    "\n",
    "#oover here list one is same as from 'other'\n",
    "#and so do list 2\n",
    "#first element is 0th index and 2nd element is last index\n",
    "#for both list"
   ]
  },
  {
   "cell_type": "markdown",
   "metadata": {},
   "source": [
    "#### but if i just give zero it will give me 0th index from each"
   ]
  },
  {
   "cell_type": "code",
   "execution_count": null,
   "metadata": {},
   "outputs": [],
   "source": [
    "other[names=='Bob',[0]] #this means from each get me 0th index\n",
    "# other[names=='Bob',0]  #no difference "
   ]
  },
  {
   "cell_type": "code",
   "execution_count": null,
   "metadata": {},
   "outputs": [],
   "source": [
    "other[names=='Bob',[0]] #it is creating new array"
   ]
  },
  {
   "cell_type": "code",
   "execution_count": null,
   "metadata": {},
   "outputs": [],
   "source": [
    "other[names=='Bob',[[0,-1],[0,-1],[0,-1]]] #it is creating new array"
   ]
  },
  {
   "cell_type": "markdown",
   "metadata": {},
   "source": [
    "### the below bethod  pick values and creat new array"
   ]
  },
  {
   "cell_type": "code",
   "execution_count": null,
   "metadata": {},
   "outputs": [],
   "source": [
    "#fencing picking \n",
    "other[[1,3,5,0,2,4,6],[2,2,2,2,2,2,2] ]\n",
    "#here we pick 1st index list and its 2nd index element\n",
    "#then we pick 3rd index list and its 2nd index element\n",
    "#then 5th index list and its 2nd index element\n",
    "#and so on \n",
    "# we recreated and new array\n",
    "#so first indexlist 2nd  index element is 7\n",
    "#so 3rd indexlist 2nd index element is 15\n",
    "#5th index list       2nd index element is 23\n",
    "#0th index list 2nd index element is 3\n",
    "#and so on"
   ]
  },
  {
   "cell_type": "code",
   "execution_count": null,
   "metadata": {},
   "outputs": [],
   "source": [
    "other[[1,3,5,0,2,4,6],[0,-1,2,3,2,2,1]]\n"
   ]
  },
  {
   "cell_type": "markdown",
   "metadata": {},
   "source": [
    "### but this method give subset from the original one and keep its shape same to original 'other' in our case"
   ]
  },
  {
   "cell_type": "code",
   "execution_count": null,
   "metadata": {},
   "outputs": [],
   "source": [
    "other[[1,3,5,0,2,4,6]][:,[0,-1]]\n",
    "#first we rearange and pick only those lists which we wanted\n",
    "#then use it as new array and applied [:,[0,-1]]\n",
    "#which mean ARRAY[:,[0,-1]]\n",
    "#pick all lists from ARRAY :\n",
    "#and from all pick [0,-1] oth index and -1 index\n",
    "#this way we created subset of origina array which was 'other'"
   ]
  },
  {
   "cell_type": "raw",
   "metadata": {},
   "source": [
    "note:Keep in mind that fancy indexing, unlike slicing, always copies the data into a new array."
   ]
  },
  {
   "cell_type": "markdown",
   "metadata": {},
   "source": [
    "## using np.ix() ,which converts two 1D integer arrays to an\n",
    "indexer that selects the square region:"
   ]
  },
  {
   "cell_type": "code",
   "execution_count": null,
   "metadata": {},
   "outputs": [],
   "source": [
    "other[np.ix_([1,3,5,0,2,4,6],[0,-1])]\n",
    "#here using np.ix_()\n",
    "#make second list [0,-1]\n",
    "#to be applied on each mention in first list\n",
    "\n",
    "#pick 0th and -1 index from 1st index list\n",
    "#pick 0th and -1 index from 3rd index list\n",
    "#pick 0th and -1 index from 5th index listh \n",
    "#and so on"
   ]
  },
  {
   "cell_type": "markdown",
   "metadata": {},
   "source": [
    "# Transpose"
   ]
  },
  {
   "cell_type": "code",
   "execution_count": null,
   "metadata": {},
   "outputs": [],
   "source": [
    "print(other)\n",
    "other.T"
   ]
  },
  {
   "cell_type": "markdown",
   "metadata": {},
   "source": [
    "## dot product of  transpose with its original"
   ]
  },
  {
   "cell_type": "code",
   "execution_count": null,
   "metadata": {},
   "outputs": [],
   "source": [
    "np.dot(other.T,other) #4x7 * 7x4 gives 4x4"
   ]
  },
  {
   "cell_type": "code",
   "execution_count": null,
   "metadata": {},
   "outputs": [],
   "source": [
    "np.dot(other,other.T) #7X4 * 4x7 gives 7x7"
   ]
  },
  {
   "cell_type": "code",
   "execution_count": null,
   "metadata": {},
   "outputs": [],
   "source": [
    "arr=np.arange(16).reshape(2,2,4)\n",
    "\n",
    "arr.transpose((2,0,1))"
   ]
  },
  {
   "cell_type": "code",
   "execution_count": null,
   "metadata": {},
   "outputs": [],
   "source": [
    "arr.transpose((2,1,0))"
   ]
  },
  {
   "cell_type": "code",
   "execution_count": null,
   "metadata": {},
   "outputs": [],
   "source": []
  },
  {
   "attachments": {
    "image.png": {
     "image/png": "[encoded data removed]"
    }
   },
   "cell_type": "markdown",
   "metadata": {},
   "source": [
    "![image.png](attachment:image.png)"
   ]
  },
  {
   "attachments": {
    "image.png": {
     "image/png": "[encoded data removed]"
    }
   },
   "cell_type": "markdown",
   "metadata": {},
   "source": [
    "![image.png](attachment:image.png)"
   ]
  },
  {
   "attachments": {
    "image.png": {
     "image/png": "[encoded data removed]"
    }
   },
   "cell_type": "markdown",
   "metadata": {},
   "source": [
    "![image.png](attachment:image.png)"
   ]
  },
  {
   "cell_type": "code",
   "execution_count": 134,
   "metadata": {},
   "outputs": [],
   "source": [
    "x =np.arange(-5,100,1) \n",
    "y=np.arange(-100,13,1)"
   ]
  },
  {
   "cell_type": "code",
   "execution_count": 135,
   "metadata": {},
   "outputs": [],
   "source": [
    "xs,ys=np.meshgrid(x,y)"
   ]
  },
  {
   "cell_type": "code",
   "execution_count": 136,
   "metadata": {},
   "outputs": [],
   "source": [
    "import matplotlib.pyplot as plt\n",
    "z = np.sqrt(xs ** 2 + ys ** 2)"
   ]
  },
  {
   "cell_type": "code",
   "execution_count": 137,
   "metadata": {},
   "outputs": [
    {
     "data": {
      "text/plain": [
       "Text(0.5, 1.0, 'Image plot of $\\\\sqrt{x^2 + y^2}$ for a grid of values')"
      ]
     },
     "execution_count": 137,
     "metadata": {},
     "output_type": "execute_result"
    },
    {
     "data": {
      "image/png": "[encoded data removed]",
      "text/plain": [
       "<Figure size 432x288 with 2 Axes>"
      ]
     },
     "metadata": {
      "needs_background": "light"
     },
     "output_type": "display_data"
    }
   ],
   "source": [
    "z = np.sqrt(xs ** 2 + ys ** 2)\n",
    "plt.imshow(z, cmap=plt.cm.gray); plt.colorbar()\n",
    "plt.title(\"Image plot of $\\sqrt{x^2 + y^2}$ for a grid of values\")"
   ]
  },
  {
   "cell_type": "markdown",
   "metadata": {},
   "source": [
    "### Expressing Conditional Logic as Array Operations"
   ]
  },
  {
   "cell_type": "code",
   "execution_count": 141,
   "metadata": {},
   "outputs": [],
   "source": [
    "data=np.random.randn(4,4)"
   ]
  },
  {
   "cell_type": "code",
   "execution_count": 142,
   "metadata": {},
   "outputs": [
    {
     "data": {
      "text/plain": [
       "array([[ 1, -1, -1, -1],\n",
       "       [ 1, -1, -1,  1],\n",
       "       [ 1,  1, -1,  1],\n",
       "       [ 1,  1, -1,  1]])"
      ]
     },
     "execution_count": 142,
     "metadata": {},
     "output_type": "execute_result"
    }
   ],
   "source": [
    "np.where(data>0,1,-1)"
   ]
  },
  {
   "cell_type": "code",
   "execution_count": 146,
   "metadata": {},
   "outputs": [
    {
     "data": {
      "text/plain": [
       "array([[ 1,  2,  3,  4],\n",
       "       [ 5,  6,  7,  8],\n",
       "       [ 9, 10, 11, 12],\n",
       "       [13, 14, 15, 16],\n",
       "       [17, 18, 19, 20]])"
      ]
     },
     "execution_count": 146,
     "metadata": {},
     "output_type": "execute_result"
    }
   ],
   "source": [
    "data=np.arange(1,21).reshape(5,4)\n",
    "data"
   ]
  },
  {
   "cell_type": "code",
   "execution_count": 153,
   "metadata": {},
   "outputs": [
    {
     "data": {
      "text/plain": [
       "array([[ 0,  2,  0,  4],\n",
       "       [ 0,  6,  0,  8],\n",
       "       [ 0, 10,  0, 12],\n",
       "       [ 0, 14,  0, 16],\n",
       "       [ 0, 18,  0, 20]])"
      ]
     },
     "execution_count": 153,
     "metadata": {},
     "output_type": "execute_result"
    }
   ],
   "source": [
    "np.where(data%2==0,data,0)"
   ]
  },
  {
   "cell_type": "code",
   "execution_count": 151,
   "metadata": {},
   "outputs": [
    {
     "data": {
      "text/plain": [
       "array([['odd', 'even', 'odd', 'even'],\n",
       "       ['odd', 'even', 'odd', 'even'],\n",
       "       ['odd', 'even', 'odd', 'even'],\n",
       "       ['odd', 'even', 'odd', 'even'],\n",
       "       ['odd', 'even', 'odd', 'even']], dtype='<U4')"
      ]
     },
     "execution_count": 151,
     "metadata": {},
     "output_type": "execute_result"
    }
   ],
   "source": [
    "np.where(data%2==0,'even','odd')"
   ]
  },
  {
   "cell_type": "code",
   "execution_count": 156,
   "metadata": {},
   "outputs": [
    {
     "data": {
      "text/plain": [
       "array([[-1.57047894,  2.        ,  2.        , -0.7803173 ],\n",
       "       [ 2.        ,  2.        ,  2.        ,  2.        ],\n",
       "       [-1.15611233, -0.0820773 ,  2.        , -0.38157805],\n",
       "       [ 2.        , -0.56955077,  2.        ,  2.        ]])"
      ]
     },
     "execution_count": 156,
     "metadata": {},
     "output_type": "execute_result"
    }
   ],
   "source": [
    "arry=np.random.randn(4,4)\n",
    "np.where(arry>0,2,arry) #this is matrix shape no of rows and columns not values randn values alway between\n",
    "#show 2 where no is positive \n",
    "#if negative then show original value "
   ]
  },
  {
   "cell_type": "code",
   "execution_count": 169,
   "metadata": {},
   "outputs": [
    {
     "data": {
      "text/plain": [
       "array([ 1,  2,  5,  6,  7,  8,  9, 10, 11, 12, 13, 14, 15, 16, 17, 18, 19,\n",
       "       20])"
      ]
     },
     "execution_count": 169,
     "metadata": {},
     "output_type": "execute_result"
    }
   ],
   "source": [
    "data[np.where(data>=5,True,np.where(data>2,False,np.where(data<3,True,False)))]"
   ]
  },
  {
   "cell_type": "code",
   "execution_count": 171,
   "metadata": {},
   "outputs": [
    {
     "data": {
      "text/plain": [
       "array([1, 8, 9])"
      ]
     },
     "execution_count": 171,
     "metadata": {},
     "output_type": "execute_result"
    }
   ],
   "source": [
    "np.where([True, False, False], [1, 2, 4], [7, 8, 9])\n",
    "#if True it will take from 1st list\n",
    "#else False it will take from 2nd list"
   ]
  },
  {
   "cell_type": "code",
   "execution_count": 173,
   "metadata": {},
   "outputs": [
    {
     "data": {
      "text/plain": [
       "array([1, 8, 9])"
      ]
     },
     "execution_count": 173,
     "metadata": {},
     "output_type": "execute_result"
    }
   ],
   "source": [
    "arr = np.array([11, 12, 13])\n",
    " \n",
    "# call numpy.where() with 3 arguments\n",
    "np.where(arr < 12, [1, 2, 4], [7, 8, 9])"
   ]
  },
  {
   "cell_type": "markdown",
   "metadata": {},
   "source": [
    "## Mathematical and Statistical Methods"
   ]
  },
  {
   "cell_type": "code",
   "execution_count": 185,
   "metadata": {},
   "outputs": [
    {
     "data": {
      "text/plain": [
       "array([[ 1,  2,  3,  4,  5,  6,  7,  8,  9, 10],\n",
       "       [11, 12, 13, 14, 15, 16, 17, 18, 19, 20],\n",
       "       [21, 22, 23, 24, 25, 26, 27, 28, 29, 30],\n",
       "       [31, 32, 33, 34, 35, 36, 37, 38, 39, 40],\n",
       "       [41, 42, 43, 44, 45, 46, 47, 48, 49, 50]])"
      ]
     },
     "execution_count": 185,
     "metadata": {},
     "output_type": "execute_result"
    }
   ],
   "source": [
    "l=np.arange(1,51).reshape(5,10)\n",
    "l"
   ]
  },
  {
   "cell_type": "code",
   "execution_count": 186,
   "metadata": {},
   "outputs": [
    {
     "data": {
      "text/plain": [
       "(25.5, 25.5)"
      ]
     },
     "execution_count": 186,
     "metadata": {},
     "output_type": "execute_result"
    }
   ],
   "source": [
    "np.mean(l), l.mean()"
   ]
  },
  {
   "cell_type": "code",
   "execution_count": 187,
   "metadata": {},
   "outputs": [
    {
     "data": {
      "text/plain": [
       "(1275, 1275)"
      ]
     },
     "execution_count": 187,
     "metadata": {},
     "output_type": "execute_result"
    }
   ],
   "source": [
    "np.sum(l) , l.sum()"
   ]
  },
  {
   "cell_type": "code",
   "execution_count": 189,
   "metadata": {},
   "outputs": [
    {
     "data": {
      "text/plain": [
       "array([105, 110, 115, 120, 125, 130, 135, 140, 145, 150])"
      ]
     },
     "execution_count": 189,
     "metadata": {},
     "output_type": "execute_result"
    }
   ],
   "source": [
    "#we can do math on axis if we select row axis then we will get a array with all rows whose columns are sumed\n",
    "l.sum(axis=0) #summing rows keeping colum same"
   ]
  },
  {
   "cell_type": "code",
   "execution_count": 191,
   "metadata": {},
   "outputs": [
    {
     "data": {
      "text/plain": [
       "array([ 55, 155, 255, 355, 455])"
      ]
     },
     "execution_count": 191,
     "metadata": {},
     "output_type": "execute_result"
    }
   ],
   "source": [
    "l.sum(axis=1) #summing columns keeping rows same"
   ]
  },
  {
   "cell_type": "code",
   "execution_count": 192,
   "metadata": {},
   "outputs": [
    {
     "data": {
      "text/plain": [
       "array([21., 22., 23., 24., 25., 26., 27., 28., 29., 30.])"
      ]
     },
     "execution_count": 192,
     "metadata": {},
     "output_type": "execute_result"
    }
   ],
   "source": [
    "l.mean(0) #keep columns same intact"
   ]
  },
  {
   "cell_type": "code",
   "execution_count": 196,
   "metadata": {},
   "outputs": [
    {
     "data": {
      "text/plain": [
       "array([ 5.5, 15.5, 25.5, 35.5, 45.5])"
      ]
     },
     "execution_count": 196,
     "metadata": {},
     "output_type": "execute_result"
    }
   ],
   "source": [
    "l.mean(1) #keep row intact save"
   ]
  },
  {
   "cell_type": "markdown",
   "metadata": {},
   "source": [
    "## cummulative \n",
    "sum and product"
   ]
  },
  {
   "cell_type": "code",
   "execution_count": 202,
   "metadata": {},
   "outputs": [
    {
     "data": {
      "text/plain": [
       "array([[2, 3, 3],\n",
       "       [4, 5, 7],\n",
       "       [3, 4, 7],\n",
       "       [2, 1, 7]])"
      ]
     },
     "execution_count": 202,
     "metadata": {},
     "output_type": "execute_result"
    }
   ],
   "source": [
    "d=np.random.randint(1,8,size=(4,3))\n",
    "d"
   ]
  },
  {
   "cell_type": "code",
   "execution_count": 207,
   "metadata": {},
   "outputs": [
    {
     "data": {
      "text/plain": [
       "array([[ 2,  3,  3],\n",
       "       [ 6,  8, 10],\n",
       "       [ 9, 12, 17],\n",
       "       [11, 13, 24]], dtype=int32)"
      ]
     },
     "execution_count": 207,
     "metadata": {},
     "output_type": "execute_result"
    }
   ],
   "source": [
    "d.cumsum(0) #keep column intact\n",
    "# [2,         3,       4]\n",
    "# [6+2 ,     3+8  , 10+3]\n",
    "# [9+6+2, 12+8+3, 10+3+4]\n",
    "# and so on"
   ]
  },
  {
   "cell_type": "code",
   "execution_count": 211,
   "metadata": {},
   "outputs": [
    {
     "data": {
      "text/plain": [
       "array([[ 2,  5,  8],\n",
       "       [ 4,  9, 16],\n",
       "       [ 3,  7, 14],\n",
       "       [ 2,  3, 10]], dtype=int32)"
      ]
     },
     "execution_count": 211,
     "metadata": {},
     "output_type": "execute_result"
    }
   ],
   "source": [
    "d.cumsum(1) #keep row intact"
   ]
  },
  {
   "cell_type": "code",
   "execution_count": 212,
   "metadata": {},
   "outputs": [
    {
     "data": {
      "text/plain": [
       "array([[   2,    3,    3],\n",
       "       [   8,   15,   21],\n",
       "       [  24,   60,  147],\n",
       "       [  48,   60, 1029]], dtype=int32)"
      ]
     },
     "execution_count": 212,
     "metadata": {},
     "output_type": "execute_result"
    }
   ],
   "source": [
    "d.cumprod(0)"
   ]
  },
  {
   "cell_type": "code",
   "execution_count": 213,
   "metadata": {},
   "outputs": [
    {
     "data": {
      "text/plain": [
       "array([[  2,   6,  18],\n",
       "       [  4,  20, 140],\n",
       "       [  3,  12,  84],\n",
       "       [  2,   2,  14]], dtype=int32)"
      ]
     },
     "execution_count": 213,
     "metadata": {},
     "output_type": "execute_result"
    }
   ],
   "source": [
    "d.cumprod(1)"
   ]
  },
  {
   "attachments": {
    "image.png": {
     "image/png": "[encoded data removed]"
    }
   },
   "cell_type": "markdown",
   "metadata": {},
   "source": [
    "![image.png](attachment:image.png)"
   ]
  },
  {
   "cell_type": "code",
   "execution_count": 217,
   "metadata": {},
   "outputs": [
    {
     "data": {
      "text/plain": [
       "(1, 10)"
      ]
     },
     "execution_count": 217,
     "metadata": {},
     "output_type": "execute_result"
    }
   ],
   "source": [
    "d.min() ,d.argmin()"
   ]
  },
  {
   "cell_type": "code",
   "execution_count": 218,
   "metadata": {},
   "outputs": [
    {
     "data": {
      "text/plain": [
       "(array([2, 1, 3]), array([0, 3, 0], dtype=int64))"
      ]
     },
     "execution_count": 218,
     "metadata": {},
     "output_type": "execute_result"
    }
   ],
   "source": [
    "d.min(0) ,d.argmin(0) #this show which row it belong to 2 belong to 0 row,1 from 3rd row, 3 from 0row"
   ]
  },
  {
   "cell_type": "code",
   "execution_count": 221,
   "metadata": {},
   "outputs": [
    {
     "data": {
      "text/plain": [
       "array([1, 2, 2, 2], dtype=int64)"
      ]
     },
     "execution_count": 221,
     "metadata": {},
     "output_type": "execute_result"
    }
   ],
   "source": [
    "d.argmax(1) #keep "
   ]
  },
  {
   "cell_type": "code",
   "execution_count": 227,
   "metadata": {},
   "outputs": [
    {
     "data": {
      "text/plain": [
       "array([[[2, 3],\n",
       "        [6, 4],\n",
       "        [3, 7],\n",
       "        [5, 3]],\n",
       "\n",
       "       [[8, 2],\n",
       "        [8, 1],\n",
       "        [5, 8],\n",
       "        [7, 7]],\n",
       "\n",
       "       [[3, 2],\n",
       "        [8, 7],\n",
       "        [1, 4],\n",
       "        [6, 6]]])"
      ]
     },
     "execution_count": 227,
     "metadata": {},
     "output_type": "execute_result"
    }
   ],
   "source": [
    "np.random.randint(1,10,size=(3,4,2))"
   ]
  },
  {
   "cell_type": "code",
   "execution_count": 231,
   "metadata": {},
   "outputs": [
    {
     "data": {
      "text/plain": [
       "array([[4, 2],\n",
       "       [1, 1],\n",
       "       [1, 1],\n",
       "       [4, 3]])"
      ]
     },
     "execution_count": 231,
     "metadata": {},
     "output_type": "execute_result"
    }
   ],
   "source": [
    "np.random.randint(1,10,size=(3,4,2)).min(0)"
   ]
  },
  {
   "cell_type": "markdown",
   "metadata": {},
   "source": [
    "## Methods for Boolean Arrays\n",
    "we can also do sum on boolan array "
   ]
  },
  {
   "cell_type": "code",
   "execution_count": 240,
   "metadata": {},
   "outputs": [
    {
     "data": {
      "text/plain": [
       "array([['eaten ', 'eaten ', 'eaten ', 'no', 'no', 'no', 'eaten '],\n",
       "       ['no', 'eaten ', 'no', 'eaten ', 'eaten ', 'no', 'no'],\n",
       "       ['no', 'eaten ', 'eaten ', 'no', 'no', 'no', 'no'],\n",
       "       ['no', 'eaten ', 'eaten ', 'eaten ', 'eaten ', 'eaten ', 'eaten ']],\n",
       "      dtype='<U6')"
      ]
     },
     "execution_count": 240,
     "metadata": {},
     "output_type": "execute_result"
    }
   ],
   "source": [
    "status=np.random.choice(['eaten ','no'],size=(4,7))\n",
    "status        \n",
    "#here we are seeing whole month with 7 days in 4 weeks\n",
    "#here rows are week 0 to week 3\n",
    "#and column are 0-6 as monday,sunday"
   ]
  },
  {
   "cell_type": "code",
   "execution_count": 242,
   "metadata": {},
   "outputs": [
    {
     "data": {
      "text/plain": [
       "15"
      ]
     },
     "execution_count": 242,
     "metadata": {},
     "output_type": "execute_result"
    }
   ],
   "source": [
    "#we want to find how many time in total he eat choclate in whole 3 weeks\n",
    "#first condition will create True,False array and then we do sum as sum take True=1 and False=0\n",
    "#so it is two step process\n",
    "#1st apply condtion \n",
    "#2nd sum all Truths\n",
    "(status !='no').sum()"
   ]
  },
  {
   "cell_type": "code",
   "execution_count": 244,
   "metadata": {},
   "outputs": [
    {
     "data": {
      "text/plain": [
       "array([4, 3, 2, 6])"
      ]
     },
     "execution_count": 244,
     "metadata": {},
     "output_type": "execute_result"
    }
   ],
   "source": [
    "#now i want to find out this 15 distribution through out weeks\n",
    "#in all 4 weeks how much he has eaten in each that result in total 15\n",
    "#as weeks are our rows so we want to keep rows intact\n",
    "\n",
    "(status !='no').sum(1)   #4 in  0th week , 3 in 1st week ,2 in 2nd week ,6 in 3rd week"
   ]
  },
  {
   "cell_type": "code",
   "execution_count": 245,
   "metadata": {},
   "outputs": [
    {
     "data": {
      "text/plain": [
       "array([1, 4, 3, 2, 2, 1, 2])"
      ]
     },
     "execution_count": 245,
     "metadata": {},
     "output_type": "execute_result"
    }
   ],
   "source": [
    "#now we want to see distribution of choclate on days as days are from 0-6 and they are column so\n",
    "#keeping column intact\n",
    "(status !='no').sum(0) \n",
    "\n",
    "#out of all mondays only one monday he eat , \n",
    "#out of all tuesday all 4 tuesday he eat  ,\n",
    "#out of all wednesday three wednesdays he eat,\n",
    "#out of all thursdays 2 thursday he eat\n",
    "#out of all friday 2 friday he eat\n",
    "#out of all sat 1 sat he eat\n",
    "#out of all sun 2 sun he eat"
   ]
  },
  {
   "cell_type": "code",
   "execution_count": 251,
   "metadata": {},
   "outputs": [
    {
     "data": {
      "text/plain": [
       "array([['not', 'not', 'angry', 'angry', 'not', 'angry', 'not'],\n",
       "       ['not', 'angry', 'angry', 'angry', 'angry', 'angry', 'angry'],\n",
       "       ['not', 'angry', 'not', 'not', 'not', 'not', 'not'],\n",
       "       ['not', 'not', 'angry', 'angry', 'angry', 'angry', 'not']],\n",
       "      dtype='<U5')"
      ]
     },
     "execution_count": 251,
     "metadata": {},
     "output_type": "execute_result"
    }
   ],
   "source": [
    "#now we have another data that correspond to week and day of week\n",
    "angry=np.random.choice(['angry','not'],size=(4,7))\n",
    "angry"
   ]
  },
  {
   "cell_type": "code",
   "execution_count": 252,
   "metadata": {},
   "outputs": [
    {
     "data": {
      "text/plain": [
       "array(['not', 'not', 'angry', 'not', 'angry', 'angry', 'angry', 'angry',\n",
       "       'not', 'not', 'angry', 'angry', 'angry', 'angry', 'not'],\n",
       "      dtype='<U5')"
      ]
     },
     "execution_count": 252,
     "metadata": {},
     "output_type": "execute_result"
    }
   ],
   "source": [
    "#we will see how many time he was angry or not when he had choclate\n",
    "angry[status !='no']\n",
    "\n",
    "#write now what we got is all those times when we had choclate"
   ]
  },
  {
   "cell_type": "code",
   "execution_count": 256,
   "metadata": {},
   "outputs": [
    {
     "data": {
      "text/plain": [
       "9"
      ]
     },
     "execution_count": 256,
     "metadata": {},
     "output_type": "execute_result"
    }
   ],
   "source": [
    "#03111953338\n",
    "(angry[status !='no'] != 'not').sum()  #so total 9 times he was happy when he had choclate\n",
    "                                        #15-9=6 time he had choclate when he was angry"
   ]
  },
  {
   "cell_type": "code",
   "execution_count": 260,
   "metadata": {},
   "outputs": [
    {
     "data": {
      "text/plain": [
       "array([[ True,  True,  True, False, False, False,  True],\n",
       "       [False,  True, False,  True,  True, False, False],\n",
       "       [False,  True,  True, False, False, False, False],\n",
       "       [False,  True,  True,  True,  True,  True,  True]])"
      ]
     },
     "execution_count": 260,
     "metadata": {},
     "output_type": "execute_result"
    }
   ],
   "source": [
    "np.where(status !='no',True,False)"
   ]
  },
  {
   "cell_type": "code",
   "execution_count": 265,
   "metadata": {},
   "outputs": [
    {
     "data": {
      "text/plain": [
       "array([['not', 'not', 'angry', '0', '0', '0', 'not'],\n",
       "       ['0', 'angry', '0', 'angry', 'angry', '0', '0'],\n",
       "       ['0', 'angry', 'not', '0', '0', '0', '0'],\n",
       "       ['0', 'not', 'angry', 'angry', 'angry', 'angry', 'not']],\n",
       "      dtype='<U5')"
      ]
     },
     "execution_count": 265,
     "metadata": {},
     "output_type": "execute_result"
    }
   ],
   "source": [
    "feeling_choclate=np.where(np.where(status !='no',True,False),angry,0)\n",
    "feeling_choclate\n",
    "#here\n",
    "#first we converted our status data into True if it had choclate or False is no choclate\n",
    "#\n",
    "#then we use angain where and in that we use that True False as boolan condition\n",
    "#and said if those boolan condtions True pick from angry \n",
    "#other wise give zero value"
   ]
  },
  {
   "cell_type": "code",
   "execution_count": 266,
   "metadata": {},
   "outputs": [],
   "source": [
    "#now feeling_choclate is new day who has same 4 weeks with same 7 days\n",
    "#but now it has gone through two filers\n",
    "#filer 1 :::: is of getting only cholate\n",
    "#filer 2 :::: is getting only those feeling when he had choclate"
   ]
  },
  {
   "cell_type": "markdown",
   "metadata": {},
   "source": [
    "### other way"
   ]
  },
  {
   "cell_type": "code",
   "execution_count": 273,
   "metadata": {},
   "outputs": [
    {
     "data": {
      "text/plain": [
       "array(['eaten ', 'eaten ', 'eaten ', 'eaten ', 'eaten ', 'eaten ',\n",
       "       'eaten ', 'eaten ', 'eaten ', 'eaten ', 'eaten ', 'eaten ',\n",
       "       'eaten ', 'eaten ', 'eaten '], dtype='<U6')"
      ]
     },
     "execution_count": 273,
     "metadata": {},
     "output_type": "execute_result"
    }
   ],
   "source": [
    "#7:32\n",
    "status[(status != 'no') & (angry !='no')] #put this does not keep the structure tp keep strucutre use np.where "
   ]
  },
  {
   "cell_type": "code",
   "execution_count": 274,
   "metadata": {},
   "outputs": [
    {
     "name": "stdout",
     "output_type": "stream",
     "text": [
      "True\n",
      "False\n"
     ]
    }
   ],
   "source": [
    "bools = np.array([False, False, True, False])\n",
    "print( bools.any())\n",
    "print(bools.all())"
   ]
  },
  {
   "cell_type": "code",
   "execution_count": 285,
   "metadata": {},
   "outputs": [],
   "source": [
    "numbers=np.random.choice(np.arange(1,10),size=(20))"
   ]
  },
  {
   "cell_type": "code",
   "execution_count": 286,
   "metadata": {},
   "outputs": [
    {
     "data": {
      "text/plain": [
       "array([4, 2, 1, 7, 8, 5, 2, 1, 6, 1, 7, 6, 1, 8, 5, 4, 7, 9, 7, 5])"
      ]
     },
     "execution_count": 286,
     "metadata": {},
     "output_type": "execute_result"
    }
   ],
   "source": [
    "numbers"
   ]
  },
  {
   "cell_type": "code",
   "execution_count": 294,
   "metadata": {},
   "outputs": [],
   "source": [
    "numbers.sort() #permenantly sorted"
   ]
  },
  {
   "cell_type": "code",
   "execution_count": 295,
   "metadata": {},
   "outputs": [
    {
     "data": {
      "text/plain": [
       "array([1, 1, 1, 1, 2, 2, 4, 4, 5, 5, 5, 6, 6, 7, 7, 7, 7, 8, 8, 9])"
      ]
     },
     "execution_count": 295,
     "metadata": {},
     "output_type": "execute_result"
    }
   ],
   "source": [
    "numbers"
   ]
  },
  {
   "cell_type": "code",
   "execution_count": 307,
   "metadata": {},
   "outputs": [
    {
     "data": {
      "text/plain": [
       "array([[30, 15, 19, 23,  3, 30, 30, 17, 24,  4],\n",
       "       [11,  6, 12, 39, 27, 47, 25, 22, 35, 35],\n",
       "       [24, 24, 34, 46, 16, 41, 46, 47, 15, 15],\n",
       "       [30, 16,  5, 41, 39, 47,  9, 16, 45, 45],\n",
       "       [ 4, 27, 10, 24, 46, 33, 14,  5, 30, 23]])"
      ]
     },
     "execution_count": 307,
     "metadata": {},
     "output_type": "execute_result"
    }
   ],
   "source": [
    "data=np.random.randint(1,50,size=(5,10))\n",
    "data"
   ]
  },
  {
   "cell_type": "code",
   "execution_count": 309,
   "metadata": {},
   "outputs": [
    {
     "data": {
      "text/plain": [
       "array([[ 3,  4, 15, 17, 19, 23, 24, 30, 30, 30],\n",
       "       [ 6, 11, 12, 22, 25, 27, 35, 35, 39, 47],\n",
       "       [15, 15, 16, 24, 24, 34, 41, 46, 46, 47],\n",
       "       [ 5,  9, 16, 16, 30, 39, 41, 45, 45, 47],\n",
       "       [ 4,  5, 10, 14, 23, 24, 27, 30, 33, 46]])"
      ]
     },
     "execution_count": 309,
     "metadata": {},
     "output_type": "execute_result"
    }
   ],
   "source": [
    "data.sort() #it will sort along the last axis  which will give same as 1\n",
    "data           "
   ]
  },
  {
   "cell_type": "code",
   "execution_count": 310,
   "metadata": {},
   "outputs": [
    {
     "data": {
      "text/plain": [
       "array([[ 3,  4, 10, 14, 19, 23, 24, 30, 30, 30],\n",
       "       [ 4,  5, 12, 16, 23, 24, 27, 30, 33, 46],\n",
       "       [ 5,  9, 15, 17, 24, 27, 35, 35, 39, 47],\n",
       "       [ 6, 11, 16, 22, 25, 34, 41, 45, 45, 47],\n",
       "       [15, 15, 16, 24, 30, 39, 41, 46, 46, 47]])"
      ]
     },
     "execution_count": 310,
     "metadata": {},
     "output_type": "execute_result"
    }
   ],
   "source": [
    "data.sort(0) # keep columns intact and sort rows for each colum \n",
    "#0 also mean that columns will use sort function to sort there rows each column individual sort all rows\n",
    "data"
   ]
  },
  {
   "cell_type": "code",
   "execution_count": 311,
   "metadata": {},
   "outputs": [
    {
     "data": {
      "text/plain": [
       "array([[ 3,  4, 10, 14, 19, 23, 24, 30, 30, 30],\n",
       "       [ 4,  5, 12, 16, 23, 24, 27, 30, 33, 46],\n",
       "       [ 5,  9, 15, 17, 24, 27, 35, 35, 39, 47],\n",
       "       [ 6, 11, 16, 22, 25, 34, 41, 45, 45, 47],\n",
       "       [15, 15, 16, 24, 30, 39, 41, 46, 46, 47]])"
      ]
     },
     "execution_count": 311,
     "metadata": {},
     "output_type": "execute_result"
    }
   ],
   "source": [
    "data.sort(1) #now 1 means this function will be use by rows to sort there all columns each row will use sort function\n",
    "data"
   ]
  },
  {
   "cell_type": "markdown",
   "metadata": {},
   "source": [
    "A quick-and-dirty way to compute the quantiles of an array is to sort\n",
    "it and select the value at a particular rank:"
   ]
  },
  {
   "cell_type": "code",
   "execution_count": 313,
   "metadata": {},
   "outputs": [
    {
     "data": {
      "text/plain": [
       "-1.5930684703520896"
      ]
     },
     "execution_count": 313,
     "metadata": {},
     "output_type": "execute_result"
    }
   ],
   "source": [
    "large_arr=np.random.randn(1000)\n",
    "large_arr.sort()\n",
    "large_arr[int(0.05 * len(large_arr))] # 5% quantile"
   ]
  },
  {
   "cell_type": "markdown",
   "metadata": {},
   "source": [
    "### Unique and Other Set Logic"
   ]
  },
  {
   "cell_type": "code",
   "execution_count": 4,
   "metadata": {},
   "outputs": [],
   "source": [
    "# float(\"-inf\")"
   ]
  },
  {
   "cell_type": "code",
   "execution_count": 8,
   "metadata": {},
   "outputs": [
    {
     "data": {
      "text/plain": [
       "array([[7, 8, 8, 5],\n",
       "       [4, 1, 7, 6],\n",
       "       [2, 2, 4, 4]])"
      ]
     },
     "execution_count": 8,
     "metadata": {},
     "output_type": "execute_result"
    }
   ],
   "source": [
    "raw_data=np.random.randint(1,10,size=(3,4))\n",
    "raw_data"
   ]
  },
  {
   "cell_type": "code",
   "execution_count": 9,
   "metadata": {},
   "outputs": [
    {
     "data": {
      "text/plain": [
       "array([1, 2, 4, 5, 6, 7, 8])"
      ]
     },
     "execution_count": 9,
     "metadata": {},
     "output_type": "execute_result"
    }
   ],
   "source": [
    "np.unique(raw_data)"
   ]
  },
  {
   "cell_type": "code",
   "execution_count": 11,
   "metadata": {},
   "outputs": [
    {
     "data": {
      "text/plain": [
       "array([False,  True,  True, False, False, False, False,  True, False,\n",
       "       False, False, False])"
      ]
     },
     "execution_count": 11,
     "metadata": {},
     "output_type": "execute_result"
    }
   ],
   "source": [
    "np.in1d(raw_data,[3,6,8]) #check in raw_data and return boolan if any value matches to 2nd list"
   ]
  },
  {
   "cell_type": "code",
   "execution_count": 12,
   "metadata": {},
   "outputs": [
    {
     "data": {
      "text/plain": [
       "array([ True,  True,  True,  True,  True,  True,  True,  True,  True,\n",
       "        True,  True,  True])"
      ]
     },
     "execution_count": 12,
     "metadata": {},
     "output_type": "execute_result"
    }
   ],
   "source": [
    "np.in1d(raw_data,raw_data)"
   ]
  },
  {
   "attachments": {
    "image.png": {
     "image/png": "[encoded data removed]"
    }
   },
   "cell_type": "markdown",
   "metadata": {},
   "source": [
    "![image.png](attachment:image.png)"
   ]
  },
  {
   "cell_type": "markdown",
   "metadata": {},
   "source": [
    "## File Input and Output with Arrays\n",
    "### Storing Arrays on Disk in Binary Format\n",
    "store data as extension <b>.npy</b><br>\n",
    "two zip files as one ,it get store with extension<b>.npz</b>"
   ]
  },
  {
   "cell_type": "code",
   "execution_count": 8,
   "metadata": {},
   "outputs": [
    {
     "data": {
      "text/plain": [
       "(array([[32,  7, 49, 28, 13, 48],\n",
       "        [38,  4,  9, 44, 33,  9],\n",
       "        [44, 45, 42,  9, 23, 42],\n",
       "        [44,  4,  3,  9, 31, 44],\n",
       "        [ 9, 42, 26, 20, 11, 16],\n",
       "        [ 6, 12,  6, 22, 32, 20]]),\n",
       " array([[48, 11, 42],\n",
       "        [16, 49, 48],\n",
       "        [48,  6, 20]]))"
      ]
     },
     "execution_count": 8,
     "metadata": {},
     "output_type": "execute_result"
    }
   ],
   "source": [
    "wwf=np.random.randint(1,50,size=(3,3))\n",
    "ffw=np.random.randint(1,50,size=(6,6))\n",
    "ffw,wwf"
   ]
  },
  {
   "cell_type": "code",
   "execution_count": 4,
   "metadata": {},
   "outputs": [],
   "source": [
    "np.save(\"this_is_binary_formate\",wwf)"
   ]
  },
  {
   "cell_type": "code",
   "execution_count": 7,
   "metadata": {},
   "outputs": [
    {
     "data": {
      "text/plain": [
       "array([[28, 17, 36],\n",
       "       [ 2, 48, 31],\n",
       "       [17, 10, 16]])"
      ]
     },
     "execution_count": 7,
     "metadata": {},
     "output_type": "execute_result"
    }
   ],
   "source": [
    "np.load('this_is_binary_formate.npy')"
   ]
  },
  {
   "cell_type": "code",
   "execution_count": 9,
   "metadata": {},
   "outputs": [],
   "source": [
    "#save multipble files as np.savez\n",
    "np.savez('double_file',a=ffw,b=wwf)"
   ]
  },
  {
   "cell_type": "code",
   "execution_count": 12,
   "metadata": {},
   "outputs": [],
   "source": [
    "got_arrays=np.load('double_file.npz')"
   ]
  },
  {
   "cell_type": "code",
   "execution_count": 16,
   "metadata": {},
   "outputs": [
    {
     "data": {
      "text/plain": [
       "array([[32,  7, 49, 28, 13, 48],\n",
       "       [38,  4,  9, 44, 33,  9],\n",
       "       [44, 45, 42,  9, 23, 42],\n",
       "       [44,  4,  3,  9, 31, 44],\n",
       "       [ 9, 42, 26, 20, 11, 16],\n",
       "       [ 6, 12,  6, 22, 32, 20]])"
      ]
     },
     "execution_count": 16,
     "metadata": {},
     "output_type": "execute_result"
    }
   ],
   "source": [
    "got_arrays['a']"
   ]
  },
  {
   "cell_type": "code",
   "execution_count": 17,
   "metadata": {},
   "outputs": [
    {
     "data": {
      "text/plain": [
       "array([[48, 11, 42],\n",
       "       [16, 49, 48],\n",
       "       [48,  6, 20]])"
      ]
     },
     "execution_count": 17,
     "metadata": {},
     "output_type": "execute_result"
    }
   ],
   "source": [
    "got_arrays['b']"
   ]
  },
  {
   "cell_type": "markdown",
   "metadata": {},
   "source": [
    "## Saving and Loading Text Files"
   ]
  },
  {
   "cell_type": "code",
   "execution_count": 20,
   "metadata": {},
   "outputs": [
    {
     "data": {
      "text/plain": [
       "array([[b'a', b'b', b'c', b'd', b'e'],\n",
       "       [b'f', b'g', b'h', b'i', b'j'],\n",
       "       [b'k', b'l', b'm', b'n', b'o'],\n",
       "       [b'p', b'', b'r', b's', b't']], dtype='|S1')"
      ]
     },
     "execution_count": 20,
     "metadata": {},
     "output_type": "execute_result"
    }
   ],
   "source": [
    "np.loadtxt('abc.txt',delimiter=',',dtype='string_')"
   ]
  },
  {
   "cell_type": "code",
   "execution_count": 23,
   "metadata": {},
   "outputs": [],
   "source": [
    "true_false=np.array([ True,  True,  True,  True,  True,  True,  True,  True,  True,\n",
    "        True,  True,  True])"
   ]
  },
  {
   "cell_type": "code",
   "execution_count": 25,
   "metadata": {},
   "outputs": [],
   "source": [
    "np.savetxt('true_and_false.txt',true_false,delimiter=',')"
   ]
  },
  {
   "cell_type": "code",
   "execution_count": 27,
   "metadata": {},
   "outputs": [
    {
     "data": {
      "text/plain": [
       "array([1., 1., 1., 1., 1., 1., 1., 1., 1., 1., 1., 1.])"
      ]
     },
     "execution_count": 27,
     "metadata": {},
     "output_type": "execute_result"
    }
   ],
   "source": [
    "np.loadtxt('true_and_false.txt',delimiter=',')"
   ]
  },
  {
   "cell_type": "code",
   "execution_count": 32,
   "metadata": {},
   "outputs": [
    {
     "data": {
      "text/plain": [
       "array([[1., 0., 0.],\n",
       "       [0., 1., 0.],\n",
       "       [0., 0., 1.]])"
      ]
     },
     "execution_count": 32,
     "metadata": {},
     "output_type": "execute_result"
    }
   ],
   "source": [
    "a=np.arange(1,10).reshape(3,3)\n",
    "b=np.identity(3)\n",
    "b"
   ]
  },
  {
   "cell_type": "markdown",
   "metadata": {},
   "source": [
    "## ALGEBIC \n",
    "difference between using * and np.dot() "
   ]
  },
  {
   "cell_type": "code",
   "execution_count": 33,
   "metadata": {},
   "outputs": [
    {
     "data": {
      "text/plain": [
       "array([[1., 0., 0.],\n",
       "       [0., 5., 0.],\n",
       "       [0., 0., 9.]])"
      ]
     },
     "execution_count": 33,
     "metadata": {},
     "output_type": "execute_result"
    }
   ],
   "source": [
    "a*b  #a*b is each element get multiply by corrosponding element in other it is not a dot product"
   ]
  },
  {
   "cell_type": "code",
   "execution_count": 35,
   "metadata": {},
   "outputs": [
    {
     "data": {
      "text/plain": [
       "array([[1., 2., 3.],\n",
       "       [4., 5., 6.],\n",
       "       [7., 8., 9.]])"
      ]
     },
     "execution_count": 35,
     "metadata": {},
     "output_type": "execute_result"
    }
   ],
   "source": [
    "np.dot(a,b)  #as  b identity matrix does not effect if u take 'dot' product of it with other same row column structure "
   ]
  },
  {
   "cell_type": "code",
   "execution_count": 45,
   "metadata": {},
   "outputs": [
    {
     "data": {
      "text/plain": [
       "array([ 6., 15., 24.])"
      ]
     },
     "execution_count": 45,
     "metadata": {},
     "output_type": "execute_result"
    }
   ],
   "source": [
    "a.dot(np.ones((3)))"
   ]
  },
  {
   "cell_type": "code",
   "execution_count": 46,
   "metadata": {},
   "outputs": [
    {
     "data": {
      "text/plain": [
       "array([[1., 2., 3.],\n",
       "       [4., 5., 6.],\n",
       "       [7., 8., 9.]])"
      ]
     },
     "execution_count": 46,
     "metadata": {},
     "output_type": "execute_result"
    }
   ],
   "source": [
    "a*np.ones((3))"
   ]
  },
  {
   "cell_type": "markdown",
   "metadata": {},
   "source": [
    "#### numpy.linalg has a standard set of matrix decompositions and things like \n",
    "inverse and\n",
    "determinant."
   ]
  },
  {
   "cell_type": "code",
   "execution_count": 60,
   "metadata": {},
   "outputs": [],
   "source": [
    "from numpy.linalg import inv,qr,det"
   ]
  },
  {
   "cell_type": "code",
   "execution_count": 48,
   "metadata": {},
   "outputs": [
    {
     "data": {
      "text/plain": [
       "array([[1, 2, 3],\n",
       "       [4, 5, 6],\n",
       "       [7, 8, 9]])"
      ]
     },
     "execution_count": 48,
     "metadata": {},
     "output_type": "execute_result"
    }
   ],
   "source": [
    "a"
   ]
  },
  {
   "cell_type": "code",
   "execution_count": 49,
   "metadata": {},
   "outputs": [
    {
     "data": {
      "text/plain": [
       "array([[1, 4, 7],\n",
       "       [2, 5, 8],\n",
       "       [3, 6, 9]])"
      ]
     },
     "execution_count": 49,
     "metadata": {},
     "output_type": "execute_result"
    }
   ],
   "source": [
    "a.T"
   ]
  },
  {
   "cell_type": "code",
   "execution_count": 50,
   "metadata": {},
   "outputs": [
    {
     "data": {
      "text/plain": [
       "array([[ 66,  78,  90],\n",
       "       [ 78,  93, 108],\n",
       "       [ 90, 108, 126]])"
      ]
     },
     "execution_count": 50,
     "metadata": {},
     "output_type": "execute_result"
    }
   ],
   "source": [
    "a.T.dot(a)"
   ]
  },
  {
   "cell_type": "code",
   "execution_count": 53,
   "metadata": {},
   "outputs": [
    {
     "data": {
      "text/plain": [
       "array([[ 3.15251974e+15, -6.30503948e+15,  3.15251974e+15],\n",
       "       [-6.30503948e+15,  1.26100790e+16, -6.30503948e+15],\n",
       "       [ 3.15251974e+15, -6.30503948e+15,  3.15251974e+15]])"
      ]
     },
     "execution_count": 53,
     "metadata": {},
     "output_type": "execute_result"
    }
   ],
   "source": [
    "matrix=a.T.dot(a)\n",
    "inv(a)"
   ]
  },
  {
   "cell_type": "code",
   "execution_count": 55,
   "metadata": {},
   "outputs": [
    {
     "data": {
      "text/plain": [
       "array([[1, 2],\n",
       "       [3, 4]])"
      ]
     },
     "execution_count": 55,
     "metadata": {},
     "output_type": "execute_result"
    }
   ],
   "source": [
    "c=np.arange(1,5).reshape(2,2)\n",
    "c"
   ]
  },
  {
   "cell_type": "code",
   "execution_count": 56,
   "metadata": {},
   "outputs": [
    {
     "data": {
      "text/plain": [
       "array([[-2. ,  1. ],\n",
       "       [ 1.5, -0.5]])"
      ]
     },
     "execution_count": 56,
     "metadata": {},
     "output_type": "execute_result"
    }
   ],
   "source": [
    "inv(c)"
   ]
  },
  {
   "cell_type": "code",
   "execution_count": 61,
   "metadata": {},
   "outputs": [
    {
     "data": {
      "text/plain": [
       "-2.0000000000000004"
      ]
     },
     "execution_count": 61,
     "metadata": {},
     "output_type": "execute_result"
    }
   ],
   "source": [
    "det(c)"
   ]
  },
  {
   "cell_type": "code",
   "execution_count": 62,
   "metadata": {},
   "outputs": [
    {
     "data": {
      "text/plain": [
       "array([[1.0000000e+00, 4.4408921e-16],\n",
       "       [0.0000000e+00, 1.0000000e+00]])"
      ]
     },
     "execution_count": 62,
     "metadata": {},
     "output_type": "execute_result"
    }
   ],
   "source": [
    "inv(c).dot(c)"
   ]
  },
  {
   "cell_type": "code",
   "execution_count": 67,
   "metadata": {},
   "outputs": [],
   "source": [
    "r,q=qr(matrix)"
   ]
  },
  {
   "cell_type": "code",
   "execution_count": 68,
   "metadata": {},
   "outputs": [
    {
     "data": {
      "text/plain": [
       "array([[-0.48471791,  0.77355147,  0.40824829],\n",
       "       [-0.57284844,  0.07195828, -0.81649658],\n",
       "       [-0.66097897, -0.62963492,  0.40824829]])"
      ]
     },
     "execution_count": 68,
     "metadata": {},
     "output_type": "execute_result"
    }
   ],
   "source": [
    "r"
   ]
  },
  {
   "cell_type": "code",
   "execution_count": 69,
   "metadata": {},
   "outputs": [
    {
     "data": {
      "text/plain": [
       "array([[-1.36161669e+02, -1.62468632e+02, -1.88775595e+02],\n",
       "       [ 0.00000000e+00, -9.71436730e-01, -1.94287346e+00],\n",
       "       [ 0.00000000e+00,  0.00000000e+00, -2.17233598e-14]])"
      ]
     },
     "execution_count": 69,
     "metadata": {},
     "output_type": "execute_result"
    }
   ],
   "source": [
    "q"
   ]
  },
  {
   "attachments": {
    "image.png": {
     "image/png": "[encoded data removed]"
    }
   },
   "cell_type": "markdown",
   "metadata": {},
   "source": [
    "![image.png](attachment:image.png)"
   ]
  },
  {
   "cell_type": "markdown",
   "metadata": {},
   "source": [
    "### Random Number Generation"
   ]
  },
  {
   "cell_type": "code",
   "execution_count": 81,
   "metadata": {},
   "outputs": [
    {
     "data": {
      "text/plain": [
       "array([[5.45137085, 5.48009799, 3.75426072, 2.61559757],\n",
       "       [2.76439093, 4.23089267, 3.22596253, 4.00763068],\n",
       "       [4.47818153, 4.07899175, 3.56563693, 3.7471484 ],\n",
       "       [3.12898505, 3.83134034, 4.58295396, 4.43298891]])"
      ]
     },
     "execution_count": 81,
     "metadata": {},
     "output_type": "execute_result"
    }
   ],
   "source": [
    "#standard normal distribution using NORMAL\n",
    "np.random.normal(loc=4,size=(4,4))"
   ]
  },
  {
   "cell_type": "code",
   "execution_count": 78,
   "metadata": {},
   "outputs": [
    {
     "data": {
      "text/plain": [
       "array([[0.31418722, 0.46038681, 0.4429543 , 0.45473825, 0.19443995],\n",
       "       [0.75482208, 0.5194125 , 0.22521068, 0.41681026, 0.34708404],\n",
       "       [0.55405684, 0.3825669 , 0.58750748, 0.12917342, 0.77317815]])"
      ]
     },
     "execution_count": 78,
     "metadata": {},
     "output_type": "execute_result"
    }
   ],
   "source": [
    "np.random.sample((3,5))\n"
   ]
  },
  {
   "cell_type": "code",
   "execution_count": 82,
   "metadata": {},
   "outputs": [],
   "source": [
    "# from random import normalvariate"
   ]
  },
  {
   "attachments": {
    "image.png": {
     "image/png": "[encoded data removed]"
    }
   },
   "cell_type": "markdown",
   "metadata": {},
   "source": [
    "![image.png](attachment:image.png)"
   ]
  },
  {
   "cell_type": "code",
   "execution_count": null,
   "metadata": {},
   "outputs": [],
   "source": []
  }
 ],
 "metadata": {
  "kernelspec": {
   "display_name": "Python 3",
   "language": "python",
   "name": "python3"
  },
  "language_info": {
   "codemirror_mode": {
    "name": "ipython",
    "version": 3
   },
   "file_extension": ".py",
   "mimetype": "text/x-python",
   "name": "python",
   "nbconvert_exporter": "python",
   "pygments_lexer": "ipython3",
   "version": "3.7.3"
  }
 },
 "nbformat": 4,
 "nbformat_minor": 4
}
