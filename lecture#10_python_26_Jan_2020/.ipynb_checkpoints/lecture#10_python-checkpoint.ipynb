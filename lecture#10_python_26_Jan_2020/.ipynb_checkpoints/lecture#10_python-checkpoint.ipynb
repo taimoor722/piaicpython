{
 "cells": [
  {
   "cell_type": "markdown",
   "metadata": {},
   "source": [
    "### File handling\n",
    "file and when we open how many mode it has<br>\n",
    "how to read image<br>\n",
    "how to read audio<br>\n",
    "how to read text file pdf,word<br>\n",
    "opencv<br>\n",
    "10 Feb last data to apply 6k pkr 2 attempts<br>"
   ]
  },
  {
   "cell_type": "raw",
   "metadata": {},
   "source": [
    "we need to convert our data into \n",
    "vectorization: convert data into numbers techniq called vectoriztion\n"
   ]
  },
  {
   "cell_type": "raw",
   "metadata": {},
   "source": [
    "math??  for help use ??"
   ]
  },
  {
   "cell_type": "code",
   "execution_count": 138,
   "metadata": {},
   "outputs": [],
   "source": [
    "int??"
   ]
  },
  {
   "cell_type": "raw",
   "metadata": {},
   "source": [
    "libraries to learn -- selium,pyautogui,beautifulsoupe,pyquti5,"
   ]
  },
  {
   "cell_type": "raw",
   "metadata": {},
   "source": [
    "    \"                  | r   r+   w   w+   a   a+\n",
    "    \"------------------|--------------------------\n",
    "    \"read              | +   +        +        +\n",
    "    \"write             |     +    +   +    +   +\n",
    "    \"write after seek  |     +    +   +\n",
    "    \"create            |          +   +    +   +\n",
    "    \"truncate          |           \n",
    "    \"position at start | +   +    +   +\n",
    "    \"position at end   |                   +   "
   ]
  },
  {
   "cell_type": "raw",
   "metadata": {},
   "source": [
    "open function (url address,mode)\n",
    "read mode options to put in = r,r+, , ,  ,a+\n",
    "write mode option  to put in = ,r+,w,w+,a,a+\n",
    "write after seek             = ,r+,w,w+, ,     (after opening file now cursor postion is conside zero seek is cursor postion)\n",
    "create mode option to put in = ,r+,w,w+,a,a+\n",
    "truncate mode options to put = ,r+,w           (it will delete previouse content and then rewrite it )\n",
    "position at start  option    =r,r+,w,w+, , \n",
    "position at end    option    = , , ,   ,a, "
   ]
  },
  {
   "cell_type": "code",
   "execution_count": 139,
   "metadata": {},
   "outputs": [
    {
     "data": {
      "text/plain": [
       "'C:\\\\Users\\\\taimo\\\\Desktop\\\\Piaicpython\\\\lecture#10_python_26_Jan_2020'"
      ]
     },
     "execution_count": 139,
     "metadata": {},
     "output_type": "execute_result"
    }
   ],
   "source": [
    "%pwd   #this magic give your jupyter complete path/absoulte path"
   ]
  },
  {
   "cell_type": "raw",
   "metadata": {},
   "source": [
    "read mode = read and cursor postion is start\n",
    "write = read and write \n",
    "write after seek =we can write from where we want \n",
    "a=append mode"
   ]
  },
  {
   "cell_type": "code",
   "execution_count": 140,
   "metadata": {},
   "outputs": [
    {
     "data": {
      "text/plain": [
       "<_io.TextIOWrapper name='abc.txt' mode='r' encoding='cp1252'>"
      ]
     },
     "execution_count": 140,
     "metadata": {},
     "output_type": "execute_result"
    }
   ],
   "source": [
    "open(\"abc.txt\")  \n",
    "#it a generato function"
   ]
  },
  {
   "cell_type": "code",
   "execution_count": 141,
   "metadata": {},
   "outputs": [
    {
     "data": {
      "text/plain": [
       "['[1,2,3]CBA']"
      ]
     },
     "execution_count": 141,
     "metadata": {},
     "output_type": "execute_result"
    }
   ],
   "source": [
    "list(open(\"abc.txt\")  )"
   ]
  },
  {
   "cell_type": "code",
   "execution_count": 142,
   "metadata": {},
   "outputs": [
    {
     "data": {
      "text/plain": [
       "['[1,2,3]CBA']"
      ]
     },
     "execution_count": 142,
     "metadata": {},
     "output_type": "execute_result"
    }
   ],
   "source": [
    "d=open(\"abc.txt\")\n",
    "list(d)"
   ]
  },
  {
   "cell_type": "code",
   "execution_count": 143,
   "metadata": {},
   "outputs": [],
   "source": [
    "d.close()\n"
   ]
  },
  {
   "cell_type": "markdown",
   "metadata": {},
   "source": [
    "#### .read() "
   ]
  },
  {
   "cell_type": "code",
   "execution_count": 144,
   "metadata": {},
   "outputs": [
    {
     "name": "stdout",
     "output_type": "stream",
     "text": [
      "[1,2,3]CBA\n"
     ]
    }
   ],
   "source": [
    "# with <----- block\n",
    "#with open(file) as <variable>:\n",
    "with open('abc.txt') as file:  #open is also return function\n",
    "    #read,readlines,readline\n",
    "    content=file.read() #it is return function  #string type store data\n",
    "    print(content) \n",
    "   \n",
    "\n",
    "    "
   ]
  },
  {
   "cell_type": "code",
   "execution_count": 145,
   "metadata": {},
   "outputs": [],
   "source": [
    "#open by default is generator function \n",
    "#so to read we converted into list(d)\n",
    "#what is batch size \n",
    "#we usee batch size to get data for large data\n",
    "#put .read() method  read total data so it is not good to use .read() in large files but ok with small data file"
   ]
  },
  {
   "cell_type": "markdown",
   "metadata": {},
   "source": [
    "#### .readlines()"
   ]
  },
  {
   "cell_type": "code",
   "execution_count": 146,
   "metadata": {},
   "outputs": [
    {
     "name": "stdout",
     "output_type": "stream",
     "text": [
      "lines ['[1,2,3]CBA']\n",
      "lines slice []\n"
     ]
    }
   ],
   "source": [
    "with open('abc.txt') as file:  #open is also return function\n",
    "    #read,readlines,readline\n",
    "    \n",
    "    contentlines=file.readlines() #it give automatical list with lines as items string type\n",
    "    print('lines',contentlines)\n",
    "    print('lines slice',contentlines[3:])\n",
    "    \n"
   ]
  },
  {
   "cell_type": "markdown",
   "metadata": {},
   "source": [
    "#### .readline()"
   ]
  },
  {
   "cell_type": "code",
   "execution_count": 147,
   "metadata": {},
   "outputs": [
    {
     "name": "stdout",
     "output_type": "stream",
     "text": [
      "line [1,2,3]CBA\n"
     ]
    }
   ],
   "source": [
    "with open('abc.txt') as file:  #open is also return function\n",
    "    #read,readlines,readline\n",
    "   \n",
    "    contentline=file.readline()\n",
    "    print('line',contentline)\n"
   ]
  },
  {
   "cell_type": "markdown",
   "metadata": {},
   "source": [
    "### write mode"
   ]
  },
  {
   "cell_type": "code",
   "execution_count": 148,
   "metadata": {},
   "outputs": [
    {
     "ename": "UnsupportedOperation",
     "evalue": "not readable",
     "output_type": "error",
     "traceback": [
      "\u001b[1;31m---------------------------------------------------------------------------\u001b[0m",
      "\u001b[1;31mUnsupportedOperation\u001b[0m                      Traceback (most recent call last)",
      "\u001b[1;32m<ipython-input-148-3fc586c8eee0>\u001b[0m in \u001b[0;36m<module>\u001b[1;34m\u001b[0m\n\u001b[0;32m      1\u001b[0m \u001b[1;32mwith\u001b[0m \u001b[0mopen\u001b[0m\u001b[1;33m(\u001b[0m\u001b[1;34m'abc2.txt'\u001b[0m\u001b[1;33m,\u001b[0m\u001b[1;34m'w'\u001b[0m\u001b[1;33m)\u001b[0m \u001b[1;32mas\u001b[0m \u001b[0mf\u001b[0m\u001b[1;33m:\u001b[0m \u001b[1;31m#if file does not exist it will create it\u001b[0m\u001b[1;33m\u001b[0m\u001b[1;33m\u001b[0m\u001b[0m\n\u001b[1;32m----> 2\u001b[1;33m     \u001b[0mcontent\u001b[0m \u001b[1;33m=\u001b[0m \u001b[0mf\u001b[0m\u001b[1;33m.\u001b[0m\u001b[0mreadlines\u001b[0m\u001b[1;33m(\u001b[0m\u001b[1;33m)\u001b[0m \u001b[1;31m#it give error  because with mode=w we can only read #put  create file abc2.text\u001b[0m\u001b[1;33m\u001b[0m\u001b[1;33m\u001b[0m\u001b[0m\n\u001b[0m\u001b[0;32m      3\u001b[0m     \u001b[0mprint\u001b[0m\u001b[1;33m(\u001b[0m\u001b[0mcontent\u001b[0m\u001b[1;33m)\u001b[0m\u001b[1;33m\u001b[0m\u001b[1;33m\u001b[0m\u001b[0m\n\u001b[0;32m      4\u001b[0m \u001b[1;31m#UnsupportedOperation           is a class\u001b[0m\u001b[1;33m\u001b[0m\u001b[1;33m\u001b[0m\u001b[1;33m\u001b[0m\u001b[0m\n",
      "\u001b[1;31mUnsupportedOperation\u001b[0m: not readable"
     ]
    }
   ],
   "source": [
    "with open('abc2.txt','w') as f: #if file does not exist it will create it \n",
    "    content = f.readlines() #it give error  because with mode=w we can only read #put  create file abc2.text\n",
    "    print(content)\n",
    "#UnsupportedOperation           is a class"
   ]
  },
  {
   "cell_type": "code",
   "execution_count": null,
   "metadata": {},
   "outputs": [],
   "source": [
    "with open('abc2.txt','w') as f:\n",
    "    f.write('pakistan zindabad')  #now .write in 'w' mode write content in side file \n",
    "                                    "
   ]
  },
  {
   "cell_type": "code",
   "execution_count": null,
   "metadata": {},
   "outputs": [],
   "source": [
    "with open('abc2.txt','w') as f:\n",
    "    f.write('pakistan ')  #now .write() will over write as it has propert of truncat\n",
    "                        #now if u see in abc2.txt file u only see pakistan "
   ]
  },
  {
   "cell_type": "markdown",
   "metadata": {},
   "source": [
    "####  write after seek\n"
   ]
  },
  {
   "cell_type": "markdown",
   "metadata": {},
   "source": [
    "### a  append mode\n",
    "keep existing data and add new data from last just like in list <br>\n",
    "but can't read data\n",
    "this is the only mode whose positon is at the last"
   ]
  },
  {
   "cell_type": "code",
   "execution_count": null,
   "metadata": {},
   "outputs": [],
   "source": [
    "with open('abc3.txt','a') as f:\n",
    "    f.write('asalm o alikium')   #fil does not exist so it will creat file and also write init"
   ]
  },
  {
   "cell_type": "code",
   "execution_count": null,
   "metadata": {},
   "outputs": [],
   "source": [
    "with open('abc3.txt','a') as f:\n",
    "    f.write('taimoor')  #now it will not over write because it s cursor is at end and will append new txt and end \n",
    "                        #u can check abc3.txt file\n",
    "# but it cannot read file "
   ]
  },
  {
   "cell_type": "code",
   "execution_count": null,
   "metadata": {},
   "outputs": [],
   "source": [
    "#now we want to read and write file\n",
    "#we use r+ or w+ or a+"
   ]
  },
  {
   "cell_type": "code",
   "execution_count": null,
   "metadata": {},
   "outputs": [],
   "source": [
    "# a+ read write append\n",
    "\n",
    "with open('abc4.txt','a+') as f:\n",
    "    f.write('asalm o alikium\\n')\n",
    "    c=f.readlines()\n",
    "    print(c)\n",
    "#empty because now cursor is at the end line and  readlines cursor should be start to read  so thats why we got empty\n",
    "#to over come this we use .seek(cursore postion )"
   ]
  },
  {
   "cell_type": "code",
   "execution_count": null,
   "metadata": {},
   "outputs": [],
   "source": [
    "with open('abc4.txt','a+') as f:\n",
    "    f.write('asalm o alikium\\n')\n",
    "    f.seek(0)        #because of seek(0) cursor  went to first postion and the read at the right side\n",
    "    c=f.readlines()\n",
    "    print(c)"
   ]
  },
  {
   "cell_type": "code",
   "execution_count": null,
   "metadata": {},
   "outputs": [],
   "source": [
    "with open('abc4.txt','a+') as f:\n",
    "    f.seek(17)        #because of seek(17) cursor  went to 17th postion and then read at the right side\n",
    "    c=f.readlines()\n",
    "    print(c)"
   ]
  },
  {
   "cell_type": "code",
   "execution_count": null,
   "metadata": {},
   "outputs": [],
   "source": [
    "with open('abc4.txt','a+') as f:\n",
    "    f.seek(34)        #because of seek(34) cursor  went to 34th postion and then read at the right side\n",
    "    c=f.readlines()\n",
    "    print(c)"
   ]
  },
  {
   "cell_type": "markdown",
   "metadata": {},
   "source": [
    "###  TASK"
   ]
  },
  {
   "cell_type": "code",
   "execution_count": null,
   "metadata": {},
   "outputs": [],
   "source": [
    "[1,2,3]\n",
    "\n",
    "['A','B','C']\n",
    "\n",
    "with open('abc5.txt','r+') as f:\n",
    "#     a=f.write('[1,2,3]')\n",
    "    a=list(reversed(f.readlines()))\n",
    "    b=list(reversed(['A','B','C']))\n",
    "    c=a+b\n",
    "    d=\"\".join(c)\n",
    "    f.write(d)\n"
   ]
  },
  {
   "cell_type": "code",
   "execution_count": null,
   "metadata": {},
   "outputs": [],
   "source": [
    "# with open('abc.txt','r') as f:\n",
    "#     f.read()\n",
    "#     with  open('abcx.txt','a+') as g:\n",
    "#         z=g.read()\n",
    "#         g=\n",
    "        \n",
    "\n",
    "        "
   ]
  },
  {
   "cell_type": "code",
   "execution_count": null,
   "metadata": {},
   "outputs": [],
   "source": [
    "open ('abc6.txt','x')  #x mode  #it create file if not exist"
   ]
  },
  {
   "cell_type": "code",
   "execution_count": null,
   "metadata": {},
   "outputs": [],
   "source": [
    "open ('abc6.txt','x')  #as abc6.txt exist so it gave error"
   ]
  },
  {
   "cell_type": "markdown",
   "metadata": {},
   "source": [
    "###  IMAGE READING "
   ]
  },
  {
   "cell_type": "code",
   "execution_count": null,
   "metadata": {},
   "outputs": [],
   "source": [
    "import matplotlib.image as mpi\n",
    "import matplotlib.pyplot as plt"
   ]
  },
  {
   "cell_type": "code",
   "execution_count": null,
   "metadata": {},
   "outputs": [],
   "source": [
    "image = mpi.imread(\"./space2.jpg\")\n",
    "image.shape\n",
    "plt.imshow(image)\n",
    "plt.show()"
   ]
  },
  {
   "cell_type": "code",
   "execution_count": null,
   "metadata": {},
   "outputs": [],
   "source": [
    "# pip install opencv-python\n",
    "# import cv2\n",
    "#gbr mode it has \n",
    "#to update color mode"
   ]
  },
  {
   "cell_type": "code",
   "execution_count": null,
   "metadata": {},
   "outputs": [],
   "source": [
    "# from keras.preprocessing import image"
   ]
  },
  {
   "cell_type": "code",
   "execution_count": null,
   "metadata": {},
   "outputs": [],
   "source": [
    "#scipy.io import wavfile ##audio "
   ]
  },
  {
   "cell_type": "raw",
   "metadata": {},
   "source": [
    "microsoft test preparation\n",
    "fb group image question group share \n",
    "MTA 98:381Islamabad"
   ]
  },
  {
   "cell_type": "markdown",
   "metadata": {},
   "source": [
    "###  PRACTICING\n",
    "\n",
    "https://stackabuse.com/file-handling-in-python/\n",
    "--------------------------"
   ]
  },
  {
   "cell_type": "code",
   "execution_count": null,
   "metadata": {},
   "outputs": [],
   "source": []
  },
  {
   "cell_type": "code",
   "execution_count": null,
   "metadata": {},
   "outputs": [],
   "source": []
  },
  {
   "cell_type": "code",
   "execution_count": null,
   "metadata": {},
   "outputs": [],
   "source": []
  },
  {
   "cell_type": "markdown",
   "metadata": {},
   "source": [
    "### FILE PROCESSING\n",
    "1. abs path  relative path\n",
    "2. file open file close\n",
    "3. read ,write ,update  file\n",
    "\n",
    "terms : current file poistion<br>\n",
    "python assume that each file is hidden bheind an object of adequte class<br>\n",
    "Files can be processed in many diffenent ways:<br>\n",
    "---->some depend upon <span style='color:red'>file content</span><br>\n",
    "---->some on program intention<br>\n",
    "---->in any case different files required different set of opeations and behaes in differnt ways<br>\n",
    "----><span style='color:red'>every file has object and that object belong to some class</span><br>\n",
    "GENERAL OBJECTS COME FROM THESE FOLLOWING CLASSES FOR FILE<br>\n",
    "1. RawIOBase\n",
    "2. BufferedIOBase\n",
    "3. TextIOBase<br>\n",
    "    and they all child of class IOBase<br>\n",
    "    \n",
    "##### u never use constructor to bring these classes to life <br>\n",
    "##### the only way you obtain them is  by invoking <span style='color:red'> open()</span> function<br>\n",
    "\n",
    "the invocation will sever the object and the  file and will remove the object <br>\n",
    "we are only concer with TEXT and Buffered for now<br>"
   ]
  },
  {
   "cell_type": "code",
   "execution_count": 149,
   "metadata": {},
   "outputs": [],
   "source": [
    "apath='C:/Users/taimo/Desktop/Piaicpython/folder1/'\n",
    "rpath='/folder1/'"
   ]
  },
  {
   "cell_type": "raw",
   "metadata": {},
   "source": [
    "refile opening and closining\n",
    "the former file don't contain text but sequence of  bytes of any values this can be image,audo,video,textfile\n",
    "due to non-portability issues  classes are use which  are responsible of reading and writing from stream\n",
    "\n",
    "1.when stream is open  and it's advised that the data in the file will be process as text file it switch in to text mode\n",
    "2.in lunix during readin/writing nothing special happen but when same operation performed on window \n",
    "    a process called \n",
    "    ***translation of newline characters occure***\n",
    "    when u reada line from text file ever \\r\\n replace by \\n and vice versa\n",
    "    during writing ever \\n is repplace with \\r\\n pair of character\n",
    "'r' can online read\n",
    "'w' will only write and will overwrite existing content and will creat new file if file does not exist\n",
    "'a' willread and write,but not overwrite and append new line from end will create file if does not exist but will not overwite\n",
    "    (the previouse content of the file remain untouched)\n",
    "'r+' read and update mode,both read and write are allowed\n",
    "'w+' write and update mode: previouse content will remain untouched,both read and write are allowed\n",
    "'b' if there is letter 'b' at the end it mean file will be open in binary mode\n",
    "'t' if ends with 't' file is open in text mode\n",
    "**************finally sucessful opening the file will set the*****************\n",
    "        current file position(virtual   reading/writing  head) before the first byte of the file if the mode is not 'a'\n",
    "        if the mode is 'a' \n",
    "        current file postion will be set to after the last byte of file if mode is 'a'"
   ]
  },
  {
   "cell_type": "code",
   "execution_count": 150,
   "metadata": {},
   "outputs": [
    {
     "name": "stdout",
     "output_type": "stream",
     "text": [
      "[1,2,3]CBA\n"
     ]
    }
   ],
   "source": [
    "#open() is the very first function perform onf stream if file not present it give error  FileNotFound\n",
    "with open(file='abc.txt',mode='rt') as abc:  #'r' the stream will be open in read mode\n",
    "    abcr=abc.read()\n",
    "    print(abcr)"
   ]
  },
  {
   "cell_type": "markdown",
   "metadata": {},
   "source": [
    "### Pre-opend stream"
   ]
  },
  {
   "cell_type": "raw",
   "metadata": {},
   "source": [
    "we said eariler that any stream must be preceded by open() function invocaion\n",
    "there are three well defined exceptions to the rule\n",
    "\n",
    "when our program starts the three streams are already opened and don;t required any extra preparation\n",
    "\n",
    "your program can  use these stream more explicitly if use import the module sys\n",
    "because thats where the declaration of stream is placed\n"
   ]
  },
  {
   "cell_type": "code",
   "execution_count": 151,
   "metadata": {},
   "outputs": [
    {
     "data": {
      "text/plain": [
       "<ipykernel.iostream.OutStream at 0x276f8350978>"
      ]
     },
     "execution_count": 151,
     "metadata": {},
     "output_type": "execute_result"
    }
   ],
   "source": [
    "import sys\n",
    "sys.stdin\n",
    "sys.stdout\n",
    "sys.stderr"
   ]
  },
  {
   "cell_type": "raw",
   "metadata": {},
   "source": [
    "the IOError is equipent with property name errno (error number)\n",
    "The value of errno attribute can be compare with one of the predefined symbolic constraints deinfed in the errno module"
   ]
  },
  {
   "cell_type": "code",
   "execution_count": 152,
   "metadata": {},
   "outputs": [],
   "source": [
    "import errno   \n",
    "#dignosting stream problems \n",
    "#use it with   except  IOErro as e:\n",
    "                    #            if  e.errno ==errno.ENOENT:\n",
    "                    #            if e.errno == errno.EMFIE:"
   ]
  },
  {
   "cell_type": "code",
   "execution_count": 153,
   "metadata": {},
   "outputs": [],
   "source": [
    "#use readline instead of read if file size is  big"
   ]
  },
  {
   "cell_type": "code",
   "execution_count": 154,
   "metadata": {},
   "outputs": [
    {
     "name": "stdout",
     "output_type": "stream",
     "text": [
      "efwergtrt\n",
      "\n",
      "erthrtherhreg\n",
      "\n",
      "['bregeretgetth\\n', 'gergergeger\\n', 'regewfe\\n', 'f\\n', 'f\\n', 'fdfdbw\\n', 'ee']\n"
     ]
    }
   ],
   "source": [
    "with open(file='taimoor.txt',mode='r') as f:\n",
    "    fr=f.readline\n",
    "    print(fr())\n",
    "    print(fr())\n",
    "    frls=f.readlines() #if we don't put byte size  or 0 it will read all content\n",
    "    print(frls)\n"
   ]
  },
  {
   "cell_type": "code",
   "execution_count": 155,
   "metadata": {},
   "outputs": [
    {
     "name": "stdout",
     "output_type": "stream",
     "text": [
      "efwergtrt\n",
      "\n",
      "erthrtherhreg\n",
      "\n",
      "bregeretgetth\n",
      "\n",
      "gergergeger\n",
      "\n",
      "regewfe\n",
      "\n",
      "f\n",
      "\n",
      "f\n",
      "\n",
      "fdfdbw\n",
      "\n",
      "ee\n",
      "\n",
      "\n",
      "\n",
      "\n",
      "\n",
      "\n",
      "\n"
     ]
    }
   ],
   "source": [
    "with open(file='taimoor.txt',mode='r') as f:\n",
    "    print(f.readline())\n",
    "    print(f.readline())\n",
    "    print(f.readline())\n",
    "    print(f.readline())\n",
    "    print(f.readline())\n",
    "    print(f.readline())\n",
    "    print(f.readline())\n",
    "    print(f.readline())\n",
    "    print(f.readline())\n",
    "    print(f.readline())\n",
    "    print(f.readline())\n",
    "    print(f.readline())\n",
    "    print(f.readline())\n",
    "    print(f.readline())\n",
    "    print(f.readline())\n",
    "    print(f.readline())  #it will keep reading "
   ]
  },
  {
   "cell_type": "code",
   "execution_count": 165,
   "metadata": {},
   "outputs": [
    {
     "name": "stdout",
     "output_type": "stream",
     "text": [
      "96\n",
      "['ergtrt\\n', 'erthrtherhreg\\n']\n"
     ]
    }
   ],
   "source": [
    "import sys\n",
    "with open(file='taimoor.txt') as f:\n",
    "    fr=f.readline(3)  #this will read line and in --->() we put end file positon cursor  \n",
    "    fr=f.readlines(20) \n",
    "    print(sys.getsizeof(fr))\n",
    "    print(fr)\n",
    "    \n"
   ]
  },
  {
   "cell_type": "code",
   "execution_count": 159,
   "metadata": {},
   "outputs": [
    {
     "ename": "SyntaxError",
     "evalue": "invalid syntax (<ipython-input-159-8f030b013b2e>, line 1)",
     "output_type": "error",
     "traceback": [
      "\u001b[1;36m  File \u001b[1;32m\"<ipython-input-159-8f030b013b2e>\"\u001b[1;36m, line \u001b[1;32m1\u001b[0m\n\u001b[1;33m    with open(file='taimoor.txt')\u001b[0m\n\u001b[1;37m                                 ^\u001b[0m\n\u001b[1;31mSyntaxError\u001b[0m\u001b[1;31m:\u001b[0m invalid syntax\n"
     ]
    }
   ],
   "source": [
    "with open(file='taimoor.txt')"
   ]
  },
  {
   "cell_type": "markdown",
   "metadata": {},
   "source": [
    "##### Small portion for function gloabl and local "
   ]
  },
  {
   "cell_type": "code",
   "execution_count": 167,
   "metadata": {},
   "outputs": [],
   "source": [
    "g=0\n",
    "def a(x):\n",
    "    x=125\n",
    "    return x\n",
    "    \n",
    "        "
   ]
  },
  {
   "cell_type": "code",
   "execution_count": 171,
   "metadata": {},
   "outputs": [
    {
     "name": "stdout",
     "output_type": "stream",
     "text": [
      "125\n",
      "0\n"
     ]
    }
   ],
   "source": [
    "print(a(g))\n",
    "print(g) #the original 'g' does not change"
   ]
  },
  {
   "cell_type": "code",
   "execution_count": 228,
   "metadata": {},
   "outputs": [
    {
     "data": {
      "text/plain": [
       "0"
      ]
     },
     "execution_count": 228,
     "metadata": {},
     "output_type": "execute_result"
    }
   ],
   "source": [
    "g"
   ]
  },
  {
   "cell_type": "code",
   "execution_count": 271,
   "metadata": {},
   "outputs": [
    {
     "name": "stdout",
     "output_type": "stream",
     "text": [
      "0\n",
      "hihihih\n"
     ]
    }
   ],
   "source": [
    "r=0  #if r=0 not defined  print(r) in 1#line of def fun(): will give error\n",
    "def fun():\n",
    "    print(r)   #as fun1() is not executed so r=0 will be use\n",
    "    def fun1():\n",
    "        global r\n",
    "        r='hihihih'\n",
    "    fun1()\n",
    "    print(r)  #as fun1() is executed before so r='hihihi' will be use after words \n",
    "\n",
    "fun()"
   ]
  },
  {
   "cell_type": "code",
   "execution_count": 185,
   "metadata": {},
   "outputs": [
    {
     "name": "stdout",
     "output_type": "stream",
     "text": [
      "arif\n",
      "taimoor\n"
     ]
    }
   ],
   "source": [
    "a='taimoor'\n",
    "def change():\n",
    "    a='arif'\n",
    "    print(a)\n",
    "change()\n",
    "print(a)"
   ]
  },
  {
   "cell_type": "code",
   "execution_count": 186,
   "metadata": {},
   "outputs": [
    {
     "name": "stdout",
     "output_type": "stream",
     "text": [
      "taimoor\n",
      "taimoor\n"
     ]
    }
   ],
   "source": [
    "a='taimoor'\n",
    "def change():\n",
    "    print(a)\n",
    "change()\n",
    "print(a)"
   ]
  },
  {
   "cell_type": "code",
   "execution_count": 187,
   "metadata": {},
   "outputs": [
    {
     "name": "stdout",
     "output_type": "stream",
     "text": [
      "['taimoor', 'arif']\n",
      "['taimoor', 'arif']\n"
     ]
    }
   ],
   "source": [
    "a=['taimoor']\n",
    "\n",
    "def change():\n",
    "    a.append('arif')\n",
    "    print(a)\n",
    "\n",
    "change()\n",
    "print(a)"
   ]
  },
  {
   "cell_type": "raw",
   "metadata": {},
   "source": [
    "we can call outer variables inside function directly\n",
    "and also mutate them if they are mutable type (like)--> list ,dictionary ,set\n",
    "we can also call tuple,string,int,float inside function without the need of arugment\n",
    "but if we try to mutate them they will not because they are immutable \n",
    "\n",
    "assign them new value using = sign  we are actually creating special local variable for function. \n",
    "irrespect of mutable or not mutable \n",
    "so any variable created with = and assigned value using = will not remain outside same\n",
    "\n",
    "function does not allow us to overwrite untill we don't declear variable as gloabal inside function\n",
    "function can take values of outer varibles and can paly with it \n",
    "but cannot cahange outer \n",
    "--------------------\n",
    "there is a differenc between completely chaning and transforming \n",
    "\n",
    "list ,dictionary,set can be transfome using methods\n",
    "\n",
    "so function can use there own methods and can transform\n",
    "but function cannot make it assign completly new list"
   ]
  },
  {
   "cell_type": "code",
   "execution_count": 190,
   "metadata": {},
   "outputs": [
    {
     "data": {
      "text/plain": [
       "[1, 2, 3, 4]"
      ]
     },
     "execution_count": 190,
     "metadata": {},
     "output_type": "execute_result"
    }
   ],
   "source": [
    "ls=[1,2,3]\n",
    "\n",
    "def change():\n",
    "    ls.append(4)  permenantly trasnformed because it is same ls which is out side\n",
    "    \n",
    "change()\n",
    "ls\n",
    "ls    #it has changed "
   ]
  },
  {
   "cell_type": "code",
   "execution_count": 191,
   "metadata": {},
   "outputs": [
    {
     "data": {
      "text/plain": [
       "[1, 2, 3]"
      ]
     },
     "execution_count": 191,
     "metadata": {},
     "output_type": "execute_result"
    }
   ],
   "source": [
    "ls=[1,2,3]\n",
    "\n",
    "def change():\n",
    "    ls=['a','b','c']   #as we use = signe so function take it personally and isolate it and consider it as its own private thing\n",
    "    \n",
    "change()\n",
    "ls\n",
    "ls   #see nothing change insthis"
   ]
  },
  {
   "cell_type": "code",
   "execution_count": 198,
   "metadata": {},
   "outputs": [
    {
     "data": {
      "text/plain": [
       "[1, 2, 3, 4, 5, 6, 7, 8]"
      ]
     },
     "execution_count": 198,
     "metadata": {},
     "output_type": "execute_result"
    }
   ],
   "source": [
    "ls=[1,2,3]\n",
    "\n",
    "def change(l):\n",
    "    l.extend([4,5,6,7,8])   #see with argument assign also it change\n",
    "change(ls)     #ls now send through as arugment \n",
    "ls\n",
    "ls   #it did change the original\n"
   ]
  },
  {
   "cell_type": "code",
   "execution_count": 277,
   "metadata": {},
   "outputs": [
    {
     "name": "stdout",
     "output_type": "stream",
     "text": [
      "['aaaaaaaaa']\n"
     ]
    },
    {
     "data": {
      "text/plain": [
       "[1, 2, 3]"
      ]
     },
     "execution_count": 277,
     "metadata": {},
     "output_type": "execute_result"
    }
   ],
   "source": [
    "ls=[1,2,3]\n",
    "\n",
    "def change(l):\n",
    "    l=['aaaaaaaaa']   #using = sign make variable local \n",
    "    print(l)\n",
    "change(ls)      #so ls would not be assign =['aaaaa'] \n",
    "ls\n",
    "ls  \n",
    "#inner list does not match outer because assigning inside function is personla to function"
   ]
  },
  {
   "cell_type": "markdown",
   "metadata": {},
   "source": [
    "### back to file handling"
   ]
  },
  {
   "cell_type": "code",
   "execution_count": 307,
   "metadata": {},
   "outputs": [
    {
     "data": {
      "text/plain": [
       "['Title',\n",
       " 'Artist',\n",
       " 'Nationality',\n",
       " 'BeginDate',\n",
       " 'EndDate',\n",
       " 'Gender',\n",
       " 'Date',\n",
       " 'Department']"
      ]
     },
     "execution_count": 307,
     "metadata": {},
     "output_type": "execute_result"
    }
   ],
   "source": [
    "from csv import reader\n",
    "f=open('artworks.csv',encoding='utf8') #this will open file in read mode\n",
    "data=reader(f) #this will understand csv structure and only read values #it is generator function also\n",
    "next(data)  #see it work by next() now each time it will give new row #hirst row is header columns\n"
   ]
  },
  {
   "cell_type": "code",
   "execution_count": 308,
   "metadata": {},
   "outputs": [
    {
     "data": {
      "text/plain": [
       "[['Dress MacLeod from Tartan Sets',\n",
       "  'Sarah Charlesworth',\n",
       "  '(American)',\n",
       "  '(1947)',\n",
       "  '(2013)',\n",
       "  '(Female)',\n",
       "  '1986',\n",
       "  'Prints & Illustrated Books'],\n",
       " ['Duplicate of plate from folio 11 verso (supplementary suite, plate 4) from ARDICIA',\n",
       "  'Pablo Palazuelo',\n",
       "  '(Spanish)',\n",
       "  '(1916)',\n",
       "  '(2007)',\n",
       "  '(Male)',\n",
       "  '1978',\n",
       "  'Prints & Illustrated Books']]"
      ]
     },
     "execution_count": 308,
     "metadata": {},
     "output_type": "execute_result"
    }
   ],
   "source": [
    "listed=list(data)\n",
    "listed[0:2] #as we have already applied onetime next() so on 0 we have real row entry not header\n",
    "\n",
    "#we have list of list excluding header because we already generated using 1-time next(data) "
   ]
  },
  {
   "cell_type": "code",
   "execution_count": 309,
   "metadata": {},
   "outputs": [
    {
     "data": {
      "text/plain": [
       "[['Dress MacLeod from Tartan Sets',\n",
       "  'Sarah Charlesworth',\n",
       "  '(American)',\n",
       "  '(1947)',\n",
       "  '(2013)',\n",
       "  '(Female)',\n",
       "  '1986',\n",
       "  'Prints & Illustrated Books'],\n",
       " ['Duplicate of plate from folio 11 verso (supplementary suite, plate 4) from ARDICIA',\n",
       "  'Pablo Palazuelo',\n",
       "  '(Spanish)',\n",
       "  '(1916)',\n",
       "  '(2007)',\n",
       "  '(Male)',\n",
       "  '1978',\n",
       "  'Prints & Illustrated Books'],\n",
       " ['Tailpiece (page 55) from SAGESSE',\n",
       "  'Maurice Denis',\n",
       "  '(French)',\n",
       "  '(1870)',\n",
       "  '(1943)',\n",
       "  '(Male)',\n",
       "  '1889-1911',\n",
       "  'Prints & Illustrated Books'],\n",
       " ['Headpiece (page 129) from LIVRET DE FOLASTRIES, À JANOT PARISIEN',\n",
       "  'Aristide Maillol',\n",
       "  '(French)',\n",
       "  '(1861)',\n",
       "  '(1944)',\n",
       "  '(Male)',\n",
       "  '1927-1940',\n",
       "  'Prints & Illustrated Books'],\n",
       " ['97 rue du Bac',\n",
       "  'Eugène Atget',\n",
       "  '(French)',\n",
       "  '(1857)',\n",
       "  '(1927)',\n",
       "  '(Male)',\n",
       "  '1903',\n",
       "  'Photography']]"
      ]
     },
     "execution_count": 309,
     "metadata": {},
     "output_type": "execute_result"
    }
   ],
   "source": [
    "listed[:5]  #so now we have csv file in list of list without header "
   ]
  },
  {
   "cell_type": "code",
   "execution_count": 310,
   "metadata": {},
   "outputs": [],
   "source": [
    "#convert birth dat into interger birth date is in column 3rd\n",
    "\n",
    "for row in listed:  #3 is index of row--row is a list \n",
    "    row[3]=row[3].replace('(','').replace(')','')\n",
    "    if row[3] !='':\n",
    "        row[3]=int(row[3])"
   ]
  },
  {
   "cell_type": "code",
   "execution_count": 311,
   "metadata": {},
   "outputs": [
    {
     "data": {
      "text/plain": [
       "['Dress MacLeod from Tartan Sets',\n",
       " 'Sarah Charlesworth',\n",
       " '(American)',\n",
       " 1947,\n",
       " '(2013)',\n",
       " '(Female)',\n",
       " '1986',\n",
       " 'Prints & Illustrated Books']"
      ]
     },
     "execution_count": 311,
     "metadata": {},
     "output_type": "execute_result"
    }
   ],
   "source": [
    "listed[0]  #done now to same with index=4 which is enddate"
   ]
  },
  {
   "cell_type": "code",
   "execution_count": 313,
   "metadata": {},
   "outputs": [],
   "source": [
    "for row in listed:\n",
    "    row[4]=row[4].replace('(','').replace(')','')\n",
    "    if row[4] != '':\n",
    "        row[4]=int(row[4])"
   ]
  },
  {
   "cell_type": "code",
   "execution_count": 315,
   "metadata": {},
   "outputs": [
    {
     "data": {
      "text/plain": [
       "['Dress MacLeod from Tartan Sets',\n",
       " 'Sarah Charlesworth',\n",
       " '(American)',\n",
       " 1947,\n",
       " 2013,\n",
       " '(Female)',\n",
       " '1986',\n",
       " 'Prints & Illustrated Books']"
      ]
     },
     "execution_count": 315,
     "metadata": {},
     "output_type": "execute_result"
    }
   ],
   "source": [
    "listed[0] #done both dates are now in integer "
   ]
  },
  {
   "cell_type": "code",
   "execution_count": 334,
   "metadata": {},
   "outputs": [
    {
     "name": "stdout",
     "output_type": "stream",
     "text": [
      "I score 755\n",
      "I earn $200,000.00\n",
      "Percent  88.68%\n"
     ]
    }
   ],
   "source": [
    "print('I score {score:}\\nI earn ${money:,.2f}\\nPercent  {percent:.2f}%'.format(score=755,money=200000,percent=88.6799765))"
   ]
  },
  {
   "cell_type": "code",
   "execution_count": 344,
   "metadata": {},
   "outputs": [
    {
     "name": "stdout",
     "output_type": "stream",
     "text": [
      "--------Welcome------reg\n",
      "bregeretgetth\n",
      "gergergeger\n",
      "regewfe\n",
      "f\n",
      "f\n",
      "fdfdbw\n",
      "eehi my name is taimoorhi my name is taimoorhi my name is taimoorhi my name is taimoor\n",
      "\n",
      "reg\n",
      "bregeretgetth\n",
      "gergergeger\n",
      "regewfe\n",
      "f\n",
      "f\n",
      "fdfdbw\n",
      "eehi my name is taimoorhi my name is taimoorhi my name is taimoorhi my name is taimoorhi my name is taimoor\n"
     ]
    }
   ],
   "source": [
    "with open(file='taimoor.txt',mode='r+') as f:\n",
    "    print(f.read())\n",
    "    f.write('hi my name is taimoor')\n",
    "    print(f.read())\n",
    "    f.seek(0)\n",
    "    f.write('--------Welcome------')\n",
    "    print(f.read())"
   ]
  },
  {
   "cell_type": "code",
   "execution_count": 347,
   "metadata": {},
   "outputs": [
    {
     "name": "stdout",
     "output_type": "stream",
     "text": [
      "etgetth\n",
      "gergergeger\n",
      "regewfe\n",
      "f\n",
      "f\n",
      "fdfdbw\n",
      "eehi my name is taimoorhi my name is taimoorhi my name is taimoorhi my name is taimoorhi my name is taimoor\n",
      " i am goging to talk abou my self\n"
     ]
    }
   ],
   "source": [
    "with open(file='taimoor.txt',mode='r+') as f:\n",
    "    f.write('i am goging to talk abou my self')\n",
    "    print(f.read())\n",
    "    "
   ]
  },
  {
   "cell_type": "code",
   "execution_count": 366,
   "metadata": {},
   "outputs": [
    {
     "data": {
      "text/plain": [
       "6"
      ]
     },
     "execution_count": 366,
     "metadata": {},
     "output_type": "execute_result"
    }
   ],
   "source": [
    "f=open(file='taimoor.txt',mode='w+') \n",
    "f.write('abcdef')"
   ]
  },
  {
   "cell_type": "code",
   "execution_count": 367,
   "metadata": {},
   "outputs": [
    {
     "data": {
      "text/plain": [
       "'abcdef'"
      ]
     },
     "execution_count": 367,
     "metadata": {},
     "output_type": "execute_result"
    }
   ],
   "source": [
    "f.seek(0)\n",
    "f.read()"
   ]
  },
  {
   "cell_type": "code",
   "execution_count": 368,
   "metadata": {},
   "outputs": [
    {
     "data": {
      "text/plain": [
       "''"
      ]
     },
     "execution_count": 368,
     "metadata": {},
     "output_type": "execute_result"
    }
   ],
   "source": [
    "f.read()"
   ]
  },
  {
   "cell_type": "code",
   "execution_count": 369,
   "metadata": {},
   "outputs": [
    {
     "data": {
      "text/plain": [
       "3"
      ]
     },
     "execution_count": 369,
     "metadata": {},
     "output_type": "execute_result"
    }
   ],
   "source": [
    "f.write('xyz')"
   ]
  },
  {
   "cell_type": "code",
   "execution_count": 370,
   "metadata": {},
   "outputs": [
    {
     "data": {
      "text/plain": [
       "'abcdefxyz'"
      ]
     },
     "execution_count": 370,
     "metadata": {},
     "output_type": "execute_result"
    }
   ],
   "source": [
    "f.seek(0)\n",
    "f.read()"
   ]
  },
  {
   "cell_type": "code",
   "execution_count": 371,
   "metadata": {},
   "outputs": [
    {
     "data": {
      "text/plain": [
       "'abcdefxyz\\x00\\x00\\x00\\x00\\x00\\x00\\x00\\x00\\x00\\x00\\x00stop'"
      ]
     },
     "execution_count": 371,
     "metadata": {},
     "output_type": "execute_result"
    }
   ],
   "source": [
    "f.seek(20)\n",
    "f.write('stop')\n",
    "f.seek(0)\n",
    "f.read()"
   ]
  },
  {
   "cell_type": "code",
   "execution_count": 372,
   "metadata": {},
   "outputs": [
    {
     "data": {
      "text/plain": [
       "True"
      ]
     },
     "execution_count": 372,
     "metadata": {},
     "output_type": "execute_result"
    }
   ],
   "source": [
    "f.close()\n",
    "f.closed"
   ]
  },
  {
   "cell_type": "code",
   "execution_count": 373,
   "metadata": {},
   "outputs": [
    {
     "data": {
      "text/plain": [
       "'abcdefxyz\\x00\\x00\\x00\\x00\\x00\\x00\\x00\\x00\\x00\\x00\\x00stop'"
      ]
     },
     "execution_count": 373,
     "metadata": {},
     "output_type": "execute_result"
    }
   ],
   "source": [
    "f=open('taimoor.txt',mode='r+')\n",
    "f.read()"
   ]
  },
  {
   "cell_type": "code",
   "execution_count": 374,
   "metadata": {},
   "outputs": [
    {
     "data": {
      "text/plain": [
       "''"
      ]
     },
     "execution_count": 374,
     "metadata": {},
     "output_type": "execute_result"
    }
   ],
   "source": [
    "f.read()"
   ]
  },
  {
   "cell_type": "code",
   "execution_count": 375,
   "metadata": {},
   "outputs": [
    {
     "data": {
      "text/plain": [
       "29"
      ]
     },
     "execution_count": 375,
     "metadata": {},
     "output_type": "execute_result"
    }
   ],
   "source": [
    "f.write('   its time to goto next line')"
   ]
  },
  {
   "cell_type": "code",
   "execution_count": 388,
   "metadata": {},
   "outputs": [
    {
     "data": {
      "text/plain": [
       "'defxyz\\x00\\x00\\x00\\x00\\x00\\x00\\x00\\x00\\x00\\x00\\x00stop   its time to goto next line'"
      ]
     },
     "execution_count": 388,
     "metadata": {},
     "output_type": "execute_result"
    }
   ],
   "source": [
    "f.seek(3)\n",
    "f.read()"
   ]
  },
  {
   "cell_type": "code",
   "execution_count": 390,
   "metadata": {},
   "outputs": [
    {
     "data": {
      "text/plain": [
       "1"
      ]
     },
     "execution_count": 390,
     "metadata": {},
     "output_type": "execute_result"
    }
   ],
   "source": [
    "f.seek(3)\n",
    "f.write('3')"
   ]
  },
  {
   "cell_type": "code",
   "execution_count": 392,
   "metadata": {},
   "outputs": [
    {
     "data": {
      "text/plain": [
       "'abc3efxyz\\x00\\x00\\x00\\x00\\x00\\x00\\x00\\x00\\x00\\x00\\x00stop   its time to goto next line'"
      ]
     },
     "execution_count": 392,
     "metadata": {},
     "output_type": "execute_result"
    }
   ],
   "source": [
    "f.seek(0)\n",
    "f.read()"
   ]
  },
  {
   "cell_type": "code",
   "execution_count": 393,
   "metadata": {},
   "outputs": [
    {
     "data": {
      "text/plain": [
       "True"
      ]
     },
     "execution_count": 393,
     "metadata": {},
     "output_type": "execute_result"
    }
   ],
   "source": [
    "f.close()\n",
    "f.closed"
   ]
  },
  {
   "cell_type": "code",
   "execution_count": 396,
   "metadata": {},
   "outputs": [
    {
     "data": {
      "text/plain": [
       "''"
      ]
     },
     "execution_count": 396,
     "metadata": {},
     "output_type": "execute_result"
    }
   ],
   "source": [
    "f=open('taimoor.txt','a+') \n",
    "f.read()"
   ]
  },
  {
   "cell_type": "code",
   "execution_count": 398,
   "metadata": {},
   "outputs": [
    {
     "data": {
      "text/plain": [
       "'abc3efxyz\\x00\\x00\\x00\\x00\\x00\\x00\\x00\\x00\\x00\\x00\\x00stop   its time to goto next line'"
      ]
     },
     "execution_count": 398,
     "metadata": {},
     "output_type": "execute_result"
    }
   ],
   "source": [
    "f.seek(0)\n",
    "f.read()"
   ]
  },
  {
   "cell_type": "code",
   "execution_count": 402,
   "metadata": {},
   "outputs": [
    {
     "data": {
      "text/plain": [
       "'abc3efxyz\\x00\\x00\\x00\\x00\\x00\\x00\\x00\\x00\\x00\\x00\\x00stop   its time to goto next line666'"
      ]
     },
     "execution_count": 402,
     "metadata": {},
     "output_type": "execute_result"
    }
   ],
   "source": [
    "f.seek(6)\n",
    "f.write('6') #it will always write at the end even if u seek(0)\n",
    "f.seek(0)\n",
    "f.read()"
   ]
  },
  {
   "cell_type": "code",
   "execution_count": 407,
   "metadata": {},
   "outputs": [
    {
     "data": {
      "text/plain": [
       "True"
      ]
     },
     "execution_count": 407,
     "metadata": {},
     "output_type": "execute_result"
    }
   ],
   "source": [
    "f.seek(6)\n",
    "f.write('6')  #a+ model always write at the end\n",
    "f.seek(6)\n",
    "f.read()\n",
    "f.close()\n",
    "f.closed"
   ]
  },
  {
   "cell_type": "code",
   "execution_count": 421,
   "metadata": {},
   "outputs": [
    {
     "data": {
      "text/plain": [
       "1"
      ]
     },
     "execution_count": 421,
     "metadata": {},
     "output_type": "execute_result"
    }
   ],
   "source": [
    "n=open('newstart.txt','w') \n",
    "n.write('so its bangla dash match vs pakistan')\n",
    "n.seek(2)\n",
    "n.write('-')"
   ]
  },
  {
   "cell_type": "code",
   "execution_count": 422,
   "metadata": {},
   "outputs": [
    {
     "data": {
      "text/plain": [
       "True"
      ]
     },
     "execution_count": 422,
     "metadata": {},
     "output_type": "execute_result"
    }
   ],
   "source": [
    "n.write('-')\n",
    "n.close()\n",
    "n.closed"
   ]
  },
  {
   "cell_type": "code",
   "execution_count": 424,
   "metadata": {},
   "outputs": [
    {
     "data": {
      "text/plain": [
       "48"
      ]
     },
     "execution_count": 424,
     "metadata": {},
     "output_type": "execute_result"
    }
   ],
   "source": [
    "n=open('newstart.txt','a')\n",
    "n.write('so a mode when open cursor postion is at the end')"
   ]
  },
  {
   "cell_type": "code",
   "execution_count": 425,
   "metadata": {},
   "outputs": [
    {
     "data": {
      "text/plain": [
       "True"
      ]
     },
     "execution_count": 425,
     "metadata": {},
     "output_type": "execute_result"
    }
   ],
   "source": [
    "n.close()\n",
    "n.closed"
   ]
  },
  {
   "cell_type": "code",
   "execution_count": 429,
   "metadata": {},
   "outputs": [],
   "source": [
    "n=open('newstart.txt','a+')"
   ]
  },
  {
   "cell_type": "code",
   "execution_count": 430,
   "metadata": {},
   "outputs": [
    {
     "data": {
      "text/plain": [
       "2"
      ]
     },
     "execution_count": 430,
     "metadata": {},
     "output_type": "execute_result"
    }
   ],
   "source": [
    "n.write('A+')"
   ]
  },
  {
   "cell_type": "code",
   "execution_count": 431,
   "metadata": {},
   "outputs": [
    {
     "data": {
      "text/plain": [
       "''"
      ]
     },
     "execution_count": 431,
     "metadata": {},
     "output_type": "execute_result"
    }
   ],
   "source": [
    "n.read()"
   ]
  },
  {
   "cell_type": "code",
   "execution_count": 433,
   "metadata": {},
   "outputs": [
    {
     "data": {
      "text/plain": [
       "True"
      ]
     },
     "execution_count": 433,
     "metadata": {},
     "output_type": "execute_result"
    }
   ],
   "source": [
    "n.seek(0)\n",
    "n.read()\n",
    "n.close()\n",
    "n.closed"
   ]
  },
  {
   "cell_type": "code",
   "execution_count": 435,
   "metadata": {},
   "outputs": [
    {
     "data": {
      "text/plain": [
       "106"
      ]
     },
     "execution_count": 435,
     "metadata": {},
     "output_type": "execute_result"
    }
   ],
   "source": [
    "n=open('newstart.txt','w+') \n",
    "n.read()  #no matter what u do if u dare to open file in w+ or w mode ur data will be truncated\n",
    "            #it has one advantage is write after seek\n",
    "            #but we have other option and best one is r+\n",
    "n.write(\"so once again we are back and writing again  it\\'s pakistan vs bangladash in rawalpindi test match wooohoo!\")"
   ]
  },
  {
   "cell_type": "code",
   "execution_count": 437,
   "metadata": {},
   "outputs": [
    {
     "data": {
      "text/plain": [
       "True"
      ]
     },
     "execution_count": 437,
     "metadata": {},
     "output_type": "execute_result"
    }
   ],
   "source": [
    "n.close()\n",
    "n.closed"
   ]
  },
  {
   "cell_type": "code",
   "execution_count": 440,
   "metadata": {},
   "outputs": [
    {
     "data": {
      "text/plain": [
       "\"so once again we are back and writing again  it's pakistan vs bangladash in rawalpindi test match wooohoo!\""
      ]
     },
     "execution_count": 440,
     "metadata": {},
     "output_type": "execute_result"
    }
   ],
   "source": [
    "n=open('newstart.txt','r+')\n",
    "n.read()      #so it can read and when it is open its cursor is also in start \n",
    "\n",
    "\n",
    "\n",
    "#but after read its cursor is at the end"
   ]
  },
  {
   "cell_type": "code",
   "execution_count": 441,
   "metadata": {},
   "outputs": [
    {
     "data": {
      "text/plain": [
       "18"
      ]
     },
     "execution_count": 441,
     "metadata": {},
     "output_type": "execute_result"
    }
   ],
   "source": [
    "n.write(' what is timing???')"
   ]
  },
  {
   "cell_type": "code",
   "execution_count": 443,
   "metadata": {},
   "outputs": [
    {
     "data": {
      "text/plain": [
       "\"so once again we are back and writing again  it's pakistan vs bangladash in rawalpindi test match wooohoo! what is timing???\""
      ]
     },
     "execution_count": 443,
     "metadata": {},
     "output_type": "execute_result"
    }
   ],
   "source": [
    "n.seek(0)\n",
    "n.read()"
   ]
  },
  {
   "cell_type": "code",
   "execution_count": 444,
   "metadata": {},
   "outputs": [
    {
     "data": {
      "text/plain": [
       "2"
      ]
     },
     "execution_count": 444,
     "metadata": {},
     "output_type": "execute_result"
    }
   ],
   "source": [
    "n.seek(0)\n",
    "n.write('SO')"
   ]
  },
  {
   "cell_type": "code",
   "execution_count": 445,
   "metadata": {},
   "outputs": [
    {
     "data": {
      "text/plain": [
       "\"SO once again we are back and writing again  it's pakistan vs bangladash in rawalpindi test match wooohoo! what is timing???\""
      ]
     },
     "execution_count": 445,
     "metadata": {},
     "output_type": "execute_result"
    }
   ],
   "source": [
    "n.seek(0)\n",
    "n.read()"
   ]
  },
  {
   "cell_type": "code",
   "execution_count": 446,
   "metadata": {},
   "outputs": [],
   "source": [
    "# 'r+' is best as \n",
    "#'it can read' and 'write' \n",
    "# and 'does not truncate when open' \n",
    "#and 'can write after seek' \n",
    "#and also write from end after read\n",
    "#it does not creat newfile and does not throw error if file does not exist\n"
   ]
  },
  {
   "cell_type": "code",
   "execution_count": 451,
   "metadata": {},
   "outputs": [],
   "source": [
    "9with open('abctask.txt','w+') as abc, open('123task.txt','w+') as one23:\n",
    "    abc.write('A,B,C')\n",
    "    one23.write('1,2,3')"
   ]
  },
  {
   "cell_type": "code",
   "execution_count": 452,
   "metadata": {},
   "outputs": [
    {
     "data": {
      "text/plain": [
       "(None, True)"
      ]
     },
     "execution_count": 452,
     "metadata": {},
     "output_type": "execute_result"
    }
   ],
   "source": [
    "abc.close(),abc.closed\n",
    "one23.close(),one23.closed"
   ]
  },
  {
   "cell_type": "code",
   "execution_count": 463,
   "metadata": {},
   "outputs": [
    {
     "name": "stdout",
     "output_type": "stream",
     "text": [
      "C,B,A 1,2,3\n"
     ]
    }
   ],
   "source": [
    "with open('abctask.txt','r+') as abc, open('123task.txt','r+') as one23, open('taskdone.txt','w+') as done:\n",
    "    abc_ls=abc.read().split(',')\n",
    "    abc_flip=','.join(abc_ls[::-1])\n",
    "    done.write(abc_flip+' '+one23.read())\n",
    "    done.seek(0)\n",
    "    print(done.read())\n"
   ]
  },
  {
   "cell_type": "code",
   "execution_count": 469,
   "metadata": {},
   "outputs": [
    {
     "data": {
      "text/plain": [
       "['t', 'a', 'i', 'm', 'o', 'o', 'r']"
      ]
     },
     "execution_count": 469,
     "metadata": {},
     "output_type": "execute_result"
    }
   ],
   "source": [
    "list('taimoor')"
   ]
  },
  {
   "cell_type": "code",
   "execution_count": 470,
   "metadata": {},
   "outputs": [],
   "source": [
    "ls=list('taimoor')"
   ]
  },
  {
   "cell_type": "code",
   "execution_count": 501,
   "metadata": {},
   "outputs": [],
   "source": [
    "gen=(reversed(ls))  #i made iterator --->into generator "
   ]
  },
  {
   "cell_type": "code",
   "execution_count": 502,
   "metadata": {},
   "outputs": [
    {
     "data": {
      "text/plain": [
       "('r', 'o', 'o', 'm')"
      ]
     },
     "execution_count": 502,
     "metadata": {},
     "output_type": "execute_result"
    }
   ],
   "source": [
    "next(gen),next(gen),next(gen),next(gen)"
   ]
  },
  {
   "cell_type": "code",
   "execution_count": 503,
   "metadata": {},
   "outputs": [
    {
     "data": {
      "text/plain": [
       "['i', 'a', 't']"
      ]
     },
     "execution_count": 503,
     "metadata": {},
     "output_type": "execute_result"
    }
   ],
   "source": [
    "list(gen)  #we can convert gen into list"
   ]
  },
  {
   "cell_type": "code",
   "execution_count": 504,
   "metadata": {},
   "outputs": [
    {
     "data": {
      "text/plain": [
       "['r', 'o', 'o', 'm', 'i', 'a', 't']"
      ]
     },
     "execution_count": 504,
     "metadata": {},
     "output_type": "execute_result"
    }
   ],
   "source": [
    "list(reversed(ls)) #reversed itself is iterator so we can diretly convert it into list"
   ]
  },
  {
   "cell_type": "code",
   "execution_count": 535,
   "metadata": {},
   "outputs": [],
   "source": [
    "data=open('artworks.csv',encoding='utf8') "
   ]
  },
  {
   "cell_type": "code",
   "execution_count": 536,
   "metadata": {},
   "outputs": [],
   "source": [
    "dr=reader(data)"
   ]
  },
  {
   "cell_type": "code",
   "execution_count": 537,
   "metadata": {},
   "outputs": [],
   "source": [
    "ls=list(dr)"
   ]
  },
  {
   "cell_type": "code",
   "execution_count": 539,
   "metadata": {},
   "outputs": [],
   "source": [
    "row_ls=ls[1:]"
   ]
  },
  {
   "cell_type": "code",
   "execution_count": 541,
   "metadata": {},
   "outputs": [
    {
     "data": {
      "text/plain": [
       "['Dress MacLeod from Tartan Sets',\n",
       " 'Sarah Charlesworth',\n",
       " '(American)',\n",
       " '(1947)',\n",
       " '(2013)',\n",
       " '(Female)',\n",
       " '1986',\n",
       " 'Prints & Illustrated Books']"
      ]
     },
     "execution_count": 541,
     "metadata": {},
     "output_type": "execute_result"
    }
   ],
   "source": [
    "row_ls[0]"
   ]
  },
  {
   "cell_type": "code",
   "execution_count": 542,
   "metadata": {},
   "outputs": [],
   "source": [
    "for row in row_ls:  #3 is index of row--row is a list \n",
    "    row[3]=row[3].replace('(','').replace(')','')\n",
    "    if row[3] !='':\n",
    "        row[3]=int(row[3])"
   ]
  },
  {
   "cell_type": "code",
   "execution_count": 544,
   "metadata": {},
   "outputs": [],
   "source": [
    "for row in row_ls:  #3 is index of row--row is a list \n",
    "    row[4]=row[4].replace('(','').replace(')','')\n",
    "    if row[4] !='':\n",
    "        row[4]=int(row[4])"
   ]
  },
  {
   "cell_type": "code",
   "execution_count": 554,
   "metadata": {},
   "outputs": [],
   "source": [
    "my=open('myartooon.csv','w+',newline='',encoding='utf8') "
   ]
  },
  {
   "cell_type": "code",
   "execution_count": 555,
   "metadata": {},
   "outputs": [],
   "source": [
    "from csv import writer"
   ]
  },
  {
   "cell_type": "code",
   "execution_count": 556,
   "metadata": {},
   "outputs": [],
   "source": [
    "write=writer(my,delimiter=',')"
   ]
  },
  {
   "cell_type": "code",
   "execution_count": 557,
   "metadata": {},
   "outputs": [
    {
     "data": {
      "text/plain": [
       "67"
      ]
     },
     "execution_count": 557,
     "metadata": {},
     "output_type": "execute_result"
    }
   ],
   "source": [
    "write.writerow(ls[0])"
   ]
  },
  {
   "cell_type": "code",
   "execution_count": 558,
   "metadata": {},
   "outputs": [
    {
     "data": {
      "text/plain": [
       "'Title,Artist,Nationality,BeginDate,EndDate,Gender,Date,Department\\r\\n'"
      ]
     },
     "execution_count": 558,
     "metadata": {},
     "output_type": "execute_result"
    }
   ],
   "source": [
    "my.seek(0)\n",
    "my.read()"
   ]
  },
  {
   "cell_type": "code",
   "execution_count": 560,
   "metadata": {},
   "outputs": [
    {
     "data": {
      "text/plain": [
       "True"
      ]
     },
     "execution_count": 560,
     "metadata": {},
     "output_type": "execute_result"
    }
   ],
   "source": [
    "write.writerows(row_ls)\n",
    "my.close()\n",
    "my.closed"
   ]
  },
  {
   "cell_type": "code",
   "execution_count": 565,
   "metadata": {},
   "outputs": [],
   "source": [
    "import json"
   ]
  },
  {
   "cell_type": "code",
   "execution_count": 566,
   "metadata": {},
   "outputs": [],
   "source": [
    "j=open('jsonmy.json','w+') "
   ]
  },
  {
   "cell_type": "code",
   "execution_count": 567,
   "metadata": {},
   "outputs": [],
   "source": [
    "json.dump([1,2,3,4],j)"
   ]
  },
  {
   "cell_type": "code",
   "execution_count": 568,
   "metadata": {},
   "outputs": [
    {
     "data": {
      "text/plain": [
       "True"
      ]
     },
     "execution_count": 568,
     "metadata": {},
     "output_type": "execute_result"
    }
   ],
   "source": [
    "j.close()\n",
    "j.closed"
   ]
  },
  {
   "cell_type": "code",
   "execution_count": 572,
   "metadata": {},
   "outputs": [],
   "source": [
    "j=open('jsonmy.json') "
   ]
  },
  {
   "cell_type": "code",
   "execution_count": 573,
   "metadata": {},
   "outputs": [],
   "source": [
    "loaded=json.load(j)"
   ]
  },
  {
   "cell_type": "code",
   "execution_count": 575,
   "metadata": {},
   "outputs": [
    {
     "data": {
      "text/plain": [
       "list"
      ]
     },
     "execution_count": 575,
     "metadata": {},
     "output_type": "execute_result"
    }
   ],
   "source": [
    "type(loaded)"
   ]
  },
  {
   "cell_type": "code",
   "execution_count": 576,
   "metadata": {},
   "outputs": [
    {
     "data": {
      "text/plain": [
       "True"
      ]
     },
     "execution_count": 576,
     "metadata": {},
     "output_type": "execute_result"
    }
   ],
   "source": [
    "j.close()\n",
    "j.closed"
   ]
  },
  {
   "cell_type": "code",
   "execution_count": null,
   "metadata": {},
   "outputs": [],
   "source": []
  }
 ],
 "metadata": {
  "kernelspec": {
   "display_name": "Python 3",
   "language": "python",
   "name": "python3"
  },
  "language_info": {
   "codemirror_mode": {
    "name": "ipython",
    "version": 3
   },
   "file_extension": ".py",
   "mimetype": "text/x-python",
   "name": "python",
   "nbconvert_exporter": "python",
   "pygments_lexer": "ipython3",
   "version": "3.7.3"
  }
 },
 "nbformat": 4,
 "nbformat_minor": 2
}
