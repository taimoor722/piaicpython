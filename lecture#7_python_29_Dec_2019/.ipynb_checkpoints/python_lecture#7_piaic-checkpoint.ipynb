{
 "cells": [
  {
   "cell_type": "markdown",
   "metadata": {},
   "source": [
    "# Argument  \n",
    "\n",
    "function"
   ]
  },
  {
   "cell_type": "code",
   "execution_count": 46,
   "metadata": {},
   "outputs": [],
   "source": [
    "#pre define function\n",
    "#default function\n",
    "#user define function\n",
    "#parameter\n",
    "#argument\n",
    "\n",
    "#side note : 'what is knowledge graph'"
   ]
  },
  {
   "cell_type": "raw",
   "metadata": {},
   "source": [
    "REQUIRED ARGUMENT\n",
    "\n",
    "-any function that does not work without argument is called  REQUIRED ARGUMENT FUNCTION\n"
   ]
  },
  {
   "cell_type": "raw",
   "metadata": {},
   "source": [
    "# DEFAULT ARGUMENT\n",
    "-already have arugment value if you don't give if will consider already definded arugment value using set by default argument value\n",
    "- so when we makefunction we define default argument so if user decided to change he/she can change but if user dont decided our  set value will be use \n"
   ]
  },
  {
   "cell_type": "raw",
   "metadata": {},
   "source": [
    "#RECURSIVE FUNCTION\n",
    "\n",
    "-recursion : function that call it self it its body is called recursive function \n",
    "(example of mirror at th back of barbar shop)\n",
    "(two mirror one in front and\n"
   ]
  },
  {
   "cell_type": "raw",
   "metadata": {},
   "source": [
    "#GENERATOR  FUNCTION\n",
    "\n",
    "-like range function :it create list  if we have 1million range we have to locate memorry for 1 million and then we can use them\n",
    "-if we want to find even  element out of  1million first we create 1million then find even element\n",
    "\n",
    "-------\n",
    "-so generator function benefite is that it does not directly alocated memebers in memeory\n",
    "-2nd benefit is that it remember its previous value\n",
    "this is called generator function\n",
    "-----\n",
    "\n",
    "\n"
   ]
  },
  {
   "cell_type": "raw",
   "metadata": {},
   "source": [
    "lambed function:\n",
    "    -it does not used before not it will be use after\n",
    "    -one line function\n",
    "    -no name function\n",
    "this type of function is lembed function"
   ]
  },
  {
   "cell_type": "raw",
   "metadata": {},
   "source": [
    "# topic\n",
    "-function\n",
    "  required argument,\n",
    "  optional argument,\n",
    "  return argument,\n",
    "  non return,\n",
    "  default argument,\n",
    "  positional argument,\n",
    "  keyword argument,\n",
    "  argument with list, \n",
    "  arughment with dict,\n",
    "  pre-define function,\n",
    "  user define function\n",
    "-loop\n",
    " -for\n",
    " -while\n",
    " -do while\n",
    "-input\n"
   ]
  },
  {
   "cell_type": "raw",
   "metadata": {},
   "source": [
    "use * at the start of list name if u want to use list postion values as argument postion\n",
    "like for 1st postion u need first element of list\n",
    "     for 2nd postion u need second element of list\n",
    "         * unzip list use * at the end of list\n",
    "         \n",
    "use ** before for dictionary extration\n",
    " - if u unzip from dictionary  we get two values (key and value)\n",
    " - so we give positional argument by key  form dictionary "
   ]
  },
  {
   "cell_type": "code",
   "execution_count": 47,
   "metadata": {},
   "outputs": [],
   "source": [
    "#youtube it expert by sir qasim "
   ]
  },
  {
   "cell_type": "raw",
   "metadata": {},
   "source": [
    "FUNCTION\n",
    " - user define\n",
    "     - default arugment\n",
    "     - require argument\n",
    "     - positional \n",
    "     - key word argument\n",
    "     - generator function (remeber old value and does not locate all memeber into memeory)\n",
    "     - recursive function (infinte function so we have to stop it at some point)\n",
    "     \n",
    " -pre define\n",
    "     - default arugment\n",
    "     - require argument\n",
    "     - positional \n",
    "     - key word argument\n",
    "     - generator function (remeber old value and does not locate all memeber into memeory)\n",
    "     - recursive function (infinte function so we have to stop it at some point)\n",
    " "
   ]
  },
  {
   "cell_type": "raw",
   "metadata": {},
   "source": [
    "- what if postional and keyargument come together\n",
    "- what if we dont know no fo arugments to pass\n",
    "\n"
   ]
  },
  {
   "cell_type": "markdown",
   "metadata": {},
   "source": [
    "#  pre define function"
   ]
  },
  {
   "cell_type": "code",
   "execution_count": 48,
   "metadata": {},
   "outputs": [
    {
     "name": "stdout",
     "output_type": "stream",
     "text": [
      "abc\n",
      "5\n",
      "<class 'int'>\n",
      "2491555684904\n"
     ]
    }
   ],
   "source": [
    "print(\"abc\")\n",
    "print(len(\"lolol\"))\n",
    "print(type(22))\n",
    "print(id(\"aa\"))\n",
    "#when we learn language we want to first learn  langage pre-define functions"
   ]
  },
  {
   "cell_type": "markdown",
   "metadata": {},
   "source": [
    "# User Define Function"
   ]
  },
  {
   "cell_type": "code",
   "execution_count": 49,
   "metadata": {},
   "outputs": [
    {
     "name": "stdout",
     "output_type": "stream",
     "text": [
      "Pakistan Zinda Bad\n",
      "Weare Pakistani\n",
      "We love our country\n"
     ]
    }
   ],
   "source": [
    "print(\"Pakistan Zinda Bad\")\n",
    "print(\"Weare Pakistani\")\n",
    "print(\"We love our country\")\n",
    "\n",
    "#what if we want to repeat these 3 lines many many times \n",
    "#so we create function and put these lines in that function\n"
   ]
  },
  {
   "cell_type": "code",
   "execution_count": 50,
   "metadata": {},
   "outputs": [
    {
     "name": "stdout",
     "output_type": "stream",
     "text": [
      "Pakistan Zinda Bad\n",
      "Weare Pakistani\n",
      "We love our country\n"
     ]
    }
   ],
   "source": [
    "def  abc():    #we did not define any paramet in () so when this function execute it will not ask you for argument\n",
    "    # try to give 4 intentations like this \n",
    "    print(\"Pakistan Zinda Bad\")  #1st statment\n",
    "    print(\"Weare Pakistani\")     #2nd statmment\n",
    "    print(\"We love our country\") #3rd statment\n",
    "    \n",
    "abc()   #now we are calling function    "
   ]
  },
  {
   "cell_type": "code",
   "execution_count": 51,
   "metadata": {},
   "outputs": [
    {
     "name": "stdout",
     "output_type": "stream",
     "text": [
      "Pakistan Zinda Bad\n",
      "Weare Pakistani\n",
      "We love our country\n"
     ]
    }
   ],
   "source": [
    "abc() #now we can call function any time with function name like this"
   ]
  },
  {
   "cell_type": "raw",
   "metadata": {},
   "source": [
    "linear programming -in histroy -for every work we needed to write line\n",
    "    but-linear programming is fast\n",
    "functional progrmming-procedural programming-sub routine programming - it provided block structure  \n",
    "     - it gave us blocks\n",
    "     -now we can write efficient way\n",
    "     -now lines of coding reduce\n",
    "     but-functional programming is slow\n",
    "     "
   ]
  },
  {
   "cell_type": "code",
   "execution_count": 52,
   "metadata": {},
   "outputs": [
    {
     "name": "stdout",
     "output_type": "stream",
     "text": [
      "Pakistan Zinda Bad\n",
      "Weare Pakistani\n",
      "We love our country\n",
      "aaa\n",
      "bbb\n",
      "Pakistan Zinda Bad\n",
      "Weare Pakistani\n",
      "We love our country\n"
     ]
    }
   ],
   "source": [
    "abc()  #our program will find def list and in that dictinary find abc and then execute abc from def dictionary of function\n",
    "print('aaa') #then cursor will execute this line\n",
    "print('bbb') #then this\n",
    "abc() #then again python will search dictionary of def and then find abc and then bring function and execute it\n",
    "\n",
    "#so time delay in function programming is more \n",
    "# time wise functional programming is slow\n",
    "#but we have good processing power that dely is neglibale"
   ]
  },
  {
   "cell_type": "code",
   "execution_count": 53,
   "metadata": {},
   "outputs": [
    {
     "name": "stdout",
     "output_type": "stream",
     "text": [
      "Pakistan Zinda Bad\n",
      "Weare Pakistani\n",
      "We love our country\n",
      "Pakistan Zinda Bad\n",
      "Weare Pakistani\n",
      "We love our country\n",
      "Pakistan Zinda Bad\n",
      "Weare Pakistani\n",
      "We love our country\n",
      "Pakistan Zinda Bad\n",
      "Weare Pakistani\n",
      "We love our country\n",
      "Pakistan Zinda Bad\n",
      "Weare Pakistani\n",
      "We love our country\n"
     ]
    }
   ],
   "source": [
    "#it is a defult function it did not ask for arugment\n",
    "abc()\n",
    "abc()\n",
    "abc()\n",
    "abc()\n",
    "abc()\n",
    "#how can i save my self form repeating calling  abc()???"
   ]
  },
  {
   "cell_type": "markdown",
   "metadata": {},
   "source": [
    "# REQUIRED ARGUMENT"
   ]
  },
  {
   "cell_type": "code",
   "execution_count": 54,
   "metadata": {},
   "outputs": [
    {
     "name": "stdout",
     "output_type": "stream",
     "text": [
      "\n",
      "    PIAIC Islamabad\n",
      "    id : 1,\n",
      "    Name : Ali,\n",
      "    Father's Name : Hamza,\n",
      "    Course : A.I,\n",
      "    \n"
     ]
    }
   ],
   "source": [
    "def id_card(sid,sname, fname,course,timing): #s is student as we are defining arugment we call them paramenter \n",
    "    text = \"\"\"\n",
    "    PIAIC Islamabad\n",
    "    id : {},\n",
    "    Name : {},\n",
    "    Father's Name : {},\n",
    "    Course : {},\n",
    "    \"\"\".format(sid,sname,fname,course,timing) # right now in format position is important for argument\n",
    "    print(text)\n",
    "id_card(1,\"Ali\",\"Hamza\",\"A.I\",\"9 to 12\")"
   ]
  },
  {
   "cell_type": "code",
   "execution_count": 55,
   "metadata": {},
   "outputs": [
    {
     "name": "stdout",
     "output_type": "stream",
     "text": [
      "\n",
      "    PIAIC Islamabad\n",
      "    id : 2,\n",
      "    Name : Taimoor,\n",
      "    Father's Name : Arif,\n",
      "    Course : A.I,\n",
      "    \n"
     ]
    }
   ],
   "source": [
    "id_card(2,'Taimoor','Arif','A.I',\"9 to 12\")"
   ]
  },
  {
   "cell_type": "raw",
   "metadata": {},
   "source": [
    "local variable scoup\n",
    " -sid,sname,fname,course,timing  #the are variable -they have scoup and there variable scoup is local -because it \n",
    "-global variable scoup\n",
    " \n",
    " "
   ]
  },
  {
   "cell_type": "code",
   "execution_count": 56,
   "metadata": {},
   "outputs": [
    {
     "name": "stdout",
     "output_type": "stream",
     "text": [
      "\n",
      "    PIAIC Islamabad\n",
      "    id : 1,\n",
      "    Name : ali,\n",
      "    Father's Name : azim,\n",
      "    Course : cloud,\n",
      "    \n",
      "\n",
      "    PIAIC Islamabad\n",
      "    id : 2,\n",
      "    Name : taimoor,\n",
      "    Father's Name : arif,\n",
      "    Course : A.I,\n",
      "    \n",
      "\n",
      "    PIAIC Islamabad\n",
      "    id : 3,\n",
      "    Name : rauf,\n",
      "    Father's Name : hussain,\n",
      "    Course : Quantum,\n",
      "    \n"
     ]
    }
   ],
   "source": [
    "data = [\n",
    "    [1, 'ali', 'azim', 'cloud', ' 9 to 12'],\n",
    "    \n",
    "    [2, 'taimoor', 'arif', 'A.I', '9 to 12'],\n",
    "    \n",
    "    [3, 'rauf', 'hussain', 'Quantum', '9 to 12' ],\n",
    "\n",
    "        ]\n",
    "#consider this as a databse\n",
    "#we want to make there cards\n",
    "\n",
    "for  v in data:\n",
    "    id_card(*v)  #* is used to give  postion of element in list to corrospodnig postion argument "
   ]
  },
  {
   "cell_type": "markdown",
   "metadata": {},
   "source": [
    "# Optional Argument or we can make them defaul Argument"
   ]
  },
  {
   "cell_type": "code",
   "execution_count": 57,
   "metadata": {},
   "outputs": [
    {
     "name": "stdout",
     "output_type": "stream",
     "text": [
      "5\n",
      "5\n",
      "None\n"
     ]
    }
   ],
   "source": [
    "def abc(x, y = 0, z = 0):  # y and z are optional argument because its value are already set\n",
    "    print(x + y + z )  #first we use sum(x, y, z) it does not worked because it only sum two things\n",
    "    \n",
    "    \n",
    "abc(5)\n",
    "print(abc(x = 5))  #see we dont need to give arugment its optional because it already have values"
   ]
  },
  {
   "cell_type": "code",
   "execution_count": 13,
   "metadata": {},
   "outputs": [
    {
     "data": {
      "text/plain": [
       "16"
      ]
     },
     "execution_count": 13,
     "metadata": {},
     "output_type": "execute_result"
    }
   ],
   "source": [
    "sum([1,2,3],10) #it will add sum of list elements in to 10 or if -10 will subtract -10"
   ]
  },
  {
   "cell_type": "code",
   "execution_count": 58,
   "metadata": {},
   "outputs": [
    {
     "name": "stdout",
     "output_type": "stream",
     "text": [
      "7\n"
     ]
    }
   ],
   "source": [
    "abc(5,1,1)  #inthis we gave x y z arguemnt altho y z where optional as y z had pre deinfed value"
   ]
  },
  {
   "cell_type": "markdown",
   "metadata": {},
   "source": [
    "# Non Return Function"
   ]
  },
  {
   "cell_type": "code",
   "execution_count": 59,
   "metadata": {},
   "outputs": [
    {
     "name": "stdout",
     "output_type": "stream",
     "text": [
      "hi how are you\n"
     ]
    }
   ],
   "source": [
    "#print is a non return function\n",
    "\n",
    "check = print('hi how are you')"
   ]
  },
  {
   "cell_type": "code",
   "execution_count": 60,
   "metadata": {},
   "outputs": [],
   "source": [
    "check #check variable has no value so it show noting"
   ]
  },
  {
   "cell_type": "code",
   "execution_count": 61,
   "metadata": {},
   "outputs": [
    {
     "name": "stdout",
     "output_type": "stream",
     "text": [
      "15\n",
      "None\n"
     ]
    }
   ],
   "source": [
    "x=abc(5,5,5)\n",
    "print(x)  \n",
    "#see abc is non return function\n",
    "#because it did not give result to x \n",
    "#"
   ]
  },
  {
   "cell_type": "code",
   "execution_count": 62,
   "metadata": {},
   "outputs": [
    {
     "data": {
      "text/plain": [
       "(\"\\n    PIAIC Islamabad\\n    id : 1,\\n    Name : Ali,\\n    Father's Name : Hamza,\\n    Course : A.I,\\n    \",\n",
       " 'Qasim',\n",
       " 'Ali')"
      ]
     },
     "execution_count": 62,
     "metadata": {},
     "output_type": "execute_result"
    }
   ],
   "source": [
    "#to make  return function\n",
    "\n",
    "def id_card(sid,sname, fname,course,timing): #s is student as we are defining arugment we call them paramenter \n",
    "    text = \"\"\"\n",
    "    PIAIC Islamabad\n",
    "    id : {},\n",
    "    Name : {},\n",
    "    Father's Name : {},\n",
    "    Course : {},\n",
    "    \"\"\".format(sid,sname,fname,course,timing) # right now in format position is important for argument\n",
    "    return text, 'Qasim', 'Ali'  #it is tuple now it retunrn in tuple form\n",
    "\n",
    "id_card(1,\"Ali\",\"Hamza\",\"A.I\",\"9 to 12\")"
   ]
  },
  {
   "cell_type": "code",
   "execution_count": 63,
   "metadata": {},
   "outputs": [
    {
     "name": "stdout",
     "output_type": "stream",
     "text": [
      "(\"\\n    PIAIC Islamabad\\n    id : 1,\\n    Name : name,\\n    Father's Name : father,\\n    Course : co,\\n    \", 'Qasim', 'Ali')\n"
     ]
    }
   ],
   "source": [
    "print(id_card(1,'name','father','co','timing'))"
   ]
  },
  {
   "cell_type": "code",
   "execution_count": 64,
   "metadata": {},
   "outputs": [
    {
     "name": "stdout",
     "output_type": "stream",
     "text": [
      "\n",
      "    PIAIC Islamabad\n",
      "    id : 1,\n",
      "    Name : name,\n",
      "    Father's Name : father,\n",
      "    Course : co,\n",
      "    \n"
     ]
    }
   ],
   "source": [
    "print(id_card(1,'name','father','co','timing')[0])"
   ]
  },
  {
   "cell_type": "code",
   "execution_count": 65,
   "metadata": {},
   "outputs": [
    {
     "name": "stdout",
     "output_type": "stream",
     "text": [
      "Qasim\n"
     ]
    }
   ],
   "source": [
    "print(id_card(1,'name','father','co','timing')[1])"
   ]
  },
  {
   "cell_type": "code",
   "execution_count": 66,
   "metadata": {},
   "outputs": [
    {
     "name": "stdout",
     "output_type": "stream",
     "text": [
      "Ali\n"
     ]
    }
   ],
   "source": [
    "print(id_card(1,'name','father','co','timing')[2])"
   ]
  },
  {
   "cell_type": "code",
   "execution_count": 67,
   "metadata": {},
   "outputs": [
    {
     "name": "stdout",
     "output_type": "stream",
     "text": [
      "\n",
      "    PIAIC Islamabad\n",
      "    id : 1,\n",
      "    Name : name,\n",
      "    Father's Name : father,\n",
      "    Course : co,\n",
      "     Qasim Ali\n"
     ]
    }
   ],
   "source": [
    "print(*id_card(1,'name','father','co','timing'))"
   ]
  },
  {
   "cell_type": "code",
   "execution_count": 68,
   "metadata": {},
   "outputs": [],
   "source": [
    "def abc(x = 1, y = 1, z = 1):\n",
    "    return (x + y ) * z"
   ]
  },
  {
   "cell_type": "code",
   "execution_count": 69,
   "metadata": {},
   "outputs": [
    {
     "data": {
      "text/plain": [
       "2"
      ]
     },
     "execution_count": 69,
     "metadata": {},
     "output_type": "execute_result"
    }
   ],
   "source": [
    "abc()"
   ]
  },
  {
   "cell_type": "markdown",
   "metadata": {},
   "source": [
    "# KeyWord Argument"
   ]
  },
  {
   "cell_type": "raw",
   "metadata": {},
   "source": [
    "draw back of positional argumeny is that postion is very import for example\n",
    "if u have define that firstargument would be name \n",
    "second argument would be age\n",
    "if user flip it while calling function and put age first and then name so  it would print some thing like that\n",
    "    \n",
    "Name =28\n",
    "age = \"taimoor\""
   ]
  },
  {
   "cell_type": "code",
   "execution_count": 70,
   "metadata": {},
   "outputs": [
    {
     "data": {
      "text/plain": [
       "3"
      ]
     },
     "execution_count": 70,
     "metadata": {},
     "output_type": "execute_result"
    }
   ],
   "source": [
    "abc(1,y=2)  #postional argument come first then you can give keyword arguments\n",
    "\n",
    "\n",
    "#in case if u want to give some arguments with keyword\n",
    "#and some with postion\n",
    "#then first give postional arugments \n",
    "#and then give keyword arugments"
   ]
  },
  {
   "cell_type": "code",
   "execution_count": 71,
   "metadata": {},
   "outputs": [
    {
     "name": "stdout",
     "output_type": "stream",
     "text": [
      "\n",
      "    PIAIC Islamabad\n",
      "    id : 1,\n",
      "    Name : Qasim,\n",
      "    Father's Name : Aslam,,\n",
      "    Course : A.I,\n",
      "    \n"
     ]
    }
   ],
   "source": [
    "def id_card(sid,sname, fname,course,timing): #s is student as we are defining arugment we call them paramenter \n",
    "    text = \"\"\"\n",
    "    PIAIC Islamabad\n",
    "    id : {},\n",
    "    Name : {},\n",
    "    Father's Name : {},\n",
    "    Course : {},\n",
    "    \"\"\".format(sid,sname,fname,course,timing) # right now in format position is important for argument\n",
    "    return text\n",
    "\n",
    "\n",
    "l1 = [1, \"Qasim\", \"Aslam,\",\"A.I\",\"9 to 9\"]\n",
    "\n",
    "\n",
    "print(id_card(*l1))"
   ]
  },
  {
   "cell_type": "code",
   "execution_count": 72,
   "metadata": {},
   "outputs": [
    {
     "name": "stdout",
     "output_type": "stream",
     "text": [
      "1 Qasim Aslam, A.I 9 to 9\n"
     ]
    }
   ],
   "source": [
    "print(*l1)"
   ]
  },
  {
   "cell_type": "code",
   "execution_count": 11,
   "metadata": {},
   "outputs": [
    {
     "name": "stdout",
     "output_type": "stream",
     "text": [
      "2 3\n"
     ]
    }
   ],
   "source": [
    "def x(a,b):\n",
    "    print(a,b)\n",
    "x(a=2,b=3)"
   ]
  },
  {
   "cell_type": "markdown",
   "metadata": {},
   "source": [
    "# Argument with Disctionary "
   ]
  },
  {
   "cell_type": "code",
   "execution_count": 73,
   "metadata": {},
   "outputs": [
    {
     "name": "stdout",
     "output_type": "stream",
     "text": [
      "\n",
      "    PIAIC Islamabad\n",
      "    id : 1,\n",
      "    Name : Qasim,\n",
      "    Father's Name : Aslam,\n",
      "    Course : A.I,\n",
      "    timing : 9 to 12,\n",
      "    \n"
     ]
    }
   ],
   "source": [
    "def id_card(sid,sname, fname,course,timing): #s is student as we are defining arugment we call them paramenter \n",
    "    text = \"\"\"\n",
    "    PIAIC Islamabad\n",
    "    id : {},\n",
    "    Name : {},\n",
    "    Father's Name : {},\n",
    "    Course : {},\n",
    "    timing : {},\n",
    "    \"\"\".format(sid,sname,fname,course,timing) # right now in format position is important for argument\n",
    "    return text\n",
    " \n",
    "d= {\n",
    "    'sid' : 1,\n",
    "    'sname' : 'Qasim',\n",
    "    \"fname\" : 'Aslam',\n",
    "    'course' : 'A.I',\n",
    "    'timing' : '9 to 12'\n",
    "    \n",
    "}\n",
    "\n",
    "print(id_card(**d))"
   ]
  },
  {
   "cell_type": "markdown",
   "metadata": {},
   "source": [
    "# Recursive Function"
   ]
  },
  {
   "cell_type": "code",
   "execution_count": 74,
   "metadata": {},
   "outputs": [],
   "source": [
    "def abc(n):\n",
    "    if n == 1:      #then this line in middel\n",
    "        return 1\n",
    "    return n * abc(n-1)    #try ti write this line first\n",
    "# this above function is factorial function"
   ]
  },
  {
   "cell_type": "code",
   "execution_count": 75,
   "metadata": {},
   "outputs": [
    {
     "data": {
      "text/plain": [
       "24"
      ]
     },
     "execution_count": 75,
     "metadata": {},
     "output_type": "execute_result"
    }
   ],
   "source": [
    "abc(4) #abc is factorial function"
   ]
  },
  {
   "cell_type": "raw",
   "metadata": {},
   "source": [
    "a function that recall it self in its own body is recursive function"
   ]
  },
  {
   "cell_type": "markdown",
   "metadata": {},
   "source": [
    "# Generator Function\n"
   ]
  },
  {
   "cell_type": "code",
   "execution_count": 76,
   "metadata": {},
   "outputs": [
    {
     "name": "stdout",
     "output_type": "stream",
     "text": [
      "<generator object abc at 0x000002441F506ED0>\n",
      "0\n",
      "1\n",
      "2\n"
     ]
    }
   ],
   "source": [
    "def abc():\n",
    "    for i in range(11):\n",
    "        yield i # the word used --> yield <--  made it a generator\n",
    "a = abc()\n",
    "\n",
    "print(a)\n",
    "print(next(a))   #next () function use with  generator function\n",
    "print(next(a))\n",
    "print(next(a))"
   ]
  },
  {
   "cell_type": "code",
   "execution_count": 77,
   "metadata": {},
   "outputs": [
    {
     "name": "stdout",
     "output_type": "stream",
     "text": [
      "3\n"
     ]
    }
   ],
   "source": [
    "print(next(a))"
   ]
  },
  {
   "cell_type": "code",
   "execution_count": 78,
   "metadata": {},
   "outputs": [
    {
     "name": "stdout",
     "output_type": "stream",
     "text": [
      "4\n"
     ]
    }
   ],
   "source": [
    "print(next(a))"
   ]
  },
  {
   "cell_type": "code",
   "execution_count": 79,
   "metadata": {},
   "outputs": [
    {
     "name": "stdout",
     "output_type": "stream",
     "text": [
      "[5, 6, 7, 8, 9, 10]\n"
     ]
    }
   ],
   "source": [
    "print(list(a))"
   ]
  },
  {
   "cell_type": "markdown",
   "metadata": {},
   "source": [
    "# Lambda Function"
   ]
  },
  {
   "cell_type": "code",
   "execution_count": 80,
   "metadata": {},
   "outputs": [],
   "source": [
    "v=lambda x : x+10 "
   ]
  },
  {
   "cell_type": "code",
   "execution_count": 81,
   "metadata": {},
   "outputs": [
    {
     "name": "stdout",
     "output_type": "stream",
     "text": [
      "110\n"
     ]
    }
   ],
   "source": [
    "print(v(100))"
   ]
  },
  {
   "cell_type": "code",
   "execution_count": 82,
   "metadata": {},
   "outputs": [],
   "source": [
    "pp=lambda x : x+11 "
   ]
  },
  {
   "cell_type": "code",
   "execution_count": 83,
   "metadata": {},
   "outputs": [
    {
     "name": "stdout",
     "output_type": "stream",
     "text": [
      "111\n"
     ]
    }
   ],
   "source": [
    "print(pp(x=100))"
   ]
  },
  {
   "cell_type": "code",
   "execution_count": 84,
   "metadata": {},
   "outputs": [
    {
     "data": {
      "text/plain": [
       "13"
      ]
     },
     "execution_count": 84,
     "metadata": {},
     "output_type": "execute_result"
    }
   ],
   "source": [
    "def xyz(a, b):\n",
    "    return a + b\n",
    "\n",
    "############################# above function can be written in one line using lambda\n",
    "\n",
    "xyz = lambda a,b  : a + b\n",
    "\n",
    "xyz(5, 8)"
   ]
  },
  {
   "cell_type": "code",
   "execution_count": 85,
   "metadata": {},
   "outputs": [],
   "source": [
    "xyz = lambda x, y :  'x is greater {}'.format(x)         if x > y           else 'y is greater {}'.format(y)"
   ]
  },
  {
   "cell_type": "code",
   "execution_count": 86,
   "metadata": {},
   "outputs": [
    {
     "data": {
      "text/plain": [
       "'x is greater 10'"
      ]
     },
     "execution_count": 86,
     "metadata": {},
     "output_type": "execute_result"
    }
   ],
   "source": [
    "xyz(10,3)"
   ]
  },
  {
   "cell_type": "code",
   "execution_count": null,
   "metadata": {},
   "outputs": [],
   "source": []
  },
  {
   "cell_type": "code",
   "execution_count": 87,
   "metadata": {},
   "outputs": [],
   "source": [
    "def fun(n,p=1):\n",
    "    return n\n",
    "    "
   ]
  },
  {
   "cell_type": "code",
   "execution_count": 88,
   "metadata": {},
   "outputs": [
    {
     "ename": "SyntaxError",
     "evalue": "positional argument follows keyword argument (<ipython-input-88-66c01e0bb521>, line 1)",
     "output_type": "error",
     "traceback": [
      "\u001b[1;36m  File \u001b[1;32m\"<ipython-input-88-66c01e0bb521>\"\u001b[1;36m, line \u001b[1;32m1\u001b[0m\n\u001b[1;33m    fun(p=2,5)\u001b[0m\n\u001b[1;37m           ^\u001b[0m\n\u001b[1;31mSyntaxError\u001b[0m\u001b[1;31m:\u001b[0m positional argument follows keyword argument\n"
     ]
    }
   ],
   "source": [
    "fun(p=2,5)\n",
    "#this give  syntx error"
   ]
  },
  {
   "cell_type": "code",
   "execution_count": 89,
   "metadata": {},
   "outputs": [
    {
     "name": "stdout",
     "output_type": "stream",
     "text": [
      "Hello\n",
      "Hello\n",
      "Hello\n",
      "Hello\n"
     ]
    }
   ],
   "source": [
    "def myfunc(text, num):\n",
    "    while num > 0:\n",
    "        print(text)\n",
    "        num = num - 1\n",
    "\n",
    "myfunc('Hello', 4)"
   ]
  },
  {
   "cell_type": "code",
   "execution_count": 90,
   "metadata": {},
   "outputs": [
    {
     "name": "stdout",
     "output_type": "stream",
     "text": [
      "Hello\n"
     ]
    },
    {
     "data": {
      "text/plain": [
       "3"
      ]
     },
     "execution_count": 90,
     "metadata": {},
     "output_type": "execute_result"
    }
   ],
   "source": [
    "#i put return in while loop so what happen is that return break the loop and return number\n",
    "#its not necessary to put anything in front of return --put if u dont put it would return nothing infact it will work as break\n",
    "def myfunc(text, num):\n",
    "    while num > 0:\n",
    "        print(text)\n",
    "        num = num - 1\n",
    "        return num\n",
    "myfunc('Hello', 4)"
   ]
  },
  {
   "cell_type": "code",
   "execution_count": 91,
   "metadata": {},
   "outputs": [
    {
     "name": "stdout",
     "output_type": "stream",
     "text": [
      "Hello\n"
     ]
    }
   ],
   "source": [
    "#return without anything \n",
    "def myfunc(text, num):\n",
    "    while num > 0:\n",
    "        print(text)\n",
    "        num = num - 1\n",
    "        return \n",
    "myfunc('Hello', 4)"
   ]
  },
  {
   "cell_type": "code",
   "execution_count": 92,
   "metadata": {},
   "outputs": [
    {
     "name": "stdout",
     "output_type": "stream",
     "text": [
      "Hello\n"
     ]
    },
    {
     "data": {
      "text/plain": [
       "(1, 2)"
      ]
     },
     "execution_count": 92,
     "metadata": {},
     "output_type": "execute_result"
    }
   ],
   "source": [
    "#return gave tuple\n",
    "def myfunc(text, num):\n",
    "    while num > 0:\n",
    "        print(text)\n",
    "        num = num - 1\n",
    "        return 1,2\n",
    "myfunc('Hello', 4)"
   ]
  },
  {
   "cell_type": "code",
   "execution_count": 93,
   "metadata": {},
   "outputs": [
    {
     "name": "stdout",
     "output_type": "stream",
     "text": [
      "Hello\n"
     ]
    },
    {
     "data": {
      "text/plain": [
       "[1, 2]"
      ]
     },
     "execution_count": 93,
     "metadata": {},
     "output_type": "execute_result"
    }
   ],
   "source": [
    "#return gave list\n",
    "def myfunc(text, num):\n",
    "    while num > 0:\n",
    "        print(text)\n",
    "        num = num - 1\n",
    "        return [1,2]\n",
    "myfunc('Hello', 4)"
   ]
  },
  {
   "cell_type": "code",
   "execution_count": 94,
   "metadata": {},
   "outputs": [
    {
     "name": "stdout",
     "output_type": "stream",
     "text": [
      "Hello\n"
     ]
    },
    {
     "data": {
      "text/plain": [
       "({}, [])"
      ]
     },
     "execution_count": 94,
     "metadata": {},
     "output_type": "execute_result"
    }
   ],
   "source": [
    "#return gave dict with list in tuple \n",
    "def myfunc(text, num):\n",
    "    while num > 0:\n",
    "        print(text)\n",
    "        num = num - 1\n",
    "        return {},[]\n",
    "myfunc('Hello', 4)"
   ]
  },
  {
   "cell_type": "code",
   "execution_count": 95,
   "metadata": {},
   "outputs": [
    {
     "name": "stdout",
     "output_type": "stream",
     "text": [
      "Hello\n"
     ]
    },
    {
     "data": {
      "text/plain": [
       "{}"
      ]
     },
     "execution_count": 95,
     "metadata": {},
     "output_type": "execute_result"
    }
   ],
   "source": [
    "#only gave first return but not 2nd one\n",
    "def myfunc(text, num):\n",
    "    while num > 0:\n",
    "        print(text)\n",
    "        num = num - 1\n",
    "        return {}\n",
    "        return []\n",
    "myfunc('Hello', 4)"
   ]
  },
  {
   "cell_type": "code",
   "execution_count": 96,
   "metadata": {},
   "outputs": [
    {
     "name": "stdout",
     "output_type": "stream",
     "text": [
      "Hello\n"
     ]
    },
    {
     "data": {
      "text/plain": [
       "{3}"
      ]
     },
     "execution_count": 96,
     "metadata": {},
     "output_type": "execute_result"
    }
   ],
   "source": [
    "#we can also use conditions with returns\n",
    "def myfunc(text, num):\n",
    "    while num > 0:\n",
    "        print(text)\n",
    "        num = num - 1\n",
    "        return {num} if num==3 else  [num]   \n",
    "myfunc('Hello', 4)"
   ]
  },
  {
   "cell_type": "code",
   "execution_count": 97,
   "metadata": {},
   "outputs": [
    {
     "name": "stdout",
     "output_type": "stream",
     "text": [
      "Hello\n"
     ]
    },
    {
     "data": {
      "text/plain": [
       "[3]"
      ]
     },
     "execution_count": 97,
     "metadata": {},
     "output_type": "execute_result"
    }
   ],
   "source": [
    "#first condition did not work so else executed \n",
    "def myfunc(text, num):\n",
    "    while num > 0:\n",
    "        print(text)\n",
    "        num = num - 1\n",
    "        if num==2:\n",
    "            return {num} \n",
    "        else:\n",
    "            return [num]   \n",
    "myfunc('Hello', 4)"
   ]
  },
  {
   "cell_type": "code",
   "execution_count": 98,
   "metadata": {},
   "outputs": [
    {
     "name": "stdout",
     "output_type": "stream",
     "text": [
      "H\n"
     ]
    },
    {
     "data": {
      "text/plain": [
       "'zoobi'"
      ]
     },
     "execution_count": 98,
     "metadata": {},
     "output_type": "execute_result"
    }
   ],
   "source": [
    "#so return function break the entire function no matter whether it is in loops or any thing as soo as return executed \n",
    "#function end\n",
    "def myfunc(text, num):\n",
    "    for x in text:\n",
    "        print(x)\n",
    "        return 'zoobi'\n",
    "myfunc('Hello', 4)"
   ]
  },
  {
   "cell_type": "code",
   "execution_count": 99,
   "metadata": {},
   "outputs": [
    {
     "ename": "SyntaxError",
     "evalue": "invalid syntax (<ipython-input-99-109449d3ea47>, line 5)",
     "output_type": "error",
     "traceback": [
      "\u001b[1;36m  File \u001b[1;32m\"<ipython-input-99-109449d3ea47>\"\u001b[1;36m, line \u001b[1;32m5\u001b[0m\n\u001b[1;33m    break print('zoobi')\u001b[0m\n\u001b[1;37m              ^\u001b[0m\n\u001b[1;31mSyntaxError\u001b[0m\u001b[1;31m:\u001b[0m invalid syntax\n"
     ]
    }
   ],
   "source": [
    "#u cannot give anything with break\n",
    "def myfunc(text, num):\n",
    "    for x in text:\n",
    "        print(x)\n",
    "        break print('zoobi')\n",
    "myfunc('Hello', 4)"
   ]
  },
  {
   "cell_type": "code",
   "execution_count": null,
   "metadata": {},
   "outputs": [],
   "source": [
    "# break only break one loop and it depends where u put break insid 2nd loop or out loop\n",
    "def myfunc(text, num):\n",
    "    for x in text:\n",
    "        for y in range(0,10):\n",
    "            print(x,y)\n",
    "            break \n",
    "myfunc('Hello', 4)"
   ]
  },
  {
   "cell_type": "code",
   "execution_count": null,
   "metadata": {},
   "outputs": [],
   "source": [
    "#use two breaks\n",
    "def myfunc(text, num):\n",
    "    for x in text:\n",
    "        for y in range(0,10):\n",
    "            print(x,y)\n",
    "            break \n",
    "        break\n",
    "myfunc('Hello', 4)"
   ]
  },
  {
   "cell_type": "code",
   "execution_count": null,
   "metadata": {},
   "outputs": [],
   "source": [
    "#where return break whole function"
   ]
  },
  {
   "cell_type": "code",
   "execution_count": null,
   "metadata": {},
   "outputs": [],
   "source": [
    "return 2  #<<<------------see return is part of function"
   ]
  },
  {
   "cell_type": "code",
   "execution_count": null,
   "metadata": {},
   "outputs": [],
   "source": [
    "for x in range(0,10):\n",
    "    return x   #<<<---told u return is part of function"
   ]
  },
  {
   "cell_type": "code",
   "execution_count": null,
   "metadata": {},
   "outputs": [],
   "source": [
    "#it gave localError -Unbound\n",
    "num = 1\n",
    "def func():\n",
    "    num = num + 3 #<-- because we used num on right side of = and num is not defined \n",
    "    print(num)        #we only use variable on right side of = when we  have already defined in previous lines\n",
    "\n",
    "func()\n",
    "print(num)"
   ]
  },
  {
   "cell_type": "code",
   "execution_count": null,
   "metadata": {},
   "outputs": [],
   "source": [
    "#now we got is\n",
    "num = 1\n",
    "def func():\n",
    "    num=int()\n",
    "    num = num + 3\n",
    "    print(num)\n",
    "\n",
    "func()\n",
    "print(num)"
   ]
  },
  {
   "cell_type": "code",
   "execution_count": 100,
   "metadata": {},
   "outputs": [
    {
     "name": "stdout",
     "output_type": "stream",
     "text": [
      "4\n",
      "4\n"
     ]
    }
   ],
   "source": [
    "# this way we affected outer variables permenantly \n",
    "#now num is permenanlty  = 4 \n",
    "num = 1\n",
    "def func():\n",
    "    global num\n",
    "    num = num + 3\n",
    "    print(num)\n",
    "\n",
    "func()\n",
    "print(num)"
   ]
  },
  {
   "cell_type": "code",
   "execution_count": 101,
   "metadata": {},
   "outputs": [
    {
     "ename": "SyntaxError",
     "evalue": "invalid syntax (<ipython-input-101-627725c6db70>, line 4)",
     "output_type": "error",
     "traceback": [
      "\u001b[1;36m  File \u001b[1;32m\"<ipython-input-101-627725c6db70>\"\u001b[1;36m, line \u001b[1;32m4\u001b[0m\n\u001b[1;33m    global weight += calories*0.234\u001b[0m\n\u001b[1;37m                   ^\u001b[0m\n\u001b[1;31mSyntaxError\u001b[0m\u001b[1;31m:\u001b[0m invalid syntax\n"
     ]
    }
   ],
   "source": [
    "# global should be define explicitly\n",
    "weight =50\n",
    "def kfc(calories=1):\n",
    "    global weight += calories*0.234\n",
    "    print('weight_after_kfc:',weight)\n",
    "\n",
    "kfc(600)\n",
    "print('----\\n Total weight:',weight)"
   ]
  },
  {
   "cell_type": "code",
   "execution_count": 16,
   "metadata": {},
   "outputs": [
    {
     "name": "stdout",
     "output_type": "stream",
     "text": [
      "weight_after_kfc: 50.1404\n",
      "----\n",
      " Total weight: 50.1404\n"
     ]
    }
   ],
   "source": [
    "weight =50\n",
    "def kfc(calories=1):\n",
    "    global weight   #u must define it seperatly\n",
    "    weight += calories*0.000234\n",
    "    print('weight_after_kfc:',weight)\n",
    "\n",
    "kfc(600)\n",
    "print('----\\n Total weight:',weight)"
   ]
  },
  {
   "cell_type": "code",
   "execution_count": 20,
   "metadata": {},
   "outputs": [
    {
     "ename": "UnboundLocalError",
     "evalue": "local variable 'weight' referenced before assignment",
     "output_type": "error",
     "traceback": [
      "\u001b[1;31m---------------------------------------------------------------------------\u001b[0m",
      "\u001b[1;31mUnboundLocalError\u001b[0m                         Traceback (most recent call last)",
      "\u001b[1;32m<ipython-input-20-5d38ee1c2213>\u001b[0m in \u001b[0;36m<module>\u001b[1;34m\u001b[0m\n\u001b[0;32m      8\u001b[0m     \u001b[0mprint\u001b[0m\u001b[1;33m(\u001b[0m\u001b[1;34m'weight_after_kfc:'\u001b[0m\u001b[1;33m,\u001b[0m\u001b[0mweight\u001b[0m\u001b[1;33m)\u001b[0m\u001b[1;33m\u001b[0m\u001b[1;33m\u001b[0m\u001b[0m\n\u001b[0;32m      9\u001b[0m \u001b[1;33m\u001b[0m\u001b[0m\n\u001b[1;32m---> 10\u001b[1;33m \u001b[0mkfc\u001b[0m\u001b[1;33m(\u001b[0m\u001b[1;36m600\u001b[0m\u001b[1;33m)\u001b[0m\u001b[1;33m\u001b[0m\u001b[1;33m\u001b[0m\u001b[0m\n\u001b[0m\u001b[0;32m     11\u001b[0m \u001b[0mprint\u001b[0m\u001b[1;33m(\u001b[0m\u001b[1;34m'----\\n Total weight:'\u001b[0m\u001b[1;33m,\u001b[0m\u001b[0mweight\u001b[0m\u001b[1;33m)\u001b[0m\u001b[1;33m\u001b[0m\u001b[1;33m\u001b[0m\u001b[0m\n",
      "\u001b[1;32m<ipython-input-20-5d38ee1c2213>\u001b[0m in \u001b[0;36mkfc\u001b[1;34m(calories)\u001b[0m\n\u001b[0;32m      5\u001b[0m \u001b[0mweight\u001b[0m\u001b[1;33m=\u001b[0m\u001b[1;36m50\u001b[0m\u001b[1;33m\u001b[0m\u001b[1;33m\u001b[0m\u001b[0m\n\u001b[0;32m      6\u001b[0m \u001b[1;32mdef\u001b[0m \u001b[0mkfc\u001b[0m\u001b[1;33m(\u001b[0m\u001b[0mcalories\u001b[0m\u001b[1;33m=\u001b[0m\u001b[1;36m1\u001b[0m\u001b[1;33m)\u001b[0m\u001b[1;33m:\u001b[0m\u001b[1;33m\u001b[0m\u001b[1;33m\u001b[0m\u001b[0m\n\u001b[1;32m----> 7\u001b[1;33m     \u001b[0mweight\u001b[0m \u001b[1;33m+=\u001b[0m \u001b[0mcalories\u001b[0m\u001b[1;33m*\u001b[0m\u001b[1;36m0.000234\u001b[0m\u001b[1;33m\u001b[0m\u001b[1;33m\u001b[0m\u001b[0m\n\u001b[0m\u001b[0;32m      8\u001b[0m     \u001b[0mprint\u001b[0m\u001b[1;33m(\u001b[0m\u001b[1;34m'weight_after_kfc:'\u001b[0m\u001b[1;33m,\u001b[0m\u001b[0mweight\u001b[0m\u001b[1;33m)\u001b[0m\u001b[1;33m\u001b[0m\u001b[1;33m\u001b[0m\u001b[0m\n\u001b[0;32m      9\u001b[0m \u001b[1;33m\u001b[0m\u001b[0m\n",
      "\u001b[1;31mUnboundLocalError\u001b[0m: local variable 'weight' referenced before assignment"
     ]
    }
   ],
   "source": [
    "#it would not work if u define weight outside as global \n",
    "#so global works on w.r.t  so global need to be inside some function to compare it self with outer world of\n",
    "#function and then say ok i make this xyz variabel name global\n",
    "global weight \n",
    "weight=50\n",
    "def kfc(calories=1):\n",
    "    weight += calories*0.000234\n",
    "    print('weight_after_kfc:',weight)\n",
    "\n",
    "kfc(600)\n",
    "print('----\\n Total weight:',weight)"
   ]
  },
  {
   "cell_type": "code",
   "execution_count": 14,
   "metadata": {},
   "outputs": [
    {
     "name": "stdout",
     "output_type": "stream",
     "text": [
      "weight_after_kfc: 50.1404\n",
      "----\n",
      " Total weight: 50.1404\n",
      "4\n"
     ]
    }
   ],
   "source": [
    "#so i defined new variable inside functionas global\n",
    "#and outside updated its value so it worked\n",
    "#but global assigment inside function means some thing should be outside do exist \n",
    "\n",
    "weight=50\n",
    "def kfc(calories=1):\n",
    "    global weight,x\n",
    "    x=2\n",
    "    weight+= calories*0.000234\n",
    "    print('weight_after_kfc:',weight)\n",
    "\n",
    "kfc(600)\n",
    "print('----\\n Total weight:',weight)\n",
    "x+=2\n",
    "print(x)"
   ]
  },
  {
   "cell_type": "code",
   "execution_count": 31,
   "metadata": {},
   "outputs": [
    {
     "name": "stdout",
     "output_type": "stream",
     "text": [
      "60.1404\n",
      "60\n"
     ]
    }
   ],
   "source": [
    "weight =60\n",
    "def kfc(calories=1,weight=0):\n",
    "        weight+= calories*0.000234\n",
    "        print(weight)\n",
    "\n",
    "kfc(600,weight)\n",
    "print(weight)\n"
   ]
  },
  {
   "cell_type": "code",
   "execution_count": null,
   "metadata": {},
   "outputs": [],
   "source": [
    "#once u have created kwarg then after that all should also be kwarg\n",
    "def f(a = 1, b, c = 2):\n",
    "    return a,b,c\n"
   ]
  },
  {
   "cell_type": "code",
   "execution_count": null,
   "metadata": {},
   "outputs": [],
   "source": [
    "#see it worked because we followed rule --rule is if u desire sooooo much to define argument then define it first\n",
    "#dont define it after keywordargument or inbetween key word arguemnts\n",
    "def f(b,a=1,c=2):\n",
    "    return a,b,c"
   ]
  },
  {
   "cell_type": "code",
   "execution_count": null,
   "metadata": {},
   "outputs": [],
   "source": [
    "myList = [lambda x: x ** 2,\n",
    "         lambda x: x ** 3,\n",
    "         lambda x: x ** 4]\n",
    " \n",
    "for f in myList:\n",
    "    print(f(3))"
   ]
  },
  {
   "cell_type": "code",
   "execution_count": null,
   "metadata": {},
   "outputs": [],
   "source": [
    "x,y=(3,2)"
   ]
  },
  {
   "cell_type": "code",
   "execution_count": null,
   "metadata": {},
   "outputs": [],
   "source": [
    "x"
   ]
  },
  {
   "cell_type": "code",
   "execution_count": null,
   "metadata": {},
   "outputs": [],
   "source": [
    "y"
   ]
  },
  {
   "cell_type": "code",
   "execution_count": null,
   "metadata": {},
   "outputs": [],
   "source": [
    "x,y=[1,3,4,5]"
   ]
  },
  {
   "cell_type": "code",
   "execution_count": 102,
   "metadata": {},
   "outputs": [
    {
     "ename": "ValueError",
     "evalue": "too many values to unpack (expected 2)",
     "output_type": "error",
     "traceback": [
      "\u001b[1;31m---------------------------------------------------------------------------\u001b[0m",
      "\u001b[1;31mValueError\u001b[0m                                Traceback (most recent call last)",
      "\u001b[1;32m<ipython-input-102-aa7ec13d2bc6>\u001b[0m in \u001b[0;36m<module>\u001b[1;34m\u001b[0m\n\u001b[1;32m----> 1\u001b[1;33m \u001b[0mx\u001b[0m\u001b[1;33m,\u001b[0m\u001b[0my\u001b[0m\u001b[1;33m=\u001b[0m\u001b[1;33m(\u001b[0m\u001b[1;36m1\u001b[0m\u001b[1;33m,\u001b[0m\u001b[1;36m3\u001b[0m\u001b[1;33m,\u001b[0m\u001b[1;36m4\u001b[0m\u001b[1;33m,\u001b[0m\u001b[1;36m5\u001b[0m\u001b[1;33m)\u001b[0m\u001b[1;33m\u001b[0m\u001b[1;33m\u001b[0m\u001b[0m\n\u001b[0m",
      "\u001b[1;31mValueError\u001b[0m: too many values to unpack (expected 2)"
     ]
    }
   ],
   "source": [
    "x,y=(1,3,4,5)"
   ]
  },
  {
   "cell_type": "code",
   "execution_count": null,
   "metadata": {},
   "outputs": [],
   "source": [
    "x,y=([1,3],[4,5])\n",
    "print(x,y,sep='\\n')"
   ]
  },
  {
   "cell_type": "markdown",
   "metadata": {},
   "source": [
    "#### important function \n",
    "showing us that lambda <b>x</b> is <b>arugment of function</b>"
   ]
  },
  {
   "cell_type": "code",
   "execution_count": null,
   "metadata": {},
   "outputs": [],
   "source": [
    "\n",
    "def func():\n",
    "    text = 'Welcome'\n",
    "    name = (lambda x:text + ' ' + x)\n",
    "    return name\n",
    " \n",
    "msg = func()\n",
    "print(msg('All'))"
   ]
  },
  {
   "cell_type": "code",
   "execution_count": null,
   "metadata": {},
   "outputs": [],
   "source": [
    "func()  #so lambed function get assign to variable "
   ]
  },
  {
   "cell_type": "code",
   "execution_count": null,
   "metadata": {},
   "outputs": [],
   "source": [
    "func('Taimoor') #it does not work"
   ]
  },
  {
   "cell_type": "code",
   "execution_count": null,
   "metadata": {},
   "outputs": [],
   "source": [
    "msg=func('t') #no it does not work like this either"
   ]
  },
  {
   "cell_type": "code",
   "execution_count": null,
   "metadata": {},
   "outputs": [],
   "source": [
    "msg=func()    #<--- firt we assign function so it get lambed \n",
    "\n",
    "print(msg('taimoor')) #<-- then we use its lambed in next step"
   ]
  },
  {
   "cell_type": "code",
   "execution_count": 32,
   "metadata": {},
   "outputs": [
    {
     "data": {
      "text/plain": [
       "(<function __main__.<lambda>(i)>, 'ta')"
      ]
     },
     "execution_count": 32,
     "metadata": {},
     "output_type": "execute_result"
    }
   ],
   "source": [
    "i='ta'\n",
    "lambda i:'my name is ',i"
   ]
  },
  {
   "cell_type": "code",
   "execution_count": 44,
   "metadata": {},
   "outputs": [
    {
     "data": {
      "text/plain": [
       "<function __main__.<lambda>(x)>"
      ]
     },
     "execution_count": 44,
     "metadata": {},
     "output_type": "execute_result"
    }
   ],
   "source": [
    "lambda x:x+2"
   ]
  },
  {
   "cell_type": "code",
   "execution_count": 56,
   "metadata": {},
   "outputs": [],
   "source": [
    "def fun(i=3):\n",
    "    return lambda i:'my name is ',i"
   ]
  },
  {
   "cell_type": "code",
   "execution_count": 59,
   "metadata": {},
   "outputs": [
    {
     "ename": "TypeError",
     "evalue": "'tuple' object is not callable",
     "output_type": "error",
     "traceback": [
      "\u001b[1;31m---------------------------------------------------------------------------\u001b[0m",
      "\u001b[1;31mTypeError\u001b[0m                                 Traceback (most recent call last)",
      "\u001b[1;32m<ipython-input-59-42d106c6c7e3>\u001b[0m in \u001b[0;36m<module>\u001b[1;34m\u001b[0m\n\u001b[1;32m----> 1\u001b[1;33m \u001b[0mfun\u001b[0m\u001b[1;33m(\u001b[0m\u001b[1;33m)\u001b[0m\u001b[1;33m(\u001b[0m\u001b[1;33m)\u001b[0m\u001b[1;33m\u001b[0m\u001b[1;33m\u001b[0m\u001b[0m\n\u001b[0m",
      "\u001b[1;31mTypeError\u001b[0m: 'tuple' object is not callable"
     ]
    }
   ],
   "source": [
    "fun()"
   ]
  },
  {
   "cell_type": "code",
   "execution_count": 47,
   "metadata": {},
   "outputs": [
    {
     "name": "stdout",
     "output_type": "stream",
     "text": [
      "<function fun.<locals>.<lambda> at 0x00000289F24F8048>\n"
     ]
    }
   ],
   "source": [
    "def fun(i=3):\n",
    "    return lambda i:f'my name is: {i}'\n",
    "        \n",
    "print(fun(3))"
   ]
  },
  {
   "cell_type": "code",
   "execution_count": 48,
   "metadata": {},
   "outputs": [
    {
     "name": "stdout",
     "output_type": "stream",
     "text": [
      "<function fun.<locals>.<lambda> at 0x00000289F24F8268>\n"
     ]
    }
   ],
   "source": [
    "xyz=fun()\n",
    "print(xyz)"
   ]
  },
  {
   "cell_type": "code",
   "execution_count": 49,
   "metadata": {},
   "outputs": [
    {
     "name": "stdout",
     "output_type": "stream",
     "text": [
      "my name is: ali\n"
     ]
    }
   ],
   "source": [
    "xyz=fun()\n",
    "print(xyz('ali'))"
   ]
  },
  {
   "cell_type": "code",
   "execution_count": 50,
   "metadata": {},
   "outputs": [],
   "source": [
    "def fun():\n",
    "    print(sss)"
   ]
  },
  {
   "cell_type": "code",
   "execution_count": 60,
   "metadata": {},
   "outputs": [],
   "source": [
    "variable=fun()"
   ]
  },
  {
   "cell_type": "code",
   "execution_count": 61,
   "metadata": {},
   "outputs": [
    {
     "ename": "TypeError",
     "evalue": "fun() got an unexpected keyword argument 'sss'",
     "output_type": "error",
     "traceback": [
      "\u001b[1;31m---------------------------------------------------------------------------\u001b[0m",
      "\u001b[1;31mTypeError\u001b[0m                                 Traceback (most recent call last)",
      "\u001b[1;32m<ipython-input-61-396def721453>\u001b[0m in \u001b[0;36m<module>\u001b[1;34m\u001b[0m\n\u001b[1;32m----> 1\u001b[1;33m \u001b[0mvariable\u001b[0m\u001b[1;33m=\u001b[0m\u001b[0mfun\u001b[0m\u001b[1;33m(\u001b[0m\u001b[0msss\u001b[0m\u001b[1;33m=\u001b[0m\u001b[1;36m0\u001b[0m\u001b[1;33m)\u001b[0m\u001b[1;33m\u001b[0m\u001b[1;33m\u001b[0m\u001b[0m\n\u001b[0m",
      "\u001b[1;31mTypeError\u001b[0m: fun() got an unexpected keyword argument 'sss'"
     ]
    }
   ],
   "source": [
    "variable=fun(sss=0)"
   ]
  },
  {
   "cell_type": "code",
   "execution_count": 53,
   "metadata": {},
   "outputs": [
    {
     "name": "stdout",
     "output_type": "stream",
     "text": [
      "0\n"
     ]
    }
   ],
   "source": [
    "sss=0\n",
    "variable=fun()"
   ]
  },
  {
   "cell_type": "raw",
   "metadata": {},
   "source": [
    "conclusion:\n",
    "when we assign function to variable\n",
    "all its  internal actions assigns to that variable\n",
    "just like automatically print(sss) was assign to variable-->'variable'\n",
    "and it gave error that 'sss' in not define\n",
    "so we first define sss and then assign to 'variable'\n"
   ]
  },
  {
   "cell_type": "raw",
   "metadata": {},
   "source": [
    "similarly lambed was assign to variable because lambda was part of function"
   ]
  },
  {
   "cell_type": "code",
   "execution_count": 105,
   "metadata": {},
   "outputs": [],
   "source": [
    "name=lambda x:f'my name is  {x}'"
   ]
  },
  {
   "cell_type": "code",
   "execution_count": 106,
   "metadata": {},
   "outputs": [
    {
     "data": {
      "text/plain": [
       "'my name is  taimoor arif'"
      ]
     },
     "execution_count": 106,
     "metadata": {},
     "output_type": "execute_result"
    }
   ],
   "source": [
    "name('taimoor arif')\n",
    "#look first we defined our lambed function and assign it to variable 'name'\n",
    "#then as lambda take 'x' as argument we have option to  use -->() with variable 'name' because lambda is assign to 'name'\n"
   ]
  },
  {
   "cell_type": "code",
   "execution_count": 107,
   "metadata": {},
   "outputs": [],
   "source": [
    "name=lambda x=1: print(x)"
   ]
  },
  {
   "cell_type": "code",
   "execution_count": 108,
   "metadata": {},
   "outputs": [
    {
     "data": {
      "text/plain": [
       "<function __main__.<lambda>(x=1)>"
      ]
     },
     "execution_count": 108,
     "metadata": {},
     "output_type": "execute_result"
    }
   ],
   "source": [
    "name #just by calling 'name' does not execute lambda function itself #u need to use--> ()"
   ]
  },
  {
   "cell_type": "code",
   "execution_count": 109,
   "metadata": {},
   "outputs": [
    {
     "name": "stdout",
     "output_type": "stream",
     "text": [
      "1\n"
     ]
    }
   ],
   "source": [
    "name()  #see by using () we got lambda activated\n",
    "        #more over lambda already had keyword arguemnt so it worked with default value"
   ]
  },
  {
   "cell_type": "code",
   "execution_count": 110,
   "metadata": {},
   "outputs": [
    {
     "data": {
      "text/plain": [
       "<function __main__.<lambda>(x)>"
      ]
     },
     "execution_count": 110,
     "metadata": {},
     "output_type": "execute_result"
    }
   ],
   "source": [
    "name=lambda x:'my name is'+x  #now it is asking postional argument \n",
    "\n",
    "name"
   ]
  },
  {
   "cell_type": "code",
   "execution_count": 111,
   "metadata": {},
   "outputs": [
    {
     "ename": "TypeError",
     "evalue": "<lambda>() missing 1 required positional argument: 'x'",
     "output_type": "error",
     "traceback": [
      "\u001b[1;31m---------------------------------------------------------------------------\u001b[0m",
      "\u001b[1;31mTypeError\u001b[0m                                 Traceback (most recent call last)",
      "\u001b[1;32m<ipython-input-111-68d4d1de503d>\u001b[0m in \u001b[0;36m<module>\u001b[1;34m\u001b[0m\n\u001b[1;32m----> 1\u001b[1;33m \u001b[0mname\u001b[0m\u001b[1;33m(\u001b[0m\u001b[1;33m)\u001b[0m \u001b[1;31m#see it required argument to work\u001b[0m\u001b[1;33m\u001b[0m\u001b[1;33m\u001b[0m\u001b[0m\n\u001b[0m",
      "\u001b[1;31mTypeError\u001b[0m: <lambda>() missing 1 required positional argument: 'x'"
     ]
    }
   ],
   "source": [
    "name() #see it required argument to work "
   ]
  },
  {
   "cell_type": "code",
   "execution_count": 112,
   "metadata": {},
   "outputs": [
    {
     "data": {
      "text/plain": [
       "'my name is taimoor'"
      ]
     },
     "execution_count": 112,
     "metadata": {},
     "output_type": "execute_result"
    }
   ],
   "source": [
    "name(' taimoor')  #now it work and lambda has also build in return ability"
   ]
  },
  {
   "cell_type": "code",
   "execution_count": 113,
   "metadata": {},
   "outputs": [
    {
     "data": {
      "text/plain": [
       "<function __main__.<lambda>()>"
      ]
     },
     "execution_count": 113,
     "metadata": {},
     "output_type": "execute_result"
    }
   ],
   "source": [
    "name=lambda : print(3)  #in lambda assignment to variable 'name' and function action defined in one line\n",
    "name                    #just by calling function name would return its type its type is lambda function"
   ]
  },
  {
   "cell_type": "code",
   "execution_count": 114,
   "metadata": {},
   "outputs": [
    {
     "name": "stdout",
     "output_type": "stream",
     "text": [
      "3\n"
     ]
    }
   ],
   "source": [
    "name()   #by using () with variable lambda executed "
   ]
  },
  {
   "cell_type": "code",
   "execution_count": 115,
   "metadata": {},
   "outputs": [],
   "source": [
    "def fun():           #here in noraml function- function is define in 1st step\n",
    "    print(3)\n",
    "name=fun             #in 2nd step functioni is -assigned we can execute this function at the time of assignemt --> name=fun()"
   ]
  },
  {
   "cell_type": "code",
   "execution_count": 116,
   "metadata": {},
   "outputs": [
    {
     "data": {
      "text/plain": [
       "<function __main__.fun()>"
      ]
     },
     "execution_count": 116,
     "metadata": {},
     "output_type": "execute_result"
    }
   ],
   "source": [
    "name                #but we did not executed function so name will return its type"
   ]
  },
  {
   "cell_type": "code",
   "execution_count": 117,
   "metadata": {},
   "outputs": [
    {
     "name": "stdout",
     "output_type": "stream",
     "text": [
      "3\n"
     ]
    }
   ],
   "source": [
    "name()             #now we eecuted using -->()"
   ]
  },
  {
   "cell_type": "raw",
   "metadata": {},
   "source": [
    "so what we know about lambda\n",
    "1. lambda is a function and has every property of function except is is only read one line infront of it\n",
    "2.it can carry kwarg and arg just like normal standard function\n",
    "3.it also use : after parameters just like normal standard function\n",
    "4.it can also be assign to a variable just like normal standard  function\n",
    "        4.1 lambda advantage ---> assigment to variable and transformtion logic is define together\n",
    "        4.2 to execute lambda function---> variable must end with--->()        var()\n",
    "       --------------------------------------------------------------------------------------------\n",
    "       "
   ]
  },
  {
   "cell_type": "code",
   "execution_count": 118,
   "metadata": {},
   "outputs": [
    {
     "ename": "SyntaxError",
     "evalue": "invalid syntax (<ipython-input-118-e68dbde44291>, line 1)",
     "output_type": "error",
     "traceback": [
      "\u001b[1;36m  File \u001b[1;32m\"<ipython-input-118-e68dbde44291>\"\u001b[1;36m, line \u001b[1;32m1\u001b[0m\n\u001b[1;33m    name=def fun():            #noraml function does not have ability to assign himself to other while defining him self\u001b[0m\n\u001b[1;37m           ^\u001b[0m\n\u001b[1;31mSyntaxError\u001b[0m\u001b[1;31m:\u001b[0m invalid syntax\n"
     ]
    }
   ],
   "source": [
    "name=def fun():            #noraml function does not have ability to assign himself to other while defining him self\n",
    "        print(3)           #see only lambda type function has ability to assign to variable himself while defining himself\n",
    "                  \n",
    "name=def #<----does not go together"
   ]
  },
  {
   "cell_type": "code",
   "execution_count": 119,
   "metadata": {},
   "outputs": [],
   "source": [
    "#but once we have defined a function seperatly \n",
    "# we can assign it while executing it"
   ]
  },
  {
   "cell_type": "code",
   "execution_count": 120,
   "metadata": {},
   "outputs": [
    {
     "ename": "SyntaxError",
     "evalue": "invalid syntax (<ipython-input-120-6f6f51f8717b>, line 1)",
     "output_type": "error",
     "traceback": [
      "\u001b[1;36m  File \u001b[1;32m\"<ipython-input-120-6f6f51f8717b>\"\u001b[1;36m, line \u001b[1;32m1\u001b[0m\n\u001b[1;33m    bat=def iamcricketer():           #we cannot assign hi bat while he is defining himself\u001b[0m\n\u001b[1;37m          ^\u001b[0m\n\u001b[1;31mSyntaxError\u001b[0m\u001b[1;31m:\u001b[0m invalid syntax\n"
     ]
    }
   ],
   "source": [
    "bat=def iamcricketer():           #we cannot assign hi bat while he is defining himself\n",
    "        return 'i am cricketer'"
   ]
  },
  {
   "cell_type": "code",
   "execution_count": null,
   "metadata": {},
   "outputs": [],
   "source": [
    "bad =lambda :'i am cricketer' #we can assign him bat while he is defining himself"
   ]
  },
  {
   "cell_type": "code",
   "execution_count": null,
   "metadata": {},
   "outputs": [],
   "source": [
    "def kahna():\n",
    "    return 'baryani is ready'\n",
    "bowl=kahna()\n",
    "bowl      #here we presented kahna in bowl"
   ]
  },
  {
   "cell_type": "code",
   "execution_count": null,
   "metadata": {},
   "outputs": [],
   "source": [
    "kahna()   #here we diretly presented kahna by calling it "
   ]
  },
  {
   "cell_type": "code",
   "execution_count": null,
   "metadata": {},
   "outputs": [],
   "source": [
    "bowl=lambda :'baryani is ready '"
   ]
  },
  {
   "cell_type": "code",
   "execution_count": null,
   "metadata": {},
   "outputs": [],
   "source": [
    "bowl()"
   ]
  },
  {
   "cell_type": "code",
   "execution_count": null,
   "metadata": {},
   "outputs": [],
   "source": [
    "b=bowl\n"
   ]
  },
  {
   "cell_type": "code",
   "execution_count": null,
   "metadata": {},
   "outputs": [],
   "source": [
    "b()"
   ]
  },
  {
   "cell_type": "raw",
   "metadata": {},
   "source": [
    "func(farg,*arg,**kwarg)     <--order/priority  of arguments   "
   ]
  },
  {
   "cell_type": "code",
   "execution_count": 121,
   "metadata": {},
   "outputs": [
    {
     "name": "stdout",
     "output_type": "stream",
     "text": [
      "<class 'tuple'> <class 'str'>\n",
      "('noida', 'gurgaon', 'ghaziabad')\n"
     ]
    }
   ],
   "source": [
    "def test_var_args(param1, *args):\n",
    "        print (type(args),type(param1))\n",
    "        print(args)\n",
    "\n",
    "test_var_args('delhi', 'noida', 'gurgaon', 'ghaziabad')"
   ]
  },
  {
   "cell_type": "code",
   "execution_count": 122,
   "metadata": {},
   "outputs": [
    {
     "name": "stdout",
     "output_type": "stream",
     "text": [
      "formal arg: 1\n",
      "another arg: two\n",
      "another arg: 3\n"
     ]
    }
   ],
   "source": [
    "def test_var_args(farg, *args):\n",
    "    print (\"formal arg:\", farg)\n",
    "    for arg in args:\n",
    "        print (\"another arg:\", arg)\n",
    "test_var_args(1, \"two\", 3)"
   ]
  },
  {
   "cell_type": "code",
   "execution_count": 123,
   "metadata": {},
   "outputs": [
    {
     "name": "stdout",
     "output_type": "stream",
     "text": [
      "formal arg: 1\n",
      "another keyword arg: myarg2: two\n",
      "another keyword arg: myarg3: 3\n"
     ]
    }
   ],
   "source": [
    "def test_var_kwargs(farg, **kwargs):\n",
    "    print (\"formal arg:\", farg)\n",
    "    for key in kwargs:\n",
    "        print (\"another keyword arg: %s: %s\" % (key, kwargs[key]))\n",
    "test_var_kwargs(farg=1, myarg2=\"two\", myarg3=3)"
   ]
  },
  {
   "cell_type": "markdown",
   "metadata": {},
   "source": [
    "https://www.techbeamers.com/python-functions-quiz-part-2/\n"
   ]
  },
  {
   "cell_type": "code",
   "execution_count": 124,
   "metadata": {},
   "outputs": [
    {
     "name": "stdout",
     "output_type": "stream",
     "text": [
      "Inside func(): [1, 2, 0, 3]\n",
      "After function call: [1, 2, 0, 3]\n"
     ]
    }
   ],
   "source": [
    "#this show that when we give list as argument into function it permennalty \n",
    "#transformy that list which is out side of its inviroment\n",
    "myList = [1, 2, 3, 4, 5]\n",
    "def func(x):\n",
    "    x.pop()\n",
    "    x.pop()\n",
    "    x.insert(-1, 0)\n",
    "    print (\"Inside func():\", x)\n",
    "    \n",
    "func(myList)    \n",
    "print (\"After function call:\", myList)"
   ]
  },
  {
   "cell_type": "code",
   "execution_count": 125,
   "metadata": {},
   "outputs": [
    {
     "name": "stdout",
     "output_type": "stream",
     "text": [
      "[2, 3, 4, 5, 6, 7, 8, 9, 10, 11, 12, 13, 14, 15, 16, 17, 18, 19, 20, 21, 22, 23, 24, 25, 26, 27, 28, 29, 30, 31, 32, 33, 34, 35, 36, 37, 38, 39, 40, 41, 42, 43, 44, 45, 46, 47, 48, 49]\n",
      "[2, 3, 5, 7, 9, 11, 13, 15, 17, 19, 21, 23, 25, 27, 29, 31, 33, 35, 37, 39, 41, 43, 45, 47, 49]\n",
      "[2, 3, 5, 7, 11, 13, 17, 19, 23, 25, 29, 31, 35, 37, 41, 43, 47, 49]\n",
      "[2, 3, 5, 7, 11, 13, 17, 19, 23, 25, 29, 31, 35, 37, 41, 43, 47, 49]\n",
      "[2, 3, 5, 7, 11, 13, 17, 19, 23, 29, 31, 37, 41, 43, 47, 49]\n",
      "[2, 3, 5, 7, 11, 13, 17, 19, 23, 29, 31, 37, 41, 43, 47, 49]\n",
      "[2, 3, 5, 7, 11, 13, 17, 19, 23, 29, 31, 37, 41, 43, 47]\n",
      "[2, 3, 5, 7, 11, 13, 17, 19, 23, 29, 31, 37, 41, 43, 47]\n"
     ]
    }
   ],
   "source": [
    "nums = range(2, 50) \n",
    "print(list(nums))\n",
    "for i in range(2, 8): \n",
    "    nums = list(filter(lambda x: x == i or x % i!=0, nums))\n",
    "    print(nums)\n",
    "print (nums)"
   ]
  },
  {
   "cell_type": "code",
   "execution_count": 126,
   "metadata": {},
   "outputs": [
    {
     "name": "stdout",
     "output_type": "stream",
     "text": [
      "[2, 3, 4, 5, 6, 7, 8, 9, 10, 11, 12, 13, 14, 15, 16, 17, 18, 19, 20, 21, 22, 23, 24, 25, 26, 27, 28, 29, 30, 31, 32, 33, 34, 35, 36, 37, 38, 39, 40, 41, 42, 43, 44, 45, 46, 47, 48, 49]\n",
      "[2, 3, 5, 7, 9, 11, 13, 15, 17, 19, 21, 23, 25, 27, 29, 31, 33, 35, 37, 39, 41, 43, 45, 47, 49]\n",
      "[2, 3, 5, 7, 11, 13, 17, 19, 23, 25, 29, 31, 35, 37, 41, 43, 47, 49]\n",
      "[2, 3, 5, 7, 11, 13, 17, 19, 23, 25, 29, 31, 35, 37, 41, 43, 47, 49]\n",
      "[2, 3, 5, 7, 11, 13, 17, 19, 23, 29, 31, 37, 41, 43, 47, 49]\n",
      "[2, 3, 5, 7, 11, 13, 17, 19, 23, 29, 31, 37, 41, 43, 47, 49]\n",
      "[2, 3, 5, 7, 11, 13, 17, 19, 23, 29, 31, 37, 41, 43, 47]\n",
      "[2, 3, 5, 7, 11, 13, 17, 19, 23, 29, 31, 37, 41, 43, 47]\n"
     ]
    }
   ],
   "source": [
    "nums = range(2, 50) \n",
    "print(list(nums))\n",
    "for i in range(2, 8): \n",
    "    nums = list(filter(lambda x: x == i or x % i, nums))\n",
    "    print(nums)\n",
    "print (nums)"
   ]
  },
  {
   "cell_type": "code",
   "execution_count": 127,
   "metadata": {},
   "outputs": [
    {
     "name": "stdout",
     "output_type": "stream",
     "text": [
      "[1, 2, 3, 4, 5]\n",
      "[1, 2, 3, 4, 5]\n",
      "[1, 2, 3, 4, 5]\n",
      "[1, 2, 3, 4, 5]\n",
      "[1, 2, 3, 4, 5]\n",
      "[1, 2, 3, 4, 5]\n"
     ]
    }
   ],
   "source": [
    "r=1\n",
    "b=2\n",
    "c=3\n",
    "for i in range(2,8):\n",
    "   print( list(filter(lambda x:x in[1,2,3,4,5] ,range(0,11))))\n",
    "#filter will check the left condition if it is true it will take it out"
   ]
  },
  {
   "cell_type": "code",
   "execution_count": 128,
   "metadata": {},
   "outputs": [
    {
     "name": "stdout",
     "output_type": "stream",
     "text": [
      "[0, 1, 2, 3, 4, 5, 6, 7, 8, 9, 10]\n",
      "[0, 1, 2, 3, 4, 5, 6, 7, 8, 9, 10]\n",
      "[0, 1, 2, 3, 4, 5, 6, 7, 8, 9, 10]\n",
      "[0, 1, 2, 3, 4, 5, 6, 7, 8, 9, 10]\n",
      "[0, 1, 2, 3, 4, 5, 6, 7, 8, 9, 10]\n",
      "[0, 1, 2, 3, 4, 5, 6, 7, 8, 9, 10]\n"
     ]
    }
   ],
   "source": [
    "w=list(range(0,11))\n",
    "for i in range(2,8):\n",
    "    list(filter(lambda x:x in[1,2,3,4,5] ,w))  #filter(function,apply on)\n",
    "    print(w)"
   ]
  },
  {
   "cell_type": "code",
   "execution_count": 129,
   "metadata": {},
   "outputs": [
    {
     "name": "stdout",
     "output_type": "stream",
     "text": [
      "[7, 2, 3, 5, 2, 6]\n"
     ]
    }
   ],
   "source": [
    "text = 'Welcome to the world of Python'\n",
    "words = text.split()\n",
    "length = list(map(lambda word: len(word), words))\n",
    "print (length)"
   ]
  },
  {
   "cell_type": "code",
   "execution_count": 130,
   "metadata": {},
   "outputs": [
    {
     "data": {
      "text/plain": [
       "['hi4', 'hi4', 'hi4']"
      ]
     },
     "execution_count": 130,
     "metadata": {},
     "output_type": "execute_result"
    }
   ],
   "source": [
    "list(map(lambda x : f'hi{x}',[4,4,4])) #map (function,apply on )"
   ]
  },
  {
   "cell_type": "code",
   "execution_count": 131,
   "metadata": {},
   "outputs": [
    {
     "name": "stdout",
     "output_type": "stream",
     "text": [
      "[7, 2, 3, 5, 2, 6]\n"
     ]
    }
   ],
   "source": [
    "text = 'Welcome to the world of Python'\n",
    "words = text.split()\n",
    "length = list(map(lambda word: len(word), words)) #map(function,apply on) and then converted into list\n",
    "print (length)"
   ]
  },
  {
   "cell_type": "code",
   "execution_count": 132,
   "metadata": {},
   "outputs": [
    {
     "data": {
      "text/plain": [
       "{1: 'a', 2: 'b', 3: 'c'}"
      ]
     },
     "execution_count": 132,
     "metadata": {},
     "output_type": "execute_result"
    }
   ],
   "source": [
    "dict(zip((1,2,3),['a','b','c']))"
   ]
  },
  {
   "cell_type": "markdown",
   "metadata": {},
   "source": [
    "###  from -->functiontools -->import--> reduce\n",
    "\n",
    "https://www.techbeamers.com/python-functions-quiz-part-2/"
   ]
  },
  {
   "cell_type": "code",
   "execution_count": 133,
   "metadata": {},
   "outputs": [
    {
     "name": "stdout",
     "output_type": "stream",
     "text": [
      "102\n"
     ]
    }
   ],
   "source": [
    "from functools import reduce\n",
    "f = lambda a,b: a if (a > b) else b\n",
    "num = reduce(f, [47,11,42,102,13]) #reduce(function,apply on sequence) #use for comparison \n",
    "print (num)"
   ]
  },
  {
   "cell_type": "code",
   "execution_count": 134,
   "metadata": {},
   "outputs": [],
   "source": [
    "def cal():\n",
    "    return 2"
   ]
  },
  {
   "cell_type": "code",
   "execution_count": 135,
   "metadata": {},
   "outputs": [
    {
     "name": "stdout",
     "output_type": "stream",
     "text": [
      "yes 2\n"
     ]
    }
   ],
   "source": [
    "if cal() == 2:  #we can use function like object (which they actually are)\n",
    "    print('yes 2')"
   ]
  },
  {
   "cell_type": "code",
   "execution_count": 136,
   "metadata": {},
   "outputs": [],
   "source": [
    "def y():\n",
    "    return 20\n",
    "def z():\n",
    "    return 4"
   ]
  },
  {
   "cell_type": "code",
   "execution_count": 137,
   "metadata": {},
   "outputs": [],
   "source": [
    "def x():\n",
    "    return y()/z()  #operation between two fucntion with in other funcation"
   ]
  },
  {
   "cell_type": "code",
   "execution_count": 138,
   "metadata": {},
   "outputs": [
    {
     "data": {
      "text/plain": [
       "5.0"
      ]
     },
     "execution_count": 138,
     "metadata": {},
     "output_type": "execute_result"
    }
   ],
   "source": [
    "x()"
   ]
  },
  {
   "cell_type": "code",
   "execution_count": 139,
   "metadata": {},
   "outputs": [
    {
     "ename": "SyntaxError",
     "evalue": "invalid syntax (<ipython-input-139-4a0a47283a49>, line 1)",
     "output_type": "error",
     "traceback": [
      "\u001b[1;36m  File \u001b[1;32m\"<ipython-input-139-4a0a47283a49>\"\u001b[1;36m, line \u001b[1;32m1\u001b[0m\n\u001b[1;33m    if test1: if test2: print x\u001b[0m\n\u001b[1;37m               ^\u001b[0m\n\u001b[1;31mSyntaxError\u001b[0m\u001b[1;31m:\u001b[0m invalid syntax\n"
     ]
    }
   ],
   "source": [
    "if test1: if test2: print x"
   ]
  },
  {
   "cell_type": "code",
   "execution_count": 62,
   "metadata": {},
   "outputs": [
    {
     "ename": "SyntaxError",
     "evalue": "invalid syntax (<ipython-input-62-4c57cc2c03fe>, line 1)",
     "output_type": "error",
     "traceback": [
      "\u001b[1;36m  File \u001b[1;32m\"<ipython-input-62-4c57cc2c03fe>\"\u001b[1;36m, line \u001b[1;32m1\u001b[0m\n\u001b[1;33m    if x < y < z: print (x); print (y) print (z)\u001b[0m\n\u001b[1;37m                                           ^\u001b[0m\n\u001b[1;31mSyntaxError\u001b[0m\u001b[1;31m:\u001b[0m invalid syntax\n"
     ]
    }
   ],
   "source": [
    "if x < y < z: print (x); print (y) print (z)"
   ]
  },
  {
   "cell_type": "code",
   "execution_count": null,
   "metadata": {},
   "outputs": [],
   "source": [
    "def a(b):\n",
    "                    #     c=0\n",
    "    total = b + c  # c is used from out side but if u define c insie it will use c value from inside\n",
    "    print('c',c)   #b and total are local as they are introduced/decleared/defined inside functio \n",
    "    return total\n",
    "c = 2\n",
    "num = a(10)\n",
    "num\n",
    "b,total                           #we cannot call b and total outside of function \n",
    "                                #b is not how because some where in previous cellswe used b=2"
   ]
  },
  {
   "cell_type": "code",
   "execution_count": null,
   "metadata": {},
   "outputs": [],
   "source": [
    "def x(**a):  #we only use ** over here\n",
    "    print(a)    #kwarg convert to dictionary automatically\n",
    "    for k in a.keys():\n",
    "        print(a[k])"
   ]
  },
  {
   "cell_type": "code",
   "execution_count": 140,
   "metadata": {},
   "outputs": [
    {
     "ename": "TypeError",
     "evalue": "x() got an unexpected keyword argument 'a'",
     "output_type": "error",
     "traceback": [
      "\u001b[1;31m---------------------------------------------------------------------------\u001b[0m",
      "\u001b[1;31mTypeError\u001b[0m                                 Traceback (most recent call last)",
      "\u001b[1;32m<ipython-input-140-7f9ab93e438d>\u001b[0m in \u001b[0;36m<module>\u001b[1;34m\u001b[0m\n\u001b[0;32m      4\u001b[0m     \u001b[1;34m'c'\u001b[0m\u001b[1;33m:\u001b[0m\u001b[1;36m3\u001b[0m\u001b[1;33m\u001b[0m\u001b[1;33m\u001b[0m\u001b[0m\n\u001b[0;32m      5\u001b[0m     }\n\u001b[1;32m----> 6\u001b[1;33m \u001b[0mx\u001b[0m\u001b[1;33m(\u001b[0m\u001b[0ma\u001b[0m\u001b[1;33m=\u001b[0m\u001b[1;36m1\u001b[0m\u001b[1;33m,\u001b[0m\u001b[0mb\u001b[0m\u001b[1;33m=\u001b[0m\u001b[1;36m2\u001b[0m\u001b[1;33m,\u001b[0m\u001b[0mc\u001b[0m\u001b[1;33m=\u001b[0m\u001b[1;36m3\u001b[0m\u001b[1;33m)\u001b[0m\u001b[1;33m\u001b[0m\u001b[1;33m\u001b[0m\u001b[0m\n\u001b[0m",
      "\u001b[1;31mTypeError\u001b[0m: x() got an unexpected keyword argument 'a'"
     ]
    }
   ],
   "source": [
    "j={\n",
    "    'a':1,\n",
    "    'b':2,\n",
    "    'c':3\n",
    "    }\n",
    "x(a=1,b=2,c=3)"
   ]
  },
  {
   "cell_type": "code",
   "execution_count": null,
   "metadata": {},
   "outputs": [],
   "source": [
    "def x(*a):                            #we only use * over here\n",
    "    print('*a  into tuple',a)                     #arg convert to tuple automatically\n",
    "    for k in range(len(a)):\n",
    "        print(a[k])"
   ]
  },
  {
   "cell_type": "code",
   "execution_count": null,
   "metadata": {},
   "outputs": [],
   "source": [
    "x(1,2,3)"
   ]
  },
  {
   "cell_type": "markdown",
   "metadata": {},
   "source": [
    "## Unpacking With the Asterisk Operators: * & **\n",
    "You are now able to use <br><b> \\*args and **kwargs to define Python functions that take a varying number of input arguments. Let’s go a little deeper to understand something more about the unpacking operators.</b><br>\n",
    "\n",
    "The single and double asterisk unpacking operators were introduced in Python 2. As of the 3.5 release, they have become even more powerful, thanks to PEP 448. In short, the unpacking operators are operators that unpack the values from iterable objects in Python. The single asterisk operator * can be used on any iterable that Python provides, while the double asterisk operator ** can only be used on dictionaries."
   ]
  },
  {
   "cell_type": "code",
   "execution_count": null,
   "metadata": {},
   "outputs": [],
   "source": [
    "# *[1,2,3,4,5]  error\n",
    "#print(x=*[1,2,3,4,5]) will give error \n",
    "\n",
    "\n",
    "print(*[1,2,3,4,5])   "
   ]
  },
  {
   "cell_type": "code",
   "execution_count": null,
   "metadata": {},
   "outputs": [],
   "source": [
    "def my_sum(a, b, c):\n",
    "    print(a + b + c)\n",
    "\n",
    "my_list = [1, 2, 3]\n",
    "my_sum(*my_list)  #it unpack list and throw all elements as positional argument\n",
    "                 # unpack and use it as positional arguments "
   ]
  },
  {
   "cell_type": "markdown",
   "metadata": {},
   "source": [
    "###  Function inside Function"
   ]
  },
  {
   "cell_type": "code",
   "execution_count": null,
   "metadata": {},
   "outputs": [],
   "source": [
    "def human():\n",
    "    print('human on earth')\n",
    "    diamond = 10000\n",
    "    print(diamond)\n",
    "\n",
    "def earth():\n",
    "    print('earth in space')\n",
    "    diamond = 171300\n",
    "    human()\n",
    "    animal()\n",
    "earth()\n",
    "def animal():\n",
    "    print('animal on earth')"
   ]
  },
  {
   "cell_type": "code",
   "execution_count": null,
   "metadata": {},
   "outputs": [],
   "source": [
    "earth()"
   ]
  },
  {
   "cell_type": "code",
   "execution_count": null,
   "metadata": {
    "scrolled": true
   },
   "outputs": [],
   "source": [
    "any([[0],0,False])"
   ]
  },
  {
   "cell_type": "code",
   "execution_count": null,
   "metadata": {},
   "outputs": [],
   "source": [
    "def human():\n",
    "    print('human on earth')\n",
    "    diamond = 10000\n",
    "    print(diamond)\n",
    "\n",
    "def earth():\n",
    "    print('earth in space')\n",
    "    diamond = 171300\n",
    "    human()\n",
    "    animal()\n",
    "earth()\n",
    "def animal():\n",
    "    print('animal on earth')"
   ]
  },
  {
   "cell_type": "code",
   "execution_count": null,
   "metadata": {},
   "outputs": [],
   "source": [
    "#always first define function and then call function\n",
    "abx()\n",
    "\n",
    "def abx():\n",
    "    print('ppopoo')   "
   ]
  },
  {
   "cell_type": "code",
   "execution_count": 141,
   "metadata": {},
   "outputs": [
    {
     "name": "stdout",
     "output_type": "stream",
     "text": [
      "earth in space\n"
     ]
    },
    {
     "ename": "NameError",
     "evalue": "name 'lif' is not defined",
     "output_type": "error",
     "traceback": [
      "\u001b[1;31m---------------------------------------------------------------------------\u001b[0m",
      "\u001b[1;31mNameError\u001b[0m                                 Traceback (most recent call last)",
      "\u001b[1;32m<ipython-input-141-bf46814081bc>\u001b[0m in \u001b[0;36m<module>\u001b[1;34m\u001b[0m\n\u001b[0;32m      3\u001b[0m     \u001b[0mlif\u001b[0m\u001b[1;33m(\u001b[0m\u001b[1;33m)\u001b[0m\u001b[1;33m\u001b[0m\u001b[1;33m\u001b[0m\u001b[0m\n\u001b[0;32m      4\u001b[0m \u001b[1;33m\u001b[0m\u001b[0m\n\u001b[1;32m----> 5\u001b[1;33m \u001b[0mwor\u001b[0m\u001b[1;33m(\u001b[0m\u001b[1;33m)\u001b[0m    \u001b[1;31m#again it showe NameError because when thos executed it contain lif() function which is not defined\u001b[0m\u001b[1;33m\u001b[0m\u001b[1;33m\u001b[0m\u001b[0m\n\u001b[0m\u001b[0;32m      6\u001b[0m \u001b[1;33m\u001b[0m\u001b[0m\n\u001b[0;32m      7\u001b[0m \u001b[1;33m\u001b[0m\u001b[0m\n",
      "\u001b[1;32m<ipython-input-141-bf46814081bc>\u001b[0m in \u001b[0;36mwor\u001b[1;34m()\u001b[0m\n\u001b[0;32m      1\u001b[0m \u001b[1;32mdef\u001b[0m \u001b[0mwor\u001b[0m\u001b[1;33m(\u001b[0m\u001b[1;33m)\u001b[0m\u001b[1;33m:\u001b[0m\u001b[1;33m\u001b[0m\u001b[1;33m\u001b[0m\u001b[0m\n\u001b[0;32m      2\u001b[0m     \u001b[0mprint\u001b[0m\u001b[1;33m(\u001b[0m\u001b[1;34m'earth in space'\u001b[0m\u001b[1;33m)\u001b[0m\u001b[1;33m\u001b[0m\u001b[1;33m\u001b[0m\u001b[0m\n\u001b[1;32m----> 3\u001b[1;33m     \u001b[0mlif\u001b[0m\u001b[1;33m(\u001b[0m\u001b[1;33m)\u001b[0m\u001b[1;33m\u001b[0m\u001b[1;33m\u001b[0m\u001b[0m\n\u001b[0m\u001b[0;32m      4\u001b[0m \u001b[1;33m\u001b[0m\u001b[0m\n\u001b[0;32m      5\u001b[0m \u001b[0mwor\u001b[0m\u001b[1;33m(\u001b[0m\u001b[1;33m)\u001b[0m    \u001b[1;31m#again it showe NameError because when thos executed it contain lif() function which is not defined\u001b[0m\u001b[1;33m\u001b[0m\u001b[1;33m\u001b[0m\u001b[0m\n",
      "\u001b[1;31mNameError\u001b[0m: name 'lif' is not defined"
     ]
    }
   ],
   "source": [
    "def wor():\n",
    "    print('earth in space')\n",
    "    lif()\n",
    "\n",
    "wor()    #again it showe NameError because when thos executed it contain lif() function which is not defined \n",
    "        \n",
    "\n",
    "def lif():    #try to define this function before u call it \n",
    "    print('life on earth')\n",
    "    "
   ]
  },
  {
   "cell_type": "code",
   "execution_count": null,
   "metadata": {},
   "outputs": [],
   "source": [
    "def num1(x):\n",
    "    def num2(y):\n",
    "        return x * y\n",
    "    return num2\n",
    "res = num1(10)\n",
    "\n",
    "print(res(5))"
   ]
  },
  {
   "cell_type": "code",
   "execution_count": null,
   "metadata": {},
   "outputs": [],
   "source": [
    "def outer(num1):\n",
    "    def inner_increment(num1):  # Hidden from outer code\n",
    "        return num1 + 1\n",
    "    num2 = inner_increment(num1)\n",
    "    print(num1, num2)\n",
    "\n",
    "outer(10)"
   ]
  },
  {
   "cell_type": "markdown",
   "metadata": {},
   "source": [
    "#### recursive "
   ]
  },
  {
   "cell_type": "code",
   "execution_count": null,
   "metadata": {},
   "outputs": [],
   "source": [
    "def factorial(number):\n",
    "\n",
    "    # Error handling\n",
    "    if not isinstance(number, int):\n",
    "        raise TypeError(\"Sorry. 'number' must be an integer.\")\n",
    "    if not number >= 0:\n",
    "        raise ValueError(\"Sorry. 'number' must be zero or positive.\")\n",
    "\n",
    "    def inner_factorial(number):\n",
    "        if number <= 1:\n",
    "            return 1\n",
    "        return number*inner_factorial(number-1)\n",
    "    return inner_factorial(number)\n",
    "\n",
    "# Call the outer function.\n",
    "print(factorial(4))"
   ]
  },
  {
   "cell_type": "markdown",
   "metadata": {},
   "source": [
    "###  Passing arguments/parameters to inner functions?\n"
   ]
  },
  {
   "cell_type": "code",
   "execution_count": 63,
   "metadata": {},
   "outputs": [
    {
     "name": "stdout",
     "output_type": "stream",
     "text": [
      "50\n"
     ]
    }
   ],
   "source": [
    "def num1(x):\n",
    "    def num2(y):\n",
    "        return x * y\n",
    "    return num2  #this means who every the variable we assign num1() will actually get num2\n",
    "res = num1(10)\n",
    "\n",
    "print(res(5))"
   ]
  },
  {
   "cell_type": "code",
   "execution_count": 64,
   "metadata": {},
   "outputs": [
    {
     "name": "stdout",
     "output_type": "stream",
     "text": [
      "<function num1.<locals>.num2 at 0x00000289F24F8400>\n"
     ]
    }
   ],
   "source": [
    "print(res)"
   ]
  },
  {
   "cell_type": "code",
   "execution_count": 65,
   "metadata": {},
   "outputs": [],
   "source": [
    "y=1\n",
    "def hellow():\n",
    "    x=1\n",
    "    return x "
   ]
  },
  {
   "cell_type": "code",
   "execution_count": 66,
   "metadata": {},
   "outputs": [
    {
     "name": "stdout",
     "output_type": "stream",
     "text": [
      "140736629871424 140736629871424\n",
      "2791499071696 140736629871424 <--different\n"
     ]
    }
   ],
   "source": [
    "#the id of both are same this mean when we call hellow() it return or execute content of function hellow() \n",
    "#and we find id of result of function hellow() not the hellow() function id\n",
    "print(  id( hellow() ), id( y ) )  \n",
    "\n",
    "hellow()  #calling to a  hellow function\n",
    "hellow    #it is just a function\n",
    "\n",
    "# in this u can see id is different because  now we try to find id of hellow we did not executed hellow function \n",
    "#so when u don't us () then hellow function does not execute \n",
    "#in fact only hellow act as simple function without execution \n",
    "#u can use it when u don't want to execute function but to just assign it to some variable\n",
    "#and after assigning u want to use variable as to execute function\n",
    "print(id(hellow) ,id(y),'<--different')"
   ]
  },
  {
   "cell_type": "raw",
   "metadata": {},
   "source": [
    "Short answer: see https://nedbatchelder.com/text/names.html to get a better understanding of the difference between objects and the names used to refer to objects.\n",
    "\n",
    "A function is called if and only if you use parentheses. hello() calls the function; hello is simply a name bound to the function, and can be used, for example, to pass the function object as an argument to another function."
   ]
  },
  {
   "cell_type": "code",
   "execution_count": 142,
   "metadata": {},
   "outputs": [
    {
     "name": "stdout",
     "output_type": "stream",
     "text": [
      "False\n",
      "True\n",
      "2491591267336 2491591022408\n"
     ]
    }
   ],
   "source": [
    "a=[1,2,3]\n",
    "b=[1,2,3]\n",
    "print(a is b)\n",
    "c=a\n",
    "print(a is c)\n",
    "print(id(a),id(b))"
   ]
  },
  {
   "cell_type": "code",
   "execution_count": 67,
   "metadata": {},
   "outputs": [
    {
     "name": "stdout",
     "output_type": "stream",
     "text": [
      "140736629871456 140736629871456\n"
     ]
    }
   ],
   "source": [
    "x=2\n",
    "y=2\n",
    "print(id(x),id(y))"
   ]
  },
  {
   "cell_type": "code",
   "execution_count": 68,
   "metadata": {},
   "outputs": [
    {
     "name": "stdout",
     "output_type": "stream",
     "text": [
      "[1, 2, 3]\n"
     ]
    }
   ],
   "source": [
    "def augment_twice_bad(a_list, val):\n",
    "    \"\"\"Put `val` on the end of `a_list` twice.\"\"\"\n",
    "    a_list = a_list + [val, val]\n",
    "\n",
    "nums = [1, 2, 3]\n",
    "augment_twice_bad(nums, 4)\n",
    "print(nums)         # [1, 2, 3]"
   ]
  },
  {
   "cell_type": "code",
   "execution_count": 147,
   "metadata": {},
   "outputs": [
    {
     "name": "stdout",
     "output_type": "stream",
     "text": [
      "i shot md12\n"
     ]
    }
   ],
   "source": [
    "def gun(bullet):\n",
    "    bullet()\n",
    "def md12():\n",
    "    print('i shot md12')\n",
    "def sd12():\n",
    "    print('i shot sd12')\n",
    "\n",
    "    \n",
    "gun(md12)  \n",
    "#here we only assign name md12 to bullet\n",
    "#then inside gun() function\n",
    "# then inside bullet()  <--- as a function called\n",
    "# md12 and bulltet are just two names of 1 function\n",
    "        \n"
   ]
  },
  {
   "cell_type": "code",
   "execution_count": 149,
   "metadata": {},
   "outputs": [
    {
     "name": "stdout",
     "output_type": "stream",
     "text": [
      "i shot sd12\n"
     ]
    }
   ],
   "source": [
    "gun(sd12)"
   ]
  },
  {
   "cell_type": "code",
   "execution_count": 150,
   "metadata": {},
   "outputs": [],
   "source": [
    "def process(file_name):\n",
    "\n",
    "    def do_stuff(file_process):\n",
    "        wifi_locations = {}\n",
    "\n",
    "        for line in file_process:\n",
    "            values = line.split(',')\n",
    "            # Build the dict and increment values.\n",
    "            wifi_locations[values[1]] = wifi_locations.get(values[1], 0) + 1\n",
    "\n",
    "        max_key = 0\n",
    "        for name, key in wifi_locations.items():\n",
    "            all_locations = sum(wifi_locations.values())\n",
    "            if key > max_key:\n",
    "                max_key = key\n",
    "                business = name\n",
    "\n",
    "        print(f'There are {all_locations} WiFi hotspots in NYC, '\n",
    "              f'and {business} has the most with {max_key}.')\n",
    "\n",
    "    if isinstance(file_name, str):\n",
    "        with open(file_name, 'r') as f:\n",
    "            do_stuff(f)\n",
    "    else:\n",
    "        do_stuff(file_name)"
   ]
  },
  {
   "cell_type": "code",
   "execution_count": 152,
   "metadata": {},
   "outputs": [],
   "source": [
    "#process('NAME_OF_THE.csv')"
   ]
  },
  {
   "cell_type": "code",
   "execution_count": 153,
   "metadata": {},
   "outputs": [],
   "source": [
    "def generate_power(number):\n",
    "    \"\"\"\n",
    "    Examples of use:\n",
    "\n",
    "    >>> raise_two = generate_power(2)\n",
    "    >>> raise_three = generate_power(3)\n",
    "    >>> print(raise_two(7))\n",
    "    128\n",
    "    >>> print(raise_three(5))\n",
    "    243\n",
    "    \"\"\"\n",
    "\n",
    "    # Define the inner function ...\n",
    "    def nth_power(power):\n",
    "        return number ** power\n",
    "    # ... that is returned by the factory function.\n",
    "\n",
    "    return nth_power"
   ]
  },
  {
   "cell_type": "raw",
   "metadata": {},
   "source": [
    "Let’s take a look at what is going on in that example:\n",
    "generate_power() is a factory function, which simply means that it creates a new function each time it is called and then returns the newly created function. Thus, raise_two() and raise_three() are the newly created functions.\n",
    "What does this new, inner function do? It takes a single argument, power, and returns number**power.\n",
    "Where does the inner function get the value of number from? This is where the closure comes into play: nth_power() gets the value of power from the outer function, the factory function. Let’s step through this process:\n",
    "Call the outer function: generate_power(2).\n",
    "Build nth_power(), which takes a single argument power.\n",
    "Take a snapshot of the state of nth_power(), which includes number=2.\n",
    "Pass that snapshot into generate_power().\n",
    "Return nth_power().\n",
    "To put it another way, the closure “initializes” the number bar in nth_power() and then returns it. Now, whenever you call that newly returned function, it will always see its own private snapshot that includes number=2."
   ]
  },
  {
   "cell_type": "code",
   "execution_count": 154,
   "metadata": {},
   "outputs": [
    {
     "name": "stdout",
     "output_type": "stream",
     "text": [
      "'Admin' does have access to Admin Area.\n",
      "'Not Admin' does NOT have access to Admin Area.\n"
     ]
    }
   ],
   "source": [
    "def has_permission(page):\n",
    "    def inner(username):\n",
    "        if username == 'Admin':\n",
    "            return \"'{0}' does have access to {1}.\".format(username, page)\n",
    "        else:\n",
    "            return \"'{0}' does NOT have access to {1}.\".format(username, page)\n",
    "    return inner\n",
    "\n",
    "\n",
    "current_user = has_permission('Admin Area')\n",
    "print(current_user('Admin'))\n",
    "\n",
    "random_user = has_permission('Admin Area')\n",
    "print(random_user('Not Admin'))"
   ]
  },
  {
   "cell_type": "code",
   "execution_count": 155,
   "metadata": {},
   "outputs": [
    {
     "name": "stdout",
     "output_type": "stream",
     "text": [
      "128\n",
      "32\n"
     ]
    }
   ],
   "source": [
    "def generate_power(exponent):\n",
    "    def decorator(f):\n",
    "        def inner(*args):\n",
    "            result = f(*args)\n",
    "            return exponent**result\n",
    "        return inner\n",
    "    return decorator\n",
    "\n",
    "\n",
    "@generate_power(2)\n",
    "def raise_two(n):\n",
    "    return n\n",
    "\n",
    "print(raise_two(7))\n",
    "\n",
    "\n",
    "@generate_power(3)\n",
    "def raise_three(n):\n",
    "    return n\n",
    "\n",
    "print(raise_two(5))"
   ]
  },
  {
   "cell_type": "code",
   "execution_count": 156,
   "metadata": {},
   "outputs": [
    {
     "data": {
      "text/plain": [
       "128"
      ]
     },
     "execution_count": 156,
     "metadata": {},
     "output_type": "execute_result"
    }
   ],
   "source": [
    "2**7"
   ]
  },
  {
   "cell_type": "code",
   "execution_count": 157,
   "metadata": {},
   "outputs": [
    {
     "data": {
      "text/plain": [
       "243"
      ]
     },
     "execution_count": 157,
     "metadata": {},
     "output_type": "execute_result"
    }
   ],
   "source": [
    "3**5\n"
   ]
  },
  {
   "cell_type": "code",
   "execution_count": 158,
   "metadata": {},
   "outputs": [],
   "source": [
    "def one23():\n",
    "    def shoot():\n",
    "       print('bang bang bang') \n",
    "    return shoot"
   ]
  },
  {
   "cell_type": "code",
   "execution_count": 159,
   "metadata": {},
   "outputs": [
    {
     "data": {
      "text/plain": [
       "<function __main__.one23.<locals>.shoot()>"
      ]
     },
     "execution_count": 159,
     "metadata": {},
     "output_type": "execute_result"
    }
   ],
   "source": [
    "one23() #it did  not executed shoot because it is not with () so it act like  object type function"
   ]
  },
  {
   "cell_type": "code",
   "execution_count": 161,
   "metadata": {},
   "outputs": [
    {
     "name": "stdout",
     "output_type": "stream",
     "text": [
      "bang bang bang\n"
     ]
    }
   ],
   "source": [
    "one23()() #now it eexecuted with addition of ()"
   ]
  },
  {
   "cell_type": "code",
   "execution_count": 163,
   "metadata": {},
   "outputs": [],
   "source": [
    "# one23() will 'return' object type function named as 'shoot'\n",
    "#to execute shoot we use () one more time"
   ]
  },
  {
   "cell_type": "markdown",
   "metadata": {},
   "source": [
    "##### decorator"
   ]
  },
  {
   "cell_type": "code",
   "execution_count": 92,
   "metadata": {},
   "outputs": [],
   "source": [
    "def smart_divide(func):\n",
    "    def inner(a,b):\n",
    "        print(\"I am going to divide\",a,\"and\",b)\n",
    "        if b == 0:\n",
    "            print(\"Whoops! cannot divide\")\n",
    "            return\n",
    "\n",
    "        return func(a,b)\n",
    "    return inner\n",
    "\n",
    "@smart_divide\n",
    "def divide(aa,bb,c=0):\n",
    "    return aa/bb"
   ]
  },
  {
   "cell_type": "code",
   "execution_count": null,
   "metadata": {},
   "outputs": [],
   "source": [
    "# what happen is that the decorator@ function execute itself automatically and take\n",
    "#argument to function define under-neath it\n"
   ]
  },
  {
   "cell_type": "code",
   "execution_count": 93,
   "metadata": {},
   "outputs": [
    {
     "name": "stdout",
     "output_type": "stream",
     "text": [
      "I am going to divide 4 and 8\n"
     ]
    },
    {
     "data": {
      "text/plain": [
       "0.5"
      ]
     },
     "execution_count": 93,
     "metadata": {},
     "output_type": "execute_result"
    }
   ],
   "source": [
    "divide(4,8)"
   ]
  },
  {
   "cell_type": "code",
   "execution_count": 172,
   "metadata": {},
   "outputs": [
    {
     "name": "stdout",
     "output_type": "stream",
     "text": [
      "space executed\n"
     ]
    }
   ],
   "source": [
    "def space(a):\n",
    "    print('space executed')\n",
    "    def earth():\n",
    "        print('earth executed')\n",
    "        def human():\n",
    "            print('human executed')\n",
    "            def pc():\n",
    "                print('dellexecuted')\n",
    "                return a()\n",
    "            return pc\n",
    "        return human\n",
    "    return earth\n",
    "\n",
    "@space          #descorator execute it self and take below function as its arugment as well at the same time space(col)\n",
    "def col():\n",
    "    return print('black executed')\n",
    "    \n"
   ]
  },
  {
   "cell_type": "code",
   "execution_count": 175,
   "metadata": {},
   "outputs": [
    {
     "data": {
      "text/plain": [
       "<function __main__.space.<locals>.earth()>"
      ]
     },
     "execution_count": 175,
     "metadata": {},
     "output_type": "execute_result"
    }
   ],
   "source": [
    "col  #col function is hidden under another function and its earth "
   ]
  },
  {
   "cell_type": "code",
   "execution_count": 176,
   "metadata": {},
   "outputs": [
    {
     "name": "stdout",
     "output_type": "stream",
     "text": [
      "earth executed\n"
     ]
    },
    {
     "data": {
      "text/plain": [
       "<function __main__.space.<locals>.earth.<locals>.human()>"
      ]
     },
     "execution_count": 176,
     "metadata": {},
     "output_type": "execute_result"
    }
   ],
   "source": [
    "col() #earth executed but still col is underneath another function  its human"
   ]
  },
  {
   "cell_type": "code",
   "execution_count": 177,
   "metadata": {},
   "outputs": [
    {
     "name": "stdout",
     "output_type": "stream",
     "text": [
      "earth executed\n",
      "human executed\n"
     ]
    },
    {
     "data": {
      "text/plain": [
       "<function __main__.space.<locals>.earth.<locals>.human.<locals>.pc()>"
      ]
     },
     "execution_count": 177,
     "metadata": {},
     "output_type": "execute_result"
    }
   ],
   "source": [
    "col()()  #after human executed one more layer of function pc is hidding col function"
   ]
  },
  {
   "cell_type": "code",
   "execution_count": 179,
   "metadata": {},
   "outputs": [
    {
     "name": "stdout",
     "output_type": "stream",
     "text": [
      "earth executed\n",
      "human executed\n",
      "dellexecuted\n",
      "black executed\n"
     ]
    }
   ],
   "source": [
    "col()()()   # after passing through all functions layers col() executed as a()  giving 'black'"
   ]
  },
  {
   "cell_type": "code",
   "execution_count": 190,
   "metadata": {},
   "outputs": [
    {
     "name": "stdout",
     "output_type": "stream",
     "text": [
      "space executed\n"
     ]
    }
   ],
   "source": [
    "def space(a):\n",
    "    print('space executed')\n",
    "    def earth():\n",
    "        print('earth executed')\n",
    "        print(a())                 #now we put a() after earth\n",
    "        def human():\n",
    "            print('human executed')\n",
    "            def pc():\n",
    "                print('dellexecuted')\n",
    "                return a()\n",
    "            return pc\n",
    "        return human\n",
    "    return earth\n",
    "\n",
    "@space          #descorator execute it self and take below function as its arugment as well at the same time space(col)\n",
    "def col():\n",
    "    return 'black executed'\n",
    "\n"
   ]
  },
  {
   "cell_type": "code",
   "execution_count": 191,
   "metadata": {},
   "outputs": [
    {
     "name": "stdout",
     "output_type": "stream",
     "text": [
      "earth executed\n",
      "black executed\n"
     ]
    },
    {
     "data": {
      "text/plain": [
       "<function __main__.space.<locals>.earth.<locals>.human()>"
      ]
     },
     "execution_count": 191,
     "metadata": {},
     "output_type": "execute_result"
    }
   ],
   "source": [
    "col()"
   ]
  },
  {
   "cell_type": "code",
   "execution_count": 188,
   "metadata": {},
   "outputs": [
    {
     "name": "stdout",
     "output_type": "stream",
     "text": [
      "earth executed\n",
      "black executed\n",
      "human executed\n",
      "dellexecuted\n"
     ]
    },
    {
     "data": {
      "text/plain": [
       "'black executed'"
      ]
     },
     "execution_count": 188,
     "metadata": {},
     "output_type": "execute_result"
    }
   ],
   "source": [
    "col()()()"
   ]
  },
  {
   "cell_type": "code",
   "execution_count": 206,
   "metadata": {},
   "outputs": [
    {
     "name": "stdout",
     "output_type": "stream",
     "text": [
      "taken\n"
     ]
    },
    {
     "data": {
      "text/plain": [
       "<function __main__.take.<locals>.up(c, d)>"
      ]
     },
     "execution_count": 206,
     "metadata": {},
     "output_type": "execute_result"
    }
   ],
   "source": [
    "def take(a):\n",
    "    print('taken')\n",
    "    def up(c,d):\n",
    "        c*=2\n",
    "        d*=2\n",
    "        return a(c,d)\n",
    "    return up \n",
    "@take               #@take decorator executed itself and also include math function init as object\n",
    "def math(c,d):      #return of taken function is --up-- object\n",
    "    print(c*d)      #now this --up-- object has new name---> math \n",
    "                    #if u now just write math it will notexecuted real math function\n",
    "                    # because now it is taken and renamed as -->a\n",
    "                    # and whate ever returned by taken function is given a variable math =return up\n",
    "                \n",
    "                \n",
    "                \n",
    "                #\"\"\"--math-- now hold return of taken which us --up--\n",
    "                #  and original math function is taken as  --a-- inside \"\"\"\n",
    "\n",
    "                \n",
    "                \n",
    "math      #u can see now math hold up function as object \n",
    "          #where the original math function is renamed as -->a"
   ]
  },
  {
   "cell_type": "markdown",
   "metadata": {},
   "source": [
    "#####  Chaining Decorators in Python"
   ]
  },
  {
   "cell_type": "code",
   "execution_count": 177,
   "metadata": {},
   "outputs": [
    {
     "name": "stdout",
     "output_type": "stream",
     "text": [
      "******************************\n",
      "%%%%%%%%%%%%%%%%%%%%%%%%%%%%%%\n",
      "Hello\n",
      "%%%%%%%%%%%%%%%%%%%%%%%%%%%%%%\n",
      "******************************\n"
     ]
    }
   ],
   "source": [
    "def star(func):\n",
    "    def inner(*args, **kwargs):\n",
    "        print(\"*\" * 30)\n",
    "        func(*args, **kwargs)\n",
    "        print(\"*\" * 30)\n",
    "    return inner\n",
    "\n",
    "def percent(func):\n",
    "    def inner(*args, **kwargs):\n",
    "        print(\"%\" * 30)\n",
    "        func(*args, **kwargs)\n",
    "        print(\"%\" * 30)\n",
    "    return inner\n",
    "\n",
    "@star\n",
    "@percent\n",
    "def printer(msg):\n",
    "    print(msg)\n",
    "printer(\"Hello\")"
   ]
  },
  {
   "cell_type": "code",
   "execution_count": 179,
   "metadata": {},
   "outputs": [
    {
     "data": {
      "text/plain": [
       "type"
      ]
     },
     "execution_count": 179,
     "metadata": {},
     "output_type": "execute_result"
    }
   ],
   "source": [
    "type(type(int))"
   ]
  },
  {
   "cell_type": "code",
   "execution_count": 84,
   "metadata": {},
   "outputs": [],
   "source": [
    "def space(n='i'):\n",
    "    def earth():\n",
    "        print('this is earth now',n)\n",
    "        return n()\n",
    "    return earth\n",
    "# space()()"
   ]
  },
  {
   "cell_type": "code",
   "execution_count": 85,
   "metadata": {},
   "outputs": [],
   "source": [
    "@space\n",
    "def country():\n",
    "    print('this is country now')"
   ]
  },
  {
   "cell_type": "code",
   "execution_count": 86,
   "metadata": {},
   "outputs": [
    {
     "name": "stdout",
     "output_type": "stream",
     "text": [
      "this is earth now <function country at 0x00000289F24F8620>\n",
      "this is country now\n"
     ]
    }
   ],
   "source": [
    "country()"
   ]
  },
  {
   "cell_type": "code",
   "execution_count": null,
   "metadata": {},
   "outputs": [],
   "source": []
  }
 ],
 "metadata": {
  "kernelspec": {
   "display_name": "Python 3",
   "language": "python",
   "name": "python3"
  },
  "language_info": {
   "codemirror_mode": {
    "name": "ipython",
    "version": 3
   },
   "file_extension": ".py",
   "mimetype": "text/x-python",
   "name": "python",
   "nbconvert_exporter": "python",
   "pygments_lexer": "ipython3",
   "version": "3.7.3"
  }
 },
 "nbformat": 4,
 "nbformat_minor": 2
}
