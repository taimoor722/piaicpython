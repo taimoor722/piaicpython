{
 "cells": [
  {
   "cell_type": "markdown",
   "metadata": {},
   "source": [
    "### Web Scrapping and other Libraries ,upwork \n",
    "selinum<br>\n",
    "requests<br>\n",
    "BeautifulScope<br>\n",
    "\n",
    "##### this is last quater class"
   ]
  },
  {
   "cell_type": "markdown",
   "metadata": {},
   "source": [
    "####  upwork"
   ]
  },
  {
   "cell_type": "raw",
   "metadata": {},
   "source": [
    "1. proposal writing :\n",
    "        >start your proposal with a \"Decompression Zone\"  (increase listening and obeservation lower your speaking) \n",
    "        (give choice and then silent)\n",
    "        \n",
    "        >don't make \"hybrid Proposal\" don't do one for all client -make customice proposal\n",
    "        >offer a helpful suggestion right in your cover letter-don't say i can do this and that  instead give suggestion\n",
    "        >cocain === suggestion\n",
    "        >Don't bury the lead--be short in story and be practical-don't say-show it- don't build story--show more--visualization\n",
    "        >show any example of similar work (even if you are brand-new)\n",
    "        >try to resumble your work with l=client requirment\n",
    "        >add images,methodology, even if you don't have relevent project\n",
    "        >Find common ground (to have trust)\n",
    "        >Become a screening question \"smuggler\" \n",
    "                additional Questions must be answer before cover letter\n",
    "        >End your cover letter with a Call To action\n",
    "            -ask for skype call if you have more time don't try to done the deal right away be agile and \n",
    "            -show him/her that i a available to help \n",
    "        >Don't Sell yourself short\n",
    "        >Use the client's name--> HI Jon\n",
    "        >don't be a begger \n",
    "        >one Word = 1 Year -less word more pracitcal\n",
    "                    (try to asume one word is equal to 1year loss o your life then write with this mind set)\n",
    "        >Threat your Client--Threat marketing--either we work to gain or either we work to save our self from loss\n",
    "            tell client that what problems this field has and what majority people fell in to what problem\n",
    "            advantages and disadvantage of not appling such and such thing\n",
    "        \n",
    "            \n",
    "    "
   ]
  },
  {
   "cell_type": "raw",
   "metadata": {},
   "source": [
    "dont do this i i i i i dont write about your achievment write about his problem and solution"
   ]
  },
  {
   "cell_type": "raw",
   "metadata": {},
   "source": [
    "1. say hi to client\n",
    "2.then two lines of what client requirment/problem is\n",
    "3.then write you need expert of this field xyz to solve it\n",
    "4.then tell your solution and your experiecne and what road block you migh faace in it \n",
    "5.or if stratagy change is needed\n",
    "6.then ur experience and also say i can help you and show him viscual pics road map how to do \n",
    "7.show relevent projects\n",
    "8.tell him you can reach him for skype talk to discuss and suggestions\n",
    "\n",
    "it took sir 1hr to write relevent proposal\n"
   ]
  },
  {
   "cell_type": "markdown",
   "metadata": {},
   "source": [
    "#### pyautogui and selinum"
   ]
  },
  {
   "cell_type": "code",
   "execution_count": 1,
   "metadata": {},
   "outputs": [],
   "source": [
    "import pyautogui as pg"
   ]
  },
  {
   "cell_type": "code",
   "execution_count": 2,
   "metadata": {},
   "outputs": [
    {
     "data": {
      "text/plain": [
       "Point(x=608, y=297)"
      ]
     },
     "execution_count": 2,
     "metadata": {},
     "output_type": "execute_result"
    }
   ],
   "source": [
    "pg.position() #x max 1919  #y max 1079"
   ]
  },
  {
   "cell_type": "code",
   "execution_count": 3,
   "metadata": {},
   "outputs": [
    {
     "data": {
      "text/plain": [
       "Point(x=608, y=297)"
      ]
     },
     "execution_count": 3,
     "metadata": {},
     "output_type": "execute_result"
    }
   ],
   "source": [
    "pg.position()"
   ]
  },
  {
   "cell_type": "code",
   "execution_count": 4,
   "metadata": {},
   "outputs": [],
   "source": [
    "pg.moveTo(x=1625,y=18,duration=5)\n",
    "pg.click()"
   ]
  },
  {
   "cell_type": "code",
   "execution_count": 5,
   "metadata": {},
   "outputs": [],
   "source": [
    "pg.moveTo(528,830,3)\n",
    "pg.click()\n",
    "pg.write('print(2)',interval=0.25)\n",
    "pg.hotkey('winleft','up')"
   ]
  },
  {
   "cell_type": "code",
   "execution_count": 6,
   "metadata": {},
   "outputs": [
    {
     "name": "stdout",
     "output_type": "stream",
     "text": [
      "2\n"
     ]
    }
   ],
   "source": [
    "print(2)"
   ]
  },
  {
   "cell_type": "code",
   "execution_count": 7,
   "metadata": {},
   "outputs": [],
   "source": [
    "pg.press('5')"
   ]
  },
  {
   "cell_type": "code",
   "execution_count": null,
   "metadata": {},
   "outputs": [],
   "source": [
    "pg.alert(text='taimoor',title='',button='OK')"
   ]
  },
  {
   "cell_type": "code",
   "execution_count": 1,
   "metadata": {},
   "outputs": [],
   "source": [
    "#pg.conform\n",
    "#pg.prompt\n",
    "#pg.maximuze()"
   ]
  },
  {
   "cell_type": "markdown",
   "metadata": {},
   "source": [
    "### Web Scraping  \n",
    "selium<br>\n",
    "BeautifulScope<br>"
   ]
  },
  {
   "cell_type": "code",
   "execution_count": 2,
   "metadata": {},
   "outputs": [],
   "source": [
    "#google data set 25million data set goto it"
   ]
  },
  {
   "cell_type": "code",
   "execution_count": null,
   "metadata": {},
   "outputs": [],
   "source": []
  },
  {
   "cell_type": "code",
   "execution_count": 6,
   "metadata": {},
   "outputs": [],
   "source": [
    "#these below are use to import webdata\n",
    "#urllib\n",
    "\n",
    "#these use for http \n",
    "#request\n",
    "#response"
   ]
  },
  {
   "cell_type": "code",
   "execution_count": 7,
   "metadata": {},
   "outputs": [],
   "source": [
    "from urllib.request import urlretrieve"
   ]
  },
  {
   "cell_type": "code",
   "execution_count": 19,
   "metadata": {},
   "outputs": [
    {
     "ename": "TypeError",
     "evalue": "urlretrieve() got an unexpected keyword argument 'header'",
     "output_type": "error",
     "traceback": [
      "\u001b[1;31m---------------------------------------------------------------------------\u001b[0m",
      "\u001b[1;31mTypeError\u001b[0m                                 Traceback (most recent call last)",
      "\u001b[1;32m<ipython-input-19-d3e69f9c9f46>\u001b[0m in \u001b[0;36m<module>\u001b[1;34m\u001b[0m\n\u001b[1;32m----> 1\u001b[1;33m \u001b[0murlretrieve\u001b[0m\u001b[1;33m(\u001b[0m\u001b[1;34m'C:/Users/taimo/Downloads'\u001b[0m\u001b[1;33m,\u001b[0m\u001b[1;34m'forestfire.csv'\u001b[0m\u001b[1;33m,\u001b[0m\u001b[0mheader\u001b[0m\u001b[1;33m=\u001b[0m\u001b[1;32mNone\u001b[0m\u001b[1;33m)\u001b[0m\u001b[1;33m\u001b[0m\u001b[1;33m\u001b[0m\u001b[0m\n\u001b[0m",
      "\u001b[1;31mTypeError\u001b[0m: urlretrieve() got an unexpected keyword argument 'header'"
     ]
    }
   ],
   "source": [
    "urlretrieve('C:/Users/taimo/Downloads','forestfire.csv',header=None)"
   ]
  },
  {
   "cell_type": "code",
   "execution_count": 16,
   "metadata": {},
   "outputs": [
    {
     "data": {
      "text/html": [
       "<div>\n",
       "<style scoped>\n",
       "    .dataframe tbody tr th:only-of-type {\n",
       "        vertical-align: middle;\n",
       "    }\n",
       "\n",
       "    .dataframe tbody tr th {\n",
       "        vertical-align: top;\n",
       "    }\n",
       "\n",
       "    .dataframe thead th {\n",
       "        text-align: right;\n",
       "    }\n",
       "</style>\n",
       "<table border=\"1\" class=\"dataframe\">\n",
       "  <thead>\n",
       "    <tr style=\"text-align: right;\">\n",
       "      <th></th>\n",
       "      <th>X</th>\n",
       "      <th>Y</th>\n",
       "      <th>month</th>\n",
       "      <th>day</th>\n",
       "      <th>FFMC</th>\n",
       "      <th>DMC</th>\n",
       "      <th>DC</th>\n",
       "      <th>ISI</th>\n",
       "      <th>temp</th>\n",
       "      <th>RH</th>\n",
       "      <th>wind</th>\n",
       "      <th>rain</th>\n",
       "      <th>area</th>\n",
       "    </tr>\n",
       "  </thead>\n",
       "  <tbody>\n",
       "    <tr>\n",
       "      <th>0</th>\n",
       "      <td>7</td>\n",
       "      <td>5</td>\n",
       "      <td>mar</td>\n",
       "      <td>fri</td>\n",
       "      <td>86.2</td>\n",
       "      <td>26.2</td>\n",
       "      <td>94.3</td>\n",
       "      <td>5.1</td>\n",
       "      <td>8.2</td>\n",
       "      <td>51</td>\n",
       "      <td>6.7</td>\n",
       "      <td>0.0</td>\n",
       "      <td>0.00</td>\n",
       "    </tr>\n",
       "    <tr>\n",
       "      <th>1</th>\n",
       "      <td>7</td>\n",
       "      <td>4</td>\n",
       "      <td>oct</td>\n",
       "      <td>tue</td>\n",
       "      <td>90.6</td>\n",
       "      <td>35.4</td>\n",
       "      <td>669.1</td>\n",
       "      <td>6.7</td>\n",
       "      <td>18.0</td>\n",
       "      <td>33</td>\n",
       "      <td>0.9</td>\n",
       "      <td>0.0</td>\n",
       "      <td>0.00</td>\n",
       "    </tr>\n",
       "    <tr>\n",
       "      <th>2</th>\n",
       "      <td>7</td>\n",
       "      <td>4</td>\n",
       "      <td>oct</td>\n",
       "      <td>sat</td>\n",
       "      <td>90.6</td>\n",
       "      <td>43.7</td>\n",
       "      <td>686.9</td>\n",
       "      <td>6.7</td>\n",
       "      <td>14.6</td>\n",
       "      <td>33</td>\n",
       "      <td>1.3</td>\n",
       "      <td>0.0</td>\n",
       "      <td>0.00</td>\n",
       "    </tr>\n",
       "    <tr>\n",
       "      <th>3</th>\n",
       "      <td>8</td>\n",
       "      <td>6</td>\n",
       "      <td>mar</td>\n",
       "      <td>fri</td>\n",
       "      <td>91.7</td>\n",
       "      <td>33.3</td>\n",
       "      <td>77.5</td>\n",
       "      <td>9.0</td>\n",
       "      <td>8.3</td>\n",
       "      <td>97</td>\n",
       "      <td>4.0</td>\n",
       "      <td>0.2</td>\n",
       "      <td>0.00</td>\n",
       "    </tr>\n",
       "    <tr>\n",
       "      <th>4</th>\n",
       "      <td>8</td>\n",
       "      <td>6</td>\n",
       "      <td>mar</td>\n",
       "      <td>sun</td>\n",
       "      <td>89.3</td>\n",
       "      <td>51.3</td>\n",
       "      <td>102.2</td>\n",
       "      <td>9.6</td>\n",
       "      <td>11.4</td>\n",
       "      <td>99</td>\n",
       "      <td>1.8</td>\n",
       "      <td>0.0</td>\n",
       "      <td>0.00</td>\n",
       "    </tr>\n",
       "    <tr>\n",
       "      <th>...</th>\n",
       "      <td>...</td>\n",
       "      <td>...</td>\n",
       "      <td>...</td>\n",
       "      <td>...</td>\n",
       "      <td>...</td>\n",
       "      <td>...</td>\n",
       "      <td>...</td>\n",
       "      <td>...</td>\n",
       "      <td>...</td>\n",
       "      <td>...</td>\n",
       "      <td>...</td>\n",
       "      <td>...</td>\n",
       "      <td>...</td>\n",
       "    </tr>\n",
       "    <tr>\n",
       "      <th>512</th>\n",
       "      <td>4</td>\n",
       "      <td>3</td>\n",
       "      <td>aug</td>\n",
       "      <td>sun</td>\n",
       "      <td>81.6</td>\n",
       "      <td>56.7</td>\n",
       "      <td>665.6</td>\n",
       "      <td>1.9</td>\n",
       "      <td>27.8</td>\n",
       "      <td>32</td>\n",
       "      <td>2.7</td>\n",
       "      <td>0.0</td>\n",
       "      <td>6.44</td>\n",
       "    </tr>\n",
       "    <tr>\n",
       "      <th>513</th>\n",
       "      <td>2</td>\n",
       "      <td>4</td>\n",
       "      <td>aug</td>\n",
       "      <td>sun</td>\n",
       "      <td>81.6</td>\n",
       "      <td>56.7</td>\n",
       "      <td>665.6</td>\n",
       "      <td>1.9</td>\n",
       "      <td>21.9</td>\n",
       "      <td>71</td>\n",
       "      <td>5.8</td>\n",
       "      <td>0.0</td>\n",
       "      <td>54.29</td>\n",
       "    </tr>\n",
       "    <tr>\n",
       "      <th>514</th>\n",
       "      <td>7</td>\n",
       "      <td>4</td>\n",
       "      <td>aug</td>\n",
       "      <td>sun</td>\n",
       "      <td>81.6</td>\n",
       "      <td>56.7</td>\n",
       "      <td>665.6</td>\n",
       "      <td>1.9</td>\n",
       "      <td>21.2</td>\n",
       "      <td>70</td>\n",
       "      <td>6.7</td>\n",
       "      <td>0.0</td>\n",
       "      <td>11.16</td>\n",
       "    </tr>\n",
       "    <tr>\n",
       "      <th>515</th>\n",
       "      <td>1</td>\n",
       "      <td>4</td>\n",
       "      <td>aug</td>\n",
       "      <td>sat</td>\n",
       "      <td>94.4</td>\n",
       "      <td>146.0</td>\n",
       "      <td>614.7</td>\n",
       "      <td>11.3</td>\n",
       "      <td>25.6</td>\n",
       "      <td>42</td>\n",
       "      <td>4.0</td>\n",
       "      <td>0.0</td>\n",
       "      <td>0.00</td>\n",
       "    </tr>\n",
       "    <tr>\n",
       "      <th>516</th>\n",
       "      <td>6</td>\n",
       "      <td>3</td>\n",
       "      <td>nov</td>\n",
       "      <td>tue</td>\n",
       "      <td>79.5</td>\n",
       "      <td>3.0</td>\n",
       "      <td>106.7</td>\n",
       "      <td>1.1</td>\n",
       "      <td>11.8</td>\n",
       "      <td>31</td>\n",
       "      <td>4.5</td>\n",
       "      <td>0.0</td>\n",
       "      <td>0.00</td>\n",
       "    </tr>\n",
       "  </tbody>\n",
       "</table>\n",
       "<p>517 rows × 13 columns</p>\n",
       "</div>"
      ],
      "text/plain": [
       "     X  Y month  day  FFMC    DMC     DC   ISI  temp  RH  wind  rain   area\n",
       "0    7  5   mar  fri  86.2   26.2   94.3   5.1   8.2  51   6.7   0.0   0.00\n",
       "1    7  4   oct  tue  90.6   35.4  669.1   6.7  18.0  33   0.9   0.0   0.00\n",
       "2    7  4   oct  sat  90.6   43.7  686.9   6.7  14.6  33   1.3   0.0   0.00\n",
       "3    8  6   mar  fri  91.7   33.3   77.5   9.0   8.3  97   4.0   0.2   0.00\n",
       "4    8  6   mar  sun  89.3   51.3  102.2   9.6  11.4  99   1.8   0.0   0.00\n",
       "..  .. ..   ...  ...   ...    ...    ...   ...   ...  ..   ...   ...    ...\n",
       "512  4  3   aug  sun  81.6   56.7  665.6   1.9  27.8  32   2.7   0.0   6.44\n",
       "513  2  4   aug  sun  81.6   56.7  665.6   1.9  21.9  71   5.8   0.0  54.29\n",
       "514  7  4   aug  sun  81.6   56.7  665.6   1.9  21.2  70   6.7   0.0  11.16\n",
       "515  1  4   aug  sat  94.4  146.0  614.7  11.3  25.6  42   4.0   0.0   0.00\n",
       "516  6  3   nov  tue  79.5    3.0  106.7   1.1  11.8  31   4.5   0.0   0.00\n",
       "\n",
       "[517 rows x 13 columns]"
      ]
     },
     "execution_count": 16,
     "metadata": {},
     "output_type": "execute_result"
    }
   ],
   "source": [
    "import pandas as pd\n",
    "pd.read_csv('C:/Users/taimo/Downloads/forestfires.csv')"
   ]
  },
  {
   "cell_type": "code",
   "execution_count": 26,
   "metadata": {},
   "outputs": [],
   "source": [
    "from bs4 import BeautifulSoup as bsup\n",
    "import requests\n",
    "import selenium\n",
    "#import scrapy"
   ]
  },
  {
   "cell_type": "code",
   "execution_count": 22,
   "metadata": {},
   "outputs": [],
   "source": [
    "#data communication network read"
   ]
  },
  {
   "cell_type": "code",
   "execution_count": 30,
   "metadata": {},
   "outputs": [],
   "source": [
    "taken=requests.get('https://en.wikipedia.org/wiki/Main_Page') # .get "
   ]
  },
  {
   "cell_type": "code",
   "execution_count": 32,
   "metadata": {},
   "outputs": [],
   "source": [
    "html=bsup(taken.text,'html.parser')  "
   ]
  },
  {
   "cell_type": "code",
   "execution_count": 34,
   "metadata": {},
   "outputs": [
    {
     "data": {
      "text/plain": [
       "<title>Wikipedia, the free encyclopedia</title>"
      ]
     },
     "execution_count": 34,
     "metadata": {},
     "output_type": "execute_result"
    }
   ],
   "source": [
    "html.title"
   ]
  },
  {
   "cell_type": "code",
   "execution_count": 35,
   "metadata": {},
   "outputs": [
    {
     "data": {
      "text/plain": [
       "'Wikipedia, the free encyclopedia'"
      ]
     },
     "execution_count": 35,
     "metadata": {},
     "output_type": "execute_result"
    }
   ],
   "source": [
    "html.title.text"
   ]
  },
  {
   "cell_type": "code",
   "execution_count": 37,
   "metadata": {},
   "outputs": [
    {
     "data": {
      "text/plain": [
       "'\\n\\n\\n\\nWikipedia, the free encyclopedia\\ndocument.documentElement.className=\"client-js\";RLCONF={\"wgBreakFrames\":!1,\"wgSeparatorTransformTable\":[\"\",\"\"],\"wgDigitTransformTable\":[\"\",\"\"],\"wgDefaultDateFormat\":\"dmy\",\"wgMonthNames\":[\"\",\"January\",\"February\",\"March\",\"April\",\"May\",\"June\",\"July\",\"August\",\"September\",\"October\",\"November\",\"December\"],\"wgMonthNamesShort\":[\"\",\"Jan\",\"Feb\",\"Mar\",\"Apr\",\"May\",\"Jun\",\"Jul\",\"Aug\",\"Sep\",\"Oct\",\"Nov\",\"Dec\"],\"wgRequestId\":\"XjZUFApAADgAAJb1bMgAAABR\",\"wgCSPNonce\":!1,\"wgCanonicalNamespace\":\"\",\"wgCanonicalSpecialPageName\":!1,\"wgNamespaceNumber\":0,\"wgPageName\":\"Main_Page\",\"wgTitle\":\"Main Page\",\"wgCurRevisionId\":937673241,\"wgRevisionId\":937673241,\"wgArticleId\":15580374,\"wgIsArticle\":!0,\"wgIsRedirect\":!1,\"wgAction\":\"view\",\"wgUserName\":null,\"wgUserGroups\":[\"*\"],\"wgCategories\":[],\"wgPageContentLanguage\":\"en\",\"wgPageContentModel\":\"wikitext\",\"wgRelevantPageName\":\"Main_Page\",\"wgRelevantArticleId\":15580374,\"wgIsProbablyEditable\":!1,\"wgRelevantPageIsProbablyEditable\":!1,\"wgRestrictionEdit\":[\\n\"sysop\"],\"wgRestrictionMove\":[\"sysop\"],\"wgIsMainPage\":!0,\"wgMediaViewerOnClick\":!0,\"wgMediaViewerEnabledByDefault\":!0,\"wgPopupsReferencePreviews\":!1,\"wgPopupsConflictsWithNavPopupGadget\":!1,\"wgVisualEditor\":{\"pageLanguageCode\":\"en\",\"pageLanguageDir\":\"ltr\",\"pageVariantFallbacks\":\"en\"},\"wgMFDisplayWikibaseDescriptions\":{\"search\":!0,\"nearby\":!0,\"watchlist\":!0,\"tagline\":!1},\"wgWMESchemaEditAttemptStepOversample\":!1,\"wgULSCurrentAutonym\":\"English\",\"wgNoticeProject\":\"wikipedia\",\"wgWikibaseItemId\":\"Q5296\",\"wgCentralAuthMobileDomain\":!1,\"wgEditSubmitButtonLabelPublish\":!0};RLSTATE={\"ext.globalCssJs.user.styles\":\"ready\",\"site.styles\":\"ready\",\"noscript\":\"ready\",\"user.styles\":\"ready\",\"ext.globalCssJs.user\":\"ready\",\"user\":\"ready\",\"user.options\":\"ready\",\"user.tokens\":\"loading\",\"mediawiki.legacy.shared\":\"ready\",\"mediawiki.legacy.commonPrint\":\"ready\",\"mediawiki.skinning.interface\":\"ready\",\"skins.vector.styles\":\"ready\",\"ext.visualEditor.desktopArticleTarget.noscript\":\\n\"ready\",\"ext.uls.interlanguage\":\"ready\",\"ext.wikimediaBadges\":\"ready\"};RLPAGEMODULES=[\"site\",\"mediawiki.page.startup\",\"skins.vector.js\",\"mediawiki.page.ready\",\"ext.gadget.ReferenceTooltips\",\"ext.gadget.watchlist-notice\",\"ext.gadget.DRN-wizard\",\"ext.gadget.charinsert\",\"ext.gadget.refToolbar\",\"ext.gadget.extra-toolbar-buttons\",\"ext.gadget.switcher\",\"ext.centralauth.centralautologin\",\"mmv.head\",\"mmv.bootstrap.autostart\",\"ext.popups\",\"ext.visualEditor.desktopArticleTarget.init\",\"ext.visualEditor.targetLoader\",\"ext.eventLogging\",\"ext.wikimediaEvents\",\"ext.navigationTiming\",\"ext.uls.interface\",\"ext.cx.eventlogging.campaigns\",\"ext.quicksurveys.init\",\"ext.centralNotice.geoIP\",\"ext.centralNotice.startUp\"];\\n(RLQ=window.RLQ||[]).push(function(){mw.loader.implement(\"user.tokens@tffin\",function($,jQuery,require,module){/*@nomin*/mw.user.tokens.set({\"patrolToken\":\"+\\\\\\\\\",\"watchToken\":\"+\\\\\\\\\",\"csrfToken\":\"+\\\\\\\\\"});\\n});});\\n\\n\\n\\n\\n\\n\\n\\n\\n\\n\\n\\n\\n\\n\\n\\n\\n\\n\\n\\n\\n\\n\\n\\n\\n\\n\\n\\n\\n\\n\\n\\nMain Page\\n\\nFrom Wikipedia, the free encyclopedia\\n\\n\\nJump to navigation\\nJump to search\\n\\n\\nWelcome to Wikipedia,\\nthe free encyclopedia that anyone can edit.\\n6,007,897 articles in English\\n\\n\\nArts\\nBiography\\nGeography\\nHistory\\nMathematics\\nScience\\nSociety\\nTechnology\\nAll portals\\n\\n\\n\\n\\n\\nFrom today\\'s featured article\\n\\n\\n\\nThe San Francisco–Oakland Bay Bridge half dollar is a fifty-cent piece struck by the United States Bureau of the Mint in 1936 as a commemorative coin. One of many commemoratives issued that year, it was designed by Jacques Schnier and honors the opening of the Bay Bridge that November. One side of the coin depicts a grizzly bear, a symbol of California, and the other shows the San Francisco–Oakland Bay Bridge, with the Ferry Building. Congress passed authorizing legislation for the coin in 1936. Schnier\\'s models were approved and the coins were struck at the San Francisco Mint. Just over 70,000 coins were sold, by mail, in person, and from booths at the Bay Bridge\\'s approaches, making it the first commemorative coin to be sold on a drive-in basis. The coins were taken off sale in February 1937, with the unsold remainder returned to the Mint for redemption and melting. The Bay Bridge half dollar catalogs in the low hundreds of dollars, depending on condition.\\n(Full\\xa0article...)\\n\\n\\nRecently featured: \\nPrince Romerson\\nRoman temple of Bziza\\nGolden swallow\\n\\n\\nArchive\\nBy email\\nMore featured articles\\n\\nDid you know\\xa0...\\n\\n\\n\\nSyd\\'s coffee stall\\n\\n... that a Royal Air Force serviceman was recalled from a Second World War secret mission to help run Syd\\'s coffee stall (pictured) in London?\\n... that the Grotta del Gelo cave on the Etna volcano is partially filled with ice?\\n... that mathematician Pamela E. Harris co-founded the online platform Lathisms to promote Hispanic and Latino American participation in mathematics?\\n... that the mobile game Bleach: Brave Souls features story arcs from the manga Bleach that did not appear in its anime adaptation, including the unaired final arc?\\n... that the Siege of Hull took place in 1642 after the governor twice refused to admit King Charles\\xa0I to the town?\\n... that German politician Diether Dehm employed former terrorist Christian Klar to work on his website?\\n... that the Dedham Covenant was meant to be eternally binding?\\n... that Mary Gordon, the first British female prison inspector, once forestalled recidivism by supplying men\\'s clothes and a train fare to South Wales to a female inmate who wanted to live as a man?\\n\\nArchive\\nStart a new article\\nNominate an article\\n\\n\\n\\n\\n\\n\\nIn the news\\n\\n\\nMap showing the UK (in orange) and the EU (in blue)\\n\\nThe United Kingdom leaves the European Union and begins an eleven-month transition period.\\nThe World Health Organization declares the outbreak of respiratory disease from a novel coronavirus to be a Public Health Emergency of International Concern.\\nFloods and landslides in southeastern Brazil kill at least sixty people and leave thousands of others homeless.\\n\\nOngoing: \\nAustralian bushfires\\nImpeachment trial of Donald Trump\\nIndian Citizenship Amendment Act protests\\nRecent deaths: \\nAnne Cox Chambers\\nJanez Stanovnik\\nHomero Gómez González\\nLéon Mokuna\\nPaul Farnes\\nHarriet Frank Jr.\\n\\nNominate an article\\nOn this day\\n\\nFebruary 2: Groundhog Day in Canada and the United States\\n\\n\\n\\nSeal of the U.S. Export–Import Bank\\n\\n1207 – Terra Mariana, comprising present-day Estonia and Latvia, was established as a principality of the Holy Roman Empire.\\n1438 – Nine leaders of the Transylvanian peasant revolt were executed at Torda.\\n1920 – The signing of the Treaty of Tartu ended the Estonian War of Independence, with Russia agreeing to recognize the independence of Estonia and renounce in perpetuity all rights to its territory.\\n1934 – The Export–Import Bank of the United States (seal pictured), the country\\'s official export credit agency, was established.\\n2007 – Following a Derby di Sicilia match in Catania, football violence caused the death of police officer Filippo Raciti, leading to new safety regulations at Italian sporting events.\\nAlix Le Clerc (b.\\xa01576)\\xa0· William Stanley (b.\\xa01829)\\xa0· Philip Seymour Hoffman (d.\\xa02014)\\n\\n\\nMore anniversaries: \\nFebruary 1\\nFebruary 2\\nFebruary 3\\n\\n\\nArchive\\nBy email\\nList of historical anniversaries\\n\\n\\n\\n\\nToday\\'s featured picture\\n\\n\\n\\n\\n\\n\\nCharles Maurice de Talleyrand-Périgord (2\\xa0February\\xa01754\\xa0– 17\\xa0May\\xa01838) was a French politician and diplomat. His career spanned the regimes of Louis XVI, Napoleon, Louis XVIII and Louis-Philippe, as well as the French Revolutionary era preceding Napoleon. Those whom he served often distrusted him but found him extremely useful, and the name \"Talleyrand\" has become a byword for crafty, cynical diplomacy.\\nThis portrait in oils was painted by Pierre-Paul Prud\\'hon in 1817, during the reign of Louis XVIII; Prud\\'hon had previously painted a portrait of each of Napoleon\\'s two wives. The picture is in the collection of the Metropolitan Museum of Art in New York.\\n\\nPainting credit: Pierre-Paul Prud\\'hon\\n\\nRecently featured: \\nIbukun Odusote\\nOphiuchus\\nFranklin D. Roosevelt\\n\\n\\nArchive\\nMore featured pictures\\n\\n\\n\\n\\n\\nOther areas of Wikipedia\\n\\nCommunity portal – Bulletin board, projects, resources and activities covering a wide range of Wikipedia areas.\\nHelp desk – Ask questions about using Wikipedia.\\nLocal embassy – For Wikipedia-related communication in languages other than English.\\nReference desk – Serving as virtual librarians, Wikipedia volunteers tackle your questions on a wide range of subjects.\\nSite news – Announcements, updates, articles and press releases on Wikipedia and the Wikimedia Foundation.\\nVillage pump – For discussions about Wikipedia itself, including areas for technical issues and policies.\\n\\nWikipedia\\'s sister projects\\n.mw-parser-output #sister-projects-list{text-align:left;background:transparent;margin:1px}.mw-parser-output #sister-projects-list>div{width:32%;min-width:20em;white-space:nowrap;margin:0 1px;display:inline-block}.mw-parser-output #sister-projects-list>div>div{display:inline-block;vertical-align:middle;margin:1px 0;padding:4px}.mw-parser-output #sister-projects-list>div>div:first-child{min-width:50px;text-align:center}\\nWikipedia is hosted by the Wikimedia Foundation, a non-profit organization that also hosts a range of other projects:\\n\\n\\n\\n  \\n Commons  Free media repository \\n\\n\\n  \\n MediaWiki  Wiki software development \\n\\n\\n  \\n Meta-Wiki  Wikimedia project coordination \\n\\n\\n  \\n Wikibooks  Free textbooks and manuals \\n\\n\\n  \\n Wikidata  Free knowledge base \\n\\n\\n  \\n Wikinews  Free-content news \\n\\n\\n  \\n Wikiquote  Collection of quotations \\n\\n\\n  \\n Wikisource  Free-content library \\n\\n\\n  \\n Wikispecies  Directory of species \\n\\n\\n  \\n Wikiversity  Free learning materials and activities \\n\\n\\n  \\n Wikivoyage  Free travel guide \\n\\n\\n  \\n Wiktionary  Dictionary and thesaurus \\n\\n\\nWikipedia languages\\n\\n\\nThis Wikipedia is written in English. Started in 2001\\xa0(2001), it currently contains 6,007,897 articles. \\nMany other Wikipedias are available; some of the largest are listed below.\\n\\n\\nMore than 1,000,000 articles: \\nالعربية\\nDeutsch\\nEspañol\\nFrançais\\nItaliano\\nNederlands\\n日本語\\nPolski\\nPortuguês\\nРусский\\nSvenska\\nTiếng Việt\\n中文\\n\\nMore than 250,000 articles: \\nBahasa Indonesia\\nBahasa Melayu\\nБългарски\\nCatalà\\nČeština\\nDansk\\nEsperanto\\nEuskara\\nفارسی\\u200e\\nעברית\\n한국어\\nMagyar\\nNorsk Bokmål\\nRomână\\nSrpski\\nSrpskohrvatski\\nSuomi\\nTürkçe\\nУкраїнська\\n\\nMore than 50,000 articles: \\nBosanski\\nEesti\\nΕλληνικά\\nEnglish (Simple English)\\nGalego\\nHrvatski\\nLatviešu\\nLietuvių\\nമലയാളം\\nNorsk nynorsk\\nSlovenčina\\nSlovenščina\\nไทย\\n\\n\\n\\nComplete list of Wikipedias\\n\\n\\n\\n\\n\\nRetrieved from \"https://en.wikipedia.org/w/index.php?title=Main_Page&oldid=937673241\"\\n\\n\\n\\n\\n\\n\\n\\n\\nNavigation menu\\n\\n\\nPersonal tools\\n\\nNot logged in\\nTalkContributionsCreate accountLog in\\n\\n\\n\\n\\nNamespaces\\n\\nMain PageTalk\\n\\n\\n\\n\\n\\nVariants\\n\\n\\n\\n\\n\\n\\n\\nViews\\n\\nReadView sourceView history\\n\\n\\n\\n\\nMore\\n\\n\\n\\n\\n\\nSearch\\n\\n\\n\\n\\n\\n\\n\\n\\n\\n\\n\\n\\n\\n\\n\\nNavigation\\n\\n\\nMain pageContentsFeatured contentCurrent eventsRandom articleDonate to WikipediaWikipedia store \\n\\n\\n\\nInteraction\\n\\n\\nHelpAbout WikipediaCommunity portalRecent changesContact page \\n\\n\\n\\nTools\\n\\n\\nWhat links hereRelated changesUpload fileSpecial pagesPermanent linkPage informationWikidata itemCite this page \\n\\n\\n\\nIn other projects\\n\\n\\nWikimedia CommonsMediaWikiMeta-WikiWikispeciesWikibooksWikidataWikimaniaWikinewsWikiquoteWikisourceWikiversityWikivoyageWiktionary \\n\\n\\n\\nPrint/export\\n\\n\\nCreate a bookDownload as PDFPrintable version \\n\\n\\n\\nLanguages\\n\\n\\nالعربيةБългарскиBosanskiCatalàČeštinaDanskDeutschEestiΕλληνικάEspañolEsperantoEuskaraفارسیFrançaisGalego한국어HrvatskiBahasa IndonesiaItalianoעבריתქართულიLatviešuLietuviųMagyarBahasa MelayuNederlands日本語Norsk bokmålNorsk nynorskPolskiPortuguêsRomânăРусскийSimple EnglishSlovenčinaSlovenščinaСрпски / srpskiSrpskohrvatski / српскохрватскиSuomiSvenskaไทยTürkçeУкраїнськаTiếng Việt中文 \\n\\n\\n\\n\\n\\n\\n This page was last edited on 26 January 2020, at 14:07\\xa0(UTC).\\nText is available under the Creative Commons Attribution-ShareAlike License;\\nadditional terms may apply.  By using this site, you agree to the Terms of Use and Privacy Policy. Wikipedia® is a registered trademark of the Wikimedia Foundation, Inc., a non-profit organization.\\n\\n\\nPrivacy policy\\nAbout Wikipedia\\nDisclaimers\\nContact Wikipedia\\nDevelopers\\nStatistics\\nCookie statement\\nMobile view\\n\\n\\n\\n \\n\\n \\n\\n\\n\\n(RLQ=window.RLQ||[]).push(function(){mw.config.set({\"wgPageParseReport\":{\"limitreport\":{\"cputime\":\"0.596\",\"walltime\":\"2.116\",\"ppvisitednodes\":{\"value\":3667,\"limit\":1000000},\"ppgeneratednodes\":{\"value\":0,\"limit\":1500000},\"postexpandincludesize\":{\"value\":115253,\"limit\":2097152},\"templateargumentsize\":{\"value\":8471,\"limit\":2097152},\"expansiondepth\":{\"value\":18,\"limit\":40},\"expensivefunctioncount\":{\"value\":8,\"limit\":500},\"unstrip-depth\":{\"value\":0,\"limit\":20},\"unstrip-size\":{\"value\":526,\"limit\":5000000},\"entityaccesscount\":{\"value\":0,\"limit\":400},\"timingprofile\":[\"100.00% 1877.137      1 -total\",\" 56.61% 1062.598      1 Wikipedia:Main_Page/Tomorrow\",\" 26.10%  489.964      1 Wikipedia:Today\\'s_featured_list/February_3,_2020\",\" 25.65%  481.508      8 Template:Main_page_image\",\" 21.01%  394.293      1 Template:TFLcontent\",\" 14.87%  279.119      1 Template:Did_you_know/Queue/4\",\" 14.01%  263.046      1 Wikipedia:Today\\'s_featured_article/February_2,_2020\",\" 13.81%  259.208      2 Template:Wikipedia_languages\",\"  9.21%  172.902      1 Template:SS\",\"  8.45%  158.607      1 Template:Str_left\"]},\"scribunto\":{\"limitreport-timeusage\":{\"value\":\"0.101\",\"limit\":\"10.000\"},\"limitreport-memusage\":{\"value\":2111268,\"limit\":52428800}},\"cachereport\":{\"origin\":\"mw1326\",\"timestamp\":\"20200202044600\",\"ttl\":3600,\"transientcontent\":true}}});});\\n{\"@context\":\"https:\\\\/\\\\/schema.org\",\"@type\":\"Article\",\"name\":\"Main Page\",\"url\":\"https:\\\\/\\\\/en.wikipedia.org\\\\/wiki\\\\/Main_Page\",\"sameAs\":\"http:\\\\/\\\\/www.wikidata.org\\\\/entity\\\\/Q5296\",\"mainEntity\":\"http:\\\\/\\\\/www.wikidata.org\\\\/entity\\\\/Q5296\",\"author\":{\"@type\":\"Organization\",\"name\":\"Contributors to Wikimedia projects\"},\"publisher\":{\"@type\":\"Organization\",\"name\":\"Wikimedia Foundation, Inc.\",\"logo\":{\"@type\":\"ImageObject\",\"url\":\"https:\\\\/\\\\/www.wikimedia.org\\\\/static\\\\/images\\\\/wmf-hor-googpub.png\"}},\"datePublished\":\"2002-01-26T15:28:12Z\",\"dateModified\":\"2020-01-26T14:07:07Z\",\"image\":\"https:\\\\/\\\\/upload.wikimedia.org\\\\/wikipedia\\\\/commons\\\\/d\\\\/d1\\\\/Bay_bridge_half_dollar_commemorative_reverse.jpg\",\"headline\":\"main page of a Wikimedia project (common for Wikipedia, Wiktionary and other projects)\"}\\n(RLQ=window.RLQ||[]).push(function(){mw.config.set({\"wgBackendResponseTime\":207,\"wgHostname\":\"mw1261\"});});\\n\\n\\n'"
      ]
     },
     "execution_count": 37,
     "metadata": {},
     "output_type": "execute_result"
    }
   ],
   "source": [
    "html.get_text()  #all data in text formate get printed"
   ]
  },
  {
   "cell_type": "code",
   "execution_count": 44,
   "metadata": {},
   "outputs": [
    {
     "name": "stdout",
     "output_type": "stream",
     "text": [
      "None\n",
      "#mw-head\n",
      "#p-search\n",
      "/wiki/Wikipedia\n",
      "/wiki/Free_content\n",
      "/wiki/Encyclopedia\n",
      "/wiki/Wikipedia:Introduction\n",
      "/wiki/Special:Statistics\n",
      "/wiki/English_language\n",
      "/wiki/Portal:Arts\n",
      "/wiki/Portal:Biography\n",
      "/wiki/Portal:Geography\n",
      "/wiki/Portal:History\n",
      "/wiki/Portal:Mathematics\n",
      "/wiki/Portal:Science\n",
      "/wiki/Portal:Society\n",
      "/wiki/Portal:Technology\n",
      "/wiki/Wikipedia:Contents/Portals\n",
      "/wiki/File:Bay_bridge_half_dollar_commemorative_reverse.jpg\n",
      "/wiki/San_Francisco%E2%80%93Oakland_Bay_Bridge_half_dollar\n",
      "/wiki/Half_dollar_(United_States_coin)\n",
      "/wiki/United_States_Mint\n",
      "/wiki/United_States_commemorative_coins\n",
      "/wiki/San_Francisco%E2%80%93Oakland_Bay_Bridge\n",
      "/wiki/Grizzly_bear\n",
      "/wiki/San_Francisco_Ferry_Building\n",
      "/wiki/San_Francisco_Mint\n",
      "/wiki/San_Francisco%E2%80%93Oakland_Bay_Bridge_half_dollar\n",
      "/wiki/Prince_Romerson\n",
      "/wiki/Roman_temple_of_Bziza\n",
      "/wiki/Golden_swallow\n",
      "/wiki/Wikipedia:Today%27s_featured_article/February_2020\n",
      "https://lists.wikimedia.org/mailman/listinfo/daily-article-l\n",
      "/wiki/Wikipedia:Featured_articles\n",
      "/wiki/File:Syd%27s_cabin_(6928372379)_(square_crop).jpg\n",
      "/wiki/Royal_Air_Force\n",
      "/wiki/Syd%27s_coffee_stall\n",
      "/wiki/Grotta_del_Gelo\n",
      "/wiki/Mount_Etna\n",
      "/wiki/Pamela_E._Harris\n",
      "/wiki/Hispanic_and_Latino_Americans\n",
      "/wiki/Bleach:_Brave_Souls\n",
      "/wiki/Bleach_(manga)\n",
      "/wiki/Siege_of_Hull_(1642)\n",
      "/wiki/Charles_I_of_England\n",
      "/wiki/Diether_Dehm\n",
      "/wiki/Christian_Klar\n",
      "/wiki/Dedham_Covenant\n",
      "/wiki/Mary_Gordon_(prison_inspector)\n",
      "/wiki/Recidivism\n",
      "/wiki/Wikipedia:Recent_additions\n",
      "/wiki/Help:Your_first_article\n",
      "/wiki/Template_talk:Did_you_know\n",
      "/wiki/File:UK_location_in_the_EU_2016.svg\n",
      "/wiki/United_Kingdom\n",
      "/wiki/Brexit\n",
      "/wiki/European_Union\n",
      "/wiki/World_Health_Organization\n",
      "/wiki/2019%E2%80%9320_Wuhan_coronavirus_outbreak\n",
      "/wiki/Novel_coronavirus_(2019-nCoV)\n",
      "/wiki/Public_Health_Emergency_of_International_Concern\n",
      "/wiki/2020_Brazilian_floods_and_mudslides\n",
      "/wiki/Southeast_Region,_Brazil\n",
      "/wiki/Portal:Current_events\n",
      "/wiki/2019%E2%80%9320_Australian_bushfire_season\n",
      "/wiki/Impeachment_trial_of_Donald_Trump\n",
      "/wiki/Citizenship_Amendment_Act_protests\n",
      "/wiki/Deaths_in_2020\n",
      "/wiki/Anne_Cox_Chambers\n",
      "/wiki/Janez_Stanovnik\n",
      "/wiki/Homero_G%C3%B3mez_Gonz%C3%A1lez\n",
      "/wiki/L%C3%A9on_Mokuna\n",
      "/wiki/Paul_Farnes\n",
      "/wiki/Harriet_Frank_Jr.\n",
      "/wiki/Wikipedia:In_the_news/Candidates\n",
      "/wiki/February_2\n",
      "/wiki/Groundhog_Day\n",
      "/wiki/File:Seal_of_the_United_States_Export-Import_Bank.svg\n",
      "/wiki/1207\n",
      "/wiki/Terra_Mariana\n",
      "/wiki/Principality\n",
      "/wiki/Holy_Roman_Empire\n",
      "/wiki/1438\n",
      "/wiki/Transylvanian_peasant_revolt\n",
      "/wiki/Turda\n",
      "/wiki/1920\n",
      "/wiki/Treaty_of_Tartu_(Russian%E2%80%93Estonian)\n",
      "/wiki/Estonian_War_of_Independence\n",
      "/wiki/1934\n",
      "/wiki/Export%E2%80%93Import_Bank_of_the_United_States\n",
      "/wiki/Export_credit_agency\n",
      "/wiki/2007\n",
      "/wiki/Derby_di_Sicilia\n",
      "/wiki/Catania\n",
      "/wiki/Football_hooliganism\n",
      "/wiki/2007_Catania_football_violence\n",
      "/wiki/Filippo_Raciti\n",
      "/wiki/Alix_Le_Clerc\n",
      "/wiki/William_Stanley_(inventor)\n",
      "/wiki/Philip_Seymour_Hoffman\n",
      "/wiki/February_1\n",
      "/wiki/February_2\n",
      "/wiki/February_3\n",
      "/wiki/Wikipedia:Selected_anniversaries/February\n",
      "https://lists.wikimedia.org/mailman/listinfo/daily-article-l\n",
      "/wiki/List_of_historical_anniversaries\n",
      "/wiki/File:Charles_Maurice_de_Talleyrand-P%C3%A9rigord_-_Pierre-Paul_Prud%27hon.jpg\n",
      "/wiki/Charles_Maurice_de_Talleyrand-P%C3%A9rigord\n",
      "/wiki/Louis_XVI_of_France\n",
      "/wiki/Napoleon\n",
      "/wiki/Louis_XVIII_of_France\n",
      "/wiki/Louis_Philippe_I\n",
      "/wiki/French_Revolution\n",
      "/wiki/Pierre-Paul_Prud%27hon\n",
      "/wiki/Metropolitan_Museum_of_Art\n",
      "/wiki/Pierre-Paul_Prud%27hon\n",
      "/wiki/Template:POTD/2020-02-01\n",
      "/wiki/Template:POTD/2020-01-31\n",
      "/wiki/Template:POTD/2020-01-30\n",
      "/wiki/Wikipedia:Picture_of_the_day/Archive\n",
      "/wiki/Wikipedia:Featured_pictures\n",
      "/wiki/Wikipedia:Community_portal\n",
      "/wiki/Wikipedia:Help_desk\n",
      "/wiki/Wikipedia:Local_Embassy\n",
      "/wiki/Wikipedia:Reference_desk\n",
      "/wiki/Wikipedia:News\n",
      "/wiki/Wikipedia:Village_pump\n",
      "/wiki/Wikimedia_Foundation\n",
      "https://wikimediafoundation.org/our-work/wikimedia-projects/\n",
      "https://commons.wikimedia.org/wiki/\n",
      "https://commons.wikimedia.org/\n",
      "https://www.mediawiki.org/wiki/\n",
      "https://mediawiki.org/\n",
      "https://meta.wikimedia.org/wiki/\n",
      "https://meta.wikimedia.org/\n",
      "https://en.wikibooks.org/wiki/\n",
      "https://en.wikibooks.org/\n",
      "https://www.wikidata.org/wiki/\n",
      "https://www.wikidata.org/\n",
      "https://en.wikinews.org/wiki/\n",
      "https://en.wikinews.org/\n",
      "https://en.wikiquote.org/wiki/\n",
      "https://en.wikiquote.org/\n",
      "https://en.wikisource.org/wiki/\n",
      "https://en.wikisource.org/\n",
      "https://species.wikimedia.org/wiki/\n",
      "https://species.wikimedia.org/\n",
      "https://en.wikiversity.org/wiki/\n",
      "https://en.wikiversity.org/\n",
      "https://en.wikivoyage.org/wiki/\n",
      "https://en.wikivoyage.org/\n",
      "https://en.wiktionary.org/wiki/\n",
      "https://en.wiktionary.org/\n",
      "/wiki/English_language\n",
      "/wiki/Special:Statistics\n",
      "https://ar.wikipedia.org/wiki/\n",
      "https://de.wikipedia.org/wiki/\n",
      "https://es.wikipedia.org/wiki/\n",
      "https://fr.wikipedia.org/wiki/\n",
      "https://it.wikipedia.org/wiki/\n",
      "https://nl.wikipedia.org/wiki/\n",
      "https://ja.wikipedia.org/wiki/\n",
      "https://pl.wikipedia.org/wiki/\n",
      "https://pt.wikipedia.org/wiki/\n",
      "https://ru.wikipedia.org/wiki/\n",
      "https://sv.wikipedia.org/wiki/\n",
      "https://vi.wikipedia.org/wiki/\n",
      "https://zh.wikipedia.org/wiki/\n",
      "https://id.wikipedia.org/wiki/\n",
      "https://ms.wikipedia.org/wiki/\n",
      "https://bg.wikipedia.org/wiki/\n",
      "https://ca.wikipedia.org/wiki/\n",
      "https://cs.wikipedia.org/wiki/\n",
      "https://da.wikipedia.org/wiki/\n",
      "https://eo.wikipedia.org/wiki/\n",
      "https://eu.wikipedia.org/wiki/\n",
      "https://fa.wikipedia.org/wiki/\n",
      "https://he.wikipedia.org/wiki/\n",
      "https://ko.wikipedia.org/wiki/\n",
      "https://hu.wikipedia.org/wiki/\n",
      "https://no.wikipedia.org/wiki/\n",
      "https://ro.wikipedia.org/wiki/\n",
      "https://sr.wikipedia.org/wiki/\n",
      "https://sh.wikipedia.org/wiki/\n",
      "https://fi.wikipedia.org/wiki/\n",
      "https://tr.wikipedia.org/wiki/\n",
      "https://uk.wikipedia.org/wiki/\n",
      "https://bs.wikipedia.org/wiki/\n",
      "https://et.wikipedia.org/wiki/\n",
      "https://el.wikipedia.org/wiki/\n",
      "https://simple.wikipedia.org/wiki/\n",
      "https://gl.wikipedia.org/wiki/\n",
      "https://hr.wikipedia.org/wiki/\n",
      "https://lv.wikipedia.org/wiki/\n",
      "https://lt.wikipedia.org/wiki/\n",
      "https://ml.wikipedia.org/wiki/\n",
      "https://nn.wikipedia.org/wiki/\n",
      "https://sk.wikipedia.org/wiki/\n",
      "https://sl.wikipedia.org/wiki/\n",
      "https://th.wikipedia.org/wiki/\n",
      "https://meta.wikimedia.org/wiki/List_of_Wikipedias\n",
      "https://en.wikipedia.org/w/index.php?title=Main_Page&oldid=937673241\n",
      "/wiki/Special:MyTalk\n",
      "/wiki/Special:MyContributions\n",
      "/w/index.php?title=Special:CreateAccount&returnto=Main+Page\n",
      "/w/index.php?title=Special:UserLogin&returnto=Main+Page\n",
      "/wiki/Main_Page\n",
      "/wiki/Talk:Main_Page\n",
      "/wiki/Main_Page\n",
      "/w/index.php?title=Main_Page&action=edit\n",
      "/w/index.php?title=Main_Page&action=history\n",
      "/wiki/Main_Page\n",
      "/wiki/Main_Page\n",
      "/wiki/Wikipedia:Contents\n",
      "/wiki/Wikipedia:Featured_content\n",
      "/wiki/Portal:Current_events\n",
      "/wiki/Special:Random\n",
      "https://donate.wikimedia.org/wiki/Special:FundraiserRedirector?utm_source=donate&utm_medium=sidebar&utm_campaign=C13_en.wikipedia.org&uselang=en\n",
      "//shop.wikimedia.org\n",
      "/wiki/Help:Contents\n",
      "/wiki/Wikipedia:About\n",
      "/wiki/Wikipedia:Community_portal\n",
      "/wiki/Special:RecentChanges\n",
      "//en.wikipedia.org/wiki/Wikipedia:Contact_us\n",
      "/wiki/Special:WhatLinksHere/Main_Page\n",
      "/wiki/Special:RecentChangesLinked/Main_Page\n",
      "/wiki/Wikipedia:File_Upload_Wizard\n",
      "/wiki/Special:SpecialPages\n",
      "/w/index.php?title=Main_Page&oldid=937673241\n",
      "/w/index.php?title=Main_Page&action=info\n",
      "https://www.wikidata.org/wiki/Special:EntityPage/Q5296\n",
      "/w/index.php?title=Special:CiteThisPage&page=Main_Page&id=937673241\n",
      "https://commons.wikimedia.org/wiki/Main_Page\n",
      "https://www.mediawiki.org/wiki/MediaWiki\n",
      "https://meta.wikimedia.org/wiki/Main_Page\n",
      "https://species.wikimedia.org/wiki/Main_Page\n",
      "https://en.wikibooks.org/wiki/Main_Page\n",
      "https://www.wikidata.org/wiki/Wikidata:Main_Page\n",
      "https://wikimania.wikimedia.org/wiki/Wikimania\n",
      "https://en.wikinews.org/wiki/Main_Page\n",
      "https://en.wikiquote.org/wiki/Main_Page\n",
      "https://en.wikisource.org/wiki/Main_Page\n",
      "https://en.wikiversity.org/wiki/Wikiversity:Main_Page\n",
      "https://en.wikivoyage.org/wiki/Main_Page\n",
      "https://en.wiktionary.org/wiki/Wiktionary:Main_Page\n",
      "/w/index.php?title=Special:Book&bookcmd=book_creator&referer=Main+Page\n",
      "/w/index.php?title=Special:ElectronPdf&page=Main+Page&action=show-download-screen\n",
      "/w/index.php?title=Main_Page&printable=yes\n",
      "https://ar.wikipedia.org/wiki/\n",
      "https://bg.wikipedia.org/wiki/\n",
      "https://bs.wikipedia.org/wiki/\n",
      "https://ca.wikipedia.org/wiki/\n",
      "https://cs.wikipedia.org/wiki/\n",
      "https://da.wikipedia.org/wiki/\n",
      "https://de.wikipedia.org/wiki/\n",
      "https://et.wikipedia.org/wiki/\n",
      "https://el.wikipedia.org/wiki/\n",
      "https://es.wikipedia.org/wiki/\n",
      "https://eo.wikipedia.org/wiki/\n",
      "https://eu.wikipedia.org/wiki/\n",
      "https://fa.wikipedia.org/wiki/\n",
      "https://fr.wikipedia.org/wiki/\n",
      "https://gl.wikipedia.org/wiki/\n",
      "https://ko.wikipedia.org/wiki/\n",
      "https://hr.wikipedia.org/wiki/\n",
      "https://id.wikipedia.org/wiki/\n",
      "https://it.wikipedia.org/wiki/\n",
      "https://he.wikipedia.org/wiki/\n",
      "https://ka.wikipedia.org/wiki/\n",
      "https://lv.wikipedia.org/wiki/\n",
      "https://lt.wikipedia.org/wiki/\n",
      "https://hu.wikipedia.org/wiki/\n",
      "https://ms.wikipedia.org/wiki/\n",
      "https://nl.wikipedia.org/wiki/\n",
      "https://ja.wikipedia.org/wiki/\n",
      "https://no.wikipedia.org/wiki/\n",
      "https://nn.wikipedia.org/wiki/\n",
      "https://pl.wikipedia.org/wiki/\n",
      "https://pt.wikipedia.org/wiki/\n",
      "https://ro.wikipedia.org/wiki/\n",
      "https://ru.wikipedia.org/wiki/\n",
      "https://simple.wikipedia.org/wiki/\n",
      "https://sk.wikipedia.org/wiki/\n",
      "https://sl.wikipedia.org/wiki/\n",
      "https://sr.wikipedia.org/wiki/\n",
      "https://sh.wikipedia.org/wiki/\n",
      "https://fi.wikipedia.org/wiki/\n",
      "https://sv.wikipedia.org/wiki/\n",
      "https://th.wikipedia.org/wiki/\n",
      "https://tr.wikipedia.org/wiki/\n",
      "https://uk.wikipedia.org/wiki/\n",
      "https://vi.wikipedia.org/wiki/\n",
      "https://zh.wikipedia.org/wiki/\n",
      "//en.wikipedia.org/wiki/Wikipedia:Text_of_Creative_Commons_Attribution-ShareAlike_3.0_Unported_License\n",
      "//creativecommons.org/licenses/by-sa/3.0/\n",
      "//foundation.wikimedia.org/wiki/Terms_of_Use\n",
      "//foundation.wikimedia.org/wiki/Privacy_policy\n",
      "//www.wikimediafoundation.org/\n",
      "https://foundation.wikimedia.org/wiki/Privacy_policy\n",
      "/wiki/Wikipedia:About\n",
      "/wiki/Wikipedia:General_disclaimer\n",
      "//en.wikipedia.org/wiki/Wikipedia:Contact_us\n",
      "https://www.mediawiki.org/wiki/Special:MyLanguage/How_to_contribute\n",
      "https://stats.wikimedia.org/v2/#/en.wikipedia.org\n",
      "https://foundation.wikimedia.org/wiki/Cookie_statement\n",
      "//en.m.wikipedia.org/w/index.php?title=Main_Page&mobileaction=toggle_view_mobile\n",
      "https://wikimediafoundation.org/\n",
      "https://www.mediawiki.org/\n"
     ]
    }
   ],
   "source": [
    "links=html.find_all('a')\n",
    "for  link in links:\n",
    "    print(link.get('href'))\n",
    "    "
   ]
  },
  {
   "cell_type": "code",
   "execution_count": null,
   "metadata": {},
   "outputs": [],
   "source": []
  }
 ],
 "metadata": {
  "kernelspec": {
   "display_name": "Python 3",
   "language": "python",
   "name": "python3"
  },
  "language_info": {
   "codemirror_mode": {
    "name": "ipython",
    "version": 3
   },
   "file_extension": ".py",
   "mimetype": "text/x-python",
   "name": "python",
   "nbconvert_exporter": "python",
   "pygments_lexer": "ipython3",
   "version": "3.7.3"
  }
 },
 "nbformat": 4,
 "nbformat_minor": 2
}
