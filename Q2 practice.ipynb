{
 "cells": [
  {
   "cell_type": "markdown",
   "metadata": {},
   "source": [
    "# STRING IT'S METHODS & VARIABLE "
   ]
  },
  {
   "cell_type": "code",
   "execution_count": 10,
   "metadata": {},
   "outputs": [],
   "source": [
    "n='ppp'\n",
    "\n",
    "d = {\n",
    "    \"ll\":n,\n",
    "}"
   ]
  },
  {
   "cell_type": "code",
   "execution_count": 11,
   "metadata": {},
   "outputs": [
    {
     "data": {
      "text/plain": [
       "{'ll': 'ppp'}"
      ]
     },
     "execution_count": 11,
     "metadata": {},
     "output_type": "execute_result"
    }
   ],
   "source": [
    "d"
   ]
  },
  {
   "cell_type": "code",
   "execution_count": 12,
   "metadata": {},
   "outputs": [
    {
     "data": {
      "text/plain": [
       "dict_items([('ll', 'ppp')])"
      ]
     },
     "execution_count": 12,
     "metadata": {},
     "output_type": "execute_result"
    }
   ],
   "source": [
    "d.items()"
   ]
  },
  {
   "cell_type": "code",
   "execution_count": 13,
   "metadata": {},
   "outputs": [],
   "source": [
    "ls=[d]"
   ]
  },
  {
   "cell_type": "code",
   "execution_count": 14,
   "metadata": {},
   "outputs": [
    {
     "data": {
      "text/plain": [
       "[{'ll': 'ppp'}]"
      ]
     },
     "execution_count": 14,
     "metadata": {},
     "output_type": "execute_result"
    }
   ],
   "source": [
    "ls"
   ]
  },
  {
   "cell_type": "code",
   "execution_count": 15,
   "metadata": {},
   "outputs": [
    {
     "data": {
      "text/plain": [
       "'ppp'"
      ]
     },
     "execution_count": 15,
     "metadata": {},
     "output_type": "execute_result"
    }
   ],
   "source": [
    "ls[0]['ll']"
   ]
  },
  {
   "cell_type": "code",
   "execution_count": 22,
   "metadata": {},
   "outputs": [
    {
     "name": "stdout",
     "output_type": "stream",
     "text": [
      "hi how are you1\n"
     ]
    }
   ],
   "source": [
    "x= float(input('hi how are you'))"
   ]
  },
  {
   "cell_type": "code",
   "execution_count": 1,
   "metadata": {},
   "outputs": [
    {
     "data": {
      "text/plain": [
       "'abcd'"
      ]
     },
     "execution_count": 1,
     "metadata": {},
     "output_type": "execute_result"
    }
   ],
   "source": [
    "'abcd'.casefold()"
   ]
  },
  {
   "cell_type": "code",
   "execution_count": 2,
   "metadata": {},
   "outputs": [
    {
     "data": {
      "text/plain": [
       "'abc*'"
      ]
     },
     "execution_count": 2,
     "metadata": {},
     "output_type": "execute_result"
    }
   ],
   "source": [
    "'abc'.center(4,'*')"
   ]
  },
  {
   "cell_type": "code",
   "execution_count": 28,
   "metadata": {},
   "outputs": [
    {
     "data": {
      "text/plain": [
       "'Abcd'"
      ]
     },
     "execution_count": 28,
     "metadata": {},
     "output_type": "execute_result"
    }
   ],
   "source": [
    "\"ABCD\".title()"
   ]
  },
  {
   "cell_type": "code",
   "execution_count": 29,
   "metadata": {},
   "outputs": [
    {
     "data": {
      "text/plain": [
       "'Csdcedddcddcddcd $$$'"
      ]
     },
     "execution_count": 29,
     "metadata": {},
     "output_type": "execute_result"
    }
   ],
   "source": [
    "\"csdceDDDCddcddcd $$$\".title()"
   ]
  },
  {
   "cell_type": "code",
   "execution_count": 30,
   "metadata": {},
   "outputs": [
    {
     "data": {
      "text/plain": [
       "'abcdddd'"
      ]
     },
     "execution_count": 30,
     "metadata": {},
     "output_type": "execute_result"
    }
   ],
   "source": [
    "\"abcDDDd\".lower()"
   ]
  },
  {
   "cell_type": "code",
   "execution_count": 31,
   "metadata": {},
   "outputs": [
    {
     "data": {
      "text/plain": [
       "'$Abbd'"
      ]
     },
     "execution_count": 31,
     "metadata": {},
     "output_type": "execute_result"
    }
   ],
   "source": [
    "\"$abbd\".title()"
   ]
  },
  {
   "cell_type": "code",
   "execution_count": 32,
   "metadata": {},
   "outputs": [
    {
     "data": {
      "text/plain": [
       "'$  Sufuibfiubfuieg'"
      ]
     },
     "execution_count": 32,
     "metadata": {},
     "output_type": "execute_result"
    }
   ],
   "source": [
    "'$  sufuibfiubfuieg'.title()"
   ]
  },
  {
   "cell_type": "code",
   "execution_count": 33,
   "metadata": {},
   "outputs": [
    {
     "data": {
      "text/plain": [
       "'9364969!@##$$%%^^^^^%$$M'"
      ]
     },
     "execution_count": 33,
     "metadata": {},
     "output_type": "execute_result"
    }
   ],
   "source": [
    "'9364969!@##$$%%^^^^^%$$m'.title()"
   ]
  },
  {
   "cell_type": "code",
   "execution_count": 34,
   "metadata": {},
   "outputs": [
    {
     "data": {
      "text/plain": [
       "'9364969!@##$$%%^^^^^%$$M$$$$Eyg$$'"
      ]
     },
     "execution_count": 34,
     "metadata": {},
     "output_type": "execute_result"
    }
   ],
   "source": [
    "'9364969!@##$$%%^^^^^%$$m$$$$eyg$$'.title()"
   ]
  },
  {
   "cell_type": "code",
   "execution_count": 35,
   "metadata": {},
   "outputs": [
    {
     "data": {
      "text/plain": [
       "'9364969!@##$$%%^^^^^%$$M'"
      ]
     },
     "execution_count": 35,
     "metadata": {},
     "output_type": "execute_result"
    }
   ],
   "source": [
    "'9364969!@##$$%%^^^^^%$$m'.upper()"
   ]
  },
  {
   "cell_type": "code",
   "execution_count": 36,
   "metadata": {},
   "outputs": [
    {
     "data": {
      "text/plain": [
       "'9364969!@##$$%%^^^^^%$$m'"
      ]
     },
     "execution_count": 36,
     "metadata": {},
     "output_type": "execute_result"
    }
   ],
   "source": [
    "'9364969!@##$$%%^^^^^%$$m'.lower()"
   ]
  },
  {
   "cell_type": "code",
   "execution_count": 37,
   "metadata": {},
   "outputs": [
    {
     "data": {
      "text/plain": [
       "['9',\n",
       " '3',\n",
       " '6',\n",
       " '4',\n",
       " '9',\n",
       " '6',\n",
       " '9',\n",
       " '!',\n",
       " '@',\n",
       " '#',\n",
       " '#',\n",
       " '$',\n",
       " '$',\n",
       " '%',\n",
       " '%',\n",
       " '^',\n",
       " '^',\n",
       " '^',\n",
       " '^',\n",
       " '^',\n",
       " '%',\n",
       " '$',\n",
       " '$',\n",
       " 'm']"
      ]
     },
     "execution_count": 37,
     "metadata": {},
     "output_type": "execute_result"
    }
   ],
   "source": [
    "list('9364969!@##$$%%^^^^^%$$m')"
   ]
  },
  {
   "cell_type": "code",
   "execution_count": 38,
   "metadata": {},
   "outputs": [
    {
     "data": {
      "text/plain": [
       "['l', 'i', 's', 't', '(', ')']"
      ]
     },
     "execution_count": 38,
     "metadata": {},
     "output_type": "execute_result"
    }
   ],
   "source": [
    "ls=list('list()');ls"
   ]
  },
  {
   "cell_type": "code",
   "execution_count": 39,
   "metadata": {},
   "outputs": [
    {
     "data": {
      "text/plain": [
       "'taimoor Arif'"
      ]
     },
     "execution_count": 39,
     "metadata": {},
     "output_type": "execute_result"
    }
   ],
   "source": [
    "Mname = 'taimoor'\n",
    "fname = 'Arif'\n",
    "fu = Mname + ' ' + fname\n",
    "fu"
   ]
  },
  {
   "cell_type": "code",
   "execution_count": 40,
   "metadata": {},
   "outputs": [
    {
     "data": {
      "text/plain": [
       "'Hello, Taimoor Arif !'"
      ]
     },
     "execution_count": 40,
     "metadata": {},
     "output_type": "execute_result"
    }
   ],
   "source": [
    "\"Hello, \" + fu.title() + \" !\""
   ]
  },
  {
   "cell_type": "code",
   "execution_count": 41,
   "metadata": {},
   "outputs": [
    {
     "data": {
      "text/plain": [
       "'Hello:\\t Taimoor Arif'"
      ]
     },
     "execution_count": 41,
     "metadata": {},
     "output_type": "execute_result"
    }
   ],
   "source": [
    "\"Hello:\\t taimoor arif\".title()"
   ]
  },
  {
   "cell_type": "code",
   "execution_count": 42,
   "metadata": {},
   "outputs": [
    {
     "data": {
      "text/plain": [
       "'Tai-Moor'"
      ]
     },
     "execution_count": 42,
     "metadata": {},
     "output_type": "execute_result"
    }
   ],
   "source": [
    "'Tai-moor'.title()"
   ]
  },
  {
   "cell_type": "code",
   "execution_count": 43,
   "metadata": {},
   "outputs": [
    {
     "data": {
      "text/plain": [
       "'T@Im@@R Ar*F'"
      ]
     },
     "execution_count": 43,
     "metadata": {},
     "output_type": "execute_result"
    }
   ],
   "source": [
    "'T@im@@r Ar*f'.title()"
   ]
  },
  {
   "cell_type": "code",
   "execution_count": 44,
   "metadata": {},
   "outputs": [
    {
     "data": {
      "text/plain": [
       "'Hello : \\t Taimoor Arif'"
      ]
     },
     "execution_count": 44,
     "metadata": {},
     "output_type": "execute_result"
    }
   ],
   "source": [
    "\"Hello : \\t Taimoor Arif\""
   ]
  },
  {
   "cell_type": "code",
   "execution_count": 45,
   "metadata": {},
   "outputs": [
    {
     "name": "stdout",
     "output_type": "stream",
     "text": [
      "Hello : \t Taimoor Arif\n"
     ]
    }
   ],
   "source": [
    "print(\"Hello : \\t Taimoor Arif\")"
   ]
  },
  {
   "cell_type": "code",
   "execution_count": 46,
   "metadata": {},
   "outputs": [
    {
     "name": "stdout",
     "output_type": "stream",
     "text": [
      "Hello :\n",
      "\tyou are good person \n",
      "\t:)\n"
     ]
    }
   ],
   "source": [
    "print(\"Hello :\\n\\tyou are good person \\n\\t:)\")"
   ]
  },
  {
   "cell_type": "code",
   "execution_count": 47,
   "metadata": {},
   "outputs": [
    {
     "name": "stdout",
     "output_type": "stream",
     "text": [
      "Hellow:\n",
      "        you are goof person\n",
      "        :)\n"
     ]
    }
   ],
   "source": [
    "print(\"\"\"Hellow:\n",
    "        you are goof person\n",
    "        :)\"\"\")"
   ]
  },
  {
   "cell_type": "code",
   "execution_count": 48,
   "metadata": {},
   "outputs": [
    {
     "name": "stdout",
     "output_type": "stream",
     "text": [
      "Hellow :\n",
      "     you are goof person\n",
      "    :)\n"
     ]
    }
   ],
   "source": [
    "print(\"\"\"Hellow :\n",
    "     you are goof person\n",
    "    :)\"\"\")"
   ]
  },
  {
   "cell_type": "code",
   "execution_count": 49,
   "metadata": {},
   "outputs": [
    {
     "name": "stdout",
     "output_type": "stream",
     "text": [
      "\n",
      "Hello:\n",
      "you are goof person\n",
      ":)\n",
      "\n"
     ]
    }
   ],
   "source": [
    "print(\"\"\"\n",
    "Hello:\n",
    "you are goof person\n",
    ":)\n",
    "\"\"\")"
   ]
  },
  {
   "cell_type": "code",
   "execution_count": 50,
   "metadata": {},
   "outputs": [
    {
     "name": "stdout",
     "output_type": "stream",
     "text": [
      "I am Taimoor:\n",
      "\tpython\n",
      "\tdatascience \n"
     ]
    }
   ],
   "source": [
    "print(\"I am Taimoor:\\n\\tpython\\n\\tdatascience \")"
   ]
  },
  {
   "cell_type": "code",
   "execution_count": 51,
   "metadata": {},
   "outputs": [
    {
     "name": "stdout",
     "output_type": "stream",
     "text": [
      "Taimoor\n",
      "Arif\n"
     ]
    }
   ],
   "source": [
    "name = 'taimoor\\narif'\n",
    "name=name.title()\n",
    "print(name)"
   ]
  },
  {
   "cell_type": "code",
   "execution_count": 52,
   "metadata": {},
   "outputs": [],
   "source": [
    "name = 'taimoor\\narif'\n"
   ]
  },
  {
   "cell_type": "code",
   "execution_count": 53,
   "metadata": {},
   "outputs": [
    {
     "data": {
      "text/plain": [
       "'taimoor\\narif'"
      ]
     },
     "execution_count": 53,
     "metadata": {},
     "output_type": "execute_result"
    }
   ],
   "source": [
    "'taimoor\\narif'\n"
   ]
  },
  {
   "cell_type": "code",
   "execution_count": 54,
   "metadata": {},
   "outputs": [
    {
     "name": "stdout",
     "output_type": "stream",
     "text": [
      "Taimoor\n",
      "Arif\n"
     ]
    }
   ],
   "source": [
    "name = 'taimoor\\narif'\n",
    "print(name.title())"
   ]
  },
  {
   "cell_type": "code",
   "execution_count": 55,
   "metadata": {},
   "outputs": [],
   "source": [
    "name = 'taimoor\\narif'\n"
   ]
  },
  {
   "cell_type": "code",
   "execution_count": 56,
   "metadata": {},
   "outputs": [
    {
     "data": {
      "text/plain": [
       "'taimoor arif '"
      ]
     },
     "execution_count": 56,
     "metadata": {},
     "output_type": "execute_result"
    }
   ],
   "source": [
    "got_name=' taimoor arif '\n",
    "lstriped_name = got_name.lstrip()\n",
    "lstriped_name\n",
    "\n"
   ]
  },
  {
   "cell_type": "code",
   "execution_count": 57,
   "metadata": {},
   "outputs": [
    {
     "data": {
      "text/plain": [
       "' taimoor arif '"
      ]
     },
     "execution_count": 57,
     "metadata": {},
     "output_type": "execute_result"
    }
   ],
   "source": [
    "got_name"
   ]
  },
  {
   "cell_type": "code",
   "execution_count": 58,
   "metadata": {},
   "outputs": [
    {
     "data": {
      "text/plain": [
       "'Taimoor Arif '"
      ]
     },
     "execution_count": 58,
     "metadata": {},
     "output_type": "execute_result"
    }
   ],
   "source": [
    "' taimoor arif '.title().lstrip()"
   ]
  },
  {
   "cell_type": "code",
   "execution_count": 59,
   "metadata": {},
   "outputs": [
    {
     "name": "stdout",
     "output_type": "stream",
     "text": [
      "Taimoor Arif \n"
     ]
    }
   ],
   "source": [
    "print(got_name.title().lstrip())"
   ]
  },
  {
   "cell_type": "code",
   "execution_count": 60,
   "metadata": {},
   "outputs": [],
   "source": [
    "got_namec = got_name.lstrip().title()"
   ]
  },
  {
   "cell_type": "code",
   "execution_count": 61,
   "metadata": {},
   "outputs": [
    {
     "data": {
      "text/plain": [
       "'Taimoor Arif '"
      ]
     },
     "execution_count": 61,
     "metadata": {},
     "output_type": "execute_result"
    }
   ],
   "source": [
    "got_namec\n"
   ]
  },
  {
   "cell_type": "code",
   "execution_count": 62,
   "metadata": {},
   "outputs": [
    {
     "data": {
      "text/plain": [
       "'taimoor\\n\\n\\n\\narif'"
      ]
     },
     "execution_count": 62,
     "metadata": {},
     "output_type": "execute_result"
    }
   ],
   "source": [
    "'taimoor\\n\\n\\n\\n\\n$arif'.replace('\\n$','')"
   ]
  },
  {
   "cell_type": "code",
   "execution_count": 63,
   "metadata": {},
   "outputs": [
    {
     "data": {
      "text/plain": [
       "'taimoor$arif'"
      ]
     },
     "execution_count": 63,
     "metadata": {},
     "output_type": "execute_result"
    }
   ],
   "source": [
    "raw_name = 'taimoor\\n\\n\\n\\n\\n$arif'\n",
    "raw_name.replace('\\n','')"
   ]
  },
  {
   "cell_type": "code",
   "execution_count": 64,
   "metadata": {},
   "outputs": [
    {
     "data": {
      "text/plain": [
       "'taimoor0000000000000000000000000000000000000000000000000000000000000000000000000$arif'"
      ]
     },
     "execution_count": 64,
     "metadata": {},
     "output_type": "execute_result"
    }
   ],
   "source": [
    "'taimoor\\n\\n\\n\\n\\n\\n\\n\\n\\n\\n\\n\\n\\n\\n\\n\\n\\n\\n\\n\\n\\n\\n\\n\\n\\n\\n\\n\\n\\n\\n\\n\\n\\n\\n\\n\\n\\n\\n\\n\\n\\n\\n\\n\\n\\n\\n\\n\\n\\n\\n\\n\\n\\n\\n\\n\\n\\n\\n\\n\\n\\n\\n\\n\\n\\n\\n\\n\\n\\n\\n\\n\\n\\n$arif'.replace('\\n','0',1000000000000000000)"
   ]
  },
  {
   "cell_type": "code",
   "execution_count": 65,
   "metadata": {},
   "outputs": [
    {
     "data": {
      "text/plain": [
       "'taimoor$arif'"
      ]
     },
     "execution_count": 65,
     "metadata": {},
     "output_type": "execute_result"
    }
   ],
   "source": [
    "'taimoor\\n\\n\\n\\n\\n\\n\\n\\n\\n\\n$arif'.replace('\\n','',1000000000000000000)"
   ]
  },
  {
   "cell_type": "code",
   "execution_count": 66,
   "metadata": {},
   "outputs": [
    {
     "data": {
      "text/plain": [
       "16"
      ]
     },
     "execution_count": 66,
     "metadata": {},
     "output_type": "execute_result"
    }
   ],
   "source": [
    "'taimoor\\n\\n\\n\\n\\n\\n\\n\\n\\n\\n$arif'.find('\\n',16)"
   ]
  },
  {
   "cell_type": "code",
   "execution_count": 67,
   "metadata": {},
   "outputs": [
    {
     "data": {
      "text/plain": [
       "'\\n\\n\\n\\n\\n\\n\\n\\n\\n\\n'"
      ]
     },
     "execution_count": 67,
     "metadata": {},
     "output_type": "execute_result"
    }
   ],
   "source": [
    "'taimoor\\n\\n\\n\\n\\n\\n\\n\\n\\n\\n$arif'[7:17]"
   ]
  },
  {
   "cell_type": "code",
   "execution_count": 68,
   "metadata": {},
   "outputs": [
    {
     "ename": "NameError",
     "evalue": "name 'upwork' is not defined",
     "output_type": "error",
     "traceback": [
      "\u001b[1;31m---------------------------------------------------------------------------\u001b[0m",
      "\u001b[1;31mNameError\u001b[0m                                 Traceback (most recent call last)",
      "\u001b[1;32m<ipython-input-68-3f80dc195198>\u001b[0m in \u001b[0;36m<module>\u001b[1;34m\u001b[0m\n\u001b[0;32m      1\u001b[0m \u001b[0mupwork_name\u001b[0m \u001b[1;33m=\u001b[0m \u001b[1;34m'taimoor'\u001b[0m\u001b[1;33m\u001b[0m\u001b[1;33m\u001b[0m\u001b[0m\n\u001b[1;32m----> 2\u001b[1;33m \u001b[0mupwork\u001b[0m\u001b[1;33m\u001b[0m\u001b[1;33m\u001b[0m\u001b[0m\n\u001b[0m",
      "\u001b[1;31mNameError\u001b[0m: name 'upwork' is not defined"
     ]
    }
   ],
   "source": [
    "upwork_name = 'taimoor'\n",
    "upwork"
   ]
  },
  {
   "cell_type": "code",
   "execution_count": null,
   "metadata": {},
   "outputs": [],
   "source": [
    "pre=len('taimoor\\n\\n\\n\\n\\n\\n\\n\\n\\n\\n$arif')\n",
    "aft=len('taimoor\\n\\n\\n\\n\\n\\n\\n\\n\\n\\n$arif'.replace('\\n',''))\n",
    "print(pre,aft,pre-aft,sep='\\n')"
   ]
  },
  {
   "cell_type": "code",
   "execution_count": null,
   "metadata": {},
   "outputs": [],
   "source": [
    "\n",
    "def fun(string,what):\n",
    "    count=0\n",
    "    i=0\n",
    "    position=None\n",
    "    while position !=-1:\n",
    "        position=string.find(what,i)\n",
    "        i=position+len(what)\n",
    "        if position !=-1:\n",
    "            count+=1\n",
    "        else:\n",
    "            return count\n",
    "        \n"
   ]
  },
  {
   "cell_type": "code",
   "execution_count": null,
   "metadata": {},
   "outputs": [],
   "source": [
    "#Name Error\n",
    "#Syntax Error\n",
    "#UnboundLocalError                         "
   ]
  },
  {
   "cell_type": "code",
   "execution_count": 69,
   "metadata": {},
   "outputs": [
    {
     "ename": "NameError",
     "evalue": "name 'fun' is not defined",
     "output_type": "error",
     "traceback": [
      "\u001b[1;31m---------------------------------------------------------------------------\u001b[0m",
      "\u001b[1;31mNameError\u001b[0m                                 Traceback (most recent call last)",
      "\u001b[1;32m<ipython-input-69-7825e15a3df1>\u001b[0m in \u001b[0;36m<module>\u001b[1;34m\u001b[0m\n\u001b[1;32m----> 1\u001b[1;33m \u001b[0mfun\u001b[0m\u001b[1;33m(\u001b[0m\u001b[0mstring\u001b[0m\u001b[1;33m=\u001b[0m\u001b[1;34m'i love pakistan pakistan is my soule and pakistani is my love and i am pakistani'\u001b[0m\u001b[1;33m,\u001b[0m\u001b[0mwhat\u001b[0m\u001b[1;33m=\u001b[0m\u001b[1;34m'a'\u001b[0m\u001b[1;33m)\u001b[0m\u001b[1;33m\u001b[0m\u001b[1;33m\u001b[0m\u001b[0m\n\u001b[0m",
      "\u001b[1;31mNameError\u001b[0m: name 'fun' is not defined"
     ]
    }
   ],
   "source": [
    "fun(string='i love pakistan pakistan is my soule and pakistani is my love and i am pakistani',what='a')"
   ]
  },
  {
   "cell_type": "code",
   "execution_count": null,
   "metadata": {},
   "outputs": [],
   "source": [
    "[0]*3"
   ]
  },
  {
   "cell_type": "code",
   "execution_count": null,
   "metadata": {},
   "outputs": [],
   "source": [
    "[0]+[1]"
   ]
  },
  {
   "cell_type": "code",
   "execution_count": null,
   "metadata": {},
   "outputs": [],
   "source": [
    "sum([1,2,3])"
   ]
  },
  {
   "cell_type": "code",
   "execution_count": null,
   "metadata": {},
   "outputs": [],
   "source": [
    "di={\n",
    "    'chahu':{'age':144},\n",
    "    'nano':{'age':111},\n",
    "    'phupo':{'age':171},\n",
    "    'khala':{'age':132},\n",
    "    'dado':{'age':55}\n",
    "}\n",
    "\n",
    "for x in di:\n",
    "   print(di[x]['age'])"
   ]
  },
  {
   "cell_type": "code",
   "execution_count": null,
   "metadata": {},
   "outputs": [],
   "source": [
    "# min,max,sorted all such function \n",
    "#consider first arugment list and perform for loop on it and if we give second argument then it means \n",
    "# perform some tranformation in side for loop and append result to a list [] and find max min sorted from that \n",
    "#in below example \n",
    "\n",
    "#['chahu','nano','phupo','khala','dado'] are the keys\n",
    "#on these keys for loop was performed  by max(),min(),sorted() function depend upon which one you used\n",
    "#that for loop store value in some variable you can name it just like we do in for loop --> for xxx in ['chahu',phupo,...]\n",
    "#so we name it k down below or xxx in above line \n",
    "#we can only  name it in second argument and it is positonal argument menas you have to use varibale name key=  2argument\n",
    "#in that second arguemnt we can onnly give function \n",
    "#so we pass for loop  value storer  which is k or xxx into function\n",
    "#then function try to reach into depth of di and get age:vale\n",
    "#then those values get compare to each other and\n",
    "#max return key that this key have max value or min value etc "
   ]
  },
  {
   "cell_type": "code",
   "execution_count": null,
   "metadata": {},
   "outputs": [],
   "source": [
    "min(['chahu','nano','phupo','khala','dado'], key=lambda k: di[k]['age'])"
   ]
  },
  {
   "cell_type": "code",
   "execution_count": null,
   "metadata": {},
   "outputs": [],
   "source": [
    "{'age':1}['age']"
   ]
  },
  {
   "cell_type": "code",
   "execution_count": null,
   "metadata": {},
   "outputs": [],
   "source": [
    "for x in di:\n",
    "    print(di[x]['age'])"
   ]
  },
  {
   "cell_type": "code",
   "execution_count": null,
   "metadata": {},
   "outputs": [],
   "source": [
    "min(di,key= lambda x: di[x]['age'])"
   ]
  },
  {
   "cell_type": "raw",
   "metadata": {},
   "source": [
    "(),**,*,/,+,-\n",
    "\n"
   ]
  },
  {
   "cell_type": "code",
   "execution_count": 70,
   "metadata": {},
   "outputs": [
    {
     "name": "stdout",
     "output_type": "stream",
     "text": [
      "m age is 13\n"
     ]
    }
   ],
   "source": [
    "age=13\n",
    "message = 'm age is ' + str(age)\n",
    "print(message)\n",
    "# is th econcatination sign that confuse python wether to use integer as integer or as string because before + sign we have \n",
    "#string  and we cannot add a integer to string\n",
    "#banana cannot be added to banana +mobile they have nothing in comman\n",
    "#to use + operator left and righ operant must be no very much different\n",
    "\n",
    "#but float and integer can be use to gether \n",
    "#but concating string + with intger not allowed "
   ]
  },
  {
   "cell_type": "code",
   "execution_count": 71,
   "metadata": {},
   "outputs": [],
   "source": [
    "#Name Error\n",
    "#Syntax Error\n",
    "#UnboundLocalError                         \n",
    "#Type Error"
   ]
  },
  {
   "cell_type": "code",
   "execution_count": 72,
   "metadata": {},
   "outputs": [
    {
     "data": {
      "text/plain": [
       "('m age is ', 13)"
      ]
     },
     "execution_count": 72,
     "metadata": {},
     "output_type": "execute_result"
    }
   ],
   "source": [
    "message = 'm age is ',age\n",
    "message"
   ]
  },
  {
   "cell_type": "code",
   "execution_count": 73,
   "metadata": {},
   "outputs": [
    {
     "data": {
      "text/plain": [
       "('mm', 13)"
      ]
     },
     "execution_count": 73,
     "metadata": {},
     "output_type": "execute_result"
    }
   ],
   "source": [
    "'mm',13\n",
    "#just my replacing + with--> , <--- it converted them in to tuple elements"
   ]
  },
  {
   "cell_type": "code",
   "execution_count": 74,
   "metadata": {},
   "outputs": [
    {
     "data": {
      "text/plain": [
       "0.2"
      ]
     },
     "execution_count": 74,
     "metadata": {},
     "output_type": "execute_result"
    }
   ],
   "source": [
    "1/5\n",
    "#integer divison gave float"
   ]
  },
  {
   "cell_type": "code",
   "execution_count": 75,
   "metadata": {},
   "outputs": [
    {
     "data": {
      "text/plain": [
       "0"
      ]
     },
     "execution_count": 75,
     "metadata": {},
     "output_type": "execute_result"
    }
   ],
   "source": [
    "1//5\n",
    "#no we got integer only"
   ]
  },
  {
   "cell_type": "code",
   "execution_count": 3,
   "metadata": {},
   "outputs": [
    {
     "data": {
      "text/plain": [
       "'2w'"
      ]
     },
     "execution_count": 3,
     "metadata": {},
     "output_type": "execute_result"
    }
   ],
   "source": [
    "y = str(2) + \"w\"\n",
    "y"
   ]
  },
  {
   "cell_type": "code",
   "execution_count": 76,
   "metadata": {},
   "outputs": [
    {
     "ename": "ModuleNotFoundError",
     "evalue": "No module named 'zen'",
     "output_type": "error",
     "traceback": [
      "\u001b[1;31m---------------------------------------------------------------------------\u001b[0m",
      "\u001b[1;31mModuleNotFoundError\u001b[0m                       Traceback (most recent call last)",
      "\u001b[1;32m<ipython-input-76-0d9a6ec758a6>\u001b[0m in \u001b[0;36m<module>\u001b[1;34m\u001b[0m\n\u001b[1;32m----> 1\u001b[1;33m \u001b[1;32mimport\u001b[0m \u001b[0mzen\u001b[0m\u001b[1;33m\u001b[0m\u001b[1;33m\u001b[0m\u001b[0m\n\u001b[0m",
      "\u001b[1;31mModuleNotFoundError\u001b[0m: No module named 'zen'"
     ]
    }
   ],
   "source": [
    "import zen"
   ]
  },
  {
   "cell_type": "markdown",
   "metadata": {},
   "source": [
    "# LIST "
   ]
  },
  {
   "cell_type": "code",
   "execution_count": null,
   "metadata": {},
   "outputs": [],
   "source": [
    "lsa=['asalmu','alikum','wa','rahmatul','hi','wabarqatu','hu','bismlla','irakh','ma','nira','him']\n",
    "lse=['have','blessing','upon','you','all']\n",
    "ls=[1,2,3,4,5,6,7,8,9,10]"
   ]
  },
  {
   "cell_type": "code",
   "execution_count": 4,
   "metadata": {},
   "outputs": [
    {
     "name": "stdout",
     "output_type": "stream",
     "text": [
      "mammal\n"
     ]
    }
   ],
   "source": [
    "animal='cat'\n",
    "if animal in[\"dog\", \"cat\", \"mouse\"]:\n",
    "  print(\"mammal\")"
   ]
  },
  {
   "cell_type": "code",
   "execution_count": 7,
   "metadata": {},
   "outputs": [
    {
     "data": {
      "text/plain": [
       "False"
      ]
     },
     "execution_count": 7,
     "metadata": {},
     "output_type": "execute_result"
    }
   ],
   "source": [
    "[1,2] == (1,2)"
   ]
  },
  {
   "cell_type": "code",
   "execution_count": 8,
   "metadata": {},
   "outputs": [
    {
     "data": {
      "text/plain": [
       "True"
      ]
     },
     "execution_count": 8,
     "metadata": {},
     "output_type": "execute_result"
    }
   ],
   "source": [
    "[1,2][0] == (1,2)[0]"
   ]
  },
  {
   "cell_type": "code",
   "execution_count": 9,
   "metadata": {},
   "outputs": [
    {
     "data": {
      "text/plain": [
       "False"
      ]
     },
     "execution_count": 9,
     "metadata": {},
     "output_type": "execute_result"
    }
   ],
   "source": [
    "[1,2] in (1,2)"
   ]
  },
  {
   "cell_type": "code",
   "execution_count": 11,
   "metadata": {},
   "outputs": [
    {
     "data": {
      "text/plain": [
       "True"
      ]
     },
     "execution_count": 11,
     "metadata": {},
     "output_type": "execute_result"
    }
   ],
   "source": [
    "[1,2][0] in (1,2)"
   ]
  },
  {
   "cell_type": "code",
   "execution_count": 13,
   "metadata": {},
   "outputs": [
    {
     "data": {
      "text/plain": [
       "True"
      ]
     },
     "execution_count": 13,
     "metadata": {},
     "output_type": "execute_result"
    }
   ],
   "source": [
    "[1,2][0] in (1,2)"
   ]
  },
  {
   "cell_type": "code",
   "execution_count": 3,
   "metadata": {},
   "outputs": [
    {
     "data": {
      "text/plain": [
       "[1, 2, 1, 2]"
      ]
     },
     "execution_count": 3,
     "metadata": {},
     "output_type": "execute_result"
    }
   ],
   "source": [
    "[1,2]+[1,2]"
   ]
  },
  {
   "cell_type": "code",
   "execution_count": 4,
   "metadata": {},
   "outputs": [
    {
     "data": {
      "text/plain": [
       "True"
      ]
     },
     "execution_count": 4,
     "metadata": {},
     "output_type": "execute_result"
    }
   ],
   "source": [
    "[1,2] == [1,2]"
   ]
  },
  {
   "cell_type": "code",
   "execution_count": null,
   "metadata": {},
   "outputs": [],
   "source": [
    "lsa[0]\n",
    "lsa[-1]\n",
    "\n",
    "lsa[-1:-5:-2]\n",
    "ls[-1::1]"
   ]
  },
  {
   "cell_type": "code",
   "execution_count": null,
   "metadata": {},
   "outputs": [],
   "source": [
    "ls[-10000::1]"
   ]
  },
  {
   "cell_type": "code",
   "execution_count": null,
   "metadata": {},
   "outputs": [],
   "source": [
    "ls[1:1]\n",
    "#it did not gave error it gave emptylis which is also a some kind of limitation"
   ]
  },
  {
   "cell_type": "code",
   "execution_count": null,
   "metadata": {},
   "outputs": [],
   "source": [
    "ls[1:-1]"
   ]
  },
  {
   "cell_type": "code",
   "execution_count": null,
   "metadata": {},
   "outputs": [],
   "source": [
    "ls[1:-1:1]  #it take both + and - index and in last take direction and next step"
   ]
  },
  {
   "cell_type": "code",
   "execution_count": null,
   "metadata": {},
   "outputs": [],
   "source": [
    "ls[-9:8:2] #it take both - and + index and in last take direction and next step"
   ]
  },
  {
   "cell_type": "code",
   "execution_count": null,
   "metadata": {},
   "outputs": [],
   "source": [
    "ls[-2:2:1] #it gave empty  to understand first convert all negative index to positive corrosponding index\n",
    "# [8:2:1] #so  now we have equlant positive  it is saying from  8 go to 2 index and use +1 step which is not\n",
    "#possible to do because \n",
    "# we are saving it to move in reverse  but not using reverse gare instead we are using 1st positive gear"
   ]
  },
  {
   "cell_type": "code",
   "execution_count": null,
   "metadata": {},
   "outputs": [],
   "source": [
    "ls[-2:2:-1]  #because  now we are asking to go in reverse direction and we at the end did provided reverse direction"
   ]
  },
  {
   "cell_type": "code",
   "execution_count": null,
   "metadata": {},
   "outputs": [],
   "source": [
    "#think of list as stairs\n",
    "i=[0,1,2,3,4,5,6,7,8,9,10]\n",
    "\n",
    "for x in i[::-1]:\n",
    "    print('    '*(x),x)"
   ]
  },
  {
   "cell_type": "code",
   "execution_count": 77,
   "metadata": {},
   "outputs": [
    {
     "ename": "NameError",
     "evalue": "name 'i' is not defined",
     "output_type": "error",
     "traceback": [
      "\u001b[1;31m---------------------------------------------------------------------------\u001b[0m",
      "\u001b[1;31mNameError\u001b[0m                                 Traceback (most recent call last)",
      "\u001b[1;32m<ipython-input-77-bda83809f632>\u001b[0m in \u001b[0;36m<module>\u001b[1;34m\u001b[0m\n\u001b[1;32m----> 1\u001b[1;33m \u001b[0mi\u001b[0m\u001b[1;33m[\u001b[0m\u001b[1;36m0\u001b[0m\u001b[1;33m:\u001b[0m\u001b[1;36m5\u001b[0m\u001b[1;33m:\u001b[0m\u001b[1;33m-\u001b[0m\u001b[1;36m1\u001b[0m\u001b[1;33m]\u001b[0m\u001b[1;33m\u001b[0m\u001b[1;33m\u001b[0m\u001b[0m\n\u001b[0m\u001b[0;32m      2\u001b[0m \u001b[1;31m#here we are asking to move from smaller height :to higher hight :but u must moving down\u001b[0m\u001b[1;33m\u001b[0m\u001b[1;33m\u001b[0m\u001b[1;33m\u001b[0m\u001b[0m\n\u001b[0;32m      3\u001b[0m \u001b[1;31m#this will give us empty\u001b[0m\u001b[1;33m\u001b[0m\u001b[1;33m\u001b[0m\u001b[1;33m\u001b[0m\u001b[0m\n",
      "\u001b[1;31mNameError\u001b[0m: name 'i' is not defined"
     ]
    }
   ],
   "source": [
    "i[0:5:-1]  \n",
    "#here we are asking to move from smaller height :to higher hight :but u must moving down \n",
    "#this will give us empty"
   ]
  },
  {
   "cell_type": "code",
   "execution_count": null,
   "metadata": {},
   "outputs": [],
   "source": [
    "i[5:0:-1]  #now we are saying move from 5th stair :  to 0th (ground) : but you must be moving down \n",
    "#this is valied so we got list"
   ]
  },
  {
   "cell_type": "code",
   "execution_count": null,
   "metadata": {},
   "outputs": [],
   "source": [
    "i[2:9]"
   ]
  },
  {
   "cell_type": "code",
   "execution_count": null,
   "metadata": {},
   "outputs": [],
   "source": [
    "family=['bati','wife','ami','dado','perdadi','lakardadi','kardadi']"
   ]
  },
  {
   "cell_type": "code",
   "execution_count": null,
   "metadata": {
    "scrolled": true
   },
   "outputs": [],
   "source": [
    "for x in range(6,-1,-1):\n",
    "    print(' '*x,x,family[x])"
   ]
  },
  {
   "cell_type": "code",
   "execution_count": null,
   "metadata": {},
   "outputs": [],
   "source": [
    "family[0:6:2]"
   ]
  },
  {
   "cell_type": "code",
   "execution_count": null,
   "metadata": {},
   "outputs": [],
   "source": [
    "family[2:2] \n",
    "#think of it as you were standing at to so u bought 2nd postion value \n",
    "#but then you ended at 2nd so you don't talk about where you end up\n",
    "#so thats why it is empty"
   ]
  },
  {
   "cell_type": "code",
   "execution_count": null,
   "metadata": {},
   "outputs": [],
   "source": [
    "family[6:1:-2]\n",
    "#family['where you are standing floor.no':'where you end up you(zip it)':'direction and jump']\n",
    "#at 6 u were standing  : at 1 u endup : "
   ]
  },
  {
   "cell_type": "code",
   "execution_count": null,
   "metadata": {},
   "outputs": [],
   "source": [
    "family[4:1:-2]"
   ]
  },
  {
   "cell_type": "code",
   "execution_count": null,
   "metadata": {},
   "outputs": [],
   "source": [
    "\n",
    "family[6::-3]"
   ]
  },
  {
   "cell_type": "code",
   "execution_count": null,
   "metadata": {},
   "outputs": [],
   "source": [
    "print('2nd floor')\n",
    "print('_'*30)\n",
    "for x in range(6,-1,-1):\n",
    "    print(' '*x,x,family[x],-(7-x))"
   ]
  },
  {
   "cell_type": "code",
   "execution_count": null,
   "metadata": {},
   "outputs": [],
   "source": [
    "family[-1:2:-1]  #now in reality it is asking us to go down \n",
    "#but he used -1 which is reference to 2nd floor and \n",
    "#end stair reference to ground flower in + "
   ]
  },
  {
   "cell_type": "code",
   "execution_count": null,
   "metadata": {},
   "outputs": [],
   "source": [
    "cars=['honad','suzki','BMW','mercede','yamah','honad','suzki','BMW','mercede','yamah','honad','suzki','BMW','mercede','yamah']"
   ]
  },
  {
   "cell_type": "code",
   "execution_count": null,
   "metadata": {},
   "outputs": [],
   "source": [
    "cars[5:-12:-1] \n",
    "cars[5:-8:-1] \n",
    "len(cars)-8  \n",
    "#take out negative index from len of list this will give you index in positive then you can see \n",
    "#which direction to go \n",
    "# so we got 5:7 (len-8) -->so this mean we should move up frpm 5 to 7 stair and only talk about 5,6\n",
    "#but direction was -1 so it will give []"
   ]
  },
  {
   "cell_type": "code",
   "execution_count": null,
   "metadata": {},
   "outputs": [],
   "source": [
    "print('2nd floor')\n",
    "print('_'*30)\n",
    "for x in range(len(cars)-1,-1,-1):\n",
    "    print(' '*x,x,cars[x],-(len(cars)-x))"
   ]
  },
  {
   "cell_type": "code",
   "execution_count": null,
   "metadata": {},
   "outputs": [],
   "source": [
    "cars[-9:3:-1]\n",
    "#len(cars)-9 --> 6  from 6 stair move 3 don't talk about 3  and direction is valied with steps\n",
    "#index 6,5,4"
   ]
  },
  {
   "cell_type": "code",
   "execution_count": null,
   "metadata": {},
   "outputs": [],
   "source": [
    "cars[-9:-3:-1]\n"
   ]
  },
  {
   "cell_type": "code",
   "execution_count": null,
   "metadata": {},
   "outputs": [],
   "source": [
    "family[0].title()\n",
    "#as family[0] is as string\n",
    "#   'bati'.title()"
   ]
  },
  {
   "cell_type": "code",
   "execution_count": null,
   "metadata": {},
   "outputs": [],
   "source": [
    "dir(list)"
   ]
  },
  {
   "cell_type": "code",
   "execution_count": null,
   "metadata": {},
   "outputs": [],
   "source": [
    "family=['bati','wife','ami','dado','perdadi','lakardadi','kardadi']\n",
    "print(family,len(family))"
   ]
  },
  {
   "cell_type": "code",
   "execution_count": 78,
   "metadata": {},
   "outputs": [
    {
     "name": "stdout",
     "output_type": "stream",
     "text": [
      "my mother told me that kardadi has just died \n"
     ]
    },
    {
     "ename": "NameError",
     "evalue": "name 'family' is not defined",
     "output_type": "error",
     "traceback": [
      "\u001b[1;31m---------------------------------------------------------------------------\u001b[0m",
      "\u001b[1;31mNameError\u001b[0m                                 Traceback (most recent call last)",
      "\u001b[1;32m<ipython-input-78-7172cee59093>\u001b[0m in \u001b[0;36m<module>\u001b[1;34m\u001b[0m\n\u001b[0;32m      1\u001b[0m \u001b[0mprint\u001b[0m\u001b[1;33m(\u001b[0m\u001b[1;34m'my mother told me that kardadi has just died '\u001b[0m\u001b[1;33m)\u001b[0m\u001b[1;33m\u001b[0m\u001b[1;33m\u001b[0m\u001b[0m\n\u001b[1;32m----> 2\u001b[1;33m \u001b[1;32mdel\u001b[0m \u001b[0mfamily\u001b[0m \u001b[1;33m[\u001b[0m\u001b[1;33m-\u001b[0m\u001b[1;36m1\u001b[0m\u001b[1;33m]\u001b[0m\u001b[1;33m\u001b[0m\u001b[1;33m\u001b[0m\u001b[0m\n\u001b[0m\u001b[0;32m      3\u001b[0m \u001b[1;31m#we had so much info we new her index postion\u001b[0m\u001b[1;33m\u001b[0m\u001b[1;33m\u001b[0m\u001b[1;33m\u001b[0m\u001b[0m\n\u001b[0;32m      4\u001b[0m \u001b[1;31m#so we deleted her\u001b[0m\u001b[1;33m\u001b[0m\u001b[1;33m\u001b[0m\u001b[1;33m\u001b[0m\u001b[0m\n",
      "\u001b[1;31mNameError\u001b[0m: name 'family' is not defined"
     ]
    }
   ],
   "source": [
    "print('my mother told me that kardadi has just died ')\n",
    "del family [-1]\n",
    "#we had so much info we new her index postion\n",
    "#so we deleted her"
   ]
  },
  {
   "cell_type": "code",
   "execution_count": null,
   "metadata": {},
   "outputs": [],
   "source": [
    "family\n",
    "print(family,len(family))"
   ]
  },
  {
   "cell_type": "code",
   "execution_count": null,
   "metadata": {},
   "outputs": [],
   "source": [
    "family.pop('')"
   ]
  },
  {
   "cell_type": "code",
   "execution_count": null,
   "metadata": {},
   "outputs": [],
   "source": [
    "family"
   ]
  },
  {
   "cell_type": "code",
   "execution_count": 80,
   "metadata": {},
   "outputs": [],
   "source": [
    "x=['car','bike','ship','house','watch','house2','car2','led',]\n",
    "house=\"\"\"Feather mattress'\n",
    "100 percent Egyptian cotton sheets\n",
    "Music or iPod dock\n",
    "Natural light\n",
    "Dimmable bedside lamps\n",
    "Flowers\n",
    "Pillows—his rule of thumb: “the more, the better.”\n",
    "Bathrobe and slippers\n",
    "Room diffuser\n",
    "Hairbrushes and combs\n",
    "Bobby pins, headbands, and hair clips\n",
    "Blow-dryer\n",
    "Makeup\n",
    "Makeup mirror—“Target has a Zadro brand for under $50, or you can go really elegant with the Chatham table mirror from Restoration Hardware for $125,” says Salon St. Louis owner Marie McMahon.\n",
    "Chair or stool\n",
    "Skin cleanser\n",
    "Moisturizer with SPF for day\n",
    "Overnight moisturizer—“We are confirmed fans of Dermalogica.”\n",
    "Shampoo\n",
    "Conditioner\n",
    "Styling product\n",
    "Body cleanser\n",
    "Body lotion\n",
    "Hand soap\n",
    "Feminine hygiene products\n",
    "Bubble bath or bath salts\n",
    "Toilet paper\n",
    "Cotton balls\n",
    "Cotton swabs\n",
    "Razors\n",
    "Shaving cream\n",
    "Towel warmer or towel hook hung above heat vent or radiator\n",
    "Nail clippers\n",
    "Tweezers\n",
    "Manicure scissors\n",
    "Shower cap\n",
    "Shower caddy\n",
    "Fluffy body and hand towels\n",
    "Loofah or washcloths\n",
    "Pretty container to store loofah or washcloths—“Use something vintage or the square glass vases that flowers come in.”\n",
    "Fluffy rug\n",
    "Aromatherapy candle near the tub\n",
    "Hooks for hanging up makeup bags\n",
    "Band-Aids\n",
    "Neosporin\n",
    "Aspirin or Tyleno\n",
    "Cedar paneling throughout, cedar liners or cedar blocks for drawers\n",
    "Quality, nonfluorescent lighting\n",
    "Ottoman “for the center of the room.”\n",
    "Mothballs for drawers\n",
    "Wood skirt hangers, slacks hangers, and shirt hangers\n",
    "Cedar suit hangers\n",
    "Garment bags “for long-term storage or for delicate fabrics, like my white dinner jacket.”\n",
    "Shoe trees\n",
    "Shoe bags—“Ask your shoe salesperson for them.”\n",
    "Plastic shoe-storage bins with casters\n",
    "Drawer tray with inserts for jewelry and cuff links\n",
    "Hand-held steam press\n",
    "Iron and ironing board\n",
    "Masking tape—“Wrap a piece around your hand and pat only the areas of your clothes that have lint on them.”   \n",
    "Hanging belt-and-tie rack\n",
    "Diamond drawer organizer for socksl\"\"\".split('\\n')"
   ]
  },
  {
   "cell_type": "markdown",
   "metadata": {},
   "source": [
    "### POP() and del work in same way both take index and take out index value from list \n",
    "#### but the main difference is that pop() allow us to catch that value\n",
    "### where del make sure that we drop the catch \n",
    "\n",
    "del is lika a silent killer\n",
    "where pop is do things to make a seen out of it <br>\n",
    "main thing is that the both as for index \n"
   ]
  },
  {
   "cell_type": "code",
   "execution_count": 81,
   "metadata": {},
   "outputs": [],
   "source": [
    "# catch_it_dont_loos_it=house.pop()\n",
    "# catch_it_dont_loos_it"
   ]
  },
  {
   "cell_type": "code",
   "execution_count": 82,
   "metadata": {},
   "outputs": [],
   "source": [
    "del house[-1]\n",
    "#it did not even allowed us to catch it    "
   ]
  },
  {
   "cell_type": "code",
   "execution_count": 83,
   "metadata": {},
   "outputs": [],
   "source": [
    "house.append('praying rug')"
   ]
  },
  {
   "cell_type": "code",
   "execution_count": 84,
   "metadata": {},
   "outputs": [
    {
     "data": {
      "text/plain": [
       "61"
      ]
     },
     "execution_count": 84,
     "metadata": {},
     "output_type": "execute_result"
    }
   ],
   "source": [
    "house.index('praying rug')"
   ]
  },
  {
   "cell_type": "code",
   "execution_count": 85,
   "metadata": {},
   "outputs": [
    {
     "data": {
      "text/plain": [
       "'praying rug'"
      ]
     },
     "execution_count": 85,
     "metadata": {},
     "output_type": "execute_result"
    }
   ],
   "source": [
    "house[61]"
   ]
  },
  {
   "cell_type": "code",
   "execution_count": 86,
   "metadata": {},
   "outputs": [],
   "source": [
    "house.append('praying rug')"
   ]
  },
  {
   "cell_type": "code",
   "execution_count": 87,
   "metadata": {},
   "outputs": [
    {
     "data": {
      "text/plain": [
       "61"
      ]
     },
     "execution_count": 87,
     "metadata": {},
     "output_type": "execute_result"
    }
   ],
   "source": [
    "house.index('praying rug')"
   ]
  },
  {
   "cell_type": "code",
   "execution_count": 88,
   "metadata": {},
   "outputs": [
    {
     "data": {
      "text/plain": [
       "[\"Feather mattress'\",\n",
       " '100 percent Egyptian cotton sheets',\n",
       " 'Music or iPod dock',\n",
       " 'Natural light',\n",
       " 'Dimmable bedside lamps',\n",
       " 'Flowers',\n",
       " 'Pillows—his rule of thumb: “the more, the better.”',\n",
       " 'Bathrobe and slippers',\n",
       " 'Room diffuser',\n",
       " 'Hairbrushes and combs',\n",
       " 'Bobby pins, headbands, and hair clips',\n",
       " 'Blow-dryer',\n",
       " 'Makeup',\n",
       " 'Makeup mirror—“Target has a Zadro brand for under $50, or you can go really elegant with the Chatham table mirror from Restoration Hardware for $125,” says Salon St. Louis owner Marie McMahon.',\n",
       " 'Chair or stool',\n",
       " 'Skin cleanser',\n",
       " 'Moisturizer with SPF for day',\n",
       " 'Overnight moisturizer—“We are confirmed fans of Dermalogica.”',\n",
       " 'Shampoo',\n",
       " 'Conditioner',\n",
       " 'Styling product',\n",
       " 'Body cleanser',\n",
       " 'Body lotion',\n",
       " 'Hand soap',\n",
       " 'Feminine hygiene products',\n",
       " 'Bubble bath or bath salts',\n",
       " 'Toilet paper',\n",
       " 'Cotton balls',\n",
       " 'Cotton swabs',\n",
       " 'Razors',\n",
       " 'Shaving cream',\n",
       " 'Towel warmer or towel hook hung above heat vent or radiator',\n",
       " 'Nail clippers',\n",
       " 'Tweezers',\n",
       " 'Manicure scissors',\n",
       " 'Shower cap',\n",
       " 'Shower caddy',\n",
       " 'Fluffy body and hand towels',\n",
       " 'Loofah or washcloths',\n",
       " 'Pretty container to store loofah or washcloths—“Use something vintage or the square glass vases that flowers come in.”',\n",
       " 'Fluffy rug',\n",
       " 'Aromatherapy candle near the tub',\n",
       " 'Hooks for hanging up makeup bags',\n",
       " 'Band-Aids',\n",
       " 'Neosporin',\n",
       " 'Aspirin or Tyleno',\n",
       " 'Cedar paneling throughout, cedar liners or cedar blocks for drawers',\n",
       " 'Quality, nonfluorescent lighting',\n",
       " 'Ottoman “for the center of the room.”',\n",
       " 'Mothballs for drawers',\n",
       " 'Wood skirt hangers, slacks hangers, and shirt hangers',\n",
       " 'Cedar suit hangers',\n",
       " 'Garment bags “for long-term storage or for delicate fabrics, like my white dinner jacket.”',\n",
       " 'Shoe trees',\n",
       " 'Shoe bags—“Ask your shoe salesperson for them.”',\n",
       " 'Plastic shoe-storage bins with casters',\n",
       " 'Drawer tray with inserts for jewelry and cuff links',\n",
       " 'Hand-held steam press',\n",
       " 'Iron and ironing board',\n",
       " 'Masking tape—“Wrap a piece around your hand and pat only the areas of your clothes that have lint on them.”   ',\n",
       " 'Hanging belt-and-tie rack',\n",
       " 'praying rug',\n",
       " 'praying rug']"
      ]
     },
     "execution_count": 88,
     "metadata": {},
     "output_type": "execute_result"
    }
   ],
   "source": [
    "house"
   ]
  },
  {
   "cell_type": "code",
   "execution_count": 89,
   "metadata": {},
   "outputs": [],
   "source": [
    "house.remove('praying rug')"
   ]
  },
  {
   "cell_type": "code",
   "execution_count": 90,
   "metadata": {},
   "outputs": [],
   "source": [
    "house.extend([2,'praying rug'])"
   ]
  },
  {
   "cell_type": "code",
   "execution_count": 91,
   "metadata": {},
   "outputs": [
    {
     "data": {
      "text/plain": [
       "[\"Feather mattress'\",\n",
       " '100 percent Egyptian cotton sheets',\n",
       " 'Music or iPod dock',\n",
       " 'Natural light',\n",
       " 'Dimmable bedside lamps',\n",
       " 'Flowers',\n",
       " 'Pillows—his rule of thumb: “the more, the better.”',\n",
       " 'Bathrobe and slippers',\n",
       " 'Room diffuser',\n",
       " 'Hairbrushes and combs',\n",
       " 'Bobby pins, headbands, and hair clips',\n",
       " 'Blow-dryer',\n",
       " 'Makeup',\n",
       " 'Makeup mirror—“Target has a Zadro brand for under $50, or you can go really elegant with the Chatham table mirror from Restoration Hardware for $125,” says Salon St. Louis owner Marie McMahon.',\n",
       " 'Chair or stool',\n",
       " 'Skin cleanser',\n",
       " 'Moisturizer with SPF for day',\n",
       " 'Overnight moisturizer—“We are confirmed fans of Dermalogica.”',\n",
       " 'Shampoo',\n",
       " 'Conditioner',\n",
       " 'Styling product',\n",
       " 'Body cleanser',\n",
       " 'Body lotion',\n",
       " 'Hand soap',\n",
       " 'Feminine hygiene products',\n",
       " 'Bubble bath or bath salts',\n",
       " 'Toilet paper',\n",
       " 'Cotton balls',\n",
       " 'Cotton swabs',\n",
       " 'Razors',\n",
       " 'Shaving cream',\n",
       " 'Towel warmer or towel hook hung above heat vent or radiator',\n",
       " 'Nail clippers',\n",
       " 'Tweezers',\n",
       " 'Manicure scissors',\n",
       " 'Shower cap',\n",
       " 'Shower caddy',\n",
       " 'Fluffy body and hand towels',\n",
       " 'Loofah or washcloths',\n",
       " 'Pretty container to store loofah or washcloths—“Use something vintage or the square glass vases that flowers come in.”',\n",
       " 'Fluffy rug',\n",
       " 'Aromatherapy candle near the tub',\n",
       " 'Hooks for hanging up makeup bags',\n",
       " 'Band-Aids',\n",
       " 'Neosporin',\n",
       " 'Aspirin or Tyleno',\n",
       " 'Cedar paneling throughout, cedar liners or cedar blocks for drawers',\n",
       " 'Quality, nonfluorescent lighting',\n",
       " 'Ottoman “for the center of the room.”',\n",
       " 'Mothballs for drawers',\n",
       " 'Wood skirt hangers, slacks hangers, and shirt hangers',\n",
       " 'Cedar suit hangers',\n",
       " 'Garment bags “for long-term storage or for delicate fabrics, like my white dinner jacket.”',\n",
       " 'Shoe trees',\n",
       " 'Shoe bags—“Ask your shoe salesperson for them.”',\n",
       " 'Plastic shoe-storage bins with casters',\n",
       " 'Drawer tray with inserts for jewelry and cuff links',\n",
       " 'Hand-held steam press',\n",
       " 'Iron and ironing board',\n",
       " 'Masking tape—“Wrap a piece around your hand and pat only the areas of your clothes that have lint on them.”   ',\n",
       " 'Hanging belt-and-tie rack',\n",
       " 'praying rug',\n",
       " 2,\n",
       " 'praying rug']"
      ]
     },
     "execution_count": 91,
     "metadata": {},
     "output_type": "execute_result"
    }
   ],
   "source": [
    "house"
   ]
  },
  {
   "cell_type": "code",
   "execution_count": 92,
   "metadata": {},
   "outputs": [],
   "source": [
    "house.remove('praying rug')"
   ]
  },
  {
   "cell_type": "code",
   "execution_count": 93,
   "metadata": {},
   "outputs": [
    {
     "data": {
      "text/plain": [
       "['Iron and ironing board',\n",
       " 'Masking tape—“Wrap a piece around your hand and pat only the areas of your clothes that have lint on them.”   ',\n",
       " 'Hanging belt-and-tie rack',\n",
       " 2,\n",
       " 'praying rug']"
      ]
     },
     "execution_count": 93,
     "metadata": {},
     "output_type": "execute_result"
    }
   ],
   "source": [
    "house[-5:] #this show us that remove() remove first countered item"
   ]
  },
  {
   "cell_type": "code",
   "execution_count": 94,
   "metadata": {},
   "outputs": [],
   "source": [
    "house.remove(2)\n"
   ]
  },
  {
   "cell_type": "code",
   "execution_count": 95,
   "metadata": {},
   "outputs": [],
   "source": [
    "house.remove('praying rug')"
   ]
  },
  {
   "cell_type": "markdown",
   "metadata": {},
   "source": [
    "### so remove() also don't allow us to catch up value but it works on giving actual value not on index\n",
    "this is good now we have pop(index) or del to use index to take out value<br>\n",
    "or we can use remove(actual value) to remove without knowing index but it will not allow us to catch except pop option which only work on index"
   ]
  },
  {
   "cell_type": "code",
   "execution_count": 96,
   "metadata": {},
   "outputs": [
    {
     "name": "stdout",
     "output_type": "stream",
     "text": [
      "[1, 3, 4, {2.1, 2.0, 2.2}] \n",
      "\n",
      "{2.1, 2.0, 2.2} <class 'set'>\n"
     ]
    }
   ],
   "source": [
    "x=[1,3,4]\n",
    "x.append({2.1,2.0,2.2})  \n",
    "print(x,'\\n')\n",
    "#in append even if you give multiply values it will append them as single item \n",
    "#but benefit of append is that you can attain type of item like above\n",
    "#append set and below you can see last item is set{2.0,2.1,2,2}\n",
    "\n",
    "print(x[-1],type(x[-1]))\n",
    "#see "
   ]
  },
  {
   "cell_type": "code",
   "execution_count": 97,
   "metadata": {},
   "outputs": [
    {
     "data": {
      "text/plain": [
       "[1, 3, 4, {2.0, 2.1, 2.2}, {2.0}, {2.1}, {2.2}]"
      ]
     },
     "execution_count": 97,
     "metadata": {},
     "output_type": "execute_result"
    }
   ],
   "source": [
    "x.extend([{2.0},{2.1},{2.2}])\n",
    "#to give multiply valeus in extend you have to give them under hasable data type and list is hasable so give in list\n",
    "#extend has also benefit and it is one hand above append because \n",
    "#you can give multiply itmes yes multipy its in list  and it also keep there type but you need to give type in side it []\n",
    "x"
   ]
  },
  {
   "cell_type": "code",
   "execution_count": 98,
   "metadata": {},
   "outputs": [
    {
     "data": {
      "text/plain": [
       "[1, 3, 4, {2.0, 2.1, 2.2}, {2.0}, {2.1}, {2.2}]"
      ]
     },
     "execution_count": 98,
     "metadata": {},
     "output_type": "execute_result"
    }
   ],
   "source": [
    "x"
   ]
  },
  {
   "cell_type": "code",
   "execution_count": 99,
   "metadata": {},
   "outputs": [
    {
     "data": {
      "text/plain": [
       "[1, 3, 4, {2.0, 2.1, 2.2}, {2.0}, {2.1}, {2.2}]"
      ]
     },
     "execution_count": 99,
     "metadata": {},
     "output_type": "execute_result"
    }
   ],
   "source": [
    "x"
   ]
  },
  {
   "cell_type": "code",
   "execution_count": null,
   "metadata": {},
   "outputs": [],
   "source": []
  },
  {
   "cell_type": "code",
   "execution_count": 102,
   "metadata": {},
   "outputs": [],
   "source": [
    "x.extend(['taim'])"
   ]
  },
  {
   "cell_type": "code",
   "execution_count": 103,
   "metadata": {},
   "outputs": [],
   "source": [
    "x.extend([{'id':'001','age':20,'died':2019},[100,200,300,4000,4030]])"
   ]
  },
  {
   "cell_type": "code",
   "execution_count": 104,
   "metadata": {},
   "outputs": [
    {
     "data": {
      "text/plain": [
       "[1,\n",
       " 3,\n",
       " 4,\n",
       " {2.0, 2.1, 2.2},\n",
       " {2.0},\n",
       " {2.1},\n",
       " {2.2},\n",
       " 'taim',\n",
       " {'id': '001', 'age': 20, 'died': 2019},\n",
       " [100, 200, 300, 4000, 4030],\n",
       " 'taim',\n",
       " {'id': '001', 'age': 20, 'died': 2019},\n",
       " [100, 200, 300, 4000, 4030]]"
      ]
     },
     "execution_count": 104,
     "metadata": {},
     "output_type": "execute_result"
    }
   ],
   "source": [
    "x"
   ]
  },
  {
   "cell_type": "code",
   "execution_count": 106,
   "metadata": {},
   "outputs": [],
   "source": [
    "x.insert(1,'i am on 1 index :) :P')"
   ]
  },
  {
   "cell_type": "code",
   "execution_count": 107,
   "metadata": {},
   "outputs": [
    {
     "data": {
      "text/plain": [
       "[1,\n",
       " 'i am on 1 index :) :P',\n",
       " 3,\n",
       " 4,\n",
       " {2.0, 2.1, 2.2},\n",
       " {2.0},\n",
       " {2.1},\n",
       " {2.2},\n",
       " 'taim',\n",
       " {'id': '001', 'age': 20, 'died': 2019},\n",
       " [100, 200, 300, 4000, 4030],\n",
       " 'taim',\n",
       " {'id': '001', 'age': 20, 'died': 2019},\n",
       " [100, 200, 300, 4000, 4030]]"
      ]
     },
     "execution_count": 107,
     "metadata": {},
     "output_type": "execute_result"
    }
   ],
   "source": [
    "x"
   ]
  },
  {
   "cell_type": "code",
   "execution_count": 109,
   "metadata": {},
   "outputs": [
    {
     "ename": "TypeError",
     "evalue": "insert() takes exactly 2 arguments (4 given)",
     "output_type": "error",
     "traceback": [
      "\u001b[1;31m---------------------------------------------------------------------------\u001b[0m",
      "\u001b[1;31mTypeError\u001b[0m                                 Traceback (most recent call last)",
      "\u001b[1;32m<ipython-input-109-3022413c88ff>\u001b[0m in \u001b[0;36m<module>\u001b[1;34m\u001b[0m\n\u001b[1;32m----> 1\u001b[1;33m \u001b[0mx\u001b[0m\u001b[1;33m.\u001b[0m\u001b[0minsert\u001b[0m\u001b[1;33m(\u001b[0m\u001b[1;34m'oo'\u001b[0m\u001b[1;33m,\u001b[0m\u001b[1;34m'pp'\u001b[0m\u001b[1;33m,\u001b[0m\u001b[1;34m'ss'\u001b[0m\u001b[1;33m,\u001b[0m\u001b[1;36m1\u001b[0m\u001b[1;33m)\u001b[0m\u001b[1;33m\u001b[0m\u001b[1;33m\u001b[0m\u001b[0m\n\u001b[0m",
      "\u001b[1;31mTypeError\u001b[0m: insert() takes exactly 2 arguments (4 given)"
     ]
    }
   ],
   "source": [
    "#.sort Method vs sorted() function "
   ]
  },
  {
   "cell_type": "code",
   "execution_count": 111,
   "metadata": {},
   "outputs": [
    {
     "data": {
      "text/plain": [
       "[2, 2, 3, 3, 3, 4, 4, 4, 5, 7, 7, 8, 24, 48, 53, 56, 99]"
      ]
     },
     "execution_count": 111,
     "metadata": {},
     "output_type": "execute_result"
    }
   ],
   "source": [
    "x=[2,48,3,4,2,7,8,3,4,7,53,5,3,24,56,99,4]\n",
    "x.sort()\n",
    "x # sort method of list sorted it permenanetly"
   ]
  },
  {
   "cell_type": "code",
   "execution_count": 112,
   "metadata": {},
   "outputs": [
    {
     "data": {
      "text/plain": [
       "[2, 2, 3, 3, 3, 4, 4, 4, 5, 7, 7, 8, 24, 48, 53, 56, 99]"
      ]
     },
     "execution_count": 112,
     "metadata": {},
     "output_type": "execute_result"
    }
   ],
   "source": [
    "x=[2,48,3,4,2,7,8,3,4,7,53,5,3,24,56,99,4]\n",
    "sorted(x)"
   ]
  },
  {
   "cell_type": "code",
   "execution_count": 114,
   "metadata": {},
   "outputs": [
    {
     "data": {
      "text/plain": [
       "[2, 48, 3, 4, 2, 7, 8, 3, 4, 7, 53, 5, 3, 24, 56, 99, 4]"
      ]
     },
     "execution_count": 114,
     "metadata": {},
     "output_type": "execute_result"
    }
   ],
   "source": [
    "x  #sorted() "
   ]
  },
  {
   "cell_type": "code",
   "execution_count": 119,
   "metadata": {},
   "outputs": [
    {
     "data": {
      "text/plain": [
       "[99, 56, 53, 48, 24, 8, 7, 7, 5, 4, 4, 4, 3, 3, 3, 2, 2]"
      ]
     },
     "execution_count": 119,
     "metadata": {},
     "output_type": "execute_result"
    }
   ],
   "source": [
    "x.sort(reverse=True)\n",
    "x\n",
    "#permenantly  reversed sort"
   ]
  },
  {
   "cell_type": "code",
   "execution_count": 122,
   "metadata": {},
   "outputs": [
    {
     "data": {
      "text/plain": [
       "[4, 99, 56, 24, 3, 5, 53, 7, 4, 3, 8, 7, 2, 4, 3, 48, 2]"
      ]
     },
     "execution_count": 122,
     "metadata": {},
     "output_type": "execute_result"
    }
   ],
   "source": [
    "x=[2,48,3,4,2,7,8,3,4,7,53,5,3,24,56,99,4]\n",
    "#we can directly print list in reverse order\n",
    "x.reverse()\n",
    "x\n",
    "#permantely sorted"
   ]
  },
  {
   "cell_type": "code",
   "execution_count": 123,
   "metadata": {},
   "outputs": [
    {
     "data": {
      "text/plain": [
       "4"
      ]
     },
     "execution_count": 123,
     "metadata": {},
     "output_type": "execute_result"
    }
   ],
   "source": [
    "# avoid index error when you give index that is out of range\n",
    "x=['a','b','c','d']\n",
    "len(x)"
   ]
  },
  {
   "cell_type": "code",
   "execution_count": 125,
   "metadata": {},
   "outputs": [
    {
     "ename": "IndexError",
     "evalue": "list index out of range",
     "output_type": "error",
     "traceback": [
      "\u001b[1;31m---------------------------------------------------------------------------\u001b[0m",
      "\u001b[1;31mIndexError\u001b[0m                                Traceback (most recent call last)",
      "\u001b[1;32m<ipython-input-125-cedd7ac36334>\u001b[0m in \u001b[0;36m<module>\u001b[1;34m\u001b[0m\n\u001b[1;32m----> 1\u001b[1;33m \u001b[0mx\u001b[0m\u001b[1;33m[\u001b[0m\u001b[1;36m4\u001b[0m\u001b[1;33m]\u001b[0m\u001b[1;33m\u001b[0m\u001b[1;33m\u001b[0m\u001b[0m\n\u001b[0m",
      "\u001b[1;31mIndexError\u001b[0m: list index out of range"
     ]
    }
   ],
   "source": [
    "x[4]  #IndexError"
   ]
  },
  {
   "cell_type": "code",
   "execution_count": 126,
   "metadata": {},
   "outputs": [],
   "source": [
    "#Name Error1\n",
    "#syntax Error2\n",
    "#Index Error3\n",
    "#Type Error4\n",
    "#UnboundLocal Error5\n",
    "#IndentationError6"
   ]
  },
  {
   "cell_type": "code",
   "execution_count": 149,
   "metadata": {},
   "outputs": [
    {
     "data": {
      "text/plain": [
       "[1, 2]"
      ]
     },
     "execution_count": 149,
     "metadata": {},
     "output_type": "execute_result"
    }
   ],
   "source": [
    "d={1:'p',2:'s'}\n",
    "[*d] #it give values of all keys ,must pack in list "
   ]
  },
  {
   "cell_type": "code",
   "execution_count": 161,
   "metadata": {},
   "outputs": [
    {
     "data": {
      "text/plain": [
       "range(10, 100)"
      ]
     },
     "execution_count": 161,
     "metadata": {},
     "output_type": "execute_result"
    }
   ],
   "source": [
    "x=range(10,100)\n",
    "x"
   ]
  },
  {
   "cell_type": "code",
   "execution_count": 168,
   "metadata": {},
   "outputs": [
    {
     "data": {
      "text/plain": [
       "[0, 10, 20, 30, 40, 50, 60, 70, 80, 90, 100]"
      ]
     },
     "execution_count": 168,
     "metadata": {},
     "output_type": "execute_result"
    }
   ],
   "source": [
    "list(range(0,101,10))  #same like stair example  #going up,dow, +direction steps"
   ]
  },
  {
   "cell_type": "code",
   "execution_count": 170,
   "metadata": {},
   "outputs": [
    {
     "data": {
      "text/plain": [
       "[10, 9, 8, 7, 6, 5, 4, 3, 2, 1, 0]"
      ]
     },
     "execution_count": 170,
     "metadata": {},
     "output_type": "execute_result"
    }
   ],
   "source": [
    "list(range(10,-1,-1)) #going down the stairs from 10 to 0 in negative direction of 1step  "
   ]
  },
  {
   "cell_type": "code",
   "execution_count": 174,
   "metadata": {},
   "outputs": [
    {
     "name": "stdout",
     "output_type": "stream",
     "text": [
      "10 20 30 40 50 60 70 80 90 100 "
     ]
    }
   ],
   "source": [
    "for x in range(10,101,10):\n",
    "    print(x,end=' ')"
   ]
  },
  {
   "cell_type": "code",
   "execution_count": 178,
   "metadata": {},
   "outputs": [],
   "source": [
    "nl=list(range(10,100,10))"
   ]
  },
  {
   "cell_type": "code",
   "execution_count": 187,
   "metadata": {},
   "outputs": [
    {
     "data": {
      "text/plain": [
       "[1, 2, 1, 2, 1, 2]"
      ]
     },
     "execution_count": 187,
     "metadata": {},
     "output_type": "execute_result"
    }
   ],
   "source": [
    "[1,2]+[3,4] #onnly support +\n",
    "[1,2]*3 #only support *"
   ]
  },
  {
   "cell_type": "code",
   "execution_count": 195,
   "metadata": {},
   "outputs": [
    {
     "data": {
      "text/plain": [
       "[100, 400, 900, 1600, 2500, 3600, 4900, 6400, 8100, 10000]"
      ]
     },
     "execution_count": 195,
     "metadata": {},
     "output_type": "execute_result"
    }
   ],
   "source": [
    "#list comprehension\n",
    "[x**2 for x in range(10,101,10)]\n"
   ]
  },
  {
   "cell_type": "code",
   "execution_count": 196,
   "metadata": {},
   "outputs": [
    {
     "data": {
      "text/plain": [
       "[6400, 8100, 10000]"
      ]
     },
     "execution_count": 196,
     "metadata": {},
     "output_type": "execute_result"
    }
   ],
   "source": [
    "[x**2 for x in range(10,101,10)][-3:]\n"
   ]
  },
  {
   "cell_type": "code",
   "execution_count": 200,
   "metadata": {},
   "outputs": [
    {
     "data": {
      "text/plain": [
       "{100, 400, 900, 1600, 2500, 3600, 4900, 6400, 8100, 10000}"
      ]
     },
     "execution_count": 200,
     "metadata": {},
     "output_type": "execute_result"
    }
   ],
   "source": [
    "{x**2 for x in range(10,101,10)}\n"
   ]
  },
  {
   "cell_type": "markdown",
   "metadata": {},
   "source": [
    "## deep copy shallow copy \n",
    "shallow is like short cut mean it will create to names of same thing and both names will have  same memory memory location <br>\n",
    "location which mean change in short cut will cause change in original <br>\n",
    "deep copy give new memory location so if any change done on copy will not effect orginal"
   ]
  },
  {
   "cell_type": "code",
   "execution_count": 206,
   "metadata": {},
   "outputs": [
    {
     "name": "stdout",
     "output_type": "stream",
     "text": [
      "x:  1940063703496 \n",
      "y:  1940063703496\n"
     ]
    }
   ],
   "source": [
    "x=[1,2,3]\n",
    "y=x\n",
    "print('x: ',id(y),'\\ny: ',id(x))\n",
    "#see the have same memeory locations"
   ]
  },
  {
   "cell_type": "code",
   "execution_count": 207,
   "metadata": {},
   "outputs": [
    {
     "name": "stdout",
     "output_type": "stream",
     "text": [
      "x:  1940063728136 \n",
      "y:  1940063706440\n"
     ]
    }
   ],
   "source": [
    "x=[1,2,3]\n",
    "y=x[:]\n",
    "print('x: ',id(y),'\\ny: ',id(x))\n",
    "#see the don't have same memeory locations"
   ]
  },
  {
   "cell_type": "code",
   "execution_count": 209,
   "metadata": {},
   "outputs": [
    {
     "name": "stdout",
     "output_type": "stream",
     "text": [
      "x:  1940063175176 \n",
      "y:  1940063706440\n"
     ]
    }
   ],
   "source": [
    "y=x.copy()  #this .copy() method make deep copy()\n",
    "print('x: ',id(y),'\\ny: ',id(x))\n",
    "#see the don't have same memeory locations\n",
    "#this .copy() method make deep copy()"
   ]
  },
  {
   "cell_type": "markdown",
   "metadata": {},
   "source": [
    "##  TUPLE"
   ]
  },
  {
   "cell_type": "code",
   "execution_count": 213,
   "metadata": {},
   "outputs": [
    {
     "data": {
      "text/plain": [
       "['__add__',\n",
       " '__class__',\n",
       " '__contains__',\n",
       " '__delattr__',\n",
       " '__dir__',\n",
       " '__doc__',\n",
       " '__eq__',\n",
       " '__format__',\n",
       " '__ge__',\n",
       " '__getattribute__',\n",
       " '__getitem__',\n",
       " '__getnewargs__',\n",
       " '__gt__',\n",
       " '__hash__',\n",
       " '__init__',\n",
       " '__init_subclass__',\n",
       " '__iter__',\n",
       " '__le__',\n",
       " '__len__',\n",
       " '__lt__',\n",
       " '__mul__',\n",
       " '__ne__',\n",
       " '__new__',\n",
       " '__reduce__',\n",
       " '__reduce_ex__',\n",
       " '__repr__',\n",
       " '__rmul__',\n",
       " '__setattr__',\n",
       " '__sizeof__',\n",
       " '__str__',\n",
       " '__subclasshook__',\n",
       " 'count',\n",
       " 'index']"
      ]
     },
     "execution_count": 213,
     "metadata": {},
     "output_type": "execute_result"
    }
   ],
   "source": [
    "dir(tuple)\n"
   ]
  },
  {
   "cell_type": "code",
   "execution_count": 218,
   "metadata": {},
   "outputs": [],
   "source": [
    "t= (2,3,4,4,4,4,5,6,7,'taim','arif')"
   ]
  },
  {
   "cell_type": "code",
   "execution_count": 219,
   "metadata": {},
   "outputs": [
    {
     "data": {
      "text/plain": [
       "4"
      ]
     },
     "execution_count": 219,
     "metadata": {},
     "output_type": "execute_result"
    }
   ],
   "source": [
    "t.count(4)"
   ]
  },
  {
   "cell_type": "code",
   "execution_count": 220,
   "metadata": {},
   "outputs": [
    {
     "data": {
      "text/plain": [
       "9"
      ]
     },
     "execution_count": 220,
     "metadata": {},
     "output_type": "execute_result"
    }
   ],
   "source": [
    "t.index('taim')"
   ]
  },
  {
   "cell_type": "code",
   "execution_count": 221,
   "metadata": {},
   "outputs": [
    {
     "data": {
      "text/plain": [
       "11"
      ]
     },
     "execution_count": 221,
     "metadata": {},
     "output_type": "execute_result"
    }
   ],
   "source": [
    "len(t)"
   ]
  },
  {
   "cell_type": "code",
   "execution_count": 223,
   "metadata": {},
   "outputs": [
    {
     "data": {
      "text/plain": [
       "(4, 5, 6, 7, 'taim', 'arif')"
      ]
     },
     "execution_count": 223,
     "metadata": {},
     "output_type": "execute_result"
    }
   ],
   "source": [
    "t[5:]"
   ]
  },
  {
   "cell_type": "code",
   "execution_count": 227,
   "metadata": {},
   "outputs": [],
   "source": [
    "#can't add or delete but we can make a new variable\n",
    "t=('wwe')"
   ]
  },
  {
   "cell_type": "code",
   "execution_count": 228,
   "metadata": {},
   "outputs": [],
   "source": [
    "t= (2,3,4,4,4,4,5,6,7,'taim','arif')"
   ]
  },
  {
   "cell_type": "code",
   "execution_count": 234,
   "metadata": {},
   "outputs": [
    {
     "data": {
      "text/plain": [
       "[2, 3, 4, 4, 4, 4, 5, 6, 7, 'taim', 'arif']"
      ]
     },
     "execution_count": 234,
     "metadata": {},
     "output_type": "execute_result"
    }
   ],
   "source": [
    "[*t]"
   ]
  },
  {
   "cell_type": "markdown",
   "metadata": {},
   "source": [
    "# IF statements"
   ]
  },
  {
   "cell_type": "code",
   "execution_count": 236,
   "metadata": {},
   "outputs": [],
   "source": [
    "t= (2,3,4,4,4,4,5,6,7,'taim','arif')"
   ]
  },
  {
   "cell_type": "code",
   "execution_count": 244,
   "metadata": {},
   "outputs": [
    {
     "name": "stdout",
     "output_type": "stream",
     "text": [
      "yes it is in t\n"
     ]
    }
   ],
   "source": [
    "print('yes it is in t') if 'taim' in t else print('Nop')\n",
    "# 'run this part'  #if# 'this is true'                                 # else# 'run this part'\n",
    "#line comprehension don't use coloumns"
   ]
  },
  {
   "cell_type": "code",
   "execution_count": 246,
   "metadata": {},
   "outputs": [
    {
     "name": "stdout",
     "output_type": "stream",
     "text": [
      "class not in\n"
     ]
    }
   ],
   "source": [
    "print('class not in') if 'class' not in t  else print('init')"
   ]
  },
  {
   "cell_type": "code",
   "execution_count": 252,
   "metadata": {},
   "outputs": [
    {
     "name": "stdout",
     "output_type": "stream",
     "text": [
      "3 is present\n"
     ]
    }
   ],
   "source": [
    "print('9  is present') if 9 in t else print('3 is present') if 3 in t else print('see it-->t :',t) \n",
    "#no elif in line comprehension"
   ]
  },
  {
   "cell_type": "code",
   "execution_count": 253,
   "metadata": {},
   "outputs": [
    {
     "data": {
      "text/plain": [
       "False"
      ]
     },
     "execution_count": 253,
     "metadata": {},
     "output_type": "execute_result"
    }
   ],
   "source": [
    "x=[]\n",
    "\n",
    "bool(x)\n",
    "# bool give false if things are empty"
   ]
  },
  {
   "cell_type": "code",
   "execution_count": 255,
   "metadata": {},
   "outputs": [
    {
     "data": {
      "text/plain": [
       "(False, True)"
      ]
     },
     "execution_count": 255,
     "metadata": {},
     "output_type": "execute_result"
    }
   ],
   "source": [
    "bool(''),bool(' ')\n",
    "#first one is false because it is empty string ,#second one is true because it contain space"
   ]
  },
  {
   "cell_type": "code",
   "execution_count": 256,
   "metadata": {},
   "outputs": [
    {
     "name": "stdout",
     "output_type": "stream",
     "text": [
      "x list is empty : []\n"
     ]
    }
   ],
   "source": [
    "if bool(x) == False:\n",
    "    print('x list is empty :',x)"
   ]
  },
  {
   "cell_type": "markdown",
   "metadata": {},
   "source": [
    "### empty list check wiht if statement"
   ]
  },
  {
   "cell_type": "code",
   "execution_count": 278,
   "metadata": {},
   "outputs": [
    {
     "name": "stdout",
     "output_type": "stream",
     "text": [
      "False\n"
     ]
    }
   ],
   "source": [
    "x =[]\n",
    "if x:\n",
    "    print(True)\n",
    "else:\n",
    "    print(False)"
   ]
  },
  {
   "cell_type": "markdown",
   "metadata": {},
   "source": [
    "# Print"
   ]
  },
  {
   "cell_type": "code",
   "execution_count": 279,
   "metadata": {},
   "outputs": [
    {
     "name": "stdout",
     "output_type": "stream",
     "text": [
      "these are the numbers i like the most\n",
      "one: 3,\n",
      "two: 5,\n",
      "three: -3\n"
     ]
    }
   ],
   "source": [
    "x=3\n",
    "y=5\n",
    "z=-3\n",
    "print('these are the numbers i like the most\\none: {},\\ntwo: {},\\nthree: {}'.format(x,y,z))"
   ]
  },
  {
   "cell_type": "code",
   "execution_count": 272,
   "metadata": {},
   "outputs": [
    {
     "name": "stdout",
     "output_type": "stream",
     "text": [
      "these are the numbers i like the most\n",
      "one: 3,333,333,333,\n",
      "two: 5.00,\n",
      "three: -3\n"
     ]
    }
   ],
   "source": [
    "x=3333333333\n",
    "y=5\n",
    "z=-3\n",
    "print('these are the numbers i like the most\\none: {:,},\\ntwo: {:.2f},\\nthree: {}'.format(x,y,z))"
   ]
  },
  {
   "cell_type": "markdown",
   "metadata": {},
   "source": [
    "###  empty string check with if statement"
   ]
  },
  {
   "cell_type": "code",
   "execution_count": 284,
   "metadata": {},
   "outputs": [
    {
     "name": "stdout",
     "output_type": "stream",
     "text": [
      "empty\n"
     ]
    }
   ],
   "source": [
    "if '':\n",
    "    print('string is not empty')\n",
    "else:\n",
    "    print('empty')"
   ]
  },
  {
   "cell_type": "markdown",
   "metadata": {},
   "source": [
    "# FOR IF--- statement together in line comprehenesion\n",
    "\n",
    "it has two part <br>\n",
    "1. for if part\n",
    "2. action perform part\n",
    "\n",
    "#### Exampel:\n",
    "\n",
    "1. for x in alphabhat if x =='a' <br>\n",
    "\n",
    "\n",
    "2. print(x.upper())\n",
    "\n",
    "note no use of else<br>\n",
    "##  2nd  1st  (sequence)"
   ]
  },
  {
   "cell_type": "code",
   "execution_count": 292,
   "metadata": {},
   "outputs": [
    {
     "name": "stdout",
     "output_type": "stream",
     "text": [
      "A\n"
     ]
    },
    {
     "data": {
      "text/plain": [
       "[None]"
      ]
     },
     "execution_count": 292,
     "metadata": {},
     "output_type": "execute_result"
    }
   ],
   "source": [
    "#2 for x in alphabat if x =='a'\n",
    "#1 print(x.upper())\n",
    "\n",
    "alphabat= ['c','d','a','f','b','g','x']\n",
    "[print(x.upper()) for x in alphabat if x =='a']\n"
   ]
  },
  {
   "cell_type": "markdown",
   "metadata": {},
   "source": [
    "# lambda"
   ]
  },
  {
   "cell_type": "code",
   "execution_count": 302,
   "metadata": {},
   "outputs": [
    {
     "data": {
      "text/plain": [
       "8"
      ]
     },
     "execution_count": 302,
     "metadata": {},
     "output_type": "execute_result"
    }
   ],
   "source": [
    "a=2\n",
    "b=4\n",
    "z=lambda a,b: a*b  #one line function\n",
    "z(a,b)  #we can use it as we have assign it to variable and it is not object and we can move object any where and use it "
   ]
  },
  {
   "cell_type": "code",
   "execution_count": 303,
   "metadata": {},
   "outputs": [
    {
     "data": {
      "text/plain": [
       "30"
      ]
     },
     "execution_count": 303,
     "metadata": {},
     "output_type": "execute_result"
    }
   ],
   "source": [
    "z(3,10)"
   ]
  },
  {
   "cell_type": "code",
   "execution_count": 304,
   "metadata": {},
   "outputs": [
    {
     "data": {
      "text/plain": [
       "81.0"
      ]
     },
     "execution_count": 304,
     "metadata": {},
     "output_type": "execute_result"
    }
   ],
   "source": [
    "z(90,0.9)"
   ]
  },
  {
   "cell_type": "markdown",
   "metadata": {},
   "source": [
    "## Dictionaries"
   ]
  },
  {
   "cell_type": "code",
   "execution_count": 307,
   "metadata": {},
   "outputs": [
    {
     "data": {
      "text/plain": [
       "['__class__',\n",
       " '__contains__',\n",
       " '__delattr__',\n",
       " '__delitem__',\n",
       " '__dir__',\n",
       " '__doc__',\n",
       " '__eq__',\n",
       " '__format__',\n",
       " '__ge__',\n",
       " '__getattribute__',\n",
       " '__getitem__',\n",
       " '__gt__',\n",
       " '__hash__',\n",
       " '__init__',\n",
       " '__init_subclass__',\n",
       " '__iter__',\n",
       " '__le__',\n",
       " '__len__',\n",
       " '__lt__',\n",
       " '__ne__',\n",
       " '__new__',\n",
       " '__reduce__',\n",
       " '__reduce_ex__',\n",
       " '__repr__',\n",
       " '__setattr__',\n",
       " '__setitem__',\n",
       " '__sizeof__',\n",
       " '__str__',\n",
       " '__subclasshook__',\n",
       " 'clear',\n",
       " 'copy',\n",
       " 'fromkeys',\n",
       " 'get',\n",
       " 'items',\n",
       " 'keys',\n",
       " 'pop',\n",
       " 'popitem',\n",
       " 'setdefault',\n",
       " 'update',\n",
       " 'values']"
      ]
     },
     "execution_count": 307,
     "metadata": {},
     "output_type": "execute_result"
    }
   ],
   "source": [
    "dir(dict)\n",
    "\n"
   ]
  },
  {
   "cell_type": "code",
   "execution_count": 65,
   "metadata": {},
   "outputs": [],
   "source": [
    "d={\n",
    "    'honda':{'civic':{0:{'price':3000000,\n",
    "                        'condiction':'7/10',\n",
    "                        'platform':'pakwheel',\n",
    "                            },\n",
    "                     },\n",
    "            },\n",
    "    'Toyota':{'corola':{0:{'price':2800000,\n",
    "                            'condiction':'9/10',\n",
    "                            'platform':'pakwheel',\n",
    "                            },  \n",
    "                        },\n",
    "             },\n",
    "    \n",
    "        \n",
    "    'Tesla':{'x model':{0:{'price':10000000,\n",
    "                        'condiction':'5/10',\n",
    "                        'platform':'pakwheel'},},\n",
    "             'roster model':{0:{'price':20000000,\n",
    "                             'condition':'9/10',\n",
    "                             'platform':'pakwheel'},},},}\n",
    "\n"
   ]
  },
  {
   "cell_type": "code",
   "execution_count": 66,
   "metadata": {},
   "outputs": [
    {
     "name": "stdout",
     "output_type": "stream",
     "text": [
      "{'condition': '9/10', 'platform': 'pakwheel', 'price': 20000000}\n"
     ]
    }
   ],
   "source": [
    "import pprint\n",
    "pprint.pprint(d['Tesla']['roster model'][0])"
   ]
  },
  {
   "cell_type": "code",
   "execution_count": 67,
   "metadata": {},
   "outputs": [],
   "source": [
    "d['Tesla']['roster model'][1]={'condition':'9/10','platform':'buy must','price':18000000}"
   ]
  },
  {
   "cell_type": "code",
   "execution_count": 68,
   "metadata": {},
   "outputs": [
    {
     "data": {
      "text/plain": [
       "{0: {'price': 20000000, 'condition': '9/10', 'platform': 'pakwheel'},\n",
       " 1: {'condition': '9/10', 'platform': 'buy must', 'price': 18000000}}"
      ]
     },
     "execution_count": 68,
     "metadata": {},
     "output_type": "execute_result"
    }
   ],
   "source": [
    "d['Tesla']['roster model']"
   ]
  },
  {
   "cell_type": "code",
   "execution_count": 69,
   "metadata": {},
   "outputs": [],
   "source": [
    "x=d.keys()"
   ]
  },
  {
   "cell_type": "code",
   "execution_count": 70,
   "metadata": {},
   "outputs": [],
   "source": [
    "del  d['Tesla']['roster model'][1]['platform']\n",
    "# we deleted platform "
   ]
  },
  {
   "cell_type": "code",
   "execution_count": 71,
   "metadata": {},
   "outputs": [
    {
     "data": {
      "text/plain": [
       "{'condition': '9/10', 'price': 18000000}"
      ]
     },
     "execution_count": 71,
     "metadata": {},
     "output_type": "execute_result"
    }
   ],
   "source": [
    "d['Tesla']['roster model'][1]\n",
    "# no platform init"
   ]
  },
  {
   "cell_type": "code",
   "execution_count": 89,
   "metadata": {},
   "outputs": [],
   "source": [
    "d\n",
    "class color:\n",
    "   PURPLE = '\\033[95m'\n",
    "   CYAN = '\\033[96m'\n",
    "   DARKCYAN = '\\033[36m'\n",
    "   BLUE = '\\033[94m'\n",
    "   GREEN = '\\033[92m'\n",
    "   YELLOW = '\\033[93m'\n",
    "   RED = '\\033[91m'\n",
    "   BOLD = '\\033[1m'\n",
    "   UNDERLINE = '\\033[4m'\n",
    "   END = '\\033[0m'"
   ]
  },
  {
   "cell_type": "code",
   "execution_count": 101,
   "metadata": {},
   "outputs": [
    {
     "name": "stdout",
     "output_type": "stream",
     "text": [
      "\n",
      "\n",
      "**********\n",
      "\u001b[1mbrand: \u001b[0mhonda\n",
      "**********\n",
      "\u001b[94m models :\u001b[0m{'civic': {0: {'price': 3000000, 'condiction': '7/10', 'platform': 'pakwheel'}}}\n",
      "______________________________\n",
      "\n",
      "**********\n",
      "\u001b[1mbrand: \u001b[0mToyota\n",
      "**********\n",
      "\u001b[94m models :\u001b[0m{'corola': {0: {'price': 2800000, 'condiction': '9/10', 'platform': 'pakwheel'}}}\n",
      "______________________________\n",
      "\n",
      "**********\n",
      "\u001b[1mbrand: \u001b[0mTesla\n",
      "**********\n",
      "\u001b[94m models :\u001b[0m{'x model': {0: {'price': 10000000, 'condiction': '5/10', 'platform': 'pakwheel'}}, 'roster model': {0: {'price': 20000000, 'condition': '9/10', 'platform': 'pakwheel'}, 1: {'condition': '9/10', 'price': 18000000}}}\n",
      "______________________________"
     ]
    }
   ],
   "source": [
    "for brand,models in d.items():\n",
    "    print('\\n',color.BOLD +'brand: '+color.END  + brand,\n",
    "          \n",
    "          '\\033[94m models :\\033[0m'+ '{}'.format(models),\n",
    "          \n",
    "          end='\\n'+'_'*30,sep='\\n**********\\n')"
   ]
  },
  {
   "cell_type": "markdown",
   "metadata": {},
   "source": [
    "# zip function pair making \n",
    "##### after that we have flexibility to either show it as list,dict,tuple pair"
   ]
  },
  {
   "cell_type": "code",
   "execution_count": 109,
   "metadata": {},
   "outputs": [
    {
     "data": {
      "text/plain": [
       "{'a': 'ali', 'b': 'bilal'}"
      ]
     },
     "execution_count": 109,
     "metadata": {},
     "output_type": "execute_result"
    }
   ],
   "source": [
    "x=['a','b']\n",
    "y=['ali','bilal']\n",
    "dict(zip(x,y))"
   ]
  },
  {
   "cell_type": "code",
   "execution_count": 110,
   "metadata": {},
   "outputs": [
    {
     "data": {
      "text/plain": [
       "(('a', 'ali'), ('b', 'bilal'))"
      ]
     },
     "execution_count": 110,
     "metadata": {},
     "output_type": "execute_result"
    }
   ],
   "source": [
    "tuple(zip(x,y))"
   ]
  },
  {
   "cell_type": "code",
   "execution_count": 111,
   "metadata": {},
   "outputs": [
    {
     "data": {
      "text/plain": [
       "[('a', 'ali'), ('b', 'bilal')]"
      ]
     },
     "execution_count": 111,
     "metadata": {},
     "output_type": "execute_result"
    }
   ],
   "source": [
    "list(zip(x,y))"
   ]
  },
  {
   "cell_type": "markdown",
   "metadata": {},
   "source": [
    "#### un match loss"
   ]
  },
  {
   "cell_type": "code",
   "execution_count": 112,
   "metadata": {},
   "outputs": [
    {
     "data": {
      "text/plain": [
       "[('a', 'ali'), ('b', 'bilal')]"
      ]
     },
     "execution_count": 112,
     "metadata": {},
     "output_type": "execute_result"
    }
   ],
   "source": [
    "x=['a','b','c']\n",
    "y=['ali','bilal']\n",
    "\n",
    "list(zip(x,y))\n",
    "\n"
   ]
  },
  {
   "cell_type": "code",
   "execution_count": 113,
   "metadata": {},
   "outputs": [
    {
     "data": {
      "text/plain": [
       "(('a', 'ali'), ('b', 'bilal'))"
      ]
     },
     "execution_count": 113,
     "metadata": {},
     "output_type": "execute_result"
    }
   ],
   "source": [
    "tuple(zip(x,y))"
   ]
  },
  {
   "cell_type": "code",
   "execution_count": 114,
   "metadata": {},
   "outputs": [
    {
     "data": {
      "text/plain": [
       "{'a': 'ali', 'b': 'bilal'}"
      ]
     },
     "execution_count": 114,
     "metadata": {},
     "output_type": "execute_result"
    }
   ],
   "source": [
    "dict(zip(x,y))"
   ]
  },
  {
   "cell_type": "markdown",
   "metadata": {},
   "source": [
    "# * args argument  and ** kwargs keyword arguments "
   ]
  },
  {
   "cell_type": "code",
   "execution_count": 151,
   "metadata": {},
   "outputs": [
    {
     "name": "stdout",
     "output_type": "stream",
     "text": [
      "2 3 4\n",
      "0 77 88 99\n"
     ]
    }
   ],
   "source": [
    "d={'name':'Taimoor'}\n",
    "f=(2,3,4)\n",
    "g=[0,77,88,99]\n",
    "\n",
    "print(*f)\n",
    "print(*g)\n",
    "\n",
    "\n",
    "\n",
    "\n",
    "\n"
   ]
  },
  {
   "cell_type": "code",
   "execution_count": 154,
   "metadata": {},
   "outputs": [
    {
     "name": "stdout",
     "output_type": "stream",
     "text": [
      "{'name': 'taimoor', 'age': 27}\n",
      "name taimoor\n",
      "age 27\n"
     ]
    }
   ],
   "source": [
    "def fund(**x):  #** mean put parameter = argument  #parameter become key : arugment become dictionary\n",
    "    print(x)\n",
    "    for y,z in x.items():  #just to show you that x is dictionary which you provide \n",
    "                        #1key=value ,2key=value,3key=value as kwargin function\n",
    "            print(y,z)\n",
    "        \n",
    "        \n",
    "fund(name='taimoor',age=27)  #this is only possible because of **\n",
    "\n"
   ]
  },
  {
   "cell_type": "code",
   "execution_count": 153,
   "metadata": {},
   "outputs": [
    {
     "name": "stdout",
     "output_type": "stream",
     "text": [
      "(3, 4, 5, 6, 7, 8, 8, 9, 9, 9, 9, 9)\n",
      "3-4-5-6-7-8-8-9-9-9-9-9-"
     ]
    }
   ],
   "source": [
    "#below one is to allow tuple\n",
    "def funls(*x): #this take only arguments seperated by comma and * make them tuple\n",
    "    print(x)\n",
    "   \n",
    "    for i in x: #just to show you that x is now tuple which you provided as arguments seperated by , coma\n",
    "        print(i,end='-')\n",
    "\n",
    "funls(3,4,5,6,7,8,8,9,9,9,9,9)"
   ]
  },
  {
   "cell_type": "code",
   "execution_count": 160,
   "metadata": {},
   "outputs": [],
   "source": [
    "lug = {\n",
    "'jen': 'python',\n",
    "'sarah': 'c',\n",
    "'edward': 'ruby',\n",
    "'phil': 'python',\n",
    "}"
   ]
  },
  {
   "cell_type": "markdown",
   "metadata": {},
   "source": [
    "###  dict.clear()\n",
    "permantly"
   ]
  },
  {
   "cell_type": "code",
   "execution_count": 164,
   "metadata": {},
   "outputs": [
    {
     "data": {
      "text/plain": [
       "{}"
      ]
     },
     "execution_count": 164,
     "metadata": {},
     "output_type": "execute_result"
    }
   ],
   "source": [
    "lug.clear()\n",
    "lug"
   ]
  },
  {
   "cell_type": "code",
   "execution_count": 165,
   "metadata": {},
   "outputs": [],
   "source": [
    "lug = {\n",
    "'jen': 'python',\n",
    "'sarah': 'c',\n",
    "'edward': 'ruby',\n",
    "'phil': 'python',\n",
    "}"
   ]
  },
  {
   "cell_type": "code",
   "execution_count": 166,
   "metadata": {},
   "outputs": [
    {
     "data": {
      "text/plain": [
       "2397729764552"
      ]
     },
     "execution_count": 166,
     "metadata": {},
     "output_type": "execute_result"
    }
   ],
   "source": [
    "id(lug)"
   ]
  },
  {
   "cell_type": "markdown",
   "metadata": {},
   "source": [
    "### dict.copy() ---is shallow ----     ::                                 where list.copy---- is deep ----"
   ]
  },
  {
   "cell_type": "code",
   "execution_count": 177,
   "metadata": {},
   "outputs": [
    {
     "data": {
      "text/plain": [
       "{'jen': 'python', 'sarah': 'c', 'edward': 'ruby', 'phil': 'python'}"
      ]
     },
     "execution_count": 177,
     "metadata": {},
     "output_type": "execute_result"
    }
   ],
   "source": [
    "lug_copy=lug.copy()  # dictionary shallow copy \n",
    "lug_copy"
   ]
  },
  {
   "cell_type": "code",
   "execution_count": 176,
   "metadata": {},
   "outputs": [
    {
     "name": "stdout",
     "output_type": "stream",
     "text": [
      "lug      : 2397729764552\n",
      "lug_copy : 2397729765848\n",
      "_________________\n",
      " dict.copy() create shallow copy\n"
     ]
    }
   ],
   "source": [
    "print('lug      :',id(lug))\n",
    "print('lug_copy :',id(lug_copy))\n",
    "print('_________________\\n','dict.copy() create shallow copy')"
   ]
  },
  {
   "cell_type": "code",
   "execution_count": 179,
   "metadata": {},
   "outputs": [
    {
     "name": "stdout",
     "output_type": "stream",
     "text": [
      "2397729990856 2397729695304\n"
     ]
    }
   ],
   "source": [
    "x=[1,1,2]\n",
    "y=x.copy()\n",
    "print(id(x),id(y))   #but list is deep copy  hint: deep hint:list are eacy to create so they are deep copy"
   ]
  },
  {
   "cell_type": "markdown",
   "metadata": {},
   "source": [
    "### dict.fromkeys(keys,value)\n",
    "temporarly <br>\n",
    "so always assign to some varaible\n",
    "use only when you wan to create new dict and you any want keys in it and make it quick just by giving single list <br>\n",
    "to give same value to all keys u can give in value (optional)<br>\n",
    "otherwise it will give all keys same None value"
   ]
  },
  {
   "cell_type": "code",
   "execution_count": 219,
   "metadata": {},
   "outputs": [
    {
     "data": {
      "text/plain": [
       "{'name': None, 'age': None, 'rollno': None, 'class': None, 'status': None}"
      ]
     },
     "execution_count": 219,
     "metadata": {},
     "output_type": "execute_result"
    }
   ],
   "source": [
    "newd={}\n",
    "new_keys=['name','age','rollno','class','status']\n",
    "newd.fromkeys(new_keys)\n",
    "\n"
   ]
  },
  {
   "cell_type": "code",
   "execution_count": 220,
   "metadata": {},
   "outputs": [
    {
     "data": {
      "text/plain": [
       "{'Gender': None}"
      ]
     },
     "execution_count": 220,
     "metadata": {},
     "output_type": "execute_result"
    }
   ],
   "source": [
    "newd.fromkeys(['Gender'])  #oops"
   ]
  },
  {
   "cell_type": "code",
   "execution_count": 221,
   "metadata": {},
   "outputs": [
    {
     "data": {
      "text/plain": [
       "{'0': None,\n",
       " '1': None,\n",
       " '2': None,\n",
       " '3': None,\n",
       " '4': None,\n",
       " '5': None,\n",
       " '6': None,\n",
       " '7': None,\n",
       " '8': None,\n",
       " '9': None}"
      ]
     },
     "execution_count": 221,
     "metadata": {},
     "output_type": "execute_result"
    }
   ],
   "source": [
    "newd.fromkeys('0123456789')  #oops\n",
    "#temporarly "
   ]
  },
  {
   "cell_type": "code",
   "execution_count": 222,
   "metadata": {},
   "outputs": [
    {
     "data": {
      "text/plain": [
       "{'Gender': None}"
      ]
     },
     "execution_count": 222,
     "metadata": {},
     "output_type": "execute_result"
    }
   ],
   "source": [
    "newd.fromkeys(['Gender'])  #give it in list\n",
    "#temporarly "
   ]
  },
  {
   "cell_type": "code",
   "execution_count": 223,
   "metadata": {},
   "outputs": [
    {
     "data": {
      "text/plain": [
       "{'0123456789': None}"
      ]
     },
     "execution_count": 223,
     "metadata": {},
     "output_type": "execute_result"
    }
   ],
   "source": [
    "newd.fromkeys(['0123456789'])\n",
    "#temporarly "
   ]
  },
  {
   "cell_type": "code",
   "execution_count": 224,
   "metadata": {},
   "outputs": [
    {
     "data": {
      "text/plain": [
       "{'urdu': None, 'arabic': None, 'englis': None}"
      ]
     },
     "execution_count": 224,
     "metadata": {},
     "output_type": "execute_result"
    }
   ],
   "source": [
    "newd.fromkeys(['urdu','arabic','englis'])  #give it list it will make key from all of list items\n",
    "#temporarly "
   ]
  },
  {
   "cell_type": "code",
   "execution_count": 225,
   "metadata": {},
   "outputs": [
    {
     "data": {
      "text/plain": [
       "{}"
      ]
     },
     "execution_count": 225,
     "metadata": {},
     "output_type": "execute_result"
    }
   ],
   "source": [
    "newd"
   ]
  },
  {
   "cell_type": "markdown",
   "metadata": {},
   "source": [
    "#### quick way to creat dictionary with same value"
   ]
  },
  {
   "cell_type": "code",
   "execution_count": 228,
   "metadata": {},
   "outputs": [
    {
     "data": {
      "text/plain": [
       "{'a': [399, 899, 9343], 'b': [399, 899, 9343], 'c': [399, 899, 9343]}"
      ]
     },
     "execution_count": 228,
     "metadata": {},
     "output_type": "execute_result"
    }
   ],
   "source": [
    "\n",
    "quick={}.fromkeys(['a','b','c'],[399,899,9343])\n",
    "quick\n",
    "# al keys got same list "
   ]
  },
  {
   "cell_type": "code",
   "execution_count": 216,
   "metadata": {},
   "outputs": [
    {
     "data": {
      "text/plain": [
       "{'a': 399, 'b': 899, 'c': 9343}"
      ]
     },
     "execution_count": 216,
     "metadata": {},
     "output_type": "execute_result"
    }
   ],
   "source": [
    "dict(zip(['a','b','c'],[399,899,9343]))"
   ]
  },
  {
   "cell_type": "markdown",
   "metadata": {},
   "source": [
    "###  dict.get(key)   ---> gives value\n",
    "\n",
    "The get() method returns a default value if the key is missing.<br>\n",
    "However, if the key is not found when you use dict[key], KeyError exception is raised."
   ]
  },
  {
   "cell_type": "code",
   "execution_count": 240,
   "metadata": {},
   "outputs": [
    {
     "data": {
      "text/plain": [
       "'Taimoor'"
      ]
     },
     "execution_count": 240,
     "metadata": {},
     "output_type": "execute_result"
    }
   ],
   "source": [
    "me={'name':'Taimoor','age':28}\n",
    "\n",
    "me.get('name')"
   ]
  },
  {
   "cell_type": "code",
   "execution_count": 241,
   "metadata": {},
   "outputs": [
    {
     "data": {
      "text/plain": [
       "2000"
      ]
     },
     "execution_count": 241,
     "metadata": {},
     "output_type": "execute_result"
    }
   ],
   "source": [
    "me.get('money',2000)"
   ]
  },
  {
   "cell_type": "code",
   "execution_count": 242,
   "metadata": {},
   "outputs": [],
   "source": [
    "# The get() method returns a default value if the key is missing.\n",
    "me.get('live')"
   ]
  },
  {
   "cell_type": "markdown",
   "metadata": {},
   "source": [
    "## dict.popitem()\n",
    "randomly remove dict item good for creating quize/game random quest:answers"
   ]
  },
  {
   "cell_type": "code",
   "execution_count": 251,
   "metadata": {},
   "outputs": [
    {
     "data": {
      "text/plain": [
       "('q4', 'out of course')"
      ]
     },
     "execution_count": 251,
     "metadata": {},
     "output_type": "execute_result"
    }
   ],
   "source": [
    "x={'q1':'easy','q2':'not so easy','q3':'too hard','q4':'out of course'}\n",
    "x.popitem() #taks no arugment"
   ]
  },
  {
   "cell_type": "markdown",
   "metadata": {},
   "source": [
    "### dict.setdefault(key)\n",
    "key ---- key to be searched in the dictionary<br>\n",
    "default_value (optional) ---- key with a value default_value is inserted to the dictionary if key is not in the dictionary.<br>\n",
    "If not provided, the default_value will be None"
   ]
  },
  {
   "cell_type": "code",
   "execution_count": 270,
   "metadata": {},
   "outputs": [
    {
     "data": {
      "text/plain": [
       "'easy'"
      ]
     },
     "execution_count": 270,
     "metadata": {},
     "output_type": "execute_result"
    }
   ],
   "source": [
    "x={'q1':'easy','q2':'not so easy','q3':'too hard','q4':'out of course'}\n",
    "x.setdefault('q1')  #takes argument as key of dictionary  and return its value just like .get()"
   ]
  },
  {
   "cell_type": "code",
   "execution_count": 271,
   "metadata": {},
   "outputs": [
    {
     "data": {
      "text/plain": [
       "{'q1': 'easy', 'q2': 'not so easy', 'q3': 'too hard', 'q4': 'out of course'}"
      ]
     },
     "execution_count": 271,
     "metadata": {},
     "output_type": "execute_result"
    }
   ],
   "source": [
    "x"
   ]
  },
  {
   "cell_type": "code",
   "execution_count": 272,
   "metadata": {},
   "outputs": [
    {
     "data": {
      "text/plain": [
       "'not so easy'"
      ]
     },
     "execution_count": 272,
     "metadata": {},
     "output_type": "execute_result"
    }
   ],
   "source": [
    "a_section = x.setdefault('q2')\n",
    "a_section"
   ]
  },
  {
   "cell_type": "code",
   "execution_count": 273,
   "metadata": {},
   "outputs": [
    {
     "data": {
      "text/plain": [
       "{'q1': 'easy',\n",
       " 'q2': 'not so easy',\n",
       " 'q3': 'too hard',\n",
       " 'q4': 'out of course',\n",
       " 'q5': None}"
      ]
     },
     "execution_count": 273,
     "metadata": {},
     "output_type": "execute_result"
    }
   ],
   "source": [
    "b_section = x.setdefault('q5')\n",
    "b_section  # as key does not exist so nothing got catched\n",
    "x"
   ]
  },
  {
   "cell_type": "code",
   "execution_count": 278,
   "metadata": {},
   "outputs": [
    {
     "data": {
      "text/plain": [
       "{'q1': 'easy',\n",
       " 'q2': 'not so easy',\n",
       " 'q3': 'too hard',\n",
       " 'q4': 'out of course',\n",
       " 'q5': None}"
      ]
     },
     "execution_count": 278,
     "metadata": {},
     "output_type": "execute_result"
    }
   ],
   "source": [
    "b_section = x.setdefault('q5','exaim practice')  #second arugment is value if value is not present dictionry will be updated\n",
    "b_section\n",
    "#as key does not exist \n",
    "x"
   ]
  },
  {
   "cell_type": "markdown",
   "metadata": {},
   "source": [
    "## dict.pop(key,ifnot give this in return) Parameters\n",
    "The pop() method takes two parameters:<br>\n",
    "key - key which is to be searched for removal<br>\n",
    "default - value which is to be returned when the key is not in the dictionary<br>"
   ]
  },
  {
   "cell_type": "code",
   "execution_count": 319,
   "metadata": {},
   "outputs": [
    {
     "data": {
      "text/plain": [
       "'we are building this collection '"
      ]
     },
     "execution_count": 319,
     "metadata": {},
     "output_type": "execute_result"
    }
   ],
   "source": [
    "x={'honda':'civic','suzuki':'mehran'}\n",
    "\n",
    "x.pop('corola','we are building this collection ') #corol key  was not there so we gave message \n",
    "                                    \n",
    "    # pop got p at the end so it will protect your image u can giv nice message"
   ]
  },
  {
   "cell_type": "code",
   "execution_count": 300,
   "metadata": {},
   "outputs": [
    {
     "data": {
      "text/plain": [
       "{'honda': 'civic', 'suzuki': 'mehran'}"
      ]
     },
     "execution_count": 300,
     "metadata": {},
     "output_type": "execute_result"
    }
   ],
   "source": [
    "x"
   ]
  },
  {
   "cell_type": "code",
   "execution_count": 301,
   "metadata": {},
   "outputs": [
    {
     "data": {
      "text/plain": [
       "'mehran'"
      ]
     },
     "execution_count": 301,
     "metadata": {},
     "output_type": "execute_result"
    }
   ],
   "source": [
    "x.pop('suzuki')  #it pop the value of suzuki and remove it from orginal and allowed us to catch value only\n",
    "                 # where\n",
    "                 #popitem() allow us to catch both key:value but we can't give any argument to popitme()"
   ]
  },
  {
   "cell_type": "code",
   "execution_count": 302,
   "metadata": {},
   "outputs": [
    {
     "data": {
      "text/plain": [
       "{'honda': 'civic'}"
      ]
     },
     "execution_count": 302,
     "metadata": {},
     "output_type": "execute_result"
    }
   ],
   "source": [
    "x"
   ]
  },
  {
   "cell_type": "markdown",
   "metadata": {},
   "source": [
    "## dict.update()\n"
   ]
  },
  {
   "cell_type": "raw",
   "metadata": {},
   "source": [
    "The update() method takes either a dictionary or an iterable object of key/value pairs (generally tuples).\n",
    "If update() is called without passing parameters, the dictionary remains unchanged."
   ]
  },
  {
   "cell_type": "raw",
   "metadata": {},
   "source": [
    "They update() method updates the dictionary with elements from a dictionary object or an iterable object of key/value pairs.\n",
    "It doesn't return any value (returns None)."
   ]
  },
  {
   "cell_type": "code",
   "execution_count": 305,
   "metadata": {},
   "outputs": [
    {
     "data": {
      "text/plain": [
       "{'honda': 'civic', 'Tesla': 'model x'}"
      ]
     },
     "execution_count": 305,
     "metadata": {},
     "output_type": "execute_result"
    }
   ],
   "source": [
    "x.update({'Tesla':'model x'})\n",
    "x"
   ]
  },
  {
   "cell_type": "code",
   "execution_count": 318,
   "metadata": {},
   "outputs": [
    {
     "data": {
      "text/plain": [
       "{'honda': 'civic', 'Tesla': 'model x', 'suzuki': 'mehran'}"
      ]
     },
     "execution_count": 318,
     "metadata": {},
     "output_type": "execute_result"
    }
   ],
   "source": [
    "x.update(suzuki='mehran')  #suzuki is given as variable not as string\n",
    "x"
   ]
  },
  {
   "cell_type": "code",
   "execution_count": 4,
   "metadata": {},
   "outputs": [],
   "source": [
    "students ={\n",
    "    'name':{'taimoor':\n",
    "            {\n",
    "                'percentage':'70%',\n",
    "                'conduct':'good',\n",
    "            },\n",
    "            'ali':{'percentage':'80%',\n",
    "                  'conduct':'good'}\n",
    "        },\n",
    "    \n",
    "    \n",
    "}"
   ]
  },
  {
   "cell_type": "code",
   "execution_count": 10,
   "metadata": {},
   "outputs": [
    {
     "data": {
      "text/plain": [
       "['taimoor', 'ali']"
      ]
     },
     "execution_count": 10,
     "metadata": {},
     "output_type": "execute_result"
    }
   ],
   "source": [
    "list(students['name'].keys())  #to get only keys inside students['name']"
   ]
  },
  {
   "cell_type": "code",
   "execution_count": 26,
   "metadata": {},
   "outputs": [
    {
     "data": {
      "text/plain": [
       "dict_keys(['taimoor', 'ali'])"
      ]
     },
     "execution_count": 26,
     "metadata": {},
     "output_type": "execute_result"
    }
   ],
   "source": [
    "students['name'].keys()"
   ]
  },
  {
   "cell_type": "code",
   "execution_count": 27,
   "metadata": {},
   "outputs": [
    {
     "data": {
      "text/plain": [
       "['taimoor', 'ali']"
      ]
     },
     "execution_count": 27,
     "metadata": {},
     "output_type": "execute_result"
    }
   ],
   "source": [
    "list(students['name']) #listing dictionary will get your keys"
   ]
  },
  {
   "cell_type": "raw",
   "metadata": {},
   "source": [
    "'d' Signed integer decimal.  \n",
    "'i' Signed integer decimal.  \n",
    "'o' Signed octal value. (1)\n",
    "'u' Obsolete type – it is identical to 'd'. (7)\n",
    "'x' Signed hexadecimal (lowercase). (2)\n",
    "'X' Signed hexadecimal (uppercase). (2)\n",
    "'e' Floating point exponential format (lowercase).  (3)\n",
    "'E' Floating point exponential format (uppercase).  (3)\n",
    "'f' Floating point decimal format.  (3)\n",
    "'F' Floating point decimal format.  (3)\n",
    "'g' Floating point format. Uses lowercase exponential format if exponent is less than -4 or not less than precision, decimal format otherwise.  (4)\n",
    "'G' Floating point format. Uses uppercase exponential format if exponent is less than -4 or not less than precision, decimal format otherwise.  (4)\n",
    "'c' Single character (accepts integer or single character string).   \n",
    "'r' String (converts any Python object using repr()).   (5)\n",
    "'s' String (converts any Python object using str()).    (6)\n",
    "'%' No argument is converted, results in a '%' character in the result."
   ]
  },
  {
   "cell_type": "code",
   "execution_count": 127,
   "metadata": {},
   "outputs": [
    {
     "name": "stdout",
     "output_type": "stream",
     "text": [
      "your son name : Taimoor \n",
      "percentage : 78 %\n",
      "cgpa :3.25\n",
      "earn : 1000\n",
      "______________________________\n",
      "your son name : Taimoor \n",
      "percentage : 78.00 %\n",
      "cgpa :3.25\n",
      "earn : 1,000.00\n",
      "______________________________\n",
      "your son name :Taimoor\n",
      "percentage : 78 %\n",
      "cgpa : 3.25\n",
      "earn : 1000\n"
     ]
    }
   ],
   "source": [
    "students['name']['taimoor']['percentage']=78\n",
    "perc=students['name']['taimoor']['percentage']\n",
    "cgpa=students['name']['taimoor']['cpga']=3.245555\n",
    "earn=students[\"name\"]['taimoor']['earn']=1000\n",
    "\n",
    "print('your son name : %s \\npercentage : %i %s\\ncgpa :%.2f\\nearn : %d'%('Taimoor',perc,'%',cgpa,earn))\n",
    "\n",
    "\n",
    "\n",
    "print('_'*30)\n",
    "print('your son name : {} \\npercentage : {:.2f} %\\ncgpa :{:.2f}\\nearn : {:,.2f}'.format('Taimoor',perc,cgpa,earn))\n",
    "\n",
    "\n",
    "\n",
    "print('_'*30)\n",
    "print('your son name :' + 'Taimoor' + '\\npercentage : ' + str(perc)+' %'+'\\ncgpa : '+str(round((cgpa),2)) + '\\nearn : '+ str(earn))\n",
    "\n"
   ]
  },
  {
   "cell_type": "code",
   "execution_count": 109,
   "metadata": {},
   "outputs": [
    {
     "data": {
      "text/plain": [
       "[1, 2, 3]"
      ]
     },
     "execution_count": 109,
     "metadata": {},
     "output_type": "execute_result"
    }
   ],
   "source": [
    "x={1:'a',2:'b',3:'c'}\n",
    "list(x)"
   ]
  },
  {
   "cell_type": "markdown",
   "metadata": {},
   "source": [
    "## input()"
   ]
  },
  {
   "cell_type": "code",
   "execution_count": 2,
   "metadata": {},
   "outputs": [
    {
     "name": "stdout",
     "output_type": "stream",
     "text": [
      "put value between 2 to 10: 5\n"
     ]
    }
   ],
   "source": [
    "x=input('put value between ' + str(2) + ' to ' + str(10) + ': ')"
   ]
  },
  {
   "cell_type": "code",
   "execution_count": null,
   "metadata": {},
   "outputs": [],
   "source": [
    "x='are you human'\n",
    "x+='\\nare you pakistani'\n",
    "x+='\\nthen please give your name : '\n",
    "name=input(x)\n",
    "print('thank you .... {}'.format(name))"
   ]
  },
  {
   "cell_type": "code",
   "execution_count": 3,
   "metadata": {},
   "outputs": [
    {
     "name": "stdout",
     "output_type": "stream",
     "text": [
      "hi ,\n",
      "good evening \n",
      "please provide your age : 40\n",
      "\n",
      "oo so you are in your 40's\n"
     ]
    }
   ],
   "source": [
    "x='hi ,\\ngood evening '\n",
    "x+= '\\nplease provide your age : ' \n",
    "age = int(input(x))\n",
    "\n",
    "print('\\noo so you are in your %d\\'s'%(age))"
   ]
  },
  {
   "cell_type": "code",
   "execution_count": 5,
   "metadata": {},
   "outputs": [
    {
     "data": {
      "text/plain": [
       "3.0"
      ]
     },
     "execution_count": 5,
     "metadata": {},
     "output_type": "execute_result"
    }
   ],
   "source": [
    "3 % 4 #it give reminder reminder came 3 because  3/4 because maximum 4 can get closer to 3 is 4*0=0 so reminder 3-0=3 \n",
    "      #think of discret not as continutes yes we know in decimal it do get close but modulus does not work on float  multiple\n",
    "    #its multiple list is [0,1,2,3,4,5..]  u can only use these numbers to multiply denominatior\n",
    "    #and then see how close denomiantor get close to numerator then \n",
    "    #then take difference and value is reminder"
   ]
  },
  {
   "cell_type": "code",
   "execution_count": 7,
   "metadata": {},
   "outputs": [
    {
     "data": {
      "text/plain": [
       "1"
      ]
     },
     "execution_count": 7,
     "metadata": {},
     "output_type": "execute_result"
    }
   ],
   "source": [
    "7%3   #3 in denominator so 3 x 2 =6 this is the closest 3 can get to 7 then \n",
    "      #  7-6 =1 "
   ]
  },
  {
   "cell_type": "code",
   "execution_count": 12,
   "metadata": {},
   "outputs": [
    {
     "data": {
      "text/plain": [
       "2"
      ]
     },
     "execution_count": 12,
     "metadata": {},
     "output_type": "execute_result"
    }
   ],
   "source": [
    "-7%3  # in this think of it as circle with 3 points connected where one of the points is reference 0\n",
    "      # now as it is -7 you move back word on those points and count as -1,-2,-3,-4,-5,-6,-7 as so reach point -7 in reverse \n",
    "      # then from that -7 place you move to word zero reference and count to zero and 1,2,... and when you reach zero refernace\n",
    "        #your counting will me reminder think of it as 7 days a weak when someone say to you -15 days what you do after -7 you again \n",
    "        #end up at same place monday,tu,wed,thu,fir,sat,sun,monday,tue"
   ]
  },
  {
   "cell_type": "code",
   "execution_count": 11,
   "metadata": {},
   "outputs": [
    {
     "data": {
      "text/plain": [
       "1"
      ]
     },
     "execution_count": 11,
     "metadata": {},
     "output_type": "execute_result"
    }
   ],
   "source": [
    "4%3"
   ]
  },
  {
   "cell_type": "markdown",
   "metadata": {},
   "source": [
    "## while loop"
   ]
  },
  {
   "cell_type": "code",
   "execution_count": 15,
   "metadata": {},
   "outputs": [
    {
     "name": "stdout",
     "output_type": "stream",
     "text": [
      "doing None\n",
      "doing None\n",
      "doing None\n",
      "done now \n",
      "tell me what to do \n",
      " to quit enter q : a\n",
      "doing a\n",
      "doing a\n",
      "doing a\n",
      "done now \n",
      "tell me what to do \n",
      " to quit enter q : w\n",
      "doing w\n",
      "doing w\n",
      "doing w\n",
      "done now \n",
      "tell me what to do \n",
      " to quit enter q : r\n",
      "doing r\n",
      "doing r\n",
      "doing r\n",
      "done now \n",
      "tell me what to do \n",
      " to quit enter q : y\n",
      "doing y\n",
      "doing y\n",
      "doing y\n",
      "done now \n",
      "tell me what to do \n",
      " to quit enter q : y\n",
      "doing y\n",
      "doing y\n",
      "doing y\n",
      "done now \n",
      "tell me what to do \n",
      " to quit enter q : o\n",
      "doing o\n",
      "doing o\n",
      "doing o\n",
      "done now \n",
      "tell me what to do \n",
      " to quit enter q : p\n",
      "doing p\n",
      "doing p\n",
      "doing p\n",
      "done now \n",
      "tell me what to do \n",
      " to quit enter q : d\n",
      "doing d\n",
      "doing d\n",
      "doing d\n",
      "done now \n",
      "tell me what to do \n",
      " to quit enter q : q\n"
     ]
    }
   ],
   "source": [
    "do=None\n",
    "while do!='q':\n",
    "    print('doing '+str(do))\n",
    "    print('doing '+str(do)) \n",
    "    print('doing '+str(do))\n",
    "    print('done now ')\n",
    "    \n",
    "    do=input('tell me what to do \\n to quit enter q : ')\n",
    "\n"
   ]
  },
  {
   "cell_type": "code",
   "execution_count": 1,
   "metadata": {},
   "outputs": [
    {
     "data": {
      "text/plain": [
       "6.0"
      ]
     },
     "execution_count": 1,
     "metadata": {},
     "output_type": "execute_result"
    }
   ],
   "source": [
    "12/4*2"
   ]
  },
  {
   "cell_type": "code",
   "execution_count": 2,
   "metadata": {},
   "outputs": [
    {
     "data": {
      "text/plain": [
       "24.0"
      ]
     },
     "execution_count": 2,
     "metadata": {},
     "output_type": "execute_result"
    }
   ],
   "source": [
    "12*4/2"
   ]
  },
  {
   "cell_type": "code",
   "execution_count": 3,
   "metadata": {},
   "outputs": [
    {
     "data": {
      "text/plain": [
       "4"
      ]
     },
     "execution_count": 3,
     "metadata": {},
     "output_type": "execute_result"
    }
   ],
   "source": [
    "3+2-1"
   ]
  },
  {
   "cell_type": "code",
   "execution_count": 4,
   "metadata": {},
   "outputs": [
    {
     "data": {
      "text/plain": [
       "2"
      ]
     },
     "execution_count": 4,
     "metadata": {},
     "output_type": "execute_result"
    }
   ],
   "source": [
    "3-2+1"
   ]
  },
  {
   "cell_type": "code",
   "execution_count": 6,
   "metadata": {},
   "outputs": [
    {
     "data": {
      "text/plain": [
       "'Live Demo \\n#!/usr/bin/python\\n\\na = 60            # 60 = 0011 1100 \\nb = 13            # 13 = 0000 1101 \\nc = 0\\n\\nc = a & b;        # 12 = 0000 1100\\nprint \"Line 1 - Value of c is \", c\\n\\nc = a | b;        # 61 = 0011 1101 \\nprint \"Line 2 - Value of c is \", c\\n\\nc = a ^ b;        # 49 = 0011 0001\\nprint \"Line 3 - Value of c is \", c\\n\\nc = ~a;           # -61 = 1100 0011\\nprint \"Line 4 - Value of c is \", c\\n\\nc = a << 2;       # 240 = 1111 0000\\nprint \"Line 5 - Value of c is \", c\\n\\nc = a >> 2;       # 15 = 0000 1111\\nprint \"Line 6 - Value of c is \", c\\n'"
      ]
     },
     "execution_count": 6,
     "metadata": {},
     "output_type": "execute_result"
    }
   ],
   "source": [
    "'''Live Demo \n",
    "#!/usr/bin/python\n",
    "\n",
    "a = 60            # 60 = 0011 1100 \n",
    "b = 13            # 13 = 0000 1101 \n",
    "c = 0\n",
    "\n",
    "c = a & b;        # 12 = 0000 1100\n",
    "print \"Line 1 - Value of c is \", c\n",
    "\n",
    "c = a | b;        # 61 = 0011 1101 \n",
    "print \"Line 2 - Value of c is \", c\n",
    "\n",
    "c = a ^ b;        # 49 = 0011 0001\n",
    "print \"Line 3 - Value of c is \", c\n",
    "\n",
    "c = ~a;           # -61 = 1100 0011\n",
    "print \"Line 4 - Value of c is \", c\n",
    "\n",
    "c = a << 2;       # 240 = 1111 0000\n",
    "print \"Line 5 - Value of c is \", c\n",
    "\n",
    "c = a >> 2;       # 15 = 0000 1111\n",
    "print \"Line 6 - Value of c is \", c\n",
    "'''"
   ]
  },
  {
   "cell_type": "code",
   "execution_count": 9,
   "metadata": {},
   "outputs": [
    {
     "name": "stdout",
     "output_type": "stream",
     "text": [
      "--\n",
      "1 3\n",
      "ok\n",
      "--\n",
      "2 3\n",
      "ok\n",
      "--\n",
      "3 3\n",
      "ok\n",
      "--\n",
      "4 3\n",
      "ok\n"
     ]
    }
   ],
   "source": [
    "b=[1,2,3,4]\n",
    "d=[1,2,3,4]\n",
    "for a in b:\n",
    "    print('--')\n",
    "    for c in d:\n",
    "        if c == 3:\n",
    "            print(a,c)\n",
    "            print(\"ok\")\n",
    "            break"
   ]
  },
  {
   "cell_type": "code",
   "execution_count": null,
   "metadata": {},
   "outputs": [],
   "source": []
  },
  {
   "cell_type": "code",
   "execution_count": null,
   "metadata": {},
   "outputs": [],
   "source": []
  }
 ],
 "metadata": {
  "kernelspec": {
   "display_name": "Python 3",
   "language": "python",
   "name": "python3"
  },
  "language_info": {
   "codemirror_mode": {
    "name": "ipython",
    "version": 3
   },
   "file_extension": ".py",
   "mimetype": "text/x-python",
   "name": "python",
   "nbconvert_exporter": "python",
   "pygments_lexer": "ipython3",
   "version": "3.7.3"
  }
 },
 "nbformat": 4,
 "nbformat_minor": 2
}
