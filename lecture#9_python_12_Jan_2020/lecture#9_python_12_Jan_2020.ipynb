{
 "cells": [
  {
   "cell_type": "markdown",
   "metadata": {},
   "source": [
    "https://ghost.org/blog/markdown/\n",
    "\n",
    "\n",
    "### EXCEPTIONS\n",
    "(abnormla behaviour)\n"
   ]
  },
  {
   "cell_type": "markdown",
   "metadata": {},
   "source": [
    "# MODUL AND PACAKES"
   ]
  },
  {
   "cell_type": "raw",
   "metadata": {},
   "source": [
    "a folder contain all python files.\n",
    "so we call folder as package.\n",
    "and files in that folder/package are called module.\n",
    "\n",
    "for example csv package have open,close, etc module\n",
    "package maturity \n",
    "\n",
    "panda is also mature package \n",
    "tensorflow is also a package \n",
    "\n",
    "we can also create our own packages\n",
    "we can use packages which are already created by downloading"
   ]
  },
  {
   "cell_type": "markdown",
   "metadata": {},
   "source": []
  },
  {
   "cell_type": "code",
   "execution_count": 1,
   "metadata": {},
   "outputs": [
    {
     "data": {
      "text/plain": [
       "5"
      ]
     },
     "execution_count": 1,
     "metadata": {},
     "output_type": "execute_result"
    }
   ],
   "source": [
    "def x():return 5\n",
    "\n",
    "x()"
   ]
  },
  {
   "cell_type": "code",
   "execution_count": 4,
   "metadata": {},
   "outputs": [],
   "source": [
    "import numpy as np\n",
    "import random"
   ]
  },
  {
   "cell_type": "code",
   "execution_count": 43,
   "metadata": {},
   "outputs": [],
   "source": [
    "slab3_4_abs_price=np.arange(553,738,0.185,dtype=float) #starting, ending, gap_btw_two_values"
   ]
  },
  {
   "cell_type": "code",
   "execution_count": 47,
   "metadata": {},
   "outputs": [],
   "source": [
    "slab3_4_relative_price=np.arange(553-553,738-553,0.185,dtype=float) #starting, ending, gap_btw_two_values"
   ]
  },
  {
   "cell_type": "code",
   "execution_count": 121,
   "metadata": {},
   "outputs": [
    {
     "data": {
      "text/plain": [
       "572.427"
      ]
     },
     "execution_count": 121,
     "metadata": {},
     "output_type": "execute_result"
    }
   ],
   "source": [
    "price_in_slab=round(4716.80/8.240,3)\n",
    "price_in_slab"
   ]
  },
  {
   "cell_type": "code",
   "execution_count": 122,
   "metadata": {},
   "outputs": [
    {
     "name": "stdout",
     "output_type": "stream",
     "text": [
      "106\n",
      "-------\n",
      "572.6099999999942\n"
     ]
    },
    {
     "data": {
      "text/plain": [
       "19.609999999994216"
      ]
     },
     "execution_count": 122,
     "metadata": {},
     "output_type": "execute_result"
    }
   ],
   "source": [
    "print(slab3_4_abs_price.searchsorted(price_in_slab),end='\\n-------\\n')\n",
    "print(slab3_4_abs_price[106])\n",
    "slab3_4_abs_price[106]-553"
   ]
  },
  {
   "cell_type": "code",
   "execution_count": 123,
   "metadata": {},
   "outputs": [
    {
     "data": {
      "text/plain": [
       "2.1059999999999883"
      ]
     },
     "execution_count": 123,
     "metadata": {},
     "output_type": "execute_result"
    }
   ],
   "source": [
    "np.arange(2,3,0.001)[106]       #slab3_4_relative_price[106]"
   ]
  },
  {
   "cell_type": "code",
   "execution_count": 124,
   "metadata": {},
   "outputs": [
    {
     "data": {
      "text/plain": [
       "572.8214285714287"
      ]
     },
     "execution_count": 124,
     "metadata": {},
     "output_type": "execute_result"
    }
   ],
   "source": [
    "np.arange(553,738,185/84,dtype=float).searchsorted(round(4716.80/8.240,3))#starting, ending, gap_btw_two_values\n",
    "np.arange(553,738,185/84,dtype=float)[9]"
   ]
  },
  {
   "cell_type": "code",
   "execution_count": 125,
   "metadata": {},
   "outputs": [
    {
     "data": {
      "text/plain": [
       "2.226719488329912"
      ]
     },
     "execution_count": 125,
     "metadata": {},
     "output_type": "execute_result"
    }
   ],
   "source": [
    "np.arange(2,3,1/83.804)[19]"
   ]
  },
  {
   "cell_type": "code",
   "execution_count": 126,
   "metadata": {},
   "outputs": [],
   "source": [
    "import pandas as pd"
   ]
  },
  {
   "cell_type": "code",
   "execution_count": 165,
   "metadata": {},
   "outputs": [
    {
     "ename": "ValueError",
     "evalue": "arrays must all be same length",
     "output_type": "error",
     "traceback": [
      "\u001b[1;31m---------------------------------------------------------------------------\u001b[0m",
      "\u001b[1;31mValueError\u001b[0m                                Traceback (most recent call last)",
      "\u001b[1;32m<ipython-input-165-061ff66f0469>\u001b[0m in \u001b[0;36m<module>\u001b[1;34m\u001b[0m\n\u001b[0;32m      1\u001b[0m \u001b[0mno\u001b[0m\u001b[1;33m=\u001b[0m\u001b[1;36m196\u001b[0m\u001b[1;33m\u001b[0m\u001b[1;33m\u001b[0m\u001b[0m\n\u001b[1;32m----> 2\u001b[1;33m \u001b[0mdf\u001b[0m\u001b[1;33m=\u001b[0m\u001b[0mpd\u001b[0m\u001b[1;33m.\u001b[0m\u001b[0mDataFrame\u001b[0m\u001b[1;33m(\u001b[0m\u001b[1;33m{\u001b[0m\u001b[1;34m'price'\u001b[0m\u001b[1;33m:\u001b[0m\u001b[0mnp\u001b[0m\u001b[1;33m.\u001b[0m\u001b[0marange\u001b[0m\u001b[1;33m(\u001b[0m\u001b[1;36m553\u001b[0m\u001b[1;33m,\u001b[0m\u001b[1;36m738\u001b[0m\u001b[1;33m,\u001b[0m\u001b[1;36m185\u001b[0m\u001b[1;33m/\u001b[0m\u001b[0mno\u001b[0m\u001b[1;33m,\u001b[0m\u001b[0mdtype\u001b[0m\u001b[1;33m=\u001b[0m\u001b[0mfloat\u001b[0m\u001b[1;33m)\u001b[0m\u001b[1;33m,\u001b[0m\u001b[1;34m'unit'\u001b[0m\u001b[1;33m:\u001b[0m\u001b[0mnp\u001b[0m\u001b[1;33m.\u001b[0m\u001b[0marange\u001b[0m\u001b[1;33m(\u001b[0m\u001b[1;36m2\u001b[0m\u001b[1;33m,\u001b[0m\u001b[1;36m3\u001b[0m\u001b[1;33m,\u001b[0m\u001b[1;36m1\u001b[0m\u001b[1;33m/\u001b[0m\u001b[0mno\u001b[0m\u001b[1;33m)\u001b[0m\u001b[1;33m}\u001b[0m\u001b[1;33m)\u001b[0m\u001b[1;33m\u001b[0m\u001b[1;33m\u001b[0m\u001b[0m\n\u001b[0m\u001b[0;32m      3\u001b[0m \u001b[0mdf\u001b[0m\u001b[1;33m\u001b[0m\u001b[1;33m\u001b[0m\u001b[0m\n\u001b[0;32m      4\u001b[0m \u001b[1;31m# df.iloc[20].tolist()[1]\u001b[0m\u001b[1;33m\u001b[0m\u001b[1;33m\u001b[0m\u001b[1;33m\u001b[0m\u001b[0m\n",
      "\u001b[1;32m~\\Anaconda3\\lib\\site-packages\\pandas\\core\\frame.py\u001b[0m in \u001b[0;36m__init__\u001b[1;34m(self, data, index, columns, dtype, copy)\u001b[0m\n\u001b[0;32m    409\u001b[0m             )\n\u001b[0;32m    410\u001b[0m         \u001b[1;32melif\u001b[0m \u001b[0misinstance\u001b[0m\u001b[1;33m(\u001b[0m\u001b[0mdata\u001b[0m\u001b[1;33m,\u001b[0m \u001b[0mdict\u001b[0m\u001b[1;33m)\u001b[0m\u001b[1;33m:\u001b[0m\u001b[1;33m\u001b[0m\u001b[1;33m\u001b[0m\u001b[0m\n\u001b[1;32m--> 411\u001b[1;33m             \u001b[0mmgr\u001b[0m \u001b[1;33m=\u001b[0m \u001b[0minit_dict\u001b[0m\u001b[1;33m(\u001b[0m\u001b[0mdata\u001b[0m\u001b[1;33m,\u001b[0m \u001b[0mindex\u001b[0m\u001b[1;33m,\u001b[0m \u001b[0mcolumns\u001b[0m\u001b[1;33m,\u001b[0m \u001b[0mdtype\u001b[0m\u001b[1;33m=\u001b[0m\u001b[0mdtype\u001b[0m\u001b[1;33m)\u001b[0m\u001b[1;33m\u001b[0m\u001b[1;33m\u001b[0m\u001b[0m\n\u001b[0m\u001b[0;32m    412\u001b[0m         \u001b[1;32melif\u001b[0m \u001b[0misinstance\u001b[0m\u001b[1;33m(\u001b[0m\u001b[0mdata\u001b[0m\u001b[1;33m,\u001b[0m \u001b[0mma\u001b[0m\u001b[1;33m.\u001b[0m\u001b[0mMaskedArray\u001b[0m\u001b[1;33m)\u001b[0m\u001b[1;33m:\u001b[0m\u001b[1;33m\u001b[0m\u001b[1;33m\u001b[0m\u001b[0m\n\u001b[0;32m    413\u001b[0m             \u001b[1;32mimport\u001b[0m \u001b[0mnumpy\u001b[0m\u001b[1;33m.\u001b[0m\u001b[0mma\u001b[0m\u001b[1;33m.\u001b[0m\u001b[0mmrecords\u001b[0m \u001b[1;32mas\u001b[0m \u001b[0mmrecords\u001b[0m\u001b[1;33m\u001b[0m\u001b[1;33m\u001b[0m\u001b[0m\n",
      "\u001b[1;32m~\\Anaconda3\\lib\\site-packages\\pandas\\core\\internals\\construction.py\u001b[0m in \u001b[0;36minit_dict\u001b[1;34m(data, index, columns, dtype)\u001b[0m\n\u001b[0;32m    255\u001b[0m             \u001b[0marr\u001b[0m \u001b[1;32mif\u001b[0m \u001b[1;32mnot\u001b[0m \u001b[0mis_datetime64tz_dtype\u001b[0m\u001b[1;33m(\u001b[0m\u001b[0marr\u001b[0m\u001b[1;33m)\u001b[0m \u001b[1;32melse\u001b[0m \u001b[0marr\u001b[0m\u001b[1;33m.\u001b[0m\u001b[0mcopy\u001b[0m\u001b[1;33m(\u001b[0m\u001b[1;33m)\u001b[0m \u001b[1;32mfor\u001b[0m \u001b[0marr\u001b[0m \u001b[1;32min\u001b[0m \u001b[0marrays\u001b[0m\u001b[1;33m\u001b[0m\u001b[1;33m\u001b[0m\u001b[0m\n\u001b[0;32m    256\u001b[0m         ]\n\u001b[1;32m--> 257\u001b[1;33m     \u001b[1;32mreturn\u001b[0m \u001b[0marrays_to_mgr\u001b[0m\u001b[1;33m(\u001b[0m\u001b[0marrays\u001b[0m\u001b[1;33m,\u001b[0m \u001b[0mdata_names\u001b[0m\u001b[1;33m,\u001b[0m \u001b[0mindex\u001b[0m\u001b[1;33m,\u001b[0m \u001b[0mcolumns\u001b[0m\u001b[1;33m,\u001b[0m \u001b[0mdtype\u001b[0m\u001b[1;33m=\u001b[0m\u001b[0mdtype\u001b[0m\u001b[1;33m)\u001b[0m\u001b[1;33m\u001b[0m\u001b[1;33m\u001b[0m\u001b[0m\n\u001b[0m\u001b[0;32m    258\u001b[0m \u001b[1;33m\u001b[0m\u001b[0m\n\u001b[0;32m    259\u001b[0m \u001b[1;33m\u001b[0m\u001b[0m\n",
      "\u001b[1;32m~\\Anaconda3\\lib\\site-packages\\pandas\\core\\internals\\construction.py\u001b[0m in \u001b[0;36marrays_to_mgr\u001b[1;34m(arrays, arr_names, index, columns, dtype)\u001b[0m\n\u001b[0;32m     75\u001b[0m     \u001b[1;31m# figure out the index, if necessary\u001b[0m\u001b[1;33m\u001b[0m\u001b[1;33m\u001b[0m\u001b[1;33m\u001b[0m\u001b[0m\n\u001b[0;32m     76\u001b[0m     \u001b[1;32mif\u001b[0m \u001b[0mindex\u001b[0m \u001b[1;32mis\u001b[0m \u001b[1;32mNone\u001b[0m\u001b[1;33m:\u001b[0m\u001b[1;33m\u001b[0m\u001b[1;33m\u001b[0m\u001b[0m\n\u001b[1;32m---> 77\u001b[1;33m         \u001b[0mindex\u001b[0m \u001b[1;33m=\u001b[0m \u001b[0mextract_index\u001b[0m\u001b[1;33m(\u001b[0m\u001b[0marrays\u001b[0m\u001b[1;33m)\u001b[0m\u001b[1;33m\u001b[0m\u001b[1;33m\u001b[0m\u001b[0m\n\u001b[0m\u001b[0;32m     78\u001b[0m     \u001b[1;32melse\u001b[0m\u001b[1;33m:\u001b[0m\u001b[1;33m\u001b[0m\u001b[1;33m\u001b[0m\u001b[0m\n\u001b[0;32m     79\u001b[0m         \u001b[0mindex\u001b[0m \u001b[1;33m=\u001b[0m \u001b[0mensure_index\u001b[0m\u001b[1;33m(\u001b[0m\u001b[0mindex\u001b[0m\u001b[1;33m)\u001b[0m\u001b[1;33m\u001b[0m\u001b[1;33m\u001b[0m\u001b[0m\n",
      "\u001b[1;32m~\\Anaconda3\\lib\\site-packages\\pandas\\core\\internals\\construction.py\u001b[0m in \u001b[0;36mextract_index\u001b[1;34m(data)\u001b[0m\n\u001b[0;32m    366\u001b[0m             \u001b[0mlengths\u001b[0m \u001b[1;33m=\u001b[0m \u001b[0mlist\u001b[0m\u001b[1;33m(\u001b[0m\u001b[0mset\u001b[0m\u001b[1;33m(\u001b[0m\u001b[0mraw_lengths\u001b[0m\u001b[1;33m)\u001b[0m\u001b[1;33m)\u001b[0m\u001b[1;33m\u001b[0m\u001b[1;33m\u001b[0m\u001b[0m\n\u001b[0;32m    367\u001b[0m             \u001b[1;32mif\u001b[0m \u001b[0mlen\u001b[0m\u001b[1;33m(\u001b[0m\u001b[0mlengths\u001b[0m\u001b[1;33m)\u001b[0m \u001b[1;33m>\u001b[0m \u001b[1;36m1\u001b[0m\u001b[1;33m:\u001b[0m\u001b[1;33m\u001b[0m\u001b[1;33m\u001b[0m\u001b[0m\n\u001b[1;32m--> 368\u001b[1;33m                 \u001b[1;32mraise\u001b[0m \u001b[0mValueError\u001b[0m\u001b[1;33m(\u001b[0m\u001b[1;34m\"arrays must all be same length\"\u001b[0m\u001b[1;33m)\u001b[0m\u001b[1;33m\u001b[0m\u001b[1;33m\u001b[0m\u001b[0m\n\u001b[0m\u001b[0;32m    369\u001b[0m \u001b[1;33m\u001b[0m\u001b[0m\n\u001b[0;32m    370\u001b[0m             \u001b[1;32mif\u001b[0m \u001b[0mhave_dicts\u001b[0m\u001b[1;33m:\u001b[0m\u001b[1;33m\u001b[0m\u001b[1;33m\u001b[0m\u001b[0m\n",
      "\u001b[1;31mValueError\u001b[0m: arrays must all be same length"
     ]
    }
   ],
   "source": [
    "no=196\n",
    "df=pd.DataFrame({'price':np.arange(553,738,185/no,dtype=float),'unit':np.arange(2,3,1/no)})\n",
    "df\n",
    "# df.iloc[20].tolist()[1]\n"
   ]
  },
  {
   "cell_type": "code",
   "execution_count": 179,
   "metadata": {},
   "outputs": [],
   "source": [
    "for no in range(186,1000,1):\n",
    "#     print(no)\n",
    "    try:\n",
    "        df=pd.DataFrame({'price':np.arange(553,738,185/no,dtype=float),'unit':np.arange(2,3,1/no)})\n",
    "        if df.iloc[20].tolist()[0] in list(range(570,573)):\n",
    "            if  df.iloc[20].tolist()[1] in list(range(2.20,2.25)):\n",
    "                print('-->',no)\n",
    "                break\n",
    "    except ValueError as e:\n",
    "        continue\n",
    "    \n",
    "    "
   ]
  },
  {
   "cell_type": "code",
   "execution_count": 294,
   "metadata": {},
   "outputs": [
    {
     "data": {
      "text/plain": [
       "216071"
      ]
     },
     "execution_count": 294,
     "metadata": {},
     "output_type": "execute_result"
    }
   ],
   "source": [
    "def data_create(current=0,previous=0,ls=[0]):\n",
    "    import math \n",
    "    for taken in ls: \n",
    "#         current=int() #7497931\n",
    "        differ=current-previous\n",
    "#         print('differ ',differ)\n",
    "        hm3=round(((differ*1.0341)/100000),3)\n",
    "        slab_previous_next=math.modf(hm3)\n",
    "        print('hm3 total   ',hm3)\n",
    "        if hm3 >2.0 and hm3 <=3.0:\n",
    "            price_1st = 553\n",
    "            price_2nd =738\n",
    "        if hm3 >1.0 and hm3 <=2.0:\n",
    "            price_1st=300\n",
    "            price_2nd=553\n",
    "        if hm3 >0.5 and hm3<1.0:\n",
    "            price_1st=121\n",
    "            price_2nd=300\n",
    "            slab_previous_next=(hm3-0.5,0.5)\n",
    "\n",
    "        if hm3 <0.5:\n",
    "            price_1st =0\n",
    "            price_2nd =121\n",
    "            \n",
    "        hm3_2nd=slab_previous_next[0]  #round((hm3-2.0),3)\n",
    "        hm3_1st=slab_previous_next[1]\n",
    "            \n",
    "        print('hm3 2nd ',hm3_2nd)\n",
    "        print('hm3 1st ',hm3_1st)\n",
    "        print('-----------------')\n",
    "            \n",
    "        mmbtu_2nd=round(((hm3_2nd*1039)/281.7385),3)\n",
    "        mmbtu_1st=round(((hm3_1st*1039)/281.7385),3)\n",
    "\n",
    "            \n",
    "        print('mmbtu 2nd  ',mmbtu_2nd)\n",
    "        print('mmbut 1st',mmbtu_1st)\n",
    "        print('-----------------')\n",
    "\n",
    "            \n",
    "        charges_2nd=round((mmbtu_2nd*price_2nd),2)\n",
    "        charges_1st = round(mmbtu_1st*price_1st,3)\n",
    "            \n",
    "        print('charges 2nd',charges_2nd)\n",
    "        print('charges 1st',charges_1st)\n",
    "        print('-----------------')\n",
    "            \n",
    "            \n",
    "        print('gas charges',charges_1st+charges_2nd)\n",
    "        if hm3 == 4.000:              \n",
    "            break\n",
    "7497931-7281860\n",
    "#7378560----7571959  this is range of 3 to 4 slab which is 2.00---3.00 unit \n",
    "# -----------------------------------------------------------------\n",
    "\n",
    "#00000000-00048349  this 0.0-0.5    [slab1]  both included reading-->48349\n",
    "#00048350-00096699  this 0.5-1.0    [slab2]  both included reading\n",
    "#00096700-00193399  this 1.0-2.0    [slab3]  both included reading-->96699\n",
    "#00193400-00290098  this 2.0-3.0    [slab4]\n",
    "#00290099-00386798  this 3.0-4.0    [slab5]\n",
    "#00386799-          this 5.0-       [slab6]\n",
    "#similarly\n",
    "\n",
    "#0000000-00193400  this  is range of 4 to 5 slab which is 3.00--4.00 unit\n",
    "# 290099+96699"
   ]
  },
  {
   "cell_type": "code",
   "execution_count": 295,
   "metadata": {},
   "outputs": [
    {
     "name": "stdout",
     "output_type": "stream",
     "text": [
      "hm3 total    2.234\n",
      "hm3 2nd  0.23399999999999999\n",
      "hm3 1st  2.0\n",
      "-----------------\n",
      "mmbtu 2nd   0.863\n",
      "mmbut 1st 7.376\n",
      "-----------------\n",
      "charges 2nd 636.89\n",
      "charges 1st 4078.928\n",
      "-----------------\n",
      "gas charges 4715.818\n"
     ]
    }
   ],
   "source": [
    "data_create(current=7497931,previous=7281860)"
   ]
  },
  {
   "cell_type": "code",
   "execution_count": 296,
   "metadata": {},
   "outputs": [
    {
     "name": "stdout",
     "output_type": "stream",
     "text": [
      "hm3 total    0.313\n",
      "hm3 2nd  0.313\n",
      "hm3 1st  0.0\n",
      "-----------------\n",
      "mmbtu 2nd   1.154\n",
      "mmbut 1st 0.0\n",
      "-----------------\n",
      "charges 2nd 139.63\n",
      "charges 1st 0.0\n",
      "-----------------\n",
      "gas charges 139.63\n"
     ]
    }
   ],
   "source": [
    "data_create(current=118466,previous=88180)"
   ]
  },
  {
   "cell_type": "code",
   "execution_count": 297,
   "metadata": {},
   "outputs": [
    {
     "name": "stdout",
     "output_type": "stream",
     "text": [
      "hm3 total    2.081\n",
      "hm3 2nd  0.08099999999999996\n",
      "hm3 1st  2.0\n",
      "-----------------\n",
      "mmbtu 2nd   0.299\n",
      "mmbut 1st 7.376\n",
      "-----------------\n",
      "charges 2nd 220.66\n",
      "charges 1st 4078.928\n",
      "-----------------\n",
      "gas charges 4299.588\n"
     ]
    }
   ],
   "source": [
    "data_create(current=7281860,previous=7080597)"
   ]
  },
  {
   "cell_type": "code",
   "execution_count": 298,
   "metadata": {},
   "outputs": [
    {
     "name": "stdout",
     "output_type": "stream",
     "text": [
      "hm3 total    1.351\n",
      "hm3 2nd  0.351\n",
      "hm3 1st  1.0\n",
      "-----------------\n",
      "mmbtu 2nd   1.294\n",
      "mmbut 1st 3.688\n",
      "-----------------\n",
      "charges 2nd 715.58\n",
      "charges 1st 1106.4\n",
      "-----------------\n",
      "gas charges 1821.98\n"
     ]
    }
   ],
   "source": [
    "data_create(current=7080597,previous=6950000)"
   ]
  },
  {
   "cell_type": "code",
   "execution_count": 299,
   "metadata": {},
   "outputs": [
    {
     "name": "stdout",
     "output_type": "stream",
     "text": [
      "hm3 total    0.776\n",
      "hm3 2nd  0.276\n",
      "hm3 1st  0.5\n",
      "-----------------\n",
      "mmbtu 2nd   1.018\n",
      "mmbut 1st 1.844\n",
      "-----------------\n",
      "charges 2nd 305.4\n",
      "charges 1st 223.124\n",
      "-----------------\n",
      "gas charges 528.524\n"
     ]
    }
   ],
   "source": [
    "data_create(current=6950000,previous=6875000)"
   ]
  },
  {
   "cell_type": "code",
   "execution_count": 300,
   "metadata": {},
   "outputs": [
    {
     "name": "stdout",
     "output_type": "stream",
     "text": [
      "hm3 total    0.879\n",
      "hm3 2nd  0.379\n",
      "hm3 1st  0.5\n",
      "-----------------\n",
      "mmbtu 2nd   1.398\n",
      "mmbut 1st 1.844\n",
      "-----------------\n",
      "charges 2nd 419.4\n",
      "charges 1st 223.124\n",
      "-----------------\n",
      "gas charges 642.524\n"
     ]
    }
   ],
   "source": [
    "data_create(current=6875000,previous=6790000)"
   ]
  },
  {
   "cell_type": "code",
   "execution_count": 274,
   "metadata": {},
   "outputs": [],
   "source": [
    "# current=int() #7497931\n",
    "# differ=193399\n",
    "# #print('differ ',differ)\n",
    "# hm3=round(((differ*1.0341)/100000),3)\n",
    "# print('hm3    ',hm3)\n",
    "# mmbtu=round(((hm3*1039)/281.7385),3)\n",
    "# print('mmbtu  ',mmbtu)\n",
    "# charges1=round((mmbtu*553),2)\n",
    "# print('charges',charges1)"
   ]
  },
  {
   "cell_type": "code",
   "execution_count": 275,
   "metadata": {},
   "outputs": [],
   "source": [
    "# mmbtu_above_2p00=round(8.240-7.376,3)\n",
    "# mmbtu_above_2p00"
   ]
  },
  {
   "cell_type": "code",
   "execution_count": 276,
   "metadata": {},
   "outputs": [],
   "source": [
    "# charges2=mmbtu_above_2p00*738\n",
    "# charges2"
   ]
  },
  {
   "cell_type": "code",
   "execution_count": 277,
   "metadata": {},
   "outputs": [],
   "source": [
    "# charges1+charges2"
   ]
  },
  {
   "cell_type": "code",
   "execution_count": null,
   "metadata": {},
   "outputs": [],
   "source": []
  }
 ],
 "metadata": {
  "kernelspec": {
   "display_name": "Python 3",
   "language": "python",
   "name": "python3"
  },
  "language_info": {
   "codemirror_mode": {
    "name": "ipython",
    "version": 3
   },
   "file_extension": ".py",
   "mimetype": "text/x-python",
   "name": "python",
   "nbconvert_exporter": "python",
   "pygments_lexer": "ipython3",
   "version": "3.7.3"
  }
 },
 "nbformat": 4,
 "nbformat_minor": 2
}
